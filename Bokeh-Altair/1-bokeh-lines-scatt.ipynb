{
 "cells": [
  {
   "cell_type": "markdown",
   "metadata": {},
   "source": [
    "# Introduction to Bokeh"
   ]
  },
  {
   "cell_type": "markdown",
   "metadata": {},
   "source": [
    "Bokeh is a Python library for creating graphics with high interactivity across various datasets. \n",
    "\n",
    "We must first install bokeh before we can use it."
   ]
  },
  {
   "cell_type": "code",
   "execution_count": 1,
   "metadata": {},
   "outputs": [],
   "source": [
    "import numpy as np\n",
    "import pandas as pd\n",
    "from math import pi\n",
    "from bokeh.palettes import Bokeh"
   ]
  },
  {
   "cell_type": "markdown",
   "metadata": {},
   "source": [
    "## Creating a line plot"
   ]
  },
  {
   "cell_type": "code",
   "execution_count": 2,
   "metadata": {},
   "outputs": [],
   "source": [
    "from bokeh.plotting import figure, show\n",
    "from bokeh.io import output_notebook, output_file, save"
   ]
  },
  {
   "cell_type": "markdown",
   "metadata": {},
   "source": [
    "The `output_notebook()` function allows displaying the Bokeh plots inline in a Jupyter notebook."
   ]
  },
  {
   "cell_type": "code",
   "execution_count": 3,
   "metadata": {},
   "outputs": [
    {
     "data": {
      "text/html": [
       "\n",
       "    <div class=\"bk-root\">\n",
       "        <a href=\"https://bokeh.org\" target=\"_blank\" class=\"bk-logo bk-logo-small bk-logo-notebook\"></a>\n",
       "        <span id=\"1002\">Loading BokehJS ...</span>\n",
       "    </div>"
      ]
     },
     "metadata": {},
     "output_type": "display_data"
    },
    {
     "data": {
      "application/javascript": "\n(function(root) {\n  function now() {\n    return new Date();\n  }\n\n  const force = true;\n\n  if (typeof root._bokeh_onload_callbacks === \"undefined\" || force === true) {\n    root._bokeh_onload_callbacks = [];\n    root._bokeh_is_loading = undefined;\n  }\n\n  const JS_MIME_TYPE = 'application/javascript';\n  const HTML_MIME_TYPE = 'text/html';\n  const EXEC_MIME_TYPE = 'application/vnd.bokehjs_exec.v0+json';\n  const CLASS_NAME = 'output_bokeh rendered_html';\n\n  /**\n   * Render data to the DOM node\n   */\n  function render(props, node) {\n    const script = document.createElement(\"script\");\n    node.appendChild(script);\n  }\n\n  /**\n   * Handle when an output is cleared or removed\n   */\n  function handleClearOutput(event, handle) {\n    const cell = handle.cell;\n\n    const id = cell.output_area._bokeh_element_id;\n    const server_id = cell.output_area._bokeh_server_id;\n    // Clean up Bokeh references\n    if (id != null && id in Bokeh.index) {\n      Bokeh.index[id].model.document.clear();\n      delete Bokeh.index[id];\n    }\n\n    if (server_id !== undefined) {\n      // Clean up Bokeh references\n      const cmd_clean = \"from bokeh.io.state import curstate; print(curstate().uuid_to_server['\" + server_id + \"'].get_sessions()[0].document.roots[0]._id)\";\n      cell.notebook.kernel.execute(cmd_clean, {\n        iopub: {\n          output: function(msg) {\n            const id = msg.content.text.trim();\n            if (id in Bokeh.index) {\n              Bokeh.index[id].model.document.clear();\n              delete Bokeh.index[id];\n            }\n          }\n        }\n      });\n      // Destroy server and session\n      const cmd_destroy = \"import bokeh.io.notebook as ion; ion.destroy_server('\" + server_id + \"')\";\n      cell.notebook.kernel.execute(cmd_destroy);\n    }\n  }\n\n  /**\n   * Handle when a new output is added\n   */\n  function handleAddOutput(event, handle) {\n    const output_area = handle.output_area;\n    const output = handle.output;\n\n    // limit handleAddOutput to display_data with EXEC_MIME_TYPE content only\n    if ((output.output_type != \"display_data\") || (!Object.prototype.hasOwnProperty.call(output.data, EXEC_MIME_TYPE))) {\n      return\n    }\n\n    const toinsert = output_area.element.find(\".\" + CLASS_NAME.split(' ')[0]);\n\n    if (output.metadata[EXEC_MIME_TYPE][\"id\"] !== undefined) {\n      toinsert[toinsert.length - 1].firstChild.textContent = output.data[JS_MIME_TYPE];\n      // store reference to embed id on output_area\n      output_area._bokeh_element_id = output.metadata[EXEC_MIME_TYPE][\"id\"];\n    }\n    if (output.metadata[EXEC_MIME_TYPE][\"server_id\"] !== undefined) {\n      const bk_div = document.createElement(\"div\");\n      bk_div.innerHTML = output.data[HTML_MIME_TYPE];\n      const script_attrs = bk_div.children[0].attributes;\n      for (let i = 0; i < script_attrs.length; i++) {\n        toinsert[toinsert.length - 1].firstChild.setAttribute(script_attrs[i].name, script_attrs[i].value);\n        toinsert[toinsert.length - 1].firstChild.textContent = bk_div.children[0].textContent\n      }\n      // store reference to server id on output_area\n      output_area._bokeh_server_id = output.metadata[EXEC_MIME_TYPE][\"server_id\"];\n    }\n  }\n\n  function register_renderer(events, OutputArea) {\n\n    function append_mime(data, metadata, element) {\n      // create a DOM node to render to\n      const toinsert = this.create_output_subarea(\n        metadata,\n        CLASS_NAME,\n        EXEC_MIME_TYPE\n      );\n      this.keyboard_manager.register_events(toinsert);\n      // Render to node\n      const props = {data: data, metadata: metadata[EXEC_MIME_TYPE]};\n      render(props, toinsert[toinsert.length - 1]);\n      element.append(toinsert);\n      return toinsert\n    }\n\n    /* Handle when an output is cleared or removed */\n    events.on('clear_output.CodeCell', handleClearOutput);\n    events.on('delete.Cell', handleClearOutput);\n\n    /* Handle when a new output is added */\n    events.on('output_added.OutputArea', handleAddOutput);\n\n    /**\n     * Register the mime type and append_mime function with output_area\n     */\n    OutputArea.prototype.register_mime_type(EXEC_MIME_TYPE, append_mime, {\n      /* Is output safe? */\n      safe: true,\n      /* Index of renderer in `output_area.display_order` */\n      index: 0\n    });\n  }\n\n  // register the mime type if in Jupyter Notebook environment and previously unregistered\n  if (root.Jupyter !== undefined) {\n    const events = require('base/js/events');\n    const OutputArea = require('notebook/js/outputarea').OutputArea;\n\n    if (OutputArea.prototype.mime_types().indexOf(EXEC_MIME_TYPE) == -1) {\n      register_renderer(events, OutputArea);\n    }\n  }\n\n  \n  if (typeof (root._bokeh_timeout) === \"undefined\" || force === true) {\n    root._bokeh_timeout = Date.now() + 5000;\n    root._bokeh_failed_load = false;\n  }\n\n  const NB_LOAD_WARNING = {'data': {'text/html':\n     \"<div style='background-color: #fdd'>\\n\"+\n     \"<p>\\n\"+\n     \"BokehJS does not appear to have successfully loaded. If loading BokehJS from CDN, this \\n\"+\n     \"may be due to a slow or bad network connection. Possible fixes:\\n\"+\n     \"</p>\\n\"+\n     \"<ul>\\n\"+\n     \"<li>re-rerun `output_notebook()` to attempt to load from CDN again, or</li>\\n\"+\n     \"<li>use INLINE resources instead, as so:</li>\\n\"+\n     \"</ul>\\n\"+\n     \"<code>\\n\"+\n     \"from bokeh.resources import INLINE\\n\"+\n     \"output_notebook(resources=INLINE)\\n\"+\n     \"</code>\\n\"+\n     \"</div>\"}};\n\n  function display_loaded() {\n    const el = document.getElementById(\"1002\");\n    if (el != null) {\n      el.textContent = \"BokehJS is loading...\";\n    }\n    if (root.Bokeh !== undefined) {\n      if (el != null) {\n        el.textContent = \"BokehJS \" + root.Bokeh.version + \" successfully loaded.\";\n      }\n    } else if (Date.now() < root._bokeh_timeout) {\n      setTimeout(display_loaded, 100)\n    }\n  }\n\n\n  function run_callbacks() {\n    try {\n      root._bokeh_onload_callbacks.forEach(function(callback) {\n        if (callback != null)\n          callback();\n      });\n    } finally {\n      delete root._bokeh_onload_callbacks\n    }\n    console.debug(\"Bokeh: all callbacks have finished\");\n  }\n\n  function load_libs(css_urls, js_urls, callback) {\n    if (css_urls == null) css_urls = [];\n    if (js_urls == null) js_urls = [];\n\n    root._bokeh_onload_callbacks.push(callback);\n    if (root._bokeh_is_loading > 0) {\n      console.debug(\"Bokeh: BokehJS is being loaded, scheduling callback at\", now());\n      return null;\n    }\n    if (js_urls == null || js_urls.length === 0) {\n      run_callbacks();\n      return null;\n    }\n    console.debug(\"Bokeh: BokehJS not loaded, scheduling load and callback at\", now());\n    root._bokeh_is_loading = css_urls.length + js_urls.length;\n\n    function on_load() {\n      root._bokeh_is_loading--;\n      if (root._bokeh_is_loading === 0) {\n        console.debug(\"Bokeh: all BokehJS libraries/stylesheets loaded\");\n        run_callbacks()\n      }\n    }\n\n    function on_error(url) {\n      console.error(\"failed to load \" + url);\n    }\n\n    for (let i = 0; i < css_urls.length; i++) {\n      const url = css_urls[i];\n      const element = document.createElement(\"link\");\n      element.onload = on_load;\n      element.onerror = on_error.bind(null, url);\n      element.rel = \"stylesheet\";\n      element.type = \"text/css\";\n      element.href = url;\n      console.debug(\"Bokeh: injecting link tag for BokehJS stylesheet: \", url);\n      document.body.appendChild(element);\n    }\n\n    for (let i = 0; i < js_urls.length; i++) {\n      const url = js_urls[i];\n      const element = document.createElement('script');\n      element.onload = on_load;\n      element.onerror = on_error.bind(null, url);\n      element.async = false;\n      element.src = url;\n      console.debug(\"Bokeh: injecting script tag for BokehJS library: \", url);\n      document.head.appendChild(element);\n    }\n  };\n\n  function inject_raw_css(css) {\n    const element = document.createElement(\"style\");\n    element.appendChild(document.createTextNode(css));\n    document.body.appendChild(element);\n  }\n\n  \n  const js_urls = [\"https://cdn.bokeh.org/bokeh/release/bokeh-2.4.2.min.js\", \"https://cdn.bokeh.org/bokeh/release/bokeh-gl-2.4.2.min.js\", \"https://cdn.bokeh.org/bokeh/release/bokeh-widgets-2.4.2.min.js\", \"https://cdn.bokeh.org/bokeh/release/bokeh-tables-2.4.2.min.js\", \"https://cdn.bokeh.org/bokeh/release/bokeh-mathjax-2.4.2.min.js\"];\n  const css_urls = [];\n  \n\n  const inline_js = [\n    function(Bokeh) {\n      Bokeh.set_log_level(\"info\");\n    },\n    function(Bokeh) {\n    \n    \n    }\n  ];\n\n  function run_inline_js() {\n    \n    if (root.Bokeh !== undefined || force === true) {\n      \n    for (let i = 0; i < inline_js.length; i++) {\n      inline_js[i].call(root, root.Bokeh);\n    }\n    if (force === true) {\n        display_loaded();\n      }} else if (Date.now() < root._bokeh_timeout) {\n      setTimeout(run_inline_js, 100);\n    } else if (!root._bokeh_failed_load) {\n      console.log(\"Bokeh: BokehJS failed to load within specified timeout.\");\n      root._bokeh_failed_load = true;\n    } else if (force !== true) {\n      const cell = $(document.getElementById(\"1002\")).parents('.cell').data().cell;\n      cell.output_area.append_execute_result(NB_LOAD_WARNING)\n    }\n\n  }\n\n  if (root._bokeh_is_loading === 0) {\n    console.debug(\"Bokeh: BokehJS loaded, going straight to plotting\");\n    run_inline_js();\n  } else {\n    load_libs(css_urls, js_urls, function() {\n      console.debug(\"Bokeh: BokehJS plotting callback run at\", now());\n      run_inline_js();\n    });\n  }\n}(window));",
      "application/vnd.bokehjs_load.v0+json": ""
     },
     "metadata": {},
     "output_type": "display_data"
    }
   ],
   "source": [
    "output_notebook();"
   ]
  },
  {
   "cell_type": "markdown",
   "metadata": {},
   "source": [
    "The data"
   ]
  },
  {
   "cell_type": "code",
   "execution_count": 4,
   "metadata": {},
   "outputs": [],
   "source": [
    "# the data\n",
    "x = [1, 2, 3, 4, 5, 6, 7, 8, 9, 10] \n",
    "y = [8, 4, 6, 3, 4, 3, 5, 4, 6, 5] "
   ]
  },
  {
   "cell_type": "markdown",
   "metadata": {},
   "source": [
    "Creating a new plot with a title and axis labels"
   ]
  },
  {
   "cell_type": "code",
   "execution_count": 5,
   "metadata": {},
   "outputs": [],
   "source": [
    "# creating a new plot with a title and axis labels\n",
    "p = figure(title=\"Simple Line Graph\", \n",
    "            x_axis_label='x', y_axis_label='y')"
   ]
  },
  {
   "cell_type": "code",
   "execution_count": 6,
   "metadata": {},
   "outputs": [],
   "source": [
    "p.line(x, y, line_width=2);"
   ]
  },
  {
   "cell_type": "markdown",
   "metadata": {},
   "source": [
    "The `show()` function displays the Bokeh figure in a web browser or the Jupyter notebook."
   ]
  },
  {
   "cell_type": "code",
   "execution_count": 7,
   "metadata": {},
   "outputs": [
    {
     "data": {
      "text/html": [
       "\n",
       "\n",
       "\n",
       "\n",
       "\n",
       "\n",
       "  <div class=\"bk-root\" id=\"dc573e5f-e7a9-491d-9d7a-a94faa48342f\" data-root-id=\"1003\"></div>\n"
      ]
     },
     "metadata": {},
     "output_type": "display_data"
    },
    {
     "data": {
      "application/javascript": "(function(root) {\n  function embed_document(root) {\n    \n  const docs_json = {\"16ac668a-3bf5-472e-9b3c-ed6db9834aed\":{\"defs\":[],\"roots\":{\"references\":[{\"attributes\":{\"below\":[{\"id\":\"1014\"}],\"center\":[{\"id\":\"1017\"},{\"id\":\"1021\"}],\"left\":[{\"id\":\"1018\"}],\"renderers\":[{\"id\":\"1040\"}],\"title\":{\"id\":\"1004\"},\"toolbar\":{\"id\":\"1029\"},\"x_range\":{\"id\":\"1006\"},\"x_scale\":{\"id\":\"1010\"},\"y_range\":{\"id\":\"1008\"},\"y_scale\":{\"id\":\"1012\"}},\"id\":\"1003\",\"subtype\":\"Figure\",\"type\":\"Plot\"},{\"attributes\":{},\"id\":\"1006\",\"type\":\"DataRange1d\"},{\"attributes\":{\"overlay\":{\"id\":\"1028\"}},\"id\":\"1024\",\"type\":\"BoxZoomTool\"},{\"attributes\":{},\"id\":\"1050\",\"type\":\"Selection\"},{\"attributes\":{\"source\":{\"id\":\"1036\"}},\"id\":\"1041\",\"type\":\"CDSView\"},{\"attributes\":{},\"id\":\"1025\",\"type\":\"SaveTool\"},{\"attributes\":{},\"id\":\"1049\",\"type\":\"UnionRenderers\"},{\"attributes\":{},\"id\":\"1026\",\"type\":\"ResetTool\"},{\"attributes\":{},\"id\":\"1027\",\"type\":\"HelpTool\"},{\"attributes\":{},\"id\":\"1012\",\"type\":\"LinearScale\"},{\"attributes\":{},\"id\":\"1008\",\"type\":\"DataRange1d\"},{\"attributes\":{\"line_alpha\":0.2,\"line_color\":\"#1f77b4\",\"line_width\":2,\"x\":{\"field\":\"x\"},\"y\":{\"field\":\"y\"}},\"id\":\"1039\",\"type\":\"Line\"},{\"attributes\":{},\"id\":\"1015\",\"type\":\"BasicTicker\"},{\"attributes\":{\"bottom_units\":\"screen\",\"coordinates\":null,\"fill_alpha\":0.5,\"fill_color\":\"lightgrey\",\"group\":null,\"left_units\":\"screen\",\"level\":\"overlay\",\"line_alpha\":1.0,\"line_color\":\"black\",\"line_dash\":[4,4],\"line_width\":2,\"right_units\":\"screen\",\"syncable\":false,\"top_units\":\"screen\"},\"id\":\"1028\",\"type\":\"BoxAnnotation\"},{\"attributes\":{},\"id\":\"1023\",\"type\":\"WheelZoomTool\"},{\"attributes\":{\"axis\":{\"id\":\"1018\"},\"coordinates\":null,\"dimension\":1,\"group\":null,\"ticker\":null},\"id\":\"1021\",\"type\":\"Grid\"},{\"attributes\":{\"line_color\":\"#1f77b4\",\"line_width\":2,\"x\":{\"field\":\"x\"},\"y\":{\"field\":\"y\"}},\"id\":\"1037\",\"type\":\"Line\"},{\"attributes\":{},\"id\":\"1045\",\"type\":\"AllLabels\"},{\"attributes\":{\"coordinates\":null,\"group\":null,\"text\":\"Simple Line Graph\"},\"id\":\"1004\",\"type\":\"Title\"},{\"attributes\":{\"axis_label\":\"x\",\"coordinates\":null,\"formatter\":{\"id\":\"1047\"},\"group\":null,\"major_label_policy\":{\"id\":\"1048\"},\"ticker\":{\"id\":\"1015\"}},\"id\":\"1014\",\"type\":\"LinearAxis\"},{\"attributes\":{\"line_alpha\":0.1,\"line_color\":\"#1f77b4\",\"line_width\":2,\"x\":{\"field\":\"x\"},\"y\":{\"field\":\"y\"}},\"id\":\"1038\",\"type\":\"Line\"},{\"attributes\":{\"axis\":{\"id\":\"1014\"},\"coordinates\":null,\"group\":null,\"ticker\":null},\"id\":\"1017\",\"type\":\"Grid\"},{\"attributes\":{\"tools\":[{\"id\":\"1022\"},{\"id\":\"1023\"},{\"id\":\"1024\"},{\"id\":\"1025\"},{\"id\":\"1026\"},{\"id\":\"1027\"}]},\"id\":\"1029\",\"type\":\"Toolbar\"},{\"attributes\":{},\"id\":\"1010\",\"type\":\"LinearScale\"},{\"attributes\":{},\"id\":\"1019\",\"type\":\"BasicTicker\"},{\"attributes\":{\"axis_label\":\"y\",\"coordinates\":null,\"formatter\":{\"id\":\"1044\"},\"group\":null,\"major_label_policy\":{\"id\":\"1045\"},\"ticker\":{\"id\":\"1019\"}},\"id\":\"1018\",\"type\":\"LinearAxis\"},{\"attributes\":{},\"id\":\"1047\",\"type\":\"BasicTickFormatter\"},{\"attributes\":{},\"id\":\"1044\",\"type\":\"BasicTickFormatter\"},{\"attributes\":{\"data\":{\"x\":[1,2,3,4,5,6,7,8,9,10],\"y\":[8,4,6,3,4,3,5,4,6,5]},\"selected\":{\"id\":\"1050\"},\"selection_policy\":{\"id\":\"1049\"}},\"id\":\"1036\",\"type\":\"ColumnDataSource\"},{\"attributes\":{\"coordinates\":null,\"data_source\":{\"id\":\"1036\"},\"glyph\":{\"id\":\"1037\"},\"group\":null,\"hover_glyph\":null,\"muted_glyph\":{\"id\":\"1039\"},\"nonselection_glyph\":{\"id\":\"1038\"},\"view\":{\"id\":\"1041\"}},\"id\":\"1040\",\"type\":\"GlyphRenderer\"},{\"attributes\":{},\"id\":\"1048\",\"type\":\"AllLabels\"},{\"attributes\":{},\"id\":\"1022\",\"type\":\"PanTool\"}],\"root_ids\":[\"1003\"]},\"title\":\"Bokeh Application\",\"version\":\"2.4.2\"}};\n  const render_items = [{\"docid\":\"16ac668a-3bf5-472e-9b3c-ed6db9834aed\",\"root_ids\":[\"1003\"],\"roots\":{\"1003\":\"dc573e5f-e7a9-491d-9d7a-a94faa48342f\"}}];\n  root.Bokeh.embed.embed_items_notebook(docs_json, render_items);\n\n  }\n  if (root.Bokeh !== undefined) {\n    embed_document(root);\n  } else {\n    let attempts = 0;\n    const timer = setInterval(function(root) {\n      if (root.Bokeh !== undefined) {\n        clearInterval(timer);\n        embed_document(root);\n      } else {\n        attempts++;\n        if (attempts > 100) {\n          clearInterval(timer);\n          console.log(\"Bokeh: ERROR: Unable to run BokehJS code because BokehJS library is missing\");\n        }\n      }\n    }, 10, root)\n  }\n})(window);",
      "application/vnd.bokehjs_exec.v0+json": ""
     },
     "metadata": {
      "application/vnd.bokehjs_exec.v0+json": {
       "id": "1003"
      }
     },
     "output_type": "display_data"
    }
   ],
   "source": [
    "# show the results\n",
    "show(p)"
   ]
  },
  {
   "cell_type": "markdown",
   "metadata": {},
   "source": [
    "Changing the graph dimensions (`height` and `width`) and the toolbar position. \n",
    "\n",
    "The values for `toolbar.location` are:\n",
    "- left\n",
    "- right\n",
    "- above\n",
    "- below\n",
    "- None"
   ]
  },
  {
   "cell_type": "code",
   "execution_count": 8,
   "metadata": {},
   "outputs": [],
   "source": [
    "# changing the graph dimensions and the toolbar location\n",
    "p = figure(title=\"Simple Line Graph\", \n",
    "        x_axis_label='x', y_axis_label='y',\n",
    "        toolbar_location='left',\n",
    "        height=400, width=600)"
   ]
  },
  {
   "cell_type": "markdown",
   "metadata": {},
   "source": [
    "Plotting the modified graph"
   ]
  },
  {
   "cell_type": "code",
   "execution_count": 9,
   "metadata": {},
   "outputs": [
    {
     "data": {
      "text/html": [
       "\n",
       "\n",
       "\n",
       "\n",
       "\n",
       "\n",
       "  <div class=\"bk-root\" id=\"e5d8c195-12c2-45c5-a094-761f4a31c30c\" data-root-id=\"1102\"></div>\n"
      ]
     },
     "metadata": {},
     "output_type": "display_data"
    },
    {
     "data": {
      "application/javascript": "(function(root) {\n  function embed_document(root) {\n    \n  const docs_json = {\"55b6a48b-0260-46e0-9fed-f618283bb5bb\":{\"defs\":[],\"roots\":{\"references\":[{\"attributes\":{\"below\":[{\"id\":\"1113\"}],\"center\":[{\"id\":\"1116\"},{\"id\":\"1120\"}],\"height\":400,\"left\":[{\"id\":\"1117\"}],\"renderers\":[{\"id\":\"1139\"}],\"title\":{\"id\":\"1103\"},\"toolbar\":{\"id\":\"1128\"},\"toolbar_location\":\"left\",\"x_range\":{\"id\":\"1105\"},\"x_scale\":{\"id\":\"1109\"},\"y_range\":{\"id\":\"1107\"},\"y_scale\":{\"id\":\"1111\"}},\"id\":\"1102\",\"subtype\":\"Figure\",\"type\":\"Plot\"},{\"attributes\":{},\"id\":\"1105\",\"type\":\"DataRange1d\"},{\"attributes\":{\"line_alpha\":0.1,\"line_color\":\"#1f77b4\",\"line_width\":2,\"x\":{\"field\":\"x\"},\"y\":{\"field\":\"y\"}},\"id\":\"1137\",\"type\":\"Line\"},{\"attributes\":{\"line_alpha\":0.2,\"line_color\":\"#1f77b4\",\"line_width\":2,\"x\":{\"field\":\"x\"},\"y\":{\"field\":\"y\"}},\"id\":\"1138\",\"type\":\"Line\"},{\"attributes\":{},\"id\":\"1107\",\"type\":\"DataRange1d\"},{\"attributes\":{},\"id\":\"1109\",\"type\":\"LinearScale\"},{\"attributes\":{\"axis_label\":\"x\",\"coordinates\":null,\"formatter\":{\"id\":\"1156\"},\"group\":null,\"major_label_policy\":{\"id\":\"1157\"},\"ticker\":{\"id\":\"1114\"}},\"id\":\"1113\",\"type\":\"LinearAxis\"},{\"attributes\":{},\"id\":\"1114\",\"type\":\"BasicTicker\"},{\"attributes\":{\"coordinates\":null,\"group\":null,\"text\":\"Simple Line Graph\"},\"id\":\"1103\",\"type\":\"Title\"},{\"attributes\":{},\"id\":\"1111\",\"type\":\"LinearScale\"},{\"attributes\":{},\"id\":\"1122\",\"type\":\"WheelZoomTool\"},{\"attributes\":{\"coordinates\":null,\"data_source\":{\"id\":\"1135\"},\"glyph\":{\"id\":\"1136\"},\"group\":null,\"hover_glyph\":null,\"muted_glyph\":{\"id\":\"1138\"},\"nonselection_glyph\":{\"id\":\"1137\"},\"view\":{\"id\":\"1140\"}},\"id\":\"1139\",\"type\":\"GlyphRenderer\"},{\"attributes\":{\"axis\":{\"id\":\"1113\"},\"coordinates\":null,\"group\":null,\"ticker\":null},\"id\":\"1116\",\"type\":\"Grid\"},{\"attributes\":{\"axis_label\":\"y\",\"coordinates\":null,\"formatter\":{\"id\":\"1153\"},\"group\":null,\"major_label_policy\":{\"id\":\"1154\"},\"ticker\":{\"id\":\"1118\"}},\"id\":\"1117\",\"type\":\"LinearAxis\"},{\"attributes\":{\"axis\":{\"id\":\"1117\"},\"coordinates\":null,\"dimension\":1,\"group\":null,\"ticker\":null},\"id\":\"1120\",\"type\":\"Grid\"},{\"attributes\":{},\"id\":\"1118\",\"type\":\"BasicTicker\"},{\"attributes\":{},\"id\":\"1126\",\"type\":\"HelpTool\"},{\"attributes\":{},\"id\":\"1159\",\"type\":\"Selection\"},{\"attributes\":{},\"id\":\"1121\",\"type\":\"PanTool\"},{\"attributes\":{\"data\":{\"x\":[1,2,3,4,5,6,7,8,9,10],\"y\":[8,4,6,3,4,3,5,4,6,5]},\"selected\":{\"id\":\"1159\"},\"selection_policy\":{\"id\":\"1158\"}},\"id\":\"1135\",\"type\":\"ColumnDataSource\"},{\"attributes\":{\"overlay\":{\"id\":\"1127\"}},\"id\":\"1123\",\"type\":\"BoxZoomTool\"},{\"attributes\":{},\"id\":\"1153\",\"type\":\"BasicTickFormatter\"},{\"attributes\":{},\"id\":\"1124\",\"type\":\"SaveTool\"},{\"attributes\":{},\"id\":\"1125\",\"type\":\"ResetTool\"},{\"attributes\":{},\"id\":\"1154\",\"type\":\"AllLabels\"},{\"attributes\":{\"line_color\":\"#1f77b4\",\"line_width\":2,\"x\":{\"field\":\"x\"},\"y\":{\"field\":\"y\"}},\"id\":\"1136\",\"type\":\"Line\"},{\"attributes\":{\"bottom_units\":\"screen\",\"coordinates\":null,\"fill_alpha\":0.5,\"fill_color\":\"lightgrey\",\"group\":null,\"left_units\":\"screen\",\"level\":\"overlay\",\"line_alpha\":1.0,\"line_color\":\"black\",\"line_dash\":[4,4],\"line_width\":2,\"right_units\":\"screen\",\"syncable\":false,\"top_units\":\"screen\"},\"id\":\"1127\",\"type\":\"BoxAnnotation\"},{\"attributes\":{\"tools\":[{\"id\":\"1121\"},{\"id\":\"1122\"},{\"id\":\"1123\"},{\"id\":\"1124\"},{\"id\":\"1125\"},{\"id\":\"1126\"}]},\"id\":\"1128\",\"type\":\"Toolbar\"},{\"attributes\":{},\"id\":\"1158\",\"type\":\"UnionRenderers\"},{\"attributes\":{},\"id\":\"1156\",\"type\":\"BasicTickFormatter\"},{\"attributes\":{\"source\":{\"id\":\"1135\"}},\"id\":\"1140\",\"type\":\"CDSView\"},{\"attributes\":{},\"id\":\"1157\",\"type\":\"AllLabels\"}],\"root_ids\":[\"1102\"]},\"title\":\"Bokeh Application\",\"version\":\"2.4.2\"}};\n  const render_items = [{\"docid\":\"55b6a48b-0260-46e0-9fed-f618283bb5bb\",\"root_ids\":[\"1102\"],\"roots\":{\"1102\":\"e5d8c195-12c2-45c5-a094-761f4a31c30c\"}}];\n  root.Bokeh.embed.embed_items_notebook(docs_json, render_items);\n\n  }\n  if (root.Bokeh !== undefined) {\n    embed_document(root);\n  } else {\n    let attempts = 0;\n    const timer = setInterval(function(root) {\n      if (root.Bokeh !== undefined) {\n        clearInterval(timer);\n        embed_document(root);\n      } else {\n        attempts++;\n        if (attempts > 100) {\n          clearInterval(timer);\n          console.log(\"Bokeh: ERROR: Unable to run BokehJS code because BokehJS library is missing\");\n        }\n      }\n    }, 10, root)\n  }\n})(window);",
      "application/vnd.bokehjs_exec.v0+json": ""
     },
     "metadata": {
      "application/vnd.bokehjs_exec.v0+json": {
       "id": "1102"
      }
     },
     "output_type": "display_data"
    }
   ],
   "source": [
    "p.line(x, y, line_width=2);\n",
    "show(p)"
   ]
  },
  {
   "cell_type": "code",
   "execution_count": 10,
   "metadata": {},
   "outputs": [
    {
     "data": {
      "text/html": [
       "\n",
       "\n",
       "\n",
       "\n",
       "\n",
       "\n",
       "  <div class=\"bk-root\" id=\"ce0c6341-eca2-4595-8e4a-95f71eaef181\" data-root-id=\"1102\"></div>\n"
      ]
     },
     "metadata": {},
     "output_type": "display_data"
    },
    {
     "data": {
      "application/javascript": "(function(root) {\n  function embed_document(root) {\n    \n  const docs_json = {\"893e0df6-af6e-4741-b422-b8ede2c2b607\":{\"defs\":[],\"roots\":{\"references\":[{\"attributes\":{\"below\":[{\"id\":\"1113\"}],\"center\":[{\"id\":\"1116\"},{\"id\":\"1120\"}],\"height\":400,\"left\":[{\"id\":\"1117\"}],\"renderers\":[{\"id\":\"1139\"}],\"title\":{\"id\":\"1103\"},\"toolbar\":{\"id\":\"1128\"},\"toolbar_location\":\"above\",\"x_range\":{\"id\":\"1105\"},\"x_scale\":{\"id\":\"1109\"},\"y_range\":{\"id\":\"1107\"},\"y_scale\":{\"id\":\"1111\"}},\"id\":\"1102\",\"subtype\":\"Figure\",\"type\":\"Plot\"},{\"attributes\":{},\"id\":\"1105\",\"type\":\"DataRange1d\"},{\"attributes\":{\"line_alpha\":0.1,\"line_color\":\"#1f77b4\",\"line_width\":2,\"x\":{\"field\":\"x\"},\"y\":{\"field\":\"y\"}},\"id\":\"1137\",\"type\":\"Line\"},{\"attributes\":{\"line_alpha\":0.2,\"line_color\":\"#1f77b4\",\"line_width\":2,\"x\":{\"field\":\"x\"},\"y\":{\"field\":\"y\"}},\"id\":\"1138\",\"type\":\"Line\"},{\"attributes\":{},\"id\":\"1107\",\"type\":\"DataRange1d\"},{\"attributes\":{},\"id\":\"1109\",\"type\":\"LinearScale\"},{\"attributes\":{\"axis_label\":\"x\",\"coordinates\":null,\"formatter\":{\"id\":\"1156\"},\"group\":null,\"major_label_policy\":{\"id\":\"1157\"},\"ticker\":{\"id\":\"1114\"}},\"id\":\"1113\",\"type\":\"LinearAxis\"},{\"attributes\":{},\"id\":\"1114\",\"type\":\"BasicTicker\"},{\"attributes\":{\"coordinates\":null,\"group\":null,\"text\":\"Simple Line Graph\"},\"id\":\"1103\",\"type\":\"Title\"},{\"attributes\":{},\"id\":\"1111\",\"type\":\"LinearScale\"},{\"attributes\":{},\"id\":\"1122\",\"type\":\"WheelZoomTool\"},{\"attributes\":{\"coordinates\":null,\"data_source\":{\"id\":\"1135\"},\"glyph\":{\"id\":\"1136\"},\"group\":null,\"hover_glyph\":null,\"muted_glyph\":{\"id\":\"1138\"},\"nonselection_glyph\":{\"id\":\"1137\"},\"view\":{\"id\":\"1140\"}},\"id\":\"1139\",\"type\":\"GlyphRenderer\"},{\"attributes\":{\"axis\":{\"id\":\"1113\"},\"coordinates\":null,\"group\":null,\"ticker\":null},\"id\":\"1116\",\"type\":\"Grid\"},{\"attributes\":{\"axis_label\":\"y\",\"coordinates\":null,\"formatter\":{\"id\":\"1153\"},\"group\":null,\"major_label_policy\":{\"id\":\"1154\"},\"ticker\":{\"id\":\"1118\"}},\"id\":\"1117\",\"type\":\"LinearAxis\"},{\"attributes\":{\"axis\":{\"id\":\"1117\"},\"coordinates\":null,\"dimension\":1,\"group\":null,\"ticker\":null},\"id\":\"1120\",\"type\":\"Grid\"},{\"attributes\":{},\"id\":\"1118\",\"type\":\"BasicTicker\"},{\"attributes\":{},\"id\":\"1126\",\"type\":\"HelpTool\"},{\"attributes\":{},\"id\":\"1159\",\"type\":\"Selection\"},{\"attributes\":{},\"id\":\"1121\",\"type\":\"PanTool\"},{\"attributes\":{\"data\":{\"x\":[1,2,3,4,5,6,7,8,9,10],\"y\":[8,4,6,3,4,3,5,4,6,5]},\"selected\":{\"id\":\"1159\"},\"selection_policy\":{\"id\":\"1158\"}},\"id\":\"1135\",\"type\":\"ColumnDataSource\"},{\"attributes\":{\"overlay\":{\"id\":\"1127\"}},\"id\":\"1123\",\"type\":\"BoxZoomTool\"},{\"attributes\":{},\"id\":\"1153\",\"type\":\"BasicTickFormatter\"},{\"attributes\":{},\"id\":\"1124\",\"type\":\"SaveTool\"},{\"attributes\":{},\"id\":\"1125\",\"type\":\"ResetTool\"},{\"attributes\":{},\"id\":\"1154\",\"type\":\"AllLabels\"},{\"attributes\":{\"line_color\":\"#1f77b4\",\"line_width\":2,\"x\":{\"field\":\"x\"},\"y\":{\"field\":\"y\"}},\"id\":\"1136\",\"type\":\"Line\"},{\"attributes\":{\"bottom_units\":\"screen\",\"coordinates\":null,\"fill_alpha\":0.5,\"fill_color\":\"lightgrey\",\"group\":null,\"left_units\":\"screen\",\"level\":\"overlay\",\"line_alpha\":1.0,\"line_color\":\"black\",\"line_dash\":[4,4],\"line_width\":2,\"right_units\":\"screen\",\"syncable\":false,\"top_units\":\"screen\"},\"id\":\"1127\",\"type\":\"BoxAnnotation\"},{\"attributes\":{\"tools\":[{\"id\":\"1121\"},{\"id\":\"1122\"},{\"id\":\"1123\"},{\"id\":\"1124\"},{\"id\":\"1125\"},{\"id\":\"1126\"}]},\"id\":\"1128\",\"type\":\"Toolbar\"},{\"attributes\":{},\"id\":\"1158\",\"type\":\"UnionRenderers\"},{\"attributes\":{},\"id\":\"1156\",\"type\":\"BasicTickFormatter\"},{\"attributes\":{\"source\":{\"id\":\"1135\"}},\"id\":\"1140\",\"type\":\"CDSView\"},{\"attributes\":{},\"id\":\"1157\",\"type\":\"AllLabels\"}],\"root_ids\":[\"1102\"]},\"title\":\"Bokeh Application\",\"version\":\"2.4.2\"}};\n  const render_items = [{\"docid\":\"893e0df6-af6e-4741-b422-b8ede2c2b607\",\"root_ids\":[\"1102\"],\"roots\":{\"1102\":\"ce0c6341-eca2-4595-8e4a-95f71eaef181\"}}];\n  root.Bokeh.embed.embed_items_notebook(docs_json, render_items);\n\n  }\n  if (root.Bokeh !== undefined) {\n    embed_document(root);\n  } else {\n    let attempts = 0;\n    const timer = setInterval(function(root) {\n      if (root.Bokeh !== undefined) {\n        clearInterval(timer);\n        embed_document(root);\n      } else {\n        attempts++;\n        if (attempts > 100) {\n          clearInterval(timer);\n          console.log(\"Bokeh: ERROR: Unable to run BokehJS code because BokehJS library is missing\");\n        }\n      }\n    }, 10, root)\n  }\n})(window);",
      "application/vnd.bokehjs_exec.v0+json": ""
     },
     "metadata": {
      "application/vnd.bokehjs_exec.v0+json": {
       "id": "1102"
      }
     },
     "output_type": "display_data"
    }
   ],
   "source": [
    "# changing again the toolbar location\n",
    "p.toolbar_location = 'above'\n",
    "show(p)"
   ]
  },
  {
   "cell_type": "markdown",
   "metadata": {},
   "source": [
    "Adding circles"
   ]
  },
  {
   "cell_type": "code",
   "execution_count": 11,
   "metadata": {},
   "outputs": [
    {
     "data": {
      "text/html": [
       "\n",
       "\n",
       "\n",
       "\n",
       "\n",
       "\n",
       "  <div class=\"bk-root\" id=\"34de0f52-ceef-4170-bbbe-82a4e0fba0af\" data-root-id=\"1102\"></div>\n"
      ]
     },
     "metadata": {},
     "output_type": "display_data"
    },
    {
     "data": {
      "application/javascript": "(function(root) {\n  function embed_document(root) {\n    \n  const docs_json = {\"22f9f17b-5ede-4ccf-93b2-7240b9501016\":{\"defs\":[],\"roots\":{\"references\":[{\"attributes\":{\"below\":[{\"id\":\"1113\"}],\"center\":[{\"id\":\"1116\"},{\"id\":\"1120\"},{\"id\":\"1301\"}],\"height\":400,\"left\":[{\"id\":\"1117\"}],\"renderers\":[{\"id\":\"1139\"},{\"id\":\"1265\"},{\"id\":\"1351\"}],\"title\":{\"id\":\"1103\"},\"toolbar\":{\"id\":\"1128\"},\"toolbar_location\":\"above\",\"x_range\":{\"id\":\"1105\"},\"x_scale\":{\"id\":\"1109\"},\"y_range\":{\"id\":\"1107\"},\"y_scale\":{\"id\":\"1111\"}},\"id\":\"1102\",\"subtype\":\"Figure\",\"type\":\"Plot\"},{\"attributes\":{},\"id\":\"1105\",\"type\":\"DataRange1d\"},{\"attributes\":{},\"id\":\"1287\",\"type\":\"Selection\"},{\"attributes\":{\"line_alpha\":0.1,\"line_color\":\"#1f77b4\",\"line_width\":2,\"x\":{\"field\":\"x\"},\"y\":{\"field\":\"y\"}},\"id\":\"1137\",\"type\":\"Line\"},{\"attributes\":{\"coordinates\":null,\"data_source\":{\"id\":\"1347\"},\"glyph\":{\"id\":\"1348\"},\"group\":null,\"hover_glyph\":null,\"muted_glyph\":{\"id\":\"1350\"},\"nonselection_glyph\":{\"id\":\"1349\"},\"view\":{\"id\":\"1352\"}},\"id\":\"1351\",\"type\":\"GlyphRenderer\"},{\"attributes\":{},\"id\":\"1107\",\"type\":\"DataRange1d\"},{\"attributes\":{\"line_alpha\":0.2,\"line_color\":\"#1f77b4\",\"line_width\":2,\"x\":{\"field\":\"x\"},\"y\":{\"field\":\"y\"}},\"id\":\"1138\",\"type\":\"Line\"},{\"attributes\":{},\"id\":\"1109\",\"type\":\"LinearScale\"},{\"attributes\":{\"axis_label\":\"x\",\"coordinates\":null,\"formatter\":{\"id\":\"1156\"},\"group\":null,\"major_label_policy\":{\"id\":\"1157\"},\"ticker\":{\"id\":\"1114\"}},\"id\":\"1113\",\"type\":\"LinearAxis\"},{\"attributes\":{\"line_color\":\"#1f77b4\",\"line_width\":2,\"x\":{\"field\":\"x\"},\"y\":{\"field\":\"y\"}},\"id\":\"1262\",\"type\":\"Line\"},{\"attributes\":{\"source\":{\"id\":\"1347\"}},\"id\":\"1352\",\"type\":\"CDSView\"},{\"attributes\":{},\"id\":\"1114\",\"type\":\"BasicTicker\"},{\"attributes\":{\"label\":{\"value\":\"line\"},\"renderers\":[{\"id\":\"1265\"}]},\"id\":\"1324\",\"type\":\"LegendItem\"},{\"attributes\":{\"coordinates\":null,\"group\":null,\"text\":\"Simple Line Graph\"},\"id\":\"1103\",\"type\":\"Title\"},{\"attributes\":{},\"id\":\"1111\",\"type\":\"LinearScale\"},{\"attributes\":{\"line_alpha\":0.1,\"line_color\":\"#1f77b4\",\"line_width\":2,\"x\":{\"field\":\"x\"},\"y\":{\"field\":\"y\"}},\"id\":\"1263\",\"type\":\"Line\"},{\"attributes\":{\"fill_alpha\":{\"value\":0.1},\"fill_color\":{\"value\":\"darkorange\"},\"hatch_alpha\":{\"value\":0.1},\"line_alpha\":{\"value\":0.1},\"line_color\":{\"value\":\"white\"},\"size\":{\"value\":8},\"x\":{\"field\":\"x\"},\"y\":{\"field\":\"y\"}},\"id\":\"1349\",\"type\":\"Circle\"},{\"attributes\":{},\"id\":\"1122\",\"type\":\"WheelZoomTool\"},{\"attributes\":{\"coordinates\":null,\"data_source\":{\"id\":\"1135\"},\"glyph\":{\"id\":\"1136\"},\"group\":null,\"hover_glyph\":null,\"muted_glyph\":{\"id\":\"1138\"},\"nonselection_glyph\":{\"id\":\"1137\"},\"view\":{\"id\":\"1140\"}},\"id\":\"1139\",\"type\":\"GlyphRenderer\"},{\"attributes\":{},\"id\":\"1374\",\"type\":\"UnionRenderers\"},{\"attributes\":{\"axis\":{\"id\":\"1113\"},\"coordinates\":null,\"group\":null,\"ticker\":null},\"id\":\"1116\",\"type\":\"Grid\"},{\"attributes\":{\"axis_label\":\"y\",\"coordinates\":null,\"formatter\":{\"id\":\"1153\"},\"group\":null,\"major_label_policy\":{\"id\":\"1154\"},\"ticker\":{\"id\":\"1118\"}},\"id\":\"1117\",\"type\":\"LinearAxis\"},{\"attributes\":{\"axis\":{\"id\":\"1117\"},\"coordinates\":null,\"dimension\":1,\"group\":null,\"ticker\":null},\"id\":\"1120\",\"type\":\"Grid\"},{\"attributes\":{},\"id\":\"1375\",\"type\":\"Selection\"},{\"attributes\":{},\"id\":\"1118\",\"type\":\"BasicTicker\"},{\"attributes\":{},\"id\":\"1126\",\"type\":\"HelpTool\"},{\"attributes\":{\"coordinates\":null,\"group\":null,\"items\":[{\"id\":\"1324\"},{\"id\":\"1391\"}]},\"id\":\"1301\",\"type\":\"Legend\"},{\"attributes\":{},\"id\":\"1159\",\"type\":\"Selection\"},{\"attributes\":{},\"id\":\"1121\",\"type\":\"PanTool\"},{\"attributes\":{\"data\":{\"x\":[1,2,3,4,5,6,7,8,9,10],\"y\":[8,4,6,3,4,3,5,4,6,5]},\"selected\":{\"id\":\"1159\"},\"selection_policy\":{\"id\":\"1158\"}},\"id\":\"1135\",\"type\":\"ColumnDataSource\"},{\"attributes\":{\"overlay\":{\"id\":\"1127\"}},\"id\":\"1123\",\"type\":\"BoxZoomTool\"},{\"attributes\":{},\"id\":\"1153\",\"type\":\"BasicTickFormatter\"},{\"attributes\":{},\"id\":\"1124\",\"type\":\"SaveTool\"},{\"attributes\":{},\"id\":\"1125\",\"type\":\"ResetTool\"},{\"attributes\":{},\"id\":\"1154\",\"type\":\"AllLabels\"},{\"attributes\":{\"line_color\":\"#1f77b4\",\"line_width\":2,\"x\":{\"field\":\"x\"},\"y\":{\"field\":\"y\"}},\"id\":\"1136\",\"type\":\"Line\"},{\"attributes\":{\"bottom_units\":\"screen\",\"coordinates\":null,\"fill_alpha\":0.5,\"fill_color\":\"lightgrey\",\"group\":null,\"left_units\":\"screen\",\"level\":\"overlay\",\"line_alpha\":1.0,\"line_color\":\"black\",\"line_dash\":[4,4],\"line_width\":2,\"right_units\":\"screen\",\"syncable\":false,\"top_units\":\"screen\"},\"id\":\"1127\",\"type\":\"BoxAnnotation\"},{\"attributes\":{\"label\":{\"value\":\"circle\"},\"renderers\":[{\"id\":\"1351\"}]},\"id\":\"1391\",\"type\":\"LegendItem\"},{\"attributes\":{\"coordinates\":null,\"data_source\":{\"id\":\"1261\"},\"glyph\":{\"id\":\"1262\"},\"group\":null,\"hover_glyph\":null,\"muted_glyph\":{\"id\":\"1264\"},\"nonselection_glyph\":{\"id\":\"1263\"},\"view\":{\"id\":\"1266\"}},\"id\":\"1265\",\"type\":\"GlyphRenderer\"},{\"attributes\":{\"data\":{\"x\":[1,2,3,4,5,6,7,8,9,10],\"y\":[8,4,6,3,4,3,5,4,6,5]},\"selected\":{\"id\":\"1287\"},\"selection_policy\":{\"id\":\"1286\"}},\"id\":\"1261\",\"type\":\"ColumnDataSource\"},{\"attributes\":{\"source\":{\"id\":\"1261\"}},\"id\":\"1266\",\"type\":\"CDSView\"},{\"attributes\":{\"fill_alpha\":{\"value\":0.2},\"fill_color\":{\"value\":\"darkorange\"},\"hatch_alpha\":{\"value\":0.2},\"line_alpha\":{\"value\":0.2},\"line_color\":{\"value\":\"white\"},\"size\":{\"value\":8},\"x\":{\"field\":\"x\"},\"y\":{\"field\":\"y\"}},\"id\":\"1350\",\"type\":\"Circle\"},{\"attributes\":{},\"id\":\"1286\",\"type\":\"UnionRenderers\"},{\"attributes\":{\"tools\":[{\"id\":\"1121\"},{\"id\":\"1122\"},{\"id\":\"1123\"},{\"id\":\"1124\"},{\"id\":\"1125\"},{\"id\":\"1126\"}]},\"id\":\"1128\",\"type\":\"Toolbar\"},{\"attributes\":{},\"id\":\"1158\",\"type\":\"UnionRenderers\"},{\"attributes\":{\"line_alpha\":0.2,\"line_color\":\"#1f77b4\",\"line_width\":2,\"x\":{\"field\":\"x\"},\"y\":{\"field\":\"y\"}},\"id\":\"1264\",\"type\":\"Line\"},{\"attributes\":{\"fill_color\":{\"value\":\"darkorange\"},\"line_color\":{\"value\":\"white\"},\"size\":{\"value\":8},\"x\":{\"field\":\"x\"},\"y\":{\"field\":\"y\"}},\"id\":\"1348\",\"type\":\"Circle\"},{\"attributes\":{},\"id\":\"1156\",\"type\":\"BasicTickFormatter\"},{\"attributes\":{\"source\":{\"id\":\"1135\"}},\"id\":\"1140\",\"type\":\"CDSView\"},{\"attributes\":{},\"id\":\"1157\",\"type\":\"AllLabels\"},{\"attributes\":{\"data\":{\"x\":[1,2,3,4,5,6,7,8,9,10],\"y\":[8,4,6,3,4,3,5,4,6,5]},\"selected\":{\"id\":\"1375\"},\"selection_policy\":{\"id\":\"1374\"}},\"id\":\"1347\",\"type\":\"ColumnDataSource\"}],\"root_ids\":[\"1102\"]},\"title\":\"Bokeh Application\",\"version\":\"2.4.2\"}};\n  const render_items = [{\"docid\":\"22f9f17b-5ede-4ccf-93b2-7240b9501016\",\"root_ids\":[\"1102\"],\"roots\":{\"1102\":\"34de0f52-ceef-4170-bbbe-82a4e0fba0af\"}}];\n  root.Bokeh.embed.embed_items_notebook(docs_json, render_items);\n\n  }\n  if (root.Bokeh !== undefined) {\n    embed_document(root);\n  } else {\n    let attempts = 0;\n    const timer = setInterval(function(root) {\n      if (root.Bokeh !== undefined) {\n        clearInterval(timer);\n        embed_document(root);\n      } else {\n        attempts++;\n        if (attempts > 100) {\n          clearInterval(timer);\n          console.log(\"Bokeh: ERROR: Unable to run BokehJS code because BokehJS library is missing\");\n        }\n      }\n    }, 10, root)\n  }\n})(window);",
      "application/vnd.bokehjs_exec.v0+json": ""
     },
     "metadata": {
      "application/vnd.bokehjs_exec.v0+json": {
       "id": "1102"
      }
     },
     "output_type": "display_data"
    }
   ],
   "source": [
    "p.line(x, y, legend_label=\"line\", line_width=2);\n",
    "p.circle(x, y, legend_label=\"circle\", fill_color = \"darkorange\", line_color='white', size = 8);\n",
    "show(p);"
   ]
  },
  {
   "cell_type": "markdown",
   "metadata": {},
   "source": [
    "Adding stars"
   ]
  },
  {
   "cell_type": "code",
   "execution_count": 12,
   "metadata": {},
   "outputs": [
    {
     "data": {
      "text/html": [
       "\n",
       "\n",
       "\n",
       "\n",
       "\n",
       "\n",
       "  <div class=\"bk-root\" id=\"b4358e0c-00d9-4a36-94de-a0c8e4bdb9f8\" data-root-id=\"1102\"></div>\n"
      ]
     },
     "metadata": {},
     "output_type": "display_data"
    },
    {
     "data": {
      "application/javascript": "(function(root) {\n  function embed_document(root) {\n    \n  const docs_json = {\"18816a75-4f30-4de3-b970-6d2b07d2c713\":{\"defs\":[],\"roots\":{\"references\":[{\"attributes\":{\"below\":[{\"id\":\"1113\"}],\"center\":[{\"id\":\"1116\"},{\"id\":\"1120\"},{\"id\":\"1301\"}],\"height\":400,\"left\":[{\"id\":\"1117\"}],\"renderers\":[{\"id\":\"1139\"},{\"id\":\"1265\"},{\"id\":\"1351\"},{\"id\":\"1490\"},{\"id\":\"1564\"},{\"id\":\"1645\"}],\"title\":{\"id\":\"1103\"},\"toolbar\":{\"id\":\"1128\"},\"toolbar_location\":\"above\",\"x_range\":{\"id\":\"1105\"},\"x_scale\":{\"id\":\"1109\"},\"y_range\":{\"id\":\"1107\"},\"y_scale\":{\"id\":\"1111\"}},\"id\":\"1102\",\"subtype\":\"Figure\",\"type\":\"Plot\"},{\"attributes\":{\"line_alpha\":0.1,\"line_color\":\"#1f77b4\",\"line_width\":2,\"x\":{\"field\":\"x\"},\"y\":{\"field\":\"y\"}},\"id\":\"1488\",\"type\":\"Line\"},{\"attributes\":{},\"id\":\"1105\",\"type\":\"DataRange1d\"},{\"attributes\":{},\"id\":\"1287\",\"type\":\"Selection\"},{\"attributes\":{\"line_alpha\":0.1,\"line_color\":\"#1f77b4\",\"line_width\":2,\"x\":{\"field\":\"x\"},\"y\":{\"field\":\"y\"}},\"id\":\"1137\",\"type\":\"Line\"},{\"attributes\":{\"coordinates\":null,\"data_source\":{\"id\":\"1347\"},\"glyph\":{\"id\":\"1348\"},\"group\":null,\"hover_glyph\":null,\"muted_glyph\":{\"id\":\"1350\"},\"nonselection_glyph\":{\"id\":\"1349\"},\"view\":{\"id\":\"1352\"}},\"id\":\"1351\",\"type\":\"GlyphRenderer\"},{\"attributes\":{},\"id\":\"1107\",\"type\":\"DataRange1d\"},{\"attributes\":{\"line_alpha\":0.2,\"line_color\":\"#1f77b4\",\"line_width\":2,\"x\":{\"field\":\"x\"},\"y\":{\"field\":\"y\"}},\"id\":\"1138\",\"type\":\"Line\"},{\"attributes\":{},\"id\":\"1109\",\"type\":\"LinearScale\"},{\"attributes\":{\"coordinates\":null,\"data_source\":{\"id\":\"1641\"},\"glyph\":{\"id\":\"1642\"},\"group\":null,\"hover_glyph\":null,\"muted_glyph\":{\"id\":\"1644\"},\"nonselection_glyph\":{\"id\":\"1643\"},\"view\":{\"id\":\"1646\"}},\"id\":\"1645\",\"type\":\"GlyphRenderer\"},{\"attributes\":{\"axis_label\":\"x\",\"coordinates\":null,\"formatter\":{\"id\":\"1156\"},\"group\":null,\"major_label_policy\":{\"id\":\"1157\"},\"ticker\":{\"id\":\"1114\"}},\"id\":\"1113\",\"type\":\"LinearAxis\"},{\"attributes\":{\"line_color\":\"#1f77b4\",\"line_width\":2,\"x\":{\"field\":\"x\"},\"y\":{\"field\":\"y\"}},\"id\":\"1262\",\"type\":\"Line\"},{\"attributes\":{\"source\":{\"id\":\"1347\"}},\"id\":\"1352\",\"type\":\"CDSView\"},{\"attributes\":{},\"id\":\"1114\",\"type\":\"BasicTicker\"},{\"attributes\":{\"label\":{\"value\":\"line\"},\"renderers\":[{\"id\":\"1265\"},{\"id\":\"1490\"}]},\"id\":\"1324\",\"type\":\"LegendItem\"},{\"attributes\":{\"coordinates\":null,\"group\":null,\"text\":\"Simple Line Graph\"},\"id\":\"1103\",\"type\":\"Title\"},{\"attributes\":{\"data\":{\"x\":[1,2,3,4,5,6,7,8,9,10],\"y\":[8,4,6,3,4,3,5,4,6,5]},\"selected\":{\"id\":\"1675\"},\"selection_policy\":{\"id\":\"1674\"}},\"id\":\"1641\",\"type\":\"ColumnDataSource\"},{\"attributes\":{},\"id\":\"1111\",\"type\":\"LinearScale\"},{\"attributes\":{\"line_alpha\":0.1,\"line_color\":\"#1f77b4\",\"line_width\":2,\"x\":{\"field\":\"x\"},\"y\":{\"field\":\"y\"}},\"id\":\"1263\",\"type\":\"Line\"},{\"attributes\":{\"fill_alpha\":{\"value\":0.1},\"fill_color\":{\"value\":\"darkorange\"},\"hatch_alpha\":{\"value\":0.1},\"line_alpha\":{\"value\":0.1},\"line_color\":{\"value\":\"white\"},\"size\":{\"value\":8},\"x\":{\"field\":\"x\"},\"y\":{\"field\":\"y\"}},\"id\":\"1349\",\"type\":\"Circle\"},{\"attributes\":{},\"id\":\"1122\",\"type\":\"WheelZoomTool\"},{\"attributes\":{\"fill_color\":{\"value\":\"gold\"},\"line_color\":{\"value\":\"#1f77b4\"},\"marker\":{\"value\":\"star\"},\"size\":{\"value\":30},\"x\":{\"field\":\"x\"},\"y\":{\"field\":\"y\"}},\"id\":\"1561\",\"type\":\"Scatter\"},{\"attributes\":{\"fill_alpha\":{\"value\":0.2},\"fill_color\":{\"value\":\"darkorange\"},\"hatch_alpha\":{\"value\":0.2},\"line_alpha\":{\"value\":0.2},\"line_color\":{\"value\":\"white\"},\"size\":{\"value\":8},\"x\":{\"field\":\"x\"},\"y\":{\"field\":\"y\"}},\"id\":\"1644\",\"type\":\"Circle\"},{\"attributes\":{\"coordinates\":null,\"data_source\":{\"id\":\"1135\"},\"glyph\":{\"id\":\"1136\"},\"group\":null,\"hover_glyph\":null,\"muted_glyph\":{\"id\":\"1138\"},\"nonselection_glyph\":{\"id\":\"1137\"},\"view\":{\"id\":\"1140\"}},\"id\":\"1139\",\"type\":\"GlyphRenderer\"},{\"attributes\":{},\"id\":\"1374\",\"type\":\"UnionRenderers\"},{\"attributes\":{\"axis\":{\"id\":\"1113\"},\"coordinates\":null,\"group\":null,\"ticker\":null},\"id\":\"1116\",\"type\":\"Grid\"},{\"attributes\":{\"source\":{\"id\":\"1641\"}},\"id\":\"1646\",\"type\":\"CDSView\"},{\"attributes\":{\"axis_label\":\"y\",\"coordinates\":null,\"formatter\":{\"id\":\"1153\"},\"group\":null,\"major_label_policy\":{\"id\":\"1154\"},\"ticker\":{\"id\":\"1118\"}},\"id\":\"1117\",\"type\":\"LinearAxis\"},{\"attributes\":{\"label\":{\"value\":\"star\"},\"renderers\":[{\"id\":\"1564\"}]},\"id\":\"1612\",\"type\":\"LegendItem\"},{\"attributes\":{\"axis\":{\"id\":\"1117\"},\"coordinates\":null,\"dimension\":1,\"group\":null,\"ticker\":null},\"id\":\"1120\",\"type\":\"Grid\"},{\"attributes\":{\"line_color\":\"#1f77b4\",\"line_width\":2,\"x\":{\"field\":\"x\"},\"y\":{\"field\":\"y\"}},\"id\":\"1487\",\"type\":\"Line\"},{\"attributes\":{},\"id\":\"1375\",\"type\":\"Selection\"},{\"attributes\":{\"fill_alpha\":{\"value\":0.1},\"fill_color\":{\"value\":\"darkorange\"},\"hatch_alpha\":{\"value\":0.1},\"line_alpha\":{\"value\":0.1},\"line_color\":{\"value\":\"white\"},\"size\":{\"value\":8},\"x\":{\"field\":\"x\"},\"y\":{\"field\":\"y\"}},\"id\":\"1643\",\"type\":\"Circle\"},{\"attributes\":{},\"id\":\"1118\",\"type\":\"BasicTicker\"},{\"attributes\":{},\"id\":\"1515\",\"type\":\"UnionRenderers\"},{\"attributes\":{\"fill_alpha\":{\"value\":0.1},\"fill_color\":{\"value\":\"gold\"},\"hatch_alpha\":{\"value\":0.1},\"line_alpha\":{\"value\":0.1},\"line_color\":{\"value\":\"#1f77b4\"},\"marker\":{\"value\":\"star\"},\"size\":{\"value\":30},\"x\":{\"field\":\"x\"},\"y\":{\"field\":\"y\"}},\"id\":\"1562\",\"type\":\"Scatter\"},{\"attributes\":{\"source\":{\"id\":\"1560\"}},\"id\":\"1565\",\"type\":\"CDSView\"},{\"attributes\":{},\"id\":\"1592\",\"type\":\"Selection\"},{\"attributes\":{},\"id\":\"1126\",\"type\":\"HelpTool\"},{\"attributes\":{\"coordinates\":null,\"group\":null,\"items\":[{\"id\":\"1324\"},{\"id\":\"1391\"},{\"id\":\"1612\"}]},\"id\":\"1301\",\"type\":\"Legend\"},{\"attributes\":{},\"id\":\"1159\",\"type\":\"Selection\"},{\"attributes\":{},\"id\":\"1121\",\"type\":\"PanTool\"},{\"attributes\":{\"data\":{\"x\":[1,2,3,4,5,6,7,8,9,10],\"y\":[8,4,6,3,4,3,5,4,6,5]},\"selected\":{\"id\":\"1159\"},\"selection_policy\":{\"id\":\"1158\"}},\"id\":\"1135\",\"type\":\"ColumnDataSource\"},{\"attributes\":{},\"id\":\"1591\",\"type\":\"UnionRenderers\"},{\"attributes\":{\"overlay\":{\"id\":\"1127\"}},\"id\":\"1123\",\"type\":\"BoxZoomTool\"},{\"attributes\":{},\"id\":\"1153\",\"type\":\"BasicTickFormatter\"},{\"attributes\":{},\"id\":\"1674\",\"type\":\"UnionRenderers\"},{\"attributes\":{\"coordinates\":null,\"data_source\":{\"id\":\"1560\"},\"glyph\":{\"id\":\"1561\"},\"group\":null,\"hover_glyph\":null,\"muted_glyph\":{\"id\":\"1563\"},\"nonselection_glyph\":{\"id\":\"1562\"},\"view\":{\"id\":\"1565\"}},\"id\":\"1564\",\"type\":\"GlyphRenderer\"},{\"attributes\":{},\"id\":\"1124\",\"type\":\"SaveTool\"},{\"attributes\":{},\"id\":\"1125\",\"type\":\"ResetTool\"},{\"attributes\":{},\"id\":\"1675\",\"type\":\"Selection\"},{\"attributes\":{},\"id\":\"1154\",\"type\":\"AllLabels\"},{\"attributes\":{\"line_color\":\"#1f77b4\",\"line_width\":2,\"x\":{\"field\":\"x\"},\"y\":{\"field\":\"y\"}},\"id\":\"1136\",\"type\":\"Line\"},{\"attributes\":{\"bottom_units\":\"screen\",\"coordinates\":null,\"fill_alpha\":0.5,\"fill_color\":\"lightgrey\",\"group\":null,\"left_units\":\"screen\",\"level\":\"overlay\",\"line_alpha\":1.0,\"line_color\":\"black\",\"line_dash\":[4,4],\"line_width\":2,\"right_units\":\"screen\",\"syncable\":false,\"top_units\":\"screen\"},\"id\":\"1127\",\"type\":\"BoxAnnotation\"},{\"attributes\":{\"line_alpha\":0.2,\"line_color\":\"#1f77b4\",\"line_width\":2,\"x\":{\"field\":\"x\"},\"y\":{\"field\":\"y\"}},\"id\":\"1489\",\"type\":\"Line\"},{\"attributes\":{\"label\":{\"value\":\"circle\"},\"renderers\":[{\"id\":\"1351\"},{\"id\":\"1645\"}]},\"id\":\"1391\",\"type\":\"LegendItem\"},{\"attributes\":{\"coordinates\":null,\"data_source\":{\"id\":\"1261\"},\"glyph\":{\"id\":\"1262\"},\"group\":null,\"hover_glyph\":null,\"muted_glyph\":{\"id\":\"1264\"},\"nonselection_glyph\":{\"id\":\"1263\"},\"view\":{\"id\":\"1266\"}},\"id\":\"1265\",\"type\":\"GlyphRenderer\"},{\"attributes\":{\"data\":{\"x\":[1,2,3,4,5,6,7,8,9,10],\"y\":[8,4,6,3,4,3,5,4,6,5]},\"selected\":{\"id\":\"1287\"},\"selection_policy\":{\"id\":\"1286\"}},\"id\":\"1261\",\"type\":\"ColumnDataSource\"},{\"attributes\":{\"source\":{\"id\":\"1261\"}},\"id\":\"1266\",\"type\":\"CDSView\"},{\"attributes\":{\"fill_alpha\":{\"value\":0.2},\"fill_color\":{\"value\":\"darkorange\"},\"hatch_alpha\":{\"value\":0.2},\"line_alpha\":{\"value\":0.2},\"line_color\":{\"value\":\"white\"},\"size\":{\"value\":8},\"x\":{\"field\":\"x\"},\"y\":{\"field\":\"y\"}},\"id\":\"1350\",\"type\":\"Circle\"},{\"attributes\":{},\"id\":\"1286\",\"type\":\"UnionRenderers\"},{\"attributes\":{\"tools\":[{\"id\":\"1121\"},{\"id\":\"1122\"},{\"id\":\"1123\"},{\"id\":\"1124\"},{\"id\":\"1125\"},{\"id\":\"1126\"}]},\"id\":\"1128\",\"type\":\"Toolbar\"},{\"attributes\":{},\"id\":\"1158\",\"type\":\"UnionRenderers\"},{\"attributes\":{\"data\":{\"x\":[1,2,3,4,5,6,7,8,9,10],\"y\":[8,4,6,3,4,3,5,4,6,5]},\"selected\":{\"id\":\"1592\"},\"selection_policy\":{\"id\":\"1591\"}},\"id\":\"1560\",\"type\":\"ColumnDataSource\"},{\"attributes\":{\"data\":{\"x\":[1,2,3,4,5,6,7,8,9,10],\"y\":[8,4,6,3,4,3,5,4,6,5]},\"selected\":{\"id\":\"1516\"},\"selection_policy\":{\"id\":\"1515\"}},\"id\":\"1486\",\"type\":\"ColumnDataSource\"},{\"attributes\":{\"line_alpha\":0.2,\"line_color\":\"#1f77b4\",\"line_width\":2,\"x\":{\"field\":\"x\"},\"y\":{\"field\":\"y\"}},\"id\":\"1264\",\"type\":\"Line\"},{\"attributes\":{\"fill_color\":{\"value\":\"darkorange\"},\"line_color\":{\"value\":\"white\"},\"size\":{\"value\":8},\"x\":{\"field\":\"x\"},\"y\":{\"field\":\"y\"}},\"id\":\"1348\",\"type\":\"Circle\"},{\"attributes\":{\"fill_color\":{\"value\":\"darkorange\"},\"line_color\":{\"value\":\"white\"},\"size\":{\"value\":8},\"x\":{\"field\":\"x\"},\"y\":{\"field\":\"y\"}},\"id\":\"1642\",\"type\":\"Circle\"},{\"attributes\":{},\"id\":\"1156\",\"type\":\"BasicTickFormatter\"},{\"attributes\":{\"source\":{\"id\":\"1135\"}},\"id\":\"1140\",\"type\":\"CDSView\"},{\"attributes\":{\"coordinates\":null,\"data_source\":{\"id\":\"1486\"},\"glyph\":{\"id\":\"1487\"},\"group\":null,\"hover_glyph\":null,\"muted_glyph\":{\"id\":\"1489\"},\"nonselection_glyph\":{\"id\":\"1488\"},\"view\":{\"id\":\"1491\"}},\"id\":\"1490\",\"type\":\"GlyphRenderer\"},{\"attributes\":{\"fill_alpha\":{\"value\":0.2},\"fill_color\":{\"value\":\"gold\"},\"hatch_alpha\":{\"value\":0.2},\"line_alpha\":{\"value\":0.2},\"line_color\":{\"value\":\"#1f77b4\"},\"marker\":{\"value\":\"star\"},\"size\":{\"value\":30},\"x\":{\"field\":\"x\"},\"y\":{\"field\":\"y\"}},\"id\":\"1563\",\"type\":\"Scatter\"},{\"attributes\":{\"source\":{\"id\":\"1486\"}},\"id\":\"1491\",\"type\":\"CDSView\"},{\"attributes\":{},\"id\":\"1516\",\"type\":\"Selection\"},{\"attributes\":{},\"id\":\"1157\",\"type\":\"AllLabels\"},{\"attributes\":{\"data\":{\"x\":[1,2,3,4,5,6,7,8,9,10],\"y\":[8,4,6,3,4,3,5,4,6,5]},\"selected\":{\"id\":\"1375\"},\"selection_policy\":{\"id\":\"1374\"}},\"id\":\"1347\",\"type\":\"ColumnDataSource\"}],\"root_ids\":[\"1102\"]},\"title\":\"Bokeh Application\",\"version\":\"2.4.2\"}};\n  const render_items = [{\"docid\":\"18816a75-4f30-4de3-b970-6d2b07d2c713\",\"root_ids\":[\"1102\"],\"roots\":{\"1102\":\"b4358e0c-00d9-4a36-94de-a0c8e4bdb9f8\"}}];\n  root.Bokeh.embed.embed_items_notebook(docs_json, render_items);\n\n  }\n  if (root.Bokeh !== undefined) {\n    embed_document(root);\n  } else {\n    let attempts = 0;\n    const timer = setInterval(function(root) {\n      if (root.Bokeh !== undefined) {\n        clearInterval(timer);\n        embed_document(root);\n      } else {\n        attempts++;\n        if (attempts > 100) {\n          clearInterval(timer);\n          console.log(\"Bokeh: ERROR: Unable to run BokehJS code because BokehJS library is missing\");\n        }\n      }\n    }, 10, root)\n  }\n})(window);",
      "application/vnd.bokehjs_exec.v0+json": ""
     },
     "metadata": {
      "application/vnd.bokehjs_exec.v0+json": {
       "id": "1102"
      }
     },
     "output_type": "display_data"
    }
   ],
   "source": [
    "p.line(x, y, legend_label=\"line\", line_width=2);\n",
    "p.star(x, y, legend_label=\"star\", fill_color='gold', size=30)\n",
    "p.circle(x, y, legend_label=\"circle\", fill_color = \"darkorange\", line_color='white', size = 8);\n",
    "\n",
    "show(p);"
   ]
  },
  {
   "cell_type": "markdown",
   "metadata": {},
   "source": [
    "### Creating a plot with multiple lines"
   ]
  },
  {
   "cell_type": "markdown",
   "metadata": {},
   "source": [
    "The data"
   ]
  },
  {
   "cell_type": "code",
   "execution_count": 13,
   "metadata": {},
   "outputs": [],
   "source": [
    "# the data\n",
    "y2 = [2, 3, 4, 3, 2, 1, 3, 4, 2, 3]\n",
    "y3 = [4, 5, 5, 4, 3, 4, 2, 2, 4, 2]"
   ]
  },
  {
   "cell_type": "markdown",
   "metadata": {},
   "source": [
    "Creating a new plot with title, axis labels, and dimensions"
   ]
  },
  {
   "cell_type": "code",
   "execution_count": 14,
   "metadata": {},
   "outputs": [],
   "source": [
    "p2 = figure(title=\"Multiple Line Graph\", \n",
    "        x_axis_label='x', y_axis_label='y',\n",
    "        height=400, width=600)"
   ]
  },
  {
   "cell_type": "markdown",
   "metadata": {},
   "source": [
    "Adding multiple renderers"
   ]
  },
  {
   "cell_type": "code",
   "execution_count": 15,
   "metadata": {},
   "outputs": [],
   "source": [
    "# add multiple renderers\n",
    "p2.line(x, y,  legend_label=\"line 1\",                 line_width=1)\n",
    "p2.line(x, y2, legend_label=\"line 2\", color=\"red\",    line_dash = \"dashed\",  line_width=1) \n",
    "p2.line(x, y3, legend_label=\"line 3\", color=\"purple\", line_dash = \"dotted\", line_width=2);"
   ]
  },
  {
   "cell_type": "markdown",
   "metadata": {},
   "source": [
    "Show the results"
   ]
  },
  {
   "cell_type": "code",
   "execution_count": 16,
   "metadata": {},
   "outputs": [
    {
     "data": {
      "text/html": [
       "\n",
       "\n",
       "\n",
       "\n",
       "\n",
       "\n",
       "  <div class=\"bk-root\" id=\"65f22c34-7119-41cb-ba81-dd2d08c7c2e0\" data-root-id=\"1827\"></div>\n"
      ]
     },
     "metadata": {},
     "output_type": "display_data"
    },
    {
     "data": {
      "application/javascript": "(function(root) {\n  function embed_document(root) {\n    \n  const docs_json = {\"620504e3-1a84-4494-8464-f229b68e5db1\":{\"defs\":[],\"roots\":{\"references\":[{\"attributes\":{\"below\":[{\"id\":\"1838\"}],\"center\":[{\"id\":\"1841\"},{\"id\":\"1845\"},{\"id\":\"1876\"}],\"height\":400,\"left\":[{\"id\":\"1842\"}],\"renderers\":[{\"id\":\"1864\"},{\"id\":\"1882\"},{\"id\":\"1901\"}],\"title\":{\"id\":\"1828\"},\"toolbar\":{\"id\":\"1853\"},\"x_range\":{\"id\":\"1830\"},\"x_scale\":{\"id\":\"1834\"},\"y_range\":{\"id\":\"1832\"},\"y_scale\":{\"id\":\"1836\"}},\"id\":\"1827\",\"subtype\":\"Figure\",\"type\":\"Plot\"},{\"attributes\":{\"source\":{\"id\":\"1860\"}},\"id\":\"1865\",\"type\":\"CDSView\"},{\"attributes\":{\"source\":{\"id\":\"1897\"}},\"id\":\"1902\",\"type\":\"CDSView\"},{\"attributes\":{\"line_alpha\":0.1,\"line_color\":\"red\",\"line_dash\":[6],\"x\":{\"field\":\"x\"},\"y\":{\"field\":\"y\"}},\"id\":\"1880\",\"type\":\"Line\"},{\"attributes\":{},\"id\":\"1868\",\"type\":\"BasicTickFormatter\"},{\"attributes\":{\"source\":{\"id\":\"1878\"}},\"id\":\"1883\",\"type\":\"CDSView\"},{\"attributes\":{\"line_alpha\":0.1,\"line_color\":\"purple\",\"line_dash\":[2,4],\"line_width\":2,\"x\":{\"field\":\"x\"},\"y\":{\"field\":\"y\"}},\"id\":\"1899\",\"type\":\"Line\"},{\"attributes\":{},\"id\":\"1839\",\"type\":\"BasicTicker\"},{\"attributes\":{\"coordinates\":null,\"data_source\":{\"id\":\"1897\"},\"glyph\":{\"id\":\"1898\"},\"group\":null,\"hover_glyph\":null,\"muted_glyph\":{\"id\":\"1900\"},\"nonselection_glyph\":{\"id\":\"1899\"},\"view\":{\"id\":\"1902\"}},\"id\":\"1901\",\"type\":\"GlyphRenderer\"},{\"attributes\":{},\"id\":\"1874\",\"type\":\"Selection\"},{\"attributes\":{},\"id\":\"1914\",\"type\":\"UnionRenderers\"},{\"attributes\":{},\"id\":\"1849\",\"type\":\"SaveTool\"},{\"attributes\":{},\"id\":\"1893\",\"type\":\"UnionRenderers\"},{\"attributes\":{\"bottom_units\":\"screen\",\"coordinates\":null,\"fill_alpha\":0.5,\"fill_color\":\"lightgrey\",\"group\":null,\"left_units\":\"screen\",\"level\":\"overlay\",\"line_alpha\":1.0,\"line_color\":\"black\",\"line_dash\":[4,4],\"line_width\":2,\"right_units\":\"screen\",\"syncable\":false,\"top_units\":\"screen\"},\"id\":\"1852\",\"type\":\"BoxAnnotation\"},{\"attributes\":{},\"id\":\"1851\",\"type\":\"HelpTool\"},{\"attributes\":{\"line_alpha\":0.1,\"line_color\":\"#1f77b4\",\"x\":{\"field\":\"x\"},\"y\":{\"field\":\"y\"}},\"id\":\"1862\",\"type\":\"Line\"},{\"attributes\":{\"label\":{\"value\":\"line 1\"},\"renderers\":[{\"id\":\"1864\"}]},\"id\":\"1877\",\"type\":\"LegendItem\"},{\"attributes\":{\"line_color\":\"red\",\"line_dash\":[6],\"x\":{\"field\":\"x\"},\"y\":{\"field\":\"y\"}},\"id\":\"1879\",\"type\":\"Line\"},{\"attributes\":{\"data\":{\"x\":[1,2,3,4,5,6,7,8,9,10],\"y\":[4,5,5,4,3,4,2,2,4,2]},\"selected\":{\"id\":\"1915\"},\"selection_policy\":{\"id\":\"1914\"}},\"id\":\"1897\",\"type\":\"ColumnDataSource\"},{\"attributes\":{},\"id\":\"1915\",\"type\":\"Selection\"},{\"attributes\":{},\"id\":\"1850\",\"type\":\"ResetTool\"},{\"attributes\":{\"coordinates\":null,\"group\":null,\"items\":[{\"id\":\"1877\"},{\"id\":\"1896\"},{\"id\":\"1917\"}]},\"id\":\"1876\",\"type\":\"Legend\"},{\"attributes\":{},\"id\":\"1894\",\"type\":\"Selection\"},{\"attributes\":{\"data\":{\"x\":[1,2,3,4,5,6,7,8,9,10],\"y\":[2,3,4,3,2,1,3,4,2,3]},\"selected\":{\"id\":\"1894\"},\"selection_policy\":{\"id\":\"1893\"}},\"id\":\"1878\",\"type\":\"ColumnDataSource\"},{\"attributes\":{},\"id\":\"1843\",\"type\":\"BasicTicker\"},{\"attributes\":{},\"id\":\"1830\",\"type\":\"DataRange1d\"},{\"attributes\":{},\"id\":\"1836\",\"type\":\"LinearScale\"},{\"attributes\":{},\"id\":\"1873\",\"type\":\"UnionRenderers\"},{\"attributes\":{\"line_color\":\"#1f77b4\",\"x\":{\"field\":\"x\"},\"y\":{\"field\":\"y\"}},\"id\":\"1861\",\"type\":\"Line\"},{\"attributes\":{},\"id\":\"1847\",\"type\":\"WheelZoomTool\"},{\"attributes\":{\"line_alpha\":0.2,\"line_color\":\"#1f77b4\",\"x\":{\"field\":\"x\"},\"y\":{\"field\":\"y\"}},\"id\":\"1863\",\"type\":\"Line\"},{\"attributes\":{},\"id\":\"1832\",\"type\":\"DataRange1d\"},{\"attributes\":{},\"id\":\"1872\",\"type\":\"AllLabels\"},{\"attributes\":{},\"id\":\"1834\",\"type\":\"LinearScale\"},{\"attributes\":{\"axis_label\":\"y\",\"coordinates\":null,\"formatter\":{\"id\":\"1868\"},\"group\":null,\"major_label_policy\":{\"id\":\"1869\"},\"ticker\":{\"id\":\"1843\"}},\"id\":\"1842\",\"type\":\"LinearAxis\"},{\"attributes\":{\"overlay\":{\"id\":\"1852\"}},\"id\":\"1848\",\"type\":\"BoxZoomTool\"},{\"attributes\":{\"coordinates\":null,\"group\":null,\"text\":\"Multiple Line Graph\"},\"id\":\"1828\",\"type\":\"Title\"},{\"attributes\":{},\"id\":\"1846\",\"type\":\"PanTool\"},{\"attributes\":{},\"id\":\"1871\",\"type\":\"BasicTickFormatter\"},{\"attributes\":{\"coordinates\":null,\"data_source\":{\"id\":\"1878\"},\"glyph\":{\"id\":\"1879\"},\"group\":null,\"hover_glyph\":null,\"muted_glyph\":{\"id\":\"1881\"},\"nonselection_glyph\":{\"id\":\"1880\"},\"view\":{\"id\":\"1883\"}},\"id\":\"1882\",\"type\":\"GlyphRenderer\"},{\"attributes\":{\"line_color\":\"purple\",\"line_dash\":[2,4],\"line_width\":2,\"x\":{\"field\":\"x\"},\"y\":{\"field\":\"y\"}},\"id\":\"1898\",\"type\":\"Line\"},{\"attributes\":{},\"id\":\"1869\",\"type\":\"AllLabels\"},{\"attributes\":{\"label\":{\"value\":\"line 2\"},\"renderers\":[{\"id\":\"1882\"}]},\"id\":\"1896\",\"type\":\"LegendItem\"},{\"attributes\":{\"axis\":{\"id\":\"1838\"},\"coordinates\":null,\"group\":null,\"ticker\":null},\"id\":\"1841\",\"type\":\"Grid\"},{\"attributes\":{\"line_alpha\":0.2,\"line_color\":\"red\",\"line_dash\":[6],\"x\":{\"field\":\"x\"},\"y\":{\"field\":\"y\"}},\"id\":\"1881\",\"type\":\"Line\"},{\"attributes\":{\"label\":{\"value\":\"line 3\"},\"renderers\":[{\"id\":\"1901\"}]},\"id\":\"1917\",\"type\":\"LegendItem\"},{\"attributes\":{\"coordinates\":null,\"data_source\":{\"id\":\"1860\"},\"glyph\":{\"id\":\"1861\"},\"group\":null,\"hover_glyph\":null,\"muted_glyph\":{\"id\":\"1863\"},\"nonselection_glyph\":{\"id\":\"1862\"},\"view\":{\"id\":\"1865\"}},\"id\":\"1864\",\"type\":\"GlyphRenderer\"},{\"attributes\":{\"data\":{\"x\":[1,2,3,4,5,6,7,8,9,10],\"y\":[8,4,6,3,4,3,5,4,6,5]},\"selected\":{\"id\":\"1874\"},\"selection_policy\":{\"id\":\"1873\"}},\"id\":\"1860\",\"type\":\"ColumnDataSource\"},{\"attributes\":{\"tools\":[{\"id\":\"1846\"},{\"id\":\"1847\"},{\"id\":\"1848\"},{\"id\":\"1849\"},{\"id\":\"1850\"},{\"id\":\"1851\"}]},\"id\":\"1853\",\"type\":\"Toolbar\"},{\"attributes\":{\"axis\":{\"id\":\"1842\"},\"coordinates\":null,\"dimension\":1,\"group\":null,\"ticker\":null},\"id\":\"1845\",\"type\":\"Grid\"},{\"attributes\":{\"line_alpha\":0.2,\"line_color\":\"purple\",\"line_dash\":[2,4],\"line_width\":2,\"x\":{\"field\":\"x\"},\"y\":{\"field\":\"y\"}},\"id\":\"1900\",\"type\":\"Line\"},{\"attributes\":{\"axis_label\":\"x\",\"coordinates\":null,\"formatter\":{\"id\":\"1871\"},\"group\":null,\"major_label_policy\":{\"id\":\"1872\"},\"ticker\":{\"id\":\"1839\"}},\"id\":\"1838\",\"type\":\"LinearAxis\"}],\"root_ids\":[\"1827\"]},\"title\":\"Bokeh Application\",\"version\":\"2.4.2\"}};\n  const render_items = [{\"docid\":\"620504e3-1a84-4494-8464-f229b68e5db1\",\"root_ids\":[\"1827\"],\"roots\":{\"1827\":\"65f22c34-7119-41cb-ba81-dd2d08c7c2e0\"}}];\n  root.Bokeh.embed.embed_items_notebook(docs_json, render_items);\n\n  }\n  if (root.Bokeh !== undefined) {\n    embed_document(root);\n  } else {\n    let attempts = 0;\n    const timer = setInterval(function(root) {\n      if (root.Bokeh !== undefined) {\n        clearInterval(timer);\n        embed_document(root);\n      } else {\n        attempts++;\n        if (attempts > 100) {\n          clearInterval(timer);\n          console.log(\"Bokeh: ERROR: Unable to run BokehJS code because BokehJS library is missing\");\n        }\n      }\n    }, 10, root)\n  }\n})(window);",
      "application/vnd.bokehjs_exec.v0+json": ""
     },
     "metadata": {
      "application/vnd.bokehjs_exec.v0+json": {
       "id": "1827"
      }
     },
     "output_type": "display_data"
    }
   ],
   "source": [
    "# show the results\n",
    "show(p2)"
   ]
  },
  {
   "cell_type": "markdown",
   "metadata": {},
   "source": [
    "## Creating Scatterplots"
   ]
  },
  {
   "cell_type": "markdown",
   "metadata": {},
   "source": [
    "Create a new plot with a title and axis labels"
   ]
  },
  {
   "cell_type": "code",
   "execution_count": 17,
   "metadata": {},
   "outputs": [],
   "source": [
    "# create a new plot with a title and axis labels\n",
    "p3 = figure(title=\"Multiple Circle Graph\", \n",
    "            x_axis_label='x', y_axis_label='y',\n",
    "            height=400, width=600)"
   ]
  },
  {
   "cell_type": "markdown",
   "metadata": {},
   "source": [
    "Use the `circle()` function instead of `line()` to render circles"
   ]
  },
  {
   "cell_type": "code",
   "execution_count": 18,
   "metadata": {},
   "outputs": [
    {
     "data": {
      "text/html": [
       "\n",
       "\n",
       "\n",
       "\n",
       "\n",
       "\n",
       "  <div class=\"bk-root\" id=\"eb3465a4-8b5c-4583-ade5-bb7c7ce1e2c1\" data-root-id=\"2032\"></div>\n"
      ]
     },
     "metadata": {},
     "output_type": "display_data"
    },
    {
     "data": {
      "application/javascript": "(function(root) {\n  function embed_document(root) {\n    \n  const docs_json = {\"939905c9-ccc9-4265-9d29-9c13751ea178\":{\"defs\":[],\"roots\":{\"references\":[{\"attributes\":{\"below\":[{\"id\":\"2043\"}],\"center\":[{\"id\":\"2046\"},{\"id\":\"2050\"},{\"id\":\"2081\"}],\"height\":400,\"left\":[{\"id\":\"2047\"}],\"renderers\":[{\"id\":\"2069\"},{\"id\":\"2087\"},{\"id\":\"2106\"}],\"title\":{\"id\":\"2033\"},\"toolbar\":{\"id\":\"2058\"},\"x_range\":{\"id\":\"2035\"},\"x_scale\":{\"id\":\"2039\"},\"y_range\":{\"id\":\"2037\"},\"y_scale\":{\"id\":\"2041\"}},\"id\":\"2032\",\"subtype\":\"Figure\",\"type\":\"Plot\"},{\"attributes\":{},\"id\":\"2035\",\"type\":\"DataRange1d\"},{\"attributes\":{\"fill_alpha\":{\"value\":0.1},\"fill_color\":{\"value\":\"green\"},\"hatch_alpha\":{\"value\":0.1},\"hatch_color\":{\"value\":\"green\"},\"line_alpha\":{\"value\":0.1},\"line_color\":{\"value\":\"green\"},\"size\":{\"value\":30},\"x\":{\"field\":\"x\"},\"y\":{\"field\":\"y\"}},\"id\":\"2104\",\"type\":\"Circle\"},{\"attributes\":{\"source\":{\"id\":\"2065\"}},\"id\":\"2070\",\"type\":\"CDSView\"},{\"attributes\":{},\"id\":\"2048\",\"type\":\"BasicTicker\"},{\"attributes\":{\"label\":{\"value\":\"circle 3\"},\"renderers\":[{\"id\":\"2106\"}]},\"id\":\"2122\",\"type\":\"LegendItem\"},{\"attributes\":{\"axis\":{\"id\":\"2047\"},\"coordinates\":null,\"dimension\":1,\"group\":null,\"ticker\":null},\"id\":\"2050\",\"type\":\"Grid\"},{\"attributes\":{},\"id\":\"2099\",\"type\":\"Selection\"},{\"attributes\":{\"fill_alpha\":{\"value\":0.2},\"fill_color\":{\"value\":\"#1f77b4\"},\"hatch_alpha\":{\"value\":0.2},\"line_alpha\":{\"value\":0.2},\"line_color\":{\"value\":\"#1f77b4\"},\"size\":{\"value\":10},\"x\":{\"field\":\"x\"},\"y\":{\"field\":\"y\"}},\"id\":\"2068\",\"type\":\"Circle\"},{\"attributes\":{},\"id\":\"2098\",\"type\":\"UnionRenderers\"},{\"attributes\":{},\"id\":\"2120\",\"type\":\"Selection\"},{\"attributes\":{\"data\":{\"x\":[1,2,3,4,5,6,7,8,9,10],\"y\":[2,3,4,3,2,1,3,4,2,3]},\"selected\":{\"id\":\"2099\"},\"selection_policy\":{\"id\":\"2098\"}},\"id\":\"2083\",\"type\":\"ColumnDataSource\"},{\"attributes\":{\"fill_color\":{\"value\":\"green\"},\"hatch_color\":{\"value\":\"green\"},\"line_color\":{\"value\":\"green\"},\"size\":{\"value\":30},\"x\":{\"field\":\"x\"},\"y\":{\"field\":\"y\"}},\"id\":\"2103\",\"type\":\"Circle\"},{\"attributes\":{\"coordinates\":null,\"data_source\":{\"id\":\"2102\"},\"glyph\":{\"id\":\"2103\"},\"group\":null,\"hover_glyph\":null,\"muted_glyph\":{\"id\":\"2105\"},\"nonselection_glyph\":{\"id\":\"2104\"},\"view\":{\"id\":\"2107\"}},\"id\":\"2106\",\"type\":\"GlyphRenderer\"},{\"attributes\":{\"source\":{\"id\":\"2083\"}},\"id\":\"2088\",\"type\":\"CDSView\"},{\"attributes\":{\"coordinates\":null,\"group\":null,\"items\":[{\"id\":\"2082\"},{\"id\":\"2101\"},{\"id\":\"2122\"}]},\"id\":\"2081\",\"type\":\"Legend\"},{\"attributes\":{\"source\":{\"id\":\"2102\"}},\"id\":\"2107\",\"type\":\"CDSView\"},{\"attributes\":{},\"id\":\"2055\",\"type\":\"ResetTool\"},{\"attributes\":{},\"id\":\"2073\",\"type\":\"BasicTickFormatter\"},{\"attributes\":{\"fill_color\":{\"value\":\"red\"},\"hatch_color\":{\"value\":\"red\"},\"line_color\":{\"value\":\"red\"},\"size\":{\"value\":20},\"x\":{\"field\":\"x\"},\"y\":{\"field\":\"y\"}},\"id\":\"2084\",\"type\":\"Circle\"},{\"attributes\":{\"fill_alpha\":{\"value\":0.1},\"fill_color\":{\"value\":\"#1f77b4\"},\"hatch_alpha\":{\"value\":0.1},\"line_alpha\":{\"value\":0.1},\"line_color\":{\"value\":\"#1f77b4\"},\"size\":{\"value\":10},\"x\":{\"field\":\"x\"},\"y\":{\"field\":\"y\"}},\"id\":\"2067\",\"type\":\"Circle\"},{\"attributes\":{\"axis_label\":\"x\",\"coordinates\":null,\"formatter\":{\"id\":\"2076\"},\"group\":null,\"major_label_policy\":{\"id\":\"2077\"},\"ticker\":{\"id\":\"2044\"}},\"id\":\"2043\",\"type\":\"LinearAxis\"},{\"attributes\":{\"coordinates\":null,\"data_source\":{\"id\":\"2083\"},\"glyph\":{\"id\":\"2084\"},\"group\":null,\"hover_glyph\":null,\"muted_glyph\":{\"id\":\"2086\"},\"nonselection_glyph\":{\"id\":\"2085\"},\"view\":{\"id\":\"2088\"}},\"id\":\"2087\",\"type\":\"GlyphRenderer\"},{\"attributes\":{},\"id\":\"2079\",\"type\":\"Selection\"},{\"attributes\":{\"axis\":{\"id\":\"2043\"},\"coordinates\":null,\"group\":null,\"ticker\":null},\"id\":\"2046\",\"type\":\"Grid\"},{\"attributes\":{\"axis_label\":\"y\",\"coordinates\":null,\"formatter\":{\"id\":\"2073\"},\"group\":null,\"major_label_policy\":{\"id\":\"2074\"},\"ticker\":{\"id\":\"2048\"}},\"id\":\"2047\",\"type\":\"LinearAxis\"},{\"attributes\":{\"tools\":[{\"id\":\"2051\"},{\"id\":\"2052\"},{\"id\":\"2053\"},{\"id\":\"2054\"},{\"id\":\"2055\"},{\"id\":\"2056\"}]},\"id\":\"2058\",\"type\":\"Toolbar\"},{\"attributes\":{},\"id\":\"2037\",\"type\":\"DataRange1d\"},{\"attributes\":{},\"id\":\"2052\",\"type\":\"WheelZoomTool\"},{\"attributes\":{},\"id\":\"2078\",\"type\":\"UnionRenderers\"},{\"attributes\":{\"fill_color\":{\"value\":\"#1f77b4\"},\"line_color\":{\"value\":\"#1f77b4\"},\"size\":{\"value\":10},\"x\":{\"field\":\"x\"},\"y\":{\"field\":\"y\"}},\"id\":\"2066\",\"type\":\"Circle\"},{\"attributes\":{\"fill_alpha\":{\"value\":0.2},\"fill_color\":{\"value\":\"red\"},\"hatch_alpha\":{\"value\":0.2},\"hatch_color\":{\"value\":\"red\"},\"line_alpha\":{\"value\":0.2},\"line_color\":{\"value\":\"red\"},\"size\":{\"value\":20},\"x\":{\"field\":\"x\"},\"y\":{\"field\":\"y\"}},\"id\":\"2086\",\"type\":\"Circle\"},{\"attributes\":{\"data\":{\"x\":[1,2,3,4,5,6,7,8,9,10],\"y\":[8,4,6,3,4,3,5,4,6,5]},\"selected\":{\"id\":\"2079\"},\"selection_policy\":{\"id\":\"2078\"}},\"id\":\"2065\",\"type\":\"ColumnDataSource\"},{\"attributes\":{},\"id\":\"2044\",\"type\":\"BasicTicker\"},{\"attributes\":{\"fill_alpha\":{\"value\":0.1},\"fill_color\":{\"value\":\"red\"},\"hatch_alpha\":{\"value\":0.1},\"hatch_color\":{\"value\":\"red\"},\"line_alpha\":{\"value\":0.1},\"line_color\":{\"value\":\"red\"},\"size\":{\"value\":20},\"x\":{\"field\":\"x\"},\"y\":{\"field\":\"y\"}},\"id\":\"2085\",\"type\":\"Circle\"},{\"attributes\":{},\"id\":\"2119\",\"type\":\"UnionRenderers\"},{\"attributes\":{},\"id\":\"2077\",\"type\":\"AllLabels\"},{\"attributes\":{},\"id\":\"2056\",\"type\":\"HelpTool\"},{\"attributes\":{},\"id\":\"2054\",\"type\":\"SaveTool\"},{\"attributes\":{},\"id\":\"2041\",\"type\":\"LinearScale\"},{\"attributes\":{\"fill_alpha\":{\"value\":0.2},\"fill_color\":{\"value\":\"green\"},\"hatch_alpha\":{\"value\":0.2},\"hatch_color\":{\"value\":\"green\"},\"line_alpha\":{\"value\":0.2},\"line_color\":{\"value\":\"green\"},\"size\":{\"value\":30},\"x\":{\"field\":\"x\"},\"y\":{\"field\":\"y\"}},\"id\":\"2105\",\"type\":\"Circle\"},{\"attributes\":{},\"id\":\"2076\",\"type\":\"BasicTickFormatter\"},{\"attributes\":{\"label\":{\"value\":\"circle 1\"},\"renderers\":[{\"id\":\"2069\"}]},\"id\":\"2082\",\"type\":\"LegendItem\"},{\"attributes\":{\"bottom_units\":\"screen\",\"coordinates\":null,\"fill_alpha\":0.5,\"fill_color\":\"lightgrey\",\"group\":null,\"left_units\":\"screen\",\"level\":\"overlay\",\"line_alpha\":1.0,\"line_color\":\"black\",\"line_dash\":[4,4],\"line_width\":2,\"right_units\":\"screen\",\"syncable\":false,\"top_units\":\"screen\"},\"id\":\"2057\",\"type\":\"BoxAnnotation\"},{\"attributes\":{\"coordinates\":null,\"group\":null,\"text\":\"Multiple Circle Graph\"},\"id\":\"2033\",\"type\":\"Title\"},{\"attributes\":{},\"id\":\"2074\",\"type\":\"AllLabels\"},{\"attributes\":{},\"id\":\"2051\",\"type\":\"PanTool\"},{\"attributes\":{\"overlay\":{\"id\":\"2057\"}},\"id\":\"2053\",\"type\":\"BoxZoomTool\"},{\"attributes\":{\"label\":{\"value\":\"circle 2\"},\"renderers\":[{\"id\":\"2087\"}]},\"id\":\"2101\",\"type\":\"LegendItem\"},{\"attributes\":{\"data\":{\"x\":[1,2,3,4,5,6,7,8,9,10],\"y\":[4,5,5,4,3,4,2,2,4,2]},\"selected\":{\"id\":\"2120\"},\"selection_policy\":{\"id\":\"2119\"}},\"id\":\"2102\",\"type\":\"ColumnDataSource\"},{\"attributes\":{},\"id\":\"2039\",\"type\":\"LinearScale\"},{\"attributes\":{\"coordinates\":null,\"data_source\":{\"id\":\"2065\"},\"glyph\":{\"id\":\"2066\"},\"group\":null,\"hover_glyph\":null,\"muted_glyph\":{\"id\":\"2068\"},\"nonselection_glyph\":{\"id\":\"2067\"},\"view\":{\"id\":\"2070\"}},\"id\":\"2069\",\"type\":\"GlyphRenderer\"}],\"root_ids\":[\"2032\"]},\"title\":\"Bokeh Application\",\"version\":\"2.4.2\"}};\n  const render_items = [{\"docid\":\"939905c9-ccc9-4265-9d29-9c13751ea178\",\"root_ids\":[\"2032\"],\"roots\":{\"2032\":\"eb3465a4-8b5c-4583-ade5-bb7c7ce1e2c1\"}}];\n  root.Bokeh.embed.embed_items_notebook(docs_json, render_items);\n\n  }\n  if (root.Bokeh !== undefined) {\n    embed_document(root);\n  } else {\n    let attempts = 0;\n    const timer = setInterval(function(root) {\n      if (root.Bokeh !== undefined) {\n        clearInterval(timer);\n        embed_document(root);\n      } else {\n        attempts++;\n        if (attempts > 100) {\n          clearInterval(timer);\n          console.log(\"Bokeh: ERROR: Unable to run BokehJS code because BokehJS library is missing\");\n        }\n      }\n    }, 10, root)\n  }\n})(window);",
      "application/vnd.bokehjs_exec.v0+json": ""
     },
     "metadata": {
      "application/vnd.bokehjs_exec.v0+json": {
       "id": "2032"
      }
     },
     "output_type": "display_data"
    }
   ],
   "source": [
    "# add multiple renderers\n",
    "p3.circle(x, y , legend_label=\"circle 1\",               size=10)\n",
    "p3.circle(x, y2, legend_label=\"circle 2\", color=\"red\",  size=20)\n",
    "p3.circle(x, y3, legend_label=\"circle 3\", color=\"green\",size=30)\n",
    "show(p3)"
   ]
  },
  {
   "cell_type": "markdown",
   "metadata": {},
   "source": [
    "### Adjusting parameters"
   ]
  },
  {
   "cell_type": "code",
   "execution_count": 19,
   "metadata": {},
   "outputs": [],
   "source": [
    "p3.circle(x, y, legend_label=\"circle 1\", fill_color=\"navy\", fill_alpha=0.1, \n",
    "        line_color=\"black\", size=10)\n",
    "p3.circle(x, y2, legend_label=\"circle 2\", fill_color=\"red\", fill_alpha=0.3, \n",
    "        line_color=\"black\", size=20)\n",
    "p3.circle(x, y3, legend_label=\"circle 3\", fill_color=\"green\", fill_alpha=0.3, \n",
    "        line_color=\"black\", size=30);"
   ]
  },
  {
   "cell_type": "markdown",
   "metadata": {},
   "source": [
    "Display legend in the top left corner (default is the top right corner)"
   ]
  },
  {
   "cell_type": "code",
   "execution_count": 20,
   "metadata": {},
   "outputs": [],
   "source": [
    "p3.legend.location = \"top_left\""
   ]
  },
  {
   "cell_type": "markdown",
   "metadata": {},
   "source": [
    "Display legend in the top center"
   ]
  },
  {
   "cell_type": "code",
   "execution_count": 21,
   "metadata": {},
   "outputs": [
    {
     "data": {
      "text/html": [
       "\n",
       "\n",
       "\n",
       "\n",
       "\n",
       "\n",
       "  <div class=\"bk-root\" id=\"64eff241-2db2-4b92-8f53-761317d6dd57\" data-root-id=\"2032\"></div>\n"
      ]
     },
     "metadata": {},
     "output_type": "display_data"
    },
    {
     "data": {
      "application/javascript": "(function(root) {\n  function embed_document(root) {\n    \n  const docs_json = {\"4a5f299b-a189-4219-ad14-5bbac5923a7d\":{\"defs\":[],\"roots\":{\"references\":[{\"attributes\":{\"below\":[{\"id\":\"2043\"}],\"center\":[{\"id\":\"2046\"},{\"id\":\"2050\"},{\"id\":\"2081\"}],\"height\":400,\"left\":[{\"id\":\"2047\"}],\"renderers\":[{\"id\":\"2069\"},{\"id\":\"2087\"},{\"id\":\"2106\"},{\"id\":\"2255\"},{\"id\":\"2397\"},{\"id\":\"2545\"}],\"title\":{\"id\":\"2033\"},\"toolbar\":{\"id\":\"2058\"},\"x_range\":{\"id\":\"2035\"},\"x_scale\":{\"id\":\"2039\"},\"y_range\":{\"id\":\"2037\"},\"y_scale\":{\"id\":\"2041\"}},\"id\":\"2032\",\"subtype\":\"Figure\",\"type\":\"Plot\"},{\"attributes\":{},\"id\":\"2035\",\"type\":\"DataRange1d\"},{\"attributes\":{\"fill_alpha\":{\"value\":0.1},\"fill_color\":{\"value\":\"green\"},\"hatch_alpha\":{\"value\":0.1},\"hatch_color\":{\"value\":\"green\"},\"line_alpha\":{\"value\":0.1},\"line_color\":{\"value\":\"green\"},\"size\":{\"value\":30},\"x\":{\"field\":\"x\"},\"y\":{\"field\":\"y\"}},\"id\":\"2104\",\"type\":\"Circle\"},{\"attributes\":{\"fill_alpha\":{\"value\":0.2},\"fill_color\":{\"value\":\"navy\"},\"hatch_alpha\":{\"value\":0.2},\"line_alpha\":{\"value\":0.2},\"size\":{\"value\":10},\"x\":{\"field\":\"x\"},\"y\":{\"field\":\"y\"}},\"id\":\"2254\",\"type\":\"Circle\"},{\"attributes\":{\"coordinates\":null,\"data_source\":{\"id\":\"2251\"},\"glyph\":{\"id\":\"2252\"},\"group\":null,\"hover_glyph\":null,\"muted_glyph\":{\"id\":\"2254\"},\"nonselection_glyph\":{\"id\":\"2253\"},\"view\":{\"id\":\"2256\"}},\"id\":\"2255\",\"type\":\"GlyphRenderer\"},{\"attributes\":{\"source\":{\"id\":\"2065\"}},\"id\":\"2070\",\"type\":\"CDSView\"},{\"attributes\":{},\"id\":\"2048\",\"type\":\"BasicTicker\"},{\"attributes\":{\"axis\":{\"id\":\"2047\"},\"coordinates\":null,\"dimension\":1,\"group\":null,\"ticker\":null},\"id\":\"2050\",\"type\":\"Grid\"},{\"attributes\":{\"label\":{\"value\":\"circle 3\"},\"renderers\":[{\"id\":\"2106\"},{\"id\":\"2545\"}]},\"id\":\"2122\",\"type\":\"LegendItem\"},{\"attributes\":{},\"id\":\"2099\",\"type\":\"Selection\"},{\"attributes\":{\"fill_alpha\":{\"value\":0.2},\"fill_color\":{\"value\":\"#1f77b4\"},\"hatch_alpha\":{\"value\":0.2},\"line_alpha\":{\"value\":0.2},\"line_color\":{\"value\":\"#1f77b4\"},\"size\":{\"value\":10},\"x\":{\"field\":\"x\"},\"y\":{\"field\":\"y\"}},\"id\":\"2068\",\"type\":\"Circle\"},{\"attributes\":{},\"id\":\"2098\",\"type\":\"UnionRenderers\"},{\"attributes\":{},\"id\":\"2120\",\"type\":\"Selection\"},{\"attributes\":{},\"id\":\"2608\",\"type\":\"UnionRenderers\"},{\"attributes\":{\"data\":{\"x\":[1,2,3,4,5,6,7,8,9,10],\"y\":[2,3,4,3,2,1,3,4,2,3]},\"selected\":{\"id\":\"2099\"},\"selection_policy\":{\"id\":\"2098\"}},\"id\":\"2083\",\"type\":\"ColumnDataSource\"},{\"attributes\":{\"fill_color\":{\"value\":\"green\"},\"hatch_color\":{\"value\":\"green\"},\"line_color\":{\"value\":\"green\"},\"size\":{\"value\":30},\"x\":{\"field\":\"x\"},\"y\":{\"field\":\"y\"}},\"id\":\"2103\",\"type\":\"Circle\"},{\"attributes\":{\"coordinates\":null,\"data_source\":{\"id\":\"2102\"},\"glyph\":{\"id\":\"2103\"},\"group\":null,\"hover_glyph\":null,\"muted_glyph\":{\"id\":\"2105\"},\"nonselection_glyph\":{\"id\":\"2104\"},\"view\":{\"id\":\"2107\"}},\"id\":\"2106\",\"type\":\"GlyphRenderer\"},{\"attributes\":{\"source\":{\"id\":\"2083\"}},\"id\":\"2088\",\"type\":\"CDSView\"},{\"attributes\":{\"coordinates\":null,\"group\":null,\"items\":[{\"id\":\"2082\"},{\"id\":\"2101\"},{\"id\":\"2122\"}],\"location\":\"top_center\"},\"id\":\"2081\",\"type\":\"Legend\"},{\"attributes\":{},\"id\":\"2459\",\"type\":\"Selection\"},{\"attributes\":{\"fill_alpha\":{\"value\":0.1},\"fill_color\":{\"value\":\"navy\"},\"size\":{\"value\":10},\"x\":{\"field\":\"x\"},\"y\":{\"field\":\"y\"}},\"id\":\"2252\",\"type\":\"Circle\"},{\"attributes\":{},\"id\":\"2315\",\"type\":\"Selection\"},{\"attributes\":{\"source\":{\"id\":\"2102\"}},\"id\":\"2107\",\"type\":\"CDSView\"},{\"attributes\":{\"data\":{\"x\":[1,2,3,4,5,6,7,8,9,10],\"y\":[8,4,6,3,4,3,5,4,6,5]},\"selected\":{\"id\":\"2315\"},\"selection_policy\":{\"id\":\"2314\"}},\"id\":\"2251\",\"type\":\"ColumnDataSource\"},{\"attributes\":{\"source\":{\"id\":\"2251\"}},\"id\":\"2256\",\"type\":\"CDSView\"},{\"attributes\":{},\"id\":\"2458\",\"type\":\"UnionRenderers\"},{\"attributes\":{},\"id\":\"2055\",\"type\":\"ResetTool\"},{\"attributes\":{\"source\":{\"id\":\"2541\"}},\"id\":\"2546\",\"type\":\"CDSView\"},{\"attributes\":{},\"id\":\"2073\",\"type\":\"BasicTickFormatter\"},{\"attributes\":{\"source\":{\"id\":\"2393\"}},\"id\":\"2398\",\"type\":\"CDSView\"},{\"attributes\":{\"fill_color\":{\"value\":\"red\"},\"hatch_color\":{\"value\":\"red\"},\"line_color\":{\"value\":\"red\"},\"size\":{\"value\":20},\"x\":{\"field\":\"x\"},\"y\":{\"field\":\"y\"}},\"id\":\"2084\",\"type\":\"Circle\"},{\"attributes\":{\"fill_alpha\":{\"value\":0.1},\"fill_color\":{\"value\":\"#1f77b4\"},\"hatch_alpha\":{\"value\":0.1},\"line_alpha\":{\"value\":0.1},\"line_color\":{\"value\":\"#1f77b4\"},\"size\":{\"value\":10},\"x\":{\"field\":\"x\"},\"y\":{\"field\":\"y\"}},\"id\":\"2067\",\"type\":\"Circle\"},{\"attributes\":{\"fill_alpha\":{\"value\":0.3},\"fill_color\":{\"value\":\"red\"},\"size\":{\"value\":20},\"x\":{\"field\":\"x\"},\"y\":{\"field\":\"y\"}},\"id\":\"2394\",\"type\":\"Circle\"},{\"attributes\":{\"fill_alpha\":{\"value\":0.1},\"fill_color\":{\"value\":\"red\"},\"hatch_alpha\":{\"value\":0.1},\"line_alpha\":{\"value\":0.1},\"size\":{\"value\":20},\"x\":{\"field\":\"x\"},\"y\":{\"field\":\"y\"}},\"id\":\"2395\",\"type\":\"Circle\"},{\"attributes\":{},\"id\":\"2314\",\"type\":\"UnionRenderers\"},{\"attributes\":{\"axis_label\":\"x\",\"coordinates\":null,\"formatter\":{\"id\":\"2076\"},\"group\":null,\"major_label_policy\":{\"id\":\"2077\"},\"ticker\":{\"id\":\"2044\"}},\"id\":\"2043\",\"type\":\"LinearAxis\"},{\"attributes\":{\"coordinates\":null,\"data_source\":{\"id\":\"2393\"},\"glyph\":{\"id\":\"2394\"},\"group\":null,\"hover_glyph\":null,\"muted_glyph\":{\"id\":\"2396\"},\"nonselection_glyph\":{\"id\":\"2395\"},\"view\":{\"id\":\"2398\"}},\"id\":\"2397\",\"type\":\"GlyphRenderer\"},{\"attributes\":{\"coordinates\":null,\"data_source\":{\"id\":\"2083\"},\"glyph\":{\"id\":\"2084\"},\"group\":null,\"hover_glyph\":null,\"muted_glyph\":{\"id\":\"2086\"},\"nonselection_glyph\":{\"id\":\"2085\"},\"view\":{\"id\":\"2088\"}},\"id\":\"2087\",\"type\":\"GlyphRenderer\"},{\"attributes\":{\"fill_alpha\":{\"value\":0.2},\"fill_color\":{\"value\":\"red\"},\"hatch_alpha\":{\"value\":0.2},\"line_alpha\":{\"value\":0.2},\"size\":{\"value\":20},\"x\":{\"field\":\"x\"},\"y\":{\"field\":\"y\"}},\"id\":\"2396\",\"type\":\"Circle\"},{\"attributes\":{\"axis\":{\"id\":\"2043\"},\"coordinates\":null,\"group\":null,\"ticker\":null},\"id\":\"2046\",\"type\":\"Grid\"},{\"attributes\":{},\"id\":\"2079\",\"type\":\"Selection\"},{\"attributes\":{\"axis_label\":\"y\",\"coordinates\":null,\"formatter\":{\"id\":\"2073\"},\"group\":null,\"major_label_policy\":{\"id\":\"2074\"},\"ticker\":{\"id\":\"2048\"}},\"id\":\"2047\",\"type\":\"LinearAxis\"},{\"attributes\":{\"tools\":[{\"id\":\"2051\"},{\"id\":\"2052\"},{\"id\":\"2053\"},{\"id\":\"2054\"},{\"id\":\"2055\"},{\"id\":\"2056\"}]},\"id\":\"2058\",\"type\":\"Toolbar\"},{\"attributes\":{},\"id\":\"2037\",\"type\":\"DataRange1d\"},{\"attributes\":{},\"id\":\"2052\",\"type\":\"WheelZoomTool\"},{\"attributes\":{},\"id\":\"2078\",\"type\":\"UnionRenderers\"},{\"attributes\":{\"fill_color\":{\"value\":\"#1f77b4\"},\"line_color\":{\"value\":\"#1f77b4\"},\"size\":{\"value\":10},\"x\":{\"field\":\"x\"},\"y\":{\"field\":\"y\"}},\"id\":\"2066\",\"type\":\"Circle\"},{\"attributes\":{\"fill_alpha\":{\"value\":0.2},\"fill_color\":{\"value\":\"red\"},\"hatch_alpha\":{\"value\":0.2},\"hatch_color\":{\"value\":\"red\"},\"line_alpha\":{\"value\":0.2},\"line_color\":{\"value\":\"red\"},\"size\":{\"value\":20},\"x\":{\"field\":\"x\"},\"y\":{\"field\":\"y\"}},\"id\":\"2086\",\"type\":\"Circle\"},{\"attributes\":{\"data\":{\"x\":[1,2,3,4,5,6,7,8,9,10],\"y\":[8,4,6,3,4,3,5,4,6,5]},\"selected\":{\"id\":\"2079\"},\"selection_policy\":{\"id\":\"2078\"}},\"id\":\"2065\",\"type\":\"ColumnDataSource\"},{\"attributes\":{},\"id\":\"2044\",\"type\":\"BasicTicker\"},{\"attributes\":{\"fill_alpha\":{\"value\":0.1},\"fill_color\":{\"value\":\"red\"},\"hatch_alpha\":{\"value\":0.1},\"hatch_color\":{\"value\":\"red\"},\"line_alpha\":{\"value\":0.1},\"line_color\":{\"value\":\"red\"},\"size\":{\"value\":20},\"x\":{\"field\":\"x\"},\"y\":{\"field\":\"y\"}},\"id\":\"2085\",\"type\":\"Circle\"},{\"attributes\":{\"fill_alpha\":{\"value\":0.3},\"fill_color\":{\"value\":\"green\"},\"size\":{\"value\":30},\"x\":{\"field\":\"x\"},\"y\":{\"field\":\"y\"}},\"id\":\"2542\",\"type\":\"Circle\"},{\"attributes\":{},\"id\":\"2119\",\"type\":\"UnionRenderers\"},{\"attributes\":{\"fill_alpha\":{\"value\":0.1},\"fill_color\":{\"value\":\"green\"},\"hatch_alpha\":{\"value\":0.1},\"line_alpha\":{\"value\":0.1},\"size\":{\"value\":30},\"x\":{\"field\":\"x\"},\"y\":{\"field\":\"y\"}},\"id\":\"2543\",\"type\":\"Circle\"},{\"attributes\":{},\"id\":\"2077\",\"type\":\"AllLabels\"},{\"attributes\":{\"data\":{\"x\":[1,2,3,4,5,6,7,8,9,10],\"y\":[2,3,4,3,2,1,3,4,2,3]},\"selected\":{\"id\":\"2459\"},\"selection_policy\":{\"id\":\"2458\"}},\"id\":\"2393\",\"type\":\"ColumnDataSource\"},{\"attributes\":{},\"id\":\"2056\",\"type\":\"HelpTool\"},{\"attributes\":{\"fill_alpha\":{\"value\":0.1},\"fill_color\":{\"value\":\"navy\"},\"hatch_alpha\":{\"value\":0.1},\"line_alpha\":{\"value\":0.1},\"size\":{\"value\":10},\"x\":{\"field\":\"x\"},\"y\":{\"field\":\"y\"}},\"id\":\"2253\",\"type\":\"Circle\"},{\"attributes\":{\"fill_alpha\":{\"value\":0.2},\"fill_color\":{\"value\":\"green\"},\"hatch_alpha\":{\"value\":0.2},\"line_alpha\":{\"value\":0.2},\"size\":{\"value\":30},\"x\":{\"field\":\"x\"},\"y\":{\"field\":\"y\"}},\"id\":\"2544\",\"type\":\"Circle\"},{\"attributes\":{},\"id\":\"2054\",\"type\":\"SaveTool\"},{\"attributes\":{},\"id\":\"2041\",\"type\":\"LinearScale\"},{\"attributes\":{\"fill_alpha\":{\"value\":0.2},\"fill_color\":{\"value\":\"green\"},\"hatch_alpha\":{\"value\":0.2},\"hatch_color\":{\"value\":\"green\"},\"line_alpha\":{\"value\":0.2},\"line_color\":{\"value\":\"green\"},\"size\":{\"value\":30},\"x\":{\"field\":\"x\"},\"y\":{\"field\":\"y\"}},\"id\":\"2105\",\"type\":\"Circle\"},{\"attributes\":{},\"id\":\"2076\",\"type\":\"BasicTickFormatter\"},{\"attributes\":{\"label\":{\"value\":\"circle 1\"},\"renderers\":[{\"id\":\"2069\"},{\"id\":\"2255\"}]},\"id\":\"2082\",\"type\":\"LegendItem\"},{\"attributes\":{},\"id\":\"2609\",\"type\":\"Selection\"},{\"attributes\":{\"coordinates\":null,\"group\":null,\"text\":\"Multiple Circle Graph\"},\"id\":\"2033\",\"type\":\"Title\"},{\"attributes\":{\"bottom_units\":\"screen\",\"coordinates\":null,\"fill_alpha\":0.5,\"fill_color\":\"lightgrey\",\"group\":null,\"left_units\":\"screen\",\"level\":\"overlay\",\"line_alpha\":1.0,\"line_color\":\"black\",\"line_dash\":[4,4],\"line_width\":2,\"right_units\":\"screen\",\"syncable\":false,\"top_units\":\"screen\"},\"id\":\"2057\",\"type\":\"BoxAnnotation\"},{\"attributes\":{},\"id\":\"2074\",\"type\":\"AllLabels\"},{\"attributes\":{\"data\":{\"x\":[1,2,3,4,5,6,7,8,9,10],\"y\":[4,5,5,4,3,4,2,2,4,2]},\"selected\":{\"id\":\"2609\"},\"selection_policy\":{\"id\":\"2608\"}},\"id\":\"2541\",\"type\":\"ColumnDataSource\"},{\"attributes\":{},\"id\":\"2051\",\"type\":\"PanTool\"},{\"attributes\":{\"coordinates\":null,\"data_source\":{\"id\":\"2541\"},\"glyph\":{\"id\":\"2542\"},\"group\":null,\"hover_glyph\":null,\"muted_glyph\":{\"id\":\"2544\"},\"nonselection_glyph\":{\"id\":\"2543\"},\"view\":{\"id\":\"2546\"}},\"id\":\"2545\",\"type\":\"GlyphRenderer\"},{\"attributes\":{\"overlay\":{\"id\":\"2057\"}},\"id\":\"2053\",\"type\":\"BoxZoomTool\"},{\"attributes\":{\"label\":{\"value\":\"circle 2\"},\"renderers\":[{\"id\":\"2087\"},{\"id\":\"2397\"}]},\"id\":\"2101\",\"type\":\"LegendItem\"},{\"attributes\":{\"data\":{\"x\":[1,2,3,4,5,6,7,8,9,10],\"y\":[4,5,5,4,3,4,2,2,4,2]},\"selected\":{\"id\":\"2120\"},\"selection_policy\":{\"id\":\"2119\"}},\"id\":\"2102\",\"type\":\"ColumnDataSource\"},{\"attributes\":{},\"id\":\"2039\",\"type\":\"LinearScale\"},{\"attributes\":{\"coordinates\":null,\"data_source\":{\"id\":\"2065\"},\"glyph\":{\"id\":\"2066\"},\"group\":null,\"hover_glyph\":null,\"muted_glyph\":{\"id\":\"2068\"},\"nonselection_glyph\":{\"id\":\"2067\"},\"view\":{\"id\":\"2070\"}},\"id\":\"2069\",\"type\":\"GlyphRenderer\"}],\"root_ids\":[\"2032\"]},\"title\":\"Bokeh Application\",\"version\":\"2.4.2\"}};\n  const render_items = [{\"docid\":\"4a5f299b-a189-4219-ad14-5bbac5923a7d\",\"root_ids\":[\"2032\"],\"roots\":{\"2032\":\"64eff241-2db2-4b92-8f53-761317d6dd57\"}}];\n  root.Bokeh.embed.embed_items_notebook(docs_json, render_items);\n\n  }\n  if (root.Bokeh !== undefined) {\n    embed_document(root);\n  } else {\n    let attempts = 0;\n    const timer = setInterval(function(root) {\n      if (root.Bokeh !== undefined) {\n        clearInterval(timer);\n        embed_document(root);\n      } else {\n        attempts++;\n        if (attempts > 100) {\n          clearInterval(timer);\n          console.log(\"Bokeh: ERROR: Unable to run BokehJS code because BokehJS library is missing\");\n        }\n      }\n    }, 10, root)\n  }\n})(window);",
      "application/vnd.bokehjs_exec.v0+json": ""
     },
     "metadata": {
      "application/vnd.bokehjs_exec.v0+json": {
       "id": "2032"
      }
     },
     "output_type": "display_data"
    }
   ],
   "source": [
    "p3.legend.location = \"top_center\"\n",
    "show(p3)"
   ]
  },
  {
   "cell_type": "markdown",
   "metadata": {},
   "source": [
    "Adding a title to the legend"
   ]
  },
  {
   "cell_type": "code",
   "execution_count": 22,
   "metadata": {},
   "outputs": [],
   "source": [
    "p3.legend.title = \"Circles\""
   ]
  },
  {
   "cell_type": "markdown",
   "metadata": {},
   "source": [
    "Formatting the legend"
   ]
  },
  {
   "cell_type": "code",
   "execution_count": 23,
   "metadata": {},
   "outputs": [],
   "source": [
    "p3.legend.label_text_font = \"arial\"\n",
    "p3.legend.label_text_font_style = \"bold\"\n",
    "p3.legend.label_text_color = \"navy\""
   ]
  },
  {
   "cell_type": "markdown",
   "metadata": {},
   "source": [
    "Changing the border and background of legend"
   ]
  },
  {
   "cell_type": "code",
   "execution_count": 24,
   "metadata": {},
   "outputs": [
    {
     "data": {
      "text/html": [
       "\n",
       "\n",
       "\n",
       "\n",
       "\n",
       "\n",
       "  <div class=\"bk-root\" id=\"9ae326df-b177-4f73-92c9-c36fc4d96eb6\" data-root-id=\"2032\"></div>\n"
      ]
     },
     "metadata": {},
     "output_type": "display_data"
    },
    {
     "data": {
      "application/javascript": "(function(root) {\n  function embed_document(root) {\n    \n  const docs_json = {\"383d56dd-0210-4103-8084-2dedb066cf78\":{\"defs\":[],\"roots\":{\"references\":[{\"attributes\":{\"below\":[{\"id\":\"2043\"}],\"center\":[{\"id\":\"2046\"},{\"id\":\"2050\"},{\"id\":\"2081\"}],\"height\":400,\"left\":[{\"id\":\"2047\"}],\"renderers\":[{\"id\":\"2069\"},{\"id\":\"2087\"},{\"id\":\"2106\"},{\"id\":\"2255\"},{\"id\":\"2397\"},{\"id\":\"2545\"}],\"title\":{\"id\":\"2033\"},\"toolbar\":{\"id\":\"2058\"},\"x_range\":{\"id\":\"2035\"},\"x_scale\":{\"id\":\"2039\"},\"y_range\":{\"id\":\"2037\"},\"y_scale\":{\"id\":\"2041\"}},\"id\":\"2032\",\"subtype\":\"Figure\",\"type\":\"Plot\"},{\"attributes\":{},\"id\":\"2035\",\"type\":\"DataRange1d\"},{\"attributes\":{\"fill_alpha\":{\"value\":0.1},\"fill_color\":{\"value\":\"green\"},\"hatch_alpha\":{\"value\":0.1},\"hatch_color\":{\"value\":\"green\"},\"line_alpha\":{\"value\":0.1},\"line_color\":{\"value\":\"green\"},\"size\":{\"value\":30},\"x\":{\"field\":\"x\"},\"y\":{\"field\":\"y\"}},\"id\":\"2104\",\"type\":\"Circle\"},{\"attributes\":{\"fill_alpha\":{\"value\":0.2},\"fill_color\":{\"value\":\"navy\"},\"hatch_alpha\":{\"value\":0.2},\"line_alpha\":{\"value\":0.2},\"size\":{\"value\":10},\"x\":{\"field\":\"x\"},\"y\":{\"field\":\"y\"}},\"id\":\"2254\",\"type\":\"Circle\"},{\"attributes\":{\"coordinates\":null,\"data_source\":{\"id\":\"2251\"},\"glyph\":{\"id\":\"2252\"},\"group\":null,\"hover_glyph\":null,\"muted_glyph\":{\"id\":\"2254\"},\"nonselection_glyph\":{\"id\":\"2253\"},\"view\":{\"id\":\"2256\"}},\"id\":\"2255\",\"type\":\"GlyphRenderer\"},{\"attributes\":{\"source\":{\"id\":\"2065\"}},\"id\":\"2070\",\"type\":\"CDSView\"},{\"attributes\":{},\"id\":\"2048\",\"type\":\"BasicTicker\"},{\"attributes\":{\"axis\":{\"id\":\"2047\"},\"coordinates\":null,\"dimension\":1,\"group\":null,\"ticker\":null},\"id\":\"2050\",\"type\":\"Grid\"},{\"attributes\":{\"label\":{\"value\":\"circle 3\"},\"renderers\":[{\"id\":\"2106\"},{\"id\":\"2545\"}]},\"id\":\"2122\",\"type\":\"LegendItem\"},{\"attributes\":{},\"id\":\"2099\",\"type\":\"Selection\"},{\"attributes\":{\"fill_alpha\":{\"value\":0.2},\"fill_color\":{\"value\":\"#1f77b4\"},\"hatch_alpha\":{\"value\":0.2},\"line_alpha\":{\"value\":0.2},\"line_color\":{\"value\":\"#1f77b4\"},\"size\":{\"value\":10},\"x\":{\"field\":\"x\"},\"y\":{\"field\":\"y\"}},\"id\":\"2068\",\"type\":\"Circle\"},{\"attributes\":{},\"id\":\"2098\",\"type\":\"UnionRenderers\"},{\"attributes\":{},\"id\":\"2120\",\"type\":\"Selection\"},{\"attributes\":{},\"id\":\"2608\",\"type\":\"UnionRenderers\"},{\"attributes\":{\"data\":{\"x\":[1,2,3,4,5,6,7,8,9,10],\"y\":[2,3,4,3,2,1,3,4,2,3]},\"selected\":{\"id\":\"2099\"},\"selection_policy\":{\"id\":\"2098\"}},\"id\":\"2083\",\"type\":\"ColumnDataSource\"},{\"attributes\":{\"fill_color\":{\"value\":\"green\"},\"hatch_color\":{\"value\":\"green\"},\"line_color\":{\"value\":\"green\"},\"size\":{\"value\":30},\"x\":{\"field\":\"x\"},\"y\":{\"field\":\"y\"}},\"id\":\"2103\",\"type\":\"Circle\"},{\"attributes\":{\"coordinates\":null,\"data_source\":{\"id\":\"2102\"},\"glyph\":{\"id\":\"2103\"},\"group\":null,\"hover_glyph\":null,\"muted_glyph\":{\"id\":\"2105\"},\"nonselection_glyph\":{\"id\":\"2104\"},\"view\":{\"id\":\"2107\"}},\"id\":\"2106\",\"type\":\"GlyphRenderer\"},{\"attributes\":{\"source\":{\"id\":\"2083\"}},\"id\":\"2088\",\"type\":\"CDSView\"},{\"attributes\":{\"background_fill_alpha\":0.5,\"background_fill_color\":\"lightblue\",\"border_line_alpha\":0.6,\"border_line_color\":\"black\",\"border_line_width\":2,\"coordinates\":null,\"group\":null,\"items\":[{\"id\":\"2082\"},{\"id\":\"2101\"},{\"id\":\"2122\"}],\"label_text_color\":\"navy\",\"label_text_font\":\"arial\",\"label_text_font_style\":\"bold\",\"location\":\"top_center\",\"title\":\"Circles\"},\"id\":\"2081\",\"type\":\"Legend\"},{\"attributes\":{},\"id\":\"2459\",\"type\":\"Selection\"},{\"attributes\":{\"fill_alpha\":{\"value\":0.1},\"fill_color\":{\"value\":\"navy\"},\"size\":{\"value\":10},\"x\":{\"field\":\"x\"},\"y\":{\"field\":\"y\"}},\"id\":\"2252\",\"type\":\"Circle\"},{\"attributes\":{},\"id\":\"2315\",\"type\":\"Selection\"},{\"attributes\":{\"source\":{\"id\":\"2102\"}},\"id\":\"2107\",\"type\":\"CDSView\"},{\"attributes\":{\"data\":{\"x\":[1,2,3,4,5,6,7,8,9,10],\"y\":[8,4,6,3,4,3,5,4,6,5]},\"selected\":{\"id\":\"2315\"},\"selection_policy\":{\"id\":\"2314\"}},\"id\":\"2251\",\"type\":\"ColumnDataSource\"},{\"attributes\":{\"source\":{\"id\":\"2251\"}},\"id\":\"2256\",\"type\":\"CDSView\"},{\"attributes\":{},\"id\":\"2458\",\"type\":\"UnionRenderers\"},{\"attributes\":{},\"id\":\"2055\",\"type\":\"ResetTool\"},{\"attributes\":{\"source\":{\"id\":\"2541\"}},\"id\":\"2546\",\"type\":\"CDSView\"},{\"attributes\":{},\"id\":\"2073\",\"type\":\"BasicTickFormatter\"},{\"attributes\":{\"source\":{\"id\":\"2393\"}},\"id\":\"2398\",\"type\":\"CDSView\"},{\"attributes\":{\"fill_color\":{\"value\":\"red\"},\"hatch_color\":{\"value\":\"red\"},\"line_color\":{\"value\":\"red\"},\"size\":{\"value\":20},\"x\":{\"field\":\"x\"},\"y\":{\"field\":\"y\"}},\"id\":\"2084\",\"type\":\"Circle\"},{\"attributes\":{\"fill_alpha\":{\"value\":0.1},\"fill_color\":{\"value\":\"#1f77b4\"},\"hatch_alpha\":{\"value\":0.1},\"line_alpha\":{\"value\":0.1},\"line_color\":{\"value\":\"#1f77b4\"},\"size\":{\"value\":10},\"x\":{\"field\":\"x\"},\"y\":{\"field\":\"y\"}},\"id\":\"2067\",\"type\":\"Circle\"},{\"attributes\":{\"fill_alpha\":{\"value\":0.3},\"fill_color\":{\"value\":\"red\"},\"size\":{\"value\":20},\"x\":{\"field\":\"x\"},\"y\":{\"field\":\"y\"}},\"id\":\"2394\",\"type\":\"Circle\"},{\"attributes\":{\"fill_alpha\":{\"value\":0.1},\"fill_color\":{\"value\":\"red\"},\"hatch_alpha\":{\"value\":0.1},\"line_alpha\":{\"value\":0.1},\"size\":{\"value\":20},\"x\":{\"field\":\"x\"},\"y\":{\"field\":\"y\"}},\"id\":\"2395\",\"type\":\"Circle\"},{\"attributes\":{},\"id\":\"2314\",\"type\":\"UnionRenderers\"},{\"attributes\":{\"axis_label\":\"x\",\"coordinates\":null,\"formatter\":{\"id\":\"2076\"},\"group\":null,\"major_label_policy\":{\"id\":\"2077\"},\"ticker\":{\"id\":\"2044\"}},\"id\":\"2043\",\"type\":\"LinearAxis\"},{\"attributes\":{\"coordinates\":null,\"data_source\":{\"id\":\"2393\"},\"glyph\":{\"id\":\"2394\"},\"group\":null,\"hover_glyph\":null,\"muted_glyph\":{\"id\":\"2396\"},\"nonselection_glyph\":{\"id\":\"2395\"},\"view\":{\"id\":\"2398\"}},\"id\":\"2397\",\"type\":\"GlyphRenderer\"},{\"attributes\":{\"coordinates\":null,\"data_source\":{\"id\":\"2083\"},\"glyph\":{\"id\":\"2084\"},\"group\":null,\"hover_glyph\":null,\"muted_glyph\":{\"id\":\"2086\"},\"nonselection_glyph\":{\"id\":\"2085\"},\"view\":{\"id\":\"2088\"}},\"id\":\"2087\",\"type\":\"GlyphRenderer\"},{\"attributes\":{\"fill_alpha\":{\"value\":0.2},\"fill_color\":{\"value\":\"red\"},\"hatch_alpha\":{\"value\":0.2},\"line_alpha\":{\"value\":0.2},\"size\":{\"value\":20},\"x\":{\"field\":\"x\"},\"y\":{\"field\":\"y\"}},\"id\":\"2396\",\"type\":\"Circle\"},{\"attributes\":{\"axis\":{\"id\":\"2043\"},\"coordinates\":null,\"group\":null,\"ticker\":null},\"id\":\"2046\",\"type\":\"Grid\"},{\"attributes\":{},\"id\":\"2079\",\"type\":\"Selection\"},{\"attributes\":{\"axis_label\":\"y\",\"coordinates\":null,\"formatter\":{\"id\":\"2073\"},\"group\":null,\"major_label_policy\":{\"id\":\"2074\"},\"ticker\":{\"id\":\"2048\"}},\"id\":\"2047\",\"type\":\"LinearAxis\"},{\"attributes\":{\"tools\":[{\"id\":\"2051\"},{\"id\":\"2052\"},{\"id\":\"2053\"},{\"id\":\"2054\"},{\"id\":\"2055\"},{\"id\":\"2056\"}]},\"id\":\"2058\",\"type\":\"Toolbar\"},{\"attributes\":{},\"id\":\"2037\",\"type\":\"DataRange1d\"},{\"attributes\":{},\"id\":\"2052\",\"type\":\"WheelZoomTool\"},{\"attributes\":{},\"id\":\"2078\",\"type\":\"UnionRenderers\"},{\"attributes\":{\"fill_color\":{\"value\":\"#1f77b4\"},\"line_color\":{\"value\":\"#1f77b4\"},\"size\":{\"value\":10},\"x\":{\"field\":\"x\"},\"y\":{\"field\":\"y\"}},\"id\":\"2066\",\"type\":\"Circle\"},{\"attributes\":{\"fill_alpha\":{\"value\":0.2},\"fill_color\":{\"value\":\"red\"},\"hatch_alpha\":{\"value\":0.2},\"hatch_color\":{\"value\":\"red\"},\"line_alpha\":{\"value\":0.2},\"line_color\":{\"value\":\"red\"},\"size\":{\"value\":20},\"x\":{\"field\":\"x\"},\"y\":{\"field\":\"y\"}},\"id\":\"2086\",\"type\":\"Circle\"},{\"attributes\":{\"data\":{\"x\":[1,2,3,4,5,6,7,8,9,10],\"y\":[8,4,6,3,4,3,5,4,6,5]},\"selected\":{\"id\":\"2079\"},\"selection_policy\":{\"id\":\"2078\"}},\"id\":\"2065\",\"type\":\"ColumnDataSource\"},{\"attributes\":{},\"id\":\"2044\",\"type\":\"BasicTicker\"},{\"attributes\":{\"fill_alpha\":{\"value\":0.1},\"fill_color\":{\"value\":\"red\"},\"hatch_alpha\":{\"value\":0.1},\"hatch_color\":{\"value\":\"red\"},\"line_alpha\":{\"value\":0.1},\"line_color\":{\"value\":\"red\"},\"size\":{\"value\":20},\"x\":{\"field\":\"x\"},\"y\":{\"field\":\"y\"}},\"id\":\"2085\",\"type\":\"Circle\"},{\"attributes\":{\"fill_alpha\":{\"value\":0.3},\"fill_color\":{\"value\":\"green\"},\"size\":{\"value\":30},\"x\":{\"field\":\"x\"},\"y\":{\"field\":\"y\"}},\"id\":\"2542\",\"type\":\"Circle\"},{\"attributes\":{},\"id\":\"2119\",\"type\":\"UnionRenderers\"},{\"attributes\":{\"fill_alpha\":{\"value\":0.1},\"fill_color\":{\"value\":\"green\"},\"hatch_alpha\":{\"value\":0.1},\"line_alpha\":{\"value\":0.1},\"size\":{\"value\":30},\"x\":{\"field\":\"x\"},\"y\":{\"field\":\"y\"}},\"id\":\"2543\",\"type\":\"Circle\"},{\"attributes\":{},\"id\":\"2077\",\"type\":\"AllLabels\"},{\"attributes\":{\"data\":{\"x\":[1,2,3,4,5,6,7,8,9,10],\"y\":[2,3,4,3,2,1,3,4,2,3]},\"selected\":{\"id\":\"2459\"},\"selection_policy\":{\"id\":\"2458\"}},\"id\":\"2393\",\"type\":\"ColumnDataSource\"},{\"attributes\":{},\"id\":\"2056\",\"type\":\"HelpTool\"},{\"attributes\":{\"fill_alpha\":{\"value\":0.1},\"fill_color\":{\"value\":\"navy\"},\"hatch_alpha\":{\"value\":0.1},\"line_alpha\":{\"value\":0.1},\"size\":{\"value\":10},\"x\":{\"field\":\"x\"},\"y\":{\"field\":\"y\"}},\"id\":\"2253\",\"type\":\"Circle\"},{\"attributes\":{\"fill_alpha\":{\"value\":0.2},\"fill_color\":{\"value\":\"green\"},\"hatch_alpha\":{\"value\":0.2},\"line_alpha\":{\"value\":0.2},\"size\":{\"value\":30},\"x\":{\"field\":\"x\"},\"y\":{\"field\":\"y\"}},\"id\":\"2544\",\"type\":\"Circle\"},{\"attributes\":{},\"id\":\"2054\",\"type\":\"SaveTool\"},{\"attributes\":{},\"id\":\"2041\",\"type\":\"LinearScale\"},{\"attributes\":{\"fill_alpha\":{\"value\":0.2},\"fill_color\":{\"value\":\"green\"},\"hatch_alpha\":{\"value\":0.2},\"hatch_color\":{\"value\":\"green\"},\"line_alpha\":{\"value\":0.2},\"line_color\":{\"value\":\"green\"},\"size\":{\"value\":30},\"x\":{\"field\":\"x\"},\"y\":{\"field\":\"y\"}},\"id\":\"2105\",\"type\":\"Circle\"},{\"attributes\":{},\"id\":\"2076\",\"type\":\"BasicTickFormatter\"},{\"attributes\":{\"label\":{\"value\":\"circle 1\"},\"renderers\":[{\"id\":\"2069\"},{\"id\":\"2255\"}]},\"id\":\"2082\",\"type\":\"LegendItem\"},{\"attributes\":{},\"id\":\"2609\",\"type\":\"Selection\"},{\"attributes\":{\"coordinates\":null,\"group\":null,\"text\":\"Multiple Circle Graph\"},\"id\":\"2033\",\"type\":\"Title\"},{\"attributes\":{\"bottom_units\":\"screen\",\"coordinates\":null,\"fill_alpha\":0.5,\"fill_color\":\"lightgrey\",\"group\":null,\"left_units\":\"screen\",\"level\":\"overlay\",\"line_alpha\":1.0,\"line_color\":\"black\",\"line_dash\":[4,4],\"line_width\":2,\"right_units\":\"screen\",\"syncable\":false,\"top_units\":\"screen\"},\"id\":\"2057\",\"type\":\"BoxAnnotation\"},{\"attributes\":{},\"id\":\"2074\",\"type\":\"AllLabels\"},{\"attributes\":{\"data\":{\"x\":[1,2,3,4,5,6,7,8,9,10],\"y\":[4,5,5,4,3,4,2,2,4,2]},\"selected\":{\"id\":\"2609\"},\"selection_policy\":{\"id\":\"2608\"}},\"id\":\"2541\",\"type\":\"ColumnDataSource\"},{\"attributes\":{},\"id\":\"2051\",\"type\":\"PanTool\"},{\"attributes\":{\"coordinates\":null,\"data_source\":{\"id\":\"2541\"},\"glyph\":{\"id\":\"2542\"},\"group\":null,\"hover_glyph\":null,\"muted_glyph\":{\"id\":\"2544\"},\"nonselection_glyph\":{\"id\":\"2543\"},\"view\":{\"id\":\"2546\"}},\"id\":\"2545\",\"type\":\"GlyphRenderer\"},{\"attributes\":{\"overlay\":{\"id\":\"2057\"}},\"id\":\"2053\",\"type\":\"BoxZoomTool\"},{\"attributes\":{\"label\":{\"value\":\"circle 2\"},\"renderers\":[{\"id\":\"2087\"},{\"id\":\"2397\"}]},\"id\":\"2101\",\"type\":\"LegendItem\"},{\"attributes\":{\"data\":{\"x\":[1,2,3,4,5,6,7,8,9,10],\"y\":[4,5,5,4,3,4,2,2,4,2]},\"selected\":{\"id\":\"2120\"},\"selection_policy\":{\"id\":\"2119\"}},\"id\":\"2102\",\"type\":\"ColumnDataSource\"},{\"attributes\":{},\"id\":\"2039\",\"type\":\"LinearScale\"},{\"attributes\":{\"coordinates\":null,\"data_source\":{\"id\":\"2065\"},\"glyph\":{\"id\":\"2066\"},\"group\":null,\"hover_glyph\":null,\"muted_glyph\":{\"id\":\"2068\"},\"nonselection_glyph\":{\"id\":\"2067\"},\"view\":{\"id\":\"2070\"}},\"id\":\"2069\",\"type\":\"GlyphRenderer\"}],\"root_ids\":[\"2032\"]},\"title\":\"Bokeh Application\",\"version\":\"2.4.2\"}};\n  const render_items = [{\"docid\":\"383d56dd-0210-4103-8084-2dedb066cf78\",\"root_ids\":[\"2032\"],\"roots\":{\"2032\":\"9ae326df-b177-4f73-92c9-c36fc4d96eb6\"}}];\n  root.Bokeh.embed.embed_items_notebook(docs_json, render_items);\n\n  }\n  if (root.Bokeh !== undefined) {\n    embed_document(root);\n  } else {\n    let attempts = 0;\n    const timer = setInterval(function(root) {\n      if (root.Bokeh !== undefined) {\n        clearInterval(timer);\n        embed_document(root);\n      } else {\n        attempts++;\n        if (attempts > 100) {\n          clearInterval(timer);\n          console.log(\"Bokeh: ERROR: Unable to run BokehJS code because BokehJS library is missing\");\n        }\n      }\n    }, 10, root)\n  }\n})(window);",
      "application/vnd.bokehjs_exec.v0+json": ""
     },
     "metadata": {
      "application/vnd.bokehjs_exec.v0+json": {
       "id": "2032"
      }
     },
     "output_type": "display_data"
    }
   ],
   "source": [
    "p3.legend.border_line_width = 2\n",
    "p3.legend.border_line_color = \"black\"\n",
    "p3.legend.border_line_alpha = 0.6\n",
    "p3.legend.background_fill_color = \"lightblue\"\n",
    "p3.legend.background_fill_alpha = 0.5\n",
    "show(p3)"
   ]
  },
  {
   "cell_type": "markdown",
   "metadata": {},
   "source": [
    "Changing the title location to the left"
   ]
  },
  {
   "cell_type": "code",
   "execution_count": 25,
   "metadata": {},
   "outputs": [],
   "source": [
    "p3.title_location = \"left\""
   ]
  },
  {
   "cell_type": "markdown",
   "metadata": {},
   "source": [
    "Changing the headline text"
   ]
  },
  {
   "cell_type": "code",
   "execution_count": 26,
   "metadata": {},
   "outputs": [],
   "source": [
    "p3.title.text = \"New Multiple Circles Graph\""
   ]
  },
  {
   "cell_type": "markdown",
   "metadata": {},
   "source": [
    "Changing the title style"
   ]
  },
  {
   "cell_type": "code",
   "execution_count": 27,
   "metadata": {},
   "outputs": [
    {
     "data": {
      "text/html": [
       "\n",
       "\n",
       "\n",
       "\n",
       "\n",
       "\n",
       "  <div class=\"bk-root\" id=\"1bcfb9d1-7a01-444f-a5f4-b462c7f6417a\" data-root-id=\"2032\"></div>\n"
      ]
     },
     "metadata": {},
     "output_type": "display_data"
    },
    {
     "data": {
      "application/javascript": "(function(root) {\n  function embed_document(root) {\n    \n  const docs_json = {\"25d3df44-56bf-4489-8c4a-43f4047e5b88\":{\"defs\":[],\"roots\":{\"references\":[{\"attributes\":{\"below\":[{\"id\":\"2043\"}],\"center\":[{\"id\":\"2046\"},{\"id\":\"2050\"},{\"id\":\"2081\"}],\"height\":400,\"left\":[{\"id\":\"2047\"}],\"renderers\":[{\"id\":\"2069\"},{\"id\":\"2087\"},{\"id\":\"2106\"},{\"id\":\"2255\"},{\"id\":\"2397\"},{\"id\":\"2545\"}],\"title\":{\"id\":\"2033\"},\"title_location\":\"left\",\"toolbar\":{\"id\":\"2058\"},\"x_range\":{\"id\":\"2035\"},\"x_scale\":{\"id\":\"2039\"},\"y_range\":{\"id\":\"2037\"},\"y_scale\":{\"id\":\"2041\"}},\"id\":\"2032\",\"subtype\":\"Figure\",\"type\":\"Plot\"},{\"attributes\":{},\"id\":\"2035\",\"type\":\"DataRange1d\"},{\"attributes\":{\"fill_alpha\":{\"value\":0.1},\"fill_color\":{\"value\":\"green\"},\"hatch_alpha\":{\"value\":0.1},\"hatch_color\":{\"value\":\"green\"},\"line_alpha\":{\"value\":0.1},\"line_color\":{\"value\":\"green\"},\"size\":{\"value\":30},\"x\":{\"field\":\"x\"},\"y\":{\"field\":\"y\"}},\"id\":\"2104\",\"type\":\"Circle\"},{\"attributes\":{\"fill_alpha\":{\"value\":0.2},\"fill_color\":{\"value\":\"navy\"},\"hatch_alpha\":{\"value\":0.2},\"line_alpha\":{\"value\":0.2},\"size\":{\"value\":10},\"x\":{\"field\":\"x\"},\"y\":{\"field\":\"y\"}},\"id\":\"2254\",\"type\":\"Circle\"},{\"attributes\":{\"coordinates\":null,\"data_source\":{\"id\":\"2251\"},\"glyph\":{\"id\":\"2252\"},\"group\":null,\"hover_glyph\":null,\"muted_glyph\":{\"id\":\"2254\"},\"nonselection_glyph\":{\"id\":\"2253\"},\"view\":{\"id\":\"2256\"}},\"id\":\"2255\",\"type\":\"GlyphRenderer\"},{\"attributes\":{\"source\":{\"id\":\"2065\"}},\"id\":\"2070\",\"type\":\"CDSView\"},{\"attributes\":{},\"id\":\"2048\",\"type\":\"BasicTicker\"},{\"attributes\":{\"axis\":{\"id\":\"2047\"},\"coordinates\":null,\"dimension\":1,\"group\":null,\"ticker\":null},\"id\":\"2050\",\"type\":\"Grid\"},{\"attributes\":{\"label\":{\"value\":\"circle 3\"},\"renderers\":[{\"id\":\"2106\"},{\"id\":\"2545\"}]},\"id\":\"2122\",\"type\":\"LegendItem\"},{\"attributes\":{},\"id\":\"2099\",\"type\":\"Selection\"},{\"attributes\":{\"fill_alpha\":{\"value\":0.2},\"fill_color\":{\"value\":\"#1f77b4\"},\"hatch_alpha\":{\"value\":0.2},\"line_alpha\":{\"value\":0.2},\"line_color\":{\"value\":\"#1f77b4\"},\"size\":{\"value\":10},\"x\":{\"field\":\"x\"},\"y\":{\"field\":\"y\"}},\"id\":\"2068\",\"type\":\"Circle\"},{\"attributes\":{},\"id\":\"2098\",\"type\":\"UnionRenderers\"},{\"attributes\":{},\"id\":\"2120\",\"type\":\"Selection\"},{\"attributes\":{},\"id\":\"2608\",\"type\":\"UnionRenderers\"},{\"attributes\":{\"data\":{\"x\":[1,2,3,4,5,6,7,8,9,10],\"y\":[2,3,4,3,2,1,3,4,2,3]},\"selected\":{\"id\":\"2099\"},\"selection_policy\":{\"id\":\"2098\"}},\"id\":\"2083\",\"type\":\"ColumnDataSource\"},{\"attributes\":{\"fill_color\":{\"value\":\"green\"},\"hatch_color\":{\"value\":\"green\"},\"line_color\":{\"value\":\"green\"},\"size\":{\"value\":30},\"x\":{\"field\":\"x\"},\"y\":{\"field\":\"y\"}},\"id\":\"2103\",\"type\":\"Circle\"},{\"attributes\":{\"coordinates\":null,\"data_source\":{\"id\":\"2102\"},\"glyph\":{\"id\":\"2103\"},\"group\":null,\"hover_glyph\":null,\"muted_glyph\":{\"id\":\"2105\"},\"nonselection_glyph\":{\"id\":\"2104\"},\"view\":{\"id\":\"2107\"}},\"id\":\"2106\",\"type\":\"GlyphRenderer\"},{\"attributes\":{\"source\":{\"id\":\"2083\"}},\"id\":\"2088\",\"type\":\"CDSView\"},{\"attributes\":{\"background_fill_alpha\":0.5,\"background_fill_color\":\"lightblue\",\"border_line_alpha\":0.6,\"border_line_color\":\"black\",\"border_line_width\":2,\"coordinates\":null,\"group\":null,\"items\":[{\"id\":\"2082\"},{\"id\":\"2101\"},{\"id\":\"2122\"}],\"label_text_color\":\"navy\",\"label_text_font\":\"arial\",\"label_text_font_style\":\"bold\",\"location\":\"top_center\",\"title\":\"Circles\"},\"id\":\"2081\",\"type\":\"Legend\"},{\"attributes\":{},\"id\":\"2459\",\"type\":\"Selection\"},{\"attributes\":{\"fill_alpha\":{\"value\":0.1},\"fill_color\":{\"value\":\"navy\"},\"size\":{\"value\":10},\"x\":{\"field\":\"x\"},\"y\":{\"field\":\"y\"}},\"id\":\"2252\",\"type\":\"Circle\"},{\"attributes\":{},\"id\":\"2315\",\"type\":\"Selection\"},{\"attributes\":{\"source\":{\"id\":\"2102\"}},\"id\":\"2107\",\"type\":\"CDSView\"},{\"attributes\":{\"data\":{\"x\":[1,2,3,4,5,6,7,8,9,10],\"y\":[8,4,6,3,4,3,5,4,6,5]},\"selected\":{\"id\":\"2315\"},\"selection_policy\":{\"id\":\"2314\"}},\"id\":\"2251\",\"type\":\"ColumnDataSource\"},{\"attributes\":{\"source\":{\"id\":\"2251\"}},\"id\":\"2256\",\"type\":\"CDSView\"},{\"attributes\":{},\"id\":\"2458\",\"type\":\"UnionRenderers\"},{\"attributes\":{},\"id\":\"2055\",\"type\":\"ResetTool\"},{\"attributes\":{\"source\":{\"id\":\"2541\"}},\"id\":\"2546\",\"type\":\"CDSView\"},{\"attributes\":{},\"id\":\"2073\",\"type\":\"BasicTickFormatter\"},{\"attributes\":{\"source\":{\"id\":\"2393\"}},\"id\":\"2398\",\"type\":\"CDSView\"},{\"attributes\":{\"fill_color\":{\"value\":\"red\"},\"hatch_color\":{\"value\":\"red\"},\"line_color\":{\"value\":\"red\"},\"size\":{\"value\":20},\"x\":{\"field\":\"x\"},\"y\":{\"field\":\"y\"}},\"id\":\"2084\",\"type\":\"Circle\"},{\"attributes\":{\"fill_alpha\":{\"value\":0.1},\"fill_color\":{\"value\":\"#1f77b4\"},\"hatch_alpha\":{\"value\":0.1},\"line_alpha\":{\"value\":0.1},\"line_color\":{\"value\":\"#1f77b4\"},\"size\":{\"value\":10},\"x\":{\"field\":\"x\"},\"y\":{\"field\":\"y\"}},\"id\":\"2067\",\"type\":\"Circle\"},{\"attributes\":{\"fill_alpha\":{\"value\":0.3},\"fill_color\":{\"value\":\"red\"},\"size\":{\"value\":20},\"x\":{\"field\":\"x\"},\"y\":{\"field\":\"y\"}},\"id\":\"2394\",\"type\":\"Circle\"},{\"attributes\":{\"fill_alpha\":{\"value\":0.1},\"fill_color\":{\"value\":\"red\"},\"hatch_alpha\":{\"value\":0.1},\"line_alpha\":{\"value\":0.1},\"size\":{\"value\":20},\"x\":{\"field\":\"x\"},\"y\":{\"field\":\"y\"}},\"id\":\"2395\",\"type\":\"Circle\"},{\"attributes\":{},\"id\":\"2314\",\"type\":\"UnionRenderers\"},{\"attributes\":{\"axis_label\":\"x\",\"coordinates\":null,\"formatter\":{\"id\":\"2076\"},\"group\":null,\"major_label_policy\":{\"id\":\"2077\"},\"ticker\":{\"id\":\"2044\"}},\"id\":\"2043\",\"type\":\"LinearAxis\"},{\"attributes\":{\"coordinates\":null,\"data_source\":{\"id\":\"2393\"},\"glyph\":{\"id\":\"2394\"},\"group\":null,\"hover_glyph\":null,\"muted_glyph\":{\"id\":\"2396\"},\"nonselection_glyph\":{\"id\":\"2395\"},\"view\":{\"id\":\"2398\"}},\"id\":\"2397\",\"type\":\"GlyphRenderer\"},{\"attributes\":{\"coordinates\":null,\"data_source\":{\"id\":\"2083\"},\"glyph\":{\"id\":\"2084\"},\"group\":null,\"hover_glyph\":null,\"muted_glyph\":{\"id\":\"2086\"},\"nonselection_glyph\":{\"id\":\"2085\"},\"view\":{\"id\":\"2088\"}},\"id\":\"2087\",\"type\":\"GlyphRenderer\"},{\"attributes\":{\"fill_alpha\":{\"value\":0.2},\"fill_color\":{\"value\":\"red\"},\"hatch_alpha\":{\"value\":0.2},\"line_alpha\":{\"value\":0.2},\"size\":{\"value\":20},\"x\":{\"field\":\"x\"},\"y\":{\"field\":\"y\"}},\"id\":\"2396\",\"type\":\"Circle\"},{\"attributes\":{\"axis\":{\"id\":\"2043\"},\"coordinates\":null,\"group\":null,\"ticker\":null},\"id\":\"2046\",\"type\":\"Grid\"},{\"attributes\":{},\"id\":\"2079\",\"type\":\"Selection\"},{\"attributes\":{\"axis_label\":\"y\",\"coordinates\":null,\"formatter\":{\"id\":\"2073\"},\"group\":null,\"major_label_policy\":{\"id\":\"2074\"},\"ticker\":{\"id\":\"2048\"}},\"id\":\"2047\",\"type\":\"LinearAxis\"},{\"attributes\":{\"tools\":[{\"id\":\"2051\"},{\"id\":\"2052\"},{\"id\":\"2053\"},{\"id\":\"2054\"},{\"id\":\"2055\"},{\"id\":\"2056\"}]},\"id\":\"2058\",\"type\":\"Toolbar\"},{\"attributes\":{},\"id\":\"2037\",\"type\":\"DataRange1d\"},{\"attributes\":{},\"id\":\"2052\",\"type\":\"WheelZoomTool\"},{\"attributes\":{},\"id\":\"2078\",\"type\":\"UnionRenderers\"},{\"attributes\":{\"fill_color\":{\"value\":\"#1f77b4\"},\"line_color\":{\"value\":\"#1f77b4\"},\"size\":{\"value\":10},\"x\":{\"field\":\"x\"},\"y\":{\"field\":\"y\"}},\"id\":\"2066\",\"type\":\"Circle\"},{\"attributes\":{\"fill_alpha\":{\"value\":0.2},\"fill_color\":{\"value\":\"red\"},\"hatch_alpha\":{\"value\":0.2},\"hatch_color\":{\"value\":\"red\"},\"line_alpha\":{\"value\":0.2},\"line_color\":{\"value\":\"red\"},\"size\":{\"value\":20},\"x\":{\"field\":\"x\"},\"y\":{\"field\":\"y\"}},\"id\":\"2086\",\"type\":\"Circle\"},{\"attributes\":{\"data\":{\"x\":[1,2,3,4,5,6,7,8,9,10],\"y\":[8,4,6,3,4,3,5,4,6,5]},\"selected\":{\"id\":\"2079\"},\"selection_policy\":{\"id\":\"2078\"}},\"id\":\"2065\",\"type\":\"ColumnDataSource\"},{\"attributes\":{},\"id\":\"2044\",\"type\":\"BasicTicker\"},{\"attributes\":{\"fill_alpha\":{\"value\":0.1},\"fill_color\":{\"value\":\"red\"},\"hatch_alpha\":{\"value\":0.1},\"hatch_color\":{\"value\":\"red\"},\"line_alpha\":{\"value\":0.1},\"line_color\":{\"value\":\"red\"},\"size\":{\"value\":20},\"x\":{\"field\":\"x\"},\"y\":{\"field\":\"y\"}},\"id\":\"2085\",\"type\":\"Circle\"},{\"attributes\":{\"fill_alpha\":{\"value\":0.3},\"fill_color\":{\"value\":\"green\"},\"size\":{\"value\":30},\"x\":{\"field\":\"x\"},\"y\":{\"field\":\"y\"}},\"id\":\"2542\",\"type\":\"Circle\"},{\"attributes\":{},\"id\":\"2119\",\"type\":\"UnionRenderers\"},{\"attributes\":{\"fill_alpha\":{\"value\":0.1},\"fill_color\":{\"value\":\"green\"},\"hatch_alpha\":{\"value\":0.1},\"line_alpha\":{\"value\":0.1},\"size\":{\"value\":30},\"x\":{\"field\":\"x\"},\"y\":{\"field\":\"y\"}},\"id\":\"2543\",\"type\":\"Circle\"},{\"attributes\":{},\"id\":\"2077\",\"type\":\"AllLabels\"},{\"attributes\":{\"data\":{\"x\":[1,2,3,4,5,6,7,8,9,10],\"y\":[2,3,4,3,2,1,3,4,2,3]},\"selected\":{\"id\":\"2459\"},\"selection_policy\":{\"id\":\"2458\"}},\"id\":\"2393\",\"type\":\"ColumnDataSource\"},{\"attributes\":{},\"id\":\"2056\",\"type\":\"HelpTool\"},{\"attributes\":{\"fill_alpha\":{\"value\":0.1},\"fill_color\":{\"value\":\"navy\"},\"hatch_alpha\":{\"value\":0.1},\"line_alpha\":{\"value\":0.1},\"size\":{\"value\":10},\"x\":{\"field\":\"x\"},\"y\":{\"field\":\"y\"}},\"id\":\"2253\",\"type\":\"Circle\"},{\"attributes\":{\"fill_alpha\":{\"value\":0.2},\"fill_color\":{\"value\":\"green\"},\"hatch_alpha\":{\"value\":0.2},\"line_alpha\":{\"value\":0.2},\"size\":{\"value\":30},\"x\":{\"field\":\"x\"},\"y\":{\"field\":\"y\"}},\"id\":\"2544\",\"type\":\"Circle\"},{\"attributes\":{},\"id\":\"2054\",\"type\":\"SaveTool\"},{\"attributes\":{},\"id\":\"2041\",\"type\":\"LinearScale\"},{\"attributes\":{\"fill_alpha\":{\"value\":0.2},\"fill_color\":{\"value\":\"green\"},\"hatch_alpha\":{\"value\":0.2},\"hatch_color\":{\"value\":\"green\"},\"line_alpha\":{\"value\":0.2},\"line_color\":{\"value\":\"green\"},\"size\":{\"value\":30},\"x\":{\"field\":\"x\"},\"y\":{\"field\":\"y\"}},\"id\":\"2105\",\"type\":\"Circle\"},{\"attributes\":{},\"id\":\"2076\",\"type\":\"BasicTickFormatter\"},{\"attributes\":{\"label\":{\"value\":\"circle 1\"},\"renderers\":[{\"id\":\"2069\"},{\"id\":\"2255\"}]},\"id\":\"2082\",\"type\":\"LegendItem\"},{\"attributes\":{},\"id\":\"2609\",\"type\":\"Selection\"},{\"attributes\":{\"align\":\"right\",\"background_fill_color\":\"darkgrey\",\"coordinates\":null,\"group\":null,\"text\":\"New Multiple Circles Graph\",\"text_color\":\"black\",\"text_font_size\":\"25px\"},\"id\":\"2033\",\"type\":\"Title\"},{\"attributes\":{\"bottom_units\":\"screen\",\"coordinates\":null,\"fill_alpha\":0.5,\"fill_color\":\"lightgrey\",\"group\":null,\"left_units\":\"screen\",\"level\":\"overlay\",\"line_alpha\":1.0,\"line_color\":\"black\",\"line_dash\":[4,4],\"line_width\":2,\"right_units\":\"screen\",\"syncable\":false,\"top_units\":\"screen\"},\"id\":\"2057\",\"type\":\"BoxAnnotation\"},{\"attributes\":{},\"id\":\"2074\",\"type\":\"AllLabels\"},{\"attributes\":{\"data\":{\"x\":[1,2,3,4,5,6,7,8,9,10],\"y\":[4,5,5,4,3,4,2,2,4,2]},\"selected\":{\"id\":\"2609\"},\"selection_policy\":{\"id\":\"2608\"}},\"id\":\"2541\",\"type\":\"ColumnDataSource\"},{\"attributes\":{},\"id\":\"2051\",\"type\":\"PanTool\"},{\"attributes\":{\"coordinates\":null,\"data_source\":{\"id\":\"2541\"},\"glyph\":{\"id\":\"2542\"},\"group\":null,\"hover_glyph\":null,\"muted_glyph\":{\"id\":\"2544\"},\"nonselection_glyph\":{\"id\":\"2543\"},\"view\":{\"id\":\"2546\"}},\"id\":\"2545\",\"type\":\"GlyphRenderer\"},{\"attributes\":{\"overlay\":{\"id\":\"2057\"}},\"id\":\"2053\",\"type\":\"BoxZoomTool\"},{\"attributes\":{\"label\":{\"value\":\"circle 2\"},\"renderers\":[{\"id\":\"2087\"},{\"id\":\"2397\"}]},\"id\":\"2101\",\"type\":\"LegendItem\"},{\"attributes\":{\"data\":{\"x\":[1,2,3,4,5,6,7,8,9,10],\"y\":[4,5,5,4,3,4,2,2,4,2]},\"selected\":{\"id\":\"2120\"},\"selection_policy\":{\"id\":\"2119\"}},\"id\":\"2102\",\"type\":\"ColumnDataSource\"},{\"attributes\":{},\"id\":\"2039\",\"type\":\"LinearScale\"},{\"attributes\":{\"coordinates\":null,\"data_source\":{\"id\":\"2065\"},\"glyph\":{\"id\":\"2066\"},\"group\":null,\"hover_glyph\":null,\"muted_glyph\":{\"id\":\"2068\"},\"nonselection_glyph\":{\"id\":\"2067\"},\"view\":{\"id\":\"2070\"}},\"id\":\"2069\",\"type\":\"GlyphRenderer\"}],\"root_ids\":[\"2032\"]},\"title\":\"Bokeh Application\",\"version\":\"2.4.2\"}};\n  const render_items = [{\"docid\":\"25d3df44-56bf-4489-8c4a-43f4047e5b88\",\"root_ids\":[\"2032\"],\"roots\":{\"2032\":\"1bcfb9d1-7a01-444f-a5f4-b462c7f6417a\"}}];\n  root.Bokeh.embed.embed_items_notebook(docs_json, render_items);\n\n  }\n  if (root.Bokeh !== undefined) {\n    embed_document(root);\n  } else {\n    let attempts = 0;\n    const timer = setInterval(function(root) {\n      if (root.Bokeh !== undefined) {\n        clearInterval(timer);\n        embed_document(root);\n      } else {\n        attempts++;\n        if (attempts > 100) {\n          clearInterval(timer);\n          console.log(\"Bokeh: ERROR: Unable to run BokehJS code because BokehJS library is missing\");\n        }\n      }\n    }, 10, root)\n  }\n})(window);",
      "application/vnd.bokehjs_exec.v0+json": ""
     },
     "metadata": {
      "application/vnd.bokehjs_exec.v0+json": {
       "id": "2032"
      }
     },
     "output_type": "display_data"
    }
   ],
   "source": [
    "# changing the title style\n",
    "p3.title.text_font_size = \"25px\"\n",
    "p3.title.align = \"right\"\n",
    "p3.title.background_fill_color = \"darkgrey\"\n",
    "p3.title.text_color = \"black\"\n",
    "show(p3)"
   ]
  },
  {
   "cell_type": "markdown",
   "metadata": {},
   "source": [
    "### Creating scatterplots with squares"
   ]
  },
  {
   "cell_type": "markdown",
   "metadata": {},
   "source": [
    "Create a new plot with a title and axis labels"
   ]
  },
  {
   "cell_type": "code",
   "execution_count": 28,
   "metadata": {},
   "outputs": [],
   "source": [
    "# create a new plot with a title and axis labels\n",
    "p4 = figure(title=\"Multiple Square Graph\", \n",
    "    x_axis_label='x', y_axis_label='y',\n",
    "    height=400, width=600) "
   ]
  },
  {
   "cell_type": "markdown",
   "metadata": {},
   "source": [
    "Use `square()` instead of `circle()` in scatterplots"
   ]
  },
  {
   "cell_type": "code",
   "execution_count": 29,
   "metadata": {},
   "outputs": [
    {
     "data": {
      "text/html": [
       "\n",
       "\n",
       "\n",
       "\n",
       "\n",
       "\n",
       "  <div class=\"bk-root\" id=\"13d6281e-2582-442c-b6f1-a2b9867ad07c\" data-root-id=\"2995\"></div>\n"
      ]
     },
     "metadata": {},
     "output_type": "display_data"
    },
    {
     "data": {
      "application/javascript": "(function(root) {\n  function embed_document(root) {\n    \n  const docs_json = {\"ff444c64-b536-4871-821c-4187b659b173\":{\"defs\":[],\"roots\":{\"references\":[{\"attributes\":{\"below\":[{\"id\":\"3006\"}],\"center\":[{\"id\":\"3009\"},{\"id\":\"3013\"},{\"id\":\"3044\"}],\"height\":400,\"left\":[{\"id\":\"3010\"}],\"renderers\":[{\"id\":\"3032\"},{\"id\":\"3050\"},{\"id\":\"3069\"}],\"title\":{\"id\":\"2996\"},\"toolbar\":{\"id\":\"3021\"},\"x_range\":{\"id\":\"2998\"},\"x_scale\":{\"id\":\"3002\"},\"y_range\":{\"id\":\"3000\"},\"y_scale\":{\"id\":\"3004\"}},\"id\":\"2995\",\"subtype\":\"Figure\",\"type\":\"Plot\"},{\"attributes\":{\"data\":{\"x\":[1,2,3,4,5,6,7,8,9,10],\"y\":[4,5,5,4,3,4,2,2,4,2]},\"selected\":{\"id\":\"3083\"},\"selection_policy\":{\"id\":\"3082\"}},\"id\":\"3065\",\"type\":\"ColumnDataSource\"},{\"attributes\":{\"fill_alpha\":{\"value\":0.5},\"fill_color\":{\"value\":\"red\"},\"hatch_alpha\":{\"value\":0.5},\"hatch_color\":{\"value\":\"red\"},\"line_alpha\":{\"value\":0.5},\"line_color\":{\"value\":\"red\"},\"marker\":{\"value\":\"square\"},\"size\":{\"value\":20},\"x\":{\"field\":\"x\"},\"y\":{\"field\":\"y\"}},\"id\":\"3047\",\"type\":\"Scatter\"},{\"attributes\":{},\"id\":\"3017\",\"type\":\"SaveTool\"},{\"attributes\":{\"axis\":{\"id\":\"3006\"},\"coordinates\":null,\"group\":null,\"ticker\":null},\"id\":\"3009\",\"type\":\"Grid\"},{\"attributes\":{},\"id\":\"3039\",\"type\":\"BasicTickFormatter\"},{\"attributes\":{\"tools\":[{\"id\":\"3014\"},{\"id\":\"3015\"},{\"id\":\"3016\"},{\"id\":\"3017\"},{\"id\":\"3018\"},{\"id\":\"3019\"}]},\"id\":\"3021\",\"type\":\"Toolbar\"},{\"attributes\":{},\"id\":\"3037\",\"type\":\"AllLabels\"},{\"attributes\":{\"data\":{\"x\":[1,2,3,4,5,6,7,8,9,10],\"y\":[8,4,6,3,4,3,5,4,6,5]},\"selected\":{\"id\":\"3042\"},\"selection_policy\":{\"id\":\"3041\"}},\"id\":\"3028\",\"type\":\"ColumnDataSource\"},{\"attributes\":{\"axis_label\":\"y\",\"coordinates\":null,\"formatter\":{\"id\":\"3036\"},\"group\":null,\"major_label_policy\":{\"id\":\"3037\"},\"ticker\":{\"id\":\"3011\"}},\"id\":\"3010\",\"type\":\"LinearAxis\"},{\"attributes\":{\"source\":{\"id\":\"3065\"}},\"id\":\"3070\",\"type\":\"CDSView\"},{\"attributes\":{\"axis\":{\"id\":\"3010\"},\"coordinates\":null,\"dimension\":1,\"group\":null,\"ticker\":null},\"id\":\"3013\",\"type\":\"Grid\"},{\"attributes\":{},\"id\":\"3036\",\"type\":\"BasicTickFormatter\"},{\"attributes\":{\"bottom_units\":\"screen\",\"coordinates\":null,\"fill_alpha\":0.5,\"fill_color\":\"lightgrey\",\"group\":null,\"left_units\":\"screen\",\"level\":\"overlay\",\"line_alpha\":1.0,\"line_color\":\"black\",\"line_dash\":[4,4],\"line_width\":2,\"right_units\":\"screen\",\"syncable\":false,\"top_units\":\"screen\"},\"id\":\"3020\",\"type\":\"BoxAnnotation\"},{\"attributes\":{},\"id\":\"3015\",\"type\":\"WheelZoomTool\"},{\"attributes\":{\"coordinates\":null,\"data_source\":{\"id\":\"3046\"},\"glyph\":{\"id\":\"3047\"},\"group\":null,\"hover_glyph\":null,\"muted_glyph\":{\"id\":\"3049\"},\"nonselection_glyph\":{\"id\":\"3048\"},\"view\":{\"id\":\"3051\"}},\"id\":\"3050\",\"type\":\"GlyphRenderer\"},{\"attributes\":{\"fill_alpha\":{\"value\":0.2},\"fill_color\":{\"value\":\"red\"},\"hatch_alpha\":{\"value\":0.2},\"hatch_color\":{\"value\":\"red\"},\"line_alpha\":{\"value\":0.2},\"line_color\":{\"value\":\"red\"},\"marker\":{\"value\":\"square\"},\"size\":{\"value\":20},\"x\":{\"field\":\"x\"},\"y\":{\"field\":\"y\"}},\"id\":\"3049\",\"type\":\"Scatter\"},{\"attributes\":{\"fill_alpha\":{\"value\":0.3},\"fill_color\":{\"value\":\"green\"},\"hatch_alpha\":{\"value\":0.3},\"hatch_color\":{\"value\":\"green\"},\"line_alpha\":{\"value\":0.3},\"line_color\":{\"value\":\"green\"},\"marker\":{\"value\":\"square\"},\"size\":{\"value\":30},\"x\":{\"field\":\"x\"},\"y\":{\"field\":\"y\"}},\"id\":\"3066\",\"type\":\"Scatter\"},{\"attributes\":{\"overlay\":{\"id\":\"3020\"}},\"id\":\"3016\",\"type\":\"BoxZoomTool\"},{\"attributes\":{},\"id\":\"3007\",\"type\":\"BasicTicker\"},{\"attributes\":{\"label\":{\"value\":\"square 3\"},\"renderers\":[{\"id\":\"3069\"}]},\"id\":\"3085\",\"type\":\"LegendItem\"},{\"attributes\":{\"coordinates\":null,\"data_source\":{\"id\":\"3065\"},\"glyph\":{\"id\":\"3066\"},\"group\":null,\"hover_glyph\":null,\"muted_glyph\":{\"id\":\"3068\"},\"nonselection_glyph\":{\"id\":\"3067\"},\"view\":{\"id\":\"3070\"}},\"id\":\"3069\",\"type\":\"GlyphRenderer\"},{\"attributes\":{},\"id\":\"3002\",\"type\":\"LinearScale\"},{\"attributes\":{\"fill_alpha\":{\"value\":0.1},\"fill_color\":{\"value\":\"red\"},\"hatch_alpha\":{\"value\":0.1},\"hatch_color\":{\"value\":\"red\"},\"line_alpha\":{\"value\":0.1},\"line_color\":{\"value\":\"red\"},\"marker\":{\"value\":\"square\"},\"size\":{\"value\":20},\"x\":{\"field\":\"x\"},\"y\":{\"field\":\"y\"}},\"id\":\"3048\",\"type\":\"Scatter\"},{\"attributes\":{\"source\":{\"id\":\"3046\"}},\"id\":\"3051\",\"type\":\"CDSView\"},{\"attributes\":{\"fill_alpha\":{\"value\":0.7},\"fill_color\":{\"value\":\"#1f77b4\"},\"hatch_alpha\":{\"value\":0.7},\"line_alpha\":{\"value\":0.7},\"line_color\":{\"value\":\"#1f77b4\"},\"marker\":{\"value\":\"square\"},\"size\":{\"value\":10},\"x\":{\"field\":\"x\"},\"y\":{\"field\":\"y\"}},\"id\":\"3029\",\"type\":\"Scatter\"},{\"attributes\":{},\"id\":\"3042\",\"type\":\"Selection\"},{\"attributes\":{},\"id\":\"3082\",\"type\":\"UnionRenderers\"},{\"attributes\":{},\"id\":\"3018\",\"type\":\"ResetTool\"},{\"attributes\":{},\"id\":\"3041\",\"type\":\"UnionRenderers\"},{\"attributes\":{},\"id\":\"3019\",\"type\":\"HelpTool\"},{\"attributes\":{\"fill_alpha\":{\"value\":0.1},\"fill_color\":{\"value\":\"#1f77b4\"},\"hatch_alpha\":{\"value\":0.1},\"line_alpha\":{\"value\":0.1},\"line_color\":{\"value\":\"#1f77b4\"},\"marker\":{\"value\":\"square\"},\"size\":{\"value\":10},\"x\":{\"field\":\"x\"},\"y\":{\"field\":\"y\"}},\"id\":\"3030\",\"type\":\"Scatter\"},{\"attributes\":{\"data\":{\"x\":[1,2,3,4,5,6,7,8,9,10],\"y\":[2,3,4,3,2,1,3,4,2,3]},\"selected\":{\"id\":\"3062\"},\"selection_policy\":{\"id\":\"3061\"}},\"id\":\"3046\",\"type\":\"ColumnDataSource\"},{\"attributes\":{},\"id\":\"3040\",\"type\":\"AllLabels\"},{\"attributes\":{},\"id\":\"3011\",\"type\":\"BasicTicker\"},{\"attributes\":{\"axis_label\":\"x\",\"coordinates\":null,\"formatter\":{\"id\":\"3039\"},\"group\":null,\"major_label_policy\":{\"id\":\"3040\"},\"ticker\":{\"id\":\"3007\"}},\"id\":\"3006\",\"type\":\"LinearAxis\"},{\"attributes\":{\"fill_alpha\":{\"value\":0.2},\"fill_color\":{\"value\":\"green\"},\"hatch_alpha\":{\"value\":0.2},\"hatch_color\":{\"value\":\"green\"},\"line_alpha\":{\"value\":0.2},\"line_color\":{\"value\":\"green\"},\"marker\":{\"value\":\"square\"},\"size\":{\"value\":30},\"x\":{\"field\":\"x\"},\"y\":{\"field\":\"y\"}},\"id\":\"3068\",\"type\":\"Scatter\"},{\"attributes\":{\"coordinates\":null,\"group\":null,\"text\":\"Multiple Square Graph\"},\"id\":\"2996\",\"type\":\"Title\"},{\"attributes\":{\"fill_alpha\":{\"value\":0.1},\"fill_color\":{\"value\":\"green\"},\"hatch_alpha\":{\"value\":0.1},\"hatch_color\":{\"value\":\"green\"},\"line_alpha\":{\"value\":0.1},\"line_color\":{\"value\":\"green\"},\"marker\":{\"value\":\"square\"},\"size\":{\"value\":30},\"x\":{\"field\":\"x\"},\"y\":{\"field\":\"y\"}},\"id\":\"3067\",\"type\":\"Scatter\"},{\"attributes\":{\"label\":{\"value\":\"square 1\"},\"renderers\":[{\"id\":\"3032\"}]},\"id\":\"3045\",\"type\":\"LegendItem\"},{\"attributes\":{},\"id\":\"3062\",\"type\":\"Selection\"},{\"attributes\":{},\"id\":\"3000\",\"type\":\"DataRange1d\"},{\"attributes\":{\"coordinates\":null,\"data_source\":{\"id\":\"3028\"},\"glyph\":{\"id\":\"3029\"},\"group\":null,\"hover_glyph\":null,\"muted_glyph\":{\"id\":\"3031\"},\"nonselection_glyph\":{\"id\":\"3030\"},\"view\":{\"id\":\"3033\"}},\"id\":\"3032\",\"type\":\"GlyphRenderer\"},{\"attributes\":{},\"id\":\"3004\",\"type\":\"LinearScale\"},{\"attributes\":{\"fill_alpha\":{\"value\":0.2},\"fill_color\":{\"value\":\"#1f77b4\"},\"hatch_alpha\":{\"value\":0.2},\"line_alpha\":{\"value\":0.2},\"line_color\":{\"value\":\"#1f77b4\"},\"marker\":{\"value\":\"square\"},\"size\":{\"value\":10},\"x\":{\"field\":\"x\"},\"y\":{\"field\":\"y\"}},\"id\":\"3031\",\"type\":\"Scatter\"},{\"attributes\":{\"source\":{\"id\":\"3028\"}},\"id\":\"3033\",\"type\":\"CDSView\"},{\"attributes\":{},\"id\":\"3061\",\"type\":\"UnionRenderers\"},{\"attributes\":{},\"id\":\"3083\",\"type\":\"Selection\"},{\"attributes\":{\"coordinates\":null,\"group\":null,\"items\":[{\"id\":\"3045\"},{\"id\":\"3064\"},{\"id\":\"3085\"}],\"location\":\"top_center\"},\"id\":\"3044\",\"type\":\"Legend\"},{\"attributes\":{\"label\":{\"value\":\"square 2\"},\"renderers\":[{\"id\":\"3050\"}]},\"id\":\"3064\",\"type\":\"LegendItem\"},{\"attributes\":{},\"id\":\"2998\",\"type\":\"DataRange1d\"},{\"attributes\":{},\"id\":\"3014\",\"type\":\"PanTool\"}],\"root_ids\":[\"2995\"]},\"title\":\"Bokeh Application\",\"version\":\"2.4.2\"}};\n  const render_items = [{\"docid\":\"ff444c64-b536-4871-821c-4187b659b173\",\"root_ids\":[\"2995\"],\"roots\":{\"2995\":\"13d6281e-2582-442c-b6f1-a2b9867ad07c\"}}];\n  root.Bokeh.embed.embed_items_notebook(docs_json, render_items);\n\n  }\n  if (root.Bokeh !== undefined) {\n    embed_document(root);\n  } else {\n    let attempts = 0;\n    const timer = setInterval(function(root) {\n      if (root.Bokeh !== undefined) {\n        clearInterval(timer);\n        embed_document(root);\n      } else {\n        attempts++;\n        if (attempts > 100) {\n          clearInterval(timer);\n          console.log(\"Bokeh: ERROR: Unable to run BokehJS code because BokehJS library is missing\");\n        }\n      }\n    }, 10, root)\n  }\n})(window);",
      "application/vnd.bokehjs_exec.v0+json": ""
     },
     "metadata": {
      "application/vnd.bokehjs_exec.v0+json": {
       "id": "2995"
      }
     },
     "output_type": "display_data"
    }
   ],
   "source": [
    "p4.square(x, y , legend_label=\"square 1\",                alpha=0.7, size=10)\n",
    "p4.square(x, y2, legend_label=\"square 2\", color=\"red\",   alpha=0.5, size=20)\n",
    "p4.square(x, y3, legend_label=\"square 3\", color=\"green\", alpha=0.3, size=30)\n",
    "p4.legend.location = \"top_center\"   \n",
    "show(p4);"
   ]
  },
  {
   "cell_type": "markdown",
   "metadata": {},
   "source": [
    "There are many marker types available in Bokeh, [https://docs.bokeh.org/en/latest/docs/reference/models/markers.html]\n",
    "\n",
    "Here are some of them:\n",
    "- asterisk()\n",
    "- circle(), circle_cross(), circle_dot(), circle_x(), circle_y()\n",
    "- cross()\n",
    "- dash()\n",
    "- diamond(), diamond_cross()\n",
    "- hex()\n",
    "- inverted_triangle()\n",
    "- square(), square_cross(), square_dot(), square_pin()\n",
    "- triangle(), trangle_dot()"
   ]
  },
  {
   "cell_type": "markdown",
   "metadata": {},
   "source": [
    "### Creating scatterplots with different figures"
   ]
  },
  {
   "cell_type": "markdown",
   "metadata": {},
   "source": [
    "Create a new plot with a title and axis labels"
   ]
  },
  {
   "cell_type": "code",
   "execution_count": 30,
   "metadata": {},
   "outputs": [],
   "source": [
    "# create a new plot with a title and axis labels\n",
    "p5 = figure(title=\"Scatterplot\", \n",
    "    x_axis_label='x', y_axis_label='y',\n",
    "    height=400, width=600)  "
   ]
  },
  {
   "cell_type": "code",
   "execution_count": 31,
   "metadata": {},
   "outputs": [
    {
     "data": {
      "text/html": [
       "\n",
       "\n",
       "\n",
       "\n",
       "\n",
       "\n",
       "  <div class=\"bk-root\" id=\"bd1bf677-6afa-41ed-8792-21e4f54e7c00\" data-root-id=\"3234\"></div>\n"
      ]
     },
     "metadata": {},
     "output_type": "display_data"
    },
    {
     "data": {
      "application/javascript": "(function(root) {\n  function embed_document(root) {\n    \n  const docs_json = {\"98c654d0-d620-4da5-8120-76de86de390e\":{\"defs\":[],\"roots\":{\"references\":[{\"attributes\":{\"below\":[{\"id\":\"3245\"}],\"center\":[{\"id\":\"3248\"},{\"id\":\"3252\"},{\"id\":\"3283\"}],\"height\":400,\"left\":[{\"id\":\"3249\"}],\"renderers\":[{\"id\":\"3271\"},{\"id\":\"3289\"},{\"id\":\"3308\"}],\"title\":{\"id\":\"3235\"},\"toolbar\":{\"id\":\"3260\"},\"x_range\":{\"id\":\"3237\"},\"x_scale\":{\"id\":\"3241\"},\"y_range\":{\"id\":\"3239\"},\"y_scale\":{\"id\":\"3243\"}},\"id\":\"3234\",\"subtype\":\"Figure\",\"type\":\"Plot\"},{\"attributes\":{},\"id\":\"3237\",\"type\":\"DataRange1d\"},{\"attributes\":{\"fill_alpha\":{\"value\":0.5},\"fill_color\":{\"value\":\"red\"},\"hatch_alpha\":{\"value\":0.5},\"hatch_color\":{\"value\":\"red\"},\"line_alpha\":{\"value\":0.5},\"line_color\":{\"value\":\"red\"},\"marker\":{\"value\":\"hex_dot\"},\"size\":{\"value\":25},\"x\":{\"field\":\"x\"},\"y\":{\"field\":\"y\"}},\"id\":\"3286\",\"type\":\"Scatter\"},{\"attributes\":{\"coordinates\":null,\"data_source\":{\"id\":\"3267\"},\"glyph\":{\"id\":\"3268\"},\"group\":null,\"hover_glyph\":null,\"muted_glyph\":{\"id\":\"3270\"},\"nonselection_glyph\":{\"id\":\"3269\"},\"view\":{\"id\":\"3272\"}},\"id\":\"3271\",\"type\":\"GlyphRenderer\"},{\"attributes\":{\"overlay\":{\"id\":\"3259\"}},\"id\":\"3255\",\"type\":\"BoxZoomTool\"},{\"attributes\":{},\"id\":\"3253\",\"type\":\"PanTool\"},{\"attributes\":{},\"id\":\"3257\",\"type\":\"ResetTool\"},{\"attributes\":{},\"id\":\"3256\",\"type\":\"SaveTool\"},{\"attributes\":{},\"id\":\"3322\",\"type\":\"Selection\"},{\"attributes\":{},\"id\":\"3239\",\"type\":\"DataRange1d\"},{\"attributes\":{\"fill_alpha\":{\"value\":0.2},\"fill_color\":{\"value\":\"#1f77b4\"},\"hatch_alpha\":{\"value\":0.2},\"line_alpha\":{\"value\":0.2},\"line_color\":{\"value\":\"#1f77b4\"},\"marker\":{\"value\":\"diamond_cross\"},\"size\":{\"value\":25},\"x\":{\"field\":\"x\"},\"y\":{\"field\":\"y\"}},\"id\":\"3270\",\"type\":\"Scatter\"},{\"attributes\":{\"coordinates\":null,\"group\":null,\"text\":\"Scatterplot\"},\"id\":\"3235\",\"type\":\"Title\"},{\"attributes\":{},\"id\":\"3280\",\"type\":\"UnionRenderers\"},{\"attributes\":{\"bottom_units\":\"screen\",\"coordinates\":null,\"fill_alpha\":0.5,\"fill_color\":\"lightgrey\",\"group\":null,\"left_units\":\"screen\",\"level\":\"overlay\",\"line_alpha\":1.0,\"line_color\":\"black\",\"line_dash\":[4,4],\"line_width\":2,\"right_units\":\"screen\",\"syncable\":false,\"top_units\":\"screen\"},\"id\":\"3259\",\"type\":\"BoxAnnotation\"},{\"attributes\":{\"tools\":[{\"id\":\"3253\"},{\"id\":\"3254\"},{\"id\":\"3255\"},{\"id\":\"3256\"},{\"id\":\"3257\"},{\"id\":\"3258\"}]},\"id\":\"3260\",\"type\":\"Toolbar\"},{\"attributes\":{},\"id\":\"3281\",\"type\":\"Selection\"},{\"attributes\":{},\"id\":\"3241\",\"type\":\"LinearScale\"},{\"attributes\":{\"fill_alpha\":{\"value\":0.5},\"fill_color\":{\"value\":\"#1f77b4\"},\"hatch_alpha\":{\"value\":0.5},\"line_alpha\":{\"value\":0.5},\"line_color\":{\"value\":\"#1f77b4\"},\"marker\":{\"value\":\"diamond_cross\"},\"size\":{\"value\":25},\"x\":{\"field\":\"x\"},\"y\":{\"field\":\"y\"}},\"id\":\"3268\",\"type\":\"Scatter\"},{\"attributes\":{},\"id\":\"3254\",\"type\":\"WheelZoomTool\"},{\"attributes\":{\"axis\":{\"id\":\"3245\"},\"coordinates\":null,\"group\":null,\"ticker\":null},\"id\":\"3248\",\"type\":\"Grid\"},{\"attributes\":{},\"id\":\"3243\",\"type\":\"LinearScale\"},{\"attributes\":{},\"id\":\"3276\",\"type\":\"AllLabels\"},{\"attributes\":{\"axis_label\":\"x\",\"coordinates\":null,\"formatter\":{\"id\":\"3278\"},\"group\":null,\"major_label_policy\":{\"id\":\"3279\"},\"ticker\":{\"id\":\"3246\"}},\"id\":\"3245\",\"type\":\"LinearAxis\"},{\"attributes\":{\"label\":{\"value\":\"hex_dot\"},\"renderers\":[{\"id\":\"3289\"}]},\"id\":\"3303\",\"type\":\"LegendItem\"},{\"attributes\":{\"source\":{\"id\":\"3285\"}},\"id\":\"3290\",\"type\":\"CDSView\"},{\"attributes\":{\"coordinates\":null,\"data_source\":{\"id\":\"3285\"},\"glyph\":{\"id\":\"3286\"},\"group\":null,\"hover_glyph\":null,\"muted_glyph\":{\"id\":\"3288\"},\"nonselection_glyph\":{\"id\":\"3287\"},\"view\":{\"id\":\"3290\"}},\"id\":\"3289\",\"type\":\"GlyphRenderer\"},{\"attributes\":{\"coordinates\":null,\"data_source\":{\"id\":\"3304\"},\"glyph\":{\"id\":\"3305\"},\"group\":null,\"hover_glyph\":null,\"muted_glyph\":{\"id\":\"3307\"},\"nonselection_glyph\":{\"id\":\"3306\"},\"view\":{\"id\":\"3309\"}},\"id\":\"3308\",\"type\":\"GlyphRenderer\"},{\"attributes\":{\"fill_alpha\":{\"value\":0.5},\"fill_color\":{\"value\":\"green\"},\"hatch_alpha\":{\"value\":0.5},\"hatch_color\":{\"value\":\"green\"},\"line_alpha\":{\"value\":0.5},\"line_color\":{\"value\":\"green\"},\"marker\":{\"value\":\"square_x\"},\"size\":{\"value\":25},\"x\":{\"field\":\"x\"},\"y\":{\"field\":\"y\"}},\"id\":\"3305\",\"type\":\"Scatter\"},{\"attributes\":{},\"id\":\"3321\",\"type\":\"UnionRenderers\"},{\"attributes\":{\"source\":{\"id\":\"3304\"}},\"id\":\"3309\",\"type\":\"CDSView\"},{\"attributes\":{\"data\":{\"x\":[1,2,3,4,5,6,7,8,9,10],\"y\":[4,5,5,4,3,4,2,2,4,2]},\"selected\":{\"id\":\"3322\"},\"selection_policy\":{\"id\":\"3321\"}},\"id\":\"3304\",\"type\":\"ColumnDataSource\"},{\"attributes\":{\"data\":{\"x\":[1,2,3,4,5,6,7,8,9,10],\"y\":[8,4,6,3,4,3,5,4,6,5]},\"selected\":{\"id\":\"3281\"},\"selection_policy\":{\"id\":\"3280\"}},\"id\":\"3267\",\"type\":\"ColumnDataSource\"},{\"attributes\":{\"data\":{\"x\":[1,2,3,4,5,6,7,8,9,10],\"y\":[2,3,4,3,2,1,3,4,2,3]},\"selected\":{\"id\":\"3301\"},\"selection_policy\":{\"id\":\"3300\"}},\"id\":\"3285\",\"type\":\"ColumnDataSource\"},{\"attributes\":{\"fill_alpha\":{\"value\":0.2},\"fill_color\":{\"value\":\"red\"},\"hatch_alpha\":{\"value\":0.2},\"hatch_color\":{\"value\":\"red\"},\"line_alpha\":{\"value\":0.2},\"line_color\":{\"value\":\"red\"},\"marker\":{\"value\":\"hex_dot\"},\"size\":{\"value\":25},\"x\":{\"field\":\"x\"},\"y\":{\"field\":\"y\"}},\"id\":\"3288\",\"type\":\"Scatter\"},{\"attributes\":{},\"id\":\"3275\",\"type\":\"BasicTickFormatter\"},{\"attributes\":{\"source\":{\"id\":\"3267\"}},\"id\":\"3272\",\"type\":\"CDSView\"},{\"attributes\":{\"fill_alpha\":{\"value\":0.1},\"fill_color\":{\"value\":\"red\"},\"hatch_alpha\":{\"value\":0.1},\"hatch_color\":{\"value\":\"red\"},\"line_alpha\":{\"value\":0.1},\"line_color\":{\"value\":\"red\"},\"marker\":{\"value\":\"hex_dot\"},\"size\":{\"value\":25},\"x\":{\"field\":\"x\"},\"y\":{\"field\":\"y\"}},\"id\":\"3287\",\"type\":\"Scatter\"},{\"attributes\":{},\"id\":\"3246\",\"type\":\"BasicTicker\"},{\"attributes\":{},\"id\":\"3278\",\"type\":\"BasicTickFormatter\"},{\"attributes\":{\"label\":{\"value\":\"square_x\"},\"renderers\":[{\"id\":\"3308\"}]},\"id\":\"3324\",\"type\":\"LegendItem\"},{\"attributes\":{\"fill_alpha\":{\"value\":0.2},\"fill_color\":{\"value\":\"green\"},\"hatch_alpha\":{\"value\":0.2},\"hatch_color\":{\"value\":\"green\"},\"line_alpha\":{\"value\":0.2},\"line_color\":{\"value\":\"green\"},\"marker\":{\"value\":\"square_x\"},\"size\":{\"value\":25},\"x\":{\"field\":\"x\"},\"y\":{\"field\":\"y\"}},\"id\":\"3307\",\"type\":\"Scatter\"},{\"attributes\":{\"fill_alpha\":{\"value\":0.1},\"fill_color\":{\"value\":\"green\"},\"hatch_alpha\":{\"value\":0.1},\"hatch_color\":{\"value\":\"green\"},\"line_alpha\":{\"value\":0.1},\"line_color\":{\"value\":\"green\"},\"marker\":{\"value\":\"square_x\"},\"size\":{\"value\":25},\"x\":{\"field\":\"x\"},\"y\":{\"field\":\"y\"}},\"id\":\"3306\",\"type\":\"Scatter\"},{\"attributes\":{},\"id\":\"3301\",\"type\":\"Selection\"},{\"attributes\":{\"fill_alpha\":{\"value\":0.1},\"fill_color\":{\"value\":\"#1f77b4\"},\"hatch_alpha\":{\"value\":0.1},\"line_alpha\":{\"value\":0.1},\"line_color\":{\"value\":\"#1f77b4\"},\"marker\":{\"value\":\"diamond_cross\"},\"size\":{\"value\":25},\"x\":{\"field\":\"x\"},\"y\":{\"field\":\"y\"}},\"id\":\"3269\",\"type\":\"Scatter\"},{\"attributes\":{},\"id\":\"3258\",\"type\":\"HelpTool\"},{\"attributes\":{\"coordinates\":null,\"group\":null,\"items\":[{\"id\":\"3284\"},{\"id\":\"3303\"},{\"id\":\"3324\"}],\"location\":\"top_center\"},\"id\":\"3283\",\"type\":\"Legend\"},{\"attributes\":{},\"id\":\"3300\",\"type\":\"UnionRenderers\"},{\"attributes\":{\"label\":{\"value\":\"diamond_cross\"},\"renderers\":[{\"id\":\"3271\"}]},\"id\":\"3284\",\"type\":\"LegendItem\"},{\"attributes\":{\"axis_label\":\"y\",\"coordinates\":null,\"formatter\":{\"id\":\"3275\"},\"group\":null,\"major_label_policy\":{\"id\":\"3276\"},\"ticker\":{\"id\":\"3250\"}},\"id\":\"3249\",\"type\":\"LinearAxis\"},{\"attributes\":{\"axis\":{\"id\":\"3249\"},\"coordinates\":null,\"dimension\":1,\"group\":null,\"ticker\":null},\"id\":\"3252\",\"type\":\"Grid\"},{\"attributes\":{},\"id\":\"3250\",\"type\":\"BasicTicker\"},{\"attributes\":{},\"id\":\"3279\",\"type\":\"AllLabels\"}],\"root_ids\":[\"3234\"]},\"title\":\"Bokeh Application\",\"version\":\"2.4.2\"}};\n  const render_items = [{\"docid\":\"98c654d0-d620-4da5-8120-76de86de390e\",\"root_ids\":[\"3234\"],\"roots\":{\"3234\":\"bd1bf677-6afa-41ed-8792-21e4f54e7c00\"}}];\n  root.Bokeh.embed.embed_items_notebook(docs_json, render_items);\n\n  }\n  if (root.Bokeh !== undefined) {\n    embed_document(root);\n  } else {\n    let attempts = 0;\n    const timer = setInterval(function(root) {\n      if (root.Bokeh !== undefined) {\n        clearInterval(timer);\n        embed_document(root);\n      } else {\n        attempts++;\n        if (attempts > 100) {\n          clearInterval(timer);\n          console.log(\"Bokeh: ERROR: Unable to run BokehJS code because BokehJS library is missing\");\n        }\n      }\n    }, 10, root)\n  }\n})(window);",
      "application/vnd.bokehjs_exec.v0+json": ""
     },
     "metadata": {
      "application/vnd.bokehjs_exec.v0+json": {
       "id": "3234"
      }
     },
     "output_type": "display_data"
    }
   ],
   "source": [
    "p5.diamond_cross(x, y, legend_label=\"diamond_cross\",                alpha=0.5, size=25)\n",
    "p5.hex_dot(x, y2,      legend_label=\"hex_dot\",       color=\"red\",   alpha=0.5, size=25)\n",
    "p5.square_x(x, y3,     legend_label=\"square_x\",      color=\"green\", alpha=0.5, size=25);\n",
    "p5.legend.location = \"top_center\"  \n",
    "show(p5);"
   ]
  },
  {
   "cell_type": "markdown",
   "metadata": {},
   "source": [
    "Possible values for `legend.location` are:\n",
    "- top, \n",
    "- top_center,\n",
    "- top_right,\n",
    "- top_left\n",
    "- bottom, \n",
    "- bottom_center, \n",
    "- bottom_right, \n",
    "- bottom_left\n",
    "- center, \n",
    "- center_right, \n",
    "- center_left"
   ]
  },
  {
   "cell_type": "code",
   "execution_count": 32,
   "metadata": {},
   "outputs": [],
   "source": [
    "# create a new plot with a title and axis labels\n",
    "p6 = figure(title=\"Scatterplot\", \n",
    "    x_axis_label='x', y_axis_label='y',\n",
    "    height=400, width=600)"
   ]
  },
  {
   "cell_type": "code",
   "execution_count": 33,
   "metadata": {},
   "outputs": [
    {
     "data": {
      "text/html": [
       "\n",
       "\n",
       "\n",
       "\n",
       "\n",
       "\n",
       "  <div class=\"bk-root\" id=\"8cfa0091-db52-46bb-8177-81675310ce37\" data-root-id=\"3487\"></div>\n"
      ]
     },
     "metadata": {},
     "output_type": "display_data"
    },
    {
     "data": {
      "application/javascript": "(function(root) {\n  function embed_document(root) {\n    \n  const docs_json = {\"d38ba905-932b-48b1-98e6-ad97d0ed7a33\":{\"defs\":[],\"roots\":{\"references\":[{\"attributes\":{\"below\":[{\"id\":\"3498\"}],\"center\":[{\"id\":\"3501\"},{\"id\":\"3505\"},{\"id\":\"3536\"}],\"height\":400,\"left\":[{\"id\":\"3502\"}],\"renderers\":[{\"id\":\"3524\"},{\"id\":\"3542\"},{\"id\":\"3561\"}],\"title\":{\"id\":\"3488\"},\"toolbar\":{\"id\":\"3513\"},\"x_range\":{\"id\":\"3490\"},\"x_scale\":{\"id\":\"3494\"},\"y_range\":{\"id\":\"3492\"},\"y_scale\":{\"id\":\"3496\"}},\"id\":\"3487\",\"subtype\":\"Figure\",\"type\":\"Plot\"},{\"attributes\":{\"fill_alpha\":{\"value\":0.2},\"fill_color\":{\"value\":\"red\"},\"hatch_alpha\":{\"value\":0.2},\"hatch_color\":{\"value\":\"red\"},\"line_alpha\":{\"value\":0.2},\"line_color\":{\"value\":\"red\"},\"marker\":{\"value\":\"star_dot\"},\"size\":{\"value\":25},\"x\":{\"field\":\"x\"},\"y\":{\"field\":\"y\"}},\"id\":\"3541\",\"type\":\"Scatter\"},{\"attributes\":{\"fill_alpha\":{\"value\":0.5},\"fill_color\":{\"value\":\"red\"},\"hatch_alpha\":{\"value\":0.5},\"hatch_color\":{\"value\":\"red\"},\"line_alpha\":{\"value\":0.5},\"line_color\":{\"value\":\"red\"},\"marker\":{\"value\":\"star_dot\"},\"size\":{\"value\":25},\"x\":{\"field\":\"x\"},\"y\":{\"field\":\"y\"}},\"id\":\"3539\",\"type\":\"Scatter\"},{\"attributes\":{},\"id\":\"3496\",\"type\":\"LinearScale\"},{\"attributes\":{\"fill_alpha\":{\"value\":0.5},\"fill_color\":{\"value\":\"green\"},\"hatch_alpha\":{\"value\":0.5},\"hatch_color\":{\"value\":\"green\"},\"line_alpha\":{\"value\":0.5},\"line_color\":{\"value\":\"green\"},\"marker\":{\"value\":\"triangle_pin\"},\"size\":{\"value\":25},\"x\":{\"field\":\"x\"},\"y\":{\"field\":\"y\"}},\"id\":\"3558\",\"type\":\"Scatter\"},{\"attributes\":{\"axis\":{\"id\":\"3502\"},\"coordinates\":null,\"dimension\":1,\"group\":null,\"ticker\":null},\"id\":\"3505\",\"type\":\"Grid\"},{\"attributes\":{\"axis\":{\"id\":\"3498\"},\"coordinates\":null,\"group\":null,\"ticker\":null},\"id\":\"3501\",\"type\":\"Grid\"},{\"attributes\":{},\"id\":\"3533\",\"type\":\"UnionRenderers\"},{\"attributes\":{},\"id\":\"3503\",\"type\":\"BasicTicker\"},{\"attributes\":{\"fill_alpha\":{\"value\":0.5},\"fill_color\":{\"value\":\"#1f77b4\"},\"hatch_alpha\":{\"value\":0.5},\"line_alpha\":{\"value\":0.5},\"line_color\":{\"value\":\"#1f77b4\"},\"marker\":{\"value\":\"plus\"},\"size\":{\"value\":25},\"x\":{\"field\":\"x\"},\"y\":{\"field\":\"y\"}},\"id\":\"3521\",\"type\":\"Scatter\"},{\"attributes\":{},\"id\":\"3499\",\"type\":\"BasicTicker\"},{\"attributes\":{\"fill_alpha\":{\"value\":0.1},\"fill_color\":{\"value\":\"#1f77b4\"},\"hatch_alpha\":{\"value\":0.1},\"line_alpha\":{\"value\":0.1},\"line_color\":{\"value\":\"#1f77b4\"},\"marker\":{\"value\":\"plus\"},\"size\":{\"value\":25},\"x\":{\"field\":\"x\"},\"y\":{\"field\":\"y\"}},\"id\":\"3522\",\"type\":\"Scatter\"},{\"attributes\":{\"data\":{\"x\":[1,2,3,4,5,6,7,8,9,10],\"y\":[2,3,4,3,2,1,3,4,2,3]},\"selected\":{\"id\":\"3554\"},\"selection_policy\":{\"id\":\"3553\"}},\"id\":\"3538\",\"type\":\"ColumnDataSource\"},{\"attributes\":{\"coordinates\":null,\"group\":null,\"items\":[{\"id\":\"3537\"},{\"id\":\"3556\"},{\"id\":\"3577\"}],\"location\":\"top_center\"},\"id\":\"3536\",\"type\":\"Legend\"},{\"attributes\":{\"coordinates\":null,\"data_source\":{\"id\":\"3557\"},\"glyph\":{\"id\":\"3558\"},\"group\":null,\"hover_glyph\":null,\"muted_glyph\":{\"id\":\"3560\"},\"nonselection_glyph\":{\"id\":\"3559\"},\"view\":{\"id\":\"3562\"}},\"id\":\"3561\",\"type\":\"GlyphRenderer\"},{\"attributes\":{},\"id\":\"3490\",\"type\":\"DataRange1d\"},{\"attributes\":{},\"id\":\"3531\",\"type\":\"BasicTickFormatter\"},{\"attributes\":{\"tools\":[{\"id\":\"3506\"},{\"id\":\"3507\"},{\"id\":\"3508\"},{\"id\":\"3509\"},{\"id\":\"3510\"},{\"id\":\"3511\"}]},\"id\":\"3513\",\"type\":\"Toolbar\"},{\"attributes\":{\"coordinates\":null,\"data_source\":{\"id\":\"3520\"},\"glyph\":{\"id\":\"3521\"},\"group\":null,\"hover_glyph\":null,\"muted_glyph\":{\"id\":\"3523\"},\"nonselection_glyph\":{\"id\":\"3522\"},\"view\":{\"id\":\"3525\"}},\"id\":\"3524\",\"type\":\"GlyphRenderer\"},{\"attributes\":{},\"id\":\"3534\",\"type\":\"Selection\"},{\"attributes\":{\"fill_alpha\":{\"value\":0.2},\"fill_color\":{\"value\":\"#1f77b4\"},\"hatch_alpha\":{\"value\":0.2},\"line_alpha\":{\"value\":0.2},\"line_color\":{\"value\":\"#1f77b4\"},\"marker\":{\"value\":\"plus\"},\"size\":{\"value\":25},\"x\":{\"field\":\"x\"},\"y\":{\"field\":\"y\"}},\"id\":\"3523\",\"type\":\"Scatter\"},{\"attributes\":{\"label\":{\"value\":\"triangle_pin\"},\"renderers\":[{\"id\":\"3561\"}]},\"id\":\"3577\",\"type\":\"LegendItem\"},{\"attributes\":{},\"id\":\"3511\",\"type\":\"HelpTool\"},{\"attributes\":{},\"id\":\"3574\",\"type\":\"UnionRenderers\"},{\"attributes\":{\"source\":{\"id\":\"3520\"}},\"id\":\"3525\",\"type\":\"CDSView\"},{\"attributes\":{\"fill_alpha\":{\"value\":0.1},\"fill_color\":{\"value\":\"red\"},\"hatch_alpha\":{\"value\":0.1},\"hatch_color\":{\"value\":\"red\"},\"line_alpha\":{\"value\":0.1},\"line_color\":{\"value\":\"red\"},\"marker\":{\"value\":\"star_dot\"},\"size\":{\"value\":25},\"x\":{\"field\":\"x\"},\"y\":{\"field\":\"y\"}},\"id\":\"3540\",\"type\":\"Scatter\"},{\"attributes\":{\"data\":{\"x\":[1,2,3,4,5,6,7,8,9,10],\"y\":[4,5,5,4,3,4,2,2,4,2]},\"selected\":{\"id\":\"3575\"},\"selection_policy\":{\"id\":\"3574\"}},\"id\":\"3557\",\"type\":\"ColumnDataSource\"},{\"attributes\":{\"source\":{\"id\":\"3557\"}},\"id\":\"3562\",\"type\":\"CDSView\"},{\"attributes\":{\"coordinates\":null,\"data_source\":{\"id\":\"3538\"},\"glyph\":{\"id\":\"3539\"},\"group\":null,\"hover_glyph\":null,\"muted_glyph\":{\"id\":\"3541\"},\"nonselection_glyph\":{\"id\":\"3540\"},\"view\":{\"id\":\"3543\"}},\"id\":\"3542\",\"type\":\"GlyphRenderer\"},{\"attributes\":{\"label\":{\"value\":\"star_dot\"},\"renderers\":[{\"id\":\"3542\"}]},\"id\":\"3556\",\"type\":\"LegendItem\"},{\"attributes\":{},\"id\":\"3494\",\"type\":\"LinearScale\"},{\"attributes\":{},\"id\":\"3492\",\"type\":\"DataRange1d\"},{\"attributes\":{\"fill_alpha\":{\"value\":0.2},\"fill_color\":{\"value\":\"green\"},\"hatch_alpha\":{\"value\":0.2},\"hatch_color\":{\"value\":\"green\"},\"line_alpha\":{\"value\":0.2},\"line_color\":{\"value\":\"green\"},\"marker\":{\"value\":\"triangle_pin\"},\"size\":{\"value\":25},\"x\":{\"field\":\"x\"},\"y\":{\"field\":\"y\"}},\"id\":\"3560\",\"type\":\"Scatter\"},{\"attributes\":{\"fill_alpha\":{\"value\":0.1},\"fill_color\":{\"value\":\"green\"},\"hatch_alpha\":{\"value\":0.1},\"hatch_color\":{\"value\":\"green\"},\"line_alpha\":{\"value\":0.1},\"line_color\":{\"value\":\"green\"},\"marker\":{\"value\":\"triangle_pin\"},\"size\":{\"value\":25},\"x\":{\"field\":\"x\"},\"y\":{\"field\":\"y\"}},\"id\":\"3559\",\"type\":\"Scatter\"},{\"attributes\":{\"source\":{\"id\":\"3538\"}},\"id\":\"3543\",\"type\":\"CDSView\"},{\"attributes\":{\"overlay\":{\"id\":\"3512\"}},\"id\":\"3508\",\"type\":\"BoxZoomTool\"},{\"attributes\":{},\"id\":\"3509\",\"type\":\"SaveTool\"},{\"attributes\":{},\"id\":\"3554\",\"type\":\"Selection\"},{\"attributes\":{\"axis_label\":\"x\",\"coordinates\":null,\"formatter\":{\"id\":\"3531\"},\"group\":null,\"major_label_policy\":{\"id\":\"3532\"},\"ticker\":{\"id\":\"3499\"}},\"id\":\"3498\",\"type\":\"LinearAxis\"},{\"attributes\":{\"axis_label\":\"y\",\"coordinates\":null,\"formatter\":{\"id\":\"3528\"},\"group\":null,\"major_label_policy\":{\"id\":\"3529\"},\"ticker\":{\"id\":\"3503\"}},\"id\":\"3502\",\"type\":\"LinearAxis\"},{\"attributes\":{},\"id\":\"3510\",\"type\":\"ResetTool\"},{\"attributes\":{},\"id\":\"3553\",\"type\":\"UnionRenderers\"},{\"attributes\":{},\"id\":\"3507\",\"type\":\"WheelZoomTool\"},{\"attributes\":{\"label\":{\"value\":\"plus\"},\"renderers\":[{\"id\":\"3524\"}]},\"id\":\"3537\",\"type\":\"LegendItem\"},{\"attributes\":{},\"id\":\"3575\",\"type\":\"Selection\"},{\"attributes\":{\"coordinates\":null,\"group\":null,\"text\":\"Scatterplot\"},\"id\":\"3488\",\"type\":\"Title\"},{\"attributes\":{},\"id\":\"3532\",\"type\":\"AllLabels\"},{\"attributes\":{\"bottom_units\":\"screen\",\"coordinates\":null,\"fill_alpha\":0.5,\"fill_color\":\"lightgrey\",\"group\":null,\"left_units\":\"screen\",\"level\":\"overlay\",\"line_alpha\":1.0,\"line_color\":\"black\",\"line_dash\":[4,4],\"line_width\":2,\"right_units\":\"screen\",\"syncable\":false,\"top_units\":\"screen\"},\"id\":\"3512\",\"type\":\"BoxAnnotation\"},{\"attributes\":{},\"id\":\"3529\",\"type\":\"AllLabels\"},{\"attributes\":{\"data\":{\"x\":[1,2,3,4,5,6,7,8,9,10],\"y\":[8,4,6,3,4,3,5,4,6,5]},\"selected\":{\"id\":\"3534\"},\"selection_policy\":{\"id\":\"3533\"}},\"id\":\"3520\",\"type\":\"ColumnDataSource\"},{\"attributes\":{},\"id\":\"3506\",\"type\":\"PanTool\"},{\"attributes\":{},\"id\":\"3528\",\"type\":\"BasicTickFormatter\"}],\"root_ids\":[\"3487\"]},\"title\":\"Bokeh Application\",\"version\":\"2.4.2\"}};\n  const render_items = [{\"docid\":\"d38ba905-932b-48b1-98e6-ad97d0ed7a33\",\"root_ids\":[\"3487\"],\"roots\":{\"3487\":\"8cfa0091-db52-46bb-8177-81675310ce37\"}}];\n  root.Bokeh.embed.embed_items_notebook(docs_json, render_items);\n\n  }\n  if (root.Bokeh !== undefined) {\n    embed_document(root);\n  } else {\n    let attempts = 0;\n    const timer = setInterval(function(root) {\n      if (root.Bokeh !== undefined) {\n        clearInterval(timer);\n        embed_document(root);\n      } else {\n        attempts++;\n        if (attempts > 100) {\n          clearInterval(timer);\n          console.log(\"Bokeh: ERROR: Unable to run BokehJS code because BokehJS library is missing\");\n        }\n      }\n    }, 10, root)\n  }\n})(window);",
      "application/vnd.bokehjs_exec.v0+json": ""
     },
     "metadata": {
      "application/vnd.bokehjs_exec.v0+json": {
       "id": "3487"
      }
     },
     "output_type": "display_data"
    }
   ],
   "source": [
    "p6.plus(x, y,          legend_label=\"plus\",                        alpha=0.5, size=25)\n",
    "p6.star_dot(x, y2,     legend_label=\"star_dot\",     color=\"red\",   alpha=0.5, size=25)\n",
    "p6.triangle_pin(x, y3, legend_label=\"triangle_pin\", color=\"green\", alpha=0.5, size=25);\n",
    "p6.legend.location = \"top_center\"    \n",
    "show(p6);"
   ]
  },
  {
   "cell_type": "markdown",
   "metadata": {},
   "source": [
    "## Exporting"
   ]
  },
  {
   "cell_type": "markdown",
   "metadata": {},
   "source": [
    "For creating a standalone HTML file"
   ]
  },
  {
   "cell_type": "code",
   "execution_count": 34,
   "metadata": {},
   "outputs": [
    {
     "data": {
      "text/plain": [
       "'c:\\\\Users\\\\glady\\\\OneDrive\\\\_onlineTeaching\\\\GitHub\\\\04-Data Analysis\\\\04-Bokeh\\\\Simple Line.html'"
      ]
     },
     "execution_count": 34,
     "metadata": {},
     "output_type": "execute_result"
    }
   ],
   "source": [
    "# For creating a standalone HTML file\n",
    "output_file(filename=\"Simple Line.html\", title=\"Simple Line HTML file\")\n",
    "save(p)"
   ]
  },
  {
   "cell_type": "markdown",
   "metadata": {},
   "source": [
    "## References"
   ]
  },
  {
   "cell_type": "markdown",
   "metadata": {},
   "source": [
    "- https://docs.bokeh.org/en/latest/\n",
    "- https://docs.bokeh.org/en/latest/docs/reference/models/glyphs/scatter.html\n",
    "- https://docs.bokeh.org/en/latest/docs/reference/models/markers.html"
   ]
  }
 ],
 "metadata": {
  "kernelspec": {
   "display_name": "Python 3.10.5 64-bit (windows store)",
   "language": "python",
   "name": "python3"
  },
  "language_info": {
   "codemirror_mode": {
    "name": "ipython",
    "version": 3
   },
   "file_extension": ".py",
   "mimetype": "text/x-python",
   "name": "python",
   "nbconvert_exporter": "python",
   "pygments_lexer": "ipython3",
   "version": "3.10.8"
  },
  "orig_nbformat": 4,
  "vscode": {
   "interpreter": {
    "hash": "f6ce50080babb3e2c9dded3d344b1d82a47cf5d6f13f4c2ab5a2113adb8feaef"
   }
  }
 },
 "nbformat": 4,
 "nbformat_minor": 2
}
