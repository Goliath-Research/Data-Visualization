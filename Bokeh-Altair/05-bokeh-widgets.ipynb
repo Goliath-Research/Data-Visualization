{
 "cells": [
  {
   "cell_type": "markdown",
   "metadata": {},
   "source": [
    "# Adding Widgets"
   ]
  },
  {
   "cell_type": "markdown",
   "metadata": {},
   "source": [
    "## Objectives"
   ]
  },
  {
   "cell_type": "markdown",
   "metadata": {},
   "source": [
    "- Demonstrate the integration and functionality of interactive widgets in Bokeh visualizations.\n",
    "- Enable dynamic visualization adjustments using sliders, color pickers, and dropdown selectors.\n",
    "- Illustrate the effects of widget interactions on data plots.\n",
    "- Showcase the flexibility in visual data manipulation provided by Bokeh widgets."
   ]
  },
  {
   "cell_type": "markdown",
   "metadata": {},
   "source": [
    "## Background"
   ]
  },
  {
   "cell_type": "markdown",
   "metadata": {},
   "source": [
    "The notebook showcases the application of interactive widgets within Bokeh to enhance visualization interactivity. These widgets include sliders for adjusting numerical values, color pickers for changing visual elements, and selectors for modifying plot markers. Through examples, it demonstrates how widgets can dynamically alter plots, providing users with a more engaging and interactive data exploration experience."
   ]
  },
  {
   "cell_type": "markdown",
   "metadata": {},
   "source": [
    "## Datasets Used"
   ]
  },
  {
   "cell_type": "markdown",
   "metadata": {},
   "source": [
    "**Automobile Dataset**: This dataset from the UCI Machine Learning Repository contains information about various automobile attributes, including categorical and continuous variables. It is a real-world example of interactive data visualization techniques using Bokeh widgets."
   ]
  },
  {
   "cell_type": "markdown",
   "metadata": {},
   "source": [
    "## Slider Widget"
   ]
  },
  {
   "cell_type": "code",
   "execution_count": 1,
   "metadata": {},
   "outputs": [
    {
     "data": {
      "text/html": [
       "    <style>\n",
       "        .bk-notebook-logo {\n",
       "            display: block;\n",
       "            width: 20px;\n",
       "            height: 20px;\n",
       "            background-image: url(data:image/png;base64,iVBORw0KGgoAAAANSUhEUgAAABQAAAAUCAYAAACNiR0NAAAABHNCSVQICAgIfAhkiAAAAAlwSFlzAAALEgAACxIB0t1+/AAAABx0RVh0U29mdHdhcmUAQWRvYmUgRmlyZXdvcmtzIENTNui8sowAAAOkSURBVDiNjZRtaJVlGMd/1/08zzln5zjP1LWcU9N0NkN8m2CYjpgQYQXqSs0I84OLIC0hkEKoPtiH3gmKoiJDU7QpLgoLjLIQCpEsNJ1vqUOdO7ppbuec5+V+rj4ctwzd8IIbbi6u+8f1539dt3A78eXC7QizUF7gyV1fD1Yqg4JWz84yffhm0qkFqBogB9rM8tZdtwVsPUhWhGcFJngGeWrPzHm5oaMmkfEg1usvLFyc8jLRqDOMru7AyC8saQr7GG7f5fvDeH7Ej8CM66nIF+8yngt6HWaKh7k49Soy9nXurCi1o3qUbS3zWfrYeQDTB/Qj6kX6Ybhw4B+bOYoLKCC9H3Nu/leUTZ1JdRWkkn2ldcCamzrcf47KKXdAJllSlxAOkRgyHsGC/zRday5Qld9DyoM4/q/rUoy/CXh3jzOu3bHUVZeU+DEn8FInkPBFlu3+nW3Nw0mk6vCDiWg8CeJaxEwuHS3+z5RgY+YBR6V1Z1nxSOfoaPa4LASWxxdNp+VWTk7+4vzaou8v8PN+xo+KY2xsw6une2frhw05CTYOmQvsEhjhWjn0bmXPjpE1+kplmmkP3suftwTubK9Vq22qKmrBhpY4jvd5afdRA3wGjFAgcnTK2s4hY0/GPNIb0nErGMCRxWOOX64Z8RAC4oCXdklmEvcL8o0BfkNK4lUg9HTl+oPlQxdNo3Mg4Nv175e/1LDGzZen30MEjRUtmXSfiTVu1kK8W4txyV6BMKlbgk3lMwYCiusNy9fVfvvwMxv8Ynl6vxoByANLTWplvuj/nF9m2+PDtt1eiHPBr1oIfhCChQMBw6Aw0UulqTKZdfVvfG7VcfIqLG9bcldL/+pdWTLxLUy8Qq38heUIjh4XlzZxzQm19lLFlr8vdQ97rjZVOLf8nclzckbcD4wxXMidpX30sFd37Fv/GtwwhzhxGVAprjbg0gCAEeIgwCZyTV2Z1REEW8O4py0wsjeloKoMr6iCY6dP92H6Vw/oTyICIthibxjm/DfN9lVz8IqtqKYLUXfoKVMVQVVJOElGjrnnUt9T9wbgp8AyYKaGlqingHZU/uG2NTZSVqwHQTWkx9hxjkpWDaCg6Ckj5qebgBVbT3V3NNXMSiWSDdGV3hrtzla7J+duwPOToIg42ChPQOQjspnSlp1V+Gjdged7+8UN5CRAV7a5EdFNwCjEaBR27b3W890TE7g24NAP/mMDXRWrGoFPQI9ls/MWO2dWFAar/xcOIImbbpA3zgAAAABJRU5ErkJggg==);\n",
       "        }\n",
       "    </style>\n",
       "    <div>\n",
       "        <a href=\"https://bokeh.org\" target=\"_blank\" class=\"bk-notebook-logo\"></a>\n",
       "        <span id=\"a686df56-198f-4f0a-969f-8c7361f10da3\">Loading BokehJS ...</span>\n",
       "    </div>\n"
      ]
     },
     "metadata": {},
     "output_type": "display_data"
    },
    {
     "data": {
      "application/javascript": "(function(root) {\n  function now() {\n    return new Date();\n  }\n\n  const force = true;\n\n  if (typeof root._bokeh_onload_callbacks === \"undefined\" || force === true) {\n    root._bokeh_onload_callbacks = [];\n    root._bokeh_is_loading = undefined;\n  }\n\nconst JS_MIME_TYPE = 'application/javascript';\n  const HTML_MIME_TYPE = 'text/html';\n  const EXEC_MIME_TYPE = 'application/vnd.bokehjs_exec.v0+json';\n  const CLASS_NAME = 'output_bokeh rendered_html';\n\n  /**\n   * Render data to the DOM node\n   */\n  function render(props, node) {\n    const script = document.createElement(\"script\");\n    node.appendChild(script);\n  }\n\n  /**\n   * Handle when an output is cleared or removed\n   */\n  function handleClearOutput(event, handle) {\n    function drop(id) {\n      const view = Bokeh.index.get_by_id(id)\n      if (view != null) {\n        view.model.document.clear()\n        Bokeh.index.delete(view)\n      }\n    }\n\n    const cell = handle.cell;\n\n    const id = cell.output_area._bokeh_element_id;\n    const server_id = cell.output_area._bokeh_server_id;\n\n    // Clean up Bokeh references\n    if (id != null) {\n      drop(id)\n    }\n\n    if (server_id !== undefined) {\n      // Clean up Bokeh references\n      const cmd_clean = \"from bokeh.io.state import curstate; print(curstate().uuid_to_server['\" + server_id + \"'].get_sessions()[0].document.roots[0]._id)\";\n      cell.notebook.kernel.execute(cmd_clean, {\n        iopub: {\n          output: function(msg) {\n            const id = msg.content.text.trim()\n            drop(id)\n          }\n        }\n      });\n      // Destroy server and session\n      const cmd_destroy = \"import bokeh.io.notebook as ion; ion.destroy_server('\" + server_id + \"')\";\n      cell.notebook.kernel.execute(cmd_destroy);\n    }\n  }\n\n  /**\n   * Handle when a new output is added\n   */\n  function handleAddOutput(event, handle) {\n    const output_area = handle.output_area;\n    const output = handle.output;\n\n    // limit handleAddOutput to display_data with EXEC_MIME_TYPE content only\n    if ((output.output_type != \"display_data\") || (!Object.prototype.hasOwnProperty.call(output.data, EXEC_MIME_TYPE))) {\n      return\n    }\n\n    const toinsert = output_area.element.find(\".\" + CLASS_NAME.split(' ')[0]);\n\n    if (output.metadata[EXEC_MIME_TYPE][\"id\"] !== undefined) {\n      toinsert[toinsert.length - 1].firstChild.textContent = output.data[JS_MIME_TYPE];\n      // store reference to embed id on output_area\n      output_area._bokeh_element_id = output.metadata[EXEC_MIME_TYPE][\"id\"];\n    }\n    if (output.metadata[EXEC_MIME_TYPE][\"server_id\"] !== undefined) {\n      const bk_div = document.createElement(\"div\");\n      bk_div.innerHTML = output.data[HTML_MIME_TYPE];\n      const script_attrs = bk_div.children[0].attributes;\n      for (let i = 0; i < script_attrs.length; i++) {\n        toinsert[toinsert.length - 1].firstChild.setAttribute(script_attrs[i].name, script_attrs[i].value);\n        toinsert[toinsert.length - 1].firstChild.textContent = bk_div.children[0].textContent\n      }\n      // store reference to server id on output_area\n      output_area._bokeh_server_id = output.metadata[EXEC_MIME_TYPE][\"server_id\"];\n    }\n  }\n\n  function register_renderer(events, OutputArea) {\n\n    function append_mime(data, metadata, element) {\n      // create a DOM node to render to\n      const toinsert = this.create_output_subarea(\n        metadata,\n        CLASS_NAME,\n        EXEC_MIME_TYPE\n      );\n      this.keyboard_manager.register_events(toinsert);\n      // Render to node\n      const props = {data: data, metadata: metadata[EXEC_MIME_TYPE]};\n      render(props, toinsert[toinsert.length - 1]);\n      element.append(toinsert);\n      return toinsert\n    }\n\n    /* Handle when an output is cleared or removed */\n    events.on('clear_output.CodeCell', handleClearOutput);\n    events.on('delete.Cell', handleClearOutput);\n\n    /* Handle when a new output is added */\n    events.on('output_added.OutputArea', handleAddOutput);\n\n    /**\n     * Register the mime type and append_mime function with output_area\n     */\n    OutputArea.prototype.register_mime_type(EXEC_MIME_TYPE, append_mime, {\n      /* Is output safe? */\n      safe: true,\n      /* Index of renderer in `output_area.display_order` */\n      index: 0\n    });\n  }\n\n  // register the mime type if in Jupyter Notebook environment and previously unregistered\n  if (root.Jupyter !== undefined) {\n    const events = require('base/js/events');\n    const OutputArea = require('notebook/js/outputarea').OutputArea;\n\n    if (OutputArea.prototype.mime_types().indexOf(EXEC_MIME_TYPE) == -1) {\n      register_renderer(events, OutputArea);\n    }\n  }\n  if (typeof (root._bokeh_timeout) === \"undefined\" || force === true) {\n    root._bokeh_timeout = Date.now() + 5000;\n    root._bokeh_failed_load = false;\n  }\n\n  const NB_LOAD_WARNING = {'data': {'text/html':\n     \"<div style='background-color: #fdd'>\\n\"+\n     \"<p>\\n\"+\n     \"BokehJS does not appear to have successfully loaded. If loading BokehJS from CDN, this \\n\"+\n     \"may be due to a slow or bad network connection. Possible fixes:\\n\"+\n     \"</p>\\n\"+\n     \"<ul>\\n\"+\n     \"<li>re-rerun `output_notebook()` to attempt to load from CDN again, or</li>\\n\"+\n     \"<li>use INLINE resources instead, as so:</li>\\n\"+\n     \"</ul>\\n\"+\n     \"<code>\\n\"+\n     \"from bokeh.resources import INLINE\\n\"+\n     \"output_notebook(resources=INLINE)\\n\"+\n     \"</code>\\n\"+\n     \"</div>\"}};\n\n  function display_loaded() {\n    const el = document.getElementById(\"a686df56-198f-4f0a-969f-8c7361f10da3\");\n    if (el != null) {\n      el.textContent = \"BokehJS is loading...\";\n    }\n    if (root.Bokeh !== undefined) {\n      if (el != null) {\n        el.textContent = \"BokehJS \" + root.Bokeh.version + \" successfully loaded.\";\n      }\n    } else if (Date.now() < root._bokeh_timeout) {\n      setTimeout(display_loaded, 100)\n    }\n  }\n\n  function run_callbacks() {\n    try {\n      root._bokeh_onload_callbacks.forEach(function(callback) {\n        if (callback != null)\n          callback();\n      });\n    } finally {\n      delete root._bokeh_onload_callbacks\n    }\n    console.debug(\"Bokeh: all callbacks have finished\");\n  }\n\n  function load_libs(css_urls, js_urls, callback) {\n    if (css_urls == null) css_urls = [];\n    if (js_urls == null) js_urls = [];\n\n    root._bokeh_onload_callbacks.push(callback);\n    if (root._bokeh_is_loading > 0) {\n      console.debug(\"Bokeh: BokehJS is being loaded, scheduling callback at\", now());\n      return null;\n    }\n    if (js_urls == null || js_urls.length === 0) {\n      run_callbacks();\n      return null;\n    }\n    console.debug(\"Bokeh: BokehJS not loaded, scheduling load and callback at\", now());\n    root._bokeh_is_loading = css_urls.length + js_urls.length;\n\n    function on_load() {\n      root._bokeh_is_loading--;\n      if (root._bokeh_is_loading === 0) {\n        console.debug(\"Bokeh: all BokehJS libraries/stylesheets loaded\");\n        run_callbacks()\n      }\n    }\n\n    function on_error(url) {\n      console.error(\"failed to load \" + url);\n    }\n\n    for (let i = 0; i < css_urls.length; i++) {\n      const url = css_urls[i];\n      const element = document.createElement(\"link\");\n      element.onload = on_load;\n      element.onerror = on_error.bind(null, url);\n      element.rel = \"stylesheet\";\n      element.type = \"text/css\";\n      element.href = url;\n      console.debug(\"Bokeh: injecting link tag for BokehJS stylesheet: \", url);\n      document.body.appendChild(element);\n    }\n\n    for (let i = 0; i < js_urls.length; i++) {\n      const url = js_urls[i];\n      const element = document.createElement('script');\n      element.onload = on_load;\n      element.onerror = on_error.bind(null, url);\n      element.async = false;\n      element.src = url;\n      console.debug(\"Bokeh: injecting script tag for BokehJS library: \", url);\n      document.head.appendChild(element);\n    }\n  };\n\n  function inject_raw_css(css) {\n    const element = document.createElement(\"style\");\n    element.appendChild(document.createTextNode(css));\n    document.body.appendChild(element);\n  }\n\n  const js_urls = [\"https://cdn.bokeh.org/bokeh/release/bokeh-3.3.4.min.js\", \"https://cdn.bokeh.org/bokeh/release/bokeh-gl-3.3.4.min.js\", \"https://cdn.bokeh.org/bokeh/release/bokeh-widgets-3.3.4.min.js\", \"https://cdn.bokeh.org/bokeh/release/bokeh-tables-3.3.4.min.js\", \"https://cdn.bokeh.org/bokeh/release/bokeh-mathjax-3.3.4.min.js\"];\n  const css_urls = [];\n\n  const inline_js = [    function(Bokeh) {\n      Bokeh.set_log_level(\"info\");\n    },\nfunction(Bokeh) {\n    }\n  ];\n\n  function run_inline_js() {\n    if (root.Bokeh !== undefined || force === true) {\n          for (let i = 0; i < inline_js.length; i++) {\n      inline_js[i].call(root, root.Bokeh);\n    }\nif (force === true) {\n        display_loaded();\n      }} else if (Date.now() < root._bokeh_timeout) {\n      setTimeout(run_inline_js, 100);\n    } else if (!root._bokeh_failed_load) {\n      console.log(\"Bokeh: BokehJS failed to load within specified timeout.\");\n      root._bokeh_failed_load = true;\n    } else if (force !== true) {\n      const cell = $(document.getElementById(\"a686df56-198f-4f0a-969f-8c7361f10da3\")).parents('.cell').data().cell;\n      cell.output_area.append_execute_result(NB_LOAD_WARNING)\n    }\n  }\n\n  if (root._bokeh_is_loading === 0) {\n    console.debug(\"Bokeh: BokehJS loaded, going straight to plotting\");\n    run_inline_js();\n  } else {\n    load_libs(css_urls, js_urls, function() {\n      console.debug(\"Bokeh: BokehJS plotting callback run at\", now());\n      run_inline_js();\n    });\n  }\n}(window));",
      "application/vnd.bokehjs_load.v0+json": ""
     },
     "metadata": {},
     "output_type": "display_data"
    }
   ],
   "source": [
    "import numpy as np\n",
    "import pandas as pd\n",
    "pd.set_option('display.max_columns', 8)\n",
    "\n",
    "from bokeh.plotting import figure, show\n",
    "from bokeh.io import output_notebook\n",
    "from bokeh.plotting import ColumnDataSource\n",
    "output_notebook()"
   ]
  },
  {
   "cell_type": "markdown",
   "metadata": {},
   "source": [
    "The example shows an action attached to a slider that updates a data source whenever the slider is moved."
   ]
  },
  {
   "cell_type": "code",
   "execution_count": 2,
   "metadata": {},
   "outputs": [],
   "source": [
    "from bokeh.layouts import column, row \n",
    "from bokeh.models import Slider"
   ]
  },
  {
   "cell_type": "code",
   "execution_count": 3,
   "metadata": {},
   "outputs": [],
   "source": [
    "data = {'x':[1,2,3,4,5], 'y':[3,1,5,2,4]}\n",
    "source = ColumnDataSource(data=data)"
   ]
  },
  {
   "cell_type": "code",
   "execution_count": 4,
   "metadata": {},
   "outputs": [],
   "source": [
    "f1 = figure(x_range=(0, 6), y_range=(0, 6), \n",
    "            toolbar_location=None,\n",
    "            width=350, height=300)\n",
    "g1 = f1.circle_dot(x='x', y='y', source=source, color='indianred', size=30);"
   ]
  },
  {
   "cell_type": "code",
   "execution_count": 5,
   "metadata": {},
   "outputs": [],
   "source": [
    "slider1 = Slider(start=1, end=100, step=1, value=30, title='Size')\n",
    "slider1.js_link('value', g1.glyph, 'size')"
   ]
  },
  {
   "cell_type": "code",
   "execution_count": 6,
   "metadata": {},
   "outputs": [
    {
     "data": {
      "text/html": [
       "\n",
       "  <div id=\"e76d64ba-c2fb-43d9-beed-fcf78b599fd5\" data-root-id=\"p1049\" style=\"display: contents;\"></div>\n"
      ]
     },
     "metadata": {},
     "output_type": "display_data"
    },
    {
     "data": {
      "application/javascript": "(function(root) {\n  function embed_document(root) {\n  const docs_json = {\"cded2759-42f1-477f-a7ba-4b4aa9b890fa\":{\"version\":\"3.3.4\",\"title\":\"Bokeh Application\",\"roots\":[{\"type\":\"object\",\"name\":\"Column\",\"id\":\"p1049\",\"attributes\":{\"children\":[{\"type\":\"object\",\"name\":\"Slider\",\"id\":\"p1047\",\"attributes\":{\"js_property_callbacks\":{\"type\":\"map\",\"entries\":[[\"change:value\",[{\"type\":\"object\",\"name\":\"CustomJS\",\"id\":\"p1048\",\"attributes\":{\"args\":{\"type\":\"map\",\"entries\":[[\"other\",{\"type\":\"object\",\"name\":\"Scatter\",\"id\":\"p1041\",\"attributes\":{\"x\":{\"type\":\"field\",\"field\":\"x\"},\"y\":{\"type\":\"field\",\"field\":\"y\"},\"size\":{\"type\":\"value\",\"value\":30},\"line_color\":{\"type\":\"value\",\"value\":\"indianred\"},\"fill_color\":{\"type\":\"value\",\"value\":\"indianred\"},\"hatch_color\":{\"type\":\"value\",\"value\":\"indianred\"},\"marker\":{\"type\":\"value\",\"value\":\"circle_dot\"}}}]]},\"code\":\"other.size = this.value\"}}]]]},\"title\":\"Size\",\"start\":1,\"end\":100,\"value\":30}},{\"type\":\"object\",\"name\":\"Figure\",\"id\":\"p1004\",\"attributes\":{\"width\":350,\"height\":300,\"x_range\":{\"type\":\"object\",\"name\":\"Range1d\",\"id\":\"p1013\",\"attributes\":{\"end\":6}},\"y_range\":{\"type\":\"object\",\"name\":\"Range1d\",\"id\":\"p1014\",\"attributes\":{\"end\":6}},\"x_scale\":{\"type\":\"object\",\"name\":\"LinearScale\",\"id\":\"p1015\"},\"y_scale\":{\"type\":\"object\",\"name\":\"LinearScale\",\"id\":\"p1016\"},\"title\":{\"type\":\"object\",\"name\":\"Title\",\"id\":\"p1011\"},\"renderers\":[{\"type\":\"object\",\"name\":\"GlyphRenderer\",\"id\":\"p1044\",\"attributes\":{\"data_source\":{\"type\":\"object\",\"name\":\"ColumnDataSource\",\"id\":\"p1001\",\"attributes\":{\"selected\":{\"type\":\"object\",\"name\":\"Selection\",\"id\":\"p1002\",\"attributes\":{\"indices\":[],\"line_indices\":[]}},\"selection_policy\":{\"type\":\"object\",\"name\":\"UnionRenderers\",\"id\":\"p1003\"},\"data\":{\"type\":\"map\",\"entries\":[[\"x\",[1,2,3,4,5]],[\"y\",[3,1,5,2,4]]]}}},\"view\":{\"type\":\"object\",\"name\":\"CDSView\",\"id\":\"p1045\",\"attributes\":{\"filter\":{\"type\":\"object\",\"name\":\"AllIndices\",\"id\":\"p1046\"}}},\"glyph\":{\"id\":\"p1041\"},\"nonselection_glyph\":{\"type\":\"object\",\"name\":\"Scatter\",\"id\":\"p1042\",\"attributes\":{\"x\":{\"type\":\"field\",\"field\":\"x\"},\"y\":{\"type\":\"field\",\"field\":\"y\"},\"size\":{\"type\":\"value\",\"value\":30},\"line_color\":{\"type\":\"value\",\"value\":\"indianred\"},\"line_alpha\":{\"type\":\"value\",\"value\":0.1},\"fill_color\":{\"type\":\"value\",\"value\":\"indianred\"},\"fill_alpha\":{\"type\":\"value\",\"value\":0.1},\"hatch_color\":{\"type\":\"value\",\"value\":\"indianred\"},\"hatch_alpha\":{\"type\":\"value\",\"value\":0.1},\"marker\":{\"type\":\"value\",\"value\":\"circle_dot\"}}},\"muted_glyph\":{\"type\":\"object\",\"name\":\"Scatter\",\"id\":\"p1043\",\"attributes\":{\"x\":{\"type\":\"field\",\"field\":\"x\"},\"y\":{\"type\":\"field\",\"field\":\"y\"},\"size\":{\"type\":\"value\",\"value\":30},\"line_color\":{\"type\":\"value\",\"value\":\"indianred\"},\"line_alpha\":{\"type\":\"value\",\"value\":0.2},\"fill_color\":{\"type\":\"value\",\"value\":\"indianred\"},\"fill_alpha\":{\"type\":\"value\",\"value\":0.2},\"hatch_color\":{\"type\":\"value\",\"value\":\"indianred\"},\"hatch_alpha\":{\"type\":\"value\",\"value\":0.2},\"marker\":{\"type\":\"value\",\"value\":\"circle_dot\"}}}}}],\"toolbar\":{\"type\":\"object\",\"name\":\"Toolbar\",\"id\":\"p1012\",\"attributes\":{\"tools\":[{\"type\":\"object\",\"name\":\"PanTool\",\"id\":\"p1027\"},{\"type\":\"object\",\"name\":\"WheelZoomTool\",\"id\":\"p1028\",\"attributes\":{\"renderers\":\"auto\"}},{\"type\":\"object\",\"name\":\"BoxZoomTool\",\"id\":\"p1029\",\"attributes\":{\"overlay\":{\"type\":\"object\",\"name\":\"BoxAnnotation\",\"id\":\"p1030\",\"attributes\":{\"syncable\":false,\"level\":\"overlay\",\"visible\":false,\"left\":{\"type\":\"number\",\"value\":\"nan\"},\"right\":{\"type\":\"number\",\"value\":\"nan\"},\"top\":{\"type\":\"number\",\"value\":\"nan\"},\"bottom\":{\"type\":\"number\",\"value\":\"nan\"},\"left_units\":\"canvas\",\"right_units\":\"canvas\",\"top_units\":\"canvas\",\"bottom_units\":\"canvas\",\"line_color\":\"black\",\"line_alpha\":1.0,\"line_width\":2,\"line_dash\":[4,4],\"fill_color\":\"lightgrey\",\"fill_alpha\":0.5}}}},{\"type\":\"object\",\"name\":\"SaveTool\",\"id\":\"p1035\"},{\"type\":\"object\",\"name\":\"ResetTool\",\"id\":\"p1036\"},{\"type\":\"object\",\"name\":\"HelpTool\",\"id\":\"p1037\"}]}},\"toolbar_location\":null,\"left\":[{\"type\":\"object\",\"name\":\"LinearAxis\",\"id\":\"p1022\",\"attributes\":{\"ticker\":{\"type\":\"object\",\"name\":\"BasicTicker\",\"id\":\"p1023\",\"attributes\":{\"mantissas\":[1,2,5]}},\"formatter\":{\"type\":\"object\",\"name\":\"BasicTickFormatter\",\"id\":\"p1024\"},\"major_label_policy\":{\"type\":\"object\",\"name\":\"AllLabels\",\"id\":\"p1025\"}}}],\"below\":[{\"type\":\"object\",\"name\":\"LinearAxis\",\"id\":\"p1017\",\"attributes\":{\"ticker\":{\"type\":\"object\",\"name\":\"BasicTicker\",\"id\":\"p1018\",\"attributes\":{\"mantissas\":[1,2,5]}},\"formatter\":{\"type\":\"object\",\"name\":\"BasicTickFormatter\",\"id\":\"p1019\"},\"major_label_policy\":{\"type\":\"object\",\"name\":\"AllLabels\",\"id\":\"p1020\"}}}],\"center\":[{\"type\":\"object\",\"name\":\"Grid\",\"id\":\"p1021\",\"attributes\":{\"axis\":{\"id\":\"p1017\"}}},{\"type\":\"object\",\"name\":\"Grid\",\"id\":\"p1026\",\"attributes\":{\"dimension\":1,\"axis\":{\"id\":\"p1022\"}}}]}}]}}]}};\n  const render_items = [{\"docid\":\"cded2759-42f1-477f-a7ba-4b4aa9b890fa\",\"roots\":{\"p1049\":\"e76d64ba-c2fb-43d9-beed-fcf78b599fd5\"},\"root_ids\":[\"p1049\"]}];\n  root.Bokeh.embed.embed_items_notebook(docs_json, render_items);\n  }\n  if (root.Bokeh !== undefined) {\n    embed_document(root);\n  } else {\n    let attempts = 0;\n    const timer = setInterval(function(root) {\n      if (root.Bokeh !== undefined) {\n        clearInterval(timer);\n        embed_document(root);\n      } else {\n        attempts++;\n        if (attempts > 100) {\n          clearInterval(timer);\n          console.log(\"Bokeh: ERROR: Unable to run BokehJS code because BokehJS library is missing\");\n        }\n      }\n    }, 10, root)\n  }\n})(window);",
      "application/vnd.bokehjs_exec.v0+json": ""
     },
     "metadata": {
      "application/vnd.bokehjs_exec.v0+json": {
       "id": "p1049"
      }
     },
     "output_type": "display_data"
    }
   ],
   "source": [
    "show(column(slider1, f1))"
   ]
  },
  {
   "cell_type": "code",
   "execution_count": 7,
   "metadata": {},
   "outputs": [
    {
     "data": {
      "text/html": [
       "\n",
       "  <div id=\"a7424b0a-c9b7-4fb7-9e05-f4def6d6d17c\" data-root-id=\"p1050\" style=\"display: contents;\"></div>\n"
      ]
     },
     "metadata": {},
     "output_type": "display_data"
    },
    {
     "data": {
      "application/javascript": "(function(root) {\n  function embed_document(root) {\n  const docs_json = {\"c540540d-2790-4ad5-8a03-6f4d1811a489\":{\"version\":\"3.3.4\",\"title\":\"Bokeh Application\",\"roots\":[{\"type\":\"object\",\"name\":\"Row\",\"id\":\"p1050\",\"attributes\":{\"children\":[{\"type\":\"object\",\"name\":\"Figure\",\"id\":\"p1004\",\"attributes\":{\"width\":350,\"height\":300,\"x_range\":{\"type\":\"object\",\"name\":\"Range1d\",\"id\":\"p1013\",\"attributes\":{\"end\":6}},\"y_range\":{\"type\":\"object\",\"name\":\"Range1d\",\"id\":\"p1014\",\"attributes\":{\"end\":6}},\"x_scale\":{\"type\":\"object\",\"name\":\"LinearScale\",\"id\":\"p1015\"},\"y_scale\":{\"type\":\"object\",\"name\":\"LinearScale\",\"id\":\"p1016\"},\"title\":{\"type\":\"object\",\"name\":\"Title\",\"id\":\"p1011\"},\"renderers\":[{\"type\":\"object\",\"name\":\"GlyphRenderer\",\"id\":\"p1044\",\"attributes\":{\"data_source\":{\"type\":\"object\",\"name\":\"ColumnDataSource\",\"id\":\"p1001\",\"attributes\":{\"selected\":{\"type\":\"object\",\"name\":\"Selection\",\"id\":\"p1002\",\"attributes\":{\"indices\":[],\"line_indices\":[]}},\"selection_policy\":{\"type\":\"object\",\"name\":\"UnionRenderers\",\"id\":\"p1003\"},\"data\":{\"type\":\"map\",\"entries\":[[\"x\",[1,2,3,4,5]],[\"y\",[3,1,5,2,4]]]}}},\"view\":{\"type\":\"object\",\"name\":\"CDSView\",\"id\":\"p1045\",\"attributes\":{\"filter\":{\"type\":\"object\",\"name\":\"AllIndices\",\"id\":\"p1046\"}}},\"glyph\":{\"type\":\"object\",\"name\":\"Scatter\",\"id\":\"p1041\",\"attributes\":{\"x\":{\"type\":\"field\",\"field\":\"x\"},\"y\":{\"type\":\"field\",\"field\":\"y\"},\"size\":{\"type\":\"value\",\"value\":30},\"line_color\":{\"type\":\"value\",\"value\":\"indianred\"},\"fill_color\":{\"type\":\"value\",\"value\":\"indianred\"},\"hatch_color\":{\"type\":\"value\",\"value\":\"indianred\"},\"marker\":{\"type\":\"value\",\"value\":\"circle_dot\"}}},\"nonselection_glyph\":{\"type\":\"object\",\"name\":\"Scatter\",\"id\":\"p1042\",\"attributes\":{\"x\":{\"type\":\"field\",\"field\":\"x\"},\"y\":{\"type\":\"field\",\"field\":\"y\"},\"size\":{\"type\":\"value\",\"value\":30},\"line_color\":{\"type\":\"value\",\"value\":\"indianred\"},\"line_alpha\":{\"type\":\"value\",\"value\":0.1},\"fill_color\":{\"type\":\"value\",\"value\":\"indianred\"},\"fill_alpha\":{\"type\":\"value\",\"value\":0.1},\"hatch_color\":{\"type\":\"value\",\"value\":\"indianred\"},\"hatch_alpha\":{\"type\":\"value\",\"value\":0.1},\"marker\":{\"type\":\"value\",\"value\":\"circle_dot\"}}},\"muted_glyph\":{\"type\":\"object\",\"name\":\"Scatter\",\"id\":\"p1043\",\"attributes\":{\"x\":{\"type\":\"field\",\"field\":\"x\"},\"y\":{\"type\":\"field\",\"field\":\"y\"},\"size\":{\"type\":\"value\",\"value\":30},\"line_color\":{\"type\":\"value\",\"value\":\"indianred\"},\"line_alpha\":{\"type\":\"value\",\"value\":0.2},\"fill_color\":{\"type\":\"value\",\"value\":\"indianred\"},\"fill_alpha\":{\"type\":\"value\",\"value\":0.2},\"hatch_color\":{\"type\":\"value\",\"value\":\"indianred\"},\"hatch_alpha\":{\"type\":\"value\",\"value\":0.2},\"marker\":{\"type\":\"value\",\"value\":\"circle_dot\"}}}}}],\"toolbar\":{\"type\":\"object\",\"name\":\"Toolbar\",\"id\":\"p1012\",\"attributes\":{\"tools\":[{\"type\":\"object\",\"name\":\"PanTool\",\"id\":\"p1027\"},{\"type\":\"object\",\"name\":\"WheelZoomTool\",\"id\":\"p1028\",\"attributes\":{\"renderers\":\"auto\"}},{\"type\":\"object\",\"name\":\"BoxZoomTool\",\"id\":\"p1029\",\"attributes\":{\"overlay\":{\"type\":\"object\",\"name\":\"BoxAnnotation\",\"id\":\"p1030\",\"attributes\":{\"syncable\":false,\"level\":\"overlay\",\"visible\":false,\"left\":{\"type\":\"number\",\"value\":\"nan\"},\"right\":{\"type\":\"number\",\"value\":\"nan\"},\"top\":{\"type\":\"number\",\"value\":\"nan\"},\"bottom\":{\"type\":\"number\",\"value\":\"nan\"},\"left_units\":\"canvas\",\"right_units\":\"canvas\",\"top_units\":\"canvas\",\"bottom_units\":\"canvas\",\"line_color\":\"black\",\"line_alpha\":1.0,\"line_width\":2,\"line_dash\":[4,4],\"fill_color\":\"lightgrey\",\"fill_alpha\":0.5}}}},{\"type\":\"object\",\"name\":\"SaveTool\",\"id\":\"p1035\"},{\"type\":\"object\",\"name\":\"ResetTool\",\"id\":\"p1036\"},{\"type\":\"object\",\"name\":\"HelpTool\",\"id\":\"p1037\"}]}},\"toolbar_location\":null,\"left\":[{\"type\":\"object\",\"name\":\"LinearAxis\",\"id\":\"p1022\",\"attributes\":{\"ticker\":{\"type\":\"object\",\"name\":\"BasicTicker\",\"id\":\"p1023\",\"attributes\":{\"mantissas\":[1,2,5]}},\"formatter\":{\"type\":\"object\",\"name\":\"BasicTickFormatter\",\"id\":\"p1024\"},\"major_label_policy\":{\"type\":\"object\",\"name\":\"AllLabels\",\"id\":\"p1025\"}}}],\"below\":[{\"type\":\"object\",\"name\":\"LinearAxis\",\"id\":\"p1017\",\"attributes\":{\"ticker\":{\"type\":\"object\",\"name\":\"BasicTicker\",\"id\":\"p1018\",\"attributes\":{\"mantissas\":[1,2,5]}},\"formatter\":{\"type\":\"object\",\"name\":\"BasicTickFormatter\",\"id\":\"p1019\"},\"major_label_policy\":{\"type\":\"object\",\"name\":\"AllLabels\",\"id\":\"p1020\"}}}],\"center\":[{\"type\":\"object\",\"name\":\"Grid\",\"id\":\"p1021\",\"attributes\":{\"axis\":{\"id\":\"p1017\"}}},{\"type\":\"object\",\"name\":\"Grid\",\"id\":\"p1026\",\"attributes\":{\"dimension\":1,\"axis\":{\"id\":\"p1022\"}}}]}},{\"type\":\"object\",\"name\":\"Slider\",\"id\":\"p1047\",\"attributes\":{\"js_property_callbacks\":{\"type\":\"map\",\"entries\":[[\"change:value\",[{\"type\":\"object\",\"name\":\"CustomJS\",\"id\":\"p1048\",\"attributes\":{\"args\":{\"type\":\"map\",\"entries\":[[\"other\",{\"id\":\"p1041\"}]]},\"code\":\"other.size = this.value\"}}]]]},\"title\":\"Size\",\"start\":1,\"end\":100,\"value\":30}}]}}]}};\n  const render_items = [{\"docid\":\"c540540d-2790-4ad5-8a03-6f4d1811a489\",\"roots\":{\"p1050\":\"a7424b0a-c9b7-4fb7-9e05-f4def6d6d17c\"},\"root_ids\":[\"p1050\"]}];\n  root.Bokeh.embed.embed_items_notebook(docs_json, render_items);\n  }\n  if (root.Bokeh !== undefined) {\n    embed_document(root);\n  } else {\n    let attempts = 0;\n    const timer = setInterval(function(root) {\n      if (root.Bokeh !== undefined) {\n        clearInterval(timer);\n        embed_document(root);\n      } else {\n        attempts++;\n        if (attempts > 100) {\n          clearInterval(timer);\n          console.log(\"Bokeh: ERROR: Unable to run BokehJS code because BokehJS library is missing\");\n        }\n      }\n    }, 10, root)\n  }\n})(window);",
      "application/vnd.bokehjs_exec.v0+json": ""
     },
     "metadata": {
      "application/vnd.bokehjs_exec.v0+json": {
       "id": "p1050"
      }
     },
     "output_type": "display_data"
    }
   ],
   "source": [
    "show(row(f1, slider1))"
   ]
  },
  {
   "cell_type": "markdown",
   "metadata": {},
   "source": [
    "## Color Picker"
   ]
  },
  {
   "cell_type": "markdown",
   "metadata": {},
   "source": [
    "It is a widget to allow the user to specify an RGB color value."
   ]
  },
  {
   "cell_type": "code",
   "execution_count": 8,
   "metadata": {},
   "outputs": [],
   "source": [
    "from bokeh.models import ColorPicker"
   ]
  },
  {
   "cell_type": "code",
   "execution_count": 9,
   "metadata": {},
   "outputs": [],
   "source": [
    "f2 = figure(x_range=(0, 6), y_range=(0, 6), \n",
    "            toolbar_location=None,\n",
    "            width=350, height=300)\n",
    "g2 = f2.square_dot(x='x', y='y', source=source, color='green', size=30)"
   ]
  },
  {
   "cell_type": "code",
   "execution_count": 10,
   "metadata": {},
   "outputs": [],
   "source": [
    "picker2 = ColorPicker(title=\"Circles Color\", color='green')\n",
    "picker2.js_link('color', g2.glyph, 'fill_color')"
   ]
  },
  {
   "cell_type": "code",
   "execution_count": 11,
   "metadata": {},
   "outputs": [
    {
     "data": {
      "text/html": [
       "\n",
       "  <div id=\"a3db1110-a7fa-4310-8e95-d97847c356c4\" data-root-id=\"p1096\" style=\"display: contents;\"></div>\n"
      ]
     },
     "metadata": {},
     "output_type": "display_data"
    },
    {
     "data": {
      "application/javascript": "(function(root) {\n  function embed_document(root) {\n  const docs_json = {\"a58146eb-6cde-42ba-a3b9-8b4a96d62908\":{\"version\":\"3.3.4\",\"title\":\"Bokeh Application\",\"roots\":[{\"type\":\"object\",\"name\":\"Column\",\"id\":\"p1096\",\"attributes\":{\"children\":[{\"type\":\"object\",\"name\":\"ColorPicker\",\"id\":\"p1094\",\"attributes\":{\"js_property_callbacks\":{\"type\":\"map\",\"entries\":[[\"change:color\",[{\"type\":\"object\",\"name\":\"CustomJS\",\"id\":\"p1095\",\"attributes\":{\"args\":{\"type\":\"map\",\"entries\":[[\"other\",{\"type\":\"object\",\"name\":\"Scatter\",\"id\":\"p1088\",\"attributes\":{\"x\":{\"type\":\"field\",\"field\":\"x\"},\"y\":{\"type\":\"field\",\"field\":\"y\"},\"size\":{\"type\":\"value\",\"value\":30},\"line_color\":{\"type\":\"value\",\"value\":\"green\"},\"fill_color\":{\"type\":\"value\",\"value\":\"green\"},\"hatch_color\":{\"type\":\"value\",\"value\":\"green\"},\"marker\":{\"type\":\"value\",\"value\":\"square_dot\"}}}]]},\"code\":\"other.fill_color = this.color\"}}]]]},\"title\":\"Circles Color\",\"color\":\"#008000\"}},{\"type\":\"object\",\"name\":\"Figure\",\"id\":\"p1051\",\"attributes\":{\"width\":350,\"height\":300,\"x_range\":{\"type\":\"object\",\"name\":\"Range1d\",\"id\":\"p1060\",\"attributes\":{\"end\":6}},\"y_range\":{\"type\":\"object\",\"name\":\"Range1d\",\"id\":\"p1061\",\"attributes\":{\"end\":6}},\"x_scale\":{\"type\":\"object\",\"name\":\"LinearScale\",\"id\":\"p1062\"},\"y_scale\":{\"type\":\"object\",\"name\":\"LinearScale\",\"id\":\"p1063\"},\"title\":{\"type\":\"object\",\"name\":\"Title\",\"id\":\"p1058\"},\"renderers\":[{\"type\":\"object\",\"name\":\"GlyphRenderer\",\"id\":\"p1091\",\"attributes\":{\"data_source\":{\"type\":\"object\",\"name\":\"ColumnDataSource\",\"id\":\"p1001\",\"attributes\":{\"selected\":{\"type\":\"object\",\"name\":\"Selection\",\"id\":\"p1002\",\"attributes\":{\"indices\":[],\"line_indices\":[]}},\"selection_policy\":{\"type\":\"object\",\"name\":\"UnionRenderers\",\"id\":\"p1003\"},\"data\":{\"type\":\"map\",\"entries\":[[\"x\",[1,2,3,4,5]],[\"y\",[3,1,5,2,4]]]}}},\"view\":{\"type\":\"object\",\"name\":\"CDSView\",\"id\":\"p1092\",\"attributes\":{\"filter\":{\"type\":\"object\",\"name\":\"AllIndices\",\"id\":\"p1093\"}}},\"glyph\":{\"id\":\"p1088\"},\"nonselection_glyph\":{\"type\":\"object\",\"name\":\"Scatter\",\"id\":\"p1089\",\"attributes\":{\"x\":{\"type\":\"field\",\"field\":\"x\"},\"y\":{\"type\":\"field\",\"field\":\"y\"},\"size\":{\"type\":\"value\",\"value\":30},\"line_color\":{\"type\":\"value\",\"value\":\"green\"},\"line_alpha\":{\"type\":\"value\",\"value\":0.1},\"fill_color\":{\"type\":\"value\",\"value\":\"green\"},\"fill_alpha\":{\"type\":\"value\",\"value\":0.1},\"hatch_color\":{\"type\":\"value\",\"value\":\"green\"},\"hatch_alpha\":{\"type\":\"value\",\"value\":0.1},\"marker\":{\"type\":\"value\",\"value\":\"square_dot\"}}},\"muted_glyph\":{\"type\":\"object\",\"name\":\"Scatter\",\"id\":\"p1090\",\"attributes\":{\"x\":{\"type\":\"field\",\"field\":\"x\"},\"y\":{\"type\":\"field\",\"field\":\"y\"},\"size\":{\"type\":\"value\",\"value\":30},\"line_color\":{\"type\":\"value\",\"value\":\"green\"},\"line_alpha\":{\"type\":\"value\",\"value\":0.2},\"fill_color\":{\"type\":\"value\",\"value\":\"green\"},\"fill_alpha\":{\"type\":\"value\",\"value\":0.2},\"hatch_color\":{\"type\":\"value\",\"value\":\"green\"},\"hatch_alpha\":{\"type\":\"value\",\"value\":0.2},\"marker\":{\"type\":\"value\",\"value\":\"square_dot\"}}}}}],\"toolbar\":{\"type\":\"object\",\"name\":\"Toolbar\",\"id\":\"p1059\",\"attributes\":{\"tools\":[{\"type\":\"object\",\"name\":\"PanTool\",\"id\":\"p1074\"},{\"type\":\"object\",\"name\":\"WheelZoomTool\",\"id\":\"p1075\",\"attributes\":{\"renderers\":\"auto\"}},{\"type\":\"object\",\"name\":\"BoxZoomTool\",\"id\":\"p1076\",\"attributes\":{\"overlay\":{\"type\":\"object\",\"name\":\"BoxAnnotation\",\"id\":\"p1077\",\"attributes\":{\"syncable\":false,\"level\":\"overlay\",\"visible\":false,\"left\":{\"type\":\"number\",\"value\":\"nan\"},\"right\":{\"type\":\"number\",\"value\":\"nan\"},\"top\":{\"type\":\"number\",\"value\":\"nan\"},\"bottom\":{\"type\":\"number\",\"value\":\"nan\"},\"left_units\":\"canvas\",\"right_units\":\"canvas\",\"top_units\":\"canvas\",\"bottom_units\":\"canvas\",\"line_color\":\"black\",\"line_alpha\":1.0,\"line_width\":2,\"line_dash\":[4,4],\"fill_color\":\"lightgrey\",\"fill_alpha\":0.5}}}},{\"type\":\"object\",\"name\":\"SaveTool\",\"id\":\"p1082\"},{\"type\":\"object\",\"name\":\"ResetTool\",\"id\":\"p1083\"},{\"type\":\"object\",\"name\":\"HelpTool\",\"id\":\"p1084\"}]}},\"toolbar_location\":null,\"left\":[{\"type\":\"object\",\"name\":\"LinearAxis\",\"id\":\"p1069\",\"attributes\":{\"ticker\":{\"type\":\"object\",\"name\":\"BasicTicker\",\"id\":\"p1070\",\"attributes\":{\"mantissas\":[1,2,5]}},\"formatter\":{\"type\":\"object\",\"name\":\"BasicTickFormatter\",\"id\":\"p1071\"},\"major_label_policy\":{\"type\":\"object\",\"name\":\"AllLabels\",\"id\":\"p1072\"}}}],\"below\":[{\"type\":\"object\",\"name\":\"LinearAxis\",\"id\":\"p1064\",\"attributes\":{\"ticker\":{\"type\":\"object\",\"name\":\"BasicTicker\",\"id\":\"p1065\",\"attributes\":{\"mantissas\":[1,2,5]}},\"formatter\":{\"type\":\"object\",\"name\":\"BasicTickFormatter\",\"id\":\"p1066\"},\"major_label_policy\":{\"type\":\"object\",\"name\":\"AllLabels\",\"id\":\"p1067\"}}}],\"center\":[{\"type\":\"object\",\"name\":\"Grid\",\"id\":\"p1068\",\"attributes\":{\"axis\":{\"id\":\"p1064\"}}},{\"type\":\"object\",\"name\":\"Grid\",\"id\":\"p1073\",\"attributes\":{\"dimension\":1,\"axis\":{\"id\":\"p1069\"}}}]}}]}}]}};\n  const render_items = [{\"docid\":\"a58146eb-6cde-42ba-a3b9-8b4a96d62908\",\"roots\":{\"p1096\":\"a3db1110-a7fa-4310-8e95-d97847c356c4\"},\"root_ids\":[\"p1096\"]}];\n  root.Bokeh.embed.embed_items_notebook(docs_json, render_items);\n  }\n  if (root.Bokeh !== undefined) {\n    embed_document(root);\n  } else {\n    let attempts = 0;\n    const timer = setInterval(function(root) {\n      if (root.Bokeh !== undefined) {\n        clearInterval(timer);\n        embed_document(root);\n      } else {\n        attempts++;\n        if (attempts > 100) {\n          clearInterval(timer);\n          console.log(\"Bokeh: ERROR: Unable to run BokehJS code because BokehJS library is missing\");\n        }\n      }\n    }, 10, root)\n  }\n})(window);",
      "application/vnd.bokehjs_exec.v0+json": ""
     },
     "metadata": {
      "application/vnd.bokehjs_exec.v0+json": {
       "id": "p1096"
      }
     },
     "output_type": "display_data"
    }
   ],
   "source": [
    "show(column(picker2, f2))"
   ]
  },
  {
   "cell_type": "markdown",
   "metadata": {},
   "source": [
    "## Select"
   ]
  },
  {
   "cell_type": "markdown",
   "metadata": {},
   "source": [
    "It is a button that displays a drop-down list of mutually exclusive items when clicked."
   ]
  },
  {
   "cell_type": "code",
   "execution_count": 12,
   "metadata": {},
   "outputs": [],
   "source": [
    "from bokeh.models import Select"
   ]
  },
  {
   "cell_type": "code",
   "execution_count": 13,
   "metadata": {},
   "outputs": [],
   "source": [
    "f3 = figure(x_range=(0, 6), y_range=(0, 6), \n",
    "            toolbar_location=None,\n",
    "            width=350, height=300)\n",
    "g3 = f3.scatter(x='x', y='y', source=source, color='orangered', size=30, marker='circle')"
   ]
  },
  {
   "cell_type": "code",
   "execution_count": 14,
   "metadata": {},
   "outputs": [],
   "source": [
    "select3 = Select(title=\"Select marker\", value='circle',\n",
    "            options=['star','square','plus','diamond','triangle','circle'])\n",
    "select3.js_link('value', g3.glyph, 'marker')            "
   ]
  },
  {
   "cell_type": "code",
   "execution_count": 15,
   "metadata": {},
   "outputs": [
    {
     "data": {
      "text/html": [
       "\n",
       "  <div id=\"b3ee4eb0-d6ad-4289-ac05-324a2ed50fc3\" data-root-id=\"p1142\" style=\"display: contents;\"></div>\n"
      ]
     },
     "metadata": {},
     "output_type": "display_data"
    },
    {
     "data": {
      "application/javascript": "(function(root) {\n  function embed_document(root) {\n  const docs_json = {\"6660c77c-4ac4-4833-b6e3-15f653b21b4c\":{\"version\":\"3.3.4\",\"title\":\"Bokeh Application\",\"roots\":[{\"type\":\"object\",\"name\":\"Column\",\"id\":\"p1142\",\"attributes\":{\"children\":[{\"type\":\"object\",\"name\":\"Select\",\"id\":\"p1140\",\"attributes\":{\"js_property_callbacks\":{\"type\":\"map\",\"entries\":[[\"change:value\",[{\"type\":\"object\",\"name\":\"CustomJS\",\"id\":\"p1141\",\"attributes\":{\"args\":{\"type\":\"map\",\"entries\":[[\"other\",{\"type\":\"object\",\"name\":\"Scatter\",\"id\":\"p1134\",\"attributes\":{\"x\":{\"type\":\"field\",\"field\":\"x\"},\"y\":{\"type\":\"field\",\"field\":\"y\"},\"size\":{\"type\":\"value\",\"value\":30},\"line_color\":{\"type\":\"value\",\"value\":\"orangered\"},\"fill_color\":{\"type\":\"value\",\"value\":\"orangered\"},\"hatch_color\":{\"type\":\"value\",\"value\":\"orangered\"}}}]]},\"code\":\"other.marker = this.value\"}}]]]},\"title\":\"Select marker\",\"options\":[\"star\",\"square\",\"plus\",\"diamond\",\"triangle\",\"circle\"],\"value\":\"circle\"}},{\"type\":\"object\",\"name\":\"Figure\",\"id\":\"p1097\",\"attributes\":{\"width\":350,\"height\":300,\"x_range\":{\"type\":\"object\",\"name\":\"Range1d\",\"id\":\"p1106\",\"attributes\":{\"end\":6}},\"y_range\":{\"type\":\"object\",\"name\":\"Range1d\",\"id\":\"p1107\",\"attributes\":{\"end\":6}},\"x_scale\":{\"type\":\"object\",\"name\":\"LinearScale\",\"id\":\"p1108\"},\"y_scale\":{\"type\":\"object\",\"name\":\"LinearScale\",\"id\":\"p1109\"},\"title\":{\"type\":\"object\",\"name\":\"Title\",\"id\":\"p1104\"},\"renderers\":[{\"type\":\"object\",\"name\":\"GlyphRenderer\",\"id\":\"p1137\",\"attributes\":{\"data_source\":{\"type\":\"object\",\"name\":\"ColumnDataSource\",\"id\":\"p1001\",\"attributes\":{\"selected\":{\"type\":\"object\",\"name\":\"Selection\",\"id\":\"p1002\",\"attributes\":{\"indices\":[],\"line_indices\":[]}},\"selection_policy\":{\"type\":\"object\",\"name\":\"UnionRenderers\",\"id\":\"p1003\"},\"data\":{\"type\":\"map\",\"entries\":[[\"x\",[1,2,3,4,5]],[\"y\",[3,1,5,2,4]]]}}},\"view\":{\"type\":\"object\",\"name\":\"CDSView\",\"id\":\"p1138\",\"attributes\":{\"filter\":{\"type\":\"object\",\"name\":\"AllIndices\",\"id\":\"p1139\"}}},\"glyph\":{\"id\":\"p1134\"},\"nonselection_glyph\":{\"type\":\"object\",\"name\":\"Scatter\",\"id\":\"p1135\",\"attributes\":{\"x\":{\"type\":\"field\",\"field\":\"x\"},\"y\":{\"type\":\"field\",\"field\":\"y\"},\"size\":{\"type\":\"value\",\"value\":30},\"line_color\":{\"type\":\"value\",\"value\":\"orangered\"},\"line_alpha\":{\"type\":\"value\",\"value\":0.1},\"fill_color\":{\"type\":\"value\",\"value\":\"orangered\"},\"fill_alpha\":{\"type\":\"value\",\"value\":0.1},\"hatch_color\":{\"type\":\"value\",\"value\":\"orangered\"},\"hatch_alpha\":{\"type\":\"value\",\"value\":0.1}}},\"muted_glyph\":{\"type\":\"object\",\"name\":\"Scatter\",\"id\":\"p1136\",\"attributes\":{\"x\":{\"type\":\"field\",\"field\":\"x\"},\"y\":{\"type\":\"field\",\"field\":\"y\"},\"size\":{\"type\":\"value\",\"value\":30},\"line_color\":{\"type\":\"value\",\"value\":\"orangered\"},\"line_alpha\":{\"type\":\"value\",\"value\":0.2},\"fill_color\":{\"type\":\"value\",\"value\":\"orangered\"},\"fill_alpha\":{\"type\":\"value\",\"value\":0.2},\"hatch_color\":{\"type\":\"value\",\"value\":\"orangered\"},\"hatch_alpha\":{\"type\":\"value\",\"value\":0.2}}}}}],\"toolbar\":{\"type\":\"object\",\"name\":\"Toolbar\",\"id\":\"p1105\",\"attributes\":{\"tools\":[{\"type\":\"object\",\"name\":\"PanTool\",\"id\":\"p1120\"},{\"type\":\"object\",\"name\":\"WheelZoomTool\",\"id\":\"p1121\",\"attributes\":{\"renderers\":\"auto\"}},{\"type\":\"object\",\"name\":\"BoxZoomTool\",\"id\":\"p1122\",\"attributes\":{\"overlay\":{\"type\":\"object\",\"name\":\"BoxAnnotation\",\"id\":\"p1123\",\"attributes\":{\"syncable\":false,\"level\":\"overlay\",\"visible\":false,\"left\":{\"type\":\"number\",\"value\":\"nan\"},\"right\":{\"type\":\"number\",\"value\":\"nan\"},\"top\":{\"type\":\"number\",\"value\":\"nan\"},\"bottom\":{\"type\":\"number\",\"value\":\"nan\"},\"left_units\":\"canvas\",\"right_units\":\"canvas\",\"top_units\":\"canvas\",\"bottom_units\":\"canvas\",\"line_color\":\"black\",\"line_alpha\":1.0,\"line_width\":2,\"line_dash\":[4,4],\"fill_color\":\"lightgrey\",\"fill_alpha\":0.5}}}},{\"type\":\"object\",\"name\":\"SaveTool\",\"id\":\"p1128\"},{\"type\":\"object\",\"name\":\"ResetTool\",\"id\":\"p1129\"},{\"type\":\"object\",\"name\":\"HelpTool\",\"id\":\"p1130\"}]}},\"toolbar_location\":null,\"left\":[{\"type\":\"object\",\"name\":\"LinearAxis\",\"id\":\"p1115\",\"attributes\":{\"ticker\":{\"type\":\"object\",\"name\":\"BasicTicker\",\"id\":\"p1116\",\"attributes\":{\"mantissas\":[1,2,5]}},\"formatter\":{\"type\":\"object\",\"name\":\"BasicTickFormatter\",\"id\":\"p1117\"},\"major_label_policy\":{\"type\":\"object\",\"name\":\"AllLabels\",\"id\":\"p1118\"}}}],\"below\":[{\"type\":\"object\",\"name\":\"LinearAxis\",\"id\":\"p1110\",\"attributes\":{\"ticker\":{\"type\":\"object\",\"name\":\"BasicTicker\",\"id\":\"p1111\",\"attributes\":{\"mantissas\":[1,2,5]}},\"formatter\":{\"type\":\"object\",\"name\":\"BasicTickFormatter\",\"id\":\"p1112\"},\"major_label_policy\":{\"type\":\"object\",\"name\":\"AllLabels\",\"id\":\"p1113\"}}}],\"center\":[{\"type\":\"object\",\"name\":\"Grid\",\"id\":\"p1114\",\"attributes\":{\"axis\":{\"id\":\"p1110\"}}},{\"type\":\"object\",\"name\":\"Grid\",\"id\":\"p1119\",\"attributes\":{\"dimension\":1,\"axis\":{\"id\":\"p1115\"}}}]}}]}}]}};\n  const render_items = [{\"docid\":\"6660c77c-4ac4-4833-b6e3-15f653b21b4c\",\"roots\":{\"p1142\":\"b3ee4eb0-d6ad-4289-ac05-324a2ed50fc3\"},\"root_ids\":[\"p1142\"]}];\n  root.Bokeh.embed.embed_items_notebook(docs_json, render_items);\n  }\n  if (root.Bokeh !== undefined) {\n    embed_document(root);\n  } else {\n    let attempts = 0;\n    const timer = setInterval(function(root) {\n      if (root.Bokeh !== undefined) {\n        clearInterval(timer);\n        embed_document(root);\n      } else {\n        attempts++;\n        if (attempts > 100) {\n          clearInterval(timer);\n          console.log(\"Bokeh: ERROR: Unable to run BokehJS code because BokehJS library is missing\");\n        }\n      }\n    }, 10, root)\n  }\n})(window);",
      "application/vnd.bokehjs_exec.v0+json": ""
     },
     "metadata": {
      "application/vnd.bokehjs_exec.v0+json": {
       "id": "p1142"
      }
     },
     "output_type": "display_data"
    }
   ],
   "source": [
    "show(column(select3, f3))"
   ]
  },
  {
   "cell_type": "markdown",
   "metadata": {},
   "source": [
    "## Using Several Widgets"
   ]
  },
  {
   "cell_type": "markdown",
   "metadata": {},
   "source": [
    "### All together"
   ]
  },
  {
   "cell_type": "code",
   "execution_count": 16,
   "metadata": {},
   "outputs": [],
   "source": [
    "# Defining an empty figure\n",
    "f = figure(x_range=(0, 6), y_range=(0, 6), \n",
    "            toolbar_location=None,\n",
    "            width=400, height=300)"
   ]
  },
  {
   "cell_type": "markdown",
   "metadata": {},
   "source": [
    "Defining the basic scatter"
   ]
  },
  {
   "cell_type": "code",
   "execution_count": 17,
   "metadata": {},
   "outputs": [],
   "source": [
    "g = f.scatter(x='x', y='y', source=source,  \n",
    "            color='gold', line_color='white',            \n",
    "            size=30, \n",
    "            marker='circle')"
   ]
  },
  {
   "cell_type": "markdown",
   "metadata": {},
   "source": [
    "Defining the widgets"
   ]
  },
  {
   "cell_type": "code",
   "execution_count": 18,
   "metadata": {},
   "outputs": [],
   "source": [
    "slider = Slider(start=1, end=100, step=1, value=30, title='Size')\n",
    "slider.js_link('value', g.glyph, 'size')"
   ]
  },
  {
   "cell_type": "code",
   "execution_count": 19,
   "metadata": {},
   "outputs": [],
   "source": [
    "picker = ColorPicker(title=\"Color\", color='gold')\n",
    "picker.js_link('color', g.glyph, 'fill_color')"
   ]
  },
  {
   "cell_type": "code",
   "execution_count": 20,
   "metadata": {},
   "outputs": [],
   "source": [
    "select = Select(title=\"Select marker\", value='circle',\n",
    "            options=['star','square','plus','diamond','triangle','circle'])\n",
    "select.js_link('value', g.glyph, 'marker')   "
   ]
  },
  {
   "cell_type": "code",
   "execution_count": 21,
   "metadata": {},
   "outputs": [
    {
     "data": {
      "text/html": [
       "\n",
       "  <div id=\"cd96a3cd-8624-4e33-a90d-98263f2d0a67\" data-root-id=\"p1193\" style=\"display: contents;\"></div>\n"
      ]
     },
     "metadata": {},
     "output_type": "display_data"
    },
    {
     "data": {
      "application/javascript": "(function(root) {\n  function embed_document(root) {\n  const docs_json = {\"c9c3fcef-57da-4d80-88ed-69ac0a22c87d\":{\"version\":\"3.3.4\",\"title\":\"Bokeh Application\",\"roots\":[{\"type\":\"object\",\"name\":\"Row\",\"id\":\"p1193\",\"attributes\":{\"children\":[{\"type\":\"object\",\"name\":\"Figure\",\"id\":\"p1143\",\"attributes\":{\"width\":400,\"height\":300,\"x_range\":{\"type\":\"object\",\"name\":\"Range1d\",\"id\":\"p1152\",\"attributes\":{\"end\":6}},\"y_range\":{\"type\":\"object\",\"name\":\"Range1d\",\"id\":\"p1153\",\"attributes\":{\"end\":6}},\"x_scale\":{\"type\":\"object\",\"name\":\"LinearScale\",\"id\":\"p1154\"},\"y_scale\":{\"type\":\"object\",\"name\":\"LinearScale\",\"id\":\"p1155\"},\"title\":{\"type\":\"object\",\"name\":\"Title\",\"id\":\"p1150\"},\"renderers\":[{\"type\":\"object\",\"name\":\"GlyphRenderer\",\"id\":\"p1183\",\"attributes\":{\"data_source\":{\"type\":\"object\",\"name\":\"ColumnDataSource\",\"id\":\"p1001\",\"attributes\":{\"selected\":{\"type\":\"object\",\"name\":\"Selection\",\"id\":\"p1002\",\"attributes\":{\"indices\":[],\"line_indices\":[]}},\"selection_policy\":{\"type\":\"object\",\"name\":\"UnionRenderers\",\"id\":\"p1003\"},\"data\":{\"type\":\"map\",\"entries\":[[\"x\",[1,2,3,4,5]],[\"y\",[3,1,5,2,4]]]}}},\"view\":{\"type\":\"object\",\"name\":\"CDSView\",\"id\":\"p1184\",\"attributes\":{\"filter\":{\"type\":\"object\",\"name\":\"AllIndices\",\"id\":\"p1185\"}}},\"glyph\":{\"type\":\"object\",\"name\":\"Scatter\",\"id\":\"p1180\",\"attributes\":{\"x\":{\"type\":\"field\",\"field\":\"x\"},\"y\":{\"type\":\"field\",\"field\":\"y\"},\"size\":{\"type\":\"value\",\"value\":30},\"line_color\":{\"type\":\"value\",\"value\":\"white\"},\"fill_color\":{\"type\":\"value\",\"value\":\"gold\"},\"hatch_color\":{\"type\":\"value\",\"value\":\"gold\"}}},\"nonselection_glyph\":{\"type\":\"object\",\"name\":\"Scatter\",\"id\":\"p1181\",\"attributes\":{\"x\":{\"type\":\"field\",\"field\":\"x\"},\"y\":{\"type\":\"field\",\"field\":\"y\"},\"size\":{\"type\":\"value\",\"value\":30},\"line_color\":{\"type\":\"value\",\"value\":\"white\"},\"line_alpha\":{\"type\":\"value\",\"value\":0.1},\"fill_color\":{\"type\":\"value\",\"value\":\"gold\"},\"fill_alpha\":{\"type\":\"value\",\"value\":0.1},\"hatch_color\":{\"type\":\"value\",\"value\":\"gold\"},\"hatch_alpha\":{\"type\":\"value\",\"value\":0.1}}},\"muted_glyph\":{\"type\":\"object\",\"name\":\"Scatter\",\"id\":\"p1182\",\"attributes\":{\"x\":{\"type\":\"field\",\"field\":\"x\"},\"y\":{\"type\":\"field\",\"field\":\"y\"},\"size\":{\"type\":\"value\",\"value\":30},\"line_color\":{\"type\":\"value\",\"value\":\"white\"},\"line_alpha\":{\"type\":\"value\",\"value\":0.2},\"fill_color\":{\"type\":\"value\",\"value\":\"gold\"},\"fill_alpha\":{\"type\":\"value\",\"value\":0.2},\"hatch_color\":{\"type\":\"value\",\"value\":\"gold\"},\"hatch_alpha\":{\"type\":\"value\",\"value\":0.2}}}}}],\"toolbar\":{\"type\":\"object\",\"name\":\"Toolbar\",\"id\":\"p1151\",\"attributes\":{\"tools\":[{\"type\":\"object\",\"name\":\"PanTool\",\"id\":\"p1166\"},{\"type\":\"object\",\"name\":\"WheelZoomTool\",\"id\":\"p1167\",\"attributes\":{\"renderers\":\"auto\"}},{\"type\":\"object\",\"name\":\"BoxZoomTool\",\"id\":\"p1168\",\"attributes\":{\"overlay\":{\"type\":\"object\",\"name\":\"BoxAnnotation\",\"id\":\"p1169\",\"attributes\":{\"syncable\":false,\"level\":\"overlay\",\"visible\":false,\"left\":{\"type\":\"number\",\"value\":\"nan\"},\"right\":{\"type\":\"number\",\"value\":\"nan\"},\"top\":{\"type\":\"number\",\"value\":\"nan\"},\"bottom\":{\"type\":\"number\",\"value\":\"nan\"},\"left_units\":\"canvas\",\"right_units\":\"canvas\",\"top_units\":\"canvas\",\"bottom_units\":\"canvas\",\"line_color\":\"black\",\"line_alpha\":1.0,\"line_width\":2,\"line_dash\":[4,4],\"fill_color\":\"lightgrey\",\"fill_alpha\":0.5}}}},{\"type\":\"object\",\"name\":\"SaveTool\",\"id\":\"p1174\"},{\"type\":\"object\",\"name\":\"ResetTool\",\"id\":\"p1175\"},{\"type\":\"object\",\"name\":\"HelpTool\",\"id\":\"p1176\"}]}},\"toolbar_location\":null,\"left\":[{\"type\":\"object\",\"name\":\"LinearAxis\",\"id\":\"p1161\",\"attributes\":{\"ticker\":{\"type\":\"object\",\"name\":\"BasicTicker\",\"id\":\"p1162\",\"attributes\":{\"mantissas\":[1,2,5]}},\"formatter\":{\"type\":\"object\",\"name\":\"BasicTickFormatter\",\"id\":\"p1163\"},\"major_label_policy\":{\"type\":\"object\",\"name\":\"AllLabels\",\"id\":\"p1164\"}}}],\"below\":[{\"type\":\"object\",\"name\":\"LinearAxis\",\"id\":\"p1156\",\"attributes\":{\"ticker\":{\"type\":\"object\",\"name\":\"BasicTicker\",\"id\":\"p1157\",\"attributes\":{\"mantissas\":[1,2,5]}},\"formatter\":{\"type\":\"object\",\"name\":\"BasicTickFormatter\",\"id\":\"p1158\"},\"major_label_policy\":{\"type\":\"object\",\"name\":\"AllLabels\",\"id\":\"p1159\"}}}],\"center\":[{\"type\":\"object\",\"name\":\"Grid\",\"id\":\"p1160\",\"attributes\":{\"axis\":{\"id\":\"p1156\"}}},{\"type\":\"object\",\"name\":\"Grid\",\"id\":\"p1165\",\"attributes\":{\"dimension\":1,\"axis\":{\"id\":\"p1161\"}}}]}},{\"type\":\"object\",\"name\":\"Column\",\"id\":\"p1192\",\"attributes\":{\"children\":[{\"type\":\"object\",\"name\":\"Select\",\"id\":\"p1190\",\"attributes\":{\"js_property_callbacks\":{\"type\":\"map\",\"entries\":[[\"change:value\",[{\"type\":\"object\",\"name\":\"CustomJS\",\"id\":\"p1191\",\"attributes\":{\"args\":{\"type\":\"map\",\"entries\":[[\"other\",{\"id\":\"p1180\"}]]},\"code\":\"other.marker = this.value\"}}]]]},\"title\":\"Select marker\",\"options\":[\"star\",\"square\",\"plus\",\"diamond\",\"triangle\",\"circle\"],\"value\":\"circle\"}},{\"type\":\"object\",\"name\":\"ColorPicker\",\"id\":\"p1188\",\"attributes\":{\"js_property_callbacks\":{\"type\":\"map\",\"entries\":[[\"change:color\",[{\"type\":\"object\",\"name\":\"CustomJS\",\"id\":\"p1189\",\"attributes\":{\"args\":{\"type\":\"map\",\"entries\":[[\"other\",{\"id\":\"p1180\"}]]},\"code\":\"other.fill_color = this.color\"}}]]]},\"title\":\"Color\",\"color\":\"#ffd700\"}},{\"type\":\"object\",\"name\":\"Slider\",\"id\":\"p1186\",\"attributes\":{\"js_property_callbacks\":{\"type\":\"map\",\"entries\":[[\"change:value\",[{\"type\":\"object\",\"name\":\"CustomJS\",\"id\":\"p1187\",\"attributes\":{\"args\":{\"type\":\"map\",\"entries\":[[\"other\",{\"id\":\"p1180\"}]]},\"code\":\"other.size = this.value\"}}]]]},\"title\":\"Size\",\"start\":1,\"end\":100,\"value\":30}}]}}]}}]}};\n  const render_items = [{\"docid\":\"c9c3fcef-57da-4d80-88ed-69ac0a22c87d\",\"roots\":{\"p1193\":\"cd96a3cd-8624-4e33-a90d-98263f2d0a67\"},\"root_ids\":[\"p1193\"]}];\n  root.Bokeh.embed.embed_items_notebook(docs_json, render_items);\n  }\n  if (root.Bokeh !== undefined) {\n    embed_document(root);\n  } else {\n    let attempts = 0;\n    const timer = setInterval(function(root) {\n      if (root.Bokeh !== undefined) {\n        clearInterval(timer);\n        embed_document(root);\n      } else {\n        attempts++;\n        if (attempts > 100) {\n          clearInterval(timer);\n          console.log(\"Bokeh: ERROR: Unable to run BokehJS code because BokehJS library is missing\");\n        }\n      }\n    }, 10, root)\n  }\n})(window);",
      "application/vnd.bokehjs_exec.v0+json": ""
     },
     "metadata": {
      "application/vnd.bokehjs_exec.v0+json": {
       "id": "p1193"
      }
     },
     "output_type": "display_data"
    }
   ],
   "source": [
    "show(row(f, column(select, picker, slider)))"
   ]
  },
  {
   "cell_type": "markdown",
   "metadata": {},
   "source": [
    "### Quadratic Function Example"
   ]
  },
  {
   "cell_type": "code",
   "execution_count": 22,
   "metadata": {},
   "outputs": [],
   "source": [
    "x4 = np.linspace(-5, 5, 1000)\n",
    "y4 = x4*x4\n",
    "source4 = ColumnDataSource(data=dict(x=x4, y=y4))"
   ]
  },
  {
   "cell_type": "code",
   "execution_count": 23,
   "metadata": {},
   "outputs": [
    {
     "data": {
      "text/html": [
       "\n",
       "  <div id=\"dc694c62-4646-4604-9c04-6f5c4f4dc52d\" data-root-id=\"p1197\" style=\"display: contents;\"></div>\n"
      ]
     },
     "metadata": {},
     "output_type": "display_data"
    },
    {
     "data": {
      "application/javascript": "(function(root) {\n  function embed_document(root) {\n  const docs_json = {\"c97f4b8d-bb6b-4fb5-b25c-6940babdd3fd\":{\"version\":\"3.3.4\",\"title\":\"Bokeh Application\",\"roots\":[{\"type\":\"object\",\"name\":\"Figure\",\"id\":\"p1197\",\"attributes\":{\"height\":400,\"x_range\":{\"type\":\"object\",\"name\":\"Range1d\",\"id\":\"p1207\",\"attributes\":{\"start\":-5,\"end\":5}},\"y_range\":{\"type\":\"object\",\"name\":\"Range1d\",\"id\":\"p1208\",\"attributes\":{\"start\":-5,\"end\":5}},\"x_scale\":{\"type\":\"object\",\"name\":\"LinearScale\",\"id\":\"p1209\"},\"y_scale\":{\"type\":\"object\",\"name\":\"LinearScale\",\"id\":\"p1210\"},\"title\":{\"type\":\"object\",\"name\":\"Title\",\"id\":\"p1200\",\"attributes\":{\"text\":\"Quadratic Function\"}},\"renderers\":[{\"type\":\"object\",\"name\":\"GlyphRenderer\",\"id\":\"p1238\",\"attributes\":{\"data_source\":{\"type\":\"object\",\"name\":\"ColumnDataSource\",\"id\":\"p1194\",\"attributes\":{\"selected\":{\"type\":\"object\",\"name\":\"Selection\",\"id\":\"p1195\",\"attributes\":{\"indices\":[],\"line_indices\":[]}},\"selection_policy\":{\"type\":\"object\",\"name\":\"UnionRenderers\",\"id\":\"p1196\"},\"data\":{\"type\":\"map\",\"entries\":[[\"x\",{\"type\":\"ndarray\",\"array\":{\"type\":\"bytes\",\"data\":\"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\"},\"shape\":[1000],\"dtype\":\"float64\",\"order\":\"little\"}],[\"y\",{\"type\":\"ndarray\",\"array\":{\"type\":\"bytes\",\"data\":\"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\"},\"shape\":[1000],\"dtype\":\"float64\",\"order\":\"little\"}]]}}},\"view\":{\"type\":\"object\",\"name\":\"CDSView\",\"id\":\"p1239\",\"attributes\":{\"filter\":{\"type\":\"object\",\"name\":\"AllIndices\",\"id\":\"p1240\"}}},\"glyph\":{\"type\":\"object\",\"name\":\"Line\",\"id\":\"p1235\",\"attributes\":{\"x\":{\"type\":\"field\",\"field\":\"x\"},\"y\":{\"type\":\"field\",\"field\":\"y\"},\"line_color\":\"green\",\"line_alpha\":0.7,\"line_width\":2}},\"nonselection_glyph\":{\"type\":\"object\",\"name\":\"Line\",\"id\":\"p1236\",\"attributes\":{\"x\":{\"type\":\"field\",\"field\":\"x\"},\"y\":{\"type\":\"field\",\"field\":\"y\"},\"line_color\":\"green\",\"line_alpha\":0.1,\"line_width\":2}},\"muted_glyph\":{\"type\":\"object\",\"name\":\"Line\",\"id\":\"p1237\",\"attributes\":{\"x\":{\"type\":\"field\",\"field\":\"x\"},\"y\":{\"type\":\"field\",\"field\":\"y\"},\"line_color\":\"green\",\"line_alpha\":0.2,\"line_width\":2}}}}],\"toolbar\":{\"type\":\"object\",\"name\":\"Toolbar\",\"id\":\"p1206\",\"attributes\":{\"tools\":[{\"type\":\"object\",\"name\":\"PanTool\",\"id\":\"p1221\"},{\"type\":\"object\",\"name\":\"WheelZoomTool\",\"id\":\"p1222\",\"attributes\":{\"renderers\":\"auto\"}},{\"type\":\"object\",\"name\":\"BoxZoomTool\",\"id\":\"p1223\",\"attributes\":{\"overlay\":{\"type\":\"object\",\"name\":\"BoxAnnotation\",\"id\":\"p1224\",\"attributes\":{\"syncable\":false,\"level\":\"overlay\",\"visible\":false,\"left\":{\"type\":\"number\",\"value\":\"nan\"},\"right\":{\"type\":\"number\",\"value\":\"nan\"},\"top\":{\"type\":\"number\",\"value\":\"nan\"},\"bottom\":{\"type\":\"number\",\"value\":\"nan\"},\"left_units\":\"canvas\",\"right_units\":\"canvas\",\"top_units\":\"canvas\",\"bottom_units\":\"canvas\",\"line_color\":\"black\",\"line_alpha\":1.0,\"line_width\":2,\"line_dash\":[4,4],\"fill_color\":\"lightgrey\",\"fill_alpha\":0.5}}}},{\"type\":\"object\",\"name\":\"SaveTool\",\"id\":\"p1229\"},{\"type\":\"object\",\"name\":\"ResetTool\",\"id\":\"p1230\"},{\"type\":\"object\",\"name\":\"HelpTool\",\"id\":\"p1231\"}]}},\"left\":[{\"type\":\"object\",\"name\":\"LinearAxis\",\"id\":\"p1216\",\"attributes\":{\"ticker\":{\"type\":\"object\",\"name\":\"BasicTicker\",\"id\":\"p1217\",\"attributes\":{\"mantissas\":[1,2,5]}},\"formatter\":{\"type\":\"object\",\"name\":\"BasicTickFormatter\",\"id\":\"p1218\"},\"major_label_policy\":{\"type\":\"object\",\"name\":\"AllLabels\",\"id\":\"p1219\"}}}],\"below\":[{\"type\":\"object\",\"name\":\"LinearAxis\",\"id\":\"p1211\",\"attributes\":{\"ticker\":{\"type\":\"object\",\"name\":\"BasicTicker\",\"id\":\"p1212\",\"attributes\":{\"mantissas\":[1,2,5]}},\"formatter\":{\"type\":\"object\",\"name\":\"BasicTickFormatter\",\"id\":\"p1213\"},\"major_label_policy\":{\"type\":\"object\",\"name\":\"AllLabels\",\"id\":\"p1214\"}}}],\"center\":[{\"type\":\"object\",\"name\":\"Grid\",\"id\":\"p1215\",\"attributes\":{\"axis\":{\"id\":\"p1211\"}}},{\"type\":\"object\",\"name\":\"Grid\",\"id\":\"p1220\",\"attributes\":{\"dimension\":1,\"axis\":{\"id\":\"p1216\"}}}]}}]}};\n  const render_items = [{\"docid\":\"c97f4b8d-bb6b-4fb5-b25c-6940babdd3fd\",\"roots\":{\"p1197\":\"dc694c62-4646-4604-9c04-6f5c4f4dc52d\"},\"root_ids\":[\"p1197\"]}];\n  root.Bokeh.embed.embed_items_notebook(docs_json, render_items);\n  }\n  if (root.Bokeh !== undefined) {\n    embed_document(root);\n  } else {\n    let attempts = 0;\n    const timer = setInterval(function(root) {\n      if (root.Bokeh !== undefined) {\n        clearInterval(timer);\n        embed_document(root);\n      } else {\n        attempts++;\n        if (attempts > 100) {\n          clearInterval(timer);\n          console.log(\"Bokeh: ERROR: Unable to run BokehJS code because BokehJS library is missing\");\n        }\n      }\n    }, 10, root)\n  }\n})(window);",
      "application/vnd.bokehjs_exec.v0+json": ""
     },
     "metadata": {
      "application/vnd.bokehjs_exec.v0+json": {
       "id": "p1197"
      }
     },
     "output_type": "display_data"
    }
   ],
   "source": [
    "p4 = figure(y_range=(-5,5), x_range=(-5,5), width=600, height=400, title='Quadratic Function')\n",
    "p4.line('x', 'y', source=source4, line_width=2, color='green', line_alpha=0.7)\n",
    "show(p4)"
   ]
  },
  {
   "cell_type": "markdown",
   "metadata": {},
   "source": [
    "Let's create three sliders for modifying the vertex coordinates `(h,k)` and the quadratic coefficient `a`."
   ]
  },
  {
   "cell_type": "code",
   "execution_count": 24,
   "metadata": {},
   "outputs": [],
   "source": [
    "slider_a = Slider(start=-5, end=5, value=1, step=.1, title=\"Quadratic Coefficient\")\n",
    "slider_h = Slider(start=-5, end=5, value=0, step=.1, title=\"Vertex x-coordinate\")\n",
    "slider_k = Slider(start=-5, end=5, value=0, step=.1, title=\"Vertex y-coordinate\")"
   ]
  },
  {
   "cell_type": "code",
   "execution_count": 25,
   "metadata": {},
   "outputs": [],
   "source": [
    "from bokeh.models import CustomJS"
   ]
  },
  {
   "cell_type": "markdown",
   "metadata": {},
   "source": [
    "We need a simple JS code for updating the quadratic function when the user modifies the slider parameters `a`, `h`, and `k`."
   ]
  },
  {
   "cell_type": "code",
   "execution_count": 26,
   "metadata": {},
   "outputs": [],
   "source": [
    "callback = CustomJS(args=dict(source=source4, sa=slider_a, sh=slider_h, sk=slider_k), \n",
    "    code=\"\"\"\n",
    "    var data = source.data;\n",
    "    var a = sa.value;\n",
    "    var h = sh.value;\n",
    "    var k = sk.value;\n",
    "    var x = data['x']\n",
    "    var y = data['y']\n",
    "    for (var i = 0; i < x.length; i++) \n",
    "        y[i] = a * (x[i] - h)**2 + k;\n",
    "    source.change.emit();\n",
    "\"\"\")"
   ]
  },
  {
   "cell_type": "code",
   "execution_count": 27,
   "metadata": {},
   "outputs": [],
   "source": [
    "# Linking slider values to code\n",
    "slider_a.js_on_change('value', callback) \n",
    "slider_h.js_on_change('value', callback) \n",
    "slider_k.js_on_change('value', callback) "
   ]
  },
  {
   "cell_type": "code",
   "execution_count": 28,
   "metadata": {},
   "outputs": [
    {
     "data": {
      "text/html": [
       "\n",
       "  <div id=\"e457e67f-6ad9-4d50-916f-24672cfed0a1\" data-root-id=\"p1248\" style=\"display: contents;\"></div>\n"
      ]
     },
     "metadata": {},
     "output_type": "display_data"
    },
    {
     "data": {
      "application/javascript": "(function(root) {\n  function embed_document(root) {\n  const docs_json = {\"7290c2d3-cb18-44b4-b322-6efb24ff1b38\":{\"version\":\"3.3.4\",\"title\":\"Bokeh Application\",\"roots\":[{\"type\":\"object\",\"name\":\"Row\",\"id\":\"p1248\",\"attributes\":{\"children\":[{\"type\":\"object\",\"name\":\"Figure\",\"id\":\"p1197\",\"attributes\":{\"height\":400,\"x_range\":{\"type\":\"object\",\"name\":\"Range1d\",\"id\":\"p1207\",\"attributes\":{\"start\":-5,\"end\":5}},\"y_range\":{\"type\":\"object\",\"name\":\"Range1d\",\"id\":\"p1208\",\"attributes\":{\"start\":-5,\"end\":5}},\"x_scale\":{\"type\":\"object\",\"name\":\"LinearScale\",\"id\":\"p1209\"},\"y_scale\":{\"type\":\"object\",\"name\":\"LinearScale\",\"id\":\"p1210\"},\"title\":{\"type\":\"object\",\"name\":\"Title\",\"id\":\"p1200\",\"attributes\":{\"text\":\"Quadratic Function\"}},\"renderers\":[{\"type\":\"object\",\"name\":\"GlyphRenderer\",\"id\":\"p1238\",\"attributes\":{\"data_source\":{\"type\":\"object\",\"name\":\"ColumnDataSource\",\"id\":\"p1194\",\"attributes\":{\"selected\":{\"type\":\"object\",\"name\":\"Selection\",\"id\":\"p1195\",\"attributes\":{\"indices\":[],\"line_indices\":[]}},\"selection_policy\":{\"type\":\"object\",\"name\":\"UnionRenderers\",\"id\":\"p1196\"},\"data\":{\"type\":\"map\",\"entries\":[[\"x\",{\"type\":\"ndarray\",\"array\":{\"type\":\"bytes\",\"data\":\"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\"},\"shape\":[1000],\"dtype\":\"float64\",\"order\":\"little\"}],[\"y\",{\"type\":\"ndarray\",\"array\":{\"type\":\"bytes\",\"data\":\"AAAAAAAAOUDMwRRoZuY4QGOKU/LZzDhAxVm8nlqzOEDyL09t6Jk4QOsMDF6DgDhAr/DycCtnOEA+2wOm4E04QJjMPv2iNDhAvsSjdnIbOECvwzISTwI4QGvJ68846TdA89XOry/QN0BG6duxM7c3QGQDE9ZEnjdATSR0HGOFN0ACTP+Ejmw3QIJ6tA/HUzdAza+TvAw7N0Dj65yLXyI3QMUu0Hy/CTdAcngtkCzxNkDqyLTFptg2QC0gZh0uwDZAPH5Bl8KnNkAW40YzZI82QLtOdvESdzZAK8HP0c5eNkBnOlPUl0Y2QG66APltLjZAQEHYP1EWNkDeztmoQf41QEdjBTQ/5jVAe/5a4UnONUB6oNqwYbY1QEVJhKKGnjVA2/hXtriGNUA8r1Xs9241QGhsfUREVzVAYDDPvp0/NUAj+0pbBCg1QLHM8Bl4EDVACqXA+vj4NEAvhLr9huE0QB9q3iIiyjRA2lYsasqyNEBhSqTTf5s0QLJERl9ChDRAz0USDRJtNEC4TQjd7lU0QGtcKM/YPjRA6nFy488nNEA0juYZ1BA0QEmxhHLl+TNAKttM7QPjM0DWCz+KL8wzQE1DW0lotTNAj4GhKq6eM0CdxhEuAYgzQHYSrFNhcTNAGmVwm85aM0CJvl4FSUQzQMQed5HQLTNAyoW5P2UXM0Cb8yUQBwEzQDhovAK26jJAn+N8F3LUMkDSZWdOO74yQNHue6cRqDJAmn66IvWRMkAvFSPA5XsyQI+ytX/jZTJAulZyYe5PMkCxAVllBjoyQHOzaYsrJDJAAGyk010OMkBYKwk+nfgxQHzxl8rp4jFAa75QeUPNMUAlkjNKqrcxQKpsQD0eojFA+013Up+MMUAXNtiJLXcxQP4kY+PIYTFAsRoYX3FMMUAuF/f8JjcxQHcaAL3pITFAjCQzn7kMMUBrNZCjlvcwQBZNF8qA4jBAjGvIEnjNMEDNkKN9fLgwQNq8qAqOozBAsu/XuayOMEBVKTGL2HkwQMNptH4RZTBA/bBhlFdQMEAC/zjMqjswQNJTOiYLJzBAbq9longSMECmI3aB5vsvQAr2dAL20i9ABdbHxx+qL0CWw27RY4EvQL2+aR/CWC9Ae8e4sTowL0DQ3VuIzQcvQLsBU6N63y5APTOeAkK3LkBVcj2mI48uQAO/MI4fZy5ASBl4ujU/LkAkgRMrZhcuQJb2AuCw7y1An3lG2RXILUA+Ct4WlaAtQHSoyZgueS1AQVQJX+JRLUCjDZ1psCotQJ3UhLiYAy1ALanAS5vcLEBTi1AjuLUsQBB7ND/vjixAZHhsn0BoLEBOg/hDrEEsQM6b2CwyGyxA5cEMWtL0K0CT9ZTLjM4rQNc2cYFhqCtAsoWhe1CCK0Aj4iW6WVwrQCtM/jx9NitAycMqBLsQK0D+SKsPE+sqQMnbf1+FxSpAK3yo8xGgKkAjKiXMuHoqQLLl9eh5VSpA164aSlUwKkCThZPvSgsqQOZpYNla5ilAz1uBB4XBKUBOW/Z5yZwpQGRovzAoeClAEYPcK6FTKUBUq01rNC8pQC7hEu/hCilAniQst6nmKECkdZnDi8IoQELUWhSInihAdUBwqZ56KEA/utmCz1YoQKBBl6AaMyhAmNaoAoAPKEAleQ6p/+snQEopyJOZyCdABefVwk2lJ0BWsjc2HIInQD6L7e0EXydAvHH36Qc8J0DRZVUqJRknQHtnB69c9iZAvXYNeK7TJkCWk2eFGrEmQAW+FdegjiZACvYXbUFsJkCnO25H/EkmQNmOGGbRJyZAou8WycAFJkACXmlwyuMlQPjZD1zuwSVAhWMKjCygJUCp+lgAhX4lQGKf+7j3XCVAs1HytYQ7JUCaET33KxolQBff23zt+CRAK7rORsnXJEDVohVVv7YkQBaZsKfPlSRA7pyfPvp0JEBcruIZP1QkQGDNeTmeMyRA/PlknRcTJEAtNKRFq/IjQPV7NzJZ0iNAVNEeYyGyI0BJNFrYA5IjQNWk6ZEAciNA9yLNjxdSI0CwrgTSSDIjQP9HkFiUEiNA5e5vI/ryIkBho6MyetMiQHRlK4YUtCJAHjUHHsmUIkBeEjf6l3UiQDT9uhqBViJAofWSf4Q3IkCl+74oohgiQD8PPxba+SFAbzATSCzbIUA2Xzu+mLwhQJSbt3gfniFAiOWHd8B/IUATPay6e2EhQDSiJEJRQyFA7BTxDUElIUA6lREeSwchQB8jhnJv6SBAmr5OC67LIECsZ2voBq4gQFQe3Al6kCBAk+KgbwdzIEBptLkZr1UgQNWTJghxOCBA14DnOk0bIEDg9vhjh/wfQD8Hy9qowh9AyzJF2v6IH0CEeWdiiU8fQGvbMXNIFh9AflikDDzdHkC+8L4uZKQeQCukgdnAax5AxnLsDFIzHkCNXP/IF/sdQIJhug0Swx1Ao4Ed20CLHUDyvCgxpFMdQG4T3A88HB1AFoU3dwjlHEDsETtnCa4cQO+55t8+dxxAH3064ahAHEB8WzZrRwocQAZV2n0a1BtAvWkmGSKeG0ChmRo9XmgbQLLktunOMhtA8Er7HnT9GkBczOfcTcgaQPRofCNckxpAuSC58p5eGkCs851KFioaQMvhKivC9RlAGOtflKLBGUCRDz2Gt40ZQDhPwgABWhlADKrvA38mGUAMIMWPMfMYQDqxQqQYwBhAlV1oQTSNGEAdJTZnhFoYQNIHrBUJKBhAtAXKTML1F0DDHpAMsMMXQP9S/lTSkRdAaKIUJilgF0D+DNN/tC4XQMKSOWJ0/RZAsjNIzWjMFkDP7/7AkZsWQBrHXT3vahZAkblkQoE6FkA2xxPQRwoWQAfwauZC2hVABjRqhXKqFUAykxGt1noVQIoNYV1vSxVAEKNYljwcFUDDU/hXPu0UQKMfQKJ0vhRAsAYwdd+PFEDqCMjQfmEUQFEmCLVSMxRA5V7wIVsFFECmsoAXmNcTQJUhuZUJqhNAsKuZnK98E0D4UCIsik8TQG4RU0SZIhNAEO0r5dz1EkDf46wOVckSQNz11cABnRJABiOn++JwEkBcayC/+EQSQODOQQtDGRJAkU0L4MHtEUBu53w9dcIRQHmcliNdlxFAsWxYknlsEUAWWMKJykERQKhe1AlQFxFAZ4COEgrtEEBTvfCj+MIQQG0V+70bmRBAs4itYHNvEEAmFwiM/0UQQMbACkDAHBBAKAtr+WrnD0AcyxCEvpUPQGvBBiB7RA9AFe5MzaDzDkAYUeOLL6MOQHXqyVsnUw5ALLoAPYgDDkA+wIcvUrQNQKr8XjOFZQ1Ab2+GSCEXDUCPGP5uJskMQAn4xaaUewxA3Q3e72suDEALWkZKrOELQJPc/rVVlQtAdpUHM2hJC0CyhGDB4/0KQEmqCWHIsgpAOgYDEhZoCkCEmEzUzB0KQClh5qfs0wlAJWDQjHWKCUB+lQqDZ0EJQDEBlYrC+AhAPqNvo4awCECme5rNs2gIQGeKFQlKIQhAg8/gVUnaB0D5SvyzsZMHQMn8ZyODTQdA8+QjpL0HB0B3AzA2YcIGQFVYjNltfQZAjeM4juM4BkAgpTVUwvQFQAydgisKsQVAU8sfFLttBUDzLw0O1SoFQO7KShlY6ARAQ5zYNUSmBEDyo7ZjmWQEQPvh5KJXIwRAXlZj837iA0AcATJVD6IDQDPiUMgIYgNApfm/TGsiA0BwR3/iNuMCQJbLjolrpAJAFobuQQlmAkDwdp4LECgCQCSenuZ/6gFAsvvu0litAUCbj4/QmnABQN1ZgN9FNAFAelrB/1n4AEBwkVIx17wAQMH+M3S9gQBAbKJlyAxHAEBxfOctxQwAQKAZc0nNpf8/Eqe3WeIy/z84oZyMycD+PxMIIuKCT/4/ottHWg7f/T/lGw71a2/9P9zIdLKbAP0/iOJ7kp2S/D/oaCOVcSX8P/xba7oXufs/xLtTApBN+z9AiNxs2uL6P3HBBfr2ePo/VmfPqeUP+j/veTl8pqf5Pzz5Q3E5QPk/PuXuiJ7Z+D/zPTrD1XP4P10DJiDfDvg/ezWyn7qq9z9O1N5BaEf3P9Tfqwbo5PY/D1gZ7jmD9j/+PCf4XSL2P6GO1SRUwvU/+EwkdBxj9T8EeBPmtgT1P8QPo3ojp/Q/OBTTMWJK9D9ghaMLc+7zPz1jFAhWk/M/za0lJws58z8SZddokt/yPwuJKc3rhvI/uBkcVBcv8j8aF6/9FNjxPzCB4snkgfE/+le2uIYs8T94myrK+tfwP6pLP/5AhPA/kWj0VFkx8D9P5JOch77vP+3Qf9QAHO8/85asUR577j9iNhoU4NvtPzqvyBtGPu0/eQG4aFCi7D8hLej6/gfsPzIyWdJRb+s/qxAL70jY6j+MyP1Q5ELqP9ZZMfgjr+k/icSl5Acd6T+jCFsWkIzoPyYmUY28/ec/Eh2ISY1w5z9m7f9KAuXmPyKXuJEbW+Y/RxqyHdnS5T/UduzuOkzlP8qsZwVBx+Q/KLwjYetD5D/vpCACOsLjPx5nXugsQuM/tQLdE8TD4j+1d5yE/0biPx3GnDrfy+E/7u3dNWNS4T8n7192i9rgP8jJIvxXZOA/pPtMjpHf3z+JFtauu/nePz7k4FkuF94/xWRtj+k33T8cmHtP7VvcP0R+C5o5g9s/PRcdb86t2j8HY7DOq9vZP6FhxbjRDNk/DRNcLUBB2D9Jd3Qs93jXP1aODrb2s9Y/NFgqyj7y1T/j1MdozzPVP2ME55GoeNQ/s+aHRcrA0z/Ve6qDNAzTP8fDTkznWtI/ir50n+Ks0T8ebBx9JgLRP4PMReWyWtA/cb/hrw9tzz9+SzuqSivOPyw9mLkW8Mw/fZT43XO7yz9vUVwXYo3KPwJ0w2XhZck/OPwtyfFEyD8P6ptBkyrHP4g9Dc/FFsY/ovaBcYkJxT9eFfoo3gLEP7yZdfXDAsM/vIP01joJwj9d03bNQhbBP6CI/NjbKcA/CkcL8wuIvj8WSCRegsm8P2YURPMaGLs/+qtqstVzuT/RDpibsty3P+s8zK6xUrY/STYH7NLVtD/q+khTFmazP86KkeR7A7I/9uXgnwOusD/DGG4KW8uuPyD8JynzVKw/BHbvm8/4qT9vhsRi8LanP2Etp31Vj6U/2WqX7P6Boz/YPpWv7I6hP71SQY09bJ8/1lRzYyrvmz/9g8Dhn6aYPzLgKAiekpU/dGms1iSzkj/DH0tNNAiQP0EGCtiYI4s/Fye0Zdqfhj8IopRDLYWCPyjuVuMip30/dkzx3w0Wdz/6Xvh8G1dxP2lL2HSX1Gg/SkGZMD2fYD8xP2daUBxUP0yZnaphhUQ/oVdJj96MLT/IhpYNVET6PsiGlg1URPo+oVdJj96MLT9MmZ2qYYVEPzE/Z1pQHFQ/SkGZMD2fYD9pS9h0l9RoP/pe+HwbV3E/dkzx3w0Wdz8o7lbjIqd9PwiilEMthYI/Fye0Zdqfhj9BBgrYmCOLP8MfS000CJA/dGms1iSzkj8y4CgInpKVP/2DwOGfppg/1lRzYyrvmz+9UkGNPWyfP9g+la/sjqE/2WqX7P6Boz9hLad9VY+lP2+GxGLwtqc/BHbvm8/4qT8g/Ccp81SsP8MYbgpby64/9uXgnwOusD/OipHkewOyP+r6SFMWZrM/STYH7NLVtD/rPMyusVK2P9EOmJuy3Lc/+qtqstVzuT9mFETzGhi7PxZIJF6Cybw/CkcL8wuIvj+giPzY2ynAP13Tds1CFsE/vIP01joJwj+8mXX1wwLDP14V+ijeAsQ/ovaBcYkJxT+IPQ3PxRbGPw/qm0GTKsc/OPwtyfFEyD8CdMNl4WXJP29RXBdijco/fZT43XO7yz8sPZi5FvDMP35LO6pKK84/cb/hrw9tzz+DzEXlslrQPx5sHH0mAtE/ir50n+Ks0T/Hw05M51rSP9V7qoM0DNM/s+aHRcrA0z9jBOeRqHjUP+PUx2jPM9U/NFgqyj7y1T9Wjg629rPWP0l3dCz3eNc/DRNcLUBB2D+hYcW40QzZPwdjsM6r29k/PRcdb86t2j9EfguaOYPbPxyYe0/tW9w/xWRtj+k33T8+5OBZLhfeP4kW1q67+d4/pPtMjpHf3z/IySL8V2TgPyfvX3aL2uA/7u3dNWNS4T8dxpw638vhP7V3nIT/RuI/tQLdE8TD4j8eZ17oLELjP++kIAI6wuM/KLwjYetD5D/KrGcFQcfkP9R27O46TOU/RxqyHdnS5T8il7iRG1vmP2bt/0oC5eY/Eh2ISY1w5z8mJlGNvP3nP6MIWxaQjOg/icSl5Acd6T/WWTH4I6/pP4zI/VDkQuo/qxAL70jY6j8yMlnSUW/rPyEt6Pr+B+w/eQG4aFCi7D86r8gbRj7tP2I2GhTg2+0/85asUR577j/t0H/UABzvP0/kk5yHvu8/jWj0VFkx8D+mSz/+QITwP3SbKsr61/A/9Ve2uIYs8T8rgeLJ5IHxPxYXr/0U2PE/tBkcVBcv8j8HiSnN64byPw5l12iS3/I/ya0lJws58z84YxQIVpPzP1yFowtz7vM/MxTTMWJK9D+/D6N6I6f0P/93E+a2BPU/9EwkdBxj9T+cjtUkVML1P/k8J/hdIvY/ClgZ7jmD9j/P36sG6OT2P0nU3kFoR/c/djWyn7qq9z9YAyYg3w74P+49OsPVc/g/OeXuiJ7Z+D83+UNxOUD5P+p5OXymp/k/UWfPqeUP+j9swQX69nj6PzuI3Gza4vo/v7tTApBN+z/3W2u6F7n7P+NoI5VxJfw/g+J7kp2S/D/XyHSymwD9P+AbDvVrb/0/ndtHWg7f/T8OCCLigk/+PzOhnIzJwP4/DKe3WeIy/z+aGXNJzaX/P3R85y3FDABAb6JlyAxHAEDE/jN0vYEAQHORUjHXvABAfVrB/1n4AEDgWYDfRTQBQJ6Pj9CacAFAtfvu0litAUAnnp7mf+oBQPN2ngsQKAJAGYbuQQlmAkCZy46Ja6QCQHRHf+I24wJAqPm/TGsiA0A24lDICGIDQB8BMlUPogNAYlZj837iA0D+4eSiVyMEQPWjtmOZZARARpzYNUSmBEDxykoZWOgEQPcvDQ7VKgVAVssfFLttBUAPnYIrCrEFQCOlNVTC9AVAkOM4juM4BkBYWIzZbX0GQHoDMDZhwgZA9uQjpL0HB0DM/Gcjg00HQPxK/LOxkwdAhs/gVUnaB0BrihUJSiEIQKl7ms2zaAhAQqNvo4awCEA1AZWKwvgIQIGVCoNnQQlAKGDQjHWKCUApYean7NMJQISYTNTMHQpAOgYDEhZoCkBJqglhyLIKQLKEYMHj/QpAdpUHM2hJC0CT3P61VZULQAtaRkqs4QtA3Q3e72suDEAJ+MWmlHsMQI8Y/m4myQxAb2+GSCEXDUCq/F4zhWUNQD7Ahy9StA1ALLoAPYgDDkB16slbJ1MOQBhR44svow5AFe5MzaDzDkBrwQYge0QPQBzLEIS+lQ9AKAtr+WrnD0DGwApAwBwQQCYXCIz/RRBAs4itYHNvEEBtFfu9G5kQQFO98KP4whBAZ4COEgrtEECoXtQJUBcRQBZYwonKQRFAsWxYknlsEUB5nJYjXZcRQG7nfD11whFAkU0L4MHtEUDgzkELQxkSQFxrIL/4RBJABiOn++JwEkDc9dXAAZ0SQN/jrA5VyRJAEO0r5dz1EkBuEVNEmSITQPhQIiyKTxNAsKuZnK98E0CVIbmVCaoTQKaygBeY1xNA5V7wIVsFFEBRJgi1UjMUQOoIyNB+YRRAsAYwdd+PFECjH0CidL4UQMNT+Fc+7RRAEKNYljwcFUCKDWFdb0sVQDKTEa3WehVABjRqhXKqFUAH8GrmQtoVQDbHE9BHChZAkblkQoE6FkAax10972oWQM/v/sCRmxZAsjNIzWjMFkDCkjlidP0WQP4M03+0LhdAaKIUJilgF0D/Uv5U0pEXQMMekAywwxdAtAXKTML1F0DSB6wVCSgYQB0lNmeEWhhAlV1oQTSNGEA6sUKkGMAYQAwgxY8x8xhADKrvA38mGUA4T8IAAVoZQJEPPYa3jRlAGOtflKLBGUDL4SorwvUZQKzznUoWKhpAuSC58p5eGkD0aHwjXJMaQFzM59xNyBpA8Er7HnT9GkCy5LbpzjIbQKGZGj1eaBtAvWkmGSKeG0AGVdp9GtQbQHxbNmtHChxAH3064ahAHEDvuebfPnccQOwRO2cJrhxAFoU3dwjlHEBuE9wPPBwdQPK8KDGkUx1Ao4Ed20CLHUCCYboNEsMdQI1c/8gX+x1AxnLsDFIzHkArpIHZwGseQL7wvi5kpB5AflikDDzdHkBr2zFzSBYfQIR5Z2KJTx9AyzJF2v6IH0A/B8vaqMIfQOD2+GOH/B9A14DnOk0bIEDVkyYIcTggQGm0uRmvVSBAk+KgbwdzIEBUHtwJepAgQKxna+gGriBAmr5OC67LIEAfI4Zyb+kgQDqVER5LByFA7BTxDUElIUA0oiRCUUMhQBM9rLp7YSFAiOWHd8B/IUCUm7d4H54hQDZfO76YvCFAbzATSCzbIUA/Dz8W2vkhQKj7viiiGCJApPWSf4Q3IkA3/boagVYiQGESN/qXdSJAITUHHsmUIkB3ZSuGFLQiQGWjozJ60yJA6O5vI/ryIkACSJBYlBIjQLOuBNJIMiNA+iLNjxdSI0DYpOmRAHIjQEw0WtgDkiNAV9EeYyGyI0D4ezcyWdIjQDA0pEWr8iNA//lknRcTJEBkzXk5njMkQF+u4hk/VCRA8ZyfPvp0JEAambCnz5UkQNmiFVW/tiRALrrORsnXJEAa39t87fgkQJ0RPfcrGiVAtlHytYQ7JUBmn/u491wlQKz6WACFfiVAiGMKjCygJUD82Q9c7sElQAVeaXDK4yVApu8WycAFJkDdjhhm0ScmQKo7bkf8SSZADvYXbUFsJkAIvhXXoI4mQJmTZ4UasSZAwXYNeK7TJkB/ZwevXPYmQNNlVSolGSdAvnH36Qc8J0BAi+3tBF8nQFiyNzYcgidABufVwk2lJ0BLKciTmcgnQCd5Dqn/6ydAmdaoAoAPKECiQZegGjMoQEG62YLPVihAd0BwqZ56KEBD1FoUiJ4oQKZ1mcOLwihAnyQst6nmKEAv4RLv4QopQFarTWs0LylAE4PcK6FTKUBmaL8wKHgpQFBb9nnJnClA0VuBB4XBKUDoaWDZWuYpQJWFk+9KCypA2a4aSlUwKkC05fXoeVUqQCUqJcy4eipALXyo8xGgKkDL239fhcUqQABJqw8T6ypAy8MqBLsQK0AtTP48fTYrQCXiJbpZXCtAtIWhe1CCK0DZNnGBYagrQJX1lMuMzitA58EMWtL0K0DQm9gsMhssQFCD+EOsQSxAZnhsn0BoLEASezQ/744sQFWLUCO4tSxAL6nAS5vcLECf1IS4mAMtQKUNnWmwKi1AQ1QJX+JRLUB2qMmYLnktQEAK3haVoC1AoXlG2RXILUCY9gLgsO8tQCaBEytmFy5AShl4ujU/LkAFvzCOH2cuQFdyPaYjjy5APjOeAkK3LkC9AVOjet8uQNLdW4jNBy9Afce4sTowL0C/vmkfwlgvQJjDbtFjgS9AB9bHxx+qL0AM9nQC9tIvQKgjdoHm+y9Abq9longSMEDSUzomCycwQAL/OMyqOzBA/bBhlFdQMEDDabR+EWUwQFUpMYvYeTBAsu/XuayOMEDavKgKjqMwQM2Qo318uDBAjGvIEnjNMEAWTRfKgOIwQGs1kKOW9zBAjCQzn7kMMUB3GgC96SExQC4X9/wmNzFAsRoYX3FMMUD+JGPjyGExQBc22IktdzFA+013Up+MMUCqbEA9HqIxQCWSM0qqtzFAa75QeUPNMUB88ZfK6eIxQFgrCT6d+DFAAGyk010OMkBzs2mLKyQyQLEBWWUGOjJAulZyYe5PMkCPsrV/42UyQC8VI8DlezJAmn66IvWRMkDR7nunEagyQNJlZ047vjJAn+N8F3LUMkA4aLwCtuoyQJvzJRAHATNAyoW5P2UXM0DEHneR0C0zQIm+XgVJRDNAGmVwm85aM0B2EqxTYXEzQJ3GES4BiDNAj4GhKq6eM0BNQ1tJaLUzQNYLP4ovzDNAKttM7QPjM0BJsYRy5fkzQDSO5hnUEDRA6nFy488nNEBrXCjP2D40QLhNCN3uVTRAz0USDRJtNECyREZfQoQ0QGFKpNN/mzRA2lYsasqyNEAfat4iIso0QC+Euv2G4TRACqXA+vj4NECxzPAZeBA1QCP7SlsEKDVAYDDPvp0/NUBobH1ERFc1QDyvVez3bjVA2/hXtriGNUBFSYSihp41QHqg2rBhtjVAe/5a4UnONUBHYwU0P+Y1QN7O2ahB/jVAQEHYP1EWNkBuugD5bS42QGc6U9SXRjZAK8HP0c5eNkC7TnbxEnc2QBbjRjNkjzZAPH5Bl8KnNkAtIGYdLsA2QOrItMWm2DZAcngtkCzxNkDFLtB8vwk3QOPrnItfIjdAza+TvAw7N0CCerQPx1M3QAJM/4SObDdATSR0HGOFN0BkAxPWRJ43QEbp27EztzdA89XOry/QN0BryevPOOk3QK/DMhJPAjhAvsSjdnIbOECYzD79ojQ4QD7bA6bgTThAr/DycCtnOEDrDAxeg4A4QPIvT23omThAxVm8nlqzOEBjilPy2cw4QMzBFGhm5jhAAAAAAAAAOUA=\"},\"shape\":[1000],\"dtype\":\"float64\",\"order\":\"little\"}]]}}},\"view\":{\"type\":\"object\",\"name\":\"CDSView\",\"id\":\"p1239\",\"attributes\":{\"filter\":{\"type\":\"object\",\"name\":\"AllIndices\",\"id\":\"p1240\"}}},\"glyph\":{\"type\":\"object\",\"name\":\"Line\",\"id\":\"p1235\",\"attributes\":{\"x\":{\"type\":\"field\",\"field\":\"x\"},\"y\":{\"type\":\"field\",\"field\":\"y\"},\"line_color\":\"green\",\"line_alpha\":0.7,\"line_width\":2}},\"nonselection_glyph\":{\"type\":\"object\",\"name\":\"Line\",\"id\":\"p1236\",\"attributes\":{\"x\":{\"type\":\"field\",\"field\":\"x\"},\"y\":{\"type\":\"field\",\"field\":\"y\"},\"line_color\":\"green\",\"line_alpha\":0.1,\"line_width\":2}},\"muted_glyph\":{\"type\":\"object\",\"name\":\"Line\",\"id\":\"p1237\",\"attributes\":{\"x\":{\"type\":\"field\",\"field\":\"x\"},\"y\":{\"type\":\"field\",\"field\":\"y\"},\"line_color\":\"green\",\"line_alpha\":0.2,\"line_width\":2}}}}],\"toolbar\":{\"type\":\"object\",\"name\":\"Toolbar\",\"id\":\"p1206\",\"attributes\":{\"tools\":[{\"type\":\"object\",\"name\":\"PanTool\",\"id\":\"p1221\"},{\"type\":\"object\",\"name\":\"WheelZoomTool\",\"id\":\"p1222\",\"attributes\":{\"renderers\":\"auto\"}},{\"type\":\"object\",\"name\":\"BoxZoomTool\",\"id\":\"p1223\",\"attributes\":{\"overlay\":{\"type\":\"object\",\"name\":\"BoxAnnotation\",\"id\":\"p1224\",\"attributes\":{\"syncable\":false,\"level\":\"overlay\",\"visible\":false,\"left\":{\"type\":\"number\",\"value\":\"nan\"},\"right\":{\"type\":\"number\",\"value\":\"nan\"},\"top\":{\"type\":\"number\",\"value\":\"nan\"},\"bottom\":{\"type\":\"number\",\"value\":\"nan\"},\"left_units\":\"canvas\",\"right_units\":\"canvas\",\"top_units\":\"canvas\",\"bottom_units\":\"canvas\",\"line_color\":\"black\",\"line_alpha\":1.0,\"line_width\":2,\"line_dash\":[4,4],\"fill_color\":\"lightgrey\",\"fill_alpha\":0.5}}}},{\"type\":\"object\",\"name\":\"SaveTool\",\"id\":\"p1229\"},{\"type\":\"object\",\"name\":\"ResetTool\",\"id\":\"p1230\"},{\"type\":\"object\",\"name\":\"HelpTool\",\"id\":\"p1231\"}]}},\"left\":[{\"type\":\"object\",\"name\":\"LinearAxis\",\"id\":\"p1216\",\"attributes\":{\"ticker\":{\"type\":\"object\",\"name\":\"BasicTicker\",\"id\":\"p1217\",\"attributes\":{\"mantissas\":[1,2,5]}},\"formatter\":{\"type\":\"object\",\"name\":\"BasicTickFormatter\",\"id\":\"p1218\"},\"major_label_policy\":{\"type\":\"object\",\"name\":\"AllLabels\",\"id\":\"p1219\"}}}],\"below\":[{\"type\":\"object\",\"name\":\"LinearAxis\",\"id\":\"p1211\",\"attributes\":{\"ticker\":{\"type\":\"object\",\"name\":\"BasicTicker\",\"id\":\"p1212\",\"attributes\":{\"mantissas\":[1,2,5]}},\"formatter\":{\"type\":\"object\",\"name\":\"BasicTickFormatter\",\"id\":\"p1213\"},\"major_label_policy\":{\"type\":\"object\",\"name\":\"AllLabels\",\"id\":\"p1214\"}}}],\"center\":[{\"type\":\"object\",\"name\":\"Grid\",\"id\":\"p1215\",\"attributes\":{\"axis\":{\"id\":\"p1211\"}}},{\"type\":\"object\",\"name\":\"Grid\",\"id\":\"p1220\",\"attributes\":{\"dimension\":1,\"axis\":{\"id\":\"p1216\"}}}]}},{\"type\":\"object\",\"name\":\"Column\",\"id\":\"p1247\",\"attributes\":{\"children\":[{\"type\":\"object\",\"name\":\"Slider\",\"id\":\"p1243\",\"attributes\":{\"js_property_callbacks\":{\"type\":\"map\",\"entries\":[[\"change:value\",[{\"type\":\"object\",\"name\":\"CustomJS\",\"id\":\"p1246\",\"attributes\":{\"args\":{\"type\":\"map\",\"entries\":[[\"source\",{\"id\":\"p1194\"}],[\"sa\",{\"id\":\"p1243\"}],[\"sh\",{\"type\":\"object\",\"name\":\"Slider\",\"id\":\"p1244\",\"attributes\":{\"js_property_callbacks\":{\"type\":\"map\",\"entries\":[[\"change:value\",[{\"id\":\"p1246\"}]]]},\"title\":\"Vertex x-coordinate\",\"start\":-5,\"end\":5,\"value\":0,\"step\":0.1}}],[\"sk\",{\"type\":\"object\",\"name\":\"Slider\",\"id\":\"p1245\",\"attributes\":{\"js_property_callbacks\":{\"type\":\"map\",\"entries\":[[\"change:value\",[{\"id\":\"p1246\"}]]]},\"title\":\"Vertex y-coordinate\",\"start\":-5,\"end\":5,\"value\":0,\"step\":0.1}}]]},\"code\":\"\\n    var data = source.data;\\n    var a = sa.value;\\n    var h = sh.value;\\n    var k = sk.value;\\n    var x = data['x']\\n    var y = data['y']\\n    for (var i = 0; i < x.length; i++) \\n        y[i] = a * (x[i] - h)**2 + k;\\n    source.change.emit();\\n\"}}]]]},\"title\":\"Quadratic Coefficient\",\"start\":-5,\"end\":5,\"value\":1,\"step\":0.1}},{\"id\":\"p1244\"},{\"id\":\"p1245\"}]}}]}}]}};\n  const render_items = [{\"docid\":\"7290c2d3-cb18-44b4-b322-6efb24ff1b38\",\"roots\":{\"p1248\":\"e457e67f-6ad9-4d50-916f-24672cfed0a1\"},\"root_ids\":[\"p1248\"]}];\n  root.Bokeh.embed.embed_items_notebook(docs_json, render_items);\n  }\n  if (root.Bokeh !== undefined) {\n    embed_document(root);\n  } else {\n    let attempts = 0;\n    const timer = setInterval(function(root) {\n      if (root.Bokeh !== undefined) {\n        clearInterval(timer);\n        embed_document(root);\n      } else {\n        attempts++;\n        if (attempts > 100) {\n          clearInterval(timer);\n          console.log(\"Bokeh: ERROR: Unable to run BokehJS code because BokehJS library is missing\");\n        }\n      }\n    }, 10, root)\n  }\n})(window);",
      "application/vnd.bokehjs_exec.v0+json": ""
     },
     "metadata": {
      "application/vnd.bokehjs_exec.v0+json": {
       "id": "p1248"
      }
     },
     "output_type": "display_data"
    }
   ],
   "source": [
    "show(row(p4, column(slider_a, slider_h, slider_k)))"
   ]
  },
  {
   "cell_type": "code",
   "execution_count": 29,
   "metadata": {},
   "outputs": [
    {
     "data": {
      "text/html": [
       "\n",
       "  <div id=\"c920622c-e273-41da-8367-ec3ddd7277e5\" data-root-id=\"p1251\" style=\"display: contents;\"></div>\n"
      ]
     },
     "metadata": {},
     "output_type": "display_data"
    },
    {
     "data": {
      "application/javascript": "(function(root) {\n  function embed_document(root) {\n  const docs_json = {\"35d2075e-91f7-417d-aa13-50de0b2b6e26\":{\"version\":\"3.3.4\",\"title\":\"Bokeh Application\",\"roots\":[{\"type\":\"object\",\"name\":\"Column\",\"id\":\"p1251\",\"attributes\":{\"children\":[{\"type\":\"object\",\"name\":\"Slider\",\"id\":\"p1243\",\"attributes\":{\"js_property_callbacks\":{\"type\":\"map\",\"entries\":[[\"change:value\",[{\"type\":\"object\",\"name\":\"CustomJS\",\"id\":\"p1246\",\"attributes\":{\"args\":{\"type\":\"map\",\"entries\":[[\"source\",{\"type\":\"object\",\"name\":\"ColumnDataSource\",\"id\":\"p1194\",\"attributes\":{\"selected\":{\"type\":\"object\",\"name\":\"Selection\",\"id\":\"p1195\",\"attributes\":{\"indices\":[],\"line_indices\":[]}},\"selection_policy\":{\"type\":\"object\",\"name\":\"UnionRenderers\",\"id\":\"p1196\"},\"data\":{\"type\":\"map\",\"entries\":[[\"x\",{\"type\":\"ndarray\",\"array\":{\"type\":\"bytes\",\"data\":\"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\"},\"shape\":[1000],\"dtype\":\"float64\",\"order\":\"little\"}],[\"y\",{\"type\":\"ndarray\",\"array\":{\"type\":\"bytes\",\"data\":\"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\"},\"shape\":[1000],\"dtype\":\"float64\",\"order\":\"little\"}]]}}}],[\"sa\",{\"id\":\"p1243\"}],[\"sh\",{\"type\":\"object\",\"name\":\"Slider\",\"id\":\"p1244\",\"attributes\":{\"js_property_callbacks\":{\"type\":\"map\",\"entries\":[[\"change:value\",[{\"id\":\"p1246\"}]]]},\"title\":\"Vertex x-coordinate\",\"start\":-5,\"end\":5,\"value\":0,\"step\":0.1}}],[\"sk\",{\"type\":\"object\",\"name\":\"Slider\",\"id\":\"p1245\",\"attributes\":{\"js_property_callbacks\":{\"type\":\"map\",\"entries\":[[\"change:value\",[{\"id\":\"p1246\"}]]]},\"title\":\"Vertex y-coordinate\",\"start\":-5,\"end\":5,\"value\":0,\"step\":0.1}}]]},\"code\":\"\\n    var data = source.data;\\n    var a = sa.value;\\n    var h = sh.value;\\n    var k = sk.value;\\n    var x = data['x']\\n    var y = data['y']\\n    for (var i = 0; i < x.length; i++) \\n        y[i] = a * (x[i] - h)**2 + k;\\n    source.change.emit();\\n\"}}]]]},\"title\":\"Quadratic Coefficient\",\"start\":-5,\"end\":5,\"value\":1,\"step\":0.1}},{\"id\":\"p1244\"},{\"id\":\"p1245\"},{\"type\":\"object\",\"name\":\"Figure\",\"id\":\"p1197\",\"attributes\":{\"height\":400,\"x_range\":{\"type\":\"object\",\"name\":\"Range1d\",\"id\":\"p1207\",\"attributes\":{\"start\":-5,\"end\":5}},\"y_range\":{\"type\":\"object\",\"name\":\"Range1d\",\"id\":\"p1208\",\"attributes\":{\"start\":-5,\"end\":5}},\"x_scale\":{\"type\":\"object\",\"name\":\"LinearScale\",\"id\":\"p1209\"},\"y_scale\":{\"type\":\"object\",\"name\":\"LinearScale\",\"id\":\"p1210\"},\"title\":{\"type\":\"object\",\"name\":\"Title\",\"id\":\"p1200\",\"attributes\":{\"text\":\"Quadratic Function\"}},\"renderers\":[{\"type\":\"object\",\"name\":\"GlyphRenderer\",\"id\":\"p1238\",\"attributes\":{\"data_source\":{\"id\":\"p1194\"},\"view\":{\"type\":\"object\",\"name\":\"CDSView\",\"id\":\"p1239\",\"attributes\":{\"filter\":{\"type\":\"object\",\"name\":\"AllIndices\",\"id\":\"p1240\"}}},\"glyph\":{\"type\":\"object\",\"name\":\"Line\",\"id\":\"p1235\",\"attributes\":{\"x\":{\"type\":\"field\",\"field\":\"x\"},\"y\":{\"type\":\"field\",\"field\":\"y\"},\"line_color\":\"green\",\"line_alpha\":0.7,\"line_width\":2}},\"nonselection_glyph\":{\"type\":\"object\",\"name\":\"Line\",\"id\":\"p1236\",\"attributes\":{\"x\":{\"type\":\"field\",\"field\":\"x\"},\"y\":{\"type\":\"field\",\"field\":\"y\"},\"line_color\":\"green\",\"line_alpha\":0.1,\"line_width\":2}},\"muted_glyph\":{\"type\":\"object\",\"name\":\"Line\",\"id\":\"p1237\",\"attributes\":{\"x\":{\"type\":\"field\",\"field\":\"x\"},\"y\":{\"type\":\"field\",\"field\":\"y\"},\"line_color\":\"green\",\"line_alpha\":0.2,\"line_width\":2}}}}],\"toolbar\":{\"type\":\"object\",\"name\":\"Toolbar\",\"id\":\"p1206\",\"attributes\":{\"tools\":[{\"type\":\"object\",\"name\":\"PanTool\",\"id\":\"p1221\"},{\"type\":\"object\",\"name\":\"WheelZoomTool\",\"id\":\"p1222\",\"attributes\":{\"renderers\":\"auto\"}},{\"type\":\"object\",\"name\":\"BoxZoomTool\",\"id\":\"p1223\",\"attributes\":{\"overlay\":{\"type\":\"object\",\"name\":\"BoxAnnotation\",\"id\":\"p1224\",\"attributes\":{\"syncable\":false,\"level\":\"overlay\",\"visible\":false,\"left\":{\"type\":\"number\",\"value\":\"nan\"},\"right\":{\"type\":\"number\",\"value\":\"nan\"},\"top\":{\"type\":\"number\",\"value\":\"nan\"},\"bottom\":{\"type\":\"number\",\"value\":\"nan\"},\"left_units\":\"canvas\",\"right_units\":\"canvas\",\"top_units\":\"canvas\",\"bottom_units\":\"canvas\",\"line_color\":\"black\",\"line_alpha\":1.0,\"line_width\":2,\"line_dash\":[4,4],\"fill_color\":\"lightgrey\",\"fill_alpha\":0.5}}}},{\"type\":\"object\",\"name\":\"SaveTool\",\"id\":\"p1229\"},{\"type\":\"object\",\"name\":\"ResetTool\",\"id\":\"p1230\"},{\"type\":\"object\",\"name\":\"HelpTool\",\"id\":\"p1231\"}]}},\"left\":[{\"type\":\"object\",\"name\":\"LinearAxis\",\"id\":\"p1216\",\"attributes\":{\"ticker\":{\"type\":\"object\",\"name\":\"BasicTicker\",\"id\":\"p1217\",\"attributes\":{\"mantissas\":[1,2,5]}},\"formatter\":{\"type\":\"object\",\"name\":\"BasicTickFormatter\",\"id\":\"p1218\"},\"major_label_policy\":{\"type\":\"object\",\"name\":\"AllLabels\",\"id\":\"p1219\"}}}],\"below\":[{\"type\":\"object\",\"name\":\"LinearAxis\",\"id\":\"p1211\",\"attributes\":{\"ticker\":{\"type\":\"object\",\"name\":\"BasicTicker\",\"id\":\"p1212\",\"attributes\":{\"mantissas\":[1,2,5]}},\"formatter\":{\"type\":\"object\",\"name\":\"BasicTickFormatter\",\"id\":\"p1213\"},\"major_label_policy\":{\"type\":\"object\",\"name\":\"AllLabels\",\"id\":\"p1214\"}}}],\"center\":[{\"type\":\"object\",\"name\":\"Grid\",\"id\":\"p1215\",\"attributes\":{\"axis\":{\"id\":\"p1211\"}}},{\"type\":\"object\",\"name\":\"Grid\",\"id\":\"p1220\",\"attributes\":{\"dimension\":1,\"axis\":{\"id\":\"p1216\"}}}]}}]}}]}};\n  const render_items = [{\"docid\":\"35d2075e-91f7-417d-aa13-50de0b2b6e26\",\"roots\":{\"p1251\":\"c920622c-e273-41da-8367-ec3ddd7277e5\"},\"root_ids\":[\"p1251\"]}];\n  root.Bokeh.embed.embed_items_notebook(docs_json, render_items);\n  }\n  if (root.Bokeh !== undefined) {\n    embed_document(root);\n  } else {\n    let attempts = 0;\n    const timer = setInterval(function(root) {\n      if (root.Bokeh !== undefined) {\n        clearInterval(timer);\n        embed_document(root);\n      } else {\n        attempts++;\n        if (attempts > 100) {\n          clearInterval(timer);\n          console.log(\"Bokeh: ERROR: Unable to run BokehJS code because BokehJS library is missing\");\n        }\n      }\n    }, 10, root)\n  }\n})(window);",
      "application/vnd.bokehjs_exec.v0+json": ""
     },
     "metadata": {
      "application/vnd.bokehjs_exec.v0+json": {
       "id": "p1251"
      }
     },
     "output_type": "display_data"
    }
   ],
   "source": [
    "show(column(slider_a, slider_h, slider_k, p4))"
   ]
  },
  {
   "cell_type": "markdown",
   "metadata": {},
   "source": [
    "## Interactive legends"
   ]
  },
  {
   "cell_type": "markdown",
   "metadata": {},
   "source": [
    "Legends added to Bokeh graphs can be made interactive, so clicking on the legend entries will hide or mute the corresponding glyph in a plot. You can activate this mode by setting the `click_policy` property on a legend to `hide` or `mute`."
   ]
  },
  {
   "cell_type": "markdown",
   "metadata": {},
   "source": [
    "### Automobile Dataset"
   ]
  },
  {
   "cell_type": "markdown",
   "metadata": {},
   "source": [
    "We will use the Automobile Data Set [https://archive.ics.uci.edu/ml/datasets/automobile] from the UCI Machine Learning Repository [https://archive-beta.ics.uci.edu/]. It includes categorical and continuous variables. "
   ]
  },
  {
   "cell_type": "code",
   "execution_count": 30,
   "metadata": {},
   "outputs": [],
   "source": [
    "# Defining the headers\n",
    "headers = [\"symboling\", \"normalized_losses\", \"make\", \"fuel_type\", \"aspiration\", \"num_doors\", \"body_style\", \n",
    "           \"drive_wheels\", \"engine_location\", \"wheel_base\", \"length\", \"width\", \"height\", \"curb_weight\", \n",
    "           \"engine_type\", \"num_cylinders\", \"engine_size\", \"fuel_system\", \"bore\", \"stroke\", \"compression_ratio\", \n",
    "           \"horsepower\", \"peak_rpm\", \"city_mpg\", \"highway_mpg\", \"price\"]"
   ]
  },
  {
   "cell_type": "code",
   "execution_count": 31,
   "metadata": {},
   "outputs": [
    {
     "name": "stdout",
     "output_type": "stream",
     "text": [
      "(205, 26)\n"
     ]
    },
    {
     "data": {
      "text/html": [
       "<div>\n",
       "<style scoped>\n",
       "    .dataframe tbody tr th:only-of-type {\n",
       "        vertical-align: middle;\n",
       "    }\n",
       "\n",
       "    .dataframe tbody tr th {\n",
       "        vertical-align: top;\n",
       "    }\n",
       "\n",
       "    .dataframe thead th {\n",
       "        text-align: right;\n",
       "    }\n",
       "</style>\n",
       "<table border=\"1\" class=\"dataframe\">\n",
       "  <thead>\n",
       "    <tr style=\"text-align: right;\">\n",
       "      <th></th>\n",
       "      <th>symboling</th>\n",
       "      <th>normalized_losses</th>\n",
       "      <th>make</th>\n",
       "      <th>fuel_type</th>\n",
       "      <th>...</th>\n",
       "      <th>peak_rpm</th>\n",
       "      <th>city_mpg</th>\n",
       "      <th>highway_mpg</th>\n",
       "      <th>price</th>\n",
       "    </tr>\n",
       "  </thead>\n",
       "  <tbody>\n",
       "    <tr>\n",
       "      <th>0</th>\n",
       "      <td>3</td>\n",
       "      <td>NaN</td>\n",
       "      <td>alfa-romero</td>\n",
       "      <td>gas</td>\n",
       "      <td>...</td>\n",
       "      <td>5000.0</td>\n",
       "      <td>21</td>\n",
       "      <td>27</td>\n",
       "      <td>13495.0</td>\n",
       "    </tr>\n",
       "    <tr>\n",
       "      <th>1</th>\n",
       "      <td>3</td>\n",
       "      <td>NaN</td>\n",
       "      <td>alfa-romero</td>\n",
       "      <td>gas</td>\n",
       "      <td>...</td>\n",
       "      <td>5000.0</td>\n",
       "      <td>21</td>\n",
       "      <td>27</td>\n",
       "      <td>16500.0</td>\n",
       "    </tr>\n",
       "    <tr>\n",
       "      <th>2</th>\n",
       "      <td>1</td>\n",
       "      <td>NaN</td>\n",
       "      <td>alfa-romero</td>\n",
       "      <td>gas</td>\n",
       "      <td>...</td>\n",
       "      <td>5000.0</td>\n",
       "      <td>19</td>\n",
       "      <td>26</td>\n",
       "      <td>16500.0</td>\n",
       "    </tr>\n",
       "    <tr>\n",
       "      <th>3</th>\n",
       "      <td>2</td>\n",
       "      <td>164.0</td>\n",
       "      <td>audi</td>\n",
       "      <td>gas</td>\n",
       "      <td>...</td>\n",
       "      <td>5500.0</td>\n",
       "      <td>24</td>\n",
       "      <td>30</td>\n",
       "      <td>13950.0</td>\n",
       "    </tr>\n",
       "    <tr>\n",
       "      <th>4</th>\n",
       "      <td>2</td>\n",
       "      <td>164.0</td>\n",
       "      <td>audi</td>\n",
       "      <td>gas</td>\n",
       "      <td>...</td>\n",
       "      <td>5500.0</td>\n",
       "      <td>18</td>\n",
       "      <td>22</td>\n",
       "      <td>17450.0</td>\n",
       "    </tr>\n",
       "  </tbody>\n",
       "</table>\n",
       "<p>5 rows × 26 columns</p>\n",
       "</div>"
      ],
      "text/plain": [
       "   symboling  normalized_losses         make fuel_type  ... peak_rpm city_mpg  \\\n",
       "0          3                NaN  alfa-romero       gas  ...   5000.0       21   \n",
       "1          3                NaN  alfa-romero       gas  ...   5000.0       21   \n",
       "2          1                NaN  alfa-romero       gas  ...   5000.0       19   \n",
       "3          2              164.0         audi       gas  ...   5500.0       24   \n",
       "4          2              164.0         audi       gas  ...   5500.0       18   \n",
       "\n",
       "  highway_mpg    price  \n",
       "0          27  13495.0  \n",
       "1          27  16500.0  \n",
       "2          26  16500.0  \n",
       "3          30  13950.0  \n",
       "4          22  17450.0  \n",
       "\n",
       "[5 rows x 26 columns]"
      ]
     },
     "execution_count": 31,
     "metadata": {},
     "output_type": "execute_result"
    }
   ],
   "source": [
    "dfa = pd.read_csv(\"https://archive.ics.uci.edu/ml/machine-learning-databases/autos/imports-85.data\",\n",
    "                  header=None, names=headers, na_values=\"?\" )\n",
    "print(dfa.shape)\n",
    "dfa.head()"
   ]
  },
  {
   "cell_type": "markdown",
   "metadata": {},
   "source": [
    "### Hiding glyphs"
   ]
  },
  {
   "cell_type": "markdown",
   "metadata": {},
   "source": [
    "You can hide a glyph from the legend. Let's see how to do it!"
   ]
  },
  {
   "cell_type": "markdown",
   "metadata": {},
   "source": [
    "Analysing the unique values of `body_style`"
   ]
  },
  {
   "cell_type": "code",
   "execution_count": 32,
   "metadata": {},
   "outputs": [
    {
     "data": {
      "text/plain": [
       "array(['convertible', 'hatchback', 'sedan', 'wagon', 'hardtop'],\n",
       "      dtype=object)"
      ]
     },
     "execution_count": 32,
     "metadata": {},
     "output_type": "execute_result"
    }
   ],
   "source": [
    "dfa.body_style.unique()"
   ]
  },
  {
   "cell_type": "code",
   "execution_count": 33,
   "metadata": {},
   "outputs": [],
   "source": [
    "from bokeh.palettes import Bokeh5"
   ]
  },
  {
   "cell_type": "markdown",
   "metadata": {},
   "source": [
    "Creating a new plot with a title and axis labels"
   ]
  },
  {
   "cell_type": "code",
   "execution_count": 34,
   "metadata": {},
   "outputs": [],
   "source": [
    "sct = figure(title=\"Click on legend entries to HIDE the corresponding points\", \n",
    "            x_axis_label='Highway (mpg)', y_axis_label='Price',            \n",
    "            height=400, width=700)"
   ]
  },
  {
   "cell_type": "code",
   "execution_count": 35,
   "metadata": {},
   "outputs": [],
   "source": [
    "for option, color in zip(dfa.body_style.unique(), Bokeh5):\n",
    "    sct.circle_dot(dfa.highway_mpg[dfa.body_style==option], dfa.price[dfa.body_style==option], \n",
    "                size = 15, color = color, alpha=0.7, legend_label=option)"
   ]
  },
  {
   "cell_type": "code",
   "execution_count": 36,
   "metadata": {},
   "outputs": [
    {
     "data": {
      "text/html": [
       "\n",
       "  <div id=\"e41d2e33-e7bf-41a9-83dd-8bb05509cb50\" data-root-id=\"p1254\" style=\"display: contents;\"></div>\n"
      ]
     },
     "metadata": {},
     "output_type": "display_data"
    },
    {
     "data": {
      "application/javascript": "(function(root) {\n  function embed_document(root) {\n  const docs_json = {\"13305ede-9764-457f-8b95-86da6b7f1d68\":{\"version\":\"3.3.4\",\"title\":\"Bokeh Application\",\"roots\":[{\"type\":\"object\",\"name\":\"Figure\",\"id\":\"p1254\",\"attributes\":{\"width\":700,\"height\":400,\"x_range\":{\"type\":\"object\",\"name\":\"DataRange1d\",\"id\":\"p1255\"},\"y_range\":{\"type\":\"object\",\"name\":\"DataRange1d\",\"id\":\"p1256\"},\"x_scale\":{\"type\":\"object\",\"name\":\"LinearScale\",\"id\":\"p1264\"},\"y_scale\":{\"type\":\"object\",\"name\":\"LinearScale\",\"id\":\"p1265\"},\"title\":{\"type\":\"object\",\"name\":\"Title\",\"id\":\"p1257\",\"attributes\":{\"text\":\"Click on legend entries to HIDE the corresponding points\"}},\"renderers\":[{\"type\":\"object\",\"name\":\"GlyphRenderer\",\"id\":\"p1293\",\"attributes\":{\"data_source\":{\"type\":\"object\",\"name\":\"ColumnDataSource\",\"id\":\"p1287\",\"attributes\":{\"selected\":{\"type\":\"object\",\"name\":\"Selection\",\"id\":\"p1288\",\"attributes\":{\"indices\":[],\"line_indices\":[]}},\"selection_policy\":{\"type\":\"object\",\"name\":\"UnionRenderers\",\"id\":\"p1289\"},\"data\":{\"type\":\"map\",\"entries\":[[\"x\",{\"type\":\"ndarray\",\"array\":{\"type\":\"bytes\",\"data\":\"GwAAABsAAAASAAAAGQAAAB4AAAAdAAAA\"},\"shape\":[6],\"dtype\":\"int32\",\"order\":\"little\"}],[\"y\",{\"type\":\"ndarray\",\"array\":{\"type\":\"bytes\",\"data\":\"AAAAAIBbykAAAAAAAB3QQAAAAAAAHuFAAAAAAIAU4kAAAAAAQEHRQAAAAACApcZA\"},\"shape\":[6],\"dtype\":\"float64\",\"order\":\"little\"}]]}}},\"view\":{\"type\":\"object\",\"name\":\"CDSView\",\"id\":\"p1294\",\"attributes\":{\"filter\":{\"type\":\"object\",\"name\":\"AllIndices\",\"id\":\"p1295\"}}},\"glyph\":{\"type\":\"object\",\"name\":\"Scatter\",\"id\":\"p1290\",\"attributes\":{\"x\":{\"type\":\"field\",\"field\":\"x\"},\"y\":{\"type\":\"field\",\"field\":\"y\"},\"size\":{\"type\":\"value\",\"value\":15},\"line_color\":{\"type\":\"value\",\"value\":\"#EC1557\"},\"line_alpha\":{\"type\":\"value\",\"value\":0.7},\"fill_color\":{\"type\":\"value\",\"value\":\"#EC1557\"},\"fill_alpha\":{\"type\":\"value\",\"value\":0.7},\"hatch_color\":{\"type\":\"value\",\"value\":\"#EC1557\"},\"hatch_alpha\":{\"type\":\"value\",\"value\":0.7},\"marker\":{\"type\":\"value\",\"value\":\"circle_dot\"}}},\"nonselection_glyph\":{\"type\":\"object\",\"name\":\"Scatter\",\"id\":\"p1291\",\"attributes\":{\"x\":{\"type\":\"field\",\"field\":\"x\"},\"y\":{\"type\":\"field\",\"field\":\"y\"},\"size\":{\"type\":\"value\",\"value\":15},\"line_color\":{\"type\":\"value\",\"value\":\"#EC1557\"},\"line_alpha\":{\"type\":\"value\",\"value\":0.1},\"fill_color\":{\"type\":\"value\",\"value\":\"#EC1557\"},\"fill_alpha\":{\"type\":\"value\",\"value\":0.1},\"hatch_color\":{\"type\":\"value\",\"value\":\"#EC1557\"},\"hatch_alpha\":{\"type\":\"value\",\"value\":0.1},\"marker\":{\"type\":\"value\",\"value\":\"circle_dot\"}}},\"muted_glyph\":{\"type\":\"object\",\"name\":\"Scatter\",\"id\":\"p1292\",\"attributes\":{\"x\":{\"type\":\"field\",\"field\":\"x\"},\"y\":{\"type\":\"field\",\"field\":\"y\"},\"size\":{\"type\":\"value\",\"value\":15},\"line_color\":{\"type\":\"value\",\"value\":\"#EC1557\"},\"line_alpha\":{\"type\":\"value\",\"value\":0.2},\"fill_color\":{\"type\":\"value\",\"value\":\"#EC1557\"},\"fill_alpha\":{\"type\":\"value\",\"value\":0.2},\"hatch_color\":{\"type\":\"value\",\"value\":\"#EC1557\"},\"hatch_alpha\":{\"type\":\"value\",\"value\":0.2},\"marker\":{\"type\":\"value\",\"value\":\"circle_dot\"}}}}},{\"type\":\"object\",\"name\":\"GlyphRenderer\",\"id\":\"p1304\",\"attributes\":{\"data_source\":{\"type\":\"object\",\"name\":\"ColumnDataSource\",\"id\":\"p1298\",\"attributes\":{\"selected\":{\"type\":\"object\",\"name\":\"Selection\",\"id\":\"p1299\",\"attributes\":{\"indices\":[],\"line_indices\":[]}},\"selection_policy\":{\"type\":\"object\",\"name\":\"UnionRenderers\",\"id\":\"p1300\"},\"data\":{\"type\":\"map\",\"entries\":[[\"x\",{\"type\":\"ndarray\",\"array\":{\"type\":\"bytes\",\"data\":\"GgAAABYAAAA1AAAAKwAAACkAAAAmAAAAHgAAACYAAAAYAAAANgAAACYAAAAqAAAAIgAAACIAAAAhAAAAIQAAAB0AAAAfAAAAJgAAACYAAAAXAAAAFwAAABcAAAAXAAAAIAAAACAAAAAgAAAAGAAAACkAAAAmAAAAJgAAAB4AAAAeAAAAIAAAABgAAAAYAAAAGAAAACUAAAAiAAAAGQAAABcAAAAZAAAAKQAAAB4AAAAmAAAAGAAAABsAAAAcAAAAHwAAABwAAAAcAAAAGgAAACQAAAAfAAAAHwAAACcAAAAmAAAAJgAAACUAAAAvAAAAIgAAACIAAAAdAAAAHgAAAB4AAAAgAAAAIAAAABgAAAAYAAAAHQAAAA==\"},\"shape\":[70],\"dtype\":\"int32\",\"order\":\"little\"}],[\"y\",{\"type\":\"ndarray\",\"array\":{\"type\":\"bytes\",\"data\":\"AAAAAAAd0EAAAAAAAAD4fwAAAAAAH7RAAAAAAACXuEAAAAAAAMS1QAAAAAAA6bhAAAAAAAAVv0AAAAAAAFW4QAAAAAAAUslAAAAAAABPuUAAAAAAAMe6QAAAAAAAF7VAAAAAAACBuUAAAAAAANm7QAAAAAAA175AAAAAAIDDwUAAAAAAAJTFQAAAAAAAS7RAAAAAAADPt0AAAAAAAIu6QAAAAACAYMVAAAAAAIAix0AAAAAAgKbKQAAAAACAjs5AAAAAAIBGwUAAAAAAgLHEQAAAAACA9sVAAAAAAMAd0EAAAAAAAA21QAAAAAAALbhAAAAAAAANukAAAAAAAAm+QAAAAACAc8NAAAAAAICZwEAAAAAAgKrIQAAAAACACs1AAAAAAIBMzEAAAAAAAHe+QAAAAACAesFAAAAAAMDL0EAAAAAAwDzTQAAAAADA99FAAAAAAADEtUAAAAAAABW/QAAAAAAAVbhAAAAAAADuyEAAAAAAgIDVQAAAAAAAAPh/AAAAAIBTw0AAAAAAACXHQAAAAAAAYM1AAAAAAIC50UAAAAAAAP6zQAAAAAAAjbtAAAAAAACzvUAAAAAAAOS0QAAAAAAAwrhAAAAAAABYuUAAAAAAAB68QAAAAAAAbL5AAAAAAABTwEAAAAAAABfAQAAAAAAAocJAAAAAAICCw0AAAAAAgI7GQAAAAAAAgsNAAAAAAAD4xUAAAAAAgCvQQAAAAAAAP89AAAAAAAB+w0A=\"},\"shape\":[70],\"dtype\":\"float64\",\"order\":\"little\"}]]}}},\"view\":{\"type\":\"object\",\"name\":\"CDSView\",\"id\":\"p1305\",\"attributes\":{\"filter\":{\"type\":\"object\",\"name\":\"AllIndices\",\"id\":\"p1306\"}}},\"glyph\":{\"type\":\"object\",\"name\":\"Scatter\",\"id\":\"p1301\",\"attributes\":{\"x\":{\"type\":\"field\",\"field\":\"x\"},\"y\":{\"type\":\"field\",\"field\":\"y\"},\"size\":{\"type\":\"value\",\"value\":15},\"line_color\":{\"type\":\"value\",\"value\":\"#F05223\"},\"line_alpha\":{\"type\":\"value\",\"value\":0.7},\"fill_color\":{\"type\":\"value\",\"value\":\"#F05223\"},\"fill_alpha\":{\"type\":\"value\",\"value\":0.7},\"hatch_color\":{\"type\":\"value\",\"value\":\"#F05223\"},\"hatch_alpha\":{\"type\":\"value\",\"value\":0.7},\"marker\":{\"type\":\"value\",\"value\":\"circle_dot\"}}},\"nonselection_glyph\":{\"type\":\"object\",\"name\":\"Scatter\",\"id\":\"p1302\",\"attributes\":{\"x\":{\"type\":\"field\",\"field\":\"x\"},\"y\":{\"type\":\"field\",\"field\":\"y\"},\"size\":{\"type\":\"value\",\"value\":15},\"line_color\":{\"type\":\"value\",\"value\":\"#F05223\"},\"line_alpha\":{\"type\":\"value\",\"value\":0.1},\"fill_color\":{\"type\":\"value\",\"value\":\"#F05223\"},\"fill_alpha\":{\"type\":\"value\",\"value\":0.1},\"hatch_color\":{\"type\":\"value\",\"value\":\"#F05223\"},\"hatch_alpha\":{\"type\":\"value\",\"value\":0.1},\"marker\":{\"type\":\"value\",\"value\":\"circle_dot\"}}},\"muted_glyph\":{\"type\":\"object\",\"name\":\"Scatter\",\"id\":\"p1303\",\"attributes\":{\"x\":{\"type\":\"field\",\"field\":\"x\"},\"y\":{\"type\":\"field\",\"field\":\"y\"},\"size\":{\"type\":\"value\",\"value\":15},\"line_color\":{\"type\":\"value\",\"value\":\"#F05223\"},\"line_alpha\":{\"type\":\"value\",\"value\":0.2},\"fill_color\":{\"type\":\"value\",\"value\":\"#F05223\"},\"fill_alpha\":{\"type\":\"value\",\"value\":0.2},\"hatch_color\":{\"type\":\"value\",\"value\":\"#F05223\"},\"hatch_alpha\":{\"type\":\"value\",\"value\":0.2},\"marker\":{\"type\":\"value\",\"value\":\"circle_dot\"}}}}},{\"type\":\"object\",\"name\":\"GlyphRenderer\",\"id\":\"p1314\",\"attributes\":{\"data_source\":{\"type\":\"object\",\"name\":\"ColumnDataSource\",\"id\":\"p1308\",\"attributes\":{\"selected\":{\"type\":\"object\",\"name\":\"Selection\",\"id\":\"p1309\",\"attributes\":{\"indices\":[],\"line_indices\":[]}},\"selection_policy\":{\"type\":\"object\",\"name\":\"UnionRenderers\",\"id\":\"p1310\"},\"data\":{\"type\":\"map\",\"entries\":[[\"x\",{\"type\":\"ndarray\",\"array\":{\"type\":\"bytes\",\"data\":\"HgAAABYAAAAZAAAAGQAAABQAAAAdAAAAHQAAABwAAAAcAAAAGQAAABYAAAAWAAAAFAAAACsAAAAmAAAAJgAAAB4AAAAiAAAAIQAAACEAAAAcAAAAHwAAAB0AAAArAAAAKwAAABMAAAATAAAAEQAAACYAAAAmAAAAIAAAACAAAAAqAAAAGwAAACcAAAAZAAAAGQAAABIAAAAQAAAAIAAAACAAAAAeAAAAHgAAACUAAAAyAAAAJQAAACUAAAAlAAAAJQAAACIAAAAWAAAAGQAAABgAAAAhAAAAGAAAACEAAAAYAAAAIQAAABgAAAAmAAAAJgAAABwAAAAcAAAAGgAAACUAAAAhAAAAIAAAABkAAAAdAAAAJQAAACQAAAAvAAAAIgAAACIAAAAdAAAAIgAAACEAAAAgAAAAGAAAAC4AAAAiAAAALgAAACIAAAAiAAAAKgAAACAAAAAYAAAAJgAAABwAAAAcAAAAFgAAABwAAAAZAAAAFwAAABsAAAAZAAAA\"},\"shape\":[96],\"dtype\":\"int32\",\"order\":\"little\"}],[\"y\",{\"type\":\"ndarray\",\"array\":{\"type\":\"bytes\",\"data\":\"AAAAAAA/y0AAAAAAgArRQAAAAAAAyc1AAAAAAIBL0UAAAAAAwFDXQAAAAACAC9BAAAAAAECH0EAAAAAAgHrUQAAAAABAnNRAAAAAAED910AAAAAAAAreQAAAAABgLORAAAAAAAAC4kAAAAAAAK+5QAAAAAAAJLpAAAAAAAC5vUAAAAAAALfAQAAAAAAAf7xAAAAAAIBGwUAAAAAAgBvEQAAAAACASMlAAAAAAIA0xEAAAAAAAIG6QAAAAAAAAPh/AAAAAAAA+H8AAAAAgH7fQAAAAADAW+FAAAAAAACU4UAAAAAAACe6QAAAAAAA47xAAAAAAICXwEAAAAAAgALEQAAAAACAFcVAAAAAAADa0UAAAAAAAOrRQAAAAAAA9NhAAAAAAADc3kAAAAAAALHgQAAAAAAAAORAAAAAAABNu0AAAAAAAP2/QAAAAACAH8JAAAAAAIAfwkAAAAAAAHu1QAAAAAAAu7tAAAAAAAD5uUAAAAAAAMG6QAAAAAAAg7xAAAAAAABLvUAAAAAAgKbCQAAAAACAXcpAAAAAAIBdykAAAAAAAD7HQAAAAAAAyMlAAAAAAABuzkAAAAAAAIHQQAAAAACAPdBAAAAAAICH0UAAAAAAgLnRQAAAAAAAJLpAAAAAAAC5vUAAAAAAAMXHQAAAAAAAS85AAAAAAAAv0kAAAAAAANa7QAAAAAAAX75AAAAAAAB0w0AAAAAAgAjCQAAAAACA/cVAAAAAAAAau0AAAAAAANq+QAAAAAAAOr5AAAAAAAAVwkAAAAAAAHq/QAAAAAAAKcJAAAAAAAB6wUAAAAAAAOXEQAAAAAAAScVAAAAAAAClzkAAAAAAAF++QAAAAAAAJ79AAAAAAAA7v0AAAAAAgAHAQAAAAACAl8BAAAAAAICLwkAAAAAAgIXDQAAAAACA98lAAAAAAIAKy0AAAAAAAEbJQAAAAACAOM9AAAAAAAD90UAAAAAAQHPQQAAAAABAmdJAAAAAAED71EAAAAAAgPHVQAAAAABAGNZA\"},\"shape\":[96],\"dtype\":\"float64\",\"order\":\"little\"}]]}}},\"view\":{\"type\":\"object\",\"name\":\"CDSView\",\"id\":\"p1315\",\"attributes\":{\"filter\":{\"type\":\"object\",\"name\":\"AllIndices\",\"id\":\"p1316\"}}},\"glyph\":{\"type\":\"object\",\"name\":\"Scatter\",\"id\":\"p1311\",\"attributes\":{\"x\":{\"type\":\"field\",\"field\":\"x\"},\"y\":{\"type\":\"field\",\"field\":\"y\"},\"size\":{\"type\":\"value\",\"value\":15},\"line_color\":{\"type\":\"value\",\"value\":\"#F6A91B\"},\"line_alpha\":{\"type\":\"value\",\"value\":0.7},\"fill_color\":{\"type\":\"value\",\"value\":\"#F6A91B\"},\"fill_alpha\":{\"type\":\"value\",\"value\":0.7},\"hatch_color\":{\"type\":\"value\",\"value\":\"#F6A91B\"},\"hatch_alpha\":{\"type\":\"value\",\"value\":0.7},\"marker\":{\"type\":\"value\",\"value\":\"circle_dot\"}}},\"nonselection_glyph\":{\"type\":\"object\",\"name\":\"Scatter\",\"id\":\"p1312\",\"attributes\":{\"x\":{\"type\":\"field\",\"field\":\"x\"},\"y\":{\"type\":\"field\",\"field\":\"y\"},\"size\":{\"type\":\"value\",\"value\":15},\"line_color\":{\"type\":\"value\",\"value\":\"#F6A91B\"},\"line_alpha\":{\"type\":\"value\",\"value\":0.1},\"fill_color\":{\"type\":\"value\",\"value\":\"#F6A91B\"},\"fill_alpha\":{\"type\":\"value\",\"value\":0.1},\"hatch_color\":{\"type\":\"value\",\"value\":\"#F6A91B\"},\"hatch_alpha\":{\"type\":\"value\",\"value\":0.1},\"marker\":{\"type\":\"value\",\"value\":\"circle_dot\"}}},\"muted_glyph\":{\"type\":\"object\",\"name\":\"Scatter\",\"id\":\"p1313\",\"attributes\":{\"x\":{\"type\":\"field\",\"field\":\"x\"},\"y\":{\"type\":\"field\",\"field\":\"y\"},\"size\":{\"type\":\"value\",\"value\":15},\"line_color\":{\"type\":\"value\",\"value\":\"#F6A91B\"},\"line_alpha\":{\"type\":\"value\",\"value\":0.2},\"fill_color\":{\"type\":\"value\",\"value\":\"#F6A91B\"},\"fill_alpha\":{\"type\":\"value\",\"value\":0.2},\"hatch_color\":{\"type\":\"value\",\"value\":\"#F6A91B\"},\"hatch_alpha\":{\"type\":\"value\",\"value\":0.2},\"marker\":{\"type\":\"value\",\"value\":\"circle_dot\"}}}}},{\"type\":\"object\",\"name\":\"GlyphRenderer\",\"id\":\"p1324\",\"attributes\":{\"data_source\":{\"type\":\"object\",\"name\":\"ColumnDataSource\",\"id\":\"p1318\",\"attributes\":{\"selected\":{\"type\":\"object\",\"name\":\"Selection\",\"id\":\"p1319\",\"attributes\":{\"indices\":[],\"line_indices\":[]}},\"selection_policy\":{\"type\":\"object\",\"name\":\"UnionRenderers\",\"id\":\"p1320\"},\"data\":{\"type\":\"map\",\"entries\":[[\"x\",{\"type\":\"ndarray\",\"array\":{\"type\":\"bytes\",\"data\":\"GQAAAB4AAAAiAAAAGQAAACUAAAAlAAAAFgAAABgAAAAZAAAAGAAAABkAAAAeAAAAHwAAACAAAAAfAAAAHQAAABcAAAAlAAAAIAAAACAAAAAYAAAAHwAAABwAAAAcAAAAFgAAAA==\"},\"shape\":[25],\"dtype\":\"int32\",\"order\":\"little\"}],[\"y\",{\"type\":\"ndarray\",\"array\":{\"type\":\"bytes\",\"data\":\"AAAAAAB60kAAAAAAgGzBQAAAAAAAf7xAAAAAAACW20AAAAAAALW8QAAAAAAAP79AAAAAAIAfzEAAAAAAAEzIQAAAAAAAEstAAAAAAMBN0EAAAAAAwKzQQAAAAACAbMFAAAAAAIAnwkAAAAAAACe9QAAAAAAA68NAAAAAAABNv0AAAAAAANfGQAAAAAAABrtAAAAAAADavkAAAAAAACXBQAAAAAAAw85AAAAAAAAByEAAAAAAgDPKQAAAAADAINBAAAAAAICB0kA=\"},\"shape\":[25],\"dtype\":\"float64\",\"order\":\"little\"}]]}}},\"view\":{\"type\":\"object\",\"name\":\"CDSView\",\"id\":\"p1325\",\"attributes\":{\"filter\":{\"type\":\"object\",\"name\":\"AllIndices\",\"id\":\"p1326\"}}},\"glyph\":{\"type\":\"object\",\"name\":\"Scatter\",\"id\":\"p1321\",\"attributes\":{\"x\":{\"type\":\"field\",\"field\":\"x\"},\"y\":{\"type\":\"field\",\"field\":\"y\"},\"size\":{\"type\":\"value\",\"value\":15},\"line_color\":{\"type\":\"value\",\"value\":\"#A5CD39\"},\"line_alpha\":{\"type\":\"value\",\"value\":0.7},\"fill_color\":{\"type\":\"value\",\"value\":\"#A5CD39\"},\"fill_alpha\":{\"type\":\"value\",\"value\":0.7},\"hatch_color\":{\"type\":\"value\",\"value\":\"#A5CD39\"},\"hatch_alpha\":{\"type\":\"value\",\"value\":0.7},\"marker\":{\"type\":\"value\",\"value\":\"circle_dot\"}}},\"nonselection_glyph\":{\"type\":\"object\",\"name\":\"Scatter\",\"id\":\"p1322\",\"attributes\":{\"x\":{\"type\":\"field\",\"field\":\"x\"},\"y\":{\"type\":\"field\",\"field\":\"y\"},\"size\":{\"type\":\"value\",\"value\":15},\"line_color\":{\"type\":\"value\",\"value\":\"#A5CD39\"},\"line_alpha\":{\"type\":\"value\",\"value\":0.1},\"fill_color\":{\"type\":\"value\",\"value\":\"#A5CD39\"},\"fill_alpha\":{\"type\":\"value\",\"value\":0.1},\"hatch_color\":{\"type\":\"value\",\"value\":\"#A5CD39\"},\"hatch_alpha\":{\"type\":\"value\",\"value\":0.1},\"marker\":{\"type\":\"value\",\"value\":\"circle_dot\"}}},\"muted_glyph\":{\"type\":\"object\",\"name\":\"Scatter\",\"id\":\"p1323\",\"attributes\":{\"x\":{\"type\":\"field\",\"field\":\"x\"},\"y\":{\"type\":\"field\",\"field\":\"y\"},\"size\":{\"type\":\"value\",\"value\":15},\"line_color\":{\"type\":\"value\",\"value\":\"#A5CD39\"},\"line_alpha\":{\"type\":\"value\",\"value\":0.2},\"fill_color\":{\"type\":\"value\",\"value\":\"#A5CD39\"},\"fill_alpha\":{\"type\":\"value\",\"value\":0.2},\"hatch_color\":{\"type\":\"value\",\"value\":\"#A5CD39\"},\"hatch_alpha\":{\"type\":\"value\",\"value\":0.2},\"marker\":{\"type\":\"value\",\"value\":\"circle_dot\"}}}}},{\"type\":\"object\",\"name\":\"GlyphRenderer\",\"id\":\"p1334\",\"attributes\":{\"data_source\":{\"type\":\"object\",\"name\":\"ColumnDataSource\",\"id\":\"p1328\",\"attributes\":{\"selected\":{\"type\":\"object\",\"name\":\"Selection\",\"id\":\"p1329\",\"attributes\":{\"indices\":[],\"line_indices\":[]}},\"selection_policy\":{\"type\":\"object\",\"name\":\"UnionRenderers\",\"id\":\"p1330\"},\"data\":{\"type\":\"map\",\"entries\":[[\"x\",{\"type\":\"ndarray\",\"array\":{\"type\":\"bytes\",\"data\":\"GQAAABAAAAAlAAAAGQAAABkAAAAeAAAAHgAAAB4AAAA=\"},\"shape\":[8],\"dtype\":\"int32\",\"order\":\"little\"}],[\"y\",{\"type\":\"ndarray\",\"array\":{\"type\":\"bytes\",\"data\":\"AAAAAACE20AAAAAAACvmQAAAAACAHMBAAAAAAADE30AAAAAAgJ3gQAAAAACAgMBAAAAAAIDTwkAAAAAAgN/FQA==\"},\"shape\":[8],\"dtype\":\"float64\",\"order\":\"little\"}]]}}},\"view\":{\"type\":\"object\",\"name\":\"CDSView\",\"id\":\"p1335\",\"attributes\":{\"filter\":{\"type\":\"object\",\"name\":\"AllIndices\",\"id\":\"p1336\"}}},\"glyph\":{\"type\":\"object\",\"name\":\"Scatter\",\"id\":\"p1331\",\"attributes\":{\"x\":{\"type\":\"field\",\"field\":\"x\"},\"y\":{\"type\":\"field\",\"field\":\"y\"},\"size\":{\"type\":\"value\",\"value\":15},\"line_color\":{\"type\":\"value\",\"value\":\"#20B254\"},\"line_alpha\":{\"type\":\"value\",\"value\":0.7},\"fill_color\":{\"type\":\"value\",\"value\":\"#20B254\"},\"fill_alpha\":{\"type\":\"value\",\"value\":0.7},\"hatch_color\":{\"type\":\"value\",\"value\":\"#20B254\"},\"hatch_alpha\":{\"type\":\"value\",\"value\":0.7},\"marker\":{\"type\":\"value\",\"value\":\"circle_dot\"}}},\"nonselection_glyph\":{\"type\":\"object\",\"name\":\"Scatter\",\"id\":\"p1332\",\"attributes\":{\"x\":{\"type\":\"field\",\"field\":\"x\"},\"y\":{\"type\":\"field\",\"field\":\"y\"},\"size\":{\"type\":\"value\",\"value\":15},\"line_color\":{\"type\":\"value\",\"value\":\"#20B254\"},\"line_alpha\":{\"type\":\"value\",\"value\":0.1},\"fill_color\":{\"type\":\"value\",\"value\":\"#20B254\"},\"fill_alpha\":{\"type\":\"value\",\"value\":0.1},\"hatch_color\":{\"type\":\"value\",\"value\":\"#20B254\"},\"hatch_alpha\":{\"type\":\"value\",\"value\":0.1},\"marker\":{\"type\":\"value\",\"value\":\"circle_dot\"}}},\"muted_glyph\":{\"type\":\"object\",\"name\":\"Scatter\",\"id\":\"p1333\",\"attributes\":{\"x\":{\"type\":\"field\",\"field\":\"x\"},\"y\":{\"type\":\"field\",\"field\":\"y\"},\"size\":{\"type\":\"value\",\"value\":15},\"line_color\":{\"type\":\"value\",\"value\":\"#20B254\"},\"line_alpha\":{\"type\":\"value\",\"value\":0.2},\"fill_color\":{\"type\":\"value\",\"value\":\"#20B254\"},\"fill_alpha\":{\"type\":\"value\",\"value\":0.2},\"hatch_color\":{\"type\":\"value\",\"value\":\"#20B254\"},\"hatch_alpha\":{\"type\":\"value\",\"value\":0.2},\"marker\":{\"type\":\"value\",\"value\":\"circle_dot\"}}}}}],\"toolbar\":{\"type\":\"object\",\"name\":\"Toolbar\",\"id\":\"p1263\",\"attributes\":{\"tools\":[{\"type\":\"object\",\"name\":\"PanTool\",\"id\":\"p1276\"},{\"type\":\"object\",\"name\":\"WheelZoomTool\",\"id\":\"p1277\",\"attributes\":{\"renderers\":\"auto\"}},{\"type\":\"object\",\"name\":\"BoxZoomTool\",\"id\":\"p1278\",\"attributes\":{\"overlay\":{\"type\":\"object\",\"name\":\"BoxAnnotation\",\"id\":\"p1279\",\"attributes\":{\"syncable\":false,\"level\":\"overlay\",\"visible\":false,\"left\":{\"type\":\"number\",\"value\":\"nan\"},\"right\":{\"type\":\"number\",\"value\":\"nan\"},\"top\":{\"type\":\"number\",\"value\":\"nan\"},\"bottom\":{\"type\":\"number\",\"value\":\"nan\"},\"left_units\":\"canvas\",\"right_units\":\"canvas\",\"top_units\":\"canvas\",\"bottom_units\":\"canvas\",\"line_color\":\"black\",\"line_alpha\":1.0,\"line_width\":2,\"line_dash\":[4,4],\"fill_color\":\"lightgrey\",\"fill_alpha\":0.5}}}},{\"type\":\"object\",\"name\":\"SaveTool\",\"id\":\"p1284\"},{\"type\":\"object\",\"name\":\"ResetTool\",\"id\":\"p1285\"},{\"type\":\"object\",\"name\":\"HelpTool\",\"id\":\"p1286\"}]}},\"left\":[{\"type\":\"object\",\"name\":\"LinearAxis\",\"id\":\"p1271\",\"attributes\":{\"ticker\":{\"type\":\"object\",\"name\":\"BasicTicker\",\"id\":\"p1272\",\"attributes\":{\"mantissas\":[1,2,5]}},\"formatter\":{\"type\":\"object\",\"name\":\"BasicTickFormatter\",\"id\":\"p1273\"},\"axis_label\":\"Price\",\"major_label_policy\":{\"type\":\"object\",\"name\":\"AllLabels\",\"id\":\"p1274\"}}}],\"below\":[{\"type\":\"object\",\"name\":\"LinearAxis\",\"id\":\"p1266\",\"attributes\":{\"ticker\":{\"type\":\"object\",\"name\":\"BasicTicker\",\"id\":\"p1267\",\"attributes\":{\"mantissas\":[1,2,5]}},\"formatter\":{\"type\":\"object\",\"name\":\"BasicTickFormatter\",\"id\":\"p1268\"},\"axis_label\":\"Highway (mpg)\",\"major_label_policy\":{\"type\":\"object\",\"name\":\"AllLabels\",\"id\":\"p1269\"}}}],\"center\":[{\"type\":\"object\",\"name\":\"Grid\",\"id\":\"p1270\",\"attributes\":{\"axis\":{\"id\":\"p1266\"}}},{\"type\":\"object\",\"name\":\"Grid\",\"id\":\"p1275\",\"attributes\":{\"dimension\":1,\"axis\":{\"id\":\"p1271\"}}},{\"type\":\"object\",\"name\":\"Legend\",\"id\":\"p1296\",\"attributes\":{\"click_policy\":\"hide\",\"items\":[{\"type\":\"object\",\"name\":\"LegendItem\",\"id\":\"p1297\",\"attributes\":{\"label\":{\"type\":\"value\",\"value\":\"convertible\"},\"renderers\":[{\"id\":\"p1293\"}]}},{\"type\":\"object\",\"name\":\"LegendItem\",\"id\":\"p1307\",\"attributes\":{\"label\":{\"type\":\"value\",\"value\":\"hatchback\"},\"renderers\":[{\"id\":\"p1304\"}]}},{\"type\":\"object\",\"name\":\"LegendItem\",\"id\":\"p1317\",\"attributes\":{\"label\":{\"type\":\"value\",\"value\":\"sedan\"},\"renderers\":[{\"id\":\"p1314\"}]}},{\"type\":\"object\",\"name\":\"LegendItem\",\"id\":\"p1327\",\"attributes\":{\"label\":{\"type\":\"value\",\"value\":\"wagon\"},\"renderers\":[{\"id\":\"p1324\"}]}},{\"type\":\"object\",\"name\":\"LegendItem\",\"id\":\"p1337\",\"attributes\":{\"label\":{\"type\":\"value\",\"value\":\"hardtop\"},\"renderers\":[{\"id\":\"p1334\"}]}}]}}]}}]}};\n  const render_items = [{\"docid\":\"13305ede-9764-457f-8b95-86da6b7f1d68\",\"roots\":{\"p1254\":\"e41d2e33-e7bf-41a9-83dd-8bb05509cb50\"},\"root_ids\":[\"p1254\"]}];\n  root.Bokeh.embed.embed_items_notebook(docs_json, render_items);\n  }\n  if (root.Bokeh !== undefined) {\n    embed_document(root);\n  } else {\n    let attempts = 0;\n    const timer = setInterval(function(root) {\n      if (root.Bokeh !== undefined) {\n        clearInterval(timer);\n        embed_document(root);\n      } else {\n        attempts++;\n        if (attempts > 100) {\n          clearInterval(timer);\n          console.log(\"Bokeh: ERROR: Unable to run BokehJS code because BokehJS library is missing\");\n        }\n      }\n    }, 10, root)\n  }\n})(window);",
      "application/vnd.bokehjs_exec.v0+json": ""
     },
     "metadata": {
      "application/vnd.bokehjs_exec.v0+json": {
       "id": "p1254"
      }
     },
     "output_type": "display_data"
    }
   ],
   "source": [
    "sct.legend.location = \"top_right\"\n",
    "sct.legend.click_policy=\"hide\"\n",
    "show(sct)"
   ]
  },
  {
   "cell_type": "markdown",
   "metadata": {},
   "source": [
    "### Muting glyphs"
   ]
  },
  {
   "cell_type": "markdown",
   "metadata": {},
   "source": [
    "You can mute a glyph from the legend. Hiding the glyph makes it vanish entirely; muting it de-emphasizes the glyph."
   ]
  },
  {
   "cell_type": "code",
   "execution_count": 37,
   "metadata": {},
   "outputs": [],
   "source": [
    "sct2 = figure(title=\"Click on legend entries to MUTE the corresponding points\", \n",
    "            x_axis_label='Highway (mpg)', y_axis_label='Price',            \n",
    "            height=400, width=700)"
   ]
  },
  {
   "cell_type": "code",
   "execution_count": 38,
   "metadata": {},
   "outputs": [],
   "source": [
    "for option, color in zip(dfa.body_style.unique(), Bokeh5):\n",
    "    sct2.square_pin(dfa.highway_mpg[dfa.body_style==option], dfa.price[dfa.body_style==option], \n",
    "                size = 20, color = color, alpha=0.8, legend_label=option)"
   ]
  },
  {
   "cell_type": "code",
   "execution_count": 39,
   "metadata": {},
   "outputs": [
    {
     "data": {
      "text/html": [
       "\n",
       "  <div id=\"ad182fef-2c9f-4a00-b1b9-580897d6cbbe\" data-root-id=\"p1348\" style=\"display: contents;\"></div>\n"
      ]
     },
     "metadata": {},
     "output_type": "display_data"
    },
    {
     "data": {
      "application/javascript": "(function(root) {\n  function embed_document(root) {\n  const docs_json = {\"35a5a20f-34cc-4d95-8e85-45323dafcfdc\":{\"version\":\"3.3.4\",\"title\":\"Bokeh Application\",\"roots\":[{\"type\":\"object\",\"name\":\"Figure\",\"id\":\"p1348\",\"attributes\":{\"width\":700,\"height\":400,\"x_range\":{\"type\":\"object\",\"name\":\"DataRange1d\",\"id\":\"p1349\"},\"y_range\":{\"type\":\"object\",\"name\":\"DataRange1d\",\"id\":\"p1350\"},\"x_scale\":{\"type\":\"object\",\"name\":\"LinearScale\",\"id\":\"p1358\"},\"y_scale\":{\"type\":\"object\",\"name\":\"LinearScale\",\"id\":\"p1359\"},\"title\":{\"type\":\"object\",\"name\":\"Title\",\"id\":\"p1351\",\"attributes\":{\"text\":\"Click on legend entries to MUTE the corresponding points\"}},\"renderers\":[{\"type\":\"object\",\"name\":\"GlyphRenderer\",\"id\":\"p1387\",\"attributes\":{\"data_source\":{\"type\":\"object\",\"name\":\"ColumnDataSource\",\"id\":\"p1381\",\"attributes\":{\"selected\":{\"type\":\"object\",\"name\":\"Selection\",\"id\":\"p1382\",\"attributes\":{\"indices\":[],\"line_indices\":[]}},\"selection_policy\":{\"type\":\"object\",\"name\":\"UnionRenderers\",\"id\":\"p1383\"},\"data\":{\"type\":\"map\",\"entries\":[[\"x\",{\"type\":\"ndarray\",\"array\":{\"type\":\"bytes\",\"data\":\"GwAAABsAAAASAAAAGQAAAB4AAAAdAAAA\"},\"shape\":[6],\"dtype\":\"int32\",\"order\":\"little\"}],[\"y\",{\"type\":\"ndarray\",\"array\":{\"type\":\"bytes\",\"data\":\"AAAAAIBbykAAAAAAAB3QQAAAAAAAHuFAAAAAAIAU4kAAAAAAQEHRQAAAAACApcZA\"},\"shape\":[6],\"dtype\":\"float64\",\"order\":\"little\"}]]}}},\"view\":{\"type\":\"object\",\"name\":\"CDSView\",\"id\":\"p1388\",\"attributes\":{\"filter\":{\"type\":\"object\",\"name\":\"AllIndices\",\"id\":\"p1389\"}}},\"glyph\":{\"type\":\"object\",\"name\":\"Scatter\",\"id\":\"p1384\",\"attributes\":{\"x\":{\"type\":\"field\",\"field\":\"x\"},\"y\":{\"type\":\"field\",\"field\":\"y\"},\"size\":{\"type\":\"value\",\"value\":20},\"line_color\":{\"type\":\"value\",\"value\":\"#EC1557\"},\"line_alpha\":{\"type\":\"value\",\"value\":0.8},\"fill_color\":{\"type\":\"value\",\"value\":\"#EC1557\"},\"fill_alpha\":{\"type\":\"value\",\"value\":0.8},\"hatch_color\":{\"type\":\"value\",\"value\":\"#EC1557\"},\"hatch_alpha\":{\"type\":\"value\",\"value\":0.8},\"marker\":{\"type\":\"value\",\"value\":\"square_pin\"}}},\"nonselection_glyph\":{\"type\":\"object\",\"name\":\"Scatter\",\"id\":\"p1385\",\"attributes\":{\"x\":{\"type\":\"field\",\"field\":\"x\"},\"y\":{\"type\":\"field\",\"field\":\"y\"},\"size\":{\"type\":\"value\",\"value\":20},\"line_color\":{\"type\":\"value\",\"value\":\"#EC1557\"},\"line_alpha\":{\"type\":\"value\",\"value\":0.1},\"fill_color\":{\"type\":\"value\",\"value\":\"#EC1557\"},\"fill_alpha\":{\"type\":\"value\",\"value\":0.1},\"hatch_color\":{\"type\":\"value\",\"value\":\"#EC1557\"},\"hatch_alpha\":{\"type\":\"value\",\"value\":0.1},\"marker\":{\"type\":\"value\",\"value\":\"square_pin\"}}},\"muted_glyph\":{\"type\":\"object\",\"name\":\"Scatter\",\"id\":\"p1386\",\"attributes\":{\"x\":{\"type\":\"field\",\"field\":\"x\"},\"y\":{\"type\":\"field\",\"field\":\"y\"},\"size\":{\"type\":\"value\",\"value\":20},\"line_color\":{\"type\":\"value\",\"value\":\"#EC1557\"},\"line_alpha\":{\"type\":\"value\",\"value\":0.2},\"fill_color\":{\"type\":\"value\",\"value\":\"#EC1557\"},\"fill_alpha\":{\"type\":\"value\",\"value\":0.2},\"hatch_color\":{\"type\":\"value\",\"value\":\"#EC1557\"},\"hatch_alpha\":{\"type\":\"value\",\"value\":0.2},\"marker\":{\"type\":\"value\",\"value\":\"square_pin\"}}}}},{\"type\":\"object\",\"name\":\"GlyphRenderer\",\"id\":\"p1398\",\"attributes\":{\"data_source\":{\"type\":\"object\",\"name\":\"ColumnDataSource\",\"id\":\"p1392\",\"attributes\":{\"selected\":{\"type\":\"object\",\"name\":\"Selection\",\"id\":\"p1393\",\"attributes\":{\"indices\":[],\"line_indices\":[]}},\"selection_policy\":{\"type\":\"object\",\"name\":\"UnionRenderers\",\"id\":\"p1394\"},\"data\":{\"type\":\"map\",\"entries\":[[\"x\",{\"type\":\"ndarray\",\"array\":{\"type\":\"bytes\",\"data\":\"GgAAABYAAAA1AAAAKwAAACkAAAAmAAAAHgAAACYAAAAYAAAANgAAACYAAAAqAAAAIgAAACIAAAAhAAAAIQAAAB0AAAAfAAAAJgAAACYAAAAXAAAAFwAAABcAAAAXAAAAIAAAACAAAAAgAAAAGAAAACkAAAAmAAAAJgAAAB4AAAAeAAAAIAAAABgAAAAYAAAAGAAAACUAAAAiAAAAGQAAABcAAAAZAAAAKQAAAB4AAAAmAAAAGAAAABsAAAAcAAAAHwAAABwAAAAcAAAAGgAAACQAAAAfAAAAHwAAACcAAAAmAAAAJgAAACUAAAAvAAAAIgAAACIAAAAdAAAAHgAAAB4AAAAgAAAAIAAAABgAAAAYAAAAHQAAAA==\"},\"shape\":[70],\"dtype\":\"int32\",\"order\":\"little\"}],[\"y\",{\"type\":\"ndarray\",\"array\":{\"type\":\"bytes\",\"data\":\"AAAAAAAd0EAAAAAAAAD4fwAAAAAAH7RAAAAAAACXuEAAAAAAAMS1QAAAAAAA6bhAAAAAAAAVv0AAAAAAAFW4QAAAAAAAUslAAAAAAABPuUAAAAAAAMe6QAAAAAAAF7VAAAAAAACBuUAAAAAAANm7QAAAAAAA175AAAAAAIDDwUAAAAAAAJTFQAAAAAAAS7RAAAAAAADPt0AAAAAAAIu6QAAAAACAYMVAAAAAAIAix0AAAAAAgKbKQAAAAACAjs5AAAAAAIBGwUAAAAAAgLHEQAAAAACA9sVAAAAAAMAd0EAAAAAAAA21QAAAAAAALbhAAAAAAAANukAAAAAAAAm+QAAAAACAc8NAAAAAAICZwEAAAAAAgKrIQAAAAACACs1AAAAAAIBMzEAAAAAAAHe+QAAAAACAesFAAAAAAMDL0EAAAAAAwDzTQAAAAADA99FAAAAAAADEtUAAAAAAABW/QAAAAAAAVbhAAAAAAADuyEAAAAAAgIDVQAAAAAAAAPh/AAAAAIBTw0AAAAAAACXHQAAAAAAAYM1AAAAAAIC50UAAAAAAAP6zQAAAAAAAjbtAAAAAAACzvUAAAAAAAOS0QAAAAAAAwrhAAAAAAABYuUAAAAAAAB68QAAAAAAAbL5AAAAAAABTwEAAAAAAABfAQAAAAAAAocJAAAAAAICCw0AAAAAAgI7GQAAAAAAAgsNAAAAAAAD4xUAAAAAAgCvQQAAAAAAAP89AAAAAAAB+w0A=\"},\"shape\":[70],\"dtype\":\"float64\",\"order\":\"little\"}]]}}},\"view\":{\"type\":\"object\",\"name\":\"CDSView\",\"id\":\"p1399\",\"attributes\":{\"filter\":{\"type\":\"object\",\"name\":\"AllIndices\",\"id\":\"p1400\"}}},\"glyph\":{\"type\":\"object\",\"name\":\"Scatter\",\"id\":\"p1395\",\"attributes\":{\"x\":{\"type\":\"field\",\"field\":\"x\"},\"y\":{\"type\":\"field\",\"field\":\"y\"},\"size\":{\"type\":\"value\",\"value\":20},\"line_color\":{\"type\":\"value\",\"value\":\"#F05223\"},\"line_alpha\":{\"type\":\"value\",\"value\":0.8},\"fill_color\":{\"type\":\"value\",\"value\":\"#F05223\"},\"fill_alpha\":{\"type\":\"value\",\"value\":0.8},\"hatch_color\":{\"type\":\"value\",\"value\":\"#F05223\"},\"hatch_alpha\":{\"type\":\"value\",\"value\":0.8},\"marker\":{\"type\":\"value\",\"value\":\"square_pin\"}}},\"nonselection_glyph\":{\"type\":\"object\",\"name\":\"Scatter\",\"id\":\"p1396\",\"attributes\":{\"x\":{\"type\":\"field\",\"field\":\"x\"},\"y\":{\"type\":\"field\",\"field\":\"y\"},\"size\":{\"type\":\"value\",\"value\":20},\"line_color\":{\"type\":\"value\",\"value\":\"#F05223\"},\"line_alpha\":{\"type\":\"value\",\"value\":0.1},\"fill_color\":{\"type\":\"value\",\"value\":\"#F05223\"},\"fill_alpha\":{\"type\":\"value\",\"value\":0.1},\"hatch_color\":{\"type\":\"value\",\"value\":\"#F05223\"},\"hatch_alpha\":{\"type\":\"value\",\"value\":0.1},\"marker\":{\"type\":\"value\",\"value\":\"square_pin\"}}},\"muted_glyph\":{\"type\":\"object\",\"name\":\"Scatter\",\"id\":\"p1397\",\"attributes\":{\"x\":{\"type\":\"field\",\"field\":\"x\"},\"y\":{\"type\":\"field\",\"field\":\"y\"},\"size\":{\"type\":\"value\",\"value\":20},\"line_color\":{\"type\":\"value\",\"value\":\"#F05223\"},\"line_alpha\":{\"type\":\"value\",\"value\":0.2},\"fill_color\":{\"type\":\"value\",\"value\":\"#F05223\"},\"fill_alpha\":{\"type\":\"value\",\"value\":0.2},\"hatch_color\":{\"type\":\"value\",\"value\":\"#F05223\"},\"hatch_alpha\":{\"type\":\"value\",\"value\":0.2},\"marker\":{\"type\":\"value\",\"value\":\"square_pin\"}}}}},{\"type\":\"object\",\"name\":\"GlyphRenderer\",\"id\":\"p1408\",\"attributes\":{\"data_source\":{\"type\":\"object\",\"name\":\"ColumnDataSource\",\"id\":\"p1402\",\"attributes\":{\"selected\":{\"type\":\"object\",\"name\":\"Selection\",\"id\":\"p1403\",\"attributes\":{\"indices\":[],\"line_indices\":[]}},\"selection_policy\":{\"type\":\"object\",\"name\":\"UnionRenderers\",\"id\":\"p1404\"},\"data\":{\"type\":\"map\",\"entries\":[[\"x\",{\"type\":\"ndarray\",\"array\":{\"type\":\"bytes\",\"data\":\"HgAAABYAAAAZAAAAGQAAABQAAAAdAAAAHQAAABwAAAAcAAAAGQAAABYAAAAWAAAAFAAAACsAAAAmAAAAJgAAAB4AAAAiAAAAIQAAACEAAAAcAAAAHwAAAB0AAAArAAAAKwAAABMAAAATAAAAEQAAACYAAAAmAAAAIAAAACAAAAAqAAAAGwAAACcAAAAZAAAAGQAAABIAAAAQAAAAIAAAACAAAAAeAAAAHgAAACUAAAAyAAAAJQAAACUAAAAlAAAAJQAAACIAAAAWAAAAGQAAABgAAAAhAAAAGAAAACEAAAAYAAAAIQAAABgAAAAmAAAAJgAAABwAAAAcAAAAGgAAACUAAAAhAAAAIAAAABkAAAAdAAAAJQAAACQAAAAvAAAAIgAAACIAAAAdAAAAIgAAACEAAAAgAAAAGAAAAC4AAAAiAAAALgAAACIAAAAiAAAAKgAAACAAAAAYAAAAJgAAABwAAAAcAAAAFgAAABwAAAAZAAAAFwAAABsAAAAZAAAA\"},\"shape\":[96],\"dtype\":\"int32\",\"order\":\"little\"}],[\"y\",{\"type\":\"ndarray\",\"array\":{\"type\":\"bytes\",\"data\":\"AAAAAAA/y0AAAAAAgArRQAAAAAAAyc1AAAAAAIBL0UAAAAAAwFDXQAAAAACAC9BAAAAAAECH0EAAAAAAgHrUQAAAAABAnNRAAAAAAED910AAAAAAAAreQAAAAABgLORAAAAAAAAC4kAAAAAAAK+5QAAAAAAAJLpAAAAAAAC5vUAAAAAAALfAQAAAAAAAf7xAAAAAAIBGwUAAAAAAgBvEQAAAAACASMlAAAAAAIA0xEAAAAAAAIG6QAAAAAAAAPh/AAAAAAAA+H8AAAAAgH7fQAAAAADAW+FAAAAAAACU4UAAAAAAACe6QAAAAAAA47xAAAAAAICXwEAAAAAAgALEQAAAAACAFcVAAAAAAADa0UAAAAAAAOrRQAAAAAAA9NhAAAAAAADc3kAAAAAAALHgQAAAAAAAAORAAAAAAABNu0AAAAAAAP2/QAAAAACAH8JAAAAAAIAfwkAAAAAAAHu1QAAAAAAAu7tAAAAAAAD5uUAAAAAAAMG6QAAAAAAAg7xAAAAAAABLvUAAAAAAgKbCQAAAAACAXcpAAAAAAIBdykAAAAAAAD7HQAAAAAAAyMlAAAAAAABuzkAAAAAAAIHQQAAAAACAPdBAAAAAAICH0UAAAAAAgLnRQAAAAAAAJLpAAAAAAAC5vUAAAAAAAMXHQAAAAAAAS85AAAAAAAAv0kAAAAAAANa7QAAAAAAAX75AAAAAAAB0w0AAAAAAgAjCQAAAAACA/cVAAAAAAAAau0AAAAAAANq+QAAAAAAAOr5AAAAAAAAVwkAAAAAAAHq/QAAAAAAAKcJAAAAAAAB6wUAAAAAAAOXEQAAAAAAAScVAAAAAAAClzkAAAAAAAF++QAAAAAAAJ79AAAAAAAA7v0AAAAAAgAHAQAAAAACAl8BAAAAAAICLwkAAAAAAgIXDQAAAAACA98lAAAAAAIAKy0AAAAAAAEbJQAAAAACAOM9AAAAAAAD90UAAAAAAQHPQQAAAAABAmdJAAAAAAED71EAAAAAAgPHVQAAAAABAGNZA\"},\"shape\":[96],\"dtype\":\"float64\",\"order\":\"little\"}]]}}},\"view\":{\"type\":\"object\",\"name\":\"CDSView\",\"id\":\"p1409\",\"attributes\":{\"filter\":{\"type\":\"object\",\"name\":\"AllIndices\",\"id\":\"p1410\"}}},\"glyph\":{\"type\":\"object\",\"name\":\"Scatter\",\"id\":\"p1405\",\"attributes\":{\"x\":{\"type\":\"field\",\"field\":\"x\"},\"y\":{\"type\":\"field\",\"field\":\"y\"},\"size\":{\"type\":\"value\",\"value\":20},\"line_color\":{\"type\":\"value\",\"value\":\"#F6A91B\"},\"line_alpha\":{\"type\":\"value\",\"value\":0.8},\"fill_color\":{\"type\":\"value\",\"value\":\"#F6A91B\"},\"fill_alpha\":{\"type\":\"value\",\"value\":0.8},\"hatch_color\":{\"type\":\"value\",\"value\":\"#F6A91B\"},\"hatch_alpha\":{\"type\":\"value\",\"value\":0.8},\"marker\":{\"type\":\"value\",\"value\":\"square_pin\"}}},\"nonselection_glyph\":{\"type\":\"object\",\"name\":\"Scatter\",\"id\":\"p1406\",\"attributes\":{\"x\":{\"type\":\"field\",\"field\":\"x\"},\"y\":{\"type\":\"field\",\"field\":\"y\"},\"size\":{\"type\":\"value\",\"value\":20},\"line_color\":{\"type\":\"value\",\"value\":\"#F6A91B\"},\"line_alpha\":{\"type\":\"value\",\"value\":0.1},\"fill_color\":{\"type\":\"value\",\"value\":\"#F6A91B\"},\"fill_alpha\":{\"type\":\"value\",\"value\":0.1},\"hatch_color\":{\"type\":\"value\",\"value\":\"#F6A91B\"},\"hatch_alpha\":{\"type\":\"value\",\"value\":0.1},\"marker\":{\"type\":\"value\",\"value\":\"square_pin\"}}},\"muted_glyph\":{\"type\":\"object\",\"name\":\"Scatter\",\"id\":\"p1407\",\"attributes\":{\"x\":{\"type\":\"field\",\"field\":\"x\"},\"y\":{\"type\":\"field\",\"field\":\"y\"},\"size\":{\"type\":\"value\",\"value\":20},\"line_color\":{\"type\":\"value\",\"value\":\"#F6A91B\"},\"line_alpha\":{\"type\":\"value\",\"value\":0.2},\"fill_color\":{\"type\":\"value\",\"value\":\"#F6A91B\"},\"fill_alpha\":{\"type\":\"value\",\"value\":0.2},\"hatch_color\":{\"type\":\"value\",\"value\":\"#F6A91B\"},\"hatch_alpha\":{\"type\":\"value\",\"value\":0.2},\"marker\":{\"type\":\"value\",\"value\":\"square_pin\"}}}}},{\"type\":\"object\",\"name\":\"GlyphRenderer\",\"id\":\"p1418\",\"attributes\":{\"data_source\":{\"type\":\"object\",\"name\":\"ColumnDataSource\",\"id\":\"p1412\",\"attributes\":{\"selected\":{\"type\":\"object\",\"name\":\"Selection\",\"id\":\"p1413\",\"attributes\":{\"indices\":[],\"line_indices\":[]}},\"selection_policy\":{\"type\":\"object\",\"name\":\"UnionRenderers\",\"id\":\"p1414\"},\"data\":{\"type\":\"map\",\"entries\":[[\"x\",{\"type\":\"ndarray\",\"array\":{\"type\":\"bytes\",\"data\":\"GQAAAB4AAAAiAAAAGQAAACUAAAAlAAAAFgAAABgAAAAZAAAAGAAAABkAAAAeAAAAHwAAACAAAAAfAAAAHQAAABcAAAAlAAAAIAAAACAAAAAYAAAAHwAAABwAAAAcAAAAFgAAAA==\"},\"shape\":[25],\"dtype\":\"int32\",\"order\":\"little\"}],[\"y\",{\"type\":\"ndarray\",\"array\":{\"type\":\"bytes\",\"data\":\"AAAAAAB60kAAAAAAgGzBQAAAAAAAf7xAAAAAAACW20AAAAAAALW8QAAAAAAAP79AAAAAAIAfzEAAAAAAAEzIQAAAAAAAEstAAAAAAMBN0EAAAAAAwKzQQAAAAACAbMFAAAAAAIAnwkAAAAAAACe9QAAAAAAA68NAAAAAAABNv0AAAAAAANfGQAAAAAAABrtAAAAAAADavkAAAAAAACXBQAAAAAAAw85AAAAAAAAByEAAAAAAgDPKQAAAAADAINBAAAAAAICB0kA=\"},\"shape\":[25],\"dtype\":\"float64\",\"order\":\"little\"}]]}}},\"view\":{\"type\":\"object\",\"name\":\"CDSView\",\"id\":\"p1419\",\"attributes\":{\"filter\":{\"type\":\"object\",\"name\":\"AllIndices\",\"id\":\"p1420\"}}},\"glyph\":{\"type\":\"object\",\"name\":\"Scatter\",\"id\":\"p1415\",\"attributes\":{\"x\":{\"type\":\"field\",\"field\":\"x\"},\"y\":{\"type\":\"field\",\"field\":\"y\"},\"size\":{\"type\":\"value\",\"value\":20},\"line_color\":{\"type\":\"value\",\"value\":\"#A5CD39\"},\"line_alpha\":{\"type\":\"value\",\"value\":0.8},\"fill_color\":{\"type\":\"value\",\"value\":\"#A5CD39\"},\"fill_alpha\":{\"type\":\"value\",\"value\":0.8},\"hatch_color\":{\"type\":\"value\",\"value\":\"#A5CD39\"},\"hatch_alpha\":{\"type\":\"value\",\"value\":0.8},\"marker\":{\"type\":\"value\",\"value\":\"square_pin\"}}},\"nonselection_glyph\":{\"type\":\"object\",\"name\":\"Scatter\",\"id\":\"p1416\",\"attributes\":{\"x\":{\"type\":\"field\",\"field\":\"x\"},\"y\":{\"type\":\"field\",\"field\":\"y\"},\"size\":{\"type\":\"value\",\"value\":20},\"line_color\":{\"type\":\"value\",\"value\":\"#A5CD39\"},\"line_alpha\":{\"type\":\"value\",\"value\":0.1},\"fill_color\":{\"type\":\"value\",\"value\":\"#A5CD39\"},\"fill_alpha\":{\"type\":\"value\",\"value\":0.1},\"hatch_color\":{\"type\":\"value\",\"value\":\"#A5CD39\"},\"hatch_alpha\":{\"type\":\"value\",\"value\":0.1},\"marker\":{\"type\":\"value\",\"value\":\"square_pin\"}}},\"muted_glyph\":{\"type\":\"object\",\"name\":\"Scatter\",\"id\":\"p1417\",\"attributes\":{\"x\":{\"type\":\"field\",\"field\":\"x\"},\"y\":{\"type\":\"field\",\"field\":\"y\"},\"size\":{\"type\":\"value\",\"value\":20},\"line_color\":{\"type\":\"value\",\"value\":\"#A5CD39\"},\"line_alpha\":{\"type\":\"value\",\"value\":0.2},\"fill_color\":{\"type\":\"value\",\"value\":\"#A5CD39\"},\"fill_alpha\":{\"type\":\"value\",\"value\":0.2},\"hatch_color\":{\"type\":\"value\",\"value\":\"#A5CD39\"},\"hatch_alpha\":{\"type\":\"value\",\"value\":0.2},\"marker\":{\"type\":\"value\",\"value\":\"square_pin\"}}}}},{\"type\":\"object\",\"name\":\"GlyphRenderer\",\"id\":\"p1428\",\"attributes\":{\"data_source\":{\"type\":\"object\",\"name\":\"ColumnDataSource\",\"id\":\"p1422\",\"attributes\":{\"selected\":{\"type\":\"object\",\"name\":\"Selection\",\"id\":\"p1423\",\"attributes\":{\"indices\":[],\"line_indices\":[]}},\"selection_policy\":{\"type\":\"object\",\"name\":\"UnionRenderers\",\"id\":\"p1424\"},\"data\":{\"type\":\"map\",\"entries\":[[\"x\",{\"type\":\"ndarray\",\"array\":{\"type\":\"bytes\",\"data\":\"GQAAABAAAAAlAAAAGQAAABkAAAAeAAAAHgAAAB4AAAA=\"},\"shape\":[8],\"dtype\":\"int32\",\"order\":\"little\"}],[\"y\",{\"type\":\"ndarray\",\"array\":{\"type\":\"bytes\",\"data\":\"AAAAAACE20AAAAAAACvmQAAAAACAHMBAAAAAAADE30AAAAAAgJ3gQAAAAACAgMBAAAAAAIDTwkAAAAAAgN/FQA==\"},\"shape\":[8],\"dtype\":\"float64\",\"order\":\"little\"}]]}}},\"view\":{\"type\":\"object\",\"name\":\"CDSView\",\"id\":\"p1429\",\"attributes\":{\"filter\":{\"type\":\"object\",\"name\":\"AllIndices\",\"id\":\"p1430\"}}},\"glyph\":{\"type\":\"object\",\"name\":\"Scatter\",\"id\":\"p1425\",\"attributes\":{\"x\":{\"type\":\"field\",\"field\":\"x\"},\"y\":{\"type\":\"field\",\"field\":\"y\"},\"size\":{\"type\":\"value\",\"value\":20},\"line_color\":{\"type\":\"value\",\"value\":\"#20B254\"},\"line_alpha\":{\"type\":\"value\",\"value\":0.8},\"fill_color\":{\"type\":\"value\",\"value\":\"#20B254\"},\"fill_alpha\":{\"type\":\"value\",\"value\":0.8},\"hatch_color\":{\"type\":\"value\",\"value\":\"#20B254\"},\"hatch_alpha\":{\"type\":\"value\",\"value\":0.8},\"marker\":{\"type\":\"value\",\"value\":\"square_pin\"}}},\"nonselection_glyph\":{\"type\":\"object\",\"name\":\"Scatter\",\"id\":\"p1426\",\"attributes\":{\"x\":{\"type\":\"field\",\"field\":\"x\"},\"y\":{\"type\":\"field\",\"field\":\"y\"},\"size\":{\"type\":\"value\",\"value\":20},\"line_color\":{\"type\":\"value\",\"value\":\"#20B254\"},\"line_alpha\":{\"type\":\"value\",\"value\":0.1},\"fill_color\":{\"type\":\"value\",\"value\":\"#20B254\"},\"fill_alpha\":{\"type\":\"value\",\"value\":0.1},\"hatch_color\":{\"type\":\"value\",\"value\":\"#20B254\"},\"hatch_alpha\":{\"type\":\"value\",\"value\":0.1},\"marker\":{\"type\":\"value\",\"value\":\"square_pin\"}}},\"muted_glyph\":{\"type\":\"object\",\"name\":\"Scatter\",\"id\":\"p1427\",\"attributes\":{\"x\":{\"type\":\"field\",\"field\":\"x\"},\"y\":{\"type\":\"field\",\"field\":\"y\"},\"size\":{\"type\":\"value\",\"value\":20},\"line_color\":{\"type\":\"value\",\"value\":\"#20B254\"},\"line_alpha\":{\"type\":\"value\",\"value\":0.2},\"fill_color\":{\"type\":\"value\",\"value\":\"#20B254\"},\"fill_alpha\":{\"type\":\"value\",\"value\":0.2},\"hatch_color\":{\"type\":\"value\",\"value\":\"#20B254\"},\"hatch_alpha\":{\"type\":\"value\",\"value\":0.2},\"marker\":{\"type\":\"value\",\"value\":\"square_pin\"}}}}}],\"toolbar\":{\"type\":\"object\",\"name\":\"Toolbar\",\"id\":\"p1357\",\"attributes\":{\"tools\":[{\"type\":\"object\",\"name\":\"PanTool\",\"id\":\"p1370\"},{\"type\":\"object\",\"name\":\"WheelZoomTool\",\"id\":\"p1371\",\"attributes\":{\"renderers\":\"auto\"}},{\"type\":\"object\",\"name\":\"BoxZoomTool\",\"id\":\"p1372\",\"attributes\":{\"overlay\":{\"type\":\"object\",\"name\":\"BoxAnnotation\",\"id\":\"p1373\",\"attributes\":{\"syncable\":false,\"level\":\"overlay\",\"visible\":false,\"left\":{\"type\":\"number\",\"value\":\"nan\"},\"right\":{\"type\":\"number\",\"value\":\"nan\"},\"top\":{\"type\":\"number\",\"value\":\"nan\"},\"bottom\":{\"type\":\"number\",\"value\":\"nan\"},\"left_units\":\"canvas\",\"right_units\":\"canvas\",\"top_units\":\"canvas\",\"bottom_units\":\"canvas\",\"line_color\":\"black\",\"line_alpha\":1.0,\"line_width\":2,\"line_dash\":[4,4],\"fill_color\":\"lightgrey\",\"fill_alpha\":0.5}}}},{\"type\":\"object\",\"name\":\"SaveTool\",\"id\":\"p1378\"},{\"type\":\"object\",\"name\":\"ResetTool\",\"id\":\"p1379\"},{\"type\":\"object\",\"name\":\"HelpTool\",\"id\":\"p1380\"}]}},\"left\":[{\"type\":\"object\",\"name\":\"LinearAxis\",\"id\":\"p1365\",\"attributes\":{\"ticker\":{\"type\":\"object\",\"name\":\"BasicTicker\",\"id\":\"p1366\",\"attributes\":{\"mantissas\":[1,2,5]}},\"formatter\":{\"type\":\"object\",\"name\":\"BasicTickFormatter\",\"id\":\"p1367\"},\"axis_label\":\"Price\",\"major_label_policy\":{\"type\":\"object\",\"name\":\"AllLabels\",\"id\":\"p1368\"}}}],\"below\":[{\"type\":\"object\",\"name\":\"LinearAxis\",\"id\":\"p1360\",\"attributes\":{\"ticker\":{\"type\":\"object\",\"name\":\"BasicTicker\",\"id\":\"p1361\",\"attributes\":{\"mantissas\":[1,2,5]}},\"formatter\":{\"type\":\"object\",\"name\":\"BasicTickFormatter\",\"id\":\"p1362\"},\"axis_label\":\"Highway (mpg)\",\"major_label_policy\":{\"type\":\"object\",\"name\":\"AllLabels\",\"id\":\"p1363\"}}}],\"center\":[{\"type\":\"object\",\"name\":\"Grid\",\"id\":\"p1364\",\"attributes\":{\"axis\":{\"id\":\"p1360\"}}},{\"type\":\"object\",\"name\":\"Grid\",\"id\":\"p1369\",\"attributes\":{\"dimension\":1,\"axis\":{\"id\":\"p1365\"}}},{\"type\":\"object\",\"name\":\"Legend\",\"id\":\"p1390\",\"attributes\":{\"click_policy\":\"mute\",\"items\":[{\"type\":\"object\",\"name\":\"LegendItem\",\"id\":\"p1391\",\"attributes\":{\"label\":{\"type\":\"value\",\"value\":\"convertible\"},\"renderers\":[{\"id\":\"p1387\"}]}},{\"type\":\"object\",\"name\":\"LegendItem\",\"id\":\"p1401\",\"attributes\":{\"label\":{\"type\":\"value\",\"value\":\"hatchback\"},\"renderers\":[{\"id\":\"p1398\"}]}},{\"type\":\"object\",\"name\":\"LegendItem\",\"id\":\"p1411\",\"attributes\":{\"label\":{\"type\":\"value\",\"value\":\"sedan\"},\"renderers\":[{\"id\":\"p1408\"}]}},{\"type\":\"object\",\"name\":\"LegendItem\",\"id\":\"p1421\",\"attributes\":{\"label\":{\"type\":\"value\",\"value\":\"wagon\"},\"renderers\":[{\"id\":\"p1418\"}]}},{\"type\":\"object\",\"name\":\"LegendItem\",\"id\":\"p1431\",\"attributes\":{\"label\":{\"type\":\"value\",\"value\":\"hardtop\"},\"renderers\":[{\"id\":\"p1428\"}]}}]}}]}}]}};\n  const render_items = [{\"docid\":\"35a5a20f-34cc-4d95-8e85-45323dafcfdc\",\"roots\":{\"p1348\":\"ad182fef-2c9f-4a00-b1b9-580897d6cbbe\"},\"root_ids\":[\"p1348\"]}];\n  root.Bokeh.embed.embed_items_notebook(docs_json, render_items);\n  }\n  if (root.Bokeh !== undefined) {\n    embed_document(root);\n  } else {\n    let attempts = 0;\n    const timer = setInterval(function(root) {\n      if (root.Bokeh !== undefined) {\n        clearInterval(timer);\n        embed_document(root);\n      } else {\n        attempts++;\n        if (attempts > 100) {\n          clearInterval(timer);\n          console.log(\"Bokeh: ERROR: Unable to run BokehJS code because BokehJS library is missing\");\n        }\n      }\n    }, 10, root)\n  }\n})(window);",
      "application/vnd.bokehjs_exec.v0+json": ""
     },
     "metadata": {
      "application/vnd.bokehjs_exec.v0+json": {
       "id": "p1348"
      }
     },
     "output_type": "display_data"
    }
   ],
   "source": [
    "sct2.legend.location = \"top_right\"\n",
    "sct2.legend.click_policy=\"mute\"\n",
    "show(sct2)"
   ]
  },
  {
   "cell_type": "markdown",
   "metadata": {},
   "source": [
    "## Conclusions"
   ]
  },
  {
   "cell_type": "markdown",
   "metadata": {},
   "source": [
    "- Interactive widgets in Bokeh enable users to dynamically manipulate visual elements, providing a more engaging and exploratory data visualization experience.\n",
    "- Widgets like sliders, color pickers, and select buttons allow real-time adjustments to plot attributes, facilitating deeper insights into the data.\n",
    "- Interactive legends empower users to hide or mute specific data points selectively, enhancing the clarity and interpretability of visualizations.\n",
    "- Bokeh's robust widget functionality and flexibility in creating interactive dashboards make it a powerful tool for data exploration and analysis."
   ]
  },
  {
   "cell_type": "markdown",
   "metadata": {},
   "source": [
    "## References"
   ]
  },
  {
   "cell_type": "markdown",
   "metadata": {},
   "source": [
    "- https://bokeh.org/\n",
    "- https://docs.bokeh.org/en/latest/docs/reference/models/glyphs/scatter.html\n",
    "- https://docs.bokeh.org/en/latest/docs/user_guide/interaction.html"
   ]
  }
 ],
 "metadata": {
  "interpreter": {
   "hash": "f6ce50080babb3e2c9dded3d344b1d82a47cf5d6f13f4c2ab5a2113adb8feaef"
  },
  "kernelspec": {
   "display_name": "Python 3.10.5 64-bit (windows store)",
   "language": "python",
   "name": "python3"
  },
  "language_info": {
   "codemirror_mode": {
    "name": "ipython",
    "version": 3
   },
   "file_extension": ".py",
   "mimetype": "text/x-python",
   "name": "python",
   "nbconvert_exporter": "python",
   "pygments_lexer": "ipython3",
   "version": "3.11.0"
  },
  "orig_nbformat": 4
 },
 "nbformat": 4,
 "nbformat_minor": 2
}
