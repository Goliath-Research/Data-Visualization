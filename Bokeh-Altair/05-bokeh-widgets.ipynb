{
 "cells": [
  {
   "cell_type": "markdown",
   "metadata": {},
   "source": [
    "# Adding Widgets"
   ]
  },
  {
   "cell_type": "code",
   "execution_count": 1,
   "metadata": {},
   "outputs": [],
   "source": [
    "import numpy as np\n",
    "import pandas as pd\n",
    "pd.set_option('display.max_columns', 12)"
   ]
  },
  {
   "cell_type": "code",
   "execution_count": 2,
   "metadata": {},
   "outputs": [
    {
     "data": {
      "text/html": [
       "\n",
       "    <div class=\"bk-root\">\n",
       "        <a href=\"https://bokeh.org\" target=\"_blank\" class=\"bk-logo bk-logo-small bk-logo-notebook\"></a>\n",
       "        <span id=\"1002\">Loading BokehJS ...</span>\n",
       "    </div>"
      ]
     },
     "metadata": {},
     "output_type": "display_data"
    },
    {
     "data": {
      "application/javascript": "\n(function(root) {\n  function now() {\n    return new Date();\n  }\n\n  const force = true;\n\n  if (typeof root._bokeh_onload_callbacks === \"undefined\" || force === true) {\n    root._bokeh_onload_callbacks = [];\n    root._bokeh_is_loading = undefined;\n  }\n\n  const JS_MIME_TYPE = 'application/javascript';\n  const HTML_MIME_TYPE = 'text/html';\n  const EXEC_MIME_TYPE = 'application/vnd.bokehjs_exec.v0+json';\n  const CLASS_NAME = 'output_bokeh rendered_html';\n\n  /**\n   * Render data to the DOM node\n   */\n  function render(props, node) {\n    const script = document.createElement(\"script\");\n    node.appendChild(script);\n  }\n\n  /**\n   * Handle when an output is cleared or removed\n   */\n  function handleClearOutput(event, handle) {\n    const cell = handle.cell;\n\n    const id = cell.output_area._bokeh_element_id;\n    const server_id = cell.output_area._bokeh_server_id;\n    // Clean up Bokeh references\n    if (id != null && id in Bokeh.index) {\n      Bokeh.index[id].model.document.clear();\n      delete Bokeh.index[id];\n    }\n\n    if (server_id !== undefined) {\n      // Clean up Bokeh references\n      const cmd_clean = \"from bokeh.io.state import curstate; print(curstate().uuid_to_server['\" + server_id + \"'].get_sessions()[0].document.roots[0]._id)\";\n      cell.notebook.kernel.execute(cmd_clean, {\n        iopub: {\n          output: function(msg) {\n            const id = msg.content.text.trim();\n            if (id in Bokeh.index) {\n              Bokeh.index[id].model.document.clear();\n              delete Bokeh.index[id];\n            }\n          }\n        }\n      });\n      // Destroy server and session\n      const cmd_destroy = \"import bokeh.io.notebook as ion; ion.destroy_server('\" + server_id + \"')\";\n      cell.notebook.kernel.execute(cmd_destroy);\n    }\n  }\n\n  /**\n   * Handle when a new output is added\n   */\n  function handleAddOutput(event, handle) {\n    const output_area = handle.output_area;\n    const output = handle.output;\n\n    // limit handleAddOutput to display_data with EXEC_MIME_TYPE content only\n    if ((output.output_type != \"display_data\") || (!Object.prototype.hasOwnProperty.call(output.data, EXEC_MIME_TYPE))) {\n      return\n    }\n\n    const toinsert = output_area.element.find(\".\" + CLASS_NAME.split(' ')[0]);\n\n    if (output.metadata[EXEC_MIME_TYPE][\"id\"] !== undefined) {\n      toinsert[toinsert.length - 1].firstChild.textContent = output.data[JS_MIME_TYPE];\n      // store reference to embed id on output_area\n      output_area._bokeh_element_id = output.metadata[EXEC_MIME_TYPE][\"id\"];\n    }\n    if (output.metadata[EXEC_MIME_TYPE][\"server_id\"] !== undefined) {\n      const bk_div = document.createElement(\"div\");\n      bk_div.innerHTML = output.data[HTML_MIME_TYPE];\n      const script_attrs = bk_div.children[0].attributes;\n      for (let i = 0; i < script_attrs.length; i++) {\n        toinsert[toinsert.length - 1].firstChild.setAttribute(script_attrs[i].name, script_attrs[i].value);\n        toinsert[toinsert.length - 1].firstChild.textContent = bk_div.children[0].textContent\n      }\n      // store reference to server id on output_area\n      output_area._bokeh_server_id = output.metadata[EXEC_MIME_TYPE][\"server_id\"];\n    }\n  }\n\n  function register_renderer(events, OutputArea) {\n\n    function append_mime(data, metadata, element) {\n      // create a DOM node to render to\n      const toinsert = this.create_output_subarea(\n        metadata,\n        CLASS_NAME,\n        EXEC_MIME_TYPE\n      );\n      this.keyboard_manager.register_events(toinsert);\n      // Render to node\n      const props = {data: data, metadata: metadata[EXEC_MIME_TYPE]};\n      render(props, toinsert[toinsert.length - 1]);\n      element.append(toinsert);\n      return toinsert\n    }\n\n    /* Handle when an output is cleared or removed */\n    events.on('clear_output.CodeCell', handleClearOutput);\n    events.on('delete.Cell', handleClearOutput);\n\n    /* Handle when a new output is added */\n    events.on('output_added.OutputArea', handleAddOutput);\n\n    /**\n     * Register the mime type and append_mime function with output_area\n     */\n    OutputArea.prototype.register_mime_type(EXEC_MIME_TYPE, append_mime, {\n      /* Is output safe? */\n      safe: true,\n      /* Index of renderer in `output_area.display_order` */\n      index: 0\n    });\n  }\n\n  // register the mime type if in Jupyter Notebook environment and previously unregistered\n  if (root.Jupyter !== undefined) {\n    const events = require('base/js/events');\n    const OutputArea = require('notebook/js/outputarea').OutputArea;\n\n    if (OutputArea.prototype.mime_types().indexOf(EXEC_MIME_TYPE) == -1) {\n      register_renderer(events, OutputArea);\n    }\n  }\n\n  \n  if (typeof (root._bokeh_timeout) === \"undefined\" || force === true) {\n    root._bokeh_timeout = Date.now() + 5000;\n    root._bokeh_failed_load = false;\n  }\n\n  const NB_LOAD_WARNING = {'data': {'text/html':\n     \"<div style='background-color: #fdd'>\\n\"+\n     \"<p>\\n\"+\n     \"BokehJS does not appear to have successfully loaded. If loading BokehJS from CDN, this \\n\"+\n     \"may be due to a slow or bad network connection. Possible fixes:\\n\"+\n     \"</p>\\n\"+\n     \"<ul>\\n\"+\n     \"<li>re-rerun `output_notebook()` to attempt to load from CDN again, or</li>\\n\"+\n     \"<li>use INLINE resources instead, as so:</li>\\n\"+\n     \"</ul>\\n\"+\n     \"<code>\\n\"+\n     \"from bokeh.resources import INLINE\\n\"+\n     \"output_notebook(resources=INLINE)\\n\"+\n     \"</code>\\n\"+\n     \"</div>\"}};\n\n  function display_loaded() {\n    const el = document.getElementById(\"1002\");\n    if (el != null) {\n      el.textContent = \"BokehJS is loading...\";\n    }\n    if (root.Bokeh !== undefined) {\n      if (el != null) {\n        el.textContent = \"BokehJS \" + root.Bokeh.version + \" successfully loaded.\";\n      }\n    } else if (Date.now() < root._bokeh_timeout) {\n      setTimeout(display_loaded, 100)\n    }\n  }\n\n\n  function run_callbacks() {\n    try {\n      root._bokeh_onload_callbacks.forEach(function(callback) {\n        if (callback != null)\n          callback();\n      });\n    } finally {\n      delete root._bokeh_onload_callbacks\n    }\n    console.debug(\"Bokeh: all callbacks have finished\");\n  }\n\n  function load_libs(css_urls, js_urls, callback) {\n    if (css_urls == null) css_urls = [];\n    if (js_urls == null) js_urls = [];\n\n    root._bokeh_onload_callbacks.push(callback);\n    if (root._bokeh_is_loading > 0) {\n      console.debug(\"Bokeh: BokehJS is being loaded, scheduling callback at\", now());\n      return null;\n    }\n    if (js_urls == null || js_urls.length === 0) {\n      run_callbacks();\n      return null;\n    }\n    console.debug(\"Bokeh: BokehJS not loaded, scheduling load and callback at\", now());\n    root._bokeh_is_loading = css_urls.length + js_urls.length;\n\n    function on_load() {\n      root._bokeh_is_loading--;\n      if (root._bokeh_is_loading === 0) {\n        console.debug(\"Bokeh: all BokehJS libraries/stylesheets loaded\");\n        run_callbacks()\n      }\n    }\n\n    function on_error(url) {\n      console.error(\"failed to load \" + url);\n    }\n\n    for (let i = 0; i < css_urls.length; i++) {\n      const url = css_urls[i];\n      const element = document.createElement(\"link\");\n      element.onload = on_load;\n      element.onerror = on_error.bind(null, url);\n      element.rel = \"stylesheet\";\n      element.type = \"text/css\";\n      element.href = url;\n      console.debug(\"Bokeh: injecting link tag for BokehJS stylesheet: \", url);\n      document.body.appendChild(element);\n    }\n\n    for (let i = 0; i < js_urls.length; i++) {\n      const url = js_urls[i];\n      const element = document.createElement('script');\n      element.onload = on_load;\n      element.onerror = on_error.bind(null, url);\n      element.async = false;\n      element.src = url;\n      console.debug(\"Bokeh: injecting script tag for BokehJS library: \", url);\n      document.head.appendChild(element);\n    }\n  };\n\n  function inject_raw_css(css) {\n    const element = document.createElement(\"style\");\n    element.appendChild(document.createTextNode(css));\n    document.body.appendChild(element);\n  }\n\n  \n  const js_urls = [\"https://cdn.bokeh.org/bokeh/release/bokeh-2.4.2.min.js\", \"https://cdn.bokeh.org/bokeh/release/bokeh-gl-2.4.2.min.js\", \"https://cdn.bokeh.org/bokeh/release/bokeh-widgets-2.4.2.min.js\", \"https://cdn.bokeh.org/bokeh/release/bokeh-tables-2.4.2.min.js\", \"https://cdn.bokeh.org/bokeh/release/bokeh-mathjax-2.4.2.min.js\"];\n  const css_urls = [];\n  \n\n  const inline_js = [\n    function(Bokeh) {\n      Bokeh.set_log_level(\"info\");\n    },\n    function(Bokeh) {\n    \n    \n    }\n  ];\n\n  function run_inline_js() {\n    \n    if (root.Bokeh !== undefined || force === true) {\n      \n    for (let i = 0; i < inline_js.length; i++) {\n      inline_js[i].call(root, root.Bokeh);\n    }\n    if (force === true) {\n        display_loaded();\n      }} else if (Date.now() < root._bokeh_timeout) {\n      setTimeout(run_inline_js, 100);\n    } else if (!root._bokeh_failed_load) {\n      console.log(\"Bokeh: BokehJS failed to load within specified timeout.\");\n      root._bokeh_failed_load = true;\n    } else if (force !== true) {\n      const cell = $(document.getElementById(\"1002\")).parents('.cell').data().cell;\n      cell.output_area.append_execute_result(NB_LOAD_WARNING)\n    }\n\n  }\n\n  if (root._bokeh_is_loading === 0) {\n    console.debug(\"Bokeh: BokehJS loaded, going straight to plotting\");\n    run_inline_js();\n  } else {\n    load_libs(css_urls, js_urls, function() {\n      console.debug(\"Bokeh: BokehJS plotting callback run at\", now());\n      run_inline_js();\n    });\n  }\n}(window));",
      "application/vnd.bokehjs_load.v0+json": ""
     },
     "metadata": {},
     "output_type": "display_data"
    }
   ],
   "source": [
    "from bokeh.plotting import figure, show\n",
    "from bokeh.io import output_notebook\n",
    "from bokeh.plotting import ColumnDataSource\n",
    "from bokeh.layouts import gridplot\n",
    "output_notebook()"
   ]
  },
  {
   "cell_type": "markdown",
   "metadata": {},
   "source": [
    "## Slider Widget"
   ]
  },
  {
   "cell_type": "markdown",
   "metadata": {},
   "source": [
    "The example shows an action attached to a slider that updates a data source whenever the slider is moved."
   ]
  },
  {
   "cell_type": "code",
   "execution_count": 3,
   "metadata": {},
   "outputs": [],
   "source": [
    "from bokeh.layouts import column, row \n",
    "from bokeh.models import Slider"
   ]
  },
  {
   "cell_type": "code",
   "execution_count": 4,
   "metadata": {},
   "outputs": [],
   "source": [
    "data = {'x':[1,2,3,4,5], 'y':[3,1,5,2,4]}\n",
    "source = ColumnDataSource(data=data)"
   ]
  },
  {
   "cell_type": "code",
   "execution_count": 5,
   "metadata": {},
   "outputs": [],
   "source": [
    "f1 = figure(x_range=(0, 6), y_range=(0, 6), \n",
    "            toolbar_location=None,\n",
    "            width=350, height=300)\n",
    "g1 = f1.circle_dot(x='x', y='y', source=source, color='indianred', size=30);"
   ]
  },
  {
   "cell_type": "code",
   "execution_count": 6,
   "metadata": {},
   "outputs": [],
   "source": [
    "slider1 = Slider(start=1, end=100, step=1, value=30, title='Size')\n",
    "slider1.js_link('value', g1.glyph, 'size')"
   ]
  },
  {
   "cell_type": "code",
   "execution_count": 7,
   "metadata": {},
   "outputs": [
    {
     "data": {
      "text/html": [
       "\n",
       "\n",
       "\n",
       "\n",
       "\n",
       "\n",
       "  <div class=\"bk-root\" id=\"d41a1e9e-d8a8-420e-b011-40d3c89bc4b2\" data-root-id=\"1043\"></div>\n"
      ]
     },
     "metadata": {},
     "output_type": "display_data"
    },
    {
     "data": {
      "application/javascript": "(function(root) {\n  function embed_document(root) {\n    \n  const docs_json = {\"d52bc7a0-1260-4ec7-8dea-7220896830ab\":{\"defs\":[],\"roots\":{\"references\":[{\"attributes\":{\"children\":[{\"id\":\"1041\"},{\"id\":\"1004\"}]},\"id\":\"1043\",\"type\":\"Column\"},{\"attributes\":{},\"id\":\"1050\",\"type\":\"BasicTickFormatter\"},{\"attributes\":{\"coordinates\":null,\"group\":null},\"id\":\"1044\",\"type\":\"Title\"},{\"attributes\":{},\"id\":\"1025\",\"type\":\"ResetTool\"},{\"attributes\":{\"overlay\":{\"id\":\"1027\"}},\"id\":\"1023\",\"type\":\"BoxZoomTool\"},{\"attributes\":{},\"id\":\"1053\",\"type\":\"Selection\"},{\"attributes\":{},\"id\":\"1024\",\"type\":\"SaveTool\"},{\"attributes\":{\"end\":100,\"js_property_callbacks\":{\"change:value\":[{\"id\":\"1042\"}]},\"start\":1,\"title\":\"Size\",\"value\":30},\"id\":\"1041\",\"type\":\"Slider\"},{\"attributes\":{\"source\":{\"id\":\"1003\"}},\"id\":\"1040\",\"type\":\"CDSView\"},{\"attributes\":{\"coordinates\":null,\"formatter\":{\"id\":\"1047\"},\"group\":null,\"major_label_policy\":{\"id\":\"1048\"},\"ticker\":{\"id\":\"1018\"}},\"id\":\"1017\",\"type\":\"LinearAxis\"},{\"attributes\":{},\"id\":\"1021\",\"type\":\"PanTool\"},{\"attributes\":{\"data\":{\"x\":[1,2,3,4,5],\"y\":[3,1,5,2,4]},\"selected\":{\"id\":\"1053\"},\"selection_policy\":{\"id\":\"1052\"}},\"id\":\"1003\",\"type\":\"ColumnDataSource\"},{\"attributes\":{\"axis\":{\"id\":\"1017\"},\"coordinates\":null,\"dimension\":1,\"group\":null,\"ticker\":null},\"id\":\"1020\",\"type\":\"Grid\"},{\"attributes\":{},\"id\":\"1018\",\"type\":\"BasicTicker\"},{\"attributes\":{\"end\":6},\"id\":\"1007\",\"type\":\"Range1d\"},{\"attributes\":{\"end\":6},\"id\":\"1005\",\"type\":\"Range1d\"},{\"attributes\":{},\"id\":\"1022\",\"type\":\"WheelZoomTool\"},{\"attributes\":{},\"id\":\"1026\",\"type\":\"HelpTool\"},{\"attributes\":{\"fill_color\":{\"value\":\"indianred\"},\"hatch_color\":{\"value\":\"indianred\"},\"line_color\":{\"value\":\"indianred\"},\"marker\":{\"value\":\"circle_dot\"},\"size\":{\"value\":30},\"x\":{\"field\":\"x\"},\"y\":{\"field\":\"y\"}},\"id\":\"1036\",\"type\":\"Scatter\"},{\"attributes\":{\"below\":[{\"id\":\"1013\"}],\"center\":[{\"id\":\"1016\"},{\"id\":\"1020\"}],\"height\":300,\"left\":[{\"id\":\"1017\"}],\"renderers\":[{\"id\":\"1039\"}],\"title\":{\"id\":\"1044\"},\"toolbar\":{\"id\":\"1028\"},\"toolbar_location\":null,\"width\":350,\"x_range\":{\"id\":\"1005\"},\"x_scale\":{\"id\":\"1009\"},\"y_range\":{\"id\":\"1007\"},\"y_scale\":{\"id\":\"1011\"}},\"id\":\"1004\",\"subtype\":\"Figure\",\"type\":\"Plot\"},{\"attributes\":{},\"id\":\"1011\",\"type\":\"LinearScale\"},{\"attributes\":{\"tools\":[{\"id\":\"1021\"},{\"id\":\"1022\"},{\"id\":\"1023\"},{\"id\":\"1024\"},{\"id\":\"1025\"},{\"id\":\"1026\"}]},\"id\":\"1028\",\"type\":\"Toolbar\"},{\"attributes\":{},\"id\":\"1051\",\"type\":\"AllLabels\"},{\"attributes\":{},\"id\":\"1052\",\"type\":\"UnionRenderers\"},{\"attributes\":{},\"id\":\"1009\",\"type\":\"LinearScale\"},{\"attributes\":{},\"id\":\"1048\",\"type\":\"AllLabels\"},{\"attributes\":{\"bottom_units\":\"screen\",\"coordinates\":null,\"fill_alpha\":0.5,\"fill_color\":\"lightgrey\",\"group\":null,\"left_units\":\"screen\",\"level\":\"overlay\",\"line_alpha\":1.0,\"line_color\":\"black\",\"line_dash\":[4,4],\"line_width\":2,\"right_units\":\"screen\",\"syncable\":false,\"top_units\":\"screen\"},\"id\":\"1027\",\"type\":\"BoxAnnotation\"},{\"attributes\":{\"coordinates\":null,\"formatter\":{\"id\":\"1050\"},\"group\":null,\"major_label_policy\":{\"id\":\"1051\"},\"ticker\":{\"id\":\"1014\"}},\"id\":\"1013\",\"type\":\"LinearAxis\"},{\"attributes\":{\"coordinates\":null,\"data_source\":{\"id\":\"1003\"},\"glyph\":{\"id\":\"1036\"},\"group\":null,\"hover_glyph\":null,\"muted_glyph\":{\"id\":\"1038\"},\"nonselection_glyph\":{\"id\":\"1037\"},\"view\":{\"id\":\"1040\"}},\"id\":\"1039\",\"type\":\"GlyphRenderer\"},{\"attributes\":{\"axis\":{\"id\":\"1013\"},\"coordinates\":null,\"group\":null,\"ticker\":null},\"id\":\"1016\",\"type\":\"Grid\"},{\"attributes\":{},\"id\":\"1014\",\"type\":\"BasicTicker\"},{\"attributes\":{},\"id\":\"1047\",\"type\":\"BasicTickFormatter\"},{\"attributes\":{\"fill_alpha\":{\"value\":0.2},\"fill_color\":{\"value\":\"indianred\"},\"hatch_alpha\":{\"value\":0.2},\"hatch_color\":{\"value\":\"indianred\"},\"line_alpha\":{\"value\":0.2},\"line_color\":{\"value\":\"indianred\"},\"marker\":{\"value\":\"circle_dot\"},\"size\":{\"value\":30},\"x\":{\"field\":\"x\"},\"y\":{\"field\":\"y\"}},\"id\":\"1038\",\"type\":\"Scatter\"},{\"attributes\":{\"args\":{\"other\":{\"id\":\"1036\"}},\"code\":\"other.size = this.value\"},\"id\":\"1042\",\"type\":\"CustomJS\"},{\"attributes\":{\"fill_alpha\":{\"value\":0.1},\"fill_color\":{\"value\":\"indianred\"},\"hatch_alpha\":{\"value\":0.1},\"hatch_color\":{\"value\":\"indianred\"},\"line_alpha\":{\"value\":0.1},\"line_color\":{\"value\":\"indianred\"},\"marker\":{\"value\":\"circle_dot\"},\"size\":{\"value\":30},\"x\":{\"field\":\"x\"},\"y\":{\"field\":\"y\"}},\"id\":\"1037\",\"type\":\"Scatter\"}],\"root_ids\":[\"1043\"]},\"title\":\"Bokeh Application\",\"version\":\"2.4.2\"}};\n  const render_items = [{\"docid\":\"d52bc7a0-1260-4ec7-8dea-7220896830ab\",\"root_ids\":[\"1043\"],\"roots\":{\"1043\":\"d41a1e9e-d8a8-420e-b011-40d3c89bc4b2\"}}];\n  root.Bokeh.embed.embed_items_notebook(docs_json, render_items);\n\n  }\n  if (root.Bokeh !== undefined) {\n    embed_document(root);\n  } else {\n    let attempts = 0;\n    const timer = setInterval(function(root) {\n      if (root.Bokeh !== undefined) {\n        clearInterval(timer);\n        embed_document(root);\n      } else {\n        attempts++;\n        if (attempts > 100) {\n          clearInterval(timer);\n          console.log(\"Bokeh: ERROR: Unable to run BokehJS code because BokehJS library is missing\");\n        }\n      }\n    }, 10, root)\n  }\n})(window);",
      "application/vnd.bokehjs_exec.v0+json": ""
     },
     "metadata": {
      "application/vnd.bokehjs_exec.v0+json": {
       "id": "1043"
      }
     },
     "output_type": "display_data"
    }
   ],
   "source": [
    "show(column(slider1, f1))"
   ]
  },
  {
   "cell_type": "code",
   "execution_count": 8,
   "metadata": {},
   "outputs": [
    {
     "data": {
      "text/html": [
       "\n",
       "\n",
       "\n",
       "\n",
       "\n",
       "\n",
       "  <div class=\"bk-root\" id=\"0a96a1a5-a3b4-47c4-90c3-8fce21c5983e\" data-root-id=\"1110\"></div>\n"
      ]
     },
     "metadata": {},
     "output_type": "display_data"
    },
    {
     "data": {
      "application/javascript": "(function(root) {\n  function embed_document(root) {\n    \n  const docs_json = {\"a85bf7c6-f976-4c7f-999b-db11a4ef5383\":{\"defs\":[],\"roots\":{\"references\":[{\"attributes\":{\"children\":[{\"id\":\"1004\"},{\"id\":\"1041\"}]},\"id\":\"1110\",\"type\":\"Row\"},{\"attributes\":{},\"id\":\"1050\",\"type\":\"BasicTickFormatter\"},{\"attributes\":{\"coordinates\":null,\"group\":null},\"id\":\"1044\",\"type\":\"Title\"},{\"attributes\":{},\"id\":\"1025\",\"type\":\"ResetTool\"},{\"attributes\":{\"overlay\":{\"id\":\"1027\"}},\"id\":\"1023\",\"type\":\"BoxZoomTool\"},{\"attributes\":{},\"id\":\"1053\",\"type\":\"Selection\"},{\"attributes\":{},\"id\":\"1024\",\"type\":\"SaveTool\"},{\"attributes\":{\"end\":100,\"js_property_callbacks\":{\"change:value\":[{\"id\":\"1042\"}]},\"start\":1,\"title\":\"Size\",\"value\":30},\"id\":\"1041\",\"type\":\"Slider\"},{\"attributes\":{\"source\":{\"id\":\"1003\"}},\"id\":\"1040\",\"type\":\"CDSView\"},{\"attributes\":{\"coordinates\":null,\"formatter\":{\"id\":\"1047\"},\"group\":null,\"major_label_policy\":{\"id\":\"1048\"},\"ticker\":{\"id\":\"1018\"}},\"id\":\"1017\",\"type\":\"LinearAxis\"},{\"attributes\":{},\"id\":\"1021\",\"type\":\"PanTool\"},{\"attributes\":{\"data\":{\"x\":[1,2,3,4,5],\"y\":[3,1,5,2,4]},\"selected\":{\"id\":\"1053\"},\"selection_policy\":{\"id\":\"1052\"}},\"id\":\"1003\",\"type\":\"ColumnDataSource\"},{\"attributes\":{\"axis\":{\"id\":\"1017\"},\"coordinates\":null,\"dimension\":1,\"group\":null,\"ticker\":null},\"id\":\"1020\",\"type\":\"Grid\"},{\"attributes\":{},\"id\":\"1018\",\"type\":\"BasicTicker\"},{\"attributes\":{\"end\":6},\"id\":\"1007\",\"type\":\"Range1d\"},{\"attributes\":{\"end\":6},\"id\":\"1005\",\"type\":\"Range1d\"},{\"attributes\":{},\"id\":\"1022\",\"type\":\"WheelZoomTool\"},{\"attributes\":{},\"id\":\"1026\",\"type\":\"HelpTool\"},{\"attributes\":{\"fill_color\":{\"value\":\"indianred\"},\"hatch_color\":{\"value\":\"indianred\"},\"line_color\":{\"value\":\"indianred\"},\"marker\":{\"value\":\"circle_dot\"},\"size\":{\"value\":30},\"x\":{\"field\":\"x\"},\"y\":{\"field\":\"y\"}},\"id\":\"1036\",\"type\":\"Scatter\"},{\"attributes\":{\"below\":[{\"id\":\"1013\"}],\"center\":[{\"id\":\"1016\"},{\"id\":\"1020\"}],\"height\":300,\"left\":[{\"id\":\"1017\"}],\"renderers\":[{\"id\":\"1039\"}],\"title\":{\"id\":\"1044\"},\"toolbar\":{\"id\":\"1028\"},\"toolbar_location\":null,\"width\":350,\"x_range\":{\"id\":\"1005\"},\"x_scale\":{\"id\":\"1009\"},\"y_range\":{\"id\":\"1007\"},\"y_scale\":{\"id\":\"1011\"}},\"id\":\"1004\",\"subtype\":\"Figure\",\"type\":\"Plot\"},{\"attributes\":{},\"id\":\"1011\",\"type\":\"LinearScale\"},{\"attributes\":{\"tools\":[{\"id\":\"1021\"},{\"id\":\"1022\"},{\"id\":\"1023\"},{\"id\":\"1024\"},{\"id\":\"1025\"},{\"id\":\"1026\"}]},\"id\":\"1028\",\"type\":\"Toolbar\"},{\"attributes\":{},\"id\":\"1051\",\"type\":\"AllLabels\"},{\"attributes\":{},\"id\":\"1052\",\"type\":\"UnionRenderers\"},{\"attributes\":{},\"id\":\"1009\",\"type\":\"LinearScale\"},{\"attributes\":{},\"id\":\"1048\",\"type\":\"AllLabels\"},{\"attributes\":{\"bottom_units\":\"screen\",\"coordinates\":null,\"fill_alpha\":0.5,\"fill_color\":\"lightgrey\",\"group\":null,\"left_units\":\"screen\",\"level\":\"overlay\",\"line_alpha\":1.0,\"line_color\":\"black\",\"line_dash\":[4,4],\"line_width\":2,\"right_units\":\"screen\",\"syncable\":false,\"top_units\":\"screen\"},\"id\":\"1027\",\"type\":\"BoxAnnotation\"},{\"attributes\":{\"coordinates\":null,\"formatter\":{\"id\":\"1050\"},\"group\":null,\"major_label_policy\":{\"id\":\"1051\"},\"ticker\":{\"id\":\"1014\"}},\"id\":\"1013\",\"type\":\"LinearAxis\"},{\"attributes\":{\"coordinates\":null,\"data_source\":{\"id\":\"1003\"},\"glyph\":{\"id\":\"1036\"},\"group\":null,\"hover_glyph\":null,\"muted_glyph\":{\"id\":\"1038\"},\"nonselection_glyph\":{\"id\":\"1037\"},\"view\":{\"id\":\"1040\"}},\"id\":\"1039\",\"type\":\"GlyphRenderer\"},{\"attributes\":{\"axis\":{\"id\":\"1013\"},\"coordinates\":null,\"group\":null,\"ticker\":null},\"id\":\"1016\",\"type\":\"Grid\"},{\"attributes\":{},\"id\":\"1014\",\"type\":\"BasicTicker\"},{\"attributes\":{},\"id\":\"1047\",\"type\":\"BasicTickFormatter\"},{\"attributes\":{\"fill_alpha\":{\"value\":0.2},\"fill_color\":{\"value\":\"indianred\"},\"hatch_alpha\":{\"value\":0.2},\"hatch_color\":{\"value\":\"indianred\"},\"line_alpha\":{\"value\":0.2},\"line_color\":{\"value\":\"indianred\"},\"marker\":{\"value\":\"circle_dot\"},\"size\":{\"value\":30},\"x\":{\"field\":\"x\"},\"y\":{\"field\":\"y\"}},\"id\":\"1038\",\"type\":\"Scatter\"},{\"attributes\":{\"args\":{\"other\":{\"id\":\"1036\"}},\"code\":\"other.size = this.value\"},\"id\":\"1042\",\"type\":\"CustomJS\"},{\"attributes\":{\"fill_alpha\":{\"value\":0.1},\"fill_color\":{\"value\":\"indianred\"},\"hatch_alpha\":{\"value\":0.1},\"hatch_color\":{\"value\":\"indianred\"},\"line_alpha\":{\"value\":0.1},\"line_color\":{\"value\":\"indianred\"},\"marker\":{\"value\":\"circle_dot\"},\"size\":{\"value\":30},\"x\":{\"field\":\"x\"},\"y\":{\"field\":\"y\"}},\"id\":\"1037\",\"type\":\"Scatter\"}],\"root_ids\":[\"1110\"]},\"title\":\"Bokeh Application\",\"version\":\"2.4.2\"}};\n  const render_items = [{\"docid\":\"a85bf7c6-f976-4c7f-999b-db11a4ef5383\",\"root_ids\":[\"1110\"],\"roots\":{\"1110\":\"0a96a1a5-a3b4-47c4-90c3-8fce21c5983e\"}}];\n  root.Bokeh.embed.embed_items_notebook(docs_json, render_items);\n\n  }\n  if (root.Bokeh !== undefined) {\n    embed_document(root);\n  } else {\n    let attempts = 0;\n    const timer = setInterval(function(root) {\n      if (root.Bokeh !== undefined) {\n        clearInterval(timer);\n        embed_document(root);\n      } else {\n        attempts++;\n        if (attempts > 100) {\n          clearInterval(timer);\n          console.log(\"Bokeh: ERROR: Unable to run BokehJS code because BokehJS library is missing\");\n        }\n      }\n    }, 10, root)\n  }\n})(window);",
      "application/vnd.bokehjs_exec.v0+json": ""
     },
     "metadata": {
      "application/vnd.bokehjs_exec.v0+json": {
       "id": "1110"
      }
     },
     "output_type": "display_data"
    }
   ],
   "source": [
    "show(row(f1, slider1))"
   ]
  },
  {
   "cell_type": "markdown",
   "metadata": {},
   "source": [
    "## Color Picker"
   ]
  },
  {
   "cell_type": "markdown",
   "metadata": {},
   "source": [
    "It is a widget to allow the user to specify an RGB color value."
   ]
  },
  {
   "cell_type": "code",
   "execution_count": 9,
   "metadata": {},
   "outputs": [],
   "source": [
    "from bokeh.models import ColorPicker"
   ]
  },
  {
   "cell_type": "code",
   "execution_count": 10,
   "metadata": {},
   "outputs": [],
   "source": [
    "f2 = figure(x_range=(0, 6), y_range=(0, 6), \n",
    "            toolbar_location=None,\n",
    "            width=350, height=300)\n",
    "g2 = f2.square_dot(x='x', y='y', source=source, color='green', size=30)"
   ]
  },
  {
   "cell_type": "code",
   "execution_count": 11,
   "metadata": {},
   "outputs": [],
   "source": [
    "picker2 = ColorPicker(title=\"Circles Color\", color='green')\n",
    "picker2.js_link('color', g2.glyph, 'fill_color')"
   ]
  },
  {
   "cell_type": "code",
   "execution_count": 12,
   "metadata": {},
   "outputs": [
    {
     "data": {
      "text/html": [
       "\n",
       "\n",
       "\n",
       "\n",
       "\n",
       "\n",
       "  <div class=\"bk-root\" id=\"347d9855-6d38-40e8-bf02-293649fcbe8c\" data-root-id=\"1227\"></div>\n"
      ]
     },
     "metadata": {},
     "output_type": "display_data"
    },
    {
     "data": {
      "application/javascript": "(function(root) {\n  function embed_document(root) {\n    \n  const docs_json = {\"bcbaae36-f640-4c6f-98ac-a5c865c0e427\":{\"defs\":[],\"roots\":{\"references\":[{\"attributes\":{\"children\":[{\"id\":\"1225\"},{\"id\":\"1188\"}]},\"id\":\"1227\",\"type\":\"Column\"},{\"attributes\":{\"end\":6},\"id\":\"1191\",\"type\":\"Range1d\"},{\"attributes\":{},\"id\":\"1253\",\"type\":\"BasicTickFormatter\"},{\"attributes\":{\"end\":6},\"id\":\"1189\",\"type\":\"Range1d\"},{\"attributes\":{\"coordinates\":null,\"group\":null},\"id\":\"1250\",\"type\":\"Title\"},{\"attributes\":{},\"id\":\"1209\",\"type\":\"ResetTool\"},{\"attributes\":{},\"id\":\"1053\",\"type\":\"Selection\"},{\"attributes\":{},\"id\":\"1208\",\"type\":\"SaveTool\"},{\"attributes\":{\"overlay\":{\"id\":\"1211\"}},\"id\":\"1207\",\"type\":\"BoxZoomTool\"},{\"attributes\":{},\"id\":\"1205\",\"type\":\"PanTool\"},{\"attributes\":{},\"id\":\"1206\",\"type\":\"WheelZoomTool\"},{\"attributes\":{\"source\":{\"id\":\"1003\"}},\"id\":\"1224\",\"type\":\"CDSView\"},{\"attributes\":{\"data\":{\"x\":[1,2,3,4,5],\"y\":[3,1,5,2,4]},\"selected\":{\"id\":\"1053\"},\"selection_policy\":{\"id\":\"1052\"}},\"id\":\"1003\",\"type\":\"ColumnDataSource\"},{\"attributes\":{\"bottom_units\":\"screen\",\"coordinates\":null,\"fill_alpha\":0.5,\"fill_color\":\"lightgrey\",\"group\":null,\"left_units\":\"screen\",\"level\":\"overlay\",\"line_alpha\":1.0,\"line_color\":\"black\",\"line_dash\":[4,4],\"line_width\":2,\"right_units\":\"screen\",\"syncable\":false,\"top_units\":\"screen\"},\"id\":\"1211\",\"type\":\"BoxAnnotation\"},{\"attributes\":{},\"id\":\"1202\",\"type\":\"BasicTicker\"},{\"attributes\":{\"axis\":{\"id\":\"1201\"},\"coordinates\":null,\"dimension\":1,\"group\":null,\"ticker\":null},\"id\":\"1204\",\"type\":\"Grid\"},{\"attributes\":{\"tools\":[{\"id\":\"1205\"},{\"id\":\"1206\"},{\"id\":\"1207\"},{\"id\":\"1208\"},{\"id\":\"1209\"},{\"id\":\"1210\"}]},\"id\":\"1212\",\"type\":\"Toolbar\"},{\"attributes\":{\"below\":[{\"id\":\"1197\"}],\"center\":[{\"id\":\"1200\"},{\"id\":\"1204\"}],\"height\":300,\"left\":[{\"id\":\"1201\"}],\"renderers\":[{\"id\":\"1223\"}],\"title\":{\"id\":\"1250\"},\"toolbar\":{\"id\":\"1212\"},\"toolbar_location\":null,\"width\":350,\"x_range\":{\"id\":\"1189\"},\"x_scale\":{\"id\":\"1193\"},\"y_range\":{\"id\":\"1191\"},\"y_scale\":{\"id\":\"1195\"}},\"id\":\"1188\",\"subtype\":\"Figure\",\"type\":\"Plot\"},{\"attributes\":{\"args\":{\"other\":{\"id\":\"1220\"}},\"code\":\"other.fill_color = this.color\"},\"id\":\"1226\",\"type\":\"CustomJS\"},{\"attributes\":{},\"id\":\"1052\",\"type\":\"UnionRenderers\"},{\"attributes\":{\"fill_color\":{\"value\":\"green\"},\"hatch_color\":{\"value\":\"green\"},\"line_color\":{\"value\":\"green\"},\"marker\":{\"value\":\"square_dot\"},\"size\":{\"value\":30},\"x\":{\"field\":\"x\"},\"y\":{\"field\":\"y\"}},\"id\":\"1220\",\"type\":\"Scatter\"},{\"attributes\":{},\"id\":\"1198\",\"type\":\"BasicTicker\"},{\"attributes\":{\"coordinates\":null,\"formatter\":{\"id\":\"1256\"},\"group\":null,\"major_label_policy\":{\"id\":\"1257\"},\"ticker\":{\"id\":\"1198\"}},\"id\":\"1197\",\"type\":\"LinearAxis\"},{\"attributes\":{},\"id\":\"1257\",\"type\":\"AllLabels\"},{\"attributes\":{},\"id\":\"1195\",\"type\":\"LinearScale\"},{\"attributes\":{\"fill_alpha\":{\"value\":0.2},\"fill_color\":{\"value\":\"green\"},\"hatch_alpha\":{\"value\":0.2},\"hatch_color\":{\"value\":\"green\"},\"line_alpha\":{\"value\":0.2},\"line_color\":{\"value\":\"green\"},\"marker\":{\"value\":\"square_dot\"},\"size\":{\"value\":30},\"x\":{\"field\":\"x\"},\"y\":{\"field\":\"y\"}},\"id\":\"1222\",\"type\":\"Scatter\"},{\"attributes\":{\"coordinates\":null,\"data_source\":{\"id\":\"1003\"},\"glyph\":{\"id\":\"1220\"},\"group\":null,\"hover_glyph\":null,\"muted_glyph\":{\"id\":\"1222\"},\"nonselection_glyph\":{\"id\":\"1221\"},\"view\":{\"id\":\"1224\"}},\"id\":\"1223\",\"type\":\"GlyphRenderer\"},{\"attributes\":{},\"id\":\"1193\",\"type\":\"LinearScale\"},{\"attributes\":{\"fill_alpha\":{\"value\":0.1},\"fill_color\":{\"value\":\"green\"},\"hatch_alpha\":{\"value\":0.1},\"hatch_color\":{\"value\":\"green\"},\"line_alpha\":{\"value\":0.1},\"line_color\":{\"value\":\"green\"},\"marker\":{\"value\":\"square_dot\"},\"size\":{\"value\":30},\"x\":{\"field\":\"x\"},\"y\":{\"field\":\"y\"}},\"id\":\"1221\",\"type\":\"Scatter\"},{\"attributes\":{},\"id\":\"1210\",\"type\":\"HelpTool\"},{\"attributes\":{\"coordinates\":null,\"formatter\":{\"id\":\"1253\"},\"group\":null,\"major_label_policy\":{\"id\":\"1254\"},\"ticker\":{\"id\":\"1202\"}},\"id\":\"1201\",\"type\":\"LinearAxis\"},{\"attributes\":{\"axis\":{\"id\":\"1197\"},\"coordinates\":null,\"group\":null,\"ticker\":null},\"id\":\"1200\",\"type\":\"Grid\"},{\"attributes\":{\"color\":\"#008000\",\"js_property_callbacks\":{\"change:color\":[{\"id\":\"1226\"}]},\"title\":\"Circles Color\"},\"id\":\"1225\",\"type\":\"ColorPicker\"},{\"attributes\":{},\"id\":\"1256\",\"type\":\"BasicTickFormatter\"},{\"attributes\":{},\"id\":\"1254\",\"type\":\"AllLabels\"}],\"root_ids\":[\"1227\"]},\"title\":\"Bokeh Application\",\"version\":\"2.4.2\"}};\n  const render_items = [{\"docid\":\"bcbaae36-f640-4c6f-98ac-a5c865c0e427\",\"root_ids\":[\"1227\"],\"roots\":{\"1227\":\"347d9855-6d38-40e8-bf02-293649fcbe8c\"}}];\n  root.Bokeh.embed.embed_items_notebook(docs_json, render_items);\n\n  }\n  if (root.Bokeh !== undefined) {\n    embed_document(root);\n  } else {\n    let attempts = 0;\n    const timer = setInterval(function(root) {\n      if (root.Bokeh !== undefined) {\n        clearInterval(timer);\n        embed_document(root);\n      } else {\n        attempts++;\n        if (attempts > 100) {\n          clearInterval(timer);\n          console.log(\"Bokeh: ERROR: Unable to run BokehJS code because BokehJS library is missing\");\n        }\n      }\n    }, 10, root)\n  }\n})(window);",
      "application/vnd.bokehjs_exec.v0+json": ""
     },
     "metadata": {
      "application/vnd.bokehjs_exec.v0+json": {
       "id": "1227"
      }
     },
     "output_type": "display_data"
    }
   ],
   "source": [
    "show(column(picker2, f2))"
   ]
  },
  {
   "cell_type": "markdown",
   "metadata": {},
   "source": [
    "## Select"
   ]
  },
  {
   "cell_type": "markdown",
   "metadata": {},
   "source": [
    "It is a button that displays a drop-down list of mutually exclusive items when clicked."
   ]
  },
  {
   "cell_type": "code",
   "execution_count": 13,
   "metadata": {},
   "outputs": [],
   "source": [
    "from bokeh.models import Select"
   ]
  },
  {
   "cell_type": "code",
   "execution_count": 14,
   "metadata": {},
   "outputs": [],
   "source": [
    "f3 = figure(x_range=(0, 6), y_range=(0, 6), \n",
    "            toolbar_location=None,\n",
    "            width=350, height=300)\n",
    "g3 = f3.scatter(x='x', y='y', source=source, color='orangered', size=30, marker='circle')"
   ]
  },
  {
   "cell_type": "code",
   "execution_count": 15,
   "metadata": {},
   "outputs": [],
   "source": [
    "select3 = Select(title=\"Select marker\", value='circle',\n",
    "            options=['star','square','plus','diamond','triangle','circle'])\n",
    "select3.js_link('value', g3.glyph, 'marker')            "
   ]
  },
  {
   "cell_type": "code",
   "execution_count": 16,
   "metadata": {},
   "outputs": [
    {
     "data": {
      "text/html": [
       "\n",
       "\n",
       "\n",
       "\n",
       "\n",
       "\n",
       "  <div class=\"bk-root\" id=\"ae71bf9c-c58b-453f-9706-cd91e57ce6c8\" data-root-id=\"1355\"></div>\n"
      ]
     },
     "metadata": {},
     "output_type": "display_data"
    },
    {
     "data": {
      "application/javascript": "(function(root) {\n  function embed_document(root) {\n    \n  const docs_json = {\"aaffd9a4-2c8f-4bc8-bffd-0107cc948358\":{\"defs\":[],\"roots\":{\"references\":[{\"attributes\":{\"children\":[{\"id\":\"1353\"},{\"id\":\"1316\"}]},\"id\":\"1355\",\"type\":\"Column\"},{\"attributes\":{},\"id\":\"1395\",\"type\":\"BasicTickFormatter\"},{\"attributes\":{\"fill_color\":{\"value\":\"orangered\"},\"hatch_color\":{\"value\":\"orangered\"},\"line_color\":{\"value\":\"orangered\"},\"size\":{\"value\":30},\"x\":{\"field\":\"x\"},\"y\":{\"field\":\"y\"}},\"id\":\"1348\",\"type\":\"Scatter\"},{\"attributes\":{\"end\":6},\"id\":\"1319\",\"type\":\"Range1d\"},{\"attributes\":{\"js_property_callbacks\":{\"change:value\":[{\"id\":\"1354\"}]},\"options\":[\"star\",\"square\",\"plus\",\"diamond\",\"triangle\",\"circle\"],\"title\":\"Select marker\",\"value\":\"circle\"},\"id\":\"1353\",\"type\":\"Select\"},{\"attributes\":{},\"id\":\"1053\",\"type\":\"Selection\"},{\"attributes\":{},\"id\":\"1396\",\"type\":\"AllLabels\"},{\"attributes\":{\"data\":{\"x\":[1,2,3,4,5],\"y\":[3,1,5,2,4]},\"selected\":{\"id\":\"1053\"},\"selection_policy\":{\"id\":\"1052\"}},\"id\":\"1003\",\"type\":\"ColumnDataSource\"},{\"attributes\":{},\"id\":\"1392\",\"type\":\"BasicTickFormatter\"},{\"attributes\":{\"tools\":[{\"id\":\"1333\"},{\"id\":\"1334\"},{\"id\":\"1335\"},{\"id\":\"1336\"},{\"id\":\"1337\"},{\"id\":\"1338\"}]},\"id\":\"1340\",\"type\":\"Toolbar\"},{\"attributes\":{\"below\":[{\"id\":\"1325\"}],\"center\":[{\"id\":\"1328\"},{\"id\":\"1332\"}],\"height\":300,\"left\":[{\"id\":\"1329\"}],\"renderers\":[{\"id\":\"1351\"}],\"title\":{\"id\":\"1389\"},\"toolbar\":{\"id\":\"1340\"},\"toolbar_location\":null,\"width\":350,\"x_range\":{\"id\":\"1317\"},\"x_scale\":{\"id\":\"1321\"},\"y_range\":{\"id\":\"1319\"},\"y_scale\":{\"id\":\"1323\"}},\"id\":\"1316\",\"subtype\":\"Figure\",\"type\":\"Plot\"},{\"attributes\":{\"fill_alpha\":{\"value\":0.2},\"fill_color\":{\"value\":\"orangered\"},\"hatch_alpha\":{\"value\":0.2},\"hatch_color\":{\"value\":\"orangered\"},\"line_alpha\":{\"value\":0.2},\"line_color\":{\"value\":\"orangered\"},\"size\":{\"value\":30},\"x\":{\"field\":\"x\"},\"y\":{\"field\":\"y\"}},\"id\":\"1350\",\"type\":\"Scatter\"},{\"attributes\":{},\"id\":\"1052\",\"type\":\"UnionRenderers\"},{\"attributes\":{\"coordinates\":null,\"data_source\":{\"id\":\"1003\"},\"glyph\":{\"id\":\"1348\"},\"group\":null,\"hover_glyph\":null,\"muted_glyph\":{\"id\":\"1350\"},\"nonselection_glyph\":{\"id\":\"1349\"},\"view\":{\"id\":\"1352\"}},\"id\":\"1351\",\"type\":\"GlyphRenderer\"},{\"attributes\":{\"fill_alpha\":{\"value\":0.1},\"fill_color\":{\"value\":\"orangered\"},\"hatch_alpha\":{\"value\":0.1},\"hatch_color\":{\"value\":\"orangered\"},\"line_alpha\":{\"value\":0.1},\"line_color\":{\"value\":\"orangered\"},\"size\":{\"value\":30},\"x\":{\"field\":\"x\"},\"y\":{\"field\":\"y\"}},\"id\":\"1349\",\"type\":\"Scatter\"},{\"attributes\":{},\"id\":\"1330\",\"type\":\"BasicTicker\"},{\"attributes\":{\"axis\":{\"id\":\"1329\"},\"coordinates\":null,\"dimension\":1,\"group\":null,\"ticker\":null},\"id\":\"1332\",\"type\":\"Grid\"},{\"attributes\":{\"axis\":{\"id\":\"1325\"},\"coordinates\":null,\"group\":null,\"ticker\":null},\"id\":\"1328\",\"type\":\"Grid\"},{\"attributes\":{\"source\":{\"id\":\"1003\"}},\"id\":\"1352\",\"type\":\"CDSView\"},{\"attributes\":{\"coordinates\":null,\"formatter\":{\"id\":\"1392\"},\"group\":null,\"major_label_policy\":{\"id\":\"1393\"},\"ticker\":{\"id\":\"1330\"}},\"id\":\"1329\",\"type\":\"LinearAxis\"},{\"attributes\":{},\"id\":\"1338\",\"type\":\"HelpTool\"},{\"attributes\":{},\"id\":\"1321\",\"type\":\"LinearScale\"},{\"attributes\":{},\"id\":\"1334\",\"type\":\"WheelZoomTool\"},{\"attributes\":{},\"id\":\"1323\",\"type\":\"LinearScale\"},{\"attributes\":{},\"id\":\"1333\",\"type\":\"PanTool\"},{\"attributes\":{\"coordinates\":null,\"formatter\":{\"id\":\"1395\"},\"group\":null,\"major_label_policy\":{\"id\":\"1396\"},\"ticker\":{\"id\":\"1326\"}},\"id\":\"1325\",\"type\":\"LinearAxis\"},{\"attributes\":{\"overlay\":{\"id\":\"1339\"}},\"id\":\"1335\",\"type\":\"BoxZoomTool\"},{\"attributes\":{},\"id\":\"1326\",\"type\":\"BasicTicker\"},{\"attributes\":{\"args\":{\"other\":{\"id\":\"1348\"}},\"code\":\"other.marker = this.value\"},\"id\":\"1354\",\"type\":\"CustomJS\"},{\"attributes\":{\"coordinates\":null,\"group\":null},\"id\":\"1389\",\"type\":\"Title\"},{\"attributes\":{},\"id\":\"1336\",\"type\":\"SaveTool\"},{\"attributes\":{},\"id\":\"1337\",\"type\":\"ResetTool\"},{\"attributes\":{\"end\":6},\"id\":\"1317\",\"type\":\"Range1d\"},{\"attributes\":{\"bottom_units\":\"screen\",\"coordinates\":null,\"fill_alpha\":0.5,\"fill_color\":\"lightgrey\",\"group\":null,\"left_units\":\"screen\",\"level\":\"overlay\",\"line_alpha\":1.0,\"line_color\":\"black\",\"line_dash\":[4,4],\"line_width\":2,\"right_units\":\"screen\",\"syncable\":false,\"top_units\":\"screen\"},\"id\":\"1339\",\"type\":\"BoxAnnotation\"},{\"attributes\":{},\"id\":\"1393\",\"type\":\"AllLabels\"}],\"root_ids\":[\"1355\"]},\"title\":\"Bokeh Application\",\"version\":\"2.4.2\"}};\n  const render_items = [{\"docid\":\"aaffd9a4-2c8f-4bc8-bffd-0107cc948358\",\"root_ids\":[\"1355\"],\"roots\":{\"1355\":\"ae71bf9c-c58b-453f-9706-cd91e57ce6c8\"}}];\n  root.Bokeh.embed.embed_items_notebook(docs_json, render_items);\n\n  }\n  if (root.Bokeh !== undefined) {\n    embed_document(root);\n  } else {\n    let attempts = 0;\n    const timer = setInterval(function(root) {\n      if (root.Bokeh !== undefined) {\n        clearInterval(timer);\n        embed_document(root);\n      } else {\n        attempts++;\n        if (attempts > 100) {\n          clearInterval(timer);\n          console.log(\"Bokeh: ERROR: Unable to run BokehJS code because BokehJS library is missing\");\n        }\n      }\n    }, 10, root)\n  }\n})(window);",
      "application/vnd.bokehjs_exec.v0+json": ""
     },
     "metadata": {
      "application/vnd.bokehjs_exec.v0+json": {
       "id": "1355"
      }
     },
     "output_type": "display_data"
    }
   ],
   "source": [
    "show(column(select3, f3))"
   ]
  },
  {
   "cell_type": "markdown",
   "metadata": {},
   "source": [
    "## Using Several Widgets"
   ]
  },
  {
   "cell_type": "markdown",
   "metadata": {},
   "source": [
    "### All together"
   ]
  },
  {
   "cell_type": "code",
   "execution_count": 17,
   "metadata": {},
   "outputs": [],
   "source": [
    "# Defining an empty figure\n",
    "f = figure(x_range=(0, 6), y_range=(0, 6), \n",
    "            toolbar_location=None,\n",
    "            width=400, height=300)"
   ]
  },
  {
   "cell_type": "markdown",
   "metadata": {},
   "source": [
    "Defining the basic scatter"
   ]
  },
  {
   "cell_type": "code",
   "execution_count": 18,
   "metadata": {},
   "outputs": [],
   "source": [
    "g = f.scatter(x='x', y='y', source=source,  \n",
    "            color='gold', line_color='white',            \n",
    "            size=30, \n",
    "            marker='circle')"
   ]
  },
  {
   "cell_type": "markdown",
   "metadata": {},
   "source": [
    "Defining the widgets"
   ]
  },
  {
   "cell_type": "code",
   "execution_count": 19,
   "metadata": {},
   "outputs": [],
   "source": [
    "slider = Slider(start=1, end=100, step=1, value=30, title='Size')\n",
    "slider.js_link('value', g.glyph, 'size')"
   ]
  },
  {
   "cell_type": "code",
   "execution_count": 20,
   "metadata": {},
   "outputs": [],
   "source": [
    "picker = ColorPicker(title=\"Color\", color='gold')\n",
    "picker.js_link('color', g.glyph, 'fill_color')"
   ]
  },
  {
   "cell_type": "code",
   "execution_count": 21,
   "metadata": {},
   "outputs": [],
   "source": [
    "select = Select(title=\"Select marker\", value='circle',\n",
    "            options=['star','square','plus','diamond','triangle','circle'])\n",
    "select.js_link('value', g.glyph, 'marker')   "
   ]
  },
  {
   "cell_type": "code",
   "execution_count": 22,
   "metadata": {},
   "outputs": [
    {
     "data": {
      "text/html": [
       "\n",
       "\n",
       "\n",
       "\n",
       "\n",
       "\n",
       "  <div class=\"bk-root\" id=\"34d51b63-8b9f-4aa1-bf4f-829ace78e6ff\" data-root-id=\"1499\"></div>\n"
      ]
     },
     "metadata": {},
     "output_type": "display_data"
    },
    {
     "data": {
      "application/javascript": "(function(root) {\n  function embed_document(root) {\n    \n  const docs_json = {\"74d87cd5-9a3c-4314-832c-c893bd977693\":{\"defs\":[],\"roots\":{\"references\":[{\"attributes\":{\"children\":[{\"id\":\"1455\"},{\"id\":\"1498\"}]},\"id\":\"1499\",\"type\":\"Row\"},{\"attributes\":{\"axis\":{\"id\":\"1464\"},\"coordinates\":null,\"group\":null,\"ticker\":null},\"id\":\"1467\",\"type\":\"Grid\"},{\"attributes\":{\"below\":[{\"id\":\"1464\"}],\"center\":[{\"id\":\"1467\"},{\"id\":\"1471\"}],\"height\":300,\"left\":[{\"id\":\"1468\"}],\"renderers\":[{\"id\":\"1490\"}],\"title\":{\"id\":\"1544\"},\"toolbar\":{\"id\":\"1479\"},\"toolbar_location\":null,\"width\":400,\"x_range\":{\"id\":\"1456\"},\"x_scale\":{\"id\":\"1460\"},\"y_range\":{\"id\":\"1458\"},\"y_scale\":{\"id\":\"1462\"}},\"id\":\"1455\",\"subtype\":\"Figure\",\"type\":\"Plot\"},{\"attributes\":{\"coordinates\":null,\"formatter\":{\"id\":\"1550\"},\"group\":null,\"major_label_policy\":{\"id\":\"1551\"},\"ticker\":{\"id\":\"1465\"}},\"id\":\"1464\",\"type\":\"LinearAxis\"},{\"attributes\":{},\"id\":\"1460\",\"type\":\"LinearScale\"},{\"attributes\":{\"js_property_callbacks\":{\"change:value\":[{\"id\":\"1497\"}]},\"options\":[\"star\",\"square\",\"plus\",\"diamond\",\"triangle\",\"circle\"],\"title\":\"Select marker\",\"value\":\"circle\"},\"id\":\"1496\",\"type\":\"Select\"},{\"attributes\":{\"coordinates\":null,\"group\":null},\"id\":\"1544\",\"type\":\"Title\"},{\"attributes\":{},\"id\":\"1462\",\"type\":\"LinearScale\"},{\"attributes\":{},\"id\":\"1477\",\"type\":\"HelpTool\"},{\"attributes\":{},\"id\":\"1465\",\"type\":\"BasicTicker\"},{\"attributes\":{},\"id\":\"1053\",\"type\":\"Selection\"},{\"attributes\":{\"fill_alpha\":{\"value\":0.2},\"fill_color\":{\"value\":\"gold\"},\"hatch_alpha\":{\"value\":0.2},\"hatch_color\":{\"value\":\"gold\"},\"line_alpha\":{\"value\":0.2},\"line_color\":{\"value\":\"white\"},\"size\":{\"value\":30},\"x\":{\"field\":\"x\"},\"y\":{\"field\":\"y\"}},\"id\":\"1489\",\"type\":\"Scatter\"},{\"attributes\":{\"args\":{\"other\":{\"id\":\"1487\"}},\"code\":\"other.size = this.value\"},\"id\":\"1493\",\"type\":\"CustomJS\"},{\"attributes\":{\"data\":{\"x\":[1,2,3,4,5],\"y\":[3,1,5,2,4]},\"selected\":{\"id\":\"1053\"},\"selection_policy\":{\"id\":\"1052\"}},\"id\":\"1003\",\"type\":\"ColumnDataSource\"},{\"attributes\":{\"coordinates\":null,\"formatter\":{\"id\":\"1547\"},\"group\":null,\"major_label_policy\":{\"id\":\"1548\"},\"ticker\":{\"id\":\"1469\"}},\"id\":\"1468\",\"type\":\"LinearAxis\"},{\"attributes\":{},\"id\":\"1550\",\"type\":\"BasicTickFormatter\"},{\"attributes\":{\"tools\":[{\"id\":\"1472\"},{\"id\":\"1473\"},{\"id\":\"1474\"},{\"id\":\"1475\"},{\"id\":\"1476\"},{\"id\":\"1477\"}]},\"id\":\"1479\",\"type\":\"Toolbar\"},{\"attributes\":{\"children\":[{\"id\":\"1496\"},{\"id\":\"1494\"},{\"id\":\"1492\"}]},\"id\":\"1498\",\"type\":\"Column\"},{\"attributes\":{\"source\":{\"id\":\"1003\"}},\"id\":\"1491\",\"type\":\"CDSView\"},{\"attributes\":{},\"id\":\"1052\",\"type\":\"UnionRenderers\"},{\"attributes\":{\"bottom_units\":\"screen\",\"coordinates\":null,\"fill_alpha\":0.5,\"fill_color\":\"lightgrey\",\"group\":null,\"left_units\":\"screen\",\"level\":\"overlay\",\"line_alpha\":1.0,\"line_color\":\"black\",\"line_dash\":[4,4],\"line_width\":2,\"right_units\":\"screen\",\"syncable\":false,\"top_units\":\"screen\"},\"id\":\"1478\",\"type\":\"BoxAnnotation\"},{\"attributes\":{\"end\":100,\"js_property_callbacks\":{\"change:value\":[{\"id\":\"1493\"}]},\"start\":1,\"title\":\"Size\",\"value\":30},\"id\":\"1492\",\"type\":\"Slider\"},{\"attributes\":{\"args\":{\"other\":{\"id\":\"1487\"}},\"code\":\"other.fill_color = this.color\"},\"id\":\"1495\",\"type\":\"CustomJS\"},{\"attributes\":{},\"id\":\"1551\",\"type\":\"AllLabels\"},{\"attributes\":{},\"id\":\"1476\",\"type\":\"ResetTool\"},{\"attributes\":{},\"id\":\"1475\",\"type\":\"SaveTool\"},{\"attributes\":{\"overlay\":{\"id\":\"1478\"}},\"id\":\"1474\",\"type\":\"BoxZoomTool\"},{\"attributes\":{},\"id\":\"1472\",\"type\":\"PanTool\"},{\"attributes\":{},\"id\":\"1473\",\"type\":\"WheelZoomTool\"},{\"attributes\":{\"coordinates\":null,\"data_source\":{\"id\":\"1003\"},\"glyph\":{\"id\":\"1487\"},\"group\":null,\"hover_glyph\":null,\"muted_glyph\":{\"id\":\"1489\"},\"nonselection_glyph\":{\"id\":\"1488\"},\"view\":{\"id\":\"1491\"}},\"id\":\"1490\",\"type\":\"GlyphRenderer\"},{\"attributes\":{},\"id\":\"1469\",\"type\":\"BasicTicker\"},{\"attributes\":{\"axis\":{\"id\":\"1468\"},\"coordinates\":null,\"dimension\":1,\"group\":null,\"ticker\":null},\"id\":\"1471\",\"type\":\"Grid\"},{\"attributes\":{\"fill_color\":{\"value\":\"gold\"},\"hatch_color\":{\"value\":\"gold\"},\"line_color\":{\"value\":\"white\"},\"size\":{\"value\":30},\"x\":{\"field\":\"x\"},\"y\":{\"field\":\"y\"}},\"id\":\"1487\",\"type\":\"Scatter\"},{\"attributes\":{},\"id\":\"1548\",\"type\":\"AllLabels\"},{\"attributes\":{\"end\":6},\"id\":\"1456\",\"type\":\"Range1d\"},{\"attributes\":{\"color\":\"#ffd700\",\"js_property_callbacks\":{\"change:color\":[{\"id\":\"1495\"}]},\"title\":\"Color\"},\"id\":\"1494\",\"type\":\"ColorPicker\"},{\"attributes\":{\"args\":{\"other\":{\"id\":\"1487\"}},\"code\":\"other.marker = this.value\"},\"id\":\"1497\",\"type\":\"CustomJS\"},{\"attributes\":{},\"id\":\"1547\",\"type\":\"BasicTickFormatter\"},{\"attributes\":{\"end\":6},\"id\":\"1458\",\"type\":\"Range1d\"},{\"attributes\":{\"fill_alpha\":{\"value\":0.1},\"fill_color\":{\"value\":\"gold\"},\"hatch_alpha\":{\"value\":0.1},\"hatch_color\":{\"value\":\"gold\"},\"line_alpha\":{\"value\":0.1},\"line_color\":{\"value\":\"white\"},\"size\":{\"value\":30},\"x\":{\"field\":\"x\"},\"y\":{\"field\":\"y\"}},\"id\":\"1488\",\"type\":\"Scatter\"}],\"root_ids\":[\"1499\"]},\"title\":\"Bokeh Application\",\"version\":\"2.4.2\"}};\n  const render_items = [{\"docid\":\"74d87cd5-9a3c-4314-832c-c893bd977693\",\"root_ids\":[\"1499\"],\"roots\":{\"1499\":\"34d51b63-8b9f-4aa1-bf4f-829ace78e6ff\"}}];\n  root.Bokeh.embed.embed_items_notebook(docs_json, render_items);\n\n  }\n  if (root.Bokeh !== undefined) {\n    embed_document(root);\n  } else {\n    let attempts = 0;\n    const timer = setInterval(function(root) {\n      if (root.Bokeh !== undefined) {\n        clearInterval(timer);\n        embed_document(root);\n      } else {\n        attempts++;\n        if (attempts > 100) {\n          clearInterval(timer);\n          console.log(\"Bokeh: ERROR: Unable to run BokehJS code because BokehJS library is missing\");\n        }\n      }\n    }, 10, root)\n  }\n})(window);",
      "application/vnd.bokehjs_exec.v0+json": ""
     },
     "metadata": {
      "application/vnd.bokehjs_exec.v0+json": {
       "id": "1499"
      }
     },
     "output_type": "display_data"
    }
   ],
   "source": [
    "show(row(f, column(select, picker, slider)))"
   ]
  },
  {
   "cell_type": "markdown",
   "metadata": {},
   "source": [
    "### Quadratic Function Example"
   ]
  },
  {
   "cell_type": "code",
   "execution_count": 23,
   "metadata": {},
   "outputs": [],
   "source": [
    "x4 = np.linspace(-5, 5, 1000)\n",
    "y4 = x4*x4\n",
    "source4 = ColumnDataSource(data=dict(x=x4, y=y4))"
   ]
  },
  {
   "cell_type": "code",
   "execution_count": 24,
   "metadata": {},
   "outputs": [
    {
     "data": {
      "text/html": [
       "\n",
       "\n",
       "\n",
       "\n",
       "\n",
       "\n",
       "  <div class=\"bk-root\" id=\"838c8e5e-bd65-44c7-a4b2-74cf4ed25c5a\" data-root-id=\"1611\"></div>\n"
      ]
     },
     "metadata": {},
     "output_type": "display_data"
    },
    {
     "data": {
      "application/javascript": "(function(root) {\n  function embed_document(root) {\n    \n  const docs_json = {\"efbbc073-ae4f-4c47-80eb-1f43be1bf55a\":{\"defs\":[],\"roots\":{\"references\":[{\"attributes\":{\"below\":[{\"id\":\"1622\"}],\"center\":[{\"id\":\"1625\"},{\"id\":\"1629\"}],\"height\":400,\"left\":[{\"id\":\"1626\"}],\"renderers\":[{\"id\":\"1648\"}],\"title\":{\"id\":\"1612\"},\"toolbar\":{\"id\":\"1637\"},\"x_range\":{\"id\":\"1614\"},\"x_scale\":{\"id\":\"1618\"},\"y_range\":{\"id\":\"1616\"},\"y_scale\":{\"id\":\"1620\"}},\"id\":\"1611\",\"subtype\":\"Figure\",\"type\":\"Plot\"},{\"attributes\":{\"end\":5,\"start\":-5},\"id\":\"1614\",\"type\":\"Range1d\"},{\"attributes\":{},\"id\":\"1707\",\"type\":\"BasicTickFormatter\"},{\"attributes\":{},\"id\":\"1618\",\"type\":\"LinearScale\"},{\"attributes\":{\"coordinates\":null,\"formatter\":{\"id\":\"1707\"},\"group\":null,\"major_label_policy\":{\"id\":\"1708\"},\"ticker\":{\"id\":\"1627\"}},\"id\":\"1626\",\"type\":\"LinearAxis\"},{\"attributes\":{\"coordinates\":null,\"group\":null,\"text\":\"Quadratic Function\"},\"id\":\"1612\",\"type\":\"Title\"},{\"attributes\":{\"coordinates\":null,\"formatter\":{\"id\":\"1710\"},\"group\":null,\"major_label_policy\":{\"id\":\"1711\"},\"ticker\":{\"id\":\"1623\"}},\"id\":\"1622\",\"type\":\"LinearAxis\"},{\"attributes\":{},\"id\":\"1708\",\"type\":\"AllLabels\"},{\"attributes\":{},\"id\":\"1620\",\"type\":\"LinearScale\"},{\"attributes\":{\"tools\":[{\"id\":\"1630\"},{\"id\":\"1631\"},{\"id\":\"1632\"},{\"id\":\"1633\"},{\"id\":\"1634\"},{\"id\":\"1635\"}]},\"id\":\"1637\",\"type\":\"Toolbar\"},{\"attributes\":{\"data\":{\"x\":{\"__ndarray__\":\"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\",\"dtype\":\"float64\",\"order\":\"little\",\"shape\":[1000]},\"y\":{\"__ndarray__\":\"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\",\"dtype\":\"float64\",\"order\":\"little\",\"shape\":[1000]}},\"selected\":{\"id\":\"1713\"},\"selection_policy\":{\"id\":\"1712\"}},\"id\":\"1610\",\"type\":\"ColumnDataSource\"},{\"attributes\":{},\"id\":\"1712\",\"type\":\"UnionRenderers\"},{\"attributes\":{\"source\":{\"id\":\"1610\"}},\"id\":\"1649\",\"type\":\"CDSView\"},{\"attributes\":{\"axis\":{\"id\":\"1622\"},\"coordinates\":null,\"group\":null,\"ticker\":null},\"id\":\"1625\",\"type\":\"Grid\"},{\"attributes\":{},\"id\":\"1635\",\"type\":\"HelpTool\"},{\"attributes\":{\"axis\":{\"id\":\"1626\"},\"coordinates\":null,\"dimension\":1,\"group\":null,\"ticker\":null},\"id\":\"1629\",\"type\":\"Grid\"},{\"attributes\":{\"bottom_units\":\"screen\",\"coordinates\":null,\"fill_alpha\":0.5,\"fill_color\":\"lightgrey\",\"group\":null,\"left_units\":\"screen\",\"level\":\"overlay\",\"line_alpha\":1.0,\"line_color\":\"black\",\"line_dash\":[4,4],\"line_width\":2,\"right_units\":\"screen\",\"syncable\":false,\"top_units\":\"screen\"},\"id\":\"1636\",\"type\":\"BoxAnnotation\"},{\"attributes\":{\"end\":5,\"start\":-5},\"id\":\"1616\",\"type\":\"Range1d\"},{\"attributes\":{},\"id\":\"1627\",\"type\":\"BasicTicker\"},{\"attributes\":{\"line_alpha\":0.7,\"line_color\":\"green\",\"line_width\":2,\"x\":{\"field\":\"x\"},\"y\":{\"field\":\"y\"}},\"id\":\"1645\",\"type\":\"Line\"},{\"attributes\":{\"coordinates\":null,\"data_source\":{\"id\":\"1610\"},\"glyph\":{\"id\":\"1645\"},\"group\":null,\"hover_glyph\":null,\"muted_glyph\":{\"id\":\"1647\"},\"nonselection_glyph\":{\"id\":\"1646\"},\"view\":{\"id\":\"1649\"}},\"id\":\"1648\",\"type\":\"GlyphRenderer\"},{\"attributes\":{},\"id\":\"1623\",\"type\":\"BasicTicker\"},{\"attributes\":{},\"id\":\"1634\",\"type\":\"ResetTool\"},{\"attributes\":{},\"id\":\"1633\",\"type\":\"SaveTool\"},{\"attributes\":{\"line_alpha\":0.2,\"line_color\":\"green\",\"line_width\":2,\"x\":{\"field\":\"x\"},\"y\":{\"field\":\"y\"}},\"id\":\"1647\",\"type\":\"Line\"},{\"attributes\":{\"overlay\":{\"id\":\"1636\"}},\"id\":\"1632\",\"type\":\"BoxZoomTool\"},{\"attributes\":{},\"id\":\"1710\",\"type\":\"BasicTickFormatter\"},{\"attributes\":{},\"id\":\"1630\",\"type\":\"PanTool\"},{\"attributes\":{},\"id\":\"1713\",\"type\":\"Selection\"},{\"attributes\":{},\"id\":\"1631\",\"type\":\"WheelZoomTool\"},{\"attributes\":{\"line_alpha\":0.1,\"line_color\":\"green\",\"line_width\":2,\"x\":{\"field\":\"x\"},\"y\":{\"field\":\"y\"}},\"id\":\"1646\",\"type\":\"Line\"},{\"attributes\":{},\"id\":\"1711\",\"type\":\"AllLabels\"}],\"root_ids\":[\"1611\"]},\"title\":\"Bokeh Application\",\"version\":\"2.4.2\"}};\n  const render_items = [{\"docid\":\"efbbc073-ae4f-4c47-80eb-1f43be1bf55a\",\"root_ids\":[\"1611\"],\"roots\":{\"1611\":\"838c8e5e-bd65-44c7-a4b2-74cf4ed25c5a\"}}];\n  root.Bokeh.embed.embed_items_notebook(docs_json, render_items);\n\n  }\n  if (root.Bokeh !== undefined) {\n    embed_document(root);\n  } else {\n    let attempts = 0;\n    const timer = setInterval(function(root) {\n      if (root.Bokeh !== undefined) {\n        clearInterval(timer);\n        embed_document(root);\n      } else {\n        attempts++;\n        if (attempts > 100) {\n          clearInterval(timer);\n          console.log(\"Bokeh: ERROR: Unable to run BokehJS code because BokehJS library is missing\");\n        }\n      }\n    }, 10, root)\n  }\n})(window);",
      "application/vnd.bokehjs_exec.v0+json": ""
     },
     "metadata": {
      "application/vnd.bokehjs_exec.v0+json": {
       "id": "1611"
      }
     },
     "output_type": "display_data"
    }
   ],
   "source": [
    "p4 = figure(y_range=(-5,5), x_range=(-5,5), width=600, height=400, title='Quadratic Function')\n",
    "p4.line('x', 'y', source=source4, line_width=2, color='green', line_alpha=0.7)\n",
    "show(p4)"
   ]
  },
  {
   "cell_type": "markdown",
   "metadata": {},
   "source": [
    "Let's create three sliders for modifying the vertex coordinates `(h,k)` and the quadratic coefficient `a`."
   ]
  },
  {
   "cell_type": "code",
   "execution_count": 25,
   "metadata": {},
   "outputs": [],
   "source": [
    "slider_a = Slider(start=-5, end=5, value=1, step=.1, title=\"Quadratic Coefficient\")\n",
    "slider_h = Slider(start=-5, end=5, value=0, step=.1, title=\"Vertex x-coordinate\")\n",
    "slider_k = Slider(start=-5, end=5, value=0, step=.1, title=\"Vertex y-coordinate\")"
   ]
  },
  {
   "cell_type": "code",
   "execution_count": 26,
   "metadata": {},
   "outputs": [],
   "source": [
    "from bokeh.models import CustomJS"
   ]
  },
  {
   "cell_type": "markdown",
   "metadata": {},
   "source": [
    "We need a simple JS code for updating the quadratic function when the user modifies the slider parameters `a`, `h`, and `k`."
   ]
  },
  {
   "cell_type": "code",
   "execution_count": 27,
   "metadata": {},
   "outputs": [],
   "source": [
    "callback = CustomJS(args=dict(source=source4, sa=slider_a, sh=slider_h, sk=slider_k), \n",
    "    code=\"\"\"\n",
    "    var data = source.data;\n",
    "    var a = sa.value;\n",
    "    var h = sh.value;\n",
    "    var k = sk.value;\n",
    "    var x = data['x']\n",
    "    var y = data['y']\n",
    "    for (var i = 0; i < x.length; i++) \n",
    "        y[i] = a * (x[i] - h)**2 + k;\n",
    "    source.change.emit();\n",
    "\"\"\")"
   ]
  },
  {
   "cell_type": "code",
   "execution_count": 28,
   "metadata": {},
   "outputs": [],
   "source": [
    "# Linking slider values to code\n",
    "slider_a.js_on_change('value', callback) \n",
    "slider_h.js_on_change('value', callback) \n",
    "slider_k.js_on_change('value', callback) "
   ]
  },
  {
   "cell_type": "code",
   "execution_count": 29,
   "metadata": {},
   "outputs": [
    {
     "data": {
      "text/html": [
       "\n",
       "\n",
       "\n",
       "\n",
       "\n",
       "\n",
       "  <div class=\"bk-root\" id=\"40e6d757-1071-47aa-bd20-78e67da62819\" data-root-id=\"1770\"></div>\n"
      ]
     },
     "metadata": {},
     "output_type": "display_data"
    },
    {
     "data": {
      "application/javascript": "(function(root) {\n  function embed_document(root) {\n    \n  const docs_json = {\"5af11ae3-7154-433b-9a0f-34f6f42b41cf\":{\"defs\":[],\"roots\":{\"references\":[{\"attributes\":{\"children\":[{\"id\":\"1611\"},{\"id\":\"1769\"}]},\"id\":\"1770\",\"type\":\"Row\"},{\"attributes\":{\"end\":5,\"start\":-5},\"id\":\"1614\",\"type\":\"Range1d\"},{\"attributes\":{\"end\":5,\"js_property_callbacks\":{\"change:value\":[{\"id\":\"1768\"}]},\"start\":-5,\"step\":0.1,\"title\":\"Quadratic Coefficient\",\"value\":1},\"id\":\"1765\",\"type\":\"Slider\"},{\"attributes\":{},\"id\":\"1707\",\"type\":\"BasicTickFormatter\"},{\"attributes\":{},\"id\":\"1618\",\"type\":\"LinearScale\"},{\"attributes\":{\"coordinates\":null,\"formatter\":{\"id\":\"1707\"},\"group\":null,\"major_label_policy\":{\"id\":\"1708\"},\"ticker\":{\"id\":\"1627\"}},\"id\":\"1626\",\"type\":\"LinearAxis\"},{\"attributes\":{\"coordinates\":null,\"group\":null,\"text\":\"Quadratic Function\"},\"id\":\"1612\",\"type\":\"Title\"},{\"attributes\":{\"coordinates\":null,\"formatter\":{\"id\":\"1710\"},\"group\":null,\"major_label_policy\":{\"id\":\"1711\"},\"ticker\":{\"id\":\"1623\"}},\"id\":\"1622\",\"type\":\"LinearAxis\"},{\"attributes\":{},\"id\":\"1708\",\"type\":\"AllLabels\"},{\"attributes\":{},\"id\":\"1620\",\"type\":\"LinearScale\"},{\"attributes\":{\"tools\":[{\"id\":\"1630\"},{\"id\":\"1631\"},{\"id\":\"1632\"},{\"id\":\"1633\"},{\"id\":\"1634\"},{\"id\":\"1635\"}]},\"id\":\"1637\",\"type\":\"Toolbar\"},{\"attributes\":{\"data\":{\"x\":{\"__ndarray__\":\"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\",\"dtype\":\"float64\",\"order\":\"little\",\"shape\":[1000]},\"y\":{\"__ndarray__\":\"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\",\"dtype\":\"float64\",\"order\":\"little\",\"shape\":[1000]}},\"selected\":{\"id\":\"1713\"},\"selection_policy\":{\"id\":\"1712\"}},\"id\":\"1610\",\"type\":\"ColumnDataSource\"},{\"attributes\":{},\"id\":\"1712\",\"type\":\"UnionRenderers\"},{\"attributes\":{\"source\":{\"id\":\"1610\"}},\"id\":\"1649\",\"type\":\"CDSView\"},{\"attributes\":{\"children\":[{\"id\":\"1765\"},{\"id\":\"1766\"},{\"id\":\"1767\"}]},\"id\":\"1769\",\"type\":\"Column\"},{\"attributes\":{\"axis\":{\"id\":\"1622\"},\"coordinates\":null,\"group\":null,\"ticker\":null},\"id\":\"1625\",\"type\":\"Grid\"},{\"attributes\":{},\"id\":\"1635\",\"type\":\"HelpTool\"},{\"attributes\":{\"axis\":{\"id\":\"1626\"},\"coordinates\":null,\"dimension\":1,\"group\":null,\"ticker\":null},\"id\":\"1629\",\"type\":\"Grid\"},{\"attributes\":{\"bottom_units\":\"screen\",\"coordinates\":null,\"fill_alpha\":0.5,\"fill_color\":\"lightgrey\",\"group\":null,\"left_units\":\"screen\",\"level\":\"overlay\",\"line_alpha\":1.0,\"line_color\":\"black\",\"line_dash\":[4,4],\"line_width\":2,\"right_units\":\"screen\",\"syncable\":false,\"top_units\":\"screen\"},\"id\":\"1636\",\"type\":\"BoxAnnotation\"},{\"attributes\":{\"end\":5,\"start\":-5},\"id\":\"1616\",\"type\":\"Range1d\"},{\"attributes\":{},\"id\":\"1627\",\"type\":\"BasicTicker\"},{\"attributes\":{\"line_alpha\":0.7,\"line_color\":\"green\",\"line_width\":2,\"x\":{\"field\":\"x\"},\"y\":{\"field\":\"y\"}},\"id\":\"1645\",\"type\":\"Line\"},{\"attributes\":{\"coordinates\":null,\"data_source\":{\"id\":\"1610\"},\"glyph\":{\"id\":\"1645\"},\"group\":null,\"hover_glyph\":null,\"muted_glyph\":{\"id\":\"1647\"},\"nonselection_glyph\":{\"id\":\"1646\"},\"view\":{\"id\":\"1649\"}},\"id\":\"1648\",\"type\":\"GlyphRenderer\"},{\"attributes\":{},\"id\":\"1623\",\"type\":\"BasicTicker\"},{\"attributes\":{},\"id\":\"1634\",\"type\":\"ResetTool\"},{\"attributes\":{},\"id\":\"1633\",\"type\":\"SaveTool\"},{\"attributes\":{\"line_alpha\":0.2,\"line_color\":\"green\",\"line_width\":2,\"x\":{\"field\":\"x\"},\"y\":{\"field\":\"y\"}},\"id\":\"1647\",\"type\":\"Line\"},{\"attributes\":{\"overlay\":{\"id\":\"1636\"}},\"id\":\"1632\",\"type\":\"BoxZoomTool\"},{\"attributes\":{},\"id\":\"1710\",\"type\":\"BasicTickFormatter\"},{\"attributes\":{},\"id\":\"1630\",\"type\":\"PanTool\"},{\"attributes\":{},\"id\":\"1713\",\"type\":\"Selection\"},{\"attributes\":{},\"id\":\"1631\",\"type\":\"WheelZoomTool\"},{\"attributes\":{\"line_alpha\":0.1,\"line_color\":\"green\",\"line_width\":2,\"x\":{\"field\":\"x\"},\"y\":{\"field\":\"y\"}},\"id\":\"1646\",\"type\":\"Line\"},{\"attributes\":{\"end\":5,\"js_property_callbacks\":{\"change:value\":[{\"id\":\"1768\"}]},\"start\":-5,\"step\":0.1,\"title\":\"Vertex y-coordinate\",\"value\":0},\"id\":\"1767\",\"type\":\"Slider\"},{\"attributes\":{},\"id\":\"1711\",\"type\":\"AllLabels\"},{\"attributes\":{\"below\":[{\"id\":\"1622\"}],\"center\":[{\"id\":\"1625\"},{\"id\":\"1629\"}],\"height\":400,\"left\":[{\"id\":\"1626\"}],\"renderers\":[{\"id\":\"1648\"}],\"title\":{\"id\":\"1612\"},\"toolbar\":{\"id\":\"1637\"},\"x_range\":{\"id\":\"1614\"},\"x_scale\":{\"id\":\"1618\"},\"y_range\":{\"id\":\"1616\"},\"y_scale\":{\"id\":\"1620\"}},\"id\":\"1611\",\"subtype\":\"Figure\",\"type\":\"Plot\"},{\"attributes\":{\"args\":{\"sa\":{\"id\":\"1765\"},\"sh\":{\"id\":\"1766\"},\"sk\":{\"id\":\"1767\"},\"source\":{\"id\":\"1610\"}},\"code\":\"\\n    var data = source.data;\\n    var a = sa.value;\\n    var h = sh.value;\\n    var k = sk.value;\\n    var x = data['x']\\n    var y = data['y']\\n    for (var i = 0; i < x.length; i++) \\n        y[i] = a * (x[i] - h)**2 + k;\\n    source.change.emit();\\n\"},\"id\":\"1768\",\"type\":\"CustomJS\"},{\"attributes\":{\"end\":5,\"js_property_callbacks\":{\"change:value\":[{\"id\":\"1768\"}]},\"start\":-5,\"step\":0.1,\"title\":\"Vertex x-coordinate\",\"value\":0},\"id\":\"1766\",\"type\":\"Slider\"}],\"root_ids\":[\"1770\"]},\"title\":\"Bokeh Application\",\"version\":\"2.4.2\"}};\n  const render_items = [{\"docid\":\"5af11ae3-7154-433b-9a0f-34f6f42b41cf\",\"root_ids\":[\"1770\"],\"roots\":{\"1770\":\"40e6d757-1071-47aa-bd20-78e67da62819\"}}];\n  root.Bokeh.embed.embed_items_notebook(docs_json, render_items);\n\n  }\n  if (root.Bokeh !== undefined) {\n    embed_document(root);\n  } else {\n    let attempts = 0;\n    const timer = setInterval(function(root) {\n      if (root.Bokeh !== undefined) {\n        clearInterval(timer);\n        embed_document(root);\n      } else {\n        attempts++;\n        if (attempts > 100) {\n          clearInterval(timer);\n          console.log(\"Bokeh: ERROR: Unable to run BokehJS code because BokehJS library is missing\");\n        }\n      }\n    }, 10, root)\n  }\n})(window);",
      "application/vnd.bokehjs_exec.v0+json": ""
     },
     "metadata": {
      "application/vnd.bokehjs_exec.v0+json": {
       "id": "1770"
      }
     },
     "output_type": "display_data"
    }
   ],
   "source": [
    "show(row(p4, column(slider_a, slider_h, slider_k)))"
   ]
  },
  {
   "cell_type": "code",
   "execution_count": 30,
   "metadata": {},
   "outputs": [
    {
     "data": {
      "text/html": [
       "\n",
       "\n",
       "\n",
       "\n",
       "\n",
       "\n",
       "  <div class=\"bk-root\" id=\"2d105867-f14c-4a8d-947e-fba564e9f02a\" data-root-id=\"1896\"></div>\n"
      ]
     },
     "metadata": {},
     "output_type": "display_data"
    },
    {
     "data": {
      "application/javascript": "(function(root) {\n  function embed_document(root) {\n    \n  const docs_json = {\"a90dd64c-a6eb-4876-9e99-f211d92780f4\":{\"defs\":[],\"roots\":{\"references\":[{\"attributes\":{\"children\":[{\"id\":\"1765\"},{\"id\":\"1766\"},{\"id\":\"1767\"},{\"id\":\"1611\"}]},\"id\":\"1896\",\"type\":\"Column\"},{\"attributes\":{\"end\":5,\"start\":-5},\"id\":\"1614\",\"type\":\"Range1d\"},{\"attributes\":{\"end\":5,\"js_property_callbacks\":{\"change:value\":[{\"id\":\"1768\"}]},\"start\":-5,\"step\":0.1,\"title\":\"Quadratic Coefficient\",\"value\":1},\"id\":\"1765\",\"type\":\"Slider\"},{\"attributes\":{},\"id\":\"1707\",\"type\":\"BasicTickFormatter\"},{\"attributes\":{},\"id\":\"1618\",\"type\":\"LinearScale\"},{\"attributes\":{\"coordinates\":null,\"formatter\":{\"id\":\"1707\"},\"group\":null,\"major_label_policy\":{\"id\":\"1708\"},\"ticker\":{\"id\":\"1627\"}},\"id\":\"1626\",\"type\":\"LinearAxis\"},{\"attributes\":{\"coordinates\":null,\"group\":null,\"text\":\"Quadratic Function\"},\"id\":\"1612\",\"type\":\"Title\"},{\"attributes\":{\"coordinates\":null,\"formatter\":{\"id\":\"1710\"},\"group\":null,\"major_label_policy\":{\"id\":\"1711\"},\"ticker\":{\"id\":\"1623\"}},\"id\":\"1622\",\"type\":\"LinearAxis\"},{\"attributes\":{},\"id\":\"1708\",\"type\":\"AllLabels\"},{\"attributes\":{},\"id\":\"1620\",\"type\":\"LinearScale\"},{\"attributes\":{\"tools\":[{\"id\":\"1630\"},{\"id\":\"1631\"},{\"id\":\"1632\"},{\"id\":\"1633\"},{\"id\":\"1634\"},{\"id\":\"1635\"}]},\"id\":\"1637\",\"type\":\"Toolbar\"},{\"attributes\":{\"data\":{\"x\":{\"__ndarray__\":\"AAAAAAAAFMBcf5nvv/UTwLj+Mt9/6xPAFH7Mzj/hE8Bw/WW+/9YTwMx8/62/zBPAKPyYnX/CE8CEezKNP7gTwOD6y3z/rRPAPHplbL+jE8CY+f5bf5kTwPR4mEs/jxPAUPgxO/+EE8Csd8sqv3oTwAj3ZBp/cBPAZHb+CT9mE8DA9Zf5/lsTwBx1Mem+URPAePTK2H5HE8DUc2TIPj0TwDDz/bf+MhPAjHKXp74oE8Do8TCXfh4TwERxyoY+FBPAoPBjdv4JE8D8b/1lvv8SwFjvllV+9RLAtG4wRT7rEsAQ7sk0/uASwGxtYyS+1hLAyOz8E37MEsAkbJYDPsISwIDrL/P9txLA3GrJ4r2tEsA46mLSfaMSwJRp/ME9mRLA8OiVsf2OEsBMaC+hvYQSwKjnyJB9ehLABGdigD1wEsBg5vtv/WUSwLxllV+9WxLAGOUuT31REsB0ZMg+PUcSwNDjYS79PBLALGP7Hb0yEsCI4pQNfSgSwORhLv08HhLAQOHH7PwTEsCcYGHcvAkSwPjf+st8/xHAVF+Uuzz1EcCw3i2r/OoRwAxex5q84BHAaN1ginzWEcDEXPp5PMwRwCDck2n8wRHAfFstWby3EcDY2sZIfK0RwDRaYDg8oxHAkNn5J/yYEcDsWJMXvI4RwEjYLAd8hBHApFfG9jt6EcAA11/m+28RwFxW+dW7ZRHAuNWSxXtbEcAUVSy1O1ERwHDUxaT7RhHAzFNflLs8EcAo0/iDezIRwIRSknM7KBHA4NErY/sdEcA8UcVSuxMRwJjQXkJ7CRHA9E/4MTv/EMBQz5Eh+/QQwKxOKxG76hDACM7EAHvgEMBkTV7wOtYQwMDM99/6yxDAHEyRz7rBEMB4yyq/ercQwNRKxK46rRDAMMpdnvqiEMCMSfeNupgQwOjIkH16jhDAREgqbTqEEMCgx8Nc+nkQwPxGXUy6bxDAWMb2O3plEMC0RZArOlsQwBDFKRv6UBDAbETDCrpGEMDIw1z6eTwQwCRD9uk5MhDAgMKP2fknEMDcQSnJuR0QwDjBwrh5ExDAlEBcqDkJEMDff+sv8/0PwJd+Hg9z6Q/AT31R7vLUD8AHfITNcsAPwL96t6zyqw/Ad3nqi3KXD8AveB1r8oIPwOd2UEpybg/An3WDKfJZD8BXdLYIckUPwA9z6efxMA/Ax3Ecx3EcD8B/cE+m8QcPwDdvgoVx8w7A7221ZPHeDsCnbOhDccoOwF9rGyPxtQ7AF2pOAnGhDsDPaIHh8IwOwIdntMBweA7AP2bnn/BjDsD3ZBp/cE8OwK9jTV7wOg7AZ2KAPXAmDsAfYbMc8BEOwNdf5vtv/Q3Aj14Z2+/oDcBHXUy6b9QNwP9bf5nvvw3At1qyeG+rDcBvWeVX75YNwCdYGDdvgg3A31ZLFu9tDcCXVX71blkNwE9UsdTuRA3AB1Pks24wDcC/UReT7hsNwHdQSnJuBw3AL099Ue7yDMDnTbAwbt4MwJ9M4w/uyQzAV0sW7221DMAPSknO7aAMwMdIfK1tjAzAf0evjO13DMA3RuJrbWMMwO9EFUvtTgzAp0NIKm06DMBfQnsJ7SUMwBdBruhsEQzAzz/hx+z8C8CHPhSnbOgLwD89R4bs0wvA9zt6ZWy/C8CvOq1E7KoLwGc54CNslgvAHzgTA+yBC8DXNkbia20LwI81ecHrWAvARzSsoGtEC8D/Mt9/6y8LwLYxEl9rGwvAbjBFPusGC8AmL3gda/IKwN4tq/zq3QrAlize22rJCsBOKxG76rQKwAYqRJpqoArAvih3eeqLCsB2J6pYancKwC4m3TfqYgrA5iQQF2pOCsCeI0P26TkKwFYidtVpJQrADiGptOkQCsDGH9yTafwJwH4eD3Pp5wnANh1CUmnTCcDuG3Ux6b4JwKYaqBBpqgnAXhnb7+iVCcAWGA7PaIEJwM4WQa7obAnAhhV0jWhYCcA+FKds6EMJwPYS2ktoLwnArhENK+gaCcBmEEAKaAYJwB4Pc+nn8QjA1g2myGfdCMCODNmn58gIwEYLDIdntAjA/gk/ZuefCMC2CHJFZ4sIwG4HpSTndgjAJgbYA2diCMDeBAvj5k0IwJYDPsJmOQjATgJxoeYkCMAGAaSAZhAIwL7/1l/m+wfAdv4JP2bnB8Au/Twe5tIHwOb7b/1lvgfAnvqi3OWpB8BW+dW7ZZUHwA74CJvlgAfAxvY7emVsB8B+9W5Z5VcHwDb0oThlQwfA7vLUF+UuB8Cm8Qf3ZBoHwF7wOtbkBQfAFu9ttWTxBsDO7aCU5NwGwIbs03NkyAbAPusGU+SzBsD26TkyZJ8GwK7obBHkigbAZuef8GN2BsAe5tLP42EGwNbkBa9jTQbAjuM4juM4BsBG4mttYyQGwP7gnkzjDwbAtt/RK2P7BcBu3gQL4+YFwCbdN+pi0gXA3ttqyeK9BcCW2p2oYqkFwE7Z0IfilAXABtgDZ2KABcC+1jZG4msFwHbVaSViVwXALtScBOJCBcDm0s/jYS4FwJ7RAsPhGQXAVtA1omEFBcAOz2iB4fAEwMbNm2Bh3ATAfszOP+HHBMA2ywEfYbMEwO7JNP7gngTApshn3WCKBMBex5q84HUEwBbGzZtgYQTAzsQAe+BMBMCGwzNaYDgEwD7CZjngIwTA9sCZGGAPBMCuv8z33/oDwGa+/9Zf5gPAHr0ytt/RA8DWu2WVX70DwI66mHTfqAPARrnLU1+UA8D+t/4y338DwLa2MRJfawPAbrVk8d5WA8AmtJfQXkIDwN6yyq/eLQPAlrH9jl4ZA8BOsDBu3gQDwAavY01e8ALAvq2WLN7bAsB2rMkLXscCwC6r/OrdsgLA5qkvyl2eAsCeqGKp3YkCwFanlYhddQLADqbIZ91gAsDGpPtGXUwCwH6jLibdNwLANqJhBV0jAsDuoJTk3A4CwKafx8Nc+gHAXp76otzlAcAWnS2CXNEBwM6bYGHcvAHAhpqTQFyoAcA+mcYf3JMBwPaX+f5bfwHArpYs3ttqAcBmlV+9W1YBwB6UkpzbQQHA1pLFe1stAcCOkfha2xgBwEaQKzpbBAHA/o5eGdvvAMC2jZH4WtsAwG6MxNfaxgDAJov3tlqyAMDeiSqW2p0AwJaIXXVaiQDAToeQVNp0AMAGhsMzWmAAwL6E9hLaSwDAdoMp8lk3AMAuglzR2SIAwOaAj7BZDgDAPP+EH7Pz/7+s/Ordssr/vxz6UJyyof+/jPe2WrJ4/7/89BwZsk//v2zygtexJv+/3O/olbH9/r9M7U5UsdT+v7zqtBKxq/6/LOga0bCC/r+c5YCPsFn+vwzj5k2wMP6/fOBMDLAH/r/s3bLKr979v1zbGImvtf2/zNh+R6+M/b881uQFr2P9v6zTSsSuOv2/HNGwgq4R/b+MzhZBruj8v/zLfP+tv/y/asniva2W/L/axkh8rW38v0rErjqtRPy/usEU+awb/L8qv3q3rPL7v5q84HWsyfu/CrpGNKyg+796t6zyq3f7v+q0ErGrTvu/WrJ4b6sl+7/Kr94tq/z6vzqtROyq0/q/qqqqqqqq+r8aqBBpqoH6v4qldieqWPq/+qLc5akv+r9qoEKkqQb6v9qdqGKp3fm/SpsOIam0+b+6mHTfqIv5vyqW2p2oYvm/mpNAXKg5+b8KkaYaqBD5v3qODNmn5/i/6otyl6e++L9aidhVp5X4v8qGPhSnbPi/OoSk0qZD+L+qgQqRphr4vxp/cE+m8fe/inzWDabI97/6eTzMpZ/3v2p3ooqldve/2nQISaVN979Kcm4HpST3v7pv1MWk+/a/Km06hKTS9r+aaqBCpKn2vwpoBgGkgPa/emVsv6NX9r/qYtJ9oy72v1pgODyjBfa/yl2e+qLc9b86WwS5orP1v6pYaneiivW/GlbQNaJh9b+KUzb0oTj1v/pQnLKhD/W/ak4CcaHm9L/aS2gvob30v0pJzu2glPS/ukY0rKBr9L8qRJpqoEL0v5pBACmgGfS/Cj9m55/w8796PMyln8fzv+o5MmSfnvO/WjeYIp9187/KNP7gnkzzvzoyZJ+eI/O/qi/KXZ768r8aLTAcntHyv4oqltqdqPK/+if8mJ1/8r9qJWJXnVbyv9oiyBWdLfK/SiAu1JwE8r+6HZSSnNvxvyob+lCcsvG/mhhgD5yJ8b8KFsbNm2Dxv3oTLIybN/G/6hCSSpsO8b9aDvgIm+Xwv8oLXseavPC/OgnEhZqT8L+qBipEmmrwvxoEkAKaQfC/igH2wJkY8L/w/bf+Mt/vv9D4g3syje+/sPNP+DE777+Q7ht1Menuv3Dp5/Ewl+6/UOSzbjBF7r8w33/rL/PtvxDaS2gvoe2/8NQX5S5P7b/Qz+NhLv3sv7DKr94tq+y/kMV7Wy1Z7L9wwEfYLAfsv1C7E1Usteu/MLbf0Stj678QsatOKxHrv/Crd8sqv+q/0KZDSCpt6r+woQ/FKRvqv5Cc20Epyem/cJenvih36b9QknM7KCXpvzCNP7gn0+i/EIgLNSeB6L/wgtexJi/ov9B9oy4m3ee/sHhvqyWL57+QczsoJTnnv3BuB6Uk5+a/UGnTISSV5r8wZJ+eI0PmvxBfaxsj8eW/8Fk3mCKf5b/QVAMVIk3lv7BPz5Eh++S/kEqbDiGp5L9wRWeLIFfkv1BAMwggBeS/MDv/hB+z478QNssBH2Hjv/Awl34eD+O/0Ctj+x294r+wJi94HWviv5Ah+/QcGeK/cBzHcRzH4b9QF5PuG3XhvzASX2sbI+G/EA0r6BrR4L/wB/dkGn/gv9ACw+EZLeC/YPsdvTK2378g8bW2MRLfv+DmTbAwbt6/oNzlqS/K3b9g0n2jLibdvyDIFZ0tgty/4L2tlize27+gs0WQKzrbv2Cp3Ykqltq/IJ91gyny2b/glA19KE7Zv6CKpXYnqti/YIA9cCYG2L8gdtVpJWLXv+BrbWMkvta/oGEFXSMa1r9gV51WInbVvyBNNVAh0tS/4ELNSSAu1L+gOGVDH4rTv2Au/Twe5tK/ICSVNh1C0r/gGS0wHJ7Rv6APxSkb+tC/YAVdIxpW0L9A9uk5MmTPv8DhGS0wHM6/QM1JIC7UzL/AuHkTLIzLv0CkqQYqRMq/wI/Z+Sf8yL9AewntJbTHv8BmOeAjbMa/QFJp0yEkxb/APZnGH9zDv0ApybkdlMK/wBT5rBtMwb9AACmgGQTAv4DXsSYveL2/gK4RDSvour+AhXHzJli4v4Bc0dkiyLW/gDMxwB44s7+ACpGmGqiwvwDD4RktMKy/AHGh5iQQp78AH2GzHPChvwCaQQApoJm/AOyBMzHAjr8ASAHNIIB0vwBIAc0ggHQ/AOyBMzHAjj8AmkEAKaCZPwAfYbMc8KE/AHGh5iQQpz8Aw+EZLTCsP4AKkaYaqLA/gDMxwB44sz+AXNHZIsi1P4CFcfMmWLg/gK4RDSvouj+A17EmL3i9P0AAKaAZBMA/wBT5rBtMwT9AKcm5HZTCP8A9mcYf3MM/QFJp0yEkxT/AZjngI2zGP0B7Ce0ltMc/wI/Z+Sf8yD9ApKkGKkTKP8C4eRMsjMs/QM1JIC7UzD/A4RktMBzOP0D26TkyZM8/YAVdIxpW0D+gD8UpG/rQP+AZLTAcntE/ICSVNh1C0j9gLv08HubSP6A4ZUMfitM/4ELNSSAu1D8gTTVQIdLUP2BXnVYidtU/oGEFXSMa1j/ga21jJL7WPyB21WklYtc/YIA9cCYG2D+giqV2J6rYP+CUDX0oTtk/IJ91gyny2T9gqd2JKpbaP6CzRZArOts/4L2tlize2z8gyBWdLYLcP2DSfaMuJt0/oNzlqS/K3T/g5k2wMG7ePyDxtbYxEt8/YPsdvTK23z/QAsPhGS3gP/AH92Qaf+A/EA0r6BrR4D8wEl9rGyPhP1AXk+4bdeE/cBzHcRzH4T+QIfv0HBniP7AmL3gda+I/0Ctj+x294j/wMJd+Hg/jPxA2ywEfYeM/MDv/hB+z4z9QQDMIIAXkP3BFZ4sgV+Q/kEqbDiGp5D+wT8+RIfvkP9BUAxUiTeU/8Fk3mCKf5T8QX2sbI/HlPzBkn54jQ+Y/UGnTISSV5j9wbgelJOfmP5BzOyglOec/sHhvqyWL5z/QfaMuJt3nP/CC17EmL+g/EIgLNSeB6D8wjT+4J9PoP1CSczsoJek/cJenvih36T+QnNtBKcnpP7ChD8UpG+o/0KZDSCpt6j/wq3fLKr/qPxCxq04rEes/MLbf0Stj6z9QuxNVLLXrP3DAR9gsB+w/kMV7Wy1Z7D+wyq/eLavsP9DP42Eu/ew/8NQX5S5P7T8Q2ktoL6HtPzDff+sv8+0/UOSzbjBF7j9w6efxMJfuP5DuG3Ux6e4/sPNP+DE77z/Q+IN7Mo3vP/D9t/4y3+8/iAH2wJkY8D8YBJACmkHwP6gGKkSaavA/OAnEhZqT8D/IC17HmrzwP1gO+Aib5fA/6BCSSpsO8T94EyyMmzfxPwgWxs2bYPE/mBhgD5yJ8T8oG/pQnLLxP7gdlJKc2/E/SCAu1JwE8j/YIsgVnS3yP2glYledVvI/+Cf8mJ1/8j+IKpbanajyPxgtMBye0fI/qC/KXZ768j84MmSfniPzP8g0/uCeTPM/WDeYIp918z/oOTJkn57zP3g8zKWfx/M/CD9m55/w8z+YQQApoBn0PyhEmmqgQvQ/uEY0rKBr9D9ISc7toJT0P9hLaC+hvfQ/aE4CcaHm9D/4UJyyoQ/1P4hTNvShOPU/GFbQNaJh9T+oWGp3oor1PzhbBLmis/U/yF2e+qLc9T9YYDg8owX2P+hi0n2jLvY/eGVsv6NX9j8IaAYBpID2P5xqoEKkqfY/LG06hKTS9j+8b9TFpPv2P0xybgelJPc/3HQISaVN9z9sd6KKpXb3P/x5PMyln/c/jHzWDabI9z8cf3BPpvH3P6yBCpGmGvg/PISk0qZD+D/Mhj4Up2z4P1yJ2FWnlfg/7Ityl6e++D98jgzZp+f4PwyRphqoEPk/nJNAXKg5+T8sltqdqGL5P7yYdN+oi/k/TJsOIam0+T/cnahiqd35P2ygQqSpBvo//KLc5akv+j+MpXYnqlj6PxyoEGmqgfo/rKqqqqqq+j88rUTsqtP6P8yv3i2r/Po/XLJ4b6sl+z/stBKxq077P3y3rPKrd/s/DLpGNKyg+z+cvOB1rMn7Pyy/eres8vs/vMEU+awb/D9MxK46rUT8P9zGSHytbfw/bMniva2W/D/8y3z/rb/8P4zOFkGu6Pw/HNGwgq4R/T+s00rErjr9PzzW5AWvY/0/zNh+R6+M/T9c2xiJr7X9P+zdssqv3v0/fOBMDLAH/j8M4+ZNsDD+P5zlgI+wWf4/LOga0bCC/j+86rQSsav+P0ztTlSx1P4/3O/olbH9/j9s8oLXsSb/P/z0HBmyT/8/jPe2WrJ4/z8c+lCcsqH/P6z86t2yyv8/PP+EH7Pz/z/mgI+wWQ4AQC6CXNHZIgBAdoMp8lk3AEC+hPYS2ksAQAaGwzNaYABAToeQVNp0AECWiF11WokAQN6JKpbanQBAJov3tlqyAEBujMTX2sYAQLaNkfha2wBA/o5eGdvvAEBGkCs6WwQBQI6R+FrbGAFA1pLFe1stAUAelJKc20EBQGaVX71bVgFArpYs3ttqAUD2l/n+W38BQD6Zxh/ckwFAhpqTQFyoAUDOm2Bh3LwBQBadLYJc0QFAXp76otzlAUCmn8fDXPoBQO6glOTcDgJANqJhBV0jAkB+oy4m3TcCQMak+0ZdTAJADqbIZ91gAkBWp5WIXXUCQJ6oYqndiQJA5qkvyl2eAkAuq/zq3bICQHasyQtexwJAvq2WLN7bAkAGr2NNXvACQE6wMG7eBANAlrH9jl4ZA0Dessqv3i0DQCa0l9BeQgNAbrVk8d5WA0C2tjESX2sDQP63/jLffwNARrnLU1+UA0COuph036gDQNa7ZZVfvQNAHr0ytt/RA0Bmvv/WX+YDQK6/zPff+gNA9sCZGGAPBEA+wmY54CMEQIbDM1pgOARAzsQAe+BMBEAWxs2bYGEEQF7HmrzgdQRApshn3WCKBEDuyTT+4J4EQDbLAR9hswRAfszOP+HHBEDGzZtgYdwEQA7PaIHh8ARAVtA1omEFBUCe0QLD4RkFQObSz+NhLgVALtScBOJCBUB21WklYlcFQL7WNkbiawVABtgDZ2KABUBO2dCH4pQFQJbanahiqQVA3ttqyeK9BUAm3TfqYtIFQG7eBAvj5gVAtt/RK2P7BUD+4J5M4w8GQEbia21jJAZAjuM4juM4BkDW5AWvY00GQB7m0s/jYQZAZuef8GN2BkCu6GwR5IoGQPbpOTJknwZAPusGU+SzBkCG7NNzZMgGQM7toJTk3AZAFu9ttWTxBkBe8DrW5AUHQKbxB/dkGgdA7vLUF+UuB0A29KE4ZUMHQH71blnlVwdAxvY7emVsB0AO+Aib5YAHQFb51btllQdAnvqi3OWpB0Dm+2/9Zb4HQC79PB7m0gdAdv4JP2bnB0C+/9Zf5vsHQAgBpIBmEAhAUAJxoeYkCECYAz7CZjkIQOAEC+PmTQhAKAbYA2diCEBwB6Uk53YIQLgIckVniwhAAAo/ZuefCEBICwyHZ7QIQJAM2afnyAhA2A2myGfdCEAgD3Pp5/EIQGgQQApoBglAsBENK+gaCUD4EtpLaC8JQEAUp2zoQwlAiBV0jWhYCUDQFkGu6GwJQBgYDs9ogQlAYBnb7+iVCUCoGqgQaaoJQPAbdTHpvglAOB1CUmnTCUCAHg9z6ecJQMgf3JNp/AlAECGptOkQCkBYInbVaSUKQKAjQ/bpOQpA6CQQF2pOCkAwJt036mIKQHgnqlhqdwpAwCh3eeqLCkAIKkSaaqAKQFArEbvqtApAmCze22rJCkDgLav86t0KQCgveB1r8gpAcDBFPusGC0C4MRJfaxsLQAAz33/rLwtASDSsoGtEC0CQNXnB61gLQNg2RuJrbQtAIDgTA+yBC0BoOeAjbJYLQLA6rUTsqgtA+Dt6ZWy/C0BAPUeG7NMLQIg+FKds6AtA0D/hx+z8C0AYQa7obBEMQGBCewntJQxAqENIKm06DEDwRBVL7U4MQDhG4mttYwxAgEevjO13DEDISHytbYwMQBBKSc7toAxAWEsW7221DECgTOMP7skMQOhNsDBu3gxAME99Ue7yDEB4UEpybgcNQMBRF5PuGw1ACFPks24wDUBQVLHU7kQNQJhVfvVuWQ1A4FZLFu9tDUAoWBg3b4INQHBZ5Vfvlg1AuFqyeG+rDUAAXH+Z778NQEhdTLpv1A1AkF4Z2+/oDUDYX+b7b/0NQCBhsxzwEQ5AaGKAPXAmDkCwY01e8DoOQPhkGn9wTw5AQGbnn/BjDkCIZ7TAcHgOQNBogeHwjA5AGGpOAnGhDkBgaxsj8bUOQKhs6ENxyg5A8G21ZPHeDkA4b4KFcfMOQIBwT6bxBw9AyHEcx3EcD0AQc+nn8TAPQFh0tghyRQ9AoHWDKfJZD0DodlBKcm4PQDB4HWvygg9AeHnqi3KXD0DAeres8qsPQAh8hM1ywA9AUH1R7vLUD0CYfh4Pc+kPQOB/6y/z/Q9AlEBcqDkJEEA4wcK4eRMQQNxBKcm5HRBAgMKP2fknEEAkQ/bpOTIQQMjDXPp5PBBAbETDCrpGEEAQxSkb+lAQQLRFkCs6WxBAWMb2O3plEED8Rl1Mum8QQKDHw1z6eRBAREgqbTqEEEDoyJB9eo4QQIxJ9426mBBAMMpdnvqiEEDUSsSuOq0QQHjLKr96txBAHEyRz7rBEEDAzPff+ssQQGRNXvA61hBACM7EAHvgEECsTisRu+oQQFDPkSH79BBA9E/4MTv/EECY0F5CewkRQDxRxVK7ExFA4NErY/sdEUCEUpJzOygRQCjT+IN7MhFAzFNflLs8EUBw1MWk+0YRQBRVLLU7URFAuNWSxXtbEUBcVvnVu2URQADXX+b7bxFApFfG9jt6EUBI2CwHfIQRQOxYkxe8jhFAkNn5J/yYEUA0WmA4PKMRQNjaxkh8rRFAfFstWby3EUAg3JNp/MERQMRc+nk8zBFAaN1ginzWEUAMXseavOARQLDeLav86hFAVF+Uuzz1EUD43/rLfP8RQJxgYdy8CRJAQOHH7PwTEkDkYS79PB4SQIjilA19KBJALGP7Hb0yEkDQ42Eu/TwSQHRkyD49RxJAGOUuT31REkC8ZZVfvVsSQGDm+2/9ZRJABGdigD1wEkCo58iQfXoSQExoL6G9hBJA8OiVsf2OEkCUafzBPZkSQDjqYtJ9oxJA3GrJ4r2tEkCA6y/z/bcSQCRslgM+whJAyOz8E37MEkBsbWMkvtYSQBDuyTT+4BJAtG4wRT7rEkBY75ZVfvUSQPxv/WW+/xJAoPBjdv4JE0BEccqGPhQTQOjxMJd+HhNAjHKXp74oE0Aw8/23/jITQNRzZMg+PRNAePTK2H5HE0AcdTHpvlETQMD1l/n+WxNAZHb+CT9mE0AI92Qaf3ATQKx3yyq/ehNAUPgxO/+EE0D0eJhLP48TQJj5/lt/mRNAPHplbL+jE0Dg+st8/60TQIR7Mo0/uBNAKPyYnX/CE0DMfP+tv8wTQHD9Zb7/1hNAFH7Mzj/hE0C4/jLff+sTQFx/me+/9RNAAAAAAAAAFEA=\",\"dtype\":\"float64\",\"order\":\"little\",\"shape\":[1000]},\"y\":{\"__ndarray__\":\"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\",\"dtype\":\"float64\",\"order\":\"little\",\"shape\":[1000]}},\"selected\":{\"id\":\"1713\"},\"selection_policy\":{\"id\":\"1712\"}},\"id\":\"1610\",\"type\":\"ColumnDataSource\"},{\"attributes\":{},\"id\":\"1712\",\"type\":\"UnionRenderers\"},{\"attributes\":{\"source\":{\"id\":\"1610\"}},\"id\":\"1649\",\"type\":\"CDSView\"},{\"attributes\":{\"axis\":{\"id\":\"1622\"},\"coordinates\":null,\"group\":null,\"ticker\":null},\"id\":\"1625\",\"type\":\"Grid\"},{\"attributes\":{},\"id\":\"1635\",\"type\":\"HelpTool\"},{\"attributes\":{\"axis\":{\"id\":\"1626\"},\"coordinates\":null,\"dimension\":1,\"group\":null,\"ticker\":null},\"id\":\"1629\",\"type\":\"Grid\"},{\"attributes\":{\"bottom_units\":\"screen\",\"coordinates\":null,\"fill_alpha\":0.5,\"fill_color\":\"lightgrey\",\"group\":null,\"left_units\":\"screen\",\"level\":\"overlay\",\"line_alpha\":1.0,\"line_color\":\"black\",\"line_dash\":[4,4],\"line_width\":2,\"right_units\":\"screen\",\"syncable\":false,\"top_units\":\"screen\"},\"id\":\"1636\",\"type\":\"BoxAnnotation\"},{\"attributes\":{\"end\":5,\"start\":-5},\"id\":\"1616\",\"type\":\"Range1d\"},{\"attributes\":{},\"id\":\"1627\",\"type\":\"BasicTicker\"},{\"attributes\":{\"line_alpha\":0.7,\"line_color\":\"green\",\"line_width\":2,\"x\":{\"field\":\"x\"},\"y\":{\"field\":\"y\"}},\"id\":\"1645\",\"type\":\"Line\"},{\"attributes\":{\"coordinates\":null,\"data_source\":{\"id\":\"1610\"},\"glyph\":{\"id\":\"1645\"},\"group\":null,\"hover_glyph\":null,\"muted_glyph\":{\"id\":\"1647\"},\"nonselection_glyph\":{\"id\":\"1646\"},\"view\":{\"id\":\"1649\"}},\"id\":\"1648\",\"type\":\"GlyphRenderer\"},{\"attributes\":{},\"id\":\"1623\",\"type\":\"BasicTicker\"},{\"attributes\":{},\"id\":\"1634\",\"type\":\"ResetTool\"},{\"attributes\":{},\"id\":\"1633\",\"type\":\"SaveTool\"},{\"attributes\":{\"line_alpha\":0.2,\"line_color\":\"green\",\"line_width\":2,\"x\":{\"field\":\"x\"},\"y\":{\"field\":\"y\"}},\"id\":\"1647\",\"type\":\"Line\"},{\"attributes\":{\"overlay\":{\"id\":\"1636\"}},\"id\":\"1632\",\"type\":\"BoxZoomTool\"},{\"attributes\":{},\"id\":\"1710\",\"type\":\"BasicTickFormatter\"},{\"attributes\":{},\"id\":\"1630\",\"type\":\"PanTool\"},{\"attributes\":{},\"id\":\"1713\",\"type\":\"Selection\"},{\"attributes\":{},\"id\":\"1631\",\"type\":\"WheelZoomTool\"},{\"attributes\":{\"line_alpha\":0.1,\"line_color\":\"green\",\"line_width\":2,\"x\":{\"field\":\"x\"},\"y\":{\"field\":\"y\"}},\"id\":\"1646\",\"type\":\"Line\"},{\"attributes\":{\"end\":5,\"js_property_callbacks\":{\"change:value\":[{\"id\":\"1768\"}]},\"start\":-5,\"step\":0.1,\"title\":\"Vertex y-coordinate\",\"value\":0},\"id\":\"1767\",\"type\":\"Slider\"},{\"attributes\":{},\"id\":\"1711\",\"type\":\"AllLabels\"},{\"attributes\":{\"below\":[{\"id\":\"1622\"}],\"center\":[{\"id\":\"1625\"},{\"id\":\"1629\"}],\"height\":400,\"left\":[{\"id\":\"1626\"}],\"renderers\":[{\"id\":\"1648\"}],\"title\":{\"id\":\"1612\"},\"toolbar\":{\"id\":\"1637\"},\"x_range\":{\"id\":\"1614\"},\"x_scale\":{\"id\":\"1618\"},\"y_range\":{\"id\":\"1616\"},\"y_scale\":{\"id\":\"1620\"}},\"id\":\"1611\",\"subtype\":\"Figure\",\"type\":\"Plot\"},{\"attributes\":{\"args\":{\"sa\":{\"id\":\"1765\"},\"sh\":{\"id\":\"1766\"},\"sk\":{\"id\":\"1767\"},\"source\":{\"id\":\"1610\"}},\"code\":\"\\n    var data = source.data;\\n    var a = sa.value;\\n    var h = sh.value;\\n    var k = sk.value;\\n    var x = data['x']\\n    var y = data['y']\\n    for (var i = 0; i < x.length; i++) \\n        y[i] = a * (x[i] - h)**2 + k;\\n    source.change.emit();\\n\"},\"id\":\"1768\",\"type\":\"CustomJS\"},{\"attributes\":{\"end\":5,\"js_property_callbacks\":{\"change:value\":[{\"id\":\"1768\"}]},\"start\":-5,\"step\":0.1,\"title\":\"Vertex x-coordinate\",\"value\":0},\"id\":\"1766\",\"type\":\"Slider\"}],\"root_ids\":[\"1896\"]},\"title\":\"Bokeh Application\",\"version\":\"2.4.2\"}};\n  const render_items = [{\"docid\":\"a90dd64c-a6eb-4876-9e99-f211d92780f4\",\"root_ids\":[\"1896\"],\"roots\":{\"1896\":\"2d105867-f14c-4a8d-947e-fba564e9f02a\"}}];\n  root.Bokeh.embed.embed_items_notebook(docs_json, render_items);\n\n  }\n  if (root.Bokeh !== undefined) {\n    embed_document(root);\n  } else {\n    let attempts = 0;\n    const timer = setInterval(function(root) {\n      if (root.Bokeh !== undefined) {\n        clearInterval(timer);\n        embed_document(root);\n      } else {\n        attempts++;\n        if (attempts > 100) {\n          clearInterval(timer);\n          console.log(\"Bokeh: ERROR: Unable to run BokehJS code because BokehJS library is missing\");\n        }\n      }\n    }, 10, root)\n  }\n})(window);",
      "application/vnd.bokehjs_exec.v0+json": ""
     },
     "metadata": {
      "application/vnd.bokehjs_exec.v0+json": {
       "id": "1896"
      }
     },
     "output_type": "display_data"
    }
   ],
   "source": [
    "show(column(slider_a, slider_h, slider_k, p4))"
   ]
  },
  {
   "cell_type": "markdown",
   "metadata": {},
   "source": [
    "## Interactive legends"
   ]
  },
  {
   "cell_type": "markdown",
   "metadata": {},
   "source": [
    "Legends added to Bokeh graphs can be made interactive, so clicking on the legend entries will hide or mute the corresponding glyph in a plot. You can activate this mode by setting the `click_policy` property on a legend to `hide` or `mute`."
   ]
  },
  {
   "cell_type": "markdown",
   "metadata": {},
   "source": [
    "### Automobile Dataset"
   ]
  },
  {
   "cell_type": "markdown",
   "metadata": {},
   "source": [
    "We will use the Automobile Data Set [https://archive.ics.uci.edu/ml/datasets/automobile] from the UCI Machine Learning Repository [https://archive-beta.ics.uci.edu/]. It includes categorical and continuous variables. "
   ]
  },
  {
   "cell_type": "code",
   "execution_count": 31,
   "metadata": {},
   "outputs": [],
   "source": [
    "# Defining the headers\n",
    "headers = [\"symboling\", \"normalized_losses\", \"make\", \"fuel_type\", \"aspiration\", \"num_doors\", \"body_style\", \n",
    "           \"drive_wheels\", \"engine_location\", \"wheel_base\", \"length\", \"width\", \"height\", \"curb_weight\", \n",
    "           \"engine_type\", \"num_cylinders\", \"engine_size\", \"fuel_system\", \"bore\", \"stroke\", \"compression_ratio\", \n",
    "           \"horsepower\", \"peak_rpm\", \"city_mpg\", \"highway_mpg\", \"price\"]"
   ]
  },
  {
   "cell_type": "code",
   "execution_count": 32,
   "metadata": {},
   "outputs": [
    {
     "name": "stdout",
     "output_type": "stream",
     "text": [
      "(205, 26)\n"
     ]
    },
    {
     "data": {
      "text/html": [
       "<div>\n",
       "<style scoped>\n",
       "    .dataframe tbody tr th:only-of-type {\n",
       "        vertical-align: middle;\n",
       "    }\n",
       "\n",
       "    .dataframe tbody tr th {\n",
       "        vertical-align: top;\n",
       "    }\n",
       "\n",
       "    .dataframe thead th {\n",
       "        text-align: right;\n",
       "    }\n",
       "</style>\n",
       "<table border=\"1\" class=\"dataframe\">\n",
       "  <thead>\n",
       "    <tr style=\"text-align: right;\">\n",
       "      <th></th>\n",
       "      <th>symboling</th>\n",
       "      <th>normalized_losses</th>\n",
       "      <th>make</th>\n",
       "      <th>fuel_type</th>\n",
       "      <th>aspiration</th>\n",
       "      <th>num_doors</th>\n",
       "      <th>...</th>\n",
       "      <th>compression_ratio</th>\n",
       "      <th>horsepower</th>\n",
       "      <th>peak_rpm</th>\n",
       "      <th>city_mpg</th>\n",
       "      <th>highway_mpg</th>\n",
       "      <th>price</th>\n",
       "    </tr>\n",
       "  </thead>\n",
       "  <tbody>\n",
       "    <tr>\n",
       "      <th>0</th>\n",
       "      <td>3</td>\n",
       "      <td>NaN</td>\n",
       "      <td>alfa-romero</td>\n",
       "      <td>gas</td>\n",
       "      <td>std</td>\n",
       "      <td>two</td>\n",
       "      <td>...</td>\n",
       "      <td>9.0</td>\n",
       "      <td>111.0</td>\n",
       "      <td>5000.0</td>\n",
       "      <td>21</td>\n",
       "      <td>27</td>\n",
       "      <td>13495.0</td>\n",
       "    </tr>\n",
       "    <tr>\n",
       "      <th>1</th>\n",
       "      <td>3</td>\n",
       "      <td>NaN</td>\n",
       "      <td>alfa-romero</td>\n",
       "      <td>gas</td>\n",
       "      <td>std</td>\n",
       "      <td>two</td>\n",
       "      <td>...</td>\n",
       "      <td>9.0</td>\n",
       "      <td>111.0</td>\n",
       "      <td>5000.0</td>\n",
       "      <td>21</td>\n",
       "      <td>27</td>\n",
       "      <td>16500.0</td>\n",
       "    </tr>\n",
       "    <tr>\n",
       "      <th>2</th>\n",
       "      <td>1</td>\n",
       "      <td>NaN</td>\n",
       "      <td>alfa-romero</td>\n",
       "      <td>gas</td>\n",
       "      <td>std</td>\n",
       "      <td>two</td>\n",
       "      <td>...</td>\n",
       "      <td>9.0</td>\n",
       "      <td>154.0</td>\n",
       "      <td>5000.0</td>\n",
       "      <td>19</td>\n",
       "      <td>26</td>\n",
       "      <td>16500.0</td>\n",
       "    </tr>\n",
       "    <tr>\n",
       "      <th>3</th>\n",
       "      <td>2</td>\n",
       "      <td>164.0</td>\n",
       "      <td>audi</td>\n",
       "      <td>gas</td>\n",
       "      <td>std</td>\n",
       "      <td>four</td>\n",
       "      <td>...</td>\n",
       "      <td>10.0</td>\n",
       "      <td>102.0</td>\n",
       "      <td>5500.0</td>\n",
       "      <td>24</td>\n",
       "      <td>30</td>\n",
       "      <td>13950.0</td>\n",
       "    </tr>\n",
       "    <tr>\n",
       "      <th>4</th>\n",
       "      <td>2</td>\n",
       "      <td>164.0</td>\n",
       "      <td>audi</td>\n",
       "      <td>gas</td>\n",
       "      <td>std</td>\n",
       "      <td>four</td>\n",
       "      <td>...</td>\n",
       "      <td>8.0</td>\n",
       "      <td>115.0</td>\n",
       "      <td>5500.0</td>\n",
       "      <td>18</td>\n",
       "      <td>22</td>\n",
       "      <td>17450.0</td>\n",
       "    </tr>\n",
       "  </tbody>\n",
       "</table>\n",
       "<p>5 rows × 26 columns</p>\n",
       "</div>"
      ],
      "text/plain": [
       "   symboling  normalized_losses         make fuel_type aspiration num_doors  \\\n",
       "0          3                NaN  alfa-romero       gas        std       two   \n",
       "1          3                NaN  alfa-romero       gas        std       two   \n",
       "2          1                NaN  alfa-romero       gas        std       two   \n",
       "3          2              164.0         audi       gas        std      four   \n",
       "4          2              164.0         audi       gas        std      four   \n",
       "\n",
       "   ... compression_ratio horsepower peak_rpm  city_mpg  highway_mpg    price  \n",
       "0  ...               9.0      111.0   5000.0        21           27  13495.0  \n",
       "1  ...               9.0      111.0   5000.0        21           27  16500.0  \n",
       "2  ...               9.0      154.0   5000.0        19           26  16500.0  \n",
       "3  ...              10.0      102.0   5500.0        24           30  13950.0  \n",
       "4  ...               8.0      115.0   5500.0        18           22  17450.0  \n",
       "\n",
       "[5 rows x 26 columns]"
      ]
     },
     "execution_count": 32,
     "metadata": {},
     "output_type": "execute_result"
    }
   ],
   "source": [
    "dfa = pd.read_csv(\"https://archive.ics.uci.edu/ml/machine-learning-databases/autos/imports-85.data\",\n",
    "                  header=None, names=headers, na_values=\"?\" )\n",
    "print(dfa.shape)\n",
    "dfa.head()"
   ]
  },
  {
   "cell_type": "markdown",
   "metadata": {},
   "source": [
    "### Hiding glyphs"
   ]
  },
  {
   "cell_type": "markdown",
   "metadata": {},
   "source": [
    "You can hide a glyph from the legend. Let's see how to do it!"
   ]
  },
  {
   "cell_type": "markdown",
   "metadata": {},
   "source": [
    "Analysing the unique values of `body_style`"
   ]
  },
  {
   "cell_type": "code",
   "execution_count": 33,
   "metadata": {},
   "outputs": [
    {
     "data": {
      "text/plain": [
       "array(['convertible', 'hatchback', 'sedan', 'wagon', 'hardtop'],\n",
       "      dtype=object)"
      ]
     },
     "execution_count": 33,
     "metadata": {},
     "output_type": "execute_result"
    }
   ],
   "source": [
    "dfa.body_style.unique()"
   ]
  },
  {
   "cell_type": "code",
   "execution_count": 34,
   "metadata": {},
   "outputs": [],
   "source": [
    "from bokeh.palettes import Bokeh5"
   ]
  },
  {
   "cell_type": "markdown",
   "metadata": {},
   "source": [
    "Creating a new plot with a title and axis labels"
   ]
  },
  {
   "cell_type": "code",
   "execution_count": 35,
   "metadata": {},
   "outputs": [],
   "source": [
    "sct = figure(title=\"Click on legend entries to HIDE the corresponding points\", \n",
    "            x_axis_label='Highway (mpg)', y_axis_label='Price',            \n",
    "            height=400, width=700)"
   ]
  },
  {
   "cell_type": "code",
   "execution_count": 36,
   "metadata": {},
   "outputs": [],
   "source": [
    "for option, color in zip(dfa.body_style.unique(), Bokeh5):\n",
    "    sct.circle_dot(dfa.highway_mpg[dfa.body_style==option], dfa.price[dfa.body_style==option], \n",
    "                size = 15, color = color, alpha=0.7, legend_label=option)"
   ]
  },
  {
   "cell_type": "code",
   "execution_count": 37,
   "metadata": {},
   "outputs": [
    {
     "data": {
      "text/html": [
       "\n",
       "\n",
       "\n",
       "\n",
       "\n",
       "\n",
       "  <div class=\"bk-root\" id=\"71ed2773-f7be-4bcc-93f3-a85792eec67d\" data-root-id=\"2032\"></div>\n"
      ]
     },
     "metadata": {},
     "output_type": "display_data"
    },
    {
     "data": {
      "application/javascript": "(function(root) {\n  function embed_document(root) {\n    \n  const docs_json = {\"1cdcbe11-abe2-4de0-a4f7-f2ae4299ba68\":{\"defs\":[],\"roots\":{\"references\":[{\"attributes\":{\"below\":[{\"id\":\"2043\"}],\"center\":[{\"id\":\"2046\"},{\"id\":\"2050\"},{\"id\":\"2081\"}],\"height\":400,\"left\":[{\"id\":\"2047\"}],\"renderers\":[{\"id\":\"2069\"},{\"id\":\"2087\"},{\"id\":\"2106\"},{\"id\":\"2127\"},{\"id\":\"2150\"}],\"title\":{\"id\":\"2033\"},\"toolbar\":{\"id\":\"2058\"},\"width\":700,\"x_range\":{\"id\":\"2035\"},\"x_scale\":{\"id\":\"2039\"},\"y_range\":{\"id\":\"2037\"},\"y_scale\":{\"id\":\"2041\"}},\"id\":\"2032\",\"subtype\":\"Figure\",\"type\":\"Plot\"},{\"attributes\":{\"fill_alpha\":{\"value\":0.1},\"fill_color\":{\"value\":\"#A5CD39\"},\"hatch_alpha\":{\"value\":0.1},\"hatch_color\":{\"value\":\"#A5CD39\"},\"line_alpha\":{\"value\":0.1},\"line_color\":{\"value\":\"#A5CD39\"},\"marker\":{\"value\":\"circle_dot\"},\"size\":{\"value\":15},\"x\":{\"field\":\"x\"},\"y\":{\"field\":\"y\"}},\"id\":\"2125\",\"type\":\"Scatter\"},{\"attributes\":{\"coordinates\":null,\"group\":null,\"text\":\"Click on legend entries to HIDE the corresponding points\"},\"id\":\"2033\",\"type\":\"Title\"},{\"attributes\":{},\"id\":\"2079\",\"type\":\"Selection\"},{\"attributes\":{},\"id\":\"2052\",\"type\":\"WheelZoomTool\"},{\"attributes\":{\"axis\":{\"id\":\"2047\"},\"coordinates\":null,\"dimension\":1,\"group\":null,\"ticker\":null},\"id\":\"2050\",\"type\":\"Grid\"},{\"attributes\":{},\"id\":\"2143\",\"type\":\"Selection\"},{\"attributes\":{\"coordinates\":null,\"data_source\":{\"id\":\"2102\"},\"glyph\":{\"id\":\"2103\"},\"group\":null,\"hover_glyph\":null,\"muted_glyph\":{\"id\":\"2105\"},\"nonselection_glyph\":{\"id\":\"2104\"},\"view\":{\"id\":\"2107\"}},\"id\":\"2106\",\"type\":\"GlyphRenderer\"},{\"attributes\":{\"coordinates\":null,\"data_source\":{\"id\":\"2146\"},\"glyph\":{\"id\":\"2147\"},\"group\":null,\"hover_glyph\":null,\"muted_glyph\":{\"id\":\"2149\"},\"nonselection_glyph\":{\"id\":\"2148\"},\"view\":{\"id\":\"2151\"}},\"id\":\"2150\",\"type\":\"GlyphRenderer\"},{\"attributes\":{},\"id\":\"2074\",\"type\":\"AllLabels\"},{\"attributes\":{},\"id\":\"2044\",\"type\":\"BasicTicker\"},{\"attributes\":{\"label\":{\"value\":\"convertible\"},\"renderers\":[{\"id\":\"2069\"}]},\"id\":\"2082\",\"type\":\"LegendItem\"},{\"attributes\":{},\"id\":\"2078\",\"type\":\"UnionRenderers\"},{\"attributes\":{},\"id\":\"2037\",\"type\":\"DataRange1d\"},{\"attributes\":{\"fill_alpha\":{\"value\":0.2},\"fill_color\":{\"value\":\"#EC1557\"},\"hatch_alpha\":{\"value\":0.2},\"hatch_color\":{\"value\":\"#EC1557\"},\"line_alpha\":{\"value\":0.2},\"line_color\":{\"value\":\"#EC1557\"},\"marker\":{\"value\":\"circle_dot\"},\"size\":{\"value\":15},\"x\":{\"field\":\"x\"},\"y\":{\"field\":\"y\"}},\"id\":\"2068\",\"type\":\"Scatter\"},{\"attributes\":{},\"id\":\"2142\",\"type\":\"UnionRenderers\"},{\"attributes\":{\"data\":{\"x\":[27,27,18,25,30,29],\"y\":{\"__ndarray__\":\"AAAAAIBbykAAAAAAAB3QQAAAAAAAHuFAAAAAAIAU4kAAAAAAQEHRQAAAAACApcZA\",\"dtype\":\"float64\",\"order\":\"little\",\"shape\":[6]}},\"selected\":{\"id\":\"2079\"},\"selection_policy\":{\"id\":\"2078\"}},\"id\":\"2065\",\"type\":\"ColumnDataSource\"},{\"attributes\":{\"fill_alpha\":{\"value\":0.7},\"fill_color\":{\"value\":\"#F6A91B\"},\"hatch_alpha\":{\"value\":0.7},\"hatch_color\":{\"value\":\"#F6A91B\"},\"line_alpha\":{\"value\":0.7},\"line_color\":{\"value\":\"#F6A91B\"},\"marker\":{\"value\":\"circle_dot\"},\"size\":{\"value\":15},\"x\":{\"field\":\"x\"},\"y\":{\"field\":\"y\"}},\"id\":\"2103\",\"type\":\"Scatter\"},{\"attributes\":{},\"id\":\"2048\",\"type\":\"BasicTicker\"},{\"attributes\":{\"label\":{\"value\":\"hatchback\"},\"renderers\":[{\"id\":\"2087\"}]},\"id\":\"2101\",\"type\":\"LegendItem\"},{\"attributes\":{\"source\":{\"id\":\"2083\"}},\"id\":\"2088\",\"type\":\"CDSView\"},{\"attributes\":{\"fill_alpha\":{\"value\":0.2},\"fill_color\":{\"value\":\"#F6A91B\"},\"hatch_alpha\":{\"value\":0.2},\"hatch_color\":{\"value\":\"#F6A91B\"},\"line_alpha\":{\"value\":0.2},\"line_color\":{\"value\":\"#F6A91B\"},\"marker\":{\"value\":\"circle_dot\"},\"size\":{\"value\":15},\"x\":{\"field\":\"x\"},\"y\":{\"field\":\"y\"}},\"id\":\"2105\",\"type\":\"Scatter\"},{\"attributes\":{},\"id\":\"2055\",\"type\":\"ResetTool\"},{\"attributes\":{\"coordinates\":null,\"data_source\":{\"id\":\"2065\"},\"glyph\":{\"id\":\"2066\"},\"group\":null,\"hover_glyph\":null,\"muted_glyph\":{\"id\":\"2068\"},\"nonselection_glyph\":{\"id\":\"2067\"},\"view\":{\"id\":\"2070\"}},\"id\":\"2069\",\"type\":\"GlyphRenderer\"},{\"attributes\":{\"fill_alpha\":{\"value\":0.1},\"fill_color\":{\"value\":\"#EC1557\"},\"hatch_alpha\":{\"value\":0.1},\"hatch_color\":{\"value\":\"#EC1557\"},\"line_alpha\":{\"value\":0.1},\"line_color\":{\"value\":\"#EC1557\"},\"marker\":{\"value\":\"circle_dot\"},\"size\":{\"value\":15},\"x\":{\"field\":\"x\"},\"y\":{\"field\":\"y\"}},\"id\":\"2067\",\"type\":\"Scatter\"},{\"attributes\":{\"data\":{\"x\":[30,22,25,25,20,29,29,28,28,25,22,22,20,43,38,38,30,34,33,33,28,31,29,43,43,19,19,17,38,38,32,32,42,27,39,25,25,18,16,32,32,30,30,37,50,37,37,37,37,34,22,25,24,33,24,33,24,33,24,38,38,28,28,26,37,33,32,25,29,37,36,47,34,34,29,34,33,32,24,46,34,46,34,34,42,32,24,38,28,28,22,28,25,23,27,25],\"y\":{\"__ndarray__\":\"AAAAAAA/y0AAAAAAgArRQAAAAAAAyc1AAAAAAIBL0UAAAAAAwFDXQAAAAACAC9BAAAAAAECH0EAAAAAAgHrUQAAAAABAnNRAAAAAAED910AAAAAAAAreQAAAAABgLORAAAAAAAAC4kAAAAAAAK+5QAAAAAAAJLpAAAAAAAC5vUAAAAAAALfAQAAAAAAAf7xAAAAAAIBGwUAAAAAAgBvEQAAAAACASMlAAAAAAIA0xEAAAAAAAIG6QAAAAAAAAPh/AAAAAAAA+H8AAAAAgH7fQAAAAADAW+FAAAAAAACU4UAAAAAAACe6QAAAAAAA47xAAAAAAICXwEAAAAAAgALEQAAAAACAFcVAAAAAAADa0UAAAAAAAOrRQAAAAAAA9NhAAAAAAADc3kAAAAAAALHgQAAAAAAAAORAAAAAAABNu0AAAAAAAP2/QAAAAACAH8JAAAAAAIAfwkAAAAAAAHu1QAAAAAAAu7tAAAAAAAD5uUAAAAAAAMG6QAAAAAAAg7xAAAAAAABLvUAAAAAAgKbCQAAAAACAXcpAAAAAAIBdykAAAAAAAD7HQAAAAAAAyMlAAAAAAABuzkAAAAAAAIHQQAAAAACAPdBAAAAAAICH0UAAAAAAgLnRQAAAAAAAJLpAAAAAAAC5vUAAAAAAAMXHQAAAAAAAS85AAAAAAAAv0kAAAAAAANa7QAAAAAAAX75AAAAAAAB0w0AAAAAAgAjCQAAAAACA/cVAAAAAAAAau0AAAAAAANq+QAAAAAAAOr5AAAAAAAAVwkAAAAAAAHq/QAAAAAAAKcJAAAAAAAB6wUAAAAAAAOXEQAAAAAAAScVAAAAAAAClzkAAAAAAAF++QAAAAAAAJ79AAAAAAAA7v0AAAAAAgAHAQAAAAACAl8BAAAAAAICLwkAAAAAAgIXDQAAAAACA98lAAAAAAIAKy0AAAAAAAEbJQAAAAACAOM9AAAAAAAD90UAAAAAAQHPQQAAAAABAmdJAAAAAAED71EAAAAAAgPHVQAAAAABAGNZA\",\"dtype\":\"float64\",\"order\":\"little\",\"shape\":[96]}},\"selected\":{\"id\":\"2120\"},\"selection_policy\":{\"id\":\"2119\"}},\"id\":\"2102\",\"type\":\"ColumnDataSource\"},{\"attributes\":{\"click_policy\":\"hide\",\"coordinates\":null,\"group\":null,\"items\":[{\"id\":\"2082\"},{\"id\":\"2101\"},{\"id\":\"2122\"},{\"id\":\"2145\"},{\"id\":\"2170\"}]},\"id\":\"2081\",\"type\":\"Legend\"},{\"attributes\":{\"fill_alpha\":{\"value\":0.1},\"fill_color\":{\"value\":\"#F05223\"},\"hatch_alpha\":{\"value\":0.1},\"hatch_color\":{\"value\":\"#F05223\"},\"line_alpha\":{\"value\":0.1},\"line_color\":{\"value\":\"#F05223\"},\"marker\":{\"value\":\"circle_dot\"},\"size\":{\"value\":15},\"x\":{\"field\":\"x\"},\"y\":{\"field\":\"y\"}},\"id\":\"2085\",\"type\":\"Scatter\"},{\"attributes\":{},\"id\":\"2054\",\"type\":\"SaveTool\"},{\"attributes\":{\"source\":{\"id\":\"2065\"}},\"id\":\"2070\",\"type\":\"CDSView\"},{\"attributes\":{\"label\":{\"value\":\"hardtop\"},\"renderers\":[{\"id\":\"2150\"}]},\"id\":\"2170\",\"type\":\"LegendItem\"},{\"attributes\":{\"source\":{\"id\":\"2146\"}},\"id\":\"2151\",\"type\":\"CDSView\"},{\"attributes\":{\"overlay\":{\"id\":\"2057\"}},\"id\":\"2053\",\"type\":\"BoxZoomTool\"},{\"attributes\":{\"axis\":{\"id\":\"2043\"},\"coordinates\":null,\"group\":null,\"ticker\":null},\"id\":\"2046\",\"type\":\"Grid\"},{\"attributes\":{},\"id\":\"2167\",\"type\":\"UnionRenderers\"},{\"attributes\":{\"fill_alpha\":{\"value\":0.1},\"fill_color\":{\"value\":\"#20B254\"},\"hatch_alpha\":{\"value\":0.1},\"hatch_color\":{\"value\":\"#20B254\"},\"line_alpha\":{\"value\":0.1},\"line_color\":{\"value\":\"#20B254\"},\"marker\":{\"value\":\"circle_dot\"},\"size\":{\"value\":15},\"x\":{\"field\":\"x\"},\"y\":{\"field\":\"y\"}},\"id\":\"2148\",\"type\":\"Scatter\"},{\"attributes\":{},\"id\":\"2099\",\"type\":\"Selection\"},{\"attributes\":{\"coordinates\":null,\"data_source\":{\"id\":\"2123\"},\"glyph\":{\"id\":\"2124\"},\"group\":null,\"hover_glyph\":null,\"muted_glyph\":{\"id\":\"2126\"},\"nonselection_glyph\":{\"id\":\"2125\"},\"view\":{\"id\":\"2128\"}},\"id\":\"2127\",\"type\":\"GlyphRenderer\"},{\"attributes\":{},\"id\":\"2056\",\"type\":\"HelpTool\"},{\"attributes\":{},\"id\":\"2098\",\"type\":\"UnionRenderers\"},{\"attributes\":{},\"id\":\"2168\",\"type\":\"Selection\"},{\"attributes\":{\"fill_alpha\":{\"value\":0.7},\"fill_color\":{\"value\":\"#EC1557\"},\"hatch_alpha\":{\"value\":0.7},\"hatch_color\":{\"value\":\"#EC1557\"},\"line_alpha\":{\"value\":0.7},\"line_color\":{\"value\":\"#EC1557\"},\"marker\":{\"value\":\"circle_dot\"},\"size\":{\"value\":15},\"x\":{\"field\":\"x\"},\"y\":{\"field\":\"y\"}},\"id\":\"2066\",\"type\":\"Scatter\"},{\"attributes\":{},\"id\":\"2051\",\"type\":\"PanTool\"},{\"attributes\":{\"fill_alpha\":{\"value\":0.7},\"fill_color\":{\"value\":\"#A5CD39\"},\"hatch_alpha\":{\"value\":0.7},\"hatch_color\":{\"value\":\"#A5CD39\"},\"line_alpha\":{\"value\":0.7},\"line_color\":{\"value\":\"#A5CD39\"},\"marker\":{\"value\":\"circle_dot\"},\"size\":{\"value\":15},\"x\":{\"field\":\"x\"},\"y\":{\"field\":\"y\"}},\"id\":\"2124\",\"type\":\"Scatter\"},{\"attributes\":{\"axis_label\":\"Highway (mpg)\",\"coordinates\":null,\"formatter\":{\"id\":\"2076\"},\"group\":null,\"major_label_policy\":{\"id\":\"2077\"},\"ticker\":{\"id\":\"2044\"}},\"id\":\"2043\",\"type\":\"LinearAxis\"},{\"attributes\":{},\"id\":\"2077\",\"type\":\"AllLabels\"},{\"attributes\":{\"fill_alpha\":{\"value\":0.2},\"fill_color\":{\"value\":\"#A5CD39\"},\"hatch_alpha\":{\"value\":0.2},\"hatch_color\":{\"value\":\"#A5CD39\"},\"line_alpha\":{\"value\":0.2},\"line_color\":{\"value\":\"#A5CD39\"},\"marker\":{\"value\":\"circle_dot\"},\"size\":{\"value\":15},\"x\":{\"field\":\"x\"},\"y\":{\"field\":\"y\"}},\"id\":\"2126\",\"type\":\"Scatter\"},{\"attributes\":{\"data\":{\"x\":[25,30,34,25,37,37,22,24,25,24,25,30,31,32,31,29,23,37,32,32,24,31,28,28,22],\"y\":{\"__ndarray__\":\"AAAAAAB60kAAAAAAgGzBQAAAAAAAf7xAAAAAAACW20AAAAAAALW8QAAAAAAAP79AAAAAAIAfzEAAAAAAAEzIQAAAAAAAEstAAAAAAMBN0EAAAAAAwKzQQAAAAACAbMFAAAAAAIAnwkAAAAAAACe9QAAAAAAA68NAAAAAAABNv0AAAAAAANfGQAAAAAAABrtAAAAAAADavkAAAAAAACXBQAAAAAAAw85AAAAAAAAByEAAAAAAgDPKQAAAAADAINBAAAAAAICB0kA=\",\"dtype\":\"float64\",\"order\":\"little\",\"shape\":[25]}},\"selected\":{\"id\":\"2143\"},\"selection_policy\":{\"id\":\"2142\"}},\"id\":\"2123\",\"type\":\"ColumnDataSource\"},{\"attributes\":{\"label\":{\"value\":\"sedan\"},\"renderers\":[{\"id\":\"2106\"}]},\"id\":\"2122\",\"type\":\"LegendItem\"},{\"attributes\":{\"bottom_units\":\"screen\",\"coordinates\":null,\"fill_alpha\":0.5,\"fill_color\":\"lightgrey\",\"group\":null,\"left_units\":\"screen\",\"level\":\"overlay\",\"line_alpha\":1.0,\"line_color\":\"black\",\"line_dash\":[4,4],\"line_width\":2,\"right_units\":\"screen\",\"syncable\":false,\"top_units\":\"screen\"},\"id\":\"2057\",\"type\":\"BoxAnnotation\"},{\"attributes\":{\"source\":{\"id\":\"2102\"}},\"id\":\"2107\",\"type\":\"CDSView\"},{\"attributes\":{},\"id\":\"2119\",\"type\":\"UnionRenderers\"},{\"attributes\":{\"fill_alpha\":{\"value\":0.1},\"fill_color\":{\"value\":\"#F6A91B\"},\"hatch_alpha\":{\"value\":0.1},\"hatch_color\":{\"value\":\"#F6A91B\"},\"line_alpha\":{\"value\":0.1},\"line_color\":{\"value\":\"#F6A91B\"},\"marker\":{\"value\":\"circle_dot\"},\"size\":{\"value\":15},\"x\":{\"field\":\"x\"},\"y\":{\"field\":\"y\"}},\"id\":\"2104\",\"type\":\"Scatter\"},{\"attributes\":{\"tools\":[{\"id\":\"2051\"},{\"id\":\"2052\"},{\"id\":\"2053\"},{\"id\":\"2054\"},{\"id\":\"2055\"},{\"id\":\"2056\"}]},\"id\":\"2058\",\"type\":\"Toolbar\"},{\"attributes\":{},\"id\":\"2076\",\"type\":\"BasicTickFormatter\"},{\"attributes\":{},\"id\":\"2039\",\"type\":\"LinearScale\"},{\"attributes\":{\"coordinates\":null,\"data_source\":{\"id\":\"2083\"},\"glyph\":{\"id\":\"2084\"},\"group\":null,\"hover_glyph\":null,\"muted_glyph\":{\"id\":\"2086\"},\"nonselection_glyph\":{\"id\":\"2085\"},\"view\":{\"id\":\"2088\"}},\"id\":\"2087\",\"type\":\"GlyphRenderer\"},{\"attributes\":{\"fill_alpha\":{\"value\":0.7},\"fill_color\":{\"value\":\"#F05223\"},\"hatch_alpha\":{\"value\":0.7},\"hatch_color\":{\"value\":\"#F05223\"},\"line_alpha\":{\"value\":0.7},\"line_color\":{\"value\":\"#F05223\"},\"marker\":{\"value\":\"circle_dot\"},\"size\":{\"value\":15},\"x\":{\"field\":\"x\"},\"y\":{\"field\":\"y\"}},\"id\":\"2084\",\"type\":\"Scatter\"},{\"attributes\":{},\"id\":\"2120\",\"type\":\"Selection\"},{\"attributes\":{},\"id\":\"2073\",\"type\":\"BasicTickFormatter\"},{\"attributes\":{\"fill_alpha\":{\"value\":0.2},\"fill_color\":{\"value\":\"#F05223\"},\"hatch_alpha\":{\"value\":0.2},\"hatch_color\":{\"value\":\"#F05223\"},\"line_alpha\":{\"value\":0.2},\"line_color\":{\"value\":\"#F05223\"},\"marker\":{\"value\":\"circle_dot\"},\"size\":{\"value\":15},\"x\":{\"field\":\"x\"},\"y\":{\"field\":\"y\"}},\"id\":\"2086\",\"type\":\"Scatter\"},{\"attributes\":{\"data\":{\"x\":[26,22,53,43,41,38,30,38,24,54,38,42,34,34,33,33,29,31,38,38,23,23,23,23,32,32,32,24,41,38,38,30,30,32,24,24,24,37,34,25,23,25,41,30,38,24,27,28,31,28,28,26,36,31,31,39,38,38,37,47,34,34,29,30,30,32,32,24,24,29],\"y\":{\"__ndarray__\":\"AAAAAAAd0EAAAAAAAAD4fwAAAAAAH7RAAAAAAACXuEAAAAAAAMS1QAAAAAAA6bhAAAAAAAAVv0AAAAAAAFW4QAAAAAAAUslAAAAAAABPuUAAAAAAAMe6QAAAAAAAF7VAAAAAAACBuUAAAAAAANm7QAAAAAAA175AAAAAAIDDwUAAAAAAAJTFQAAAAAAAS7RAAAAAAADPt0AAAAAAAIu6QAAAAACAYMVAAAAAAIAix0AAAAAAgKbKQAAAAACAjs5AAAAAAIBGwUAAAAAAgLHEQAAAAACA9sVAAAAAAMAd0EAAAAAAAA21QAAAAAAALbhAAAAAAAANukAAAAAAAAm+QAAAAACAc8NAAAAAAICZwEAAAAAAgKrIQAAAAACACs1AAAAAAIBMzEAAAAAAAHe+QAAAAACAesFAAAAAAMDL0EAAAAAAwDzTQAAAAADA99FAAAAAAADEtUAAAAAAABW/QAAAAAAAVbhAAAAAAADuyEAAAAAAgIDVQAAAAAAAAPh/AAAAAIBTw0AAAAAAACXHQAAAAAAAYM1AAAAAAIC50UAAAAAAAP6zQAAAAAAAjbtAAAAAAACzvUAAAAAAAOS0QAAAAAAAwrhAAAAAAABYuUAAAAAAAB68QAAAAAAAbL5AAAAAAABTwEAAAAAAABfAQAAAAAAAocJAAAAAAICCw0AAAAAAgI7GQAAAAAAAgsNAAAAAAAD4xUAAAAAAgCvQQAAAAAAAP89AAAAAAAB+w0A=\",\"dtype\":\"float64\",\"order\":\"little\",\"shape\":[70]}},\"selected\":{\"id\":\"2099\"},\"selection_policy\":{\"id\":\"2098\"}},\"id\":\"2083\",\"type\":\"ColumnDataSource\"},{\"attributes\":{\"fill_alpha\":{\"value\":0.7},\"fill_color\":{\"value\":\"#20B254\"},\"hatch_alpha\":{\"value\":0.7},\"hatch_color\":{\"value\":\"#20B254\"},\"line_alpha\":{\"value\":0.7},\"line_color\":{\"value\":\"#20B254\"},\"marker\":{\"value\":\"circle_dot\"},\"size\":{\"value\":15},\"x\":{\"field\":\"x\"},\"y\":{\"field\":\"y\"}},\"id\":\"2147\",\"type\":\"Scatter\"},{\"attributes\":{\"axis_label\":\"Price\",\"coordinates\":null,\"formatter\":{\"id\":\"2073\"},\"group\":null,\"major_label_policy\":{\"id\":\"2074\"},\"ticker\":{\"id\":\"2048\"}},\"id\":\"2047\",\"type\":\"LinearAxis\"},{\"attributes\":{\"fill_alpha\":{\"value\":0.2},\"fill_color\":{\"value\":\"#20B254\"},\"hatch_alpha\":{\"value\":0.2},\"hatch_color\":{\"value\":\"#20B254\"},\"line_alpha\":{\"value\":0.2},\"line_color\":{\"value\":\"#20B254\"},\"marker\":{\"value\":\"circle_dot\"},\"size\":{\"value\":15},\"x\":{\"field\":\"x\"},\"y\":{\"field\":\"y\"}},\"id\":\"2149\",\"type\":\"Scatter\"},{\"attributes\":{\"data\":{\"x\":[25,16,37,25,25,30,30,30],\"y\":{\"__ndarray__\":\"AAAAAACE20AAAAAAACvmQAAAAACAHMBAAAAAAADE30AAAAAAgJ3gQAAAAACAgMBAAAAAAIDTwkAAAAAAgN/FQA==\",\"dtype\":\"float64\",\"order\":\"little\",\"shape\":[8]}},\"selected\":{\"id\":\"2168\"},\"selection_policy\":{\"id\":\"2167\"}},\"id\":\"2146\",\"type\":\"ColumnDataSource\"},{\"attributes\":{},\"id\":\"2041\",\"type\":\"LinearScale\"},{\"attributes\":{\"label\":{\"value\":\"wagon\"},\"renderers\":[{\"id\":\"2127\"}]},\"id\":\"2145\",\"type\":\"LegendItem\"},{\"attributes\":{\"source\":{\"id\":\"2123\"}},\"id\":\"2128\",\"type\":\"CDSView\"},{\"attributes\":{},\"id\":\"2035\",\"type\":\"DataRange1d\"}],\"root_ids\":[\"2032\"]},\"title\":\"Bokeh Application\",\"version\":\"2.4.2\"}};\n  const render_items = [{\"docid\":\"1cdcbe11-abe2-4de0-a4f7-f2ae4299ba68\",\"root_ids\":[\"2032\"],\"roots\":{\"2032\":\"71ed2773-f7be-4bcc-93f3-a85792eec67d\"}}];\n  root.Bokeh.embed.embed_items_notebook(docs_json, render_items);\n\n  }\n  if (root.Bokeh !== undefined) {\n    embed_document(root);\n  } else {\n    let attempts = 0;\n    const timer = setInterval(function(root) {\n      if (root.Bokeh !== undefined) {\n        clearInterval(timer);\n        embed_document(root);\n      } else {\n        attempts++;\n        if (attempts > 100) {\n          clearInterval(timer);\n          console.log(\"Bokeh: ERROR: Unable to run BokehJS code because BokehJS library is missing\");\n        }\n      }\n    }, 10, root)\n  }\n})(window);",
      "application/vnd.bokehjs_exec.v0+json": ""
     },
     "metadata": {
      "application/vnd.bokehjs_exec.v0+json": {
       "id": "2032"
      }
     },
     "output_type": "display_data"
    }
   ],
   "source": [
    "sct.legend.location = \"top_right\"\n",
    "sct.legend.click_policy=\"hide\"\n",
    "show(sct)"
   ]
  },
  {
   "cell_type": "markdown",
   "metadata": {},
   "source": [
    "### Muting glyphs"
   ]
  },
  {
   "cell_type": "markdown",
   "metadata": {},
   "source": [
    "You can mute a glyph from the legend. Hiding the glyph makes it vanish entirely; muting it de-emphasizes the glyph."
   ]
  },
  {
   "cell_type": "code",
   "execution_count": 38,
   "metadata": {},
   "outputs": [],
   "source": [
    "sct2 = figure(title=\"Click on legend entries to MUTE the corresponding points\", \n",
    "            x_axis_label='Highway (mpg)', y_axis_label='Price',            \n",
    "            height=400, width=700)"
   ]
  },
  {
   "cell_type": "code",
   "execution_count": 39,
   "metadata": {},
   "outputs": [],
   "source": [
    "for option, color in zip(dfa.body_style.unique(), Bokeh5):\n",
    "    sct2.square_pin(dfa.highway_mpg[dfa.body_style==option], dfa.price[dfa.body_style==option], \n",
    "                size = 20, color = color, alpha=0.8, legend_label=option)"
   ]
  },
  {
   "cell_type": "code",
   "execution_count": 40,
   "metadata": {},
   "outputs": [
    {
     "data": {
      "text/html": [
       "\n",
       "\n",
       "\n",
       "\n",
       "\n",
       "\n",
       "  <div class=\"bk-root\" id=\"142f953d-a061-4f0c-ab96-077b8a5fbf3c\" data-root-id=\"2364\"></div>\n"
      ]
     },
     "metadata": {},
     "output_type": "display_data"
    },
    {
     "data": {
      "application/javascript": "(function(root) {\n  function embed_document(root) {\n    \n  const docs_json = {\"86e29b64-b6c7-4fe6-941b-8275369f5746\":{\"defs\":[],\"roots\":{\"references\":[{\"attributes\":{\"below\":[{\"id\":\"2375\"}],\"center\":[{\"id\":\"2378\"},{\"id\":\"2382\"},{\"id\":\"2413\"}],\"height\":400,\"left\":[{\"id\":\"2379\"}],\"renderers\":[{\"id\":\"2401\"},{\"id\":\"2419\"},{\"id\":\"2438\"},{\"id\":\"2459\"},{\"id\":\"2482\"}],\"title\":{\"id\":\"2365\"},\"toolbar\":{\"id\":\"2390\"},\"width\":700,\"x_range\":{\"id\":\"2367\"},\"x_scale\":{\"id\":\"2371\"},\"y_range\":{\"id\":\"2369\"},\"y_scale\":{\"id\":\"2373\"}},\"id\":\"2364\",\"subtype\":\"Figure\",\"type\":\"Plot\"},{\"attributes\":{\"coordinates\":null,\"data_source\":{\"id\":\"2478\"},\"glyph\":{\"id\":\"2479\"},\"group\":null,\"hover_glyph\":null,\"muted_glyph\":{\"id\":\"2481\"},\"nonselection_glyph\":{\"id\":\"2480\"},\"view\":{\"id\":\"2483\"}},\"id\":\"2482\",\"type\":\"GlyphRenderer\"},{\"attributes\":{},\"id\":\"2474\",\"type\":\"UnionRenderers\"},{\"attributes\":{\"fill_alpha\":{\"value\":0.8},\"fill_color\":{\"value\":\"#F6A91B\"},\"hatch_alpha\":{\"value\":0.8},\"hatch_color\":{\"value\":\"#F6A91B\"},\"line_alpha\":{\"value\":0.8},\"line_color\":{\"value\":\"#F6A91B\"},\"marker\":{\"value\":\"square_pin\"},\"size\":{\"value\":20},\"x\":{\"field\":\"x\"},\"y\":{\"field\":\"y\"}},\"id\":\"2435\",\"type\":\"Scatter\"},{\"attributes\":{\"fill_alpha\":{\"value\":0.1},\"fill_color\":{\"value\":\"#EC1557\"},\"hatch_alpha\":{\"value\":0.1},\"hatch_color\":{\"value\":\"#EC1557\"},\"line_alpha\":{\"value\":0.1},\"line_color\":{\"value\":\"#EC1557\"},\"marker\":{\"value\":\"square_pin\"},\"size\":{\"value\":20},\"x\":{\"field\":\"x\"},\"y\":{\"field\":\"y\"}},\"id\":\"2399\",\"type\":\"Scatter\"},{\"attributes\":{},\"id\":\"2371\",\"type\":\"LinearScale\"},{\"attributes\":{\"axis_label\":\"Price\",\"coordinates\":null,\"formatter\":{\"id\":\"2405\"},\"group\":null,\"major_label_policy\":{\"id\":\"2406\"},\"ticker\":{\"id\":\"2380\"}},\"id\":\"2379\",\"type\":\"LinearAxis\"},{\"attributes\":{\"fill_alpha\":{\"value\":0.2},\"fill_color\":{\"value\":\"#F6A91B\"},\"hatch_alpha\":{\"value\":0.2},\"hatch_color\":{\"value\":\"#F6A91B\"},\"line_alpha\":{\"value\":0.2},\"line_color\":{\"value\":\"#F6A91B\"},\"marker\":{\"value\":\"square_pin\"},\"size\":{\"value\":20},\"x\":{\"field\":\"x\"},\"y\":{\"field\":\"y\"}},\"id\":\"2437\",\"type\":\"Scatter\"},{\"attributes\":{\"label\":{\"value\":\"hatchback\"},\"renderers\":[{\"id\":\"2419\"}]},\"id\":\"2433\",\"type\":\"LegendItem\"},{\"attributes\":{\"data\":{\"x\":[30,22,25,25,20,29,29,28,28,25,22,22,20,43,38,38,30,34,33,33,28,31,29,43,43,19,19,17,38,38,32,32,42,27,39,25,25,18,16,32,32,30,30,37,50,37,37,37,37,34,22,25,24,33,24,33,24,33,24,38,38,28,28,26,37,33,32,25,29,37,36,47,34,34,29,34,33,32,24,46,34,46,34,34,42,32,24,38,28,28,22,28,25,23,27,25],\"y\":{\"__ndarray__\":\"AAAAAAA/y0AAAAAAgArRQAAAAAAAyc1AAAAAAIBL0UAAAAAAwFDXQAAAAACAC9BAAAAAAECH0EAAAAAAgHrUQAAAAABAnNRAAAAAAED910AAAAAAAAreQAAAAABgLORAAAAAAAAC4kAAAAAAAK+5QAAAAAAAJLpAAAAAAAC5vUAAAAAAALfAQAAAAAAAf7xAAAAAAIBGwUAAAAAAgBvEQAAAAACASMlAAAAAAIA0xEAAAAAAAIG6QAAAAAAAAPh/AAAAAAAA+H8AAAAAgH7fQAAAAADAW+FAAAAAAACU4UAAAAAAACe6QAAAAAAA47xAAAAAAICXwEAAAAAAgALEQAAAAACAFcVAAAAAAADa0UAAAAAAAOrRQAAAAAAA9NhAAAAAAADc3kAAAAAAALHgQAAAAAAAAORAAAAAAABNu0AAAAAAAP2/QAAAAACAH8JAAAAAAIAfwkAAAAAAAHu1QAAAAAAAu7tAAAAAAAD5uUAAAAAAAMG6QAAAAAAAg7xAAAAAAABLvUAAAAAAgKbCQAAAAACAXcpAAAAAAIBdykAAAAAAAD7HQAAAAAAAyMlAAAAAAABuzkAAAAAAAIHQQAAAAACAPdBAAAAAAICH0UAAAAAAgLnRQAAAAAAAJLpAAAAAAAC5vUAAAAAAAMXHQAAAAAAAS85AAAAAAAAv0kAAAAAAANa7QAAAAAAAX75AAAAAAAB0w0AAAAAAgAjCQAAAAACA/cVAAAAAAAAau0AAAAAAANq+QAAAAAAAOr5AAAAAAAAVwkAAAAAAAHq/QAAAAAAAKcJAAAAAAAB6wUAAAAAAAOXEQAAAAAAAScVAAAAAAAClzkAAAAAAAF++QAAAAAAAJ79AAAAAAAA7v0AAAAAAgAHAQAAAAACAl8BAAAAAAICLwkAAAAAAgIXDQAAAAACA98lAAAAAAIAKy0AAAAAAAEbJQAAAAACAOM9AAAAAAAD90UAAAAAAQHPQQAAAAABAmdJAAAAAAED71EAAAAAAgPHVQAAAAABAGNZA\",\"dtype\":\"float64\",\"order\":\"little\",\"shape\":[96]}},\"selected\":{\"id\":\"2452\"},\"selection_policy\":{\"id\":\"2451\"}},\"id\":\"2434\",\"type\":\"ColumnDataSource\"},{\"attributes\":{\"source\":{\"id\":\"2415\"}},\"id\":\"2420\",\"type\":\"CDSView\"},{\"attributes\":{\"fill_alpha\":{\"value\":0.8},\"fill_color\":{\"value\":\"#EC1557\"},\"hatch_alpha\":{\"value\":0.8},\"hatch_color\":{\"value\":\"#EC1557\"},\"line_alpha\":{\"value\":0.8},\"line_color\":{\"value\":\"#EC1557\"},\"marker\":{\"value\":\"square_pin\"},\"size\":{\"value\":20},\"x\":{\"field\":\"x\"},\"y\":{\"field\":\"y\"}},\"id\":\"2398\",\"type\":\"Scatter\"},{\"attributes\":{\"label\":{\"value\":\"hardtop\"},\"renderers\":[{\"id\":\"2482\"}]},\"id\":\"2502\",\"type\":\"LegendItem\"},{\"attributes\":{\"fill_alpha\":{\"value\":0.1},\"fill_color\":{\"value\":\"#F05223\"},\"hatch_alpha\":{\"value\":0.1},\"hatch_color\":{\"value\":\"#F05223\"},\"line_alpha\":{\"value\":0.1},\"line_color\":{\"value\":\"#F05223\"},\"marker\":{\"value\":\"square_pin\"},\"size\":{\"value\":20},\"x\":{\"field\":\"x\"},\"y\":{\"field\":\"y\"}},\"id\":\"2417\",\"type\":\"Scatter\"},{\"attributes\":{\"source\":{\"id\":\"2478\"}},\"id\":\"2483\",\"type\":\"CDSView\"},{\"attributes\":{},\"id\":\"2384\",\"type\":\"WheelZoomTool\"},{\"attributes\":{},\"id\":\"2376\",\"type\":\"BasicTicker\"},{\"attributes\":{},\"id\":\"2499\",\"type\":\"UnionRenderers\"},{\"attributes\":{\"fill_alpha\":{\"value\":0.1},\"fill_color\":{\"value\":\"#20B254\"},\"hatch_alpha\":{\"value\":0.1},\"hatch_color\":{\"value\":\"#20B254\"},\"line_alpha\":{\"value\":0.1},\"line_color\":{\"value\":\"#20B254\"},\"marker\":{\"value\":\"square_pin\"},\"size\":{\"value\":20},\"x\":{\"field\":\"x\"},\"y\":{\"field\":\"y\"}},\"id\":\"2480\",\"type\":\"Scatter\"},{\"attributes\":{},\"id\":\"2411\",\"type\":\"Selection\"},{\"attributes\":{},\"id\":\"2383\",\"type\":\"PanTool\"},{\"attributes\":{\"axis\":{\"id\":\"2379\"},\"coordinates\":null,\"dimension\":1,\"group\":null,\"ticker\":null},\"id\":\"2382\",\"type\":\"Grid\"},{\"attributes\":{},\"id\":\"2410\",\"type\":\"UnionRenderers\"},{\"attributes\":{\"coordinates\":null,\"data_source\":{\"id\":\"2455\"},\"glyph\":{\"id\":\"2456\"},\"group\":null,\"hover_glyph\":null,\"muted_glyph\":{\"id\":\"2458\"},\"nonselection_glyph\":{\"id\":\"2457\"},\"view\":{\"id\":\"2460\"}},\"id\":\"2459\",\"type\":\"GlyphRenderer\"},{\"attributes\":{\"overlay\":{\"id\":\"2389\"}},\"id\":\"2385\",\"type\":\"BoxZoomTool\"},{\"attributes\":{},\"id\":\"2386\",\"type\":\"SaveTool\"},{\"attributes\":{},\"id\":\"2387\",\"type\":\"ResetTool\"},{\"attributes\":{},\"id\":\"2500\",\"type\":\"Selection\"},{\"attributes\":{\"fill_alpha\":{\"value\":0.8},\"fill_color\":{\"value\":\"#A5CD39\"},\"hatch_alpha\":{\"value\":0.8},\"hatch_color\":{\"value\":\"#A5CD39\"},\"line_alpha\":{\"value\":0.8},\"line_color\":{\"value\":\"#A5CD39\"},\"marker\":{\"value\":\"square_pin\"},\"size\":{\"value\":20},\"x\":{\"field\":\"x\"},\"y\":{\"field\":\"y\"}},\"id\":\"2456\",\"type\":\"Scatter\"},{\"attributes\":{},\"id\":\"2431\",\"type\":\"Selection\"},{\"attributes\":{\"source\":{\"id\":\"2397\"}},\"id\":\"2402\",\"type\":\"CDSView\"},{\"attributes\":{\"fill_alpha\":{\"value\":0.2},\"fill_color\":{\"value\":\"#EC1557\"},\"hatch_alpha\":{\"value\":0.2},\"hatch_color\":{\"value\":\"#EC1557\"},\"line_alpha\":{\"value\":0.2},\"line_color\":{\"value\":\"#EC1557\"},\"marker\":{\"value\":\"square_pin\"},\"size\":{\"value\":20},\"x\":{\"field\":\"x\"},\"y\":{\"field\":\"y\"}},\"id\":\"2400\",\"type\":\"Scatter\"},{\"attributes\":{\"fill_alpha\":{\"value\":0.2},\"fill_color\":{\"value\":\"#A5CD39\"},\"hatch_alpha\":{\"value\":0.2},\"hatch_color\":{\"value\":\"#A5CD39\"},\"line_alpha\":{\"value\":0.2},\"line_color\":{\"value\":\"#A5CD39\"},\"marker\":{\"value\":\"square_pin\"},\"size\":{\"value\":20},\"x\":{\"field\":\"x\"},\"y\":{\"field\":\"y\"}},\"id\":\"2458\",\"type\":\"Scatter\"},{\"attributes\":{\"bottom_units\":\"screen\",\"coordinates\":null,\"fill_alpha\":0.5,\"fill_color\":\"lightgrey\",\"group\":null,\"left_units\":\"screen\",\"level\":\"overlay\",\"line_alpha\":1.0,\"line_color\":\"black\",\"line_dash\":[4,4],\"line_width\":2,\"right_units\":\"screen\",\"syncable\":false,\"top_units\":\"screen\"},\"id\":\"2389\",\"type\":\"BoxAnnotation\"},{\"attributes\":{\"coordinates\":null,\"data_source\":{\"id\":\"2397\"},\"glyph\":{\"id\":\"2398\"},\"group\":null,\"hover_glyph\":null,\"muted_glyph\":{\"id\":\"2400\"},\"nonselection_glyph\":{\"id\":\"2399\"},\"view\":{\"id\":\"2402\"}},\"id\":\"2401\",\"type\":\"GlyphRenderer\"},{\"attributes\":{\"data\":{\"x\":[25,30,34,25,37,37,22,24,25,24,25,30,31,32,31,29,23,37,32,32,24,31,28,28,22],\"y\":{\"__ndarray__\":\"AAAAAAB60kAAAAAAgGzBQAAAAAAAf7xAAAAAAACW20AAAAAAALW8QAAAAAAAP79AAAAAAIAfzEAAAAAAAEzIQAAAAAAAEstAAAAAAMBN0EAAAAAAwKzQQAAAAACAbMFAAAAAAIAnwkAAAAAAACe9QAAAAAAA68NAAAAAAABNv0AAAAAAANfGQAAAAAAABrtAAAAAAADavkAAAAAAACXBQAAAAAAAw85AAAAAAAAByEAAAAAAgDPKQAAAAADAINBAAAAAAICB0kA=\",\"dtype\":\"float64\",\"order\":\"little\",\"shape\":[25]}},\"selected\":{\"id\":\"2475\"},\"selection_policy\":{\"id\":\"2474\"}},\"id\":\"2455\",\"type\":\"ColumnDataSource\"},{\"attributes\":{},\"id\":\"2409\",\"type\":\"AllLabels\"},{\"attributes\":{\"label\":{\"value\":\"sedan\"},\"renderers\":[{\"id\":\"2438\"}]},\"id\":\"2454\",\"type\":\"LegendItem\"},{\"attributes\":{\"source\":{\"id\":\"2434\"}},\"id\":\"2439\",\"type\":\"CDSView\"},{\"attributes\":{\"click_policy\":\"mute\",\"coordinates\":null,\"group\":null,\"items\":[{\"id\":\"2414\"},{\"id\":\"2433\"},{\"id\":\"2454\"},{\"id\":\"2477\"},{\"id\":\"2502\"}]},\"id\":\"2413\",\"type\":\"Legend\"},{\"attributes\":{},\"id\":\"2388\",\"type\":\"HelpTool\"},{\"attributes\":{},\"id\":\"2408\",\"type\":\"BasicTickFormatter\"},{\"attributes\":{},\"id\":\"2451\",\"type\":\"UnionRenderers\"},{\"attributes\":{\"fill_alpha\":{\"value\":0.1},\"fill_color\":{\"value\":\"#F6A91B\"},\"hatch_alpha\":{\"value\":0.1},\"hatch_color\":{\"value\":\"#F6A91B\"},\"line_alpha\":{\"value\":0.1},\"line_color\":{\"value\":\"#F6A91B\"},\"marker\":{\"value\":\"square_pin\"},\"size\":{\"value\":20},\"x\":{\"field\":\"x\"},\"y\":{\"field\":\"y\"}},\"id\":\"2436\",\"type\":\"Scatter\"},{\"attributes\":{},\"id\":\"2369\",\"type\":\"DataRange1d\"},{\"attributes\":{\"tools\":[{\"id\":\"2383\"},{\"id\":\"2384\"},{\"id\":\"2385\"},{\"id\":\"2386\"},{\"id\":\"2387\"},{\"id\":\"2388\"}]},\"id\":\"2390\",\"type\":\"Toolbar\"},{\"attributes\":{},\"id\":\"2406\",\"type\":\"AllLabels\"},{\"attributes\":{\"axis\":{\"id\":\"2375\"},\"coordinates\":null,\"group\":null,\"ticker\":null},\"id\":\"2378\",\"type\":\"Grid\"},{\"attributes\":{\"label\":{\"value\":\"convertible\"},\"renderers\":[{\"id\":\"2401\"}]},\"id\":\"2414\",\"type\":\"LegendItem\"},{\"attributes\":{},\"id\":\"2405\",\"type\":\"BasicTickFormatter\"},{\"attributes\":{\"coordinates\":null,\"data_source\":{\"id\":\"2415\"},\"glyph\":{\"id\":\"2416\"},\"group\":null,\"hover_glyph\":null,\"muted_glyph\":{\"id\":\"2418\"},\"nonselection_glyph\":{\"id\":\"2417\"},\"view\":{\"id\":\"2420\"}},\"id\":\"2419\",\"type\":\"GlyphRenderer\"},{\"attributes\":{},\"id\":\"2452\",\"type\":\"Selection\"},{\"attributes\":{\"fill_alpha\":{\"value\":0.8},\"fill_color\":{\"value\":\"#F05223\"},\"hatch_alpha\":{\"value\":0.8},\"hatch_color\":{\"value\":\"#F05223\"},\"line_alpha\":{\"value\":0.8},\"line_color\":{\"value\":\"#F05223\"},\"marker\":{\"value\":\"square_pin\"},\"size\":{\"value\":20},\"x\":{\"field\":\"x\"},\"y\":{\"field\":\"y\"}},\"id\":\"2416\",\"type\":\"Scatter\"},{\"attributes\":{\"fill_alpha\":{\"value\":0.8},\"fill_color\":{\"value\":\"#20B254\"},\"hatch_alpha\":{\"value\":0.8},\"hatch_color\":{\"value\":\"#20B254\"},\"line_alpha\":{\"value\":0.8},\"line_color\":{\"value\":\"#20B254\"},\"marker\":{\"value\":\"square_pin\"},\"size\":{\"value\":20},\"x\":{\"field\":\"x\"},\"y\":{\"field\":\"y\"}},\"id\":\"2479\",\"type\":\"Scatter\"},{\"attributes\":{},\"id\":\"2367\",\"type\":\"DataRange1d\"},{\"attributes\":{\"axis_label\":\"Highway (mpg)\",\"coordinates\":null,\"formatter\":{\"id\":\"2408\"},\"group\":null,\"major_label_policy\":{\"id\":\"2409\"},\"ticker\":{\"id\":\"2376\"}},\"id\":\"2375\",\"type\":\"LinearAxis\"},{\"attributes\":{\"fill_alpha\":{\"value\":0.2},\"fill_color\":{\"value\":\"#F05223\"},\"hatch_alpha\":{\"value\":0.2},\"hatch_color\":{\"value\":\"#F05223\"},\"line_alpha\":{\"value\":0.2},\"line_color\":{\"value\":\"#F05223\"},\"marker\":{\"value\":\"square_pin\"},\"size\":{\"value\":20},\"x\":{\"field\":\"x\"},\"y\":{\"field\":\"y\"}},\"id\":\"2418\",\"type\":\"Scatter\"},{\"attributes\":{\"data\":{\"x\":[26,22,53,43,41,38,30,38,24,54,38,42,34,34,33,33,29,31,38,38,23,23,23,23,32,32,32,24,41,38,38,30,30,32,24,24,24,37,34,25,23,25,41,30,38,24,27,28,31,28,28,26,36,31,31,39,38,38,37,47,34,34,29,30,30,32,32,24,24,29],\"y\":{\"__ndarray__\":\"AAAAAAAd0EAAAAAAAAD4fwAAAAAAH7RAAAAAAACXuEAAAAAAAMS1QAAAAAAA6bhAAAAAAAAVv0AAAAAAAFW4QAAAAAAAUslAAAAAAABPuUAAAAAAAMe6QAAAAAAAF7VAAAAAAACBuUAAAAAAANm7QAAAAAAA175AAAAAAIDDwUAAAAAAAJTFQAAAAAAAS7RAAAAAAADPt0AAAAAAAIu6QAAAAACAYMVAAAAAAIAix0AAAAAAgKbKQAAAAACAjs5AAAAAAIBGwUAAAAAAgLHEQAAAAACA9sVAAAAAAMAd0EAAAAAAAA21QAAAAAAALbhAAAAAAAANukAAAAAAAAm+QAAAAACAc8NAAAAAAICZwEAAAAAAgKrIQAAAAACACs1AAAAAAIBMzEAAAAAAAHe+QAAAAACAesFAAAAAAMDL0EAAAAAAwDzTQAAAAADA99FAAAAAAADEtUAAAAAAABW/QAAAAAAAVbhAAAAAAADuyEAAAAAAgIDVQAAAAAAAAPh/AAAAAIBTw0AAAAAAACXHQAAAAAAAYM1AAAAAAIC50UAAAAAAAP6zQAAAAAAAjbtAAAAAAACzvUAAAAAAAOS0QAAAAAAAwrhAAAAAAABYuUAAAAAAAB68QAAAAAAAbL5AAAAAAABTwEAAAAAAABfAQAAAAAAAocJAAAAAAICCw0AAAAAAgI7GQAAAAAAAgsNAAAAAAAD4xUAAAAAAgCvQQAAAAAAAP89AAAAAAAB+w0A=\",\"dtype\":\"float64\",\"order\":\"little\",\"shape\":[70]}},\"selected\":{\"id\":\"2431\"},\"selection_policy\":{\"id\":\"2430\"}},\"id\":\"2415\",\"type\":\"ColumnDataSource\"},{\"attributes\":{},\"id\":\"2373\",\"type\":\"LinearScale\"},{\"attributes\":{\"fill_alpha\":{\"value\":0.2},\"fill_color\":{\"value\":\"#20B254\"},\"hatch_alpha\":{\"value\":0.2},\"hatch_color\":{\"value\":\"#20B254\"},\"line_alpha\":{\"value\":0.2},\"line_color\":{\"value\":\"#20B254\"},\"marker\":{\"value\":\"square_pin\"},\"size\":{\"value\":20},\"x\":{\"field\":\"x\"},\"y\":{\"field\":\"y\"}},\"id\":\"2481\",\"type\":\"Scatter\"},{\"attributes\":{\"data\":{\"x\":[25,16,37,25,25,30,30,30],\"y\":{\"__ndarray__\":\"AAAAAACE20AAAAAAACvmQAAAAACAHMBAAAAAAADE30AAAAAAgJ3gQAAAAACAgMBAAAAAAIDTwkAAAAAAgN/FQA==\",\"dtype\":\"float64\",\"order\":\"little\",\"shape\":[8]}},\"selected\":{\"id\":\"2500\"},\"selection_policy\":{\"id\":\"2499\"}},\"id\":\"2478\",\"type\":\"ColumnDataSource\"},{\"attributes\":{\"label\":{\"value\":\"wagon\"},\"renderers\":[{\"id\":\"2459\"}]},\"id\":\"2477\",\"type\":\"LegendItem\"},{\"attributes\":{},\"id\":\"2430\",\"type\":\"UnionRenderers\"},{\"attributes\":{\"source\":{\"id\":\"2455\"}},\"id\":\"2460\",\"type\":\"CDSView\"},{\"attributes\":{},\"id\":\"2475\",\"type\":\"Selection\"},{\"attributes\":{\"coordinates\":null,\"group\":null,\"text\":\"Click on legend entries to MUTE the corresponding points\"},\"id\":\"2365\",\"type\":\"Title\"},{\"attributes\":{\"fill_alpha\":{\"value\":0.1},\"fill_color\":{\"value\":\"#A5CD39\"},\"hatch_alpha\":{\"value\":0.1},\"hatch_color\":{\"value\":\"#A5CD39\"},\"line_alpha\":{\"value\":0.1},\"line_color\":{\"value\":\"#A5CD39\"},\"marker\":{\"value\":\"square_pin\"},\"size\":{\"value\":20},\"x\":{\"field\":\"x\"},\"y\":{\"field\":\"y\"}},\"id\":\"2457\",\"type\":\"Scatter\"},{\"attributes\":{\"data\":{\"x\":[27,27,18,25,30,29],\"y\":{\"__ndarray__\":\"AAAAAIBbykAAAAAAAB3QQAAAAAAAHuFAAAAAAIAU4kAAAAAAQEHRQAAAAACApcZA\",\"dtype\":\"float64\",\"order\":\"little\",\"shape\":[6]}},\"selected\":{\"id\":\"2411\"},\"selection_policy\":{\"id\":\"2410\"}},\"id\":\"2397\",\"type\":\"ColumnDataSource\"},{\"attributes\":{},\"id\":\"2380\",\"type\":\"BasicTicker\"},{\"attributes\":{\"coordinates\":null,\"data_source\":{\"id\":\"2434\"},\"glyph\":{\"id\":\"2435\"},\"group\":null,\"hover_glyph\":null,\"muted_glyph\":{\"id\":\"2437\"},\"nonselection_glyph\":{\"id\":\"2436\"},\"view\":{\"id\":\"2439\"}},\"id\":\"2438\",\"type\":\"GlyphRenderer\"}],\"root_ids\":[\"2364\"]},\"title\":\"Bokeh Application\",\"version\":\"2.4.2\"}};\n  const render_items = [{\"docid\":\"86e29b64-b6c7-4fe6-941b-8275369f5746\",\"root_ids\":[\"2364\"],\"roots\":{\"2364\":\"142f953d-a061-4f0c-ab96-077b8a5fbf3c\"}}];\n  root.Bokeh.embed.embed_items_notebook(docs_json, render_items);\n\n  }\n  if (root.Bokeh !== undefined) {\n    embed_document(root);\n  } else {\n    let attempts = 0;\n    const timer = setInterval(function(root) {\n      if (root.Bokeh !== undefined) {\n        clearInterval(timer);\n        embed_document(root);\n      } else {\n        attempts++;\n        if (attempts > 100) {\n          clearInterval(timer);\n          console.log(\"Bokeh: ERROR: Unable to run BokehJS code because BokehJS library is missing\");\n        }\n      }\n    }, 10, root)\n  }\n})(window);",
      "application/vnd.bokehjs_exec.v0+json": ""
     },
     "metadata": {
      "application/vnd.bokehjs_exec.v0+json": {
       "id": "2364"
      }
     },
     "output_type": "display_data"
    }
   ],
   "source": [
    "sct2.legend.location = \"top_right\"\n",
    "sct2.legend.click_policy=\"mute\"\n",
    "show(sct2)"
   ]
  },
  {
   "cell_type": "markdown",
   "metadata": {},
   "source": [
    "## References"
   ]
  },
  {
   "cell_type": "markdown",
   "metadata": {},
   "source": [
    "- https://bokeh.org/\n",
    "- https://docs.bokeh.org/en/latest/docs/reference/models/glyphs/scatter.html\n",
    "- https://docs.bokeh.org/en/latest/docs/user_guide/interaction.html"
   ]
  }
 ],
 "metadata": {
  "interpreter": {
   "hash": "f6ce50080babb3e2c9dded3d344b1d82a47cf5d6f13f4c2ab5a2113adb8feaef"
  },
  "kernelspec": {
   "display_name": "Python 3.10.5 64-bit (windows store)",
   "language": "python",
   "name": "python3"
  },
  "language_info": {
   "codemirror_mode": {
    "name": "ipython",
    "version": 3
   },
   "file_extension": ".py",
   "mimetype": "text/x-python",
   "name": "python",
   "nbconvert_exporter": "python",
   "pygments_lexer": "ipython3",
   "version": "3.10.8"
  },
  "orig_nbformat": 4
 },
 "nbformat": 4,
 "nbformat_minor": 2
}
