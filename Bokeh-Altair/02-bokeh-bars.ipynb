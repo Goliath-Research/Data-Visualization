{
 "cells": [
  {
   "cell_type": "markdown",
   "metadata": {},
   "source": [
    "# Bar Plots with Bokeh"
   ]
  },
  {
   "cell_type": "code",
   "execution_count": 1,
   "metadata": {},
   "outputs": [],
   "source": [
    "import numpy as np\n",
    "import pandas as pd\n",
    "pd.set_option('display.max_columns', 10)"
   ]
  },
  {
   "cell_type": "code",
   "execution_count": 2,
   "metadata": {},
   "outputs": [
    {
     "data": {
      "text/html": [
       "\n",
       "    <div class=\"bk-root\">\n",
       "        <a href=\"https://bokeh.org\" target=\"_blank\" class=\"bk-logo bk-logo-small bk-logo-notebook\"></a>\n",
       "        <span id=\"1002\">Loading BokehJS ...</span>\n",
       "    </div>"
      ]
     },
     "metadata": {},
     "output_type": "display_data"
    },
    {
     "data": {
      "application/javascript": "\n(function(root) {\n  function now() {\n    return new Date();\n  }\n\n  const force = true;\n\n  if (typeof root._bokeh_onload_callbacks === \"undefined\" || force === true) {\n    root._bokeh_onload_callbacks = [];\n    root._bokeh_is_loading = undefined;\n  }\n\n  const JS_MIME_TYPE = 'application/javascript';\n  const HTML_MIME_TYPE = 'text/html';\n  const EXEC_MIME_TYPE = 'application/vnd.bokehjs_exec.v0+json';\n  const CLASS_NAME = 'output_bokeh rendered_html';\n\n  /**\n   * Render data to the DOM node\n   */\n  function render(props, node) {\n    const script = document.createElement(\"script\");\n    node.appendChild(script);\n  }\n\n  /**\n   * Handle when an output is cleared or removed\n   */\n  function handleClearOutput(event, handle) {\n    const cell = handle.cell;\n\n    const id = cell.output_area._bokeh_element_id;\n    const server_id = cell.output_area._bokeh_server_id;\n    // Clean up Bokeh references\n    if (id != null && id in Bokeh.index) {\n      Bokeh.index[id].model.document.clear();\n      delete Bokeh.index[id];\n    }\n\n    if (server_id !== undefined) {\n      // Clean up Bokeh references\n      const cmd_clean = \"from bokeh.io.state import curstate; print(curstate().uuid_to_server['\" + server_id + \"'].get_sessions()[0].document.roots[0]._id)\";\n      cell.notebook.kernel.execute(cmd_clean, {\n        iopub: {\n          output: function(msg) {\n            const id = msg.content.text.trim();\n            if (id in Bokeh.index) {\n              Bokeh.index[id].model.document.clear();\n              delete Bokeh.index[id];\n            }\n          }\n        }\n      });\n      // Destroy server and session\n      const cmd_destroy = \"import bokeh.io.notebook as ion; ion.destroy_server('\" + server_id + \"')\";\n      cell.notebook.kernel.execute(cmd_destroy);\n    }\n  }\n\n  /**\n   * Handle when a new output is added\n   */\n  function handleAddOutput(event, handle) {\n    const output_area = handle.output_area;\n    const output = handle.output;\n\n    // limit handleAddOutput to display_data with EXEC_MIME_TYPE content only\n    if ((output.output_type != \"display_data\") || (!Object.prototype.hasOwnProperty.call(output.data, EXEC_MIME_TYPE))) {\n      return\n    }\n\n    const toinsert = output_area.element.find(\".\" + CLASS_NAME.split(' ')[0]);\n\n    if (output.metadata[EXEC_MIME_TYPE][\"id\"] !== undefined) {\n      toinsert[toinsert.length - 1].firstChild.textContent = output.data[JS_MIME_TYPE];\n      // store reference to embed id on output_area\n      output_area._bokeh_element_id = output.metadata[EXEC_MIME_TYPE][\"id\"];\n    }\n    if (output.metadata[EXEC_MIME_TYPE][\"server_id\"] !== undefined) {\n      const bk_div = document.createElement(\"div\");\n      bk_div.innerHTML = output.data[HTML_MIME_TYPE];\n      const script_attrs = bk_div.children[0].attributes;\n      for (let i = 0; i < script_attrs.length; i++) {\n        toinsert[toinsert.length - 1].firstChild.setAttribute(script_attrs[i].name, script_attrs[i].value);\n        toinsert[toinsert.length - 1].firstChild.textContent = bk_div.children[0].textContent\n      }\n      // store reference to server id on output_area\n      output_area._bokeh_server_id = output.metadata[EXEC_MIME_TYPE][\"server_id\"];\n    }\n  }\n\n  function register_renderer(events, OutputArea) {\n\n    function append_mime(data, metadata, element) {\n      // create a DOM node to render to\n      const toinsert = this.create_output_subarea(\n        metadata,\n        CLASS_NAME,\n        EXEC_MIME_TYPE\n      );\n      this.keyboard_manager.register_events(toinsert);\n      // Render to node\n      const props = {data: data, metadata: metadata[EXEC_MIME_TYPE]};\n      render(props, toinsert[toinsert.length - 1]);\n      element.append(toinsert);\n      return toinsert\n    }\n\n    /* Handle when an output is cleared or removed */\n    events.on('clear_output.CodeCell', handleClearOutput);\n    events.on('delete.Cell', handleClearOutput);\n\n    /* Handle when a new output is added */\n    events.on('output_added.OutputArea', handleAddOutput);\n\n    /**\n     * Register the mime type and append_mime function with output_area\n     */\n    OutputArea.prototype.register_mime_type(EXEC_MIME_TYPE, append_mime, {\n      /* Is output safe? */\n      safe: true,\n      /* Index of renderer in `output_area.display_order` */\n      index: 0\n    });\n  }\n\n  // register the mime type if in Jupyter Notebook environment and previously unregistered\n  if (root.Jupyter !== undefined) {\n    const events = require('base/js/events');\n    const OutputArea = require('notebook/js/outputarea').OutputArea;\n\n    if (OutputArea.prototype.mime_types().indexOf(EXEC_MIME_TYPE) == -1) {\n      register_renderer(events, OutputArea);\n    }\n  }\n\n  \n  if (typeof (root._bokeh_timeout) === \"undefined\" || force === true) {\n    root._bokeh_timeout = Date.now() + 5000;\n    root._bokeh_failed_load = false;\n  }\n\n  const NB_LOAD_WARNING = {'data': {'text/html':\n     \"<div style='background-color: #fdd'>\\n\"+\n     \"<p>\\n\"+\n     \"BokehJS does not appear to have successfully loaded. If loading BokehJS from CDN, this \\n\"+\n     \"may be due to a slow or bad network connection. Possible fixes:\\n\"+\n     \"</p>\\n\"+\n     \"<ul>\\n\"+\n     \"<li>re-rerun `output_notebook()` to attempt to load from CDN again, or</li>\\n\"+\n     \"<li>use INLINE resources instead, as so:</li>\\n\"+\n     \"</ul>\\n\"+\n     \"<code>\\n\"+\n     \"from bokeh.resources import INLINE\\n\"+\n     \"output_notebook(resources=INLINE)\\n\"+\n     \"</code>\\n\"+\n     \"</div>\"}};\n\n  function display_loaded() {\n    const el = document.getElementById(\"1002\");\n    if (el != null) {\n      el.textContent = \"BokehJS is loading...\";\n    }\n    if (root.Bokeh !== undefined) {\n      if (el != null) {\n        el.textContent = \"BokehJS \" + root.Bokeh.version + \" successfully loaded.\";\n      }\n    } else if (Date.now() < root._bokeh_timeout) {\n      setTimeout(display_loaded, 100)\n    }\n  }\n\n\n  function run_callbacks() {\n    try {\n      root._bokeh_onload_callbacks.forEach(function(callback) {\n        if (callback != null)\n          callback();\n      });\n    } finally {\n      delete root._bokeh_onload_callbacks\n    }\n    console.debug(\"Bokeh: all callbacks have finished\");\n  }\n\n  function load_libs(css_urls, js_urls, callback) {\n    if (css_urls == null) css_urls = [];\n    if (js_urls == null) js_urls = [];\n\n    root._bokeh_onload_callbacks.push(callback);\n    if (root._bokeh_is_loading > 0) {\n      console.debug(\"Bokeh: BokehJS is being loaded, scheduling callback at\", now());\n      return null;\n    }\n    if (js_urls == null || js_urls.length === 0) {\n      run_callbacks();\n      return null;\n    }\n    console.debug(\"Bokeh: BokehJS not loaded, scheduling load and callback at\", now());\n    root._bokeh_is_loading = css_urls.length + js_urls.length;\n\n    function on_load() {\n      root._bokeh_is_loading--;\n      if (root._bokeh_is_loading === 0) {\n        console.debug(\"Bokeh: all BokehJS libraries/stylesheets loaded\");\n        run_callbacks()\n      }\n    }\n\n    function on_error(url) {\n      console.error(\"failed to load \" + url);\n    }\n\n    for (let i = 0; i < css_urls.length; i++) {\n      const url = css_urls[i];\n      const element = document.createElement(\"link\");\n      element.onload = on_load;\n      element.onerror = on_error.bind(null, url);\n      element.rel = \"stylesheet\";\n      element.type = \"text/css\";\n      element.href = url;\n      console.debug(\"Bokeh: injecting link tag for BokehJS stylesheet: \", url);\n      document.body.appendChild(element);\n    }\n\n    for (let i = 0; i < js_urls.length; i++) {\n      const url = js_urls[i];\n      const element = document.createElement('script');\n      element.onload = on_load;\n      element.onerror = on_error.bind(null, url);\n      element.async = false;\n      element.src = url;\n      console.debug(\"Bokeh: injecting script tag for BokehJS library: \", url);\n      document.head.appendChild(element);\n    }\n  };\n\n  function inject_raw_css(css) {\n    const element = document.createElement(\"style\");\n    element.appendChild(document.createTextNode(css));\n    document.body.appendChild(element);\n  }\n\n  \n  const js_urls = [\"https://cdn.bokeh.org/bokeh/release/bokeh-2.4.2.min.js\", \"https://cdn.bokeh.org/bokeh/release/bokeh-gl-2.4.2.min.js\", \"https://cdn.bokeh.org/bokeh/release/bokeh-widgets-2.4.2.min.js\", \"https://cdn.bokeh.org/bokeh/release/bokeh-tables-2.4.2.min.js\", \"https://cdn.bokeh.org/bokeh/release/bokeh-mathjax-2.4.2.min.js\"];\n  const css_urls = [];\n  \n\n  const inline_js = [\n    function(Bokeh) {\n      Bokeh.set_log_level(\"info\");\n    },\n    function(Bokeh) {\n    \n    \n    }\n  ];\n\n  function run_inline_js() {\n    \n    if (root.Bokeh !== undefined || force === true) {\n      \n    for (let i = 0; i < inline_js.length; i++) {\n      inline_js[i].call(root, root.Bokeh);\n    }\n    if (force === true) {\n        display_loaded();\n      }} else if (Date.now() < root._bokeh_timeout) {\n      setTimeout(run_inline_js, 100);\n    } else if (!root._bokeh_failed_load) {\n      console.log(\"Bokeh: BokehJS failed to load within specified timeout.\");\n      root._bokeh_failed_load = true;\n    } else if (force !== true) {\n      const cell = $(document.getElementById(\"1002\")).parents('.cell').data().cell;\n      cell.output_area.append_execute_result(NB_LOAD_WARNING)\n    }\n\n  }\n\n  if (root._bokeh_is_loading === 0) {\n    console.debug(\"Bokeh: BokehJS loaded, going straight to plotting\");\n    run_inline_js();\n  } else {\n    load_libs(css_urls, js_urls, function() {\n      console.debug(\"Bokeh: BokehJS plotting callback run at\", now());\n      run_inline_js();\n    });\n  }\n}(window));",
      "application/vnd.bokehjs_load.v0+json": ""
     },
     "metadata": {},
     "output_type": "display_data"
    }
   ],
   "source": [
    "from bokeh.io import show, output_notebook\n",
    "from bokeh.plotting import figure\n",
    "output_notebook();"
   ]
  },
  {
   "cell_type": "markdown",
   "metadata": {},
   "source": [
    "## Student Academics Performance Dataset"
   ]
  },
  {
   "cell_type": "markdown",
   "metadata": {},
   "source": [
    "Reading an `arff` file."
   ]
  },
  {
   "cell_type": "code",
   "execution_count": 3,
   "metadata": {},
   "outputs": [],
   "source": [
    "from io import StringIO\n",
    "import urllib.request\n",
    "from scipy.io.arff import loadarff"
   ]
  },
  {
   "cell_type": "code",
   "execution_count": 4,
   "metadata": {},
   "outputs": [],
   "source": [
    "stAcademic_url = \"https://archive.ics.uci.edu/ml/machine-learning-databases/00467/Sapfile1.arff\"\n",
    "resp = urllib.request.urlopen(stAcademic_url)"
   ]
  },
  {
   "cell_type": "code",
   "execution_count": 5,
   "metadata": {},
   "outputs": [],
   "source": [
    "data, meta = loadarff(StringIO(resp.read().decode('utf-8')))"
   ]
  },
  {
   "cell_type": "markdown",
   "metadata": {},
   "source": [
    "`data` contains the data and `meta` contains the metadata"
   ]
  },
  {
   "cell_type": "code",
   "execution_count": 6,
   "metadata": {},
   "outputs": [
    {
     "data": {
      "text/plain": [
       "Dataset: Sapfile1\n",
       "\tge's type is nominal, range is ('M', 'F')\n",
       "\tcst's type is nominal, range is ('G', 'ST', 'SC', 'OBC', 'MOBC')\n",
       "\ttnp's type is nominal, range is ('Best', 'Vg', 'Good', 'Pass', 'Fail')\n",
       "\ttwp's type is nominal, range is ('Best', 'Vg', 'Good', 'Pass', 'Fail')\n",
       "\tiap's type is nominal, range is ('Best', 'Vg', 'Good', 'Pass', 'Fail')\n",
       "\tesp's type is nominal, range is ('Best', 'Vg', 'Good', 'Pass', 'Fail')\n",
       "\tarr's type is nominal, range is ('Y', 'N')\n",
       "\tms's type is nominal, range is ('Married', 'Unmarried')\n",
       "\tls's type is nominal, range is ('T', 'V')\n",
       "\tas's type is nominal, range is ('Free', 'Paid')\n",
       "\tfmi's type is nominal, range is ('Vh', 'High', 'Am', 'Medium', 'Low')\n",
       "\tfs's type is nominal, range is ('Large', 'Average', 'Small')\n",
       "\tfq's type is nominal, range is ('Il', 'Um', '10', '12', 'Degree', 'Pg')\n",
       "\tmq's type is nominal, range is ('Il', 'Um', '10', '12', 'Degree', 'Pg')\n",
       "\tfo's type is nominal, range is ('Service', 'Business', 'Retired', 'Farmer', 'Others')\n",
       "\tmo's type is nominal, range is ('Service', 'Business', 'Retired', 'Housewife', 'Others')\n",
       "\tnf's type is nominal, range is ('Large', 'Average', 'Small')\n",
       "\tsh's type is nominal, range is ('Good', 'Average', 'Poor')\n",
       "\tss's type is nominal, range is ('Govt', 'Private')\n",
       "\tme's type is nominal, range is ('Eng', 'Asm', 'Hin', 'Ben')\n",
       "\ttt's type is nominal, range is ('Large', 'Average', 'Small')\n",
       "\tatd's type is nominal, range is ('Good', 'Average', 'Poor')"
      ]
     },
     "execution_count": 6,
     "metadata": {},
     "output_type": "execute_result"
    }
   ],
   "source": [
    "meta"
   ]
  },
  {
   "cell_type": "code",
   "execution_count": 7,
   "metadata": {},
   "outputs": [
    {
     "data": {
      "text/html": [
       "<div>\n",
       "<style scoped>\n",
       "    .dataframe tbody tr th:only-of-type {\n",
       "        vertical-align: middle;\n",
       "    }\n",
       "\n",
       "    .dataframe tbody tr th {\n",
       "        vertical-align: top;\n",
       "    }\n",
       "\n",
       "    .dataframe thead th {\n",
       "        text-align: right;\n",
       "    }\n",
       "</style>\n",
       "<table border=\"1\" class=\"dataframe\">\n",
       "  <thead>\n",
       "    <tr style=\"text-align: right;\">\n",
       "      <th></th>\n",
       "      <th>ge</th>\n",
       "      <th>cst</th>\n",
       "      <th>tnp</th>\n",
       "      <th>twp</th>\n",
       "      <th>iap</th>\n",
       "      <th>...</th>\n",
       "      <th>sh</th>\n",
       "      <th>ss</th>\n",
       "      <th>me</th>\n",
       "      <th>tt</th>\n",
       "      <th>atd</th>\n",
       "    </tr>\n",
       "  </thead>\n",
       "  <tbody>\n",
       "    <tr>\n",
       "      <th>0</th>\n",
       "      <td>b'F'</td>\n",
       "      <td>b'G'</td>\n",
       "      <td>b'Good'</td>\n",
       "      <td>b'Good'</td>\n",
       "      <td>b'Vg'</td>\n",
       "      <td>...</td>\n",
       "      <td>b'Poor'</td>\n",
       "      <td>b'Govt'</td>\n",
       "      <td>b'Asm'</td>\n",
       "      <td>b'Small'</td>\n",
       "      <td>b'Good'</td>\n",
       "    </tr>\n",
       "    <tr>\n",
       "      <th>1</th>\n",
       "      <td>b'M'</td>\n",
       "      <td>b'OBC'</td>\n",
       "      <td>b'Vg'</td>\n",
       "      <td>b'Vg'</td>\n",
       "      <td>b'Vg'</td>\n",
       "      <td>...</td>\n",
       "      <td>b'Poor'</td>\n",
       "      <td>b'Govt'</td>\n",
       "      <td>b'Asm'</td>\n",
       "      <td>b'Average'</td>\n",
       "      <td>b'Average'</td>\n",
       "    </tr>\n",
       "    <tr>\n",
       "      <th>2</th>\n",
       "      <td>b'F'</td>\n",
       "      <td>b'OBC'</td>\n",
       "      <td>b'Good'</td>\n",
       "      <td>b'Good'</td>\n",
       "      <td>b'Vg'</td>\n",
       "      <td>...</td>\n",
       "      <td>b'Average'</td>\n",
       "      <td>b'Govt'</td>\n",
       "      <td>b'Asm'</td>\n",
       "      <td>b'Large'</td>\n",
       "      <td>b'Good'</td>\n",
       "    </tr>\n",
       "  </tbody>\n",
       "</table>\n",
       "<p>3 rows × 22 columns</p>\n",
       "</div>"
      ],
      "text/plain": [
       "     ge     cst      tnp      twp    iap  ...          sh       ss      me  \\\n",
       "0  b'F'    b'G'  b'Good'  b'Good'  b'Vg'  ...     b'Poor'  b'Govt'  b'Asm'   \n",
       "1  b'M'  b'OBC'    b'Vg'    b'Vg'  b'Vg'  ...     b'Poor'  b'Govt'  b'Asm'   \n",
       "2  b'F'  b'OBC'  b'Good'  b'Good'  b'Vg'  ...  b'Average'  b'Govt'  b'Asm'   \n",
       "\n",
       "           tt         atd  \n",
       "0    b'Small'     b'Good'  \n",
       "1  b'Average'  b'Average'  \n",
       "2    b'Large'     b'Good'  \n",
       "\n",
       "[3 rows x 22 columns]"
      ]
     },
     "execution_count": 7,
     "metadata": {},
     "output_type": "execute_result"
    }
   ],
   "source": [
    "columns_name = list(meta._attributes.keys())\n",
    "df = pd.DataFrame(data, columns=columns_name)\n",
    "df.head(3)"
   ]
  },
  {
   "cell_type": "markdown",
   "metadata": {},
   "source": [
    "In some cases, the integer columns are read as objects; for instance, instead of 2, we have b'2'. We go over the object columns and decode them again to solve this problem.\n",
    "\n",
    "Decoding the object columns"
   ]
  },
  {
   "cell_type": "code",
   "execution_count": 8,
   "metadata": {},
   "outputs": [
    {
     "data": {
      "text/html": [
       "<div>\n",
       "<style scoped>\n",
       "    .dataframe tbody tr th:only-of-type {\n",
       "        vertical-align: middle;\n",
       "    }\n",
       "\n",
       "    .dataframe tbody tr th {\n",
       "        vertical-align: top;\n",
       "    }\n",
       "\n",
       "    .dataframe thead th {\n",
       "        text-align: right;\n",
       "    }\n",
       "</style>\n",
       "<table border=\"1\" class=\"dataframe\">\n",
       "  <thead>\n",
       "    <tr style=\"text-align: right;\">\n",
       "      <th></th>\n",
       "      <th>ge</th>\n",
       "      <th>cst</th>\n",
       "      <th>tnp</th>\n",
       "      <th>twp</th>\n",
       "      <th>iap</th>\n",
       "      <th>...</th>\n",
       "      <th>sh</th>\n",
       "      <th>ss</th>\n",
       "      <th>me</th>\n",
       "      <th>tt</th>\n",
       "      <th>atd</th>\n",
       "    </tr>\n",
       "  </thead>\n",
       "  <tbody>\n",
       "    <tr>\n",
       "      <th>0</th>\n",
       "      <td>F</td>\n",
       "      <td>G</td>\n",
       "      <td>Good</td>\n",
       "      <td>Good</td>\n",
       "      <td>Vg</td>\n",
       "      <td>...</td>\n",
       "      <td>Poor</td>\n",
       "      <td>Govt</td>\n",
       "      <td>Asm</td>\n",
       "      <td>Small</td>\n",
       "      <td>Good</td>\n",
       "    </tr>\n",
       "    <tr>\n",
       "      <th>1</th>\n",
       "      <td>M</td>\n",
       "      <td>OBC</td>\n",
       "      <td>Vg</td>\n",
       "      <td>Vg</td>\n",
       "      <td>Vg</td>\n",
       "      <td>...</td>\n",
       "      <td>Poor</td>\n",
       "      <td>Govt</td>\n",
       "      <td>Asm</td>\n",
       "      <td>Average</td>\n",
       "      <td>Average</td>\n",
       "    </tr>\n",
       "    <tr>\n",
       "      <th>2</th>\n",
       "      <td>F</td>\n",
       "      <td>OBC</td>\n",
       "      <td>Good</td>\n",
       "      <td>Good</td>\n",
       "      <td>Vg</td>\n",
       "      <td>...</td>\n",
       "      <td>Average</td>\n",
       "      <td>Govt</td>\n",
       "      <td>Asm</td>\n",
       "      <td>Large</td>\n",
       "      <td>Good</td>\n",
       "    </tr>\n",
       "    <tr>\n",
       "      <th>3</th>\n",
       "      <td>M</td>\n",
       "      <td>MOBC</td>\n",
       "      <td>Pass</td>\n",
       "      <td>Good</td>\n",
       "      <td>Vg</td>\n",
       "      <td>...</td>\n",
       "      <td>Poor</td>\n",
       "      <td>Govt</td>\n",
       "      <td>Asm</td>\n",
       "      <td>Average</td>\n",
       "      <td>Average</td>\n",
       "    </tr>\n",
       "    <tr>\n",
       "      <th>4</th>\n",
       "      <td>M</td>\n",
       "      <td>G</td>\n",
       "      <td>Good</td>\n",
       "      <td>Good</td>\n",
       "      <td>Vg</td>\n",
       "      <td>...</td>\n",
       "      <td>Poor</td>\n",
       "      <td>Private</td>\n",
       "      <td>Asm</td>\n",
       "      <td>Small</td>\n",
       "      <td>Good</td>\n",
       "    </tr>\n",
       "  </tbody>\n",
       "</table>\n",
       "<p>5 rows × 22 columns</p>\n",
       "</div>"
      ],
      "text/plain": [
       "  ge   cst   tnp   twp iap  ...       sh       ss   me       tt      atd\n",
       "0  F     G  Good  Good  Vg  ...     Poor     Govt  Asm    Small     Good\n",
       "1  M   OBC    Vg    Vg  Vg  ...     Poor     Govt  Asm  Average  Average\n",
       "2  F   OBC  Good  Good  Vg  ...  Average     Govt  Asm    Large     Good\n",
       "3  M  MOBC  Pass  Good  Vg  ...     Poor     Govt  Asm  Average  Average\n",
       "4  M     G  Good  Good  Vg  ...     Poor  Private  Asm    Small     Good\n",
       "\n",
       "[5 rows x 22 columns]"
      ]
     },
     "execution_count": 8,
     "metadata": {},
     "output_type": "execute_result"
    }
   ],
   "source": [
    "# decoding the object columns\n",
    "for c in df.columns:\n",
    "    if df[c].dtype == 'object':\n",
    "        df[c] = df[c].str.decode('UTF-8')\n",
    "df.head()"
   ]
  },
  {
   "cell_type": "markdown",
   "metadata": {},
   "source": [
    "## Bar Charts"
   ]
  },
  {
   "cell_type": "markdown",
   "metadata": {},
   "source": [
    "Let's work with the variable: \n",
    "- `fo`: Father Occupation (Service, Business, Retired, Farmer, Others)  "
   ]
  },
  {
   "cell_type": "code",
   "execution_count": 9,
   "metadata": {},
   "outputs": [
    {
     "data": {
      "text/plain": [
       "Service     38\n",
       "Business    34\n",
       "Others      29\n",
       "Farmer      27\n",
       "Retired      3\n",
       "Name: fo, dtype: int64"
      ]
     },
     "execution_count": 9,
     "metadata": {},
     "output_type": "execute_result"
    }
   ],
   "source": [
    "fo = df.fo.value_counts()\n",
    "fo"
   ]
  },
  {
   "cell_type": "markdown",
   "metadata": {},
   "source": [
    "### Vertical Bar Chart"
   ]
  },
  {
   "cell_type": "markdown",
   "metadata": {},
   "source": [
    "Vertival bar charts can be drawn using the `vbar()` method. We will use the `ColumnDataSource` object for feeding the data to the graph.\n",
    "\n",
    "The `ColumnDataSource` object provides the data to the glyphs of your graph. It offers advanced capabilities, such as sharing data between plots, filtering, etc."
   ]
  },
  {
   "cell_type": "code",
   "execution_count": 10,
   "metadata": {},
   "outputs": [],
   "source": [
    "from bokeh.models   import ColumnDataSource\n",
    "from bokeh.palettes import Greens, Spectral"
   ]
  },
  {
   "cell_type": "markdown",
   "metadata": {},
   "source": [
    "Defining sourcef with the father data"
   ]
  },
  {
   "cell_type": "code",
   "execution_count": 11,
   "metadata": {},
   "outputs": [],
   "source": [
    "# Defining sourcef with the father data\n",
    "sourcef = ColumnDataSource(data=dict(values=list(fo.index), counts=fo, color=Greens[len(fo)]))"
   ]
  },
  {
   "cell_type": "markdown",
   "metadata": {},
   "source": [
    "Set the `x_range` to the list of categories"
   ]
  },
  {
   "cell_type": "code",
   "execution_count": 12,
   "metadata": {},
   "outputs": [],
   "source": [
    "# Set the x_range to the list of categories\n",
    "pf_v = figure(x_range=list(fo.index), plot_height=350, title=\"Father Occupation\")"
   ]
  },
  {
   "cell_type": "code",
   "execution_count": 13,
   "metadata": {},
   "outputs": [
    {
     "data": {
      "text/html": [
       "\n",
       "\n",
       "\n",
       "\n",
       "\n",
       "\n",
       "  <div class=\"bk-root\" id=\"58662369-981d-44d1-99a2-8b2aeb99de89\" data-root-id=\"1004\"></div>\n"
      ]
     },
     "metadata": {},
     "output_type": "display_data"
    },
    {
     "data": {
      "application/javascript": "(function(root) {\n  function embed_document(root) {\n    \n  const docs_json = {\"e98c40e3-bf20-42ba-a38f-2282995b766f\":{\"defs\":[],\"roots\":{\"references\":[{\"attributes\":{\"below\":[{\"id\":\"1015\"}],\"center\":[{\"id\":\"1017\"},{\"id\":\"1021\"}],\"height\":350,\"left\":[{\"id\":\"1018\"}],\"renderers\":[{\"id\":\"1040\"}],\"title\":{\"id\":\"1005\"},\"toolbar\":{\"id\":\"1029\"},\"x_range\":{\"id\":\"1007\"},\"x_scale\":{\"id\":\"1011\"},\"y_range\":{\"id\":\"1009\"},\"y_scale\":{\"id\":\"1013\"}},\"id\":\"1004\",\"subtype\":\"Figure\",\"type\":\"Plot\"},{\"attributes\":{},\"id\":\"1050\",\"type\":\"Selection\"},{\"attributes\":{},\"id\":\"1047\",\"type\":\"CategoricalTickFormatter\"},{\"attributes\":{\"coordinates\":null,\"group\":null,\"text\":\"Father Occupation\"},\"id\":\"1005\",\"type\":\"Title\"},{\"attributes\":{},\"id\":\"1026\",\"type\":\"ResetTool\"},{\"attributes\":{},\"id\":\"1023\",\"type\":\"WheelZoomTool\"},{\"attributes\":{},\"id\":\"1048\",\"type\":\"AllLabels\"},{\"attributes\":{},\"id\":\"1019\",\"type\":\"BasicTicker\"},{\"attributes\":{\"axis\":{\"id\":\"1018\"},\"coordinates\":null,\"dimension\":1,\"group\":null,\"ticker\":null},\"id\":\"1021\",\"type\":\"Grid\"},{\"attributes\":{\"coordinates\":null,\"formatter\":{\"id\":\"1047\"},\"group\":null,\"major_label_policy\":{\"id\":\"1048\"},\"ticker\":{\"id\":\"1016\"}},\"id\":\"1015\",\"type\":\"CategoricalAxis\"},{\"attributes\":{},\"id\":\"1025\",\"type\":\"SaveTool\"},{\"attributes\":{\"fill_alpha\":{\"value\":0.1},\"fill_color\":{\"value\":\"#1f77b4\"},\"hatch_alpha\":{\"value\":0.1},\"line_alpha\":{\"value\":0.1},\"line_color\":{\"value\":\"#1f77b4\"},\"top\":{\"field\":\"counts\"},\"width\":{\"value\":0.8},\"x\":{\"field\":\"values\"}},\"id\":\"1038\",\"type\":\"VBar\"},{\"attributes\":{},\"id\":\"1027\",\"type\":\"HelpTool\"},{\"attributes\":{\"fill_alpha\":{\"value\":0.2},\"fill_color\":{\"value\":\"#1f77b4\"},\"hatch_alpha\":{\"value\":0.2},\"line_alpha\":{\"value\":0.2},\"line_color\":{\"value\":\"#1f77b4\"},\"top\":{\"field\":\"counts\"},\"width\":{\"value\":0.8},\"x\":{\"field\":\"values\"}},\"id\":\"1039\",\"type\":\"VBar\"},{\"attributes\":{},\"id\":\"1011\",\"type\":\"CategoricalScale\"},{\"attributes\":{\"factors\":[\"Service\",\"Business\",\"Others\",\"Farmer\",\"Retired\"]},\"id\":\"1007\",\"type\":\"FactorRange\"},{\"attributes\":{},\"id\":\"1016\",\"type\":\"CategoricalTicker\"},{\"attributes\":{\"overlay\":{\"id\":\"1028\"}},\"id\":\"1024\",\"type\":\"BoxZoomTool\"},{\"attributes\":{\"source\":{\"id\":\"1003\"}},\"id\":\"1041\",\"type\":\"CDSView\"},{\"attributes\":{\"coordinates\":null,\"data_source\":{\"id\":\"1003\"},\"glyph\":{\"id\":\"1037\"},\"group\":null,\"hover_glyph\":null,\"muted_glyph\":{\"id\":\"1039\"},\"nonselection_glyph\":{\"id\":\"1038\"},\"view\":{\"id\":\"1041\"}},\"id\":\"1040\",\"type\":\"GlyphRenderer\"},{\"attributes\":{\"axis\":{\"id\":\"1015\"},\"coordinates\":null,\"group\":null,\"ticker\":null},\"id\":\"1017\",\"type\":\"Grid\"},{\"attributes\":{\"coordinates\":null,\"formatter\":{\"id\":\"1044\"},\"group\":null,\"major_label_policy\":{\"id\":\"1045\"},\"ticker\":{\"id\":\"1019\"}},\"id\":\"1018\",\"type\":\"LinearAxis\"},{\"attributes\":{},\"id\":\"1013\",\"type\":\"LinearScale\"},{\"attributes\":{\"fill_color\":{\"value\":\"#1f77b4\"},\"line_color\":{\"value\":\"#1f77b4\"},\"top\":{\"field\":\"counts\"},\"width\":{\"value\":0.8},\"x\":{\"field\":\"values\"}},\"id\":\"1037\",\"type\":\"VBar\"},{\"attributes\":{\"data\":{\"color\":[\"#006d2c\",\"#31a354\",\"#74c476\",\"#bae4b3\",\"#edf8e9\"],\"counts\":[38,34,29,27,3],\"values\":[\"Service\",\"Business\",\"Others\",\"Farmer\",\"Retired\"]},\"selected\":{\"id\":\"1050\"},\"selection_policy\":{\"id\":\"1049\"}},\"id\":\"1003\",\"type\":\"ColumnDataSource\"},{\"attributes\":{},\"id\":\"1045\",\"type\":\"AllLabels\"},{\"attributes\":{\"tools\":[{\"id\":\"1022\"},{\"id\":\"1023\"},{\"id\":\"1024\"},{\"id\":\"1025\"},{\"id\":\"1026\"},{\"id\":\"1027\"}]},\"id\":\"1029\",\"type\":\"Toolbar\"},{\"attributes\":{},\"id\":\"1049\",\"type\":\"UnionRenderers\"},{\"attributes\":{\"bottom_units\":\"screen\",\"coordinates\":null,\"fill_alpha\":0.5,\"fill_color\":\"lightgrey\",\"group\":null,\"left_units\":\"screen\",\"level\":\"overlay\",\"line_alpha\":1.0,\"line_color\":\"black\",\"line_dash\":[4,4],\"line_width\":2,\"right_units\":\"screen\",\"syncable\":false,\"top_units\":\"screen\"},\"id\":\"1028\",\"type\":\"BoxAnnotation\"},{\"attributes\":{},\"id\":\"1009\",\"type\":\"DataRange1d\"},{\"attributes\":{},\"id\":\"1044\",\"type\":\"BasicTickFormatter\"},{\"attributes\":{},\"id\":\"1022\",\"type\":\"PanTool\"}],\"root_ids\":[\"1004\"]},\"title\":\"Bokeh Application\",\"version\":\"2.4.2\"}};\n  const render_items = [{\"docid\":\"e98c40e3-bf20-42ba-a38f-2282995b766f\",\"root_ids\":[\"1004\"],\"roots\":{\"1004\":\"58662369-981d-44d1-99a2-8b2aeb99de89\"}}];\n  root.Bokeh.embed.embed_items_notebook(docs_json, render_items);\n\n  }\n  if (root.Bokeh !== undefined) {\n    embed_document(root);\n  } else {\n    let attempts = 0;\n    const timer = setInterval(function(root) {\n      if (root.Bokeh !== undefined) {\n        clearInterval(timer);\n        embed_document(root);\n      } else {\n        attempts++;\n        if (attempts > 100) {\n          clearInterval(timer);\n          console.log(\"Bokeh: ERROR: Unable to run BokehJS code because BokehJS library is missing\");\n        }\n      }\n    }, 10, root)\n  }\n})(window);",
      "application/vnd.bokehjs_exec.v0+json": ""
     },
     "metadata": {
      "application/vnd.bokehjs_exec.v0+json": {
       "id": "1004"
      }
     },
     "output_type": "display_data"
    }
   ],
   "source": [
    "pf_v.vbar(x='values', top='counts', width=0.8, source=sourcef)\n",
    "show(pf_v)"
   ]
  },
  {
   "cell_type": "markdown",
   "metadata": {},
   "source": [
    "Adding `color` and the legend "
   ]
  },
  {
   "cell_type": "code",
   "execution_count": 14,
   "metadata": {},
   "outputs": [
    {
     "data": {
      "text/html": [
       "\n",
       "\n",
       "\n",
       "\n",
       "\n",
       "\n",
       "  <div class=\"bk-root\" id=\"292e88ce-348b-4295-8892-bd4043f5cbfc\" data-root-id=\"1004\"></div>\n"
      ]
     },
     "metadata": {},
     "output_type": "display_data"
    },
    {
     "data": {
      "application/javascript": "(function(root) {\n  function embed_document(root) {\n    \n  const docs_json = {\"959ee8ff-7af7-422a-a11f-5393cca9f7a6\":{\"defs\":[],\"roots\":{\"references\":[{\"attributes\":{\"below\":[{\"id\":\"1015\"}],\"center\":[{\"id\":\"1017\"},{\"id\":\"1021\"},{\"id\":\"1128\"}],\"height\":350,\"left\":[{\"id\":\"1018\"}],\"renderers\":[{\"id\":\"1040\"},{\"id\":\"1106\"}],\"title\":{\"id\":\"1005\"},\"toolbar\":{\"id\":\"1029\"},\"x_range\":{\"id\":\"1007\"},\"x_scale\":{\"id\":\"1011\"},\"y_range\":{\"id\":\"1009\"},\"y_scale\":{\"id\":\"1013\"}},\"id\":\"1004\",\"subtype\":\"Figure\",\"type\":\"Plot\"},{\"attributes\":{},\"id\":\"1050\",\"type\":\"Selection\"},{\"attributes\":{},\"id\":\"1047\",\"type\":\"CategoricalTickFormatter\"},{\"attributes\":{\"coordinates\":null,\"data_source\":{\"id\":\"1003\"},\"glyph\":{\"id\":\"1103\"},\"group\":null,\"hover_glyph\":null,\"muted_glyph\":{\"id\":\"1105\"},\"nonselection_glyph\":{\"id\":\"1104\"},\"view\":{\"id\":\"1107\"}},\"id\":\"1106\",\"type\":\"GlyphRenderer\"},{\"attributes\":{\"coordinates\":null,\"group\":null,\"text\":\"Father Occupation\"},\"id\":\"1005\",\"type\":\"Title\"},{\"attributes\":{},\"id\":\"1026\",\"type\":\"ResetTool\"},{\"attributes\":{},\"id\":\"1023\",\"type\":\"WheelZoomTool\"},{\"attributes\":{},\"id\":\"1048\",\"type\":\"AllLabels\"},{\"attributes\":{},\"id\":\"1019\",\"type\":\"BasicTicker\"},{\"attributes\":{\"axis\":{\"id\":\"1018\"},\"coordinates\":null,\"dimension\":1,\"group\":null,\"ticker\":null},\"id\":\"1021\",\"type\":\"Grid\"},{\"attributes\":{\"coordinates\":null,\"formatter\":{\"id\":\"1047\"},\"group\":null,\"major_label_policy\":{\"id\":\"1048\"},\"ticker\":{\"id\":\"1016\"}},\"id\":\"1015\",\"type\":\"CategoricalAxis\"},{\"attributes\":{},\"id\":\"1025\",\"type\":\"SaveTool\"},{\"attributes\":{\"fill_alpha\":{\"value\":0.1},\"fill_color\":{\"value\":\"#1f77b4\"},\"hatch_alpha\":{\"value\":0.1},\"line_alpha\":{\"value\":0.1},\"line_color\":{\"value\":\"#1f77b4\"},\"top\":{\"field\":\"counts\"},\"width\":{\"value\":0.8},\"x\":{\"field\":\"values\"}},\"id\":\"1038\",\"type\":\"VBar\"},{\"attributes\":{},\"id\":\"1027\",\"type\":\"HelpTool\"},{\"attributes\":{\"fill_alpha\":{\"value\":0.2},\"fill_color\":{\"value\":\"#1f77b4\"},\"hatch_alpha\":{\"value\":0.2},\"line_alpha\":{\"value\":0.2},\"line_color\":{\"value\":\"#1f77b4\"},\"top\":{\"field\":\"counts\"},\"width\":{\"value\":0.8},\"x\":{\"field\":\"values\"}},\"id\":\"1039\",\"type\":\"VBar\"},{\"attributes\":{},\"id\":\"1011\",\"type\":\"CategoricalScale\"},{\"attributes\":{\"factors\":[\"Service\",\"Business\",\"Others\",\"Farmer\",\"Retired\"]},\"id\":\"1007\",\"type\":\"FactorRange\"},{\"attributes\":{},\"id\":\"1016\",\"type\":\"CategoricalTicker\"},{\"attributes\":{\"overlay\":{\"id\":\"1028\"}},\"id\":\"1024\",\"type\":\"BoxZoomTool\"},{\"attributes\":{\"source\":{\"id\":\"1003\"}},\"id\":\"1041\",\"type\":\"CDSView\"},{\"attributes\":{\"coordinates\":null,\"data_source\":{\"id\":\"1003\"},\"glyph\":{\"id\":\"1037\"},\"group\":null,\"hover_glyph\":null,\"muted_glyph\":{\"id\":\"1039\"},\"nonselection_glyph\":{\"id\":\"1038\"},\"view\":{\"id\":\"1041\"}},\"id\":\"1040\",\"type\":\"GlyphRenderer\"},{\"attributes\":{},\"id\":\"1009\",\"type\":\"DataRange1d\"},{\"attributes\":{\"fill_color\":{\"field\":\"color\"},\"hatch_color\":{\"field\":\"color\"},\"line_color\":{\"field\":\"color\"},\"top\":{\"field\":\"counts\"},\"width\":{\"value\":0.8},\"x\":{\"field\":\"values\"}},\"id\":\"1103\",\"type\":\"VBar\"},{\"attributes\":{\"fill_alpha\":{\"value\":0.1},\"fill_color\":{\"field\":\"color\"},\"hatch_alpha\":{\"value\":0.1},\"hatch_color\":{\"field\":\"color\"},\"line_alpha\":{\"value\":0.1},\"line_color\":{\"field\":\"color\"},\"top\":{\"field\":\"counts\"},\"width\":{\"value\":0.8},\"x\":{\"field\":\"values\"}},\"id\":\"1104\",\"type\":\"VBar\"},{\"attributes\":{\"axis\":{\"id\":\"1015\"},\"coordinates\":null,\"group\":null,\"ticker\":null},\"id\":\"1017\",\"type\":\"Grid\"},{\"attributes\":{\"coordinates\":null,\"formatter\":{\"id\":\"1044\"},\"group\":null,\"major_label_policy\":{\"id\":\"1045\"},\"ticker\":{\"id\":\"1019\"}},\"id\":\"1018\",\"type\":\"LinearAxis\"},{\"attributes\":{},\"id\":\"1013\",\"type\":\"LinearScale\"},{\"attributes\":{\"fill_color\":{\"value\":\"#1f77b4\"},\"line_color\":{\"value\":\"#1f77b4\"},\"top\":{\"field\":\"counts\"},\"width\":{\"value\":0.8},\"x\":{\"field\":\"values\"}},\"id\":\"1037\",\"type\":\"VBar\"},{\"attributes\":{},\"id\":\"1022\",\"type\":\"PanTool\"},{\"attributes\":{\"data\":{\"color\":[\"#006d2c\",\"#31a354\",\"#74c476\",\"#bae4b3\",\"#edf8e9\"],\"counts\":[38,34,29,27,3],\"values\":[\"Service\",\"Business\",\"Others\",\"Farmer\",\"Retired\"]},\"selected\":{\"id\":\"1050\"},\"selection_policy\":{\"id\":\"1049\"}},\"id\":\"1003\",\"type\":\"ColumnDataSource\"},{\"attributes\":{\"label\":{\"field\":\"values\"},\"renderers\":[{\"id\":\"1106\"}]},\"id\":\"1139\",\"type\":\"LegendItem\"},{\"attributes\":{},\"id\":\"1045\",\"type\":\"AllLabels\"},{\"attributes\":{\"tools\":[{\"id\":\"1022\"},{\"id\":\"1023\"},{\"id\":\"1024\"},{\"id\":\"1025\"},{\"id\":\"1026\"},{\"id\":\"1027\"}]},\"id\":\"1029\",\"type\":\"Toolbar\"},{\"attributes\":{},\"id\":\"1049\",\"type\":\"UnionRenderers\"},{\"attributes\":{\"bottom_units\":\"screen\",\"coordinates\":null,\"fill_alpha\":0.5,\"fill_color\":\"lightgrey\",\"group\":null,\"left_units\":\"screen\",\"level\":\"overlay\",\"line_alpha\":1.0,\"line_color\":\"black\",\"line_dash\":[4,4],\"line_width\":2,\"right_units\":\"screen\",\"syncable\":false,\"top_units\":\"screen\"},\"id\":\"1028\",\"type\":\"BoxAnnotation\"},{\"attributes\":{\"fill_alpha\":{\"value\":0.2},\"fill_color\":{\"field\":\"color\"},\"hatch_alpha\":{\"value\":0.2},\"hatch_color\":{\"field\":\"color\"},\"line_alpha\":{\"value\":0.2},\"line_color\":{\"field\":\"color\"},\"top\":{\"field\":\"counts\"},\"width\":{\"value\":0.8},\"x\":{\"field\":\"values\"}},\"id\":\"1105\",\"type\":\"VBar\"},{\"attributes\":{\"coordinates\":null,\"group\":null,\"items\":[{\"id\":\"1139\"}]},\"id\":\"1128\",\"type\":\"Legend\"},{\"attributes\":{},\"id\":\"1044\",\"type\":\"BasicTickFormatter\"},{\"attributes\":{\"source\":{\"id\":\"1003\"}},\"id\":\"1107\",\"type\":\"CDSView\"}],\"root_ids\":[\"1004\"]},\"title\":\"Bokeh Application\",\"version\":\"2.4.2\"}};\n  const render_items = [{\"docid\":\"959ee8ff-7af7-422a-a11f-5393cca9f7a6\",\"root_ids\":[\"1004\"],\"roots\":{\"1004\":\"292e88ce-348b-4295-8892-bd4043f5cbfc\"}}];\n  root.Bokeh.embed.embed_items_notebook(docs_json, render_items);\n\n  }\n  if (root.Bokeh !== undefined) {\n    embed_document(root);\n  } else {\n    let attempts = 0;\n    const timer = setInterval(function(root) {\n      if (root.Bokeh !== undefined) {\n        clearInterval(timer);\n        embed_document(root);\n      } else {\n        attempts++;\n        if (attempts > 100) {\n          clearInterval(timer);\n          console.log(\"Bokeh: ERROR: Unable to run BokehJS code because BokehJS library is missing\");\n        }\n      }\n    }, 10, root)\n  }\n})(window);",
      "application/vnd.bokehjs_exec.v0+json": ""
     },
     "metadata": {
      "application/vnd.bokehjs_exec.v0+json": {
       "id": "1004"
      }
     },
     "output_type": "display_data"
    }
   ],
   "source": [
    "pf_v.vbar(x='values', top='counts', width=0.8, color='color', legend_field='values', source=sourcef)\n",
    "show(pf_v)"
   ]
  },
  {
   "cell_type": "markdown",
   "metadata": {},
   "source": [
    "Printing `sourcef.data`:"
   ]
  },
  {
   "cell_type": "code",
   "execution_count": 15,
   "metadata": {},
   "outputs": [
    {
     "name": "stdout",
     "output_type": "stream",
     "text": [
      "{'values': ['Service', 'Business', 'Others', 'Farmer', 'Retired'], 'counts': Service     38\n",
      "Business    34\n",
      "Others      29\n",
      "Farmer      27\n",
      "Retired      3\n",
      "Name: fo, dtype: int64, 'color': ('#006d2c', '#31a354', '#74c476', '#bae4b3', '#edf8e9')}\n"
     ]
    }
   ],
   "source": [
    "print(sourcef.data)"
   ]
  },
  {
   "cell_type": "markdown",
   "metadata": {},
   "source": [
    "Each row in the `Greens` palette contains a collection (tuples) of colors:"
   ]
  },
  {
   "cell_type": "code",
   "execution_count": 16,
   "metadata": {},
   "outputs": [
    {
     "data": {
      "text/plain": [
       "{3: ('#31a354', '#a1d99b', '#e5f5e0'),\n",
       " 4: ('#238b45', '#74c476', '#bae4b3', '#edf8e9'),\n",
       " 5: ('#006d2c', '#31a354', '#74c476', '#bae4b3', '#edf8e9'),\n",
       " 6: ('#006d2c', '#31a354', '#74c476', '#a1d99b', '#c7e9c0', '#edf8e9'),\n",
       " 7: ('#005a32',\n",
       "  '#238b45',\n",
       "  '#41ab5d',\n",
       "  '#74c476',\n",
       "  '#a1d99b',\n",
       "  '#c7e9c0',\n",
       "  '#edf8e9'),\n",
       " 8: ('#005a32',\n",
       "  '#238b45',\n",
       "  '#41ab5d',\n",
       "  '#74c476',\n",
       "  '#a1d99b',\n",
       "  '#c7e9c0',\n",
       "  '#e5f5e0',\n",
       "  '#f7fcf5'),\n",
       " 9: ('#00441b',\n",
       "  '#006d2c',\n",
       "  '#238b45',\n",
       "  '#41ab5d',\n",
       "  '#74c476',\n",
       "  '#a1d99b',\n",
       "  '#c7e9c0',\n",
       "  '#e5f5e0',\n",
       "  '#f7fcf5'),\n",
       " 256: ('#00441b',\n",
       "  '#00451c',\n",
       "  '#00471c',\n",
       "  '#00481d',\n",
       "  '#00491d',\n",
       "  '#004a1e',\n",
       "  '#004c1e',\n",
       "  '#004d1f',\n",
       "  '#004e1f',\n",
       "  '#005020',\n",
       "  '#005120',\n",
       "  '#005221',\n",
       "  '#005321',\n",
       "  '#005522',\n",
       "  '#005622',\n",
       "  '#005723',\n",
       "  '#005924',\n",
       "  '#005a24',\n",
       "  '#005b25',\n",
       "  '#005c25',\n",
       "  '#005e26',\n",
       "  '#005f26',\n",
       "  '#006027',\n",
       "  '#006227',\n",
       "  '#006328',\n",
       "  '#006428',\n",
       "  '#006529',\n",
       "  '#006729',\n",
       "  '#00682a',\n",
       "  '#00692a',\n",
       "  '#006b2b',\n",
       "  '#006c2c',\n",
       "  '#006d2c',\n",
       "  '#016e2d',\n",
       "  '#026f2e',\n",
       "  '#03702e',\n",
       "  '#05712f',\n",
       "  '#067230',\n",
       "  '#077331',\n",
       "  '#087432',\n",
       "  '#097532',\n",
       "  '#0a7633',\n",
       "  '#0b7734',\n",
       "  '#0c7735',\n",
       "  '#0d7836',\n",
       "  '#0e7936',\n",
       "  '#107a37',\n",
       "  '#117b38',\n",
       "  '#127c39',\n",
       "  '#137d39',\n",
       "  '#147e3a',\n",
       "  '#157f3b',\n",
       "  '#16803c',\n",
       "  '#17813d',\n",
       "  '#18823d',\n",
       "  '#19833e',\n",
       "  '#1a843f',\n",
       "  '#1c8540',\n",
       "  '#1d8640',\n",
       "  '#1e8741',\n",
       "  '#1f8742',\n",
       "  '#208843',\n",
       "  '#218944',\n",
       "  '#228a44',\n",
       "  '#238b45',\n",
       "  '#248c46',\n",
       "  '#258d47',\n",
       "  '#268e47',\n",
       "  '#278f48',\n",
       "  '#289049',\n",
       "  '#29914a',\n",
       "  '#2a924a',\n",
       "  '#2b934b',\n",
       "  '#2c944c',\n",
       "  '#2d954d',\n",
       "  '#2e964d',\n",
       "  '#2f974e',\n",
       "  '#2f984f',\n",
       "  '#309950',\n",
       "  '#319a50',\n",
       "  '#329b51',\n",
       "  '#339c52',\n",
       "  '#349d53',\n",
       "  '#359e53',\n",
       "  '#369f54',\n",
       "  '#37a055',\n",
       "  '#38a156',\n",
       "  '#39a257',\n",
       "  '#3aa357',\n",
       "  '#3ba458',\n",
       "  '#3ca559',\n",
       "  '#3da65a',\n",
       "  '#3ea75a',\n",
       "  '#3fa85b',\n",
       "  '#3fa95c',\n",
       "  '#40aa5d',\n",
       "  '#42ab5d',\n",
       "  '#43ac5e',\n",
       "  '#45ad5f',\n",
       "  '#46ae60',\n",
       "  '#48ae60',\n",
       "  '#4aaf61',\n",
       "  '#4bb062',\n",
       "  '#4db163',\n",
       "  '#4eb264',\n",
       "  '#50b264',\n",
       "  '#52b365',\n",
       "  '#53b466',\n",
       "  '#55b567',\n",
       "  '#56b567',\n",
       "  '#58b668',\n",
       "  '#5ab769',\n",
       "  '#5bb86a',\n",
       "  '#5db96b',\n",
       "  '#5eb96b',\n",
       "  '#60ba6c',\n",
       "  '#62bb6d',\n",
       "  '#63bc6e',\n",
       "  '#65bd6f',\n",
       "  '#66bd6f',\n",
       "  '#68be70',\n",
       "  '#6abf71',\n",
       "  '#6bc072',\n",
       "  '#6dc072',\n",
       "  '#6ec173',\n",
       "  '#70c274',\n",
       "  '#72c375',\n",
       "  '#73c476',\n",
       "  '#75c477',\n",
       "  '#76c578',\n",
       "  '#78c679',\n",
       "  '#79c67a',\n",
       "  '#7ac77b',\n",
       "  '#7cc87c',\n",
       "  '#7dc87e',\n",
       "  '#7fc97f',\n",
       "  '#80ca80',\n",
       "  '#81ca81',\n",
       "  '#83cb82',\n",
       "  '#84cc83',\n",
       "  '#86cc85',\n",
       "  '#87cd86',\n",
       "  '#88ce87',\n",
       "  '#8ace88',\n",
       "  '#8bcf89',\n",
       "  '#8dd08a',\n",
       "  '#8ed08b',\n",
       "  '#90d18d',\n",
       "  '#91d28e',\n",
       "  '#92d28f',\n",
       "  '#94d390',\n",
       "  '#95d391',\n",
       "  '#97d492',\n",
       "  '#98d594',\n",
       "  '#99d595',\n",
       "  '#9bd696',\n",
       "  '#9cd797',\n",
       "  '#9ed798',\n",
       "  '#9fd899',\n",
       "  '#a0d99b',\n",
       "  '#a2d99c',\n",
       "  '#a3da9d',\n",
       "  '#a4da9e',\n",
       "  '#a5db9f',\n",
       "  '#a7dba0',\n",
       "  '#a8dca2',\n",
       "  '#a9dca3',\n",
       "  '#aadda4',\n",
       "  '#abdda5',\n",
       "  '#acdea6',\n",
       "  '#aedea7',\n",
       "  '#afdfa8',\n",
       "  '#b0dfaa',\n",
       "  '#b1e0ab',\n",
       "  '#b2e0ac',\n",
       "  '#b4e1ad',\n",
       "  '#b5e1ae',\n",
       "  '#b6e2af',\n",
       "  '#b7e2b1',\n",
       "  '#b8e3b2',\n",
       "  '#bae3b3',\n",
       "  '#bbe4b4',\n",
       "  '#bce4b5',\n",
       "  '#bde5b6',\n",
       "  '#bee5b8',\n",
       "  '#c0e6b9',\n",
       "  '#c1e6ba',\n",
       "  '#c2e7bb',\n",
       "  '#c3e7bc',\n",
       "  '#c4e8bd',\n",
       "  '#c6e8bf',\n",
       "  '#c7e9c0',\n",
       "  '#c8e9c1',\n",
       "  '#c9eac2',\n",
       "  '#caeac3',\n",
       "  '#cbeac4',\n",
       "  '#cbebc5',\n",
       "  '#ccebc6',\n",
       "  '#cdecc7',\n",
       "  '#ceecc8',\n",
       "  '#cfecc9',\n",
       "  '#d0edca',\n",
       "  '#d1edcb',\n",
       "  '#d2edcc',\n",
       "  '#d3eecd',\n",
       "  '#d4eece',\n",
       "  '#d5efcf',\n",
       "  '#d6efd0',\n",
       "  '#d7efd1',\n",
       "  '#d8f0d2',\n",
       "  '#d9f0d3',\n",
       "  '#daf0d4',\n",
       "  '#dbf1d5',\n",
       "  '#dbf1d6',\n",
       "  '#dcf2d7',\n",
       "  '#ddf2d8',\n",
       "  '#def2d9',\n",
       "  '#dff3da',\n",
       "  '#e0f3db',\n",
       "  '#e1f3dc',\n",
       "  '#e2f4dd',\n",
       "  '#e3f4de',\n",
       "  '#e4f5df',\n",
       "  '#e5f5e0',\n",
       "  '#e5f5e1',\n",
       "  '#e6f5e1',\n",
       "  '#e7f6e2',\n",
       "  '#e7f6e3',\n",
       "  '#e8f6e3',\n",
       "  '#e8f6e4',\n",
       "  '#e9f7e5',\n",
       "  '#e9f7e5',\n",
       "  '#eaf7e6',\n",
       "  '#ebf7e7',\n",
       "  '#ebf7e7',\n",
       "  '#ecf8e8',\n",
       "  '#ecf8e8',\n",
       "  '#edf8e9',\n",
       "  '#edf8ea',\n",
       "  '#eef8ea',\n",
       "  '#eff9eb',\n",
       "  '#eff9ec',\n",
       "  '#f0f9ec',\n",
       "  '#f0f9ed',\n",
       "  '#f1faee',\n",
       "  '#f1faee',\n",
       "  '#f2faef',\n",
       "  '#f2faf0',\n",
       "  '#f3faf0',\n",
       "  '#f4fbf1',\n",
       "  '#f4fbf2',\n",
       "  '#f5fbf2',\n",
       "  '#f5fbf3',\n",
       "  '#f6fcf4',\n",
       "  '#f6fcf4',\n",
       "  '#f7fcf5')}"
      ]
     },
     "execution_count": 16,
     "metadata": {},
     "output_type": "execute_result"
    }
   ],
   "source": [
    "Greens"
   ]
  },
  {
   "cell_type": "markdown",
   "metadata": {},
   "source": [
    "### Horizontal Bar Chart"
   ]
  },
  {
   "cell_type": "markdown",
   "metadata": {},
   "source": [
    "`hbar()`method is used for plotting horizontal bar charts.\n",
    "\n",
    "Let's work with the variables: \n",
    "- `mo`: Mother Occupation (Service, Business, Retired, Housewife, Others)  "
   ]
  },
  {
   "cell_type": "code",
   "execution_count": 17,
   "metadata": {},
   "outputs": [
    {
     "data": {
      "text/plain": [
       "Housewife    115\n",
       "Service       12\n",
       "Others         2\n",
       "Business       1\n",
       "Retired        1\n",
       "Name: mo, dtype: int64"
      ]
     },
     "execution_count": 17,
     "metadata": {},
     "output_type": "execute_result"
    }
   ],
   "source": [
    "mo = df.mo.value_counts()\n",
    "mo"
   ]
  },
  {
   "cell_type": "markdown",
   "metadata": {},
   "source": [
    "Defining sourcef with the mother data"
   ]
  },
  {
   "cell_type": "code",
   "execution_count": 18,
   "metadata": {},
   "outputs": [],
   "source": [
    "# Defining sourcef with the mother data\n",
    "sourcem = ColumnDataSource(data=dict(values=list(mo.index), counts=mo, color=Spectral[len(mo)]))"
   ]
  },
  {
   "cell_type": "markdown",
   "metadata": {},
   "source": [
    "Set the `y_range` to the list of categories"
   ]
  },
  {
   "cell_type": "code",
   "execution_count": 19,
   "metadata": {},
   "outputs": [],
   "source": [
    "# Set the y_range to the list of categories\n",
    "pm_h = figure(y_range=list(mo.index), plot_height=400, title=\"Mother Occupation\")"
   ]
  },
  {
   "cell_type": "code",
   "execution_count": 20,
   "metadata": {},
   "outputs": [
    {
     "data": {
      "text/html": [
       "\n",
       "\n",
       "\n",
       "\n",
       "\n",
       "\n",
       "  <div class=\"bk-root\" id=\"572b5099-346a-426a-b027-cd79885b0708\" data-root-id=\"1201\"></div>\n"
      ]
     },
     "metadata": {},
     "output_type": "display_data"
    },
    {
     "data": {
      "application/javascript": "(function(root) {\n  function embed_document(root) {\n    \n  const docs_json = {\"74d50167-6e56-403e-b549-4fc5db2c4784\":{\"defs\":[],\"roots\":{\"references\":[{\"attributes\":{\"below\":[{\"id\":\"1212\"}],\"center\":[{\"id\":\"1215\"},{\"id\":\"1218\"},{\"id\":\"1249\"}],\"height\":400,\"left\":[{\"id\":\"1216\"}],\"renderers\":[{\"id\":\"1237\"}],\"title\":{\"id\":\"1202\"},\"toolbar\":{\"id\":\"1226\"},\"x_range\":{\"id\":\"1204\"},\"x_scale\":{\"id\":\"1208\"},\"y_range\":{\"id\":\"1206\"},\"y_scale\":{\"id\":\"1210\"}},\"id\":\"1201\",\"subtype\":\"Figure\",\"type\":\"Plot\"},{\"attributes\":{\"tools\":[{\"id\":\"1219\"},{\"id\":\"1220\"},{\"id\":\"1221\"},{\"id\":\"1222\"},{\"id\":\"1223\"},{\"id\":\"1224\"}]},\"id\":\"1226\",\"type\":\"Toolbar\"},{\"attributes\":{},\"id\":\"1246\",\"type\":\"UnionRenderers\"},{\"attributes\":{},\"id\":\"1217\",\"type\":\"CategoricalTicker\"},{\"attributes\":{\"fill_color\":{\"field\":\"color\"},\"hatch_color\":{\"field\":\"color\"},\"height\":{\"value\":0.8},\"line_color\":{\"field\":\"color\"},\"right\":{\"field\":\"counts\"},\"y\":{\"field\":\"values\"}},\"id\":\"1234\",\"type\":\"HBar\"},{\"attributes\":{},\"id\":\"1204\",\"type\":\"DataRange1d\"},{\"attributes\":{},\"id\":\"1220\",\"type\":\"WheelZoomTool\"},{\"attributes\":{\"data\":{\"color\":[\"#2b83ba\",\"#abdda4\",\"#ffffbf\",\"#fdae61\",\"#d7191c\"],\"counts\":[115,12,2,1,1],\"values\":[\"Housewife\",\"Service\",\"Others\",\"Business\",\"Retired\"]},\"selected\":{\"id\":\"1247\"},\"selection_policy\":{\"id\":\"1246\"}},\"id\":\"1200\",\"type\":\"ColumnDataSource\"},{\"attributes\":{},\"id\":\"1219\",\"type\":\"PanTool\"},{\"attributes\":{\"overlay\":{\"id\":\"1225\"}},\"id\":\"1221\",\"type\":\"BoxZoomTool\"},{\"attributes\":{},\"id\":\"1222\",\"type\":\"SaveTool\"},{\"attributes\":{},\"id\":\"1241\",\"type\":\"CategoricalTickFormatter\"},{\"attributes\":{},\"id\":\"1223\",\"type\":\"ResetTool\"},{\"attributes\":{\"fill_alpha\":{\"value\":0.1},\"fill_color\":{\"field\":\"color\"},\"hatch_alpha\":{\"value\":0.1},\"hatch_color\":{\"field\":\"color\"},\"height\":{\"value\":0.8},\"line_alpha\":{\"value\":0.1},\"line_color\":{\"field\":\"color\"},\"right\":{\"field\":\"counts\"},\"y\":{\"field\":\"values\"}},\"id\":\"1235\",\"type\":\"HBar\"},{\"attributes\":{\"axis\":{\"id\":\"1212\"},\"coordinates\":null,\"group\":null,\"ticker\":null},\"id\":\"1215\",\"type\":\"Grid\"},{\"attributes\":{\"source\":{\"id\":\"1200\"}},\"id\":\"1238\",\"type\":\"CDSView\"},{\"attributes\":{},\"id\":\"1242\",\"type\":\"AllLabels\"},{\"attributes\":{\"fill_alpha\":{\"value\":0.2},\"fill_color\":{\"field\":\"color\"},\"hatch_alpha\":{\"value\":0.2},\"hatch_color\":{\"field\":\"color\"},\"height\":{\"value\":0.8},\"line_alpha\":{\"value\":0.2},\"line_color\":{\"field\":\"color\"},\"right\":{\"field\":\"counts\"},\"y\":{\"field\":\"values\"}},\"id\":\"1236\",\"type\":\"HBar\"},{\"attributes\":{\"label\":{\"field\":\"values\"},\"renderers\":[{\"id\":\"1237\"}]},\"id\":\"1250\",\"type\":\"LegendItem\"},{\"attributes\":{\"coordinates\":null,\"data_source\":{\"id\":\"1200\"},\"glyph\":{\"id\":\"1234\"},\"group\":null,\"hover_glyph\":null,\"muted_glyph\":{\"id\":\"1236\"},\"nonselection_glyph\":{\"id\":\"1235\"},\"view\":{\"id\":\"1238\"}},\"id\":\"1237\",\"type\":\"GlyphRenderer\"},{\"attributes\":{},\"id\":\"1213\",\"type\":\"BasicTicker\"},{\"attributes\":{},\"id\":\"1244\",\"type\":\"BasicTickFormatter\"},{\"attributes\":{\"coordinates\":null,\"formatter\":{\"id\":\"1241\"},\"group\":null,\"major_label_policy\":{\"id\":\"1242\"},\"ticker\":{\"id\":\"1217\"}},\"id\":\"1216\",\"type\":\"CategoricalAxis\"},{\"attributes\":{\"axis\":{\"id\":\"1216\"},\"coordinates\":null,\"dimension\":1,\"group\":null,\"ticker\":null},\"id\":\"1218\",\"type\":\"Grid\"},{\"attributes\":{},\"id\":\"1210\",\"type\":\"CategoricalScale\"},{\"attributes\":{},\"id\":\"1208\",\"type\":\"LinearScale\"},{\"attributes\":{\"bottom_units\":\"screen\",\"coordinates\":null,\"fill_alpha\":0.5,\"fill_color\":\"lightgrey\",\"group\":null,\"left_units\":\"screen\",\"level\":\"overlay\",\"line_alpha\":1.0,\"line_color\":\"black\",\"line_dash\":[4,4],\"line_width\":2,\"right_units\":\"screen\",\"syncable\":false,\"top_units\":\"screen\"},\"id\":\"1225\",\"type\":\"BoxAnnotation\"},{\"attributes\":{},\"id\":\"1245\",\"type\":\"AllLabels\"},{\"attributes\":{\"factors\":[\"Housewife\",\"Service\",\"Others\",\"Business\",\"Retired\"]},\"id\":\"1206\",\"type\":\"FactorRange\"},{\"attributes\":{},\"id\":\"1224\",\"type\":\"HelpTool\"},{\"attributes\":{\"coordinates\":null,\"group\":null,\"items\":[{\"id\":\"1250\"}]},\"id\":\"1249\",\"type\":\"Legend\"},{\"attributes\":{\"coordinates\":null,\"group\":null,\"text\":\"Mother Occupation\"},\"id\":\"1202\",\"type\":\"Title\"},{\"attributes\":{},\"id\":\"1247\",\"type\":\"Selection\"},{\"attributes\":{\"coordinates\":null,\"formatter\":{\"id\":\"1244\"},\"group\":null,\"major_label_policy\":{\"id\":\"1245\"},\"ticker\":{\"id\":\"1213\"}},\"id\":\"1212\",\"type\":\"LinearAxis\"}],\"root_ids\":[\"1201\"]},\"title\":\"Bokeh Application\",\"version\":\"2.4.2\"}};\n  const render_items = [{\"docid\":\"74d50167-6e56-403e-b549-4fc5db2c4784\",\"root_ids\":[\"1201\"],\"roots\":{\"1201\":\"572b5099-346a-426a-b027-cd79885b0708\"}}];\n  root.Bokeh.embed.embed_items_notebook(docs_json, render_items);\n\n  }\n  if (root.Bokeh !== undefined) {\n    embed_document(root);\n  } else {\n    let attempts = 0;\n    const timer = setInterval(function(root) {\n      if (root.Bokeh !== undefined) {\n        clearInterval(timer);\n        embed_document(root);\n      } else {\n        attempts++;\n        if (attempts > 100) {\n          clearInterval(timer);\n          console.log(\"Bokeh: ERROR: Unable to run BokehJS code because BokehJS library is missing\");\n        }\n      }\n    }, 10, root)\n  }\n})(window);",
      "application/vnd.bokehjs_exec.v0+json": ""
     },
     "metadata": {
      "application/vnd.bokehjs_exec.v0+json": {
       "id": "1201"
      }
     },
     "output_type": "display_data"
    }
   ],
   "source": [
    "pm_h.hbar(y='values', right='counts', color='color', height=0.8, legend_field='values', source=sourcem)\n",
    "show(pm_h)"
   ]
  },
  {
   "cell_type": "code",
   "execution_count": 21,
   "metadata": {},
   "outputs": [
    {
     "data": {
      "text/plain": [
       "{3: ('#99d594', '#ffffbf', '#fc8d59'),\n",
       " 4: ('#2b83ba', '#abdda4', '#fdae61', '#d7191c'),\n",
       " 5: ('#2b83ba', '#abdda4', '#ffffbf', '#fdae61', '#d7191c'),\n",
       " 6: ('#3288bd', '#99d594', '#e6f598', '#fee08b', '#fc8d59', '#d53e4f'),\n",
       " 7: ('#3288bd',\n",
       "  '#99d594',\n",
       "  '#e6f598',\n",
       "  '#ffffbf',\n",
       "  '#fee08b',\n",
       "  '#fc8d59',\n",
       "  '#d53e4f'),\n",
       " 8: ('#3288bd',\n",
       "  '#66c2a5',\n",
       "  '#abdda4',\n",
       "  '#e6f598',\n",
       "  '#fee08b',\n",
       "  '#fdae61',\n",
       "  '#f46d43',\n",
       "  '#d53e4f'),\n",
       " 9: ('#3288bd',\n",
       "  '#66c2a5',\n",
       "  '#abdda4',\n",
       "  '#e6f598',\n",
       "  '#ffffbf',\n",
       "  '#fee08b',\n",
       "  '#fdae61',\n",
       "  '#f46d43',\n",
       "  '#d53e4f'),\n",
       " 10: ('#5e4fa2',\n",
       "  '#3288bd',\n",
       "  '#66c2a5',\n",
       "  '#abdda4',\n",
       "  '#e6f598',\n",
       "  '#fee08b',\n",
       "  '#fdae61',\n",
       "  '#f46d43',\n",
       "  '#d53e4f',\n",
       "  '#9e0142'),\n",
       " 11: ('#5e4fa2',\n",
       "  '#3288bd',\n",
       "  '#66c2a5',\n",
       "  '#abdda4',\n",
       "  '#e6f598',\n",
       "  '#ffffbf',\n",
       "  '#fee08b',\n",
       "  '#fdae61',\n",
       "  '#f46d43',\n",
       "  '#d53e4f',\n",
       "  '#9e0142')}"
      ]
     },
     "execution_count": 21,
     "metadata": {},
     "output_type": "execute_result"
    }
   ],
   "source": [
    "# Spectral palette colors\n",
    "Spectral"
   ]
  },
  {
   "cell_type": "markdown",
   "metadata": {},
   "source": [
    "## Stacked Bars"
   ]
  },
  {
   "cell_type": "markdown",
   "metadata": {},
   "source": [
    "A stacked bar chart is a variation of a bar chart, including an additional variable. Suppose you want to plot together the father and mother's occupation information.\n",
    "\n",
    "As you can see, the variables `fo` (father occupation) and `mo` (mother occupation) have almost the same values. The only exception is that `fo` has 'farmer,' and `mo` has 'housewife' instead. We will change 'housewife' for 'farmer' in `mo` for both variables have exactly the same labels."
   ]
  },
  {
   "cell_type": "code",
   "execution_count": 22,
   "metadata": {},
   "outputs": [
    {
     "data": {
      "text/plain": [
       "Housewife    115\n",
       "Service       12\n",
       "Others         2\n",
       "Business       1\n",
       "Retired        1\n",
       "Name: mo, dtype: int64"
      ]
     },
     "execution_count": 22,
     "metadata": {},
     "output_type": "execute_result"
    }
   ],
   "source": [
    "df.mo.value_counts()"
   ]
  },
  {
   "cell_type": "markdown",
   "metadata": {},
   "source": [
    "Changing `Housewife` by `Farmer` in mo column (mother occupation)"
   ]
  },
  {
   "cell_type": "code",
   "execution_count": 23,
   "metadata": {},
   "outputs": [
    {
     "data": {
      "text/plain": [
       "Farmer      115\n",
       "Service      12\n",
       "Others        2\n",
       "Business      1\n",
       "Retired       1\n",
       "Name: mo, dtype: int64"
      ]
     },
     "execution_count": 23,
     "metadata": {},
     "output_type": "execute_result"
    }
   ],
   "source": [
    "# Changing 'Housewife' by 'Farmer' in mo column (mother occupation)\n",
    "df.loc[df.mo == 'Housewife', 'mo'] = 'Farmer'\n",
    "df.mo.value_counts()"
   ]
  },
  {
   "cell_type": "markdown",
   "metadata": {},
   "source": [
    "Getting the occupations. Notice that we sorted them by alphabetical order."
   ]
  },
  {
   "cell_type": "code",
   "execution_count": 24,
   "metadata": {},
   "outputs": [
    {
     "data": {
      "text/plain": [
       "['Business', 'Farmer', 'Others', 'Retired', 'Service']"
      ]
     },
     "execution_count": 24,
     "metadata": {},
     "output_type": "execute_result"
    }
   ],
   "source": [
    "# Getting the occupations. Notice that we sorted them by alphabetical order. \n",
    "occupations = df.mo.value_counts().sort_index().index.tolist()\n",
    "occupations"
   ]
  },
  {
   "cell_type": "code",
   "execution_count": 25,
   "metadata": {},
   "outputs": [
    {
     "data": {
      "text/plain": [
       "Business    34\n",
       "Farmer      27\n",
       "Others      29\n",
       "Retired      3\n",
       "Service     38\n",
       "Name: fo, dtype: int64"
      ]
     },
     "execution_count": 25,
     "metadata": {},
     "output_type": "execute_result"
    }
   ],
   "source": [
    "# Getting the father occupations sorted by alphabetical order\n",
    "df.fo.value_counts().sort_index()"
   ]
  },
  {
   "cell_type": "markdown",
   "metadata": {},
   "source": [
    "Getting the sorted values of the occupation of the father and mother"
   ]
  },
  {
   "cell_type": "code",
   "execution_count": 26,
   "metadata": {},
   "outputs": [],
   "source": [
    "fo_val = list(df.fo.value_counts().sort_index())\n",
    "mo_val = list(df.mo.value_counts().sort_index())"
   ]
  },
  {
   "cell_type": "markdown",
   "metadata": {},
   "source": [
    "### Vertical Stacked Bars"
   ]
  },
  {
   "cell_type": "markdown",
   "metadata": {},
   "source": [
    "Defining data. Take into account that we have to use the same order of the labels"
   ]
  },
  {
   "cell_type": "code",
   "execution_count": 27,
   "metadata": {},
   "outputs": [],
   "source": [
    "# Defining data. Take into account that we have to use the same order of the labels\n",
    "datap = {'occupations': occupations, \n",
    "        'Father': fo_val,\n",
    "        'Mother': mo_val}"
   ]
  },
  {
   "cell_type": "code",
   "execution_count": 28,
   "metadata": {},
   "outputs": [],
   "source": [
    "#Defining parent\n",
    "parent = ['Father', 'Mother']"
   ]
  },
  {
   "cell_type": "markdown",
   "metadata": {},
   "source": [
    "Defining an empty figure"
   ]
  },
  {
   "cell_type": "code",
   "execution_count": 29,
   "metadata": {},
   "outputs": [],
   "source": [
    "p_v = figure(x_range=occupations, height=350, title=\"Parents' Occupations\",\n",
    "           toolbar_location=None, tools=\"hover\", tooltips=\"($name) @occupations: @$name\")"
   ]
  },
  {
   "cell_type": "code",
   "execution_count": 30,
   "metadata": {},
   "outputs": [
    {
     "data": {
      "text/html": [
       "\n",
       "\n",
       "\n",
       "\n",
       "\n",
       "\n",
       "  <div class=\"bk-root\" id=\"90049344-ae6f-4aed-beeb-f2dcba183c80\" data-root-id=\"1321\"></div>\n"
      ]
     },
     "metadata": {},
     "output_type": "display_data"
    },
    {
     "data": {
      "application/javascript": "(function(root) {\n  function embed_document(root) {\n    \n  const docs_json = {\"13f26284-6c12-4e14-8294-4e0443a86b13\":{\"defs\":[],\"roots\":{\"references\":[{\"attributes\":{\"below\":[{\"id\":\"1332\"}],\"center\":[{\"id\":\"1334\"},{\"id\":\"1338\"},{\"id\":\"1362\"}],\"height\":350,\"left\":[{\"id\":\"1335\"}],\"renderers\":[{\"id\":\"1351\"},{\"id\":\"1369\"}],\"title\":{\"id\":\"1322\"},\"toolbar\":{\"id\":\"1340\"},\"toolbar_location\":null,\"x_range\":{\"id\":\"1324\"},\"x_scale\":{\"id\":\"1328\"},\"y_range\":{\"id\":\"1326\"},\"y_scale\":{\"id\":\"1330\"}},\"id\":\"1321\",\"subtype\":\"Figure\",\"type\":\"Plot\"},{\"attributes\":{\"data\":{\"Father\":[34,27,29,3,38],\"Mother\":[1,115,2,1,12],\"occupations\":[\"Business\",\"Farmer\",\"Others\",\"Retired\",\"Service\"]},\"selected\":{\"id\":\"1381\"},\"selection_policy\":{\"id\":\"1380\"}},\"id\":\"1364\",\"type\":\"ColumnDataSource\"},{\"attributes\":{\"coordinates\":null,\"formatter\":{\"id\":\"1358\"},\"group\":null,\"major_label_policy\":{\"id\":\"1359\"},\"ticker\":{\"id\":\"1333\"}},\"id\":\"1332\",\"type\":\"CategoricalAxis\"},{\"attributes\":{},\"id\":\"1361\",\"type\":\"Selection\"},{\"attributes\":{\"bottom\":{\"expr\":{\"id\":\"1344\"}},\"fill_color\":{\"value\":\"salmon\"},\"hatch_color\":{\"value\":\"salmon\"},\"line_color\":{\"value\":\"salmon\"},\"top\":{\"expr\":{\"id\":\"1345\"}},\"width\":{\"value\":0.8},\"x\":{\"field\":\"occupations\"}},\"id\":\"1366\",\"type\":\"VBar\"},{\"attributes\":{\"start\":0},\"id\":\"1326\",\"type\":\"DataRange1d\"},{\"attributes\":{\"axis\":{\"id\":\"1332\"},\"coordinates\":null,\"group\":null,\"ticker\":null},\"id\":\"1334\",\"type\":\"Grid\"},{\"attributes\":{},\"id\":\"1336\",\"type\":\"BasicTicker\"},{\"attributes\":{},\"id\":\"1360\",\"type\":\"UnionRenderers\"},{\"attributes\":{\"bottom\":{\"expr\":{\"id\":\"1344\"}},\"fill_alpha\":{\"value\":0.1},\"fill_color\":{\"value\":\"salmon\"},\"hatch_alpha\":{\"value\":0.1},\"hatch_color\":{\"value\":\"salmon\"},\"line_alpha\":{\"value\":0.1},\"line_color\":{\"value\":\"salmon\"},\"top\":{\"expr\":{\"id\":\"1345\"}},\"width\":{\"value\":0.8},\"x\":{\"field\":\"occupations\"}},\"id\":\"1367\",\"type\":\"VBar\"},{\"attributes\":{},\"id\":\"1333\",\"type\":\"CategoricalTicker\"},{\"attributes\":{},\"id\":\"1359\",\"type\":\"AllLabels\"},{\"attributes\":{},\"id\":\"1328\",\"type\":\"CategoricalScale\"},{\"attributes\":{\"bottom\":{\"expr\":{\"id\":\"1342\"}},\"fill_color\":{\"value\":\"skyblue\"},\"hatch_color\":{\"value\":\"skyblue\"},\"line_color\":{\"value\":\"skyblue\"},\"top\":{\"expr\":{\"id\":\"1343\"}},\"width\":{\"value\":0.8},\"x\":{\"field\":\"occupations\"}},\"id\":\"1348\",\"type\":\"VBar\"},{\"attributes\":{\"callback\":null,\"tooltips\":\"($name) @occupations: @$name\"},\"id\":\"1339\",\"type\":\"HoverTool\"},{\"attributes\":{\"data\":{\"Father\":[34,27,29,3,38],\"Mother\":[1,115,2,1,12],\"occupations\":[\"Business\",\"Farmer\",\"Others\",\"Retired\",\"Service\"]},\"selected\":{\"id\":\"1361\"},\"selection_policy\":{\"id\":\"1360\"}},\"id\":\"1346\",\"type\":\"ColumnDataSource\"},{\"attributes\":{},\"id\":\"1330\",\"type\":\"LinearScale\"},{\"attributes\":{\"fields\":[\"Father\"]},\"id\":\"1344\",\"type\":\"Stack\"},{\"attributes\":{},\"id\":\"1358\",\"type\":\"CategoricalTickFormatter\"},{\"attributes\":{\"coordinates\":null,\"data_source\":{\"id\":\"1346\"},\"glyph\":{\"id\":\"1348\"},\"group\":null,\"hover_glyph\":null,\"muted_glyph\":{\"id\":\"1350\"},\"name\":\"Father\",\"nonselection_glyph\":{\"id\":\"1349\"},\"view\":{\"id\":\"1352\"}},\"id\":\"1351\",\"type\":\"GlyphRenderer\"},{\"attributes\":{\"axis\":{\"id\":\"1335\"},\"coordinates\":null,\"dimension\":1,\"group\":null,\"ticker\":null},\"id\":\"1338\",\"type\":\"Grid\"},{\"attributes\":{\"fields\":[\"Father\",\"Mother\"]},\"id\":\"1345\",\"type\":\"Stack\"},{\"attributes\":{\"fields\":[\"Father\"]},\"id\":\"1343\",\"type\":\"Stack\"},{\"attributes\":{\"bottom\":{\"expr\":{\"id\":\"1342\"}},\"fill_alpha\":{\"value\":0.1},\"fill_color\":{\"value\":\"skyblue\"},\"hatch_alpha\":{\"value\":0.1},\"hatch_color\":{\"value\":\"skyblue\"},\"line_alpha\":{\"value\":0.1},\"line_color\":{\"value\":\"skyblue\"},\"top\":{\"expr\":{\"id\":\"1343\"}},\"width\":{\"value\":0.8},\"x\":{\"field\":\"occupations\"}},\"id\":\"1349\",\"type\":\"VBar\"},{\"attributes\":{},\"id\":\"1355\",\"type\":\"BasicTickFormatter\"},{\"attributes\":{\"factors\":[\"Business\",\"Farmer\",\"Others\",\"Retired\",\"Service\"],\"range_padding\":0.1},\"id\":\"1324\",\"type\":\"FactorRange\"},{\"attributes\":{},\"id\":\"1356\",\"type\":\"AllLabels\"},{\"attributes\":{\"coordinates\":null,\"group\":null,\"items\":[{\"id\":\"1363\"},{\"id\":\"1382\"}]},\"id\":\"1362\",\"type\":\"Legend\"},{\"attributes\":{\"coordinates\":null,\"data_source\":{\"id\":\"1364\"},\"glyph\":{\"id\":\"1366\"},\"group\":null,\"hover_glyph\":null,\"muted_glyph\":{\"id\":\"1368\"},\"name\":\"Mother\",\"nonselection_glyph\":{\"id\":\"1367\"},\"view\":{\"id\":\"1370\"}},\"id\":\"1369\",\"type\":\"GlyphRenderer\"},{\"attributes\":{\"bottom\":{\"expr\":{\"id\":\"1342\"}},\"fill_alpha\":{\"value\":0.2},\"fill_color\":{\"value\":\"skyblue\"},\"hatch_alpha\":{\"value\":0.2},\"hatch_color\":{\"value\":\"skyblue\"},\"line_alpha\":{\"value\":0.2},\"line_color\":{\"value\":\"skyblue\"},\"top\":{\"expr\":{\"id\":\"1343\"}},\"width\":{\"value\":0.8},\"x\":{\"field\":\"occupations\"}},\"id\":\"1350\",\"type\":\"VBar\"},{\"attributes\":{\"tools\":[{\"id\":\"1339\"}]},\"id\":\"1340\",\"type\":\"Toolbar\"},{\"attributes\":{\"fields\":[]},\"id\":\"1342\",\"type\":\"Stack\"},{\"attributes\":{\"label\":{\"value\":\"Mother\"},\"renderers\":[{\"id\":\"1369\"}]},\"id\":\"1382\",\"type\":\"LegendItem\"},{\"attributes\":{\"source\":{\"id\":\"1364\"}},\"id\":\"1370\",\"type\":\"CDSView\"},{\"attributes\":{\"coordinates\":null,\"formatter\":{\"id\":\"1355\"},\"group\":null,\"major_label_policy\":{\"id\":\"1356\"},\"ticker\":{\"id\":\"1336\"}},\"id\":\"1335\",\"type\":\"LinearAxis\"},{\"attributes\":{\"bottom\":{\"expr\":{\"id\":\"1344\"}},\"fill_alpha\":{\"value\":0.2},\"fill_color\":{\"value\":\"salmon\"},\"hatch_alpha\":{\"value\":0.2},\"hatch_color\":{\"value\":\"salmon\"},\"line_alpha\":{\"value\":0.2},\"line_color\":{\"value\":\"salmon\"},\"top\":{\"expr\":{\"id\":\"1345\"}},\"width\":{\"value\":0.8},\"x\":{\"field\":\"occupations\"}},\"id\":\"1368\",\"type\":\"VBar\"},{\"attributes\":{\"coordinates\":null,\"group\":null,\"text\":\"Parents' Occupations\"},\"id\":\"1322\",\"type\":\"Title\"},{\"attributes\":{\"source\":{\"id\":\"1346\"}},\"id\":\"1352\",\"type\":\"CDSView\"},{\"attributes\":{\"label\":{\"value\":\"Father\"},\"renderers\":[{\"id\":\"1351\"}]},\"id\":\"1363\",\"type\":\"LegendItem\"},{\"attributes\":{},\"id\":\"1381\",\"type\":\"Selection\"},{\"attributes\":{},\"id\":\"1380\",\"type\":\"UnionRenderers\"}],\"root_ids\":[\"1321\"]},\"title\":\"Bokeh Application\",\"version\":\"2.4.2\"}};\n  const render_items = [{\"docid\":\"13f26284-6c12-4e14-8294-4e0443a86b13\",\"root_ids\":[\"1321\"],\"roots\":{\"1321\":\"90049344-ae6f-4aed-beeb-f2dcba183c80\"}}];\n  root.Bokeh.embed.embed_items_notebook(docs_json, render_items);\n\n  }\n  if (root.Bokeh !== undefined) {\n    embed_document(root);\n  } else {\n    let attempts = 0;\n    const timer = setInterval(function(root) {\n      if (root.Bokeh !== undefined) {\n        clearInterval(timer);\n        embed_document(root);\n      } else {\n        attempts++;\n        if (attempts > 100) {\n          clearInterval(timer);\n          console.log(\"Bokeh: ERROR: Unable to run BokehJS code because BokehJS library is missing\");\n        }\n      }\n    }, 10, root)\n  }\n})(window);",
      "application/vnd.bokehjs_exec.v0+json": ""
     },
     "metadata": {
      "application/vnd.bokehjs_exec.v0+json": {
       "id": "1321"
      }
     },
     "output_type": "display_data"
    }
   ],
   "source": [
    "p_v.vbar_stack(parent, x='occupations', width=0.8, color=['skyblue','salmon'], \n",
    "                source=datap, legend_label=parent)\n",
    "p_v.y_range.start = 0\n",
    "p_v.x_range.range_padding = 0.1\n",
    "p_v.legend.location = \"top_right\"\n",
    "p_v.legend.orientation = \"vertical\"\n",
    "\n",
    "show(p_v)"
   ]
  },
  {
   "cell_type": "code",
   "execution_count": 31,
   "metadata": {},
   "outputs": [
    {
     "data": {
      "text/html": [
       "\n",
       "\n",
       "\n",
       "\n",
       "\n",
       "\n",
       "  <div class=\"bk-root\" id=\"a0378894-2e60-4af0-a688-f9acb4c9023c\" data-root-id=\"1321\"></div>\n"
      ]
     },
     "metadata": {},
     "output_type": "display_data"
    },
    {
     "data": {
      "application/javascript": "(function(root) {\n  function embed_document(root) {\n    \n  const docs_json = {\"1b9dcb38-d099-42c5-ad94-7517cd499292\":{\"defs\":[],\"roots\":{\"references\":[{\"attributes\":{\"below\":[{\"id\":\"1332\"}],\"center\":[{\"id\":\"1334\"},{\"id\":\"1338\"},{\"id\":\"1362\"}],\"height\":350,\"left\":[{\"id\":\"1335\"}],\"renderers\":[{\"id\":\"1351\"},{\"id\":\"1369\"},{\"id\":\"1478\"},{\"id\":\"1564\"}],\"title\":{\"id\":\"1322\"},\"toolbar\":{\"id\":\"1340\"},\"toolbar_location\":null,\"x_range\":{\"id\":\"1324\"},\"x_scale\":{\"id\":\"1328\"},\"y_range\":{\"id\":\"1326\"},\"y_scale\":{\"id\":\"1330\"}},\"id\":\"1321\",\"subtype\":\"Figure\",\"type\":\"Plot\"},{\"attributes\":{\"data\":{\"Father\":[34,27,29,3,38],\"Mother\":[1,115,2,1,12],\"occupations\":[\"Business\",\"Farmer\",\"Others\",\"Retired\",\"Service\"]},\"selected\":{\"id\":\"1381\"},\"selection_policy\":{\"id\":\"1380\"}},\"id\":\"1364\",\"type\":\"ColumnDataSource\"},{\"attributes\":{\"fields\":[]},\"id\":\"1469\",\"type\":\"Stack\"},{\"attributes\":{\"coordinates\":null,\"formatter\":{\"id\":\"1358\"},\"group\":null,\"major_label_policy\":{\"id\":\"1359\"},\"ticker\":{\"id\":\"1333\"}},\"id\":\"1332\",\"type\":\"CategoricalAxis\"},{\"attributes\":{\"bottom\":{\"expr\":{\"id\":\"1469\"}},\"fill_alpha\":{\"value\":0.1},\"fill_color\":{\"value\":\"steelblue\"},\"hatch_alpha\":{\"value\":0.1},\"hatch_color\":{\"value\":\"steelblue\"},\"line_alpha\":{\"value\":0.1},\"line_color\":{\"value\":\"steelblue\"},\"top\":{\"expr\":{\"id\":\"1470\"}},\"width\":{\"value\":0.8},\"x\":{\"field\":\"occupations\"}},\"id\":\"1476\",\"type\":\"VBar\"},{\"attributes\":{},\"id\":\"1361\",\"type\":\"Selection\"},{\"attributes\":{\"bottom\":{\"expr\":{\"id\":\"1344\"}},\"fill_color\":{\"value\":\"salmon\"},\"hatch_color\":{\"value\":\"salmon\"},\"line_color\":{\"value\":\"salmon\"},\"top\":{\"expr\":{\"id\":\"1345\"}},\"width\":{\"value\":0.8},\"x\":{\"field\":\"occupations\"}},\"id\":\"1366\",\"type\":\"VBar\"},{\"attributes\":{\"start\":0},\"id\":\"1326\",\"type\":\"DataRange1d\"},{\"attributes\":{\"axis\":{\"id\":\"1332\"},\"coordinates\":null,\"group\":null,\"ticker\":null},\"id\":\"1334\",\"type\":\"Grid\"},{\"attributes\":{\"bottom\":{\"expr\":{\"id\":\"1469\"}},\"fill_alpha\":{\"value\":0.2},\"fill_color\":{\"value\":\"steelblue\"},\"hatch_alpha\":{\"value\":0.2},\"hatch_color\":{\"value\":\"steelblue\"},\"line_alpha\":{\"value\":0.2},\"line_color\":{\"value\":\"steelblue\"},\"top\":{\"expr\":{\"id\":\"1470\"}},\"width\":{\"value\":0.8},\"x\":{\"field\":\"occupations\"}},\"id\":\"1477\",\"type\":\"VBar\"},{\"attributes\":{},\"id\":\"1336\",\"type\":\"BasicTicker\"},{\"attributes\":{\"data\":{\"Father\":[34,27,29,3,38],\"Mother\":[1,115,2,1,12],\"occupations\":[\"Business\",\"Farmer\",\"Others\",\"Retired\",\"Service\"]},\"selected\":{\"id\":\"1600\"},\"selection_policy\":{\"id\":\"1599\"}},\"id\":\"1559\",\"type\":\"ColumnDataSource\"},{\"attributes\":{\"bottom\":{\"expr\":{\"id\":\"1471\"}},\"fill_alpha\":{\"value\":0.2},\"fill_color\":{\"value\":\"coral\"},\"hatch_alpha\":{\"value\":0.2},\"hatch_color\":{\"value\":\"coral\"},\"line_alpha\":{\"value\":0.2},\"line_color\":{\"value\":\"coral\"},\"top\":{\"expr\":{\"id\":\"1472\"}},\"width\":{\"value\":0.8},\"x\":{\"field\":\"occupations\"}},\"id\":\"1563\",\"type\":\"VBar\"},{\"attributes\":{\"bottom\":{\"expr\":{\"id\":\"1469\"}},\"fill_color\":{\"value\":\"steelblue\"},\"hatch_color\":{\"value\":\"steelblue\"},\"line_color\":{\"value\":\"steelblue\"},\"top\":{\"expr\":{\"id\":\"1470\"}},\"width\":{\"value\":0.8},\"x\":{\"field\":\"occupations\"}},\"id\":\"1475\",\"type\":\"VBar\"},{\"attributes\":{\"source\":{\"id\":\"1473\"}},\"id\":\"1479\",\"type\":\"CDSView\"},{\"attributes\":{\"data\":{\"Father\":[34,27,29,3,38],\"Mother\":[1,115,2,1,12],\"occupations\":[\"Business\",\"Farmer\",\"Others\",\"Retired\",\"Service\"]},\"selected\":{\"id\":\"1512\"},\"selection_policy\":{\"id\":\"1511\"}},\"id\":\"1473\",\"type\":\"ColumnDataSource\"},{\"attributes\":{},\"id\":\"1360\",\"type\":\"UnionRenderers\"},{\"attributes\":{},\"id\":\"1511\",\"type\":\"UnionRenderers\"},{\"attributes\":{\"source\":{\"id\":\"1559\"}},\"id\":\"1565\",\"type\":\"CDSView\"},{\"attributes\":{\"fields\":[\"Father\"]},\"id\":\"1471\",\"type\":\"Stack\"},{\"attributes\":{\"bottom\":{\"expr\":{\"id\":\"1471\"}},\"fill_alpha\":{\"value\":0.1},\"fill_color\":{\"value\":\"coral\"},\"hatch_alpha\":{\"value\":0.1},\"hatch_color\":{\"value\":\"coral\"},\"line_alpha\":{\"value\":0.1},\"line_color\":{\"value\":\"coral\"},\"top\":{\"expr\":{\"id\":\"1472\"}},\"width\":{\"value\":0.8},\"x\":{\"field\":\"occupations\"}},\"id\":\"1562\",\"type\":\"VBar\"},{\"attributes\":{\"coordinates\":null,\"data_source\":{\"id\":\"1473\"},\"glyph\":{\"id\":\"1475\"},\"group\":null,\"hover_glyph\":null,\"muted_glyph\":{\"id\":\"1477\"},\"name\":\"Father\",\"nonselection_glyph\":{\"id\":\"1476\"},\"view\":{\"id\":\"1479\"}},\"id\":\"1478\",\"type\":\"GlyphRenderer\"},{\"attributes\":{\"bottom\":{\"expr\":{\"id\":\"1344\"}},\"fill_alpha\":{\"value\":0.1},\"fill_color\":{\"value\":\"salmon\"},\"hatch_alpha\":{\"value\":0.1},\"hatch_color\":{\"value\":\"salmon\"},\"line_alpha\":{\"value\":0.1},\"line_color\":{\"value\":\"salmon\"},\"top\":{\"expr\":{\"id\":\"1345\"}},\"width\":{\"value\":0.8},\"x\":{\"field\":\"occupations\"}},\"id\":\"1367\",\"type\":\"VBar\"},{\"attributes\":{\"fields\":[\"Father\",\"Mother\"]},\"id\":\"1472\",\"type\":\"Stack\"},{\"attributes\":{\"fields\":[\"Father\"]},\"id\":\"1470\",\"type\":\"Stack\"},{\"attributes\":{},\"id\":\"1333\",\"type\":\"CategoricalTicker\"},{\"attributes\":{},\"id\":\"1359\",\"type\":\"AllLabels\"},{\"attributes\":{},\"id\":\"1328\",\"type\":\"CategoricalScale\"},{\"attributes\":{\"bottom\":{\"expr\":{\"id\":\"1342\"}},\"fill_color\":{\"value\":\"skyblue\"},\"hatch_color\":{\"value\":\"skyblue\"},\"line_color\":{\"value\":\"skyblue\"},\"top\":{\"expr\":{\"id\":\"1343\"}},\"width\":{\"value\":0.8},\"x\":{\"field\":\"occupations\"}},\"id\":\"1348\",\"type\":\"VBar\"},{\"attributes\":{\"callback\":null,\"tooltips\":\"($name) @occupations: @$name\"},\"id\":\"1339\",\"type\":\"HoverTool\"},{\"attributes\":{\"data\":{\"Father\":[34,27,29,3,38],\"Mother\":[1,115,2,1,12],\"occupations\":[\"Business\",\"Farmer\",\"Others\",\"Retired\",\"Service\"]},\"selected\":{\"id\":\"1361\"},\"selection_policy\":{\"id\":\"1360\"}},\"id\":\"1346\",\"type\":\"ColumnDataSource\"},{\"attributes\":{\"bottom\":{\"expr\":{\"id\":\"1471\"}},\"fill_color\":{\"value\":\"coral\"},\"hatch_color\":{\"value\":\"coral\"},\"line_color\":{\"value\":\"coral\"},\"top\":{\"expr\":{\"id\":\"1472\"}},\"width\":{\"value\":0.8},\"x\":{\"field\":\"occupations\"}},\"id\":\"1561\",\"type\":\"VBar\"},{\"attributes\":{},\"id\":\"1330\",\"type\":\"LinearScale\"},{\"attributes\":{\"fields\":[\"Father\"]},\"id\":\"1344\",\"type\":\"Stack\"},{\"attributes\":{},\"id\":\"1358\",\"type\":\"CategoricalTickFormatter\"},{\"attributes\":{\"coordinates\":null,\"data_source\":{\"id\":\"1346\"},\"glyph\":{\"id\":\"1348\"},\"group\":null,\"hover_glyph\":null,\"muted_glyph\":{\"id\":\"1350\"},\"name\":\"Father\",\"nonselection_glyph\":{\"id\":\"1349\"},\"view\":{\"id\":\"1352\"}},\"id\":\"1351\",\"type\":\"GlyphRenderer\"},{\"attributes\":{\"axis\":{\"id\":\"1335\"},\"coordinates\":null,\"dimension\":1,\"group\":null,\"ticker\":null},\"id\":\"1338\",\"type\":\"Grid\"},{\"attributes\":{\"fields\":[\"Father\",\"Mother\"]},\"id\":\"1345\",\"type\":\"Stack\"},{\"attributes\":{\"fields\":[\"Father\"]},\"id\":\"1343\",\"type\":\"Stack\"},{\"attributes\":{\"bottom\":{\"expr\":{\"id\":\"1342\"}},\"fill_alpha\":{\"value\":0.1},\"fill_color\":{\"value\":\"skyblue\"},\"hatch_alpha\":{\"value\":0.1},\"hatch_color\":{\"value\":\"skyblue\"},\"line_alpha\":{\"value\":0.1},\"line_color\":{\"value\":\"skyblue\"},\"top\":{\"expr\":{\"id\":\"1343\"}},\"width\":{\"value\":0.8},\"x\":{\"field\":\"occupations\"}},\"id\":\"1349\",\"type\":\"VBar\"},{\"attributes\":{},\"id\":\"1600\",\"type\":\"Selection\"},{\"attributes\":{},\"id\":\"1355\",\"type\":\"BasicTickFormatter\"},{\"attributes\":{\"factors\":[\"Business\",\"Farmer\",\"Others\",\"Retired\",\"Service\"],\"range_padding\":0.1},\"id\":\"1324\",\"type\":\"FactorRange\"},{\"attributes\":{},\"id\":\"1356\",\"type\":\"AllLabels\"},{\"attributes\":{\"coordinates\":null,\"group\":null,\"items\":[{\"id\":\"1363\"},{\"id\":\"1382\"}],\"orientation\":\"horizontal\"},\"id\":\"1362\",\"type\":\"Legend\"},{\"attributes\":{\"coordinates\":null,\"data_source\":{\"id\":\"1364\"},\"glyph\":{\"id\":\"1366\"},\"group\":null,\"hover_glyph\":null,\"muted_glyph\":{\"id\":\"1368\"},\"name\":\"Mother\",\"nonselection_glyph\":{\"id\":\"1367\"},\"view\":{\"id\":\"1370\"}},\"id\":\"1369\",\"type\":\"GlyphRenderer\"},{\"attributes\":{\"bottom\":{\"expr\":{\"id\":\"1342\"}},\"fill_alpha\":{\"value\":0.2},\"fill_color\":{\"value\":\"skyblue\"},\"hatch_alpha\":{\"value\":0.2},\"hatch_color\":{\"value\":\"skyblue\"},\"line_alpha\":{\"value\":0.2},\"line_color\":{\"value\":\"skyblue\"},\"top\":{\"expr\":{\"id\":\"1343\"}},\"width\":{\"value\":0.8},\"x\":{\"field\":\"occupations\"}},\"id\":\"1350\",\"type\":\"VBar\"},{\"attributes\":{\"tools\":[{\"id\":\"1339\"}]},\"id\":\"1340\",\"type\":\"Toolbar\"},{\"attributes\":{\"fields\":[]},\"id\":\"1342\",\"type\":\"Stack\"},{\"attributes\":{},\"id\":\"1512\",\"type\":\"Selection\"},{\"attributes\":{\"label\":{\"value\":\"Mother\"},\"renderers\":[{\"id\":\"1369\"},{\"id\":\"1564\"}]},\"id\":\"1382\",\"type\":\"LegendItem\"},{\"attributes\":{\"source\":{\"id\":\"1364\"}},\"id\":\"1370\",\"type\":\"CDSView\"},{\"attributes\":{\"coordinates\":null,\"formatter\":{\"id\":\"1355\"},\"group\":null,\"major_label_policy\":{\"id\":\"1356\"},\"ticker\":{\"id\":\"1336\"}},\"id\":\"1335\",\"type\":\"LinearAxis\"},{\"attributes\":{\"coordinates\":null,\"data_source\":{\"id\":\"1559\"},\"glyph\":{\"id\":\"1561\"},\"group\":null,\"hover_glyph\":null,\"muted_glyph\":{\"id\":\"1563\"},\"name\":\"Mother\",\"nonselection_glyph\":{\"id\":\"1562\"},\"view\":{\"id\":\"1565\"}},\"id\":\"1564\",\"type\":\"GlyphRenderer\"},{\"attributes\":{\"bottom\":{\"expr\":{\"id\":\"1344\"}},\"fill_alpha\":{\"value\":0.2},\"fill_color\":{\"value\":\"salmon\"},\"hatch_alpha\":{\"value\":0.2},\"hatch_color\":{\"value\":\"salmon\"},\"line_alpha\":{\"value\":0.2},\"line_color\":{\"value\":\"salmon\"},\"top\":{\"expr\":{\"id\":\"1345\"}},\"width\":{\"value\":0.8},\"x\":{\"field\":\"occupations\"}},\"id\":\"1368\",\"type\":\"VBar\"},{\"attributes\":{},\"id\":\"1599\",\"type\":\"UnionRenderers\"},{\"attributes\":{\"coordinates\":null,\"group\":null,\"text\":\"Parents' Occupations\"},\"id\":\"1322\",\"type\":\"Title\"},{\"attributes\":{\"source\":{\"id\":\"1346\"}},\"id\":\"1352\",\"type\":\"CDSView\"},{\"attributes\":{\"label\":{\"value\":\"Father\"},\"renderers\":[{\"id\":\"1351\"},{\"id\":\"1478\"}]},\"id\":\"1363\",\"type\":\"LegendItem\"},{\"attributes\":{},\"id\":\"1381\",\"type\":\"Selection\"},{\"attributes\":{},\"id\":\"1380\",\"type\":\"UnionRenderers\"}],\"root_ids\":[\"1321\"]},\"title\":\"Bokeh Application\",\"version\":\"2.4.2\"}};\n  const render_items = [{\"docid\":\"1b9dcb38-d099-42c5-ad94-7517cd499292\",\"root_ids\":[\"1321\"],\"roots\":{\"1321\":\"a0378894-2e60-4af0-a688-f9acb4c9023c\"}}];\n  root.Bokeh.embed.embed_items_notebook(docs_json, render_items);\n\n  }\n  if (root.Bokeh !== undefined) {\n    embed_document(root);\n  } else {\n    let attempts = 0;\n    const timer = setInterval(function(root) {\n      if (root.Bokeh !== undefined) {\n        clearInterval(timer);\n        embed_document(root);\n      } else {\n        attempts++;\n        if (attempts > 100) {\n          clearInterval(timer);\n          console.log(\"Bokeh: ERROR: Unable to run BokehJS code because BokehJS library is missing\");\n        }\n      }\n    }, 10, root)\n  }\n})(window);",
      "application/vnd.bokehjs_exec.v0+json": ""
     },
     "metadata": {
      "application/vnd.bokehjs_exec.v0+json": {
       "id": "1321"
      }
     },
     "output_type": "display_data"
    }
   ],
   "source": [
    "# The legend orientation can be horizontal\n",
    "p_v.vbar_stack(parent, x='occupations', width=0.8, color=['steelblue','coral'], \n",
    "                source=datap, legend_label=parent)\n",
    "p_v.y_range.start = 0\n",
    "p_v.x_range.range_padding = 0.1\n",
    "p_v.legend.location = \"top_right\"\n",
    "p_v.legend.orientation = \"horizontal\"\n",
    "\n",
    "show(p_v)"
   ]
  },
  {
   "cell_type": "markdown",
   "metadata": {},
   "source": [
    "### Horizontal Stacked Bars"
   ]
  },
  {
   "cell_type": "code",
   "execution_count": 32,
   "metadata": {},
   "outputs": [],
   "source": [
    "p_h = figure(y_range=occupations, width=600, height=400 , title=\"Parents' Occupations\",\n",
    "           toolbar_location=None, tools=\"hover\", tooltips=\"($name) @occupations: @$name\")"
   ]
  },
  {
   "cell_type": "code",
   "execution_count": 33,
   "metadata": {},
   "outputs": [
    {
     "data": {
      "text/html": [
       "\n",
       "\n",
       "\n",
       "\n",
       "\n",
       "\n",
       "  <div class=\"bk-root\" id=\"b127d1c4-5da5-43dd-b4d8-174d400f85af\" data-root-id=\"1726\"></div>\n"
      ]
     },
     "metadata": {},
     "output_type": "display_data"
    },
    {
     "data": {
      "application/javascript": "(function(root) {\n  function embed_document(root) {\n    \n  const docs_json = {\"6e07f651-b0c2-42ac-b2b8-a998f05fb98d\":{\"defs\":[],\"roots\":{\"references\":[{\"attributes\":{\"below\":[{\"id\":\"1737\"}],\"center\":[{\"id\":\"1740\"},{\"id\":\"1743\"},{\"id\":\"1767\"}],\"height\":400,\"left\":[{\"id\":\"1741\"}],\"renderers\":[{\"id\":\"1756\"},{\"id\":\"1774\"}],\"title\":{\"id\":\"1727\"},\"toolbar\":{\"id\":\"1745\"},\"toolbar_location\":null,\"x_range\":{\"id\":\"1729\"},\"x_scale\":{\"id\":\"1733\"},\"y_range\":{\"id\":\"1731\"},\"y_scale\":{\"id\":\"1735\"}},\"id\":\"1726\",\"subtype\":\"Figure\",\"type\":\"Plot\"},{\"attributes\":{\"coordinates\":null,\"formatter\":{\"id\":\"1760\"},\"group\":null,\"major_label_policy\":{\"id\":\"1761\"},\"ticker\":{\"id\":\"1742\"}},\"id\":\"1741\",\"type\":\"CategoricalAxis\"},{\"attributes\":{\"factors\":[\"Business\",\"Farmer\",\"Others\",\"Retired\",\"Service\"],\"range_padding\":0.1},\"id\":\"1731\",\"type\":\"FactorRange\"},{\"attributes\":{\"fill_alpha\":{\"value\":0.2},\"fill_color\":{\"value\":\"salmon\"},\"hatch_alpha\":{\"value\":0.2},\"hatch_color\":{\"value\":\"salmon\"},\"height\":{\"value\":0.9},\"left\":{\"expr\":{\"id\":\"1749\"}},\"line_alpha\":{\"value\":0.2},\"line_color\":{\"value\":\"salmon\"},\"right\":{\"expr\":{\"id\":\"1750\"}},\"y\":{\"field\":\"occupations\"}},\"id\":\"1773\",\"type\":\"HBar\"},{\"attributes\":{\"source\":{\"id\":\"1751\"}},\"id\":\"1757\",\"type\":\"CDSView\"},{\"attributes\":{\"fields\":[]},\"id\":\"1747\",\"type\":\"Stack\"},{\"attributes\":{\"start\":0},\"id\":\"1729\",\"type\":\"DataRange1d\"},{\"attributes\":{\"axis\":{\"id\":\"1741\"},\"coordinates\":null,\"dimension\":1,\"group\":null,\"ticker\":null},\"id\":\"1743\",\"type\":\"Grid\"},{\"attributes\":{\"fill_color\":{\"value\":\"skyblue\"},\"hatch_color\":{\"value\":\"skyblue\"},\"height\":{\"value\":0.9},\"left\":{\"expr\":{\"id\":\"1747\"}},\"line_color\":{\"value\":\"skyblue\"},\"right\":{\"expr\":{\"id\":\"1748\"}},\"y\":{\"field\":\"occupations\"}},\"id\":\"1753\",\"type\":\"HBar\"},{\"attributes\":{\"fill_alpha\":{\"value\":0.2},\"fill_color\":{\"value\":\"skyblue\"},\"hatch_alpha\":{\"value\":0.2},\"hatch_color\":{\"value\":\"skyblue\"},\"height\":{\"value\":0.9},\"left\":{\"expr\":{\"id\":\"1747\"}},\"line_alpha\":{\"value\":0.2},\"line_color\":{\"value\":\"skyblue\"},\"right\":{\"expr\":{\"id\":\"1748\"}},\"y\":{\"field\":\"occupations\"}},\"id\":\"1755\",\"type\":\"HBar\"},{\"attributes\":{\"source\":{\"id\":\"1769\"}},\"id\":\"1775\",\"type\":\"CDSView\"},{\"attributes\":{\"coordinates\":null,\"group\":null,\"items\":[{\"id\":\"1768\"},{\"id\":\"1787\"}]},\"id\":\"1767\",\"type\":\"Legend\"},{\"attributes\":{\"label\":{\"value\":\"Mother\"},\"renderers\":[{\"id\":\"1774\"}]},\"id\":\"1787\",\"type\":\"LegendItem\"},{\"attributes\":{},\"id\":\"1733\",\"type\":\"LinearScale\"},{\"attributes\":{},\"id\":\"1786\",\"type\":\"Selection\"},{\"attributes\":{},\"id\":\"1760\",\"type\":\"CategoricalTickFormatter\"},{\"attributes\":{\"fill_alpha\":{\"value\":0.1},\"fill_color\":{\"value\":\"skyblue\"},\"hatch_alpha\":{\"value\":0.1},\"hatch_color\":{\"value\":\"skyblue\"},\"height\":{\"value\":0.9},\"left\":{\"expr\":{\"id\":\"1747\"}},\"line_alpha\":{\"value\":0.1},\"line_color\":{\"value\":\"skyblue\"},\"right\":{\"expr\":{\"id\":\"1748\"}},\"y\":{\"field\":\"occupations\"}},\"id\":\"1754\",\"type\":\"HBar\"},{\"attributes\":{\"callback\":null,\"tooltips\":\"($name) @occupations: @$name\"},\"id\":\"1744\",\"type\":\"HoverTool\"},{\"attributes\":{\"coordinates\":null,\"data_source\":{\"id\":\"1751\"},\"glyph\":{\"id\":\"1753\"},\"group\":null,\"hover_glyph\":null,\"muted_glyph\":{\"id\":\"1755\"},\"name\":\"Father\",\"nonselection_glyph\":{\"id\":\"1754\"},\"view\":{\"id\":\"1757\"}},\"id\":\"1756\",\"type\":\"GlyphRenderer\"},{\"attributes\":{},\"id\":\"1785\",\"type\":\"UnionRenderers\"},{\"attributes\":{},\"id\":\"1761\",\"type\":\"AllLabels\"},{\"attributes\":{},\"id\":\"1763\",\"type\":\"BasicTickFormatter\"},{\"attributes\":{\"axis\":{\"id\":\"1737\"},\"coordinates\":null,\"group\":null,\"ticker\":null},\"id\":\"1740\",\"type\":\"Grid\"},{\"attributes\":{},\"id\":\"1764\",\"type\":\"AllLabels\"},{\"attributes\":{},\"id\":\"1738\",\"type\":\"BasicTicker\"},{\"attributes\":{},\"id\":\"1735\",\"type\":\"CategoricalScale\"},{\"attributes\":{\"coordinates\":null,\"formatter\":{\"id\":\"1763\"},\"group\":null,\"major_label_policy\":{\"id\":\"1764\"},\"ticker\":{\"id\":\"1738\"}},\"id\":\"1737\",\"type\":\"LinearAxis\"},{\"attributes\":{\"coordinates\":null,\"data_source\":{\"id\":\"1769\"},\"glyph\":{\"id\":\"1771\"},\"group\":null,\"hover_glyph\":null,\"muted_glyph\":{\"id\":\"1773\"},\"name\":\"Mother\",\"nonselection_glyph\":{\"id\":\"1772\"},\"view\":{\"id\":\"1775\"}},\"id\":\"1774\",\"type\":\"GlyphRenderer\"},{\"attributes\":{},\"id\":\"1765\",\"type\":\"UnionRenderers\"},{\"attributes\":{\"label\":{\"value\":\"Father\"},\"renderers\":[{\"id\":\"1756\"}]},\"id\":\"1768\",\"type\":\"LegendItem\"},{\"attributes\":{\"fields\":[\"Father\"]},\"id\":\"1748\",\"type\":\"Stack\"},{\"attributes\":{\"coordinates\":null,\"group\":null,\"text\":\"Parents' Occupations\"},\"id\":\"1727\",\"type\":\"Title\"},{\"attributes\":{\"data\":{\"Father\":[34,27,29,3,38],\"Mother\":[1,115,2,1,12],\"occupations\":[\"Business\",\"Farmer\",\"Others\",\"Retired\",\"Service\"]},\"selected\":{\"id\":\"1786\"},\"selection_policy\":{\"id\":\"1785\"}},\"id\":\"1769\",\"type\":\"ColumnDataSource\"},{\"attributes\":{},\"id\":\"1742\",\"type\":\"CategoricalTicker\"},{\"attributes\":{},\"id\":\"1766\",\"type\":\"Selection\"},{\"attributes\":{\"fields\":[\"Father\",\"Mother\"]},\"id\":\"1750\",\"type\":\"Stack\"},{\"attributes\":{\"tools\":[{\"id\":\"1744\"}]},\"id\":\"1745\",\"type\":\"Toolbar\"},{\"attributes\":{\"fill_color\":{\"value\":\"salmon\"},\"hatch_color\":{\"value\":\"salmon\"},\"height\":{\"value\":0.9},\"left\":{\"expr\":{\"id\":\"1749\"}},\"line_color\":{\"value\":\"salmon\"},\"right\":{\"expr\":{\"id\":\"1750\"}},\"y\":{\"field\":\"occupations\"}},\"id\":\"1771\",\"type\":\"HBar\"},{\"attributes\":{\"fields\":[\"Father\"]},\"id\":\"1749\",\"type\":\"Stack\"},{\"attributes\":{\"fill_alpha\":{\"value\":0.1},\"fill_color\":{\"value\":\"salmon\"},\"hatch_alpha\":{\"value\":0.1},\"hatch_color\":{\"value\":\"salmon\"},\"height\":{\"value\":0.9},\"left\":{\"expr\":{\"id\":\"1749\"}},\"line_alpha\":{\"value\":0.1},\"line_color\":{\"value\":\"salmon\"},\"right\":{\"expr\":{\"id\":\"1750\"}},\"y\":{\"field\":\"occupations\"}},\"id\":\"1772\",\"type\":\"HBar\"},{\"attributes\":{\"data\":{\"Father\":[34,27,29,3,38],\"Mother\":[1,115,2,1,12],\"occupations\":[\"Business\",\"Farmer\",\"Others\",\"Retired\",\"Service\"]},\"selected\":{\"id\":\"1766\"},\"selection_policy\":{\"id\":\"1765\"}},\"id\":\"1751\",\"type\":\"ColumnDataSource\"}],\"root_ids\":[\"1726\"]},\"title\":\"Bokeh Application\",\"version\":\"2.4.2\"}};\n  const render_items = [{\"docid\":\"6e07f651-b0c2-42ac-b2b8-a998f05fb98d\",\"root_ids\":[\"1726\"],\"roots\":{\"1726\":\"b127d1c4-5da5-43dd-b4d8-174d400f85af\"}}];\n  root.Bokeh.embed.embed_items_notebook(docs_json, render_items);\n\n  }\n  if (root.Bokeh !== undefined) {\n    embed_document(root);\n  } else {\n    let attempts = 0;\n    const timer = setInterval(function(root) {\n      if (root.Bokeh !== undefined) {\n        clearInterval(timer);\n        embed_document(root);\n      } else {\n        attempts++;\n        if (attempts > 100) {\n          clearInterval(timer);\n          console.log(\"Bokeh: ERROR: Unable to run BokehJS code because BokehJS library is missing\");\n        }\n      }\n    }, 10, root)\n  }\n})(window);",
      "application/vnd.bokehjs_exec.v0+json": ""
     },
     "metadata": {
      "application/vnd.bokehjs_exec.v0+json": {
       "id": "1726"
      }
     },
     "output_type": "display_data"
    }
   ],
   "source": [
    "p_h.hbar_stack(parent, y='occupations', height=0.9, color=['skyblue','salmon' ], \n",
    "        source=datap, legend_label=parent)\n",
    "p_h.x_range.start = 0\n",
    "p_h.y_range.range_padding = 0.1\n",
    "p_h.legend.location = \"top_right\"\n",
    "p_h.legend.orientation = \"vertical\"\n",
    "\n",
    "show(p_h)"
   ]
  },
  {
   "cell_type": "code",
   "execution_count": 34,
   "metadata": {},
   "outputs": [
    {
     "data": {
      "text/html": [
       "\n",
       "\n",
       "\n",
       "\n",
       "\n",
       "\n",
       "  <div class=\"bk-root\" id=\"70718f0f-c6f8-43a4-8a16-c18b26cf50cc\" data-root-id=\"1726\"></div>\n"
      ]
     },
     "metadata": {},
     "output_type": "display_data"
    },
    {
     "data": {
      "application/javascript": "(function(root) {\n  function embed_document(root) {\n    \n  const docs_json = {\"3b097196-cc54-4cf8-8f1c-b0e849cbfb07\":{\"defs\":[],\"roots\":{\"references\":[{\"attributes\":{\"below\":[{\"id\":\"1737\"}],\"center\":[{\"id\":\"1740\"},{\"id\":\"1743\"},{\"id\":\"1767\"}],\"height\":400,\"left\":[{\"id\":\"1741\"}],\"renderers\":[{\"id\":\"1756\"},{\"id\":\"1774\"},{\"id\":\"1898\"},{\"id\":\"2014\"}],\"title\":{\"id\":\"1727\"},\"toolbar\":{\"id\":\"1745\"},\"toolbar_location\":null,\"x_range\":{\"id\":\"1729\"},\"x_scale\":{\"id\":\"1733\"},\"y_range\":{\"id\":\"1731\"},\"y_scale\":{\"id\":\"1735\"}},\"id\":\"1726\",\"subtype\":\"Figure\",\"type\":\"Plot\"},{\"attributes\":{\"coordinates\":null,\"formatter\":{\"id\":\"1760\"},\"group\":null,\"major_label_policy\":{\"id\":\"1761\"},\"ticker\":{\"id\":\"1742\"}},\"id\":\"1741\",\"type\":\"CategoricalAxis\"},{\"attributes\":{\"factors\":[\"Business\",\"Farmer\",\"Others\",\"Retired\",\"Service\"],\"range_padding\":0.1},\"id\":\"1731\",\"type\":\"FactorRange\"},{\"attributes\":{\"fill_alpha\":{\"value\":0.2},\"fill_color\":{\"value\":\"salmon\"},\"hatch_alpha\":{\"value\":0.2},\"hatch_color\":{\"value\":\"salmon\"},\"height\":{\"value\":0.9},\"left\":{\"expr\":{\"id\":\"1749\"}},\"line_alpha\":{\"value\":0.2},\"line_color\":{\"value\":\"salmon\"},\"right\":{\"expr\":{\"id\":\"1750\"}},\"y\":{\"field\":\"occupations\"}},\"id\":\"1773\",\"type\":\"HBar\"},{\"attributes\":{\"source\":{\"id\":\"1751\"}},\"id\":\"1757\",\"type\":\"CDSView\"},{\"attributes\":{\"fields\":[]},\"id\":\"1747\",\"type\":\"Stack\"},{\"attributes\":{\"start\":0},\"id\":\"1729\",\"type\":\"DataRange1d\"},{\"attributes\":{\"axis\":{\"id\":\"1741\"},\"coordinates\":null,\"dimension\":1,\"group\":null,\"ticker\":null},\"id\":\"1743\",\"type\":\"Grid\"},{\"attributes\":{\"fill_color\":{\"value\":\"skyblue\"},\"hatch_color\":{\"value\":\"skyblue\"},\"height\":{\"value\":0.9},\"left\":{\"expr\":{\"id\":\"1747\"}},\"line_color\":{\"value\":\"skyblue\"},\"right\":{\"expr\":{\"id\":\"1748\"}},\"y\":{\"field\":\"occupations\"}},\"id\":\"1753\",\"type\":\"HBar\"},{\"attributes\":{\"fill_alpha\":{\"value\":0.2},\"fill_color\":{\"value\":\"skyblue\"},\"hatch_alpha\":{\"value\":0.2},\"hatch_color\":{\"value\":\"skyblue\"},\"height\":{\"value\":0.9},\"left\":{\"expr\":{\"id\":\"1747\"}},\"line_alpha\":{\"value\":0.2},\"line_color\":{\"value\":\"skyblue\"},\"right\":{\"expr\":{\"id\":\"1748\"}},\"y\":{\"field\":\"occupations\"}},\"id\":\"1755\",\"type\":\"HBar\"},{\"attributes\":{\"source\":{\"id\":\"1769\"}},\"id\":\"1775\",\"type\":\"CDSView\"},{\"attributes\":{\"coordinates\":null,\"group\":null,\"items\":[{\"id\":\"1768\"},{\"id\":\"1787\"}],\"location\":\"center\",\"orientation\":\"horizontal\"},\"id\":\"1767\",\"type\":\"Legend\"},{\"attributes\":{\"label\":{\"value\":\"Mother\"},\"renderers\":[{\"id\":\"1774\"},{\"id\":\"2014\"}]},\"id\":\"1787\",\"type\":\"LegendItem\"},{\"attributes\":{\"coordinates\":null,\"data_source\":{\"id\":\"1893\"},\"glyph\":{\"id\":\"1895\"},\"group\":null,\"hover_glyph\":null,\"muted_glyph\":{\"id\":\"1897\"},\"name\":\"Father\",\"nonselection_glyph\":{\"id\":\"1896\"},\"view\":{\"id\":\"1899\"}},\"id\":\"1898\",\"type\":\"GlyphRenderer\"},{\"attributes\":{\"fields\":[\"Father\",\"Mother\"]},\"id\":\"1892\",\"type\":\"Stack\"},{\"attributes\":{},\"id\":\"2064\",\"type\":\"UnionRenderers\"},{\"attributes\":{},\"id\":\"1733\",\"type\":\"LinearScale\"},{\"attributes\":{\"fields\":[]},\"id\":\"1889\",\"type\":\"Stack\"},{\"attributes\":{},\"id\":\"1786\",\"type\":\"Selection\"},{\"attributes\":{},\"id\":\"1760\",\"type\":\"CategoricalTickFormatter\"},{\"attributes\":{\"fill_alpha\":{\"value\":0.1},\"fill_color\":{\"value\":\"skyblue\"},\"hatch_alpha\":{\"value\":0.1},\"hatch_color\":{\"value\":\"skyblue\"},\"height\":{\"value\":0.9},\"left\":{\"expr\":{\"id\":\"1747\"}},\"line_alpha\":{\"value\":0.1},\"line_color\":{\"value\":\"skyblue\"},\"right\":{\"expr\":{\"id\":\"1748\"}},\"y\":{\"field\":\"occupations\"}},\"id\":\"1754\",\"type\":\"HBar\"},{\"attributes\":{\"callback\":null,\"tooltips\":\"($name) @occupations: @$name\"},\"id\":\"1744\",\"type\":\"HoverTool\"},{\"attributes\":{\"coordinates\":null,\"data_source\":{\"id\":\"1751\"},\"glyph\":{\"id\":\"1753\"},\"group\":null,\"hover_glyph\":null,\"muted_glyph\":{\"id\":\"1755\"},\"name\":\"Father\",\"nonselection_glyph\":{\"id\":\"1754\"},\"view\":{\"id\":\"1757\"}},\"id\":\"1756\",\"type\":\"GlyphRenderer\"},{\"attributes\":{},\"id\":\"1785\",\"type\":\"UnionRenderers\"},{\"attributes\":{},\"id\":\"1761\",\"type\":\"AllLabels\"},{\"attributes\":{\"source\":{\"id\":\"2009\"}},\"id\":\"2015\",\"type\":\"CDSView\"},{\"attributes\":{},\"id\":\"1763\",\"type\":\"BasicTickFormatter\"},{\"attributes\":{\"fill_alpha\":{\"value\":0.2},\"fill_color\":{\"value\":\"steelblue\"},\"hatch_alpha\":{\"value\":0.2},\"hatch_color\":{\"value\":\"steelblue\"},\"height\":{\"value\":0.9},\"left\":{\"expr\":{\"id\":\"1889\"}},\"line_alpha\":{\"value\":0.2},\"line_color\":{\"value\":\"steelblue\"},\"right\":{\"expr\":{\"id\":\"1890\"}},\"y\":{\"field\":\"occupations\"}},\"id\":\"1897\",\"type\":\"HBar\"},{\"attributes\":{\"axis\":{\"id\":\"1737\"},\"coordinates\":null,\"group\":null,\"ticker\":null},\"id\":\"1740\",\"type\":\"Grid\"},{\"attributes\":{\"fill_alpha\":{\"value\":0.2},\"fill_color\":{\"value\":\"coral\"},\"hatch_alpha\":{\"value\":0.2},\"hatch_color\":{\"value\":\"coral\"},\"height\":{\"value\":0.9},\"left\":{\"expr\":{\"id\":\"1891\"}},\"line_alpha\":{\"value\":0.2},\"line_color\":{\"value\":\"coral\"},\"right\":{\"expr\":{\"id\":\"1892\"}},\"y\":{\"field\":\"occupations\"}},\"id\":\"2013\",\"type\":\"HBar\"},{\"attributes\":{},\"id\":\"1764\",\"type\":\"AllLabels\"},{\"attributes\":{\"fill_alpha\":{\"value\":0.1},\"fill_color\":{\"value\":\"steelblue\"},\"hatch_alpha\":{\"value\":0.1},\"hatch_color\":{\"value\":\"steelblue\"},\"height\":{\"value\":0.9},\"left\":{\"expr\":{\"id\":\"1889\"}},\"line_alpha\":{\"value\":0.1},\"line_color\":{\"value\":\"steelblue\"},\"right\":{\"expr\":{\"id\":\"1890\"}},\"y\":{\"field\":\"occupations\"}},\"id\":\"1896\",\"type\":\"HBar\"},{\"attributes\":{\"data\":{\"Father\":[34,27,29,3,38],\"Mother\":[1,115,2,1,12],\"occupations\":[\"Business\",\"Farmer\",\"Others\",\"Retired\",\"Service\"]},\"selected\":{\"id\":\"1947\"},\"selection_policy\":{\"id\":\"1946\"}},\"id\":\"1893\",\"type\":\"ColumnDataSource\"},{\"attributes\":{\"data\":{\"Father\":[34,27,29,3,38],\"Mother\":[1,115,2,1,12],\"occupations\":[\"Business\",\"Farmer\",\"Others\",\"Retired\",\"Service\"]},\"selected\":{\"id\":\"2065\"},\"selection_policy\":{\"id\":\"2064\"}},\"id\":\"2009\",\"type\":\"ColumnDataSource\"},{\"attributes\":{},\"id\":\"1947\",\"type\":\"Selection\"},{\"attributes\":{\"fields\":[\"Father\"]},\"id\":\"1891\",\"type\":\"Stack\"},{\"attributes\":{},\"id\":\"1738\",\"type\":\"BasicTicker\"},{\"attributes\":{},\"id\":\"1735\",\"type\":\"CategoricalScale\"},{\"attributes\":{\"fill_alpha\":{\"value\":0.1},\"fill_color\":{\"value\":\"coral\"},\"hatch_alpha\":{\"value\":0.1},\"hatch_color\":{\"value\":\"coral\"},\"height\":{\"value\":0.9},\"left\":{\"expr\":{\"id\":\"1891\"}},\"line_alpha\":{\"value\":0.1},\"line_color\":{\"value\":\"coral\"},\"right\":{\"expr\":{\"id\":\"1892\"}},\"y\":{\"field\":\"occupations\"}},\"id\":\"2012\",\"type\":\"HBar\"},{\"attributes\":{\"fields\":[\"Father\"]},\"id\":\"1890\",\"type\":\"Stack\"},{\"attributes\":{\"coordinates\":null,\"formatter\":{\"id\":\"1763\"},\"group\":null,\"major_label_policy\":{\"id\":\"1764\"},\"ticker\":{\"id\":\"1738\"}},\"id\":\"1737\",\"type\":\"LinearAxis\"},{\"attributes\":{\"coordinates\":null,\"data_source\":{\"id\":\"1769\"},\"glyph\":{\"id\":\"1771\"},\"group\":null,\"hover_glyph\":null,\"muted_glyph\":{\"id\":\"1773\"},\"name\":\"Mother\",\"nonselection_glyph\":{\"id\":\"1772\"},\"view\":{\"id\":\"1775\"}},\"id\":\"1774\",\"type\":\"GlyphRenderer\"},{\"attributes\":{\"source\":{\"id\":\"1893\"}},\"id\":\"1899\",\"type\":\"CDSView\"},{\"attributes\":{\"label\":{\"value\":\"Father\"},\"renderers\":[{\"id\":\"1756\"},{\"id\":\"1898\"}]},\"id\":\"1768\",\"type\":\"LegendItem\"},{\"attributes\":{},\"id\":\"1765\",\"type\":\"UnionRenderers\"},{\"attributes\":{\"coordinates\":null,\"group\":null,\"text\":\"Parents' Occupations\"},\"id\":\"1727\",\"type\":\"Title\"},{\"attributes\":{\"coordinates\":null,\"data_source\":{\"id\":\"2009\"},\"glyph\":{\"id\":\"2011\"},\"group\":null,\"hover_glyph\":null,\"muted_glyph\":{\"id\":\"2013\"},\"name\":\"Mother\",\"nonselection_glyph\":{\"id\":\"2012\"},\"view\":{\"id\":\"2015\"}},\"id\":\"2014\",\"type\":\"GlyphRenderer\"},{\"attributes\":{\"fields\":[\"Father\"]},\"id\":\"1748\",\"type\":\"Stack\"},{\"attributes\":{\"fill_color\":{\"value\":\"steelblue\"},\"hatch_color\":{\"value\":\"steelblue\"},\"height\":{\"value\":0.9},\"left\":{\"expr\":{\"id\":\"1889\"}},\"line_color\":{\"value\":\"steelblue\"},\"right\":{\"expr\":{\"id\":\"1890\"}},\"y\":{\"field\":\"occupations\"}},\"id\":\"1895\",\"type\":\"HBar\"},{\"attributes\":{\"data\":{\"Father\":[34,27,29,3,38],\"Mother\":[1,115,2,1,12],\"occupations\":[\"Business\",\"Farmer\",\"Others\",\"Retired\",\"Service\"]},\"selected\":{\"id\":\"1786\"},\"selection_policy\":{\"id\":\"1785\"}},\"id\":\"1769\",\"type\":\"ColumnDataSource\"},{\"attributes\":{},\"id\":\"1742\",\"type\":\"CategoricalTicker\"},{\"attributes\":{},\"id\":\"1766\",\"type\":\"Selection\"},{\"attributes\":{},\"id\":\"1946\",\"type\":\"UnionRenderers\"},{\"attributes\":{\"fields\":[\"Father\",\"Mother\"]},\"id\":\"1750\",\"type\":\"Stack\"},{\"attributes\":{\"tools\":[{\"id\":\"1744\"}]},\"id\":\"1745\",\"type\":\"Toolbar\"},{\"attributes\":{\"fill_color\":{\"value\":\"salmon\"},\"hatch_color\":{\"value\":\"salmon\"},\"height\":{\"value\":0.9},\"left\":{\"expr\":{\"id\":\"1749\"}},\"line_color\":{\"value\":\"salmon\"},\"right\":{\"expr\":{\"id\":\"1750\"}},\"y\":{\"field\":\"occupations\"}},\"id\":\"1771\",\"type\":\"HBar\"},{\"attributes\":{\"fields\":[\"Father\"]},\"id\":\"1749\",\"type\":\"Stack\"},{\"attributes\":{},\"id\":\"2065\",\"type\":\"Selection\"},{\"attributes\":{\"fill_color\":{\"value\":\"coral\"},\"hatch_color\":{\"value\":\"coral\"},\"height\":{\"value\":0.9},\"left\":{\"expr\":{\"id\":\"1891\"}},\"line_color\":{\"value\":\"coral\"},\"right\":{\"expr\":{\"id\":\"1892\"}},\"y\":{\"field\":\"occupations\"}},\"id\":\"2011\",\"type\":\"HBar\"},{\"attributes\":{\"fill_alpha\":{\"value\":0.1},\"fill_color\":{\"value\":\"salmon\"},\"hatch_alpha\":{\"value\":0.1},\"hatch_color\":{\"value\":\"salmon\"},\"height\":{\"value\":0.9},\"left\":{\"expr\":{\"id\":\"1749\"}},\"line_alpha\":{\"value\":0.1},\"line_color\":{\"value\":\"salmon\"},\"right\":{\"expr\":{\"id\":\"1750\"}},\"y\":{\"field\":\"occupations\"}},\"id\":\"1772\",\"type\":\"HBar\"},{\"attributes\":{\"data\":{\"Father\":[34,27,29,3,38],\"Mother\":[1,115,2,1,12],\"occupations\":[\"Business\",\"Farmer\",\"Others\",\"Retired\",\"Service\"]},\"selected\":{\"id\":\"1766\"},\"selection_policy\":{\"id\":\"1765\"}},\"id\":\"1751\",\"type\":\"ColumnDataSource\"}],\"root_ids\":[\"1726\"]},\"title\":\"Bokeh Application\",\"version\":\"2.4.2\"}};\n  const render_items = [{\"docid\":\"3b097196-cc54-4cf8-8f1c-b0e849cbfb07\",\"root_ids\":[\"1726\"],\"roots\":{\"1726\":\"70718f0f-c6f8-43a4-8a16-c18b26cf50cc\"}}];\n  root.Bokeh.embed.embed_items_notebook(docs_json, render_items);\n\n  }\n  if (root.Bokeh !== undefined) {\n    embed_document(root);\n  } else {\n    let attempts = 0;\n    const timer = setInterval(function(root) {\n      if (root.Bokeh !== undefined) {\n        clearInterval(timer);\n        embed_document(root);\n      } else {\n        attempts++;\n        if (attempts > 100) {\n          clearInterval(timer);\n          console.log(\"Bokeh: ERROR: Unable to run BokehJS code because BokehJS library is missing\");\n        }\n      }\n    }, 10, root)\n  }\n})(window);",
      "application/vnd.bokehjs_exec.v0+json": ""
     },
     "metadata": {
      "application/vnd.bokehjs_exec.v0+json": {
       "id": "1726"
      }
     },
     "output_type": "display_data"
    }
   ],
   "source": [
    "# The legend orientation can be horizontal. Let's locate it at the center of the graph.\n",
    "p_h.hbar_stack(parent, y='occupations', height=0.9, color=['steelblue','coral' ], \n",
    "        source=datap, legend_label=parent)\n",
    "p_h.x_range.start = 0\n",
    "p_h.y_range.range_padding = 0.1\n",
    "p_h.legend.location = \"center\"\n",
    "p_h.legend.orientation = \"horizontal\"\n",
    "\n",
    "show(p_h)"
   ]
  },
  {
   "cell_type": "markdown",
   "metadata": {},
   "source": [
    "### Grouping"
   ]
  },
  {
   "cell_type": "code",
   "execution_count": 35,
   "metadata": {},
   "outputs": [],
   "source": [
    "from bokeh.models import FactorRange\n",
    "from bokeh.transform import factor_cmap"
   ]
  },
  {
   "cell_type": "code",
   "execution_count": 36,
   "metadata": {},
   "outputs": [
    {
     "data": {
      "text/plain": [
       "[('Business', 'Father'),\n",
       " ('Business', 'Mother'),\n",
       " ('Farmer', 'Father'),\n",
       " ('Farmer', 'Mother'),\n",
       " ('Others', 'Father'),\n",
       " ('Others', 'Mother'),\n",
       " ('Retired', 'Father'),\n",
       " ('Retired', 'Mother'),\n",
       " ('Service', 'Father'),\n",
       " ('Service', 'Mother')]"
      ]
     },
     "execution_count": 36,
     "metadata": {},
     "output_type": "execute_result"
    }
   ],
   "source": [
    "# this creates [ (\"Business\", \"Father\"), (\"Business\", \"Mother\"), (\"Farmer\", \"Father\"), ...]\n",
    "X_val = [ (occ, par) for occ in occupations for par in parent ]\n",
    "X_val"
   ]
  },
  {
   "cell_type": "code",
   "execution_count": 37,
   "metadata": {},
   "outputs": [
    {
     "data": {
      "text/plain": [
       "(34, 1, 27, 115, 29, 2, 3, 1, 38, 12)"
      ]
     },
     "execution_count": 37,
     "metadata": {},
     "output_type": "execute_result"
    }
   ],
   "source": [
    "counts = sum(zip(datap['Father'], datap['Mother']), ()) \n",
    "counts"
   ]
  },
  {
   "cell_type": "code",
   "execution_count": 38,
   "metadata": {},
   "outputs": [],
   "source": [
    "sourceg = ColumnDataSource(data=dict(x=X_val, counts=counts))"
   ]
  },
  {
   "cell_type": "code",
   "execution_count": 39,
   "metadata": {},
   "outputs": [],
   "source": [
    "pg = figure(x_range=FactorRange(*X_val), width=700, height=350, title=\"Parents' Occupations\",\n",
    "            toolbar_location=None, tools=\"hover\", tooltips=\"@counts\")"
   ]
  },
  {
   "cell_type": "code",
   "execution_count": 40,
   "metadata": {},
   "outputs": [
    {
     "data": {
      "text/html": [
       "\n",
       "\n",
       "\n",
       "\n",
       "\n",
       "\n",
       "  <div class=\"bk-root\" id=\"f470ced2-2b58-487f-972d-96b071434d6c\" data-root-id=\"2208\"></div>\n"
      ]
     },
     "metadata": {},
     "output_type": "display_data"
    },
    {
     "data": {
      "application/javascript": "(function(root) {\n  function embed_document(root) {\n    \n  const docs_json = {\"bf87e00f-84eb-4132-bcdb-ed0e36cfe867\":{\"defs\":[],\"roots\":{\"references\":[{\"attributes\":{\"below\":[{\"id\":\"2218\"}],\"center\":[{\"id\":\"2220\"},{\"id\":\"2224\"}],\"height\":350,\"left\":[{\"id\":\"2221\"}],\"renderers\":[{\"id\":\"2233\"}],\"title\":{\"id\":\"2209\"},\"toolbar\":{\"id\":\"2226\"},\"toolbar_location\":null,\"width\":700,\"x_range\":{\"id\":\"2207\"},\"x_scale\":{\"id\":\"2214\"},\"y_range\":{\"id\":\"2212\"},\"y_scale\":{\"id\":\"2216\"}},\"id\":\"2208\",\"subtype\":\"Figure\",\"type\":\"Plot\"},{\"attributes\":{},\"id\":\"2214\",\"type\":\"CategoricalScale\"},{\"attributes\":{\"factors\":[[\"Business\",\"Father\"],[\"Business\",\"Mother\"],[\"Farmer\",\"Father\"],[\"Farmer\",\"Mother\"],[\"Others\",\"Father\"],[\"Others\",\"Mother\"],[\"Retired\",\"Father\"],[\"Retired\",\"Mother\"],[\"Service\",\"Father\"],[\"Service\",\"Mother\"]],\"range_padding\":0.1},\"id\":\"2207\",\"type\":\"FactorRange\"},{\"attributes\":{\"fill_alpha\":{\"value\":0.1},\"fill_color\":{\"field\":\"x\",\"transform\":{\"id\":\"2228\"}},\"hatch_alpha\":{\"value\":0.1},\"line_alpha\":{\"value\":0.1},\"line_color\":{\"value\":\"white\"},\"top\":{\"field\":\"counts\"},\"width\":{\"value\":0.9},\"x\":{\"field\":\"x\"}},\"id\":\"2231\",\"type\":\"VBar\"},{\"attributes\":{\"start\":0},\"id\":\"2212\",\"type\":\"DataRange1d\"},{\"attributes\":{\"callback\":null,\"tooltips\":\"@counts\"},\"id\":\"2225\",\"type\":\"HoverTool\"},{\"attributes\":{\"fill_color\":{\"field\":\"x\",\"transform\":{\"id\":\"2228\"}},\"line_color\":{\"value\":\"white\"},\"top\":{\"field\":\"counts\"},\"width\":{\"value\":0.9},\"x\":{\"field\":\"x\"}},\"id\":\"2230\",\"type\":\"VBar\"},{\"attributes\":{\"source\":{\"id\":\"2206\"}},\"id\":\"2234\",\"type\":\"CDSView\"},{\"attributes\":{},\"id\":\"2293\",\"type\":\"Selection\"},{\"attributes\":{\"data\":{\"counts\":[34,1,27,115,29,2,3,1,38,12],\"x\":[[\"Business\",\"Father\"],[\"Business\",\"Mother\"],[\"Farmer\",\"Father\"],[\"Farmer\",\"Mother\"],[\"Others\",\"Father\"],[\"Others\",\"Mother\"],[\"Retired\",\"Father\"],[\"Retired\",\"Mother\"],[\"Service\",\"Father\"],[\"Service\",\"Mother\"]]},\"selected\":{\"id\":\"2293\"},\"selection_policy\":{\"id\":\"2292\"}},\"id\":\"2206\",\"type\":\"ColumnDataSource\"},{\"attributes\":{},\"id\":\"2292\",\"type\":\"UnionRenderers\"},{\"attributes\":{\"axis\":{\"id\":\"2221\"},\"coordinates\":null,\"dimension\":1,\"group\":null,\"ticker\":null},\"id\":\"2224\",\"type\":\"Grid\"},{\"attributes\":{},\"id\":\"2219\",\"type\":\"CategoricalTicker\"},{\"attributes\":{\"fill_alpha\":{\"value\":0.2},\"fill_color\":{\"field\":\"x\",\"transform\":{\"id\":\"2228\"}},\"hatch_alpha\":{\"value\":0.2},\"line_alpha\":{\"value\":0.2},\"line_color\":{\"value\":\"white\"},\"top\":{\"field\":\"counts\"},\"width\":{\"value\":0.9},\"x\":{\"field\":\"x\"}},\"id\":\"2232\",\"type\":\"VBar\"},{\"attributes\":{\"coordinates\":null,\"formatter\":{\"id\":\"2287\"},\"group\":null,\"major_label_policy\":{\"id\":\"2288\"},\"ticker\":{\"id\":\"2222\"}},\"id\":\"2221\",\"type\":\"LinearAxis\"},{\"attributes\":{},\"id\":\"2291\",\"type\":\"AllLabels\"},{\"attributes\":{\"axis\":{\"id\":\"2218\"},\"coordinates\":null,\"grid_line_color\":null,\"group\":null,\"ticker\":null},\"id\":\"2220\",\"type\":\"Grid\"},{\"attributes\":{\"coordinates\":null,\"data_source\":{\"id\":\"2206\"},\"glyph\":{\"id\":\"2230\"},\"group\":null,\"hover_glyph\":null,\"muted_glyph\":{\"id\":\"2232\"},\"nonselection_glyph\":{\"id\":\"2231\"},\"view\":{\"id\":\"2234\"}},\"id\":\"2233\",\"type\":\"GlyphRenderer\"},{\"attributes\":{},\"id\":\"2290\",\"type\":\"CategoricalTickFormatter\"},{\"attributes\":{},\"id\":\"2216\",\"type\":\"LinearScale\"},{\"attributes\":{\"tools\":[{\"id\":\"2225\"}]},\"id\":\"2226\",\"type\":\"Toolbar\"},{\"attributes\":{\"coordinates\":null,\"group\":null,\"text\":\"Parents' Occupations\"},\"id\":\"2209\",\"type\":\"Title\"},{\"attributes\":{\"coordinates\":null,\"formatter\":{\"id\":\"2290\"},\"group\":null,\"major_label_orientation\":1,\"major_label_policy\":{\"id\":\"2291\"},\"ticker\":{\"id\":\"2219\"}},\"id\":\"2218\",\"type\":\"CategoricalAxis\"},{\"attributes\":{},\"id\":\"2288\",\"type\":\"AllLabels\"},{\"attributes\":{},\"id\":\"2287\",\"type\":\"BasicTickFormatter\"},{\"attributes\":{},\"id\":\"2222\",\"type\":\"BasicTicker\"},{\"attributes\":{\"end\":2,\"factors\":[\"Father\",\"Mother\"],\"palette\":[\"silver\",\"pink\"],\"start\":1},\"id\":\"2228\",\"type\":\"CategoricalColorMapper\"}],\"root_ids\":[\"2208\"]},\"title\":\"Bokeh Application\",\"version\":\"2.4.2\"}};\n  const render_items = [{\"docid\":\"bf87e00f-84eb-4132-bcdb-ed0e36cfe867\",\"root_ids\":[\"2208\"],\"roots\":{\"2208\":\"f470ced2-2b58-487f-972d-96b071434d6c\"}}];\n  root.Bokeh.embed.embed_items_notebook(docs_json, render_items);\n\n  }\n  if (root.Bokeh !== undefined) {\n    embed_document(root);\n  } else {\n    let attempts = 0;\n    const timer = setInterval(function(root) {\n      if (root.Bokeh !== undefined) {\n        clearInterval(timer);\n        embed_document(root);\n      } else {\n        attempts++;\n        if (attempts > 100) {\n          clearInterval(timer);\n          console.log(\"Bokeh: ERROR: Unable to run BokehJS code because BokehJS library is missing\");\n        }\n      }\n    }, 10, root)\n  }\n})(window);",
      "application/vnd.bokehjs_exec.v0+json": ""
     },
     "metadata": {
      "application/vnd.bokehjs_exec.v0+json": {
       "id": "2208"
      }
     },
     "output_type": "display_data"
    }
   ],
   "source": [
    "pg.vbar(x='x', top='counts', width=0.9, source=sourceg, line_color=\"white\",\n",
    "       fill_color=factor_cmap('x', palette=['silver','pink'], \n",
    "       factors=parent, start=1, end=2))\n",
    "pg.y_range.start = 0\n",
    "pg.x_range.range_padding = 0.1\n",
    "pg.xaxis.major_label_orientation = 1\n",
    "pg.xgrid.grid_line_color = None\n",
    "\n",
    "show(pg)"
   ]
  },
  {
   "cell_type": "markdown",
   "metadata": {},
   "source": [
    "## References"
   ]
  },
  {
   "cell_type": "markdown",
   "metadata": {},
   "source": [
    "- Hussain S, Dahan N.A, Ba-Alwi F.M, Ribata N. Educational Data Mining and Analysis of Studentsâ€™ Academic Performance Using WEKA. Indonesian Journal of Electrical Engineering and Computer Science. 2018; Vol. 9, No. 2. February. pp. 447~459\n",
    "- https://docs.bokeh.org/en/latest/"
   ]
  }
 ],
 "metadata": {
  "interpreter": {
   "hash": "f6ce50080babb3e2c9dded3d344b1d82a47cf5d6f13f4c2ab5a2113adb8feaef"
  },
  "kernelspec": {
   "display_name": "Python 3.10.5 64-bit (windows store)",
   "language": "python",
   "name": "python3"
  },
  "language_info": {
   "codemirror_mode": {
    "name": "ipython",
    "version": 3
   },
   "file_extension": ".py",
   "mimetype": "text/x-python",
   "name": "python",
   "nbconvert_exporter": "python",
   "pygments_lexer": "ipython3",
   "version": "3.10.8"
  },
  "orig_nbformat": 4
 },
 "nbformat": 4,
 "nbformat_minor": 2
}
