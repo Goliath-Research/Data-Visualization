{
 "cells": [
  {
   "cell_type": "markdown",
   "metadata": {},
   "source": [
    "# Bar Plots with Bokeh"
   ]
  },
  {
   "cell_type": "code",
   "execution_count": 1,
   "metadata": {},
   "outputs": [],
   "source": [
    "import pandas as pd\n",
    "pd.set_option('display.max_columns', 8)"
   ]
  },
  {
   "cell_type": "code",
   "execution_count": 2,
   "metadata": {},
   "outputs": [
    {
     "data": {
      "text/html": [
       "    <style>\n",
       "        .bk-notebook-logo {\n",
       "            display: block;\n",
       "            width: 20px;\n",
       "            height: 20px;\n",
       "            background-image: url(data:image/png;base64,iVBORw0KGgoAAAANSUhEUgAAABQAAAAUCAYAAACNiR0NAAAABHNCSVQICAgIfAhkiAAAAAlwSFlzAAALEgAACxIB0t1+/AAAABx0RVh0U29mdHdhcmUAQWRvYmUgRmlyZXdvcmtzIENTNui8sowAAAOkSURBVDiNjZRtaJVlGMd/1/08zzln5zjP1LWcU9N0NkN8m2CYjpgQYQXqSs0I84OLIC0hkEKoPtiH3gmKoiJDU7QpLgoLjLIQCpEsNJ1vqUOdO7ppbuec5+V+rj4ctwzd8IIbbi6u+8f1539dt3A78eXC7QizUF7gyV1fD1Yqg4JWz84yffhm0qkFqBogB9rM8tZdtwVsPUhWhGcFJngGeWrPzHm5oaMmkfEg1usvLFyc8jLRqDOMru7AyC8saQr7GG7f5fvDeH7Ej8CM66nIF+8yngt6HWaKh7k49Soy9nXurCi1o3qUbS3zWfrYeQDTB/Qj6kX6Ybhw4B+bOYoLKCC9H3Nu/leUTZ1JdRWkkn2ldcCamzrcf47KKXdAJllSlxAOkRgyHsGC/zRday5Qld9DyoM4/q/rUoy/CXh3jzOu3bHUVZeU+DEn8FInkPBFlu3+nW3Nw0mk6vCDiWg8CeJaxEwuHS3+z5RgY+YBR6V1Z1nxSOfoaPa4LASWxxdNp+VWTk7+4vzaou8v8PN+xo+KY2xsw6une2frhw05CTYOmQvsEhjhWjn0bmXPjpE1+kplmmkP3suftwTubK9Vq22qKmrBhpY4jvd5afdRA3wGjFAgcnTK2s4hY0/GPNIb0nErGMCRxWOOX64Z8RAC4oCXdklmEvcL8o0BfkNK4lUg9HTl+oPlQxdNo3Mg4Nv175e/1LDGzZen30MEjRUtmXSfiTVu1kK8W4txyV6BMKlbgk3lMwYCiusNy9fVfvvwMxv8Ynl6vxoByANLTWplvuj/nF9m2+PDtt1eiHPBr1oIfhCChQMBw6Aw0UulqTKZdfVvfG7VcfIqLG9bcldL/+pdWTLxLUy8Qq38heUIjh4XlzZxzQm19lLFlr8vdQ97rjZVOLf8nclzckbcD4wxXMidpX30sFd37Fv/GtwwhzhxGVAprjbg0gCAEeIgwCZyTV2Z1REEW8O4py0wsjeloKoMr6iCY6dP92H6Vw/oTyICIthibxjm/DfN9lVz8IqtqKYLUXfoKVMVQVVJOElGjrnnUt9T9wbgp8AyYKaGlqingHZU/uG2NTZSVqwHQTWkx9hxjkpWDaCg6Ckj5qebgBVbT3V3NNXMSiWSDdGV3hrtzla7J+duwPOToIg42ChPQOQjspnSlp1V+Gjdged7+8UN5CRAV7a5EdFNwCjEaBR27b3W890TE7g24NAP/mMDXRWrGoFPQI9ls/MWO2dWFAar/xcOIImbbpA3zgAAAABJRU5ErkJggg==);\n",
       "        }\n",
       "    </style>\n",
       "    <div>\n",
       "        <a href=\"https://bokeh.org\" target=\"_blank\" class=\"bk-notebook-logo\"></a>\n",
       "        <span id=\"be44e86b-bb0f-4640-a494-4ca58846c3eb\">Loading BokehJS ...</span>\n",
       "    </div>\n"
      ]
     },
     "metadata": {},
     "output_type": "display_data"
    },
    {
     "data": {
      "application/javascript": "(function(root) {\n  function now() {\n    return new Date();\n  }\n\n  const force = true;\n\n  if (typeof root._bokeh_onload_callbacks === \"undefined\" || force === true) {\n    root._bokeh_onload_callbacks = [];\n    root._bokeh_is_loading = undefined;\n  }\n\nconst JS_MIME_TYPE = 'application/javascript';\n  const HTML_MIME_TYPE = 'text/html';\n  const EXEC_MIME_TYPE = 'application/vnd.bokehjs_exec.v0+json';\n  const CLASS_NAME = 'output_bokeh rendered_html';\n\n  /**\n   * Render data to the DOM node\n   */\n  function render(props, node) {\n    const script = document.createElement(\"script\");\n    node.appendChild(script);\n  }\n\n  /**\n   * Handle when an output is cleared or removed\n   */\n  function handleClearOutput(event, handle) {\n    function drop(id) {\n      const view = Bokeh.index.get_by_id(id)\n      if (view != null) {\n        view.model.document.clear()\n        Bokeh.index.delete(view)\n      }\n    }\n\n    const cell = handle.cell;\n\n    const id = cell.output_area._bokeh_element_id;\n    const server_id = cell.output_area._bokeh_server_id;\n\n    // Clean up Bokeh references\n    if (id != null) {\n      drop(id)\n    }\n\n    if (server_id !== undefined) {\n      // Clean up Bokeh references\n      const cmd_clean = \"from bokeh.io.state import curstate; print(curstate().uuid_to_server['\" + server_id + \"'].get_sessions()[0].document.roots[0]._id)\";\n      cell.notebook.kernel.execute(cmd_clean, {\n        iopub: {\n          output: function(msg) {\n            const id = msg.content.text.trim()\n            drop(id)\n          }\n        }\n      });\n      // Destroy server and session\n      const cmd_destroy = \"import bokeh.io.notebook as ion; ion.destroy_server('\" + server_id + \"')\";\n      cell.notebook.kernel.execute(cmd_destroy);\n    }\n  }\n\n  /**\n   * Handle when a new output is added\n   */\n  function handleAddOutput(event, handle) {\n    const output_area = handle.output_area;\n    const output = handle.output;\n\n    // limit handleAddOutput to display_data with EXEC_MIME_TYPE content only\n    if ((output.output_type != \"display_data\") || (!Object.prototype.hasOwnProperty.call(output.data, EXEC_MIME_TYPE))) {\n      return\n    }\n\n    const toinsert = output_area.element.find(\".\" + CLASS_NAME.split(' ')[0]);\n\n    if (output.metadata[EXEC_MIME_TYPE][\"id\"] !== undefined) {\n      toinsert[toinsert.length - 1].firstChild.textContent = output.data[JS_MIME_TYPE];\n      // store reference to embed id on output_area\n      output_area._bokeh_element_id = output.metadata[EXEC_MIME_TYPE][\"id\"];\n    }\n    if (output.metadata[EXEC_MIME_TYPE][\"server_id\"] !== undefined) {\n      const bk_div = document.createElement(\"div\");\n      bk_div.innerHTML = output.data[HTML_MIME_TYPE];\n      const script_attrs = bk_div.children[0].attributes;\n      for (let i = 0; i < script_attrs.length; i++) {\n        toinsert[toinsert.length - 1].firstChild.setAttribute(script_attrs[i].name, script_attrs[i].value);\n        toinsert[toinsert.length - 1].firstChild.textContent = bk_div.children[0].textContent\n      }\n      // store reference to server id on output_area\n      output_area._bokeh_server_id = output.metadata[EXEC_MIME_TYPE][\"server_id\"];\n    }\n  }\n\n  function register_renderer(events, OutputArea) {\n\n    function append_mime(data, metadata, element) {\n      // create a DOM node to render to\n      const toinsert = this.create_output_subarea(\n        metadata,\n        CLASS_NAME,\n        EXEC_MIME_TYPE\n      );\n      this.keyboard_manager.register_events(toinsert);\n      // Render to node\n      const props = {data: data, metadata: metadata[EXEC_MIME_TYPE]};\n      render(props, toinsert[toinsert.length - 1]);\n      element.append(toinsert);\n      return toinsert\n    }\n\n    /* Handle when an output is cleared or removed */\n    events.on('clear_output.CodeCell', handleClearOutput);\n    events.on('delete.Cell', handleClearOutput);\n\n    /* Handle when a new output is added */\n    events.on('output_added.OutputArea', handleAddOutput);\n\n    /**\n     * Register the mime type and append_mime function with output_area\n     */\n    OutputArea.prototype.register_mime_type(EXEC_MIME_TYPE, append_mime, {\n      /* Is output safe? */\n      safe: true,\n      /* Index of renderer in `output_area.display_order` */\n      index: 0\n    });\n  }\n\n  // register the mime type if in Jupyter Notebook environment and previously unregistered\n  if (root.Jupyter !== undefined) {\n    const events = require('base/js/events');\n    const OutputArea = require('notebook/js/outputarea').OutputArea;\n\n    if (OutputArea.prototype.mime_types().indexOf(EXEC_MIME_TYPE) == -1) {\n      register_renderer(events, OutputArea);\n    }\n  }\n  if (typeof (root._bokeh_timeout) === \"undefined\" || force === true) {\n    root._bokeh_timeout = Date.now() + 5000;\n    root._bokeh_failed_load = false;\n  }\n\n  const NB_LOAD_WARNING = {'data': {'text/html':\n     \"<div style='background-color: #fdd'>\\n\"+\n     \"<p>\\n\"+\n     \"BokehJS does not appear to have successfully loaded. If loading BokehJS from CDN, this \\n\"+\n     \"may be due to a slow or bad network connection. Possible fixes:\\n\"+\n     \"</p>\\n\"+\n     \"<ul>\\n\"+\n     \"<li>re-rerun `output_notebook()` to attempt to load from CDN again, or</li>\\n\"+\n     \"<li>use INLINE resources instead, as so:</li>\\n\"+\n     \"</ul>\\n\"+\n     \"<code>\\n\"+\n     \"from bokeh.resources import INLINE\\n\"+\n     \"output_notebook(resources=INLINE)\\n\"+\n     \"</code>\\n\"+\n     \"</div>\"}};\n\n  function display_loaded() {\n    const el = document.getElementById(\"be44e86b-bb0f-4640-a494-4ca58846c3eb\");\n    if (el != null) {\n      el.textContent = \"BokehJS is loading...\";\n    }\n    if (root.Bokeh !== undefined) {\n      if (el != null) {\n        el.textContent = \"BokehJS \" + root.Bokeh.version + \" successfully loaded.\";\n      }\n    } else if (Date.now() < root._bokeh_timeout) {\n      setTimeout(display_loaded, 100)\n    }\n  }\n\n  function run_callbacks() {\n    try {\n      root._bokeh_onload_callbacks.forEach(function(callback) {\n        if (callback != null)\n          callback();\n      });\n    } finally {\n      delete root._bokeh_onload_callbacks\n    }\n    console.debug(\"Bokeh: all callbacks have finished\");\n  }\n\n  function load_libs(css_urls, js_urls, callback) {\n    if (css_urls == null) css_urls = [];\n    if (js_urls == null) js_urls = [];\n\n    root._bokeh_onload_callbacks.push(callback);\n    if (root._bokeh_is_loading > 0) {\n      console.debug(\"Bokeh: BokehJS is being loaded, scheduling callback at\", now());\n      return null;\n    }\n    if (js_urls == null || js_urls.length === 0) {\n      run_callbacks();\n      return null;\n    }\n    console.debug(\"Bokeh: BokehJS not loaded, scheduling load and callback at\", now());\n    root._bokeh_is_loading = css_urls.length + js_urls.length;\n\n    function on_load() {\n      root._bokeh_is_loading--;\n      if (root._bokeh_is_loading === 0) {\n        console.debug(\"Bokeh: all BokehJS libraries/stylesheets loaded\");\n        run_callbacks()\n      }\n    }\n\n    function on_error(url) {\n      console.error(\"failed to load \" + url);\n    }\n\n    for (let i = 0; i < css_urls.length; i++) {\n      const url = css_urls[i];\n      const element = document.createElement(\"link\");\n      element.onload = on_load;\n      element.onerror = on_error.bind(null, url);\n      element.rel = \"stylesheet\";\n      element.type = \"text/css\";\n      element.href = url;\n      console.debug(\"Bokeh: injecting link tag for BokehJS stylesheet: \", url);\n      document.body.appendChild(element);\n    }\n\n    for (let i = 0; i < js_urls.length; i++) {\n      const url = js_urls[i];\n      const element = document.createElement('script');\n      element.onload = on_load;\n      element.onerror = on_error.bind(null, url);\n      element.async = false;\n      element.src = url;\n      console.debug(\"Bokeh: injecting script tag for BokehJS library: \", url);\n      document.head.appendChild(element);\n    }\n  };\n\n  function inject_raw_css(css) {\n    const element = document.createElement(\"style\");\n    element.appendChild(document.createTextNode(css));\n    document.body.appendChild(element);\n  }\n\n  const js_urls = [\"https://cdn.bokeh.org/bokeh/release/bokeh-3.3.4.min.js\", \"https://cdn.bokeh.org/bokeh/release/bokeh-gl-3.3.4.min.js\", \"https://cdn.bokeh.org/bokeh/release/bokeh-widgets-3.3.4.min.js\", \"https://cdn.bokeh.org/bokeh/release/bokeh-tables-3.3.4.min.js\", \"https://cdn.bokeh.org/bokeh/release/bokeh-mathjax-3.3.4.min.js\"];\n  const css_urls = [];\n\n  const inline_js = [    function(Bokeh) {\n      Bokeh.set_log_level(\"info\");\n    },\nfunction(Bokeh) {\n    }\n  ];\n\n  function run_inline_js() {\n    if (root.Bokeh !== undefined || force === true) {\n          for (let i = 0; i < inline_js.length; i++) {\n      inline_js[i].call(root, root.Bokeh);\n    }\nif (force === true) {\n        display_loaded();\n      }} else if (Date.now() < root._bokeh_timeout) {\n      setTimeout(run_inline_js, 100);\n    } else if (!root._bokeh_failed_load) {\n      console.log(\"Bokeh: BokehJS failed to load within specified timeout.\");\n      root._bokeh_failed_load = true;\n    } else if (force !== true) {\n      const cell = $(document.getElementById(\"be44e86b-bb0f-4640-a494-4ca58846c3eb\")).parents('.cell').data().cell;\n      cell.output_area.append_execute_result(NB_LOAD_WARNING)\n    }\n  }\n\n  if (root._bokeh_is_loading === 0) {\n    console.debug(\"Bokeh: BokehJS loaded, going straight to plotting\");\n    run_inline_js();\n  } else {\n    load_libs(css_urls, js_urls, function() {\n      console.debug(\"Bokeh: BokehJS plotting callback run at\", now());\n      run_inline_js();\n    });\n  }\n}(window));",
      "application/vnd.bokehjs_load.v0+json": ""
     },
     "metadata": {},
     "output_type": "display_data"
    }
   ],
   "source": [
    "from bokeh.io import show, output_notebook\n",
    "from bokeh.plotting import figure\n",
    "output_notebook();"
   ]
  },
  {
   "cell_type": "markdown",
   "metadata": {},
   "source": [
    "## Student Academics Performance Dataset"
   ]
  },
  {
   "cell_type": "markdown",
   "metadata": {},
   "source": [
    "Reading an `arff` file."
   ]
  },
  {
   "cell_type": "code",
   "execution_count": 3,
   "metadata": {},
   "outputs": [],
   "source": [
    "from io import StringIO\n",
    "import urllib.request\n",
    "from scipy.io.arff import loadarff"
   ]
  },
  {
   "cell_type": "code",
   "execution_count": 4,
   "metadata": {},
   "outputs": [],
   "source": [
    "stAcademic_url = \"https://archive.ics.uci.edu/ml/machine-learning-databases/00467/Sapfile1.arff\"\n",
    "resp = urllib.request.urlopen(stAcademic_url)"
   ]
  },
  {
   "cell_type": "code",
   "execution_count": 5,
   "metadata": {},
   "outputs": [],
   "source": [
    "data, meta = loadarff(StringIO(resp.read().decode('utf-8')))"
   ]
  },
  {
   "cell_type": "markdown",
   "metadata": {},
   "source": [
    "`data` contains the data and `meta` contains the metadata"
   ]
  },
  {
   "cell_type": "code",
   "execution_count": 6,
   "metadata": {},
   "outputs": [
    {
     "data": {
      "text/plain": [
       "Dataset: Sapfile1\n",
       "\tge's type is nominal, range is ('M', 'F')\n",
       "\tcst's type is nominal, range is ('G', 'ST', 'SC', 'OBC', 'MOBC')\n",
       "\ttnp's type is nominal, range is ('Best', 'Vg', 'Good', 'Pass', 'Fail')\n",
       "\ttwp's type is nominal, range is ('Best', 'Vg', 'Good', 'Pass', 'Fail')\n",
       "\tiap's type is nominal, range is ('Best', 'Vg', 'Good', 'Pass', 'Fail')\n",
       "\tesp's type is nominal, range is ('Best', 'Vg', 'Good', 'Pass', 'Fail')\n",
       "\tarr's type is nominal, range is ('Y', 'N')\n",
       "\tms's type is nominal, range is ('Married', 'Unmarried')\n",
       "\tls's type is nominal, range is ('T', 'V')\n",
       "\tas's type is nominal, range is ('Free', 'Paid')\n",
       "\tfmi's type is nominal, range is ('Vh', 'High', 'Am', 'Medium', 'Low')\n",
       "\tfs's type is nominal, range is ('Large', 'Average', 'Small')\n",
       "\tfq's type is nominal, range is ('Il', 'Um', '10', '12', 'Degree', 'Pg')\n",
       "\tmq's type is nominal, range is ('Il', 'Um', '10', '12', 'Degree', 'Pg')\n",
       "\tfo's type is nominal, range is ('Service', 'Business', 'Retired', 'Farmer', 'Others')\n",
       "\tmo's type is nominal, range is ('Service', 'Business', 'Retired', 'Housewife', 'Others')\n",
       "\tnf's type is nominal, range is ('Large', 'Average', 'Small')\n",
       "\tsh's type is nominal, range is ('Good', 'Average', 'Poor')\n",
       "\tss's type is nominal, range is ('Govt', 'Private')\n",
       "\tme's type is nominal, range is ('Eng', 'Asm', 'Hin', 'Ben')\n",
       "\ttt's type is nominal, range is ('Large', 'Average', 'Small')\n",
       "\tatd's type is nominal, range is ('Good', 'Average', 'Poor')"
      ]
     },
     "execution_count": 6,
     "metadata": {},
     "output_type": "execute_result"
    }
   ],
   "source": [
    "meta"
   ]
  },
  {
   "cell_type": "code",
   "execution_count": 7,
   "metadata": {},
   "outputs": [
    {
     "data": {
      "text/html": [
       "<div>\n",
       "<style scoped>\n",
       "    .dataframe tbody tr th:only-of-type {\n",
       "        vertical-align: middle;\n",
       "    }\n",
       "\n",
       "    .dataframe tbody tr th {\n",
       "        vertical-align: top;\n",
       "    }\n",
       "\n",
       "    .dataframe thead th {\n",
       "        text-align: right;\n",
       "    }\n",
       "</style>\n",
       "<table border=\"1\" class=\"dataframe\">\n",
       "  <thead>\n",
       "    <tr style=\"text-align: right;\">\n",
       "      <th></th>\n",
       "      <th>ge</th>\n",
       "      <th>cst</th>\n",
       "      <th>tnp</th>\n",
       "      <th>twp</th>\n",
       "      <th>...</th>\n",
       "      <th>ss</th>\n",
       "      <th>me</th>\n",
       "      <th>tt</th>\n",
       "      <th>atd</th>\n",
       "    </tr>\n",
       "  </thead>\n",
       "  <tbody>\n",
       "    <tr>\n",
       "      <th>0</th>\n",
       "      <td>b'F'</td>\n",
       "      <td>b'G'</td>\n",
       "      <td>b'Good'</td>\n",
       "      <td>b'Good'</td>\n",
       "      <td>...</td>\n",
       "      <td>b'Govt'</td>\n",
       "      <td>b'Asm'</td>\n",
       "      <td>b'Small'</td>\n",
       "      <td>b'Good'</td>\n",
       "    </tr>\n",
       "    <tr>\n",
       "      <th>1</th>\n",
       "      <td>b'M'</td>\n",
       "      <td>b'OBC'</td>\n",
       "      <td>b'Vg'</td>\n",
       "      <td>b'Vg'</td>\n",
       "      <td>...</td>\n",
       "      <td>b'Govt'</td>\n",
       "      <td>b'Asm'</td>\n",
       "      <td>b'Average'</td>\n",
       "      <td>b'Average'</td>\n",
       "    </tr>\n",
       "    <tr>\n",
       "      <th>2</th>\n",
       "      <td>b'F'</td>\n",
       "      <td>b'OBC'</td>\n",
       "      <td>b'Good'</td>\n",
       "      <td>b'Good'</td>\n",
       "      <td>...</td>\n",
       "      <td>b'Govt'</td>\n",
       "      <td>b'Asm'</td>\n",
       "      <td>b'Large'</td>\n",
       "      <td>b'Good'</td>\n",
       "    </tr>\n",
       "  </tbody>\n",
       "</table>\n",
       "<p>3 rows × 22 columns</p>\n",
       "</div>"
      ],
      "text/plain": [
       "     ge     cst      tnp      twp  ...       ss      me          tt  \\\n",
       "0  b'F'    b'G'  b'Good'  b'Good'  ...  b'Govt'  b'Asm'    b'Small'   \n",
       "1  b'M'  b'OBC'    b'Vg'    b'Vg'  ...  b'Govt'  b'Asm'  b'Average'   \n",
       "2  b'F'  b'OBC'  b'Good'  b'Good'  ...  b'Govt'  b'Asm'    b'Large'   \n",
       "\n",
       "          atd  \n",
       "0     b'Good'  \n",
       "1  b'Average'  \n",
       "2     b'Good'  \n",
       "\n",
       "[3 rows x 22 columns]"
      ]
     },
     "execution_count": 7,
     "metadata": {},
     "output_type": "execute_result"
    }
   ],
   "source": [
    "columns_name = list(meta._attributes.keys())\n",
    "df = pd.DataFrame(data, columns=columns_name)\n",
    "df.head(3)"
   ]
  },
  {
   "cell_type": "markdown",
   "metadata": {},
   "source": [
    "In some cases, the integer columns are read as objects; for instance, instead of 2, we have b'2'. We go over the object columns and decode them again to solve this problem.\n",
    "\n",
    "Decoding the object columns"
   ]
  },
  {
   "cell_type": "code",
   "execution_count": 8,
   "metadata": {},
   "outputs": [
    {
     "data": {
      "text/html": [
       "<div>\n",
       "<style scoped>\n",
       "    .dataframe tbody tr th:only-of-type {\n",
       "        vertical-align: middle;\n",
       "    }\n",
       "\n",
       "    .dataframe tbody tr th {\n",
       "        vertical-align: top;\n",
       "    }\n",
       "\n",
       "    .dataframe thead th {\n",
       "        text-align: right;\n",
       "    }\n",
       "</style>\n",
       "<table border=\"1\" class=\"dataframe\">\n",
       "  <thead>\n",
       "    <tr style=\"text-align: right;\">\n",
       "      <th></th>\n",
       "      <th>ge</th>\n",
       "      <th>cst</th>\n",
       "      <th>tnp</th>\n",
       "      <th>twp</th>\n",
       "      <th>...</th>\n",
       "      <th>ss</th>\n",
       "      <th>me</th>\n",
       "      <th>tt</th>\n",
       "      <th>atd</th>\n",
       "    </tr>\n",
       "  </thead>\n",
       "  <tbody>\n",
       "    <tr>\n",
       "      <th>0</th>\n",
       "      <td>F</td>\n",
       "      <td>G</td>\n",
       "      <td>Good</td>\n",
       "      <td>Good</td>\n",
       "      <td>...</td>\n",
       "      <td>Govt</td>\n",
       "      <td>Asm</td>\n",
       "      <td>Small</td>\n",
       "      <td>Good</td>\n",
       "    </tr>\n",
       "    <tr>\n",
       "      <th>1</th>\n",
       "      <td>M</td>\n",
       "      <td>OBC</td>\n",
       "      <td>Vg</td>\n",
       "      <td>Vg</td>\n",
       "      <td>...</td>\n",
       "      <td>Govt</td>\n",
       "      <td>Asm</td>\n",
       "      <td>Average</td>\n",
       "      <td>Average</td>\n",
       "    </tr>\n",
       "    <tr>\n",
       "      <th>2</th>\n",
       "      <td>F</td>\n",
       "      <td>OBC</td>\n",
       "      <td>Good</td>\n",
       "      <td>Good</td>\n",
       "      <td>...</td>\n",
       "      <td>Govt</td>\n",
       "      <td>Asm</td>\n",
       "      <td>Large</td>\n",
       "      <td>Good</td>\n",
       "    </tr>\n",
       "    <tr>\n",
       "      <th>3</th>\n",
       "      <td>M</td>\n",
       "      <td>MOBC</td>\n",
       "      <td>Pass</td>\n",
       "      <td>Good</td>\n",
       "      <td>...</td>\n",
       "      <td>Govt</td>\n",
       "      <td>Asm</td>\n",
       "      <td>Average</td>\n",
       "      <td>Average</td>\n",
       "    </tr>\n",
       "    <tr>\n",
       "      <th>4</th>\n",
       "      <td>M</td>\n",
       "      <td>G</td>\n",
       "      <td>Good</td>\n",
       "      <td>Good</td>\n",
       "      <td>...</td>\n",
       "      <td>Private</td>\n",
       "      <td>Asm</td>\n",
       "      <td>Small</td>\n",
       "      <td>Good</td>\n",
       "    </tr>\n",
       "  </tbody>\n",
       "</table>\n",
       "<p>5 rows × 22 columns</p>\n",
       "</div>"
      ],
      "text/plain": [
       "  ge   cst   tnp   twp  ...       ss   me       tt      atd\n",
       "0  F     G  Good  Good  ...     Govt  Asm    Small     Good\n",
       "1  M   OBC    Vg    Vg  ...     Govt  Asm  Average  Average\n",
       "2  F   OBC  Good  Good  ...     Govt  Asm    Large     Good\n",
       "3  M  MOBC  Pass  Good  ...     Govt  Asm  Average  Average\n",
       "4  M     G  Good  Good  ...  Private  Asm    Small     Good\n",
       "\n",
       "[5 rows x 22 columns]"
      ]
     },
     "execution_count": 8,
     "metadata": {},
     "output_type": "execute_result"
    }
   ],
   "source": [
    "# decoding the object columns\n",
    "for c in df.columns:\n",
    "    if df[c].dtype == 'object':\n",
    "        df[c] = df[c].str.decode('UTF-8')\n",
    "df.head()"
   ]
  },
  {
   "cell_type": "markdown",
   "metadata": {},
   "source": [
    "## Bar Charts"
   ]
  },
  {
   "cell_type": "markdown",
   "metadata": {},
   "source": [
    "Let's work with the variable: \n",
    "- `fo`: Father Occupation (Service, Business, Retired, Farmer, Others)  "
   ]
  },
  {
   "cell_type": "code",
   "execution_count": 9,
   "metadata": {},
   "outputs": [
    {
     "data": {
      "text/plain": [
       "Service     38\n",
       "Business    34\n",
       "Others      29\n",
       "Farmer      27\n",
       "Retired      3\n",
       "Name: fo, dtype: int64"
      ]
     },
     "execution_count": 9,
     "metadata": {},
     "output_type": "execute_result"
    }
   ],
   "source": [
    "fo = df.fo.value_counts()\n",
    "fo"
   ]
  },
  {
   "cell_type": "markdown",
   "metadata": {},
   "source": [
    "### Vertical Bar Chart"
   ]
  },
  {
   "cell_type": "markdown",
   "metadata": {},
   "source": [
    "Vertival bar charts can be drawn using the `vbar()` method. We will use the `ColumnDataSource` object for feeding the data to the graph.\n",
    "\n",
    "The `ColumnDataSource` object provides the data to the glyphs of your graph. It offers advanced capabilities, such as sharing data between plots, filtering, etc."
   ]
  },
  {
   "cell_type": "code",
   "execution_count": 10,
   "metadata": {},
   "outputs": [],
   "source": [
    "from bokeh.models   import ColumnDataSource\n",
    "from bokeh.palettes import Greens, Spectral"
   ]
  },
  {
   "cell_type": "markdown",
   "metadata": {},
   "source": [
    "Defining sourcef with the father data"
   ]
  },
  {
   "cell_type": "code",
   "execution_count": 11,
   "metadata": {},
   "outputs": [],
   "source": [
    "# Defining sourcef with the father data\n",
    "sourcef = ColumnDataSource(data=dict(values=list(fo.index), counts=fo, color=Greens[len(fo)]))"
   ]
  },
  {
   "cell_type": "markdown",
   "metadata": {},
   "source": [
    "Set the `x_range` to the list of categories"
   ]
  },
  {
   "cell_type": "code",
   "execution_count": 12,
   "metadata": {},
   "outputs": [],
   "source": [
    "# Set the x_range to the list of categories\n",
    "pf_v = figure(x_range=list(fo.index), height=350, title=\"Father Occupation\")"
   ]
  },
  {
   "cell_type": "code",
   "execution_count": 13,
   "metadata": {},
   "outputs": [
    {
     "data": {
      "text/html": [
       "\n",
       "  <div id=\"c59709bb-03c3-414b-ba8c-bff54f8cf622\" data-root-id=\"p1004\" style=\"display: contents;\"></div>\n"
      ]
     },
     "metadata": {},
     "output_type": "display_data"
    },
    {
     "data": {
      "application/javascript": "(function(root) {\n  function embed_document(root) {\n  const docs_json = {\"03440234-26a4-4d38-8371-dd9600a6b8bc\":{\"version\":\"3.3.4\",\"title\":\"Bokeh Application\",\"roots\":[{\"type\":\"object\",\"name\":\"Figure\",\"id\":\"p1004\",\"attributes\":{\"height\":350,\"x_range\":{\"type\":\"object\",\"name\":\"FactorRange\",\"id\":\"p1014\",\"attributes\":{\"factors\":[\"Service\",\"Business\",\"Others\",\"Farmer\",\"Retired\"]}},\"y_range\":{\"type\":\"object\",\"name\":\"DataRange1d\",\"id\":\"p1006\"},\"x_scale\":{\"type\":\"object\",\"name\":\"CategoricalScale\",\"id\":\"p1015\"},\"y_scale\":{\"type\":\"object\",\"name\":\"LinearScale\",\"id\":\"p1016\"},\"title\":{\"type\":\"object\",\"name\":\"Title\",\"id\":\"p1007\",\"attributes\":{\"text\":\"Father Occupation\"}},\"renderers\":[{\"type\":\"object\",\"name\":\"GlyphRenderer\",\"id\":\"p1044\",\"attributes\":{\"data_source\":{\"type\":\"object\",\"name\":\"ColumnDataSource\",\"id\":\"p1001\",\"attributes\":{\"selected\":{\"type\":\"object\",\"name\":\"Selection\",\"id\":\"p1002\",\"attributes\":{\"indices\":[],\"line_indices\":[]}},\"selection_policy\":{\"type\":\"object\",\"name\":\"UnionRenderers\",\"id\":\"p1003\"},\"data\":{\"type\":\"map\",\"entries\":[[\"values\",[\"Service\",\"Business\",\"Others\",\"Farmer\",\"Retired\"]],[\"counts\",{\"type\":\"ndarray\",\"array\":{\"type\":\"bytes\",\"data\":\"JgAAACIAAAAdAAAAGwAAAAMAAAA=\"},\"shape\":[5],\"dtype\":\"int32\",\"order\":\"little\"}],[\"color\",[\"#006d2c\",\"#31a354\",\"#74c476\",\"#bae4b3\",\"#edf8e9\"]]]}}},\"view\":{\"type\":\"object\",\"name\":\"CDSView\",\"id\":\"p1045\",\"attributes\":{\"filter\":{\"type\":\"object\",\"name\":\"AllIndices\",\"id\":\"p1046\"}}},\"glyph\":{\"type\":\"object\",\"name\":\"VBar\",\"id\":\"p1041\",\"attributes\":{\"x\":{\"type\":\"field\",\"field\":\"values\"},\"width\":{\"type\":\"value\",\"value\":0.8},\"top\":{\"type\":\"field\",\"field\":\"counts\"},\"line_color\":{\"type\":\"value\",\"value\":\"#1f77b4\"},\"fill_color\":{\"type\":\"value\",\"value\":\"#1f77b4\"}}},\"nonselection_glyph\":{\"type\":\"object\",\"name\":\"VBar\",\"id\":\"p1042\",\"attributes\":{\"x\":{\"type\":\"field\",\"field\":\"values\"},\"width\":{\"type\":\"value\",\"value\":0.8},\"top\":{\"type\":\"field\",\"field\":\"counts\"},\"line_color\":{\"type\":\"value\",\"value\":\"#1f77b4\"},\"line_alpha\":{\"type\":\"value\",\"value\":0.1},\"fill_color\":{\"type\":\"value\",\"value\":\"#1f77b4\"},\"fill_alpha\":{\"type\":\"value\",\"value\":0.1},\"hatch_alpha\":{\"type\":\"value\",\"value\":0.1}}},\"muted_glyph\":{\"type\":\"object\",\"name\":\"VBar\",\"id\":\"p1043\",\"attributes\":{\"x\":{\"type\":\"field\",\"field\":\"values\"},\"width\":{\"type\":\"value\",\"value\":0.8},\"top\":{\"type\":\"field\",\"field\":\"counts\"},\"line_color\":{\"type\":\"value\",\"value\":\"#1f77b4\"},\"line_alpha\":{\"type\":\"value\",\"value\":0.2},\"fill_color\":{\"type\":\"value\",\"value\":\"#1f77b4\"},\"fill_alpha\":{\"type\":\"value\",\"value\":0.2},\"hatch_alpha\":{\"type\":\"value\",\"value\":0.2}}}}}],\"toolbar\":{\"type\":\"object\",\"name\":\"Toolbar\",\"id\":\"p1013\",\"attributes\":{\"tools\":[{\"type\":\"object\",\"name\":\"PanTool\",\"id\":\"p1027\"},{\"type\":\"object\",\"name\":\"WheelZoomTool\",\"id\":\"p1028\",\"attributes\":{\"renderers\":\"auto\"}},{\"type\":\"object\",\"name\":\"BoxZoomTool\",\"id\":\"p1029\",\"attributes\":{\"overlay\":{\"type\":\"object\",\"name\":\"BoxAnnotation\",\"id\":\"p1030\",\"attributes\":{\"syncable\":false,\"level\":\"overlay\",\"visible\":false,\"left\":{\"type\":\"number\",\"value\":\"nan\"},\"right\":{\"type\":\"number\",\"value\":\"nan\"},\"top\":{\"type\":\"number\",\"value\":\"nan\"},\"bottom\":{\"type\":\"number\",\"value\":\"nan\"},\"left_units\":\"canvas\",\"right_units\":\"canvas\",\"top_units\":\"canvas\",\"bottom_units\":\"canvas\",\"line_color\":\"black\",\"line_alpha\":1.0,\"line_width\":2,\"line_dash\":[4,4],\"fill_color\":\"lightgrey\",\"fill_alpha\":0.5}}}},{\"type\":\"object\",\"name\":\"SaveTool\",\"id\":\"p1035\"},{\"type\":\"object\",\"name\":\"ResetTool\",\"id\":\"p1036\"},{\"type\":\"object\",\"name\":\"HelpTool\",\"id\":\"p1037\"}]}},\"left\":[{\"type\":\"object\",\"name\":\"LinearAxis\",\"id\":\"p1022\",\"attributes\":{\"ticker\":{\"type\":\"object\",\"name\":\"BasicTicker\",\"id\":\"p1023\",\"attributes\":{\"mantissas\":[1,2,5]}},\"formatter\":{\"type\":\"object\",\"name\":\"BasicTickFormatter\",\"id\":\"p1024\"},\"major_label_policy\":{\"type\":\"object\",\"name\":\"AllLabels\",\"id\":\"p1025\"}}}],\"below\":[{\"type\":\"object\",\"name\":\"CategoricalAxis\",\"id\":\"p1017\",\"attributes\":{\"ticker\":{\"type\":\"object\",\"name\":\"CategoricalTicker\",\"id\":\"p1018\"},\"formatter\":{\"type\":\"object\",\"name\":\"CategoricalTickFormatter\",\"id\":\"p1019\"},\"major_label_policy\":{\"type\":\"object\",\"name\":\"AllLabels\",\"id\":\"p1020\"}}}],\"center\":[{\"type\":\"object\",\"name\":\"Grid\",\"id\":\"p1021\",\"attributes\":{\"axis\":{\"id\":\"p1017\"}}},{\"type\":\"object\",\"name\":\"Grid\",\"id\":\"p1026\",\"attributes\":{\"dimension\":1,\"axis\":{\"id\":\"p1022\"}}}]}}]}};\n  const render_items = [{\"docid\":\"03440234-26a4-4d38-8371-dd9600a6b8bc\",\"roots\":{\"p1004\":\"c59709bb-03c3-414b-ba8c-bff54f8cf622\"},\"root_ids\":[\"p1004\"]}];\n  root.Bokeh.embed.embed_items_notebook(docs_json, render_items);\n  }\n  if (root.Bokeh !== undefined) {\n    embed_document(root);\n  } else {\n    let attempts = 0;\n    const timer = setInterval(function(root) {\n      if (root.Bokeh !== undefined) {\n        clearInterval(timer);\n        embed_document(root);\n      } else {\n        attempts++;\n        if (attempts > 100) {\n          clearInterval(timer);\n          console.log(\"Bokeh: ERROR: Unable to run BokehJS code because BokehJS library is missing\");\n        }\n      }\n    }, 10, root)\n  }\n})(window);",
      "application/vnd.bokehjs_exec.v0+json": ""
     },
     "metadata": {
      "application/vnd.bokehjs_exec.v0+json": {
       "id": "p1004"
      }
     },
     "output_type": "display_data"
    }
   ],
   "source": [
    "pf_v.vbar(x='values', top='counts', width=0.8, source=sourcef)\n",
    "show(pf_v)"
   ]
  },
  {
   "cell_type": "markdown",
   "metadata": {},
   "source": [
    "Adding `color` and the legend "
   ]
  },
  {
   "cell_type": "code",
   "execution_count": 14,
   "metadata": {},
   "outputs": [
    {
     "data": {
      "text/html": [
       "\n",
       "  <div id=\"d4790c64-686d-4950-856f-a359997e7ba5\" data-root-id=\"p1004\" style=\"display: contents;\"></div>\n"
      ]
     },
     "metadata": {},
     "output_type": "display_data"
    },
    {
     "data": {
      "application/javascript": "(function(root) {\n  function embed_document(root) {\n  const docs_json = {\"2d7e0686-9df0-4348-ba38-efcb06fb248d\":{\"version\":\"3.3.4\",\"title\":\"Bokeh Application\",\"roots\":[{\"type\":\"object\",\"name\":\"Figure\",\"id\":\"p1004\",\"attributes\":{\"height\":350,\"x_range\":{\"type\":\"object\",\"name\":\"FactorRange\",\"id\":\"p1014\",\"attributes\":{\"factors\":[\"Service\",\"Business\",\"Others\",\"Farmer\",\"Retired\"]}},\"y_range\":{\"type\":\"object\",\"name\":\"DataRange1d\",\"id\":\"p1006\"},\"x_scale\":{\"type\":\"object\",\"name\":\"CategoricalScale\",\"id\":\"p1015\"},\"y_scale\":{\"type\":\"object\",\"name\":\"LinearScale\",\"id\":\"p1016\"},\"title\":{\"type\":\"object\",\"name\":\"Title\",\"id\":\"p1007\",\"attributes\":{\"text\":\"Father Occupation\"}},\"renderers\":[{\"type\":\"object\",\"name\":\"GlyphRenderer\",\"id\":\"p1044\",\"attributes\":{\"data_source\":{\"type\":\"object\",\"name\":\"ColumnDataSource\",\"id\":\"p1001\",\"attributes\":{\"selected\":{\"type\":\"object\",\"name\":\"Selection\",\"id\":\"p1002\",\"attributes\":{\"indices\":[],\"line_indices\":[]}},\"selection_policy\":{\"type\":\"object\",\"name\":\"UnionRenderers\",\"id\":\"p1003\"},\"data\":{\"type\":\"map\",\"entries\":[[\"values\",[\"Service\",\"Business\",\"Others\",\"Farmer\",\"Retired\"]],[\"counts\",{\"type\":\"ndarray\",\"array\":{\"type\":\"bytes\",\"data\":\"JgAAACIAAAAdAAAAGwAAAAMAAAA=\"},\"shape\":[5],\"dtype\":\"int32\",\"order\":\"little\"}],[\"color\",[\"#006d2c\",\"#31a354\",\"#74c476\",\"#bae4b3\",\"#edf8e9\"]]]}}},\"view\":{\"type\":\"object\",\"name\":\"CDSView\",\"id\":\"p1045\",\"attributes\":{\"filter\":{\"type\":\"object\",\"name\":\"AllIndices\",\"id\":\"p1046\"}}},\"glyph\":{\"type\":\"object\",\"name\":\"VBar\",\"id\":\"p1041\",\"attributes\":{\"x\":{\"type\":\"field\",\"field\":\"values\"},\"width\":{\"type\":\"value\",\"value\":0.8},\"top\":{\"type\":\"field\",\"field\":\"counts\"},\"line_color\":{\"type\":\"value\",\"value\":\"#1f77b4\"},\"fill_color\":{\"type\":\"value\",\"value\":\"#1f77b4\"}}},\"nonselection_glyph\":{\"type\":\"object\",\"name\":\"VBar\",\"id\":\"p1042\",\"attributes\":{\"x\":{\"type\":\"field\",\"field\":\"values\"},\"width\":{\"type\":\"value\",\"value\":0.8},\"top\":{\"type\":\"field\",\"field\":\"counts\"},\"line_color\":{\"type\":\"value\",\"value\":\"#1f77b4\"},\"line_alpha\":{\"type\":\"value\",\"value\":0.1},\"fill_color\":{\"type\":\"value\",\"value\":\"#1f77b4\"},\"fill_alpha\":{\"type\":\"value\",\"value\":0.1},\"hatch_alpha\":{\"type\":\"value\",\"value\":0.1}}},\"muted_glyph\":{\"type\":\"object\",\"name\":\"VBar\",\"id\":\"p1043\",\"attributes\":{\"x\":{\"type\":\"field\",\"field\":\"values\"},\"width\":{\"type\":\"value\",\"value\":0.8},\"top\":{\"type\":\"field\",\"field\":\"counts\"},\"line_color\":{\"type\":\"value\",\"value\":\"#1f77b4\"},\"line_alpha\":{\"type\":\"value\",\"value\":0.2},\"fill_color\":{\"type\":\"value\",\"value\":\"#1f77b4\"},\"fill_alpha\":{\"type\":\"value\",\"value\":0.2},\"hatch_alpha\":{\"type\":\"value\",\"value\":0.2}}}}},{\"type\":\"object\",\"name\":\"GlyphRenderer\",\"id\":\"p1054\",\"attributes\":{\"data_source\":{\"id\":\"p1001\"},\"view\":{\"type\":\"object\",\"name\":\"CDSView\",\"id\":\"p1055\",\"attributes\":{\"filter\":{\"type\":\"object\",\"name\":\"AllIndices\",\"id\":\"p1056\"}}},\"glyph\":{\"type\":\"object\",\"name\":\"VBar\",\"id\":\"p1051\",\"attributes\":{\"x\":{\"type\":\"field\",\"field\":\"values\"},\"width\":{\"type\":\"value\",\"value\":0.8},\"top\":{\"type\":\"field\",\"field\":\"counts\"},\"line_color\":{\"type\":\"field\",\"field\":\"color\"},\"fill_color\":{\"type\":\"field\",\"field\":\"color\"},\"hatch_color\":{\"type\":\"field\",\"field\":\"color\"}}},\"nonselection_glyph\":{\"type\":\"object\",\"name\":\"VBar\",\"id\":\"p1052\",\"attributes\":{\"x\":{\"type\":\"field\",\"field\":\"values\"},\"width\":{\"type\":\"value\",\"value\":0.8},\"top\":{\"type\":\"field\",\"field\":\"counts\"},\"line_color\":{\"type\":\"field\",\"field\":\"color\"},\"line_alpha\":{\"type\":\"value\",\"value\":0.1},\"fill_color\":{\"type\":\"field\",\"field\":\"color\"},\"fill_alpha\":{\"type\":\"value\",\"value\":0.1},\"hatch_color\":{\"type\":\"field\",\"field\":\"color\"},\"hatch_alpha\":{\"type\":\"value\",\"value\":0.1}}},\"muted_glyph\":{\"type\":\"object\",\"name\":\"VBar\",\"id\":\"p1053\",\"attributes\":{\"x\":{\"type\":\"field\",\"field\":\"values\"},\"width\":{\"type\":\"value\",\"value\":0.8},\"top\":{\"type\":\"field\",\"field\":\"counts\"},\"line_color\":{\"type\":\"field\",\"field\":\"color\"},\"line_alpha\":{\"type\":\"value\",\"value\":0.2},\"fill_color\":{\"type\":\"field\",\"field\":\"color\"},\"fill_alpha\":{\"type\":\"value\",\"value\":0.2},\"hatch_color\":{\"type\":\"field\",\"field\":\"color\"},\"hatch_alpha\":{\"type\":\"value\",\"value\":0.2}}}}}],\"toolbar\":{\"type\":\"object\",\"name\":\"Toolbar\",\"id\":\"p1013\",\"attributes\":{\"tools\":[{\"type\":\"object\",\"name\":\"PanTool\",\"id\":\"p1027\"},{\"type\":\"object\",\"name\":\"WheelZoomTool\",\"id\":\"p1028\",\"attributes\":{\"renderers\":\"auto\"}},{\"type\":\"object\",\"name\":\"BoxZoomTool\",\"id\":\"p1029\",\"attributes\":{\"overlay\":{\"type\":\"object\",\"name\":\"BoxAnnotation\",\"id\":\"p1030\",\"attributes\":{\"syncable\":false,\"level\":\"overlay\",\"visible\":false,\"left\":{\"type\":\"number\",\"value\":\"nan\"},\"right\":{\"type\":\"number\",\"value\":\"nan\"},\"top\":{\"type\":\"number\",\"value\":\"nan\"},\"bottom\":{\"type\":\"number\",\"value\":\"nan\"},\"left_units\":\"canvas\",\"right_units\":\"canvas\",\"top_units\":\"canvas\",\"bottom_units\":\"canvas\",\"line_color\":\"black\",\"line_alpha\":1.0,\"line_width\":2,\"line_dash\":[4,4],\"fill_color\":\"lightgrey\",\"fill_alpha\":0.5}}}},{\"type\":\"object\",\"name\":\"SaveTool\",\"id\":\"p1035\"},{\"type\":\"object\",\"name\":\"ResetTool\",\"id\":\"p1036\"},{\"type\":\"object\",\"name\":\"HelpTool\",\"id\":\"p1037\"}]}},\"left\":[{\"type\":\"object\",\"name\":\"LinearAxis\",\"id\":\"p1022\",\"attributes\":{\"ticker\":{\"type\":\"object\",\"name\":\"BasicTicker\",\"id\":\"p1023\",\"attributes\":{\"mantissas\":[1,2,5]}},\"formatter\":{\"type\":\"object\",\"name\":\"BasicTickFormatter\",\"id\":\"p1024\"},\"major_label_policy\":{\"type\":\"object\",\"name\":\"AllLabels\",\"id\":\"p1025\"}}}],\"below\":[{\"type\":\"object\",\"name\":\"CategoricalAxis\",\"id\":\"p1017\",\"attributes\":{\"ticker\":{\"type\":\"object\",\"name\":\"CategoricalTicker\",\"id\":\"p1018\"},\"formatter\":{\"type\":\"object\",\"name\":\"CategoricalTickFormatter\",\"id\":\"p1019\"},\"major_label_policy\":{\"type\":\"object\",\"name\":\"AllLabels\",\"id\":\"p1020\"}}}],\"center\":[{\"type\":\"object\",\"name\":\"Grid\",\"id\":\"p1021\",\"attributes\":{\"axis\":{\"id\":\"p1017\"}}},{\"type\":\"object\",\"name\":\"Grid\",\"id\":\"p1026\",\"attributes\":{\"dimension\":1,\"axis\":{\"id\":\"p1022\"}}},{\"type\":\"object\",\"name\":\"Legend\",\"id\":\"p1057\",\"attributes\":{\"items\":[{\"type\":\"object\",\"name\":\"LegendItem\",\"id\":\"p1058\",\"attributes\":{\"label\":{\"type\":\"field\",\"field\":\"values\"},\"renderers\":[{\"id\":\"p1054\"}]}}]}}]}}]}};\n  const render_items = [{\"docid\":\"2d7e0686-9df0-4348-ba38-efcb06fb248d\",\"roots\":{\"p1004\":\"d4790c64-686d-4950-856f-a359997e7ba5\"},\"root_ids\":[\"p1004\"]}];\n  root.Bokeh.embed.embed_items_notebook(docs_json, render_items);\n  }\n  if (root.Bokeh !== undefined) {\n    embed_document(root);\n  } else {\n    let attempts = 0;\n    const timer = setInterval(function(root) {\n      if (root.Bokeh !== undefined) {\n        clearInterval(timer);\n        embed_document(root);\n      } else {\n        attempts++;\n        if (attempts > 100) {\n          clearInterval(timer);\n          console.log(\"Bokeh: ERROR: Unable to run BokehJS code because BokehJS library is missing\");\n        }\n      }\n    }, 10, root)\n  }\n})(window);",
      "application/vnd.bokehjs_exec.v0+json": ""
     },
     "metadata": {
      "application/vnd.bokehjs_exec.v0+json": {
       "id": "p1004"
      }
     },
     "output_type": "display_data"
    }
   ],
   "source": [
    "pf_v.vbar(x='values', top='counts', width=0.8, color='color', legend_field='values', source=sourcef)\n",
    "show(pf_v)"
   ]
  },
  {
   "cell_type": "markdown",
   "metadata": {},
   "source": [
    "Printing `sourcef.data`:"
   ]
  },
  {
   "cell_type": "code",
   "execution_count": 15,
   "metadata": {},
   "outputs": [
    {
     "name": "stdout",
     "output_type": "stream",
     "text": [
      "{'values': ['Service', 'Business', 'Others', 'Farmer', 'Retired'], 'counts': Service     38\n",
      "Business    34\n",
      "Others      29\n",
      "Farmer      27\n",
      "Retired      3\n",
      "Name: fo, dtype: int64, 'color': ('#006d2c', '#31a354', '#74c476', '#bae4b3', '#edf8e9')}\n"
     ]
    }
   ],
   "source": [
    "print(sourcef.data)"
   ]
  },
  {
   "cell_type": "markdown",
   "metadata": {},
   "source": [
    "`Greens` palette is a dictionary that contains a collection (tuples) of colors:"
   ]
  },
  {
   "cell_type": "code",
   "execution_count": 16,
   "metadata": {},
   "outputs": [
    {
     "data": {
      "text/plain": [
       "dict_keys([3, 4, 5, 6, 7, 8, 9, 256])"
      ]
     },
     "execution_count": 16,
     "metadata": {},
     "output_type": "execute_result"
    }
   ],
   "source": [
    "Greens.keys()"
   ]
  },
  {
   "cell_type": "code",
   "execution_count": 17,
   "metadata": {},
   "outputs": [
    {
     "data": {
      "text/plain": [
       "('#31a354', '#a1d99b', '#e5f5e0')"
      ]
     },
     "execution_count": 17,
     "metadata": {},
     "output_type": "execute_result"
    }
   ],
   "source": [
    "Greens[3]"
   ]
  },
  {
   "cell_type": "code",
   "execution_count": 18,
   "metadata": {},
   "outputs": [
    {
     "data": {
      "text/plain": [
       "('#005a32',\n",
       " '#238b45',\n",
       " '#41ab5d',\n",
       " '#74c476',\n",
       " '#a1d99b',\n",
       " '#c7e9c0',\n",
       " '#e5f5e0',\n",
       " '#f7fcf5')"
      ]
     },
     "execution_count": 18,
     "metadata": {},
     "output_type": "execute_result"
    }
   ],
   "source": [
    "Greens[8]"
   ]
  },
  {
   "cell_type": "markdown",
   "metadata": {},
   "source": [
    "### Horizontal Bar Chart"
   ]
  },
  {
   "cell_type": "markdown",
   "metadata": {},
   "source": [
    "`hbar()`method is used for plotting horizontal bar charts.\n",
    "\n",
    "Let's work with the variables: \n",
    "- `mo`: Mother Occupation (Service, Business, Retired, Housewife, Others)  "
   ]
  },
  {
   "cell_type": "code",
   "execution_count": 19,
   "metadata": {},
   "outputs": [
    {
     "data": {
      "text/plain": [
       "Housewife    115\n",
       "Service       12\n",
       "Others         2\n",
       "Business       1\n",
       "Retired        1\n",
       "Name: mo, dtype: int64"
      ]
     },
     "execution_count": 19,
     "metadata": {},
     "output_type": "execute_result"
    }
   ],
   "source": [
    "mo = df.mo.value_counts()\n",
    "mo"
   ]
  },
  {
   "cell_type": "markdown",
   "metadata": {},
   "source": [
    "Defining sourcef with the mother data"
   ]
  },
  {
   "cell_type": "code",
   "execution_count": 20,
   "metadata": {},
   "outputs": [],
   "source": [
    "# Defining sourcef with the mother data\n",
    "sourcem = ColumnDataSource(data=dict(values=list(mo.index), counts=mo, color=Spectral[len(mo)]))"
   ]
  },
  {
   "cell_type": "markdown",
   "metadata": {},
   "source": [
    "Set the `y_range` to the list of categories"
   ]
  },
  {
   "cell_type": "code",
   "execution_count": 21,
   "metadata": {},
   "outputs": [],
   "source": [
    "# Set the y_range to the list of categories\n",
    "pm_h = figure(y_range=list(mo.index), height=400, title=\"Mother Occupation\")"
   ]
  },
  {
   "cell_type": "code",
   "execution_count": 22,
   "metadata": {},
   "outputs": [
    {
     "data": {
      "text/html": [
       "\n",
       "  <div id=\"da2e1511-c14e-44b0-8d90-5d82ebf3d873\" data-root-id=\"p1063\" style=\"display: contents;\"></div>\n"
      ]
     },
     "metadata": {},
     "output_type": "display_data"
    },
    {
     "data": {
      "application/javascript": "(function(root) {\n  function embed_document(root) {\n  const docs_json = {\"cf21ea05-eb01-46cc-983e-a0c00c673d12\":{\"version\":\"3.3.4\",\"title\":\"Bokeh Application\",\"roots\":[{\"type\":\"object\",\"name\":\"Figure\",\"id\":\"p1063\",\"attributes\":{\"height\":400,\"x_range\":{\"type\":\"object\",\"name\":\"DataRange1d\",\"id\":\"p1065\"},\"y_range\":{\"type\":\"object\",\"name\":\"FactorRange\",\"id\":\"p1073\",\"attributes\":{\"factors\":[\"Housewife\",\"Service\",\"Others\",\"Business\",\"Retired\"]}},\"x_scale\":{\"type\":\"object\",\"name\":\"LinearScale\",\"id\":\"p1074\"},\"y_scale\":{\"type\":\"object\",\"name\":\"CategoricalScale\",\"id\":\"p1075\"},\"title\":{\"type\":\"object\",\"name\":\"Title\",\"id\":\"p1066\",\"attributes\":{\"text\":\"Mother Occupation\"}},\"renderers\":[{\"type\":\"object\",\"name\":\"GlyphRenderer\",\"id\":\"p1103\",\"attributes\":{\"data_source\":{\"type\":\"object\",\"name\":\"ColumnDataSource\",\"id\":\"p1060\",\"attributes\":{\"selected\":{\"type\":\"object\",\"name\":\"Selection\",\"id\":\"p1061\",\"attributes\":{\"indices\":[],\"line_indices\":[]}},\"selection_policy\":{\"type\":\"object\",\"name\":\"UnionRenderers\",\"id\":\"p1062\"},\"data\":{\"type\":\"map\",\"entries\":[[\"values\",[\"Housewife\",\"Service\",\"Others\",\"Business\",\"Retired\"]],[\"counts\",{\"type\":\"ndarray\",\"array\":{\"type\":\"bytes\",\"data\":\"cwAAAAwAAAACAAAAAQAAAAEAAAA=\"},\"shape\":[5],\"dtype\":\"int32\",\"order\":\"little\"}],[\"color\",[\"#2b83ba\",\"#abdda4\",\"#ffffbf\",\"#fdae61\",\"#d7191c\"]]]}}},\"view\":{\"type\":\"object\",\"name\":\"CDSView\",\"id\":\"p1104\",\"attributes\":{\"filter\":{\"type\":\"object\",\"name\":\"AllIndices\",\"id\":\"p1105\"}}},\"glyph\":{\"type\":\"object\",\"name\":\"HBar\",\"id\":\"p1100\",\"attributes\":{\"y\":{\"type\":\"field\",\"field\":\"values\"},\"height\":{\"type\":\"value\",\"value\":0.8},\"right\":{\"type\":\"field\",\"field\":\"counts\"},\"line_color\":{\"type\":\"field\",\"field\":\"color\"},\"fill_color\":{\"type\":\"field\",\"field\":\"color\"},\"hatch_color\":{\"type\":\"field\",\"field\":\"color\"}}},\"nonselection_glyph\":{\"type\":\"object\",\"name\":\"HBar\",\"id\":\"p1101\",\"attributes\":{\"y\":{\"type\":\"field\",\"field\":\"values\"},\"height\":{\"type\":\"value\",\"value\":0.8},\"right\":{\"type\":\"field\",\"field\":\"counts\"},\"line_color\":{\"type\":\"field\",\"field\":\"color\"},\"line_alpha\":{\"type\":\"value\",\"value\":0.1},\"fill_color\":{\"type\":\"field\",\"field\":\"color\"},\"fill_alpha\":{\"type\":\"value\",\"value\":0.1},\"hatch_color\":{\"type\":\"field\",\"field\":\"color\"},\"hatch_alpha\":{\"type\":\"value\",\"value\":0.1}}},\"muted_glyph\":{\"type\":\"object\",\"name\":\"HBar\",\"id\":\"p1102\",\"attributes\":{\"y\":{\"type\":\"field\",\"field\":\"values\"},\"height\":{\"type\":\"value\",\"value\":0.8},\"right\":{\"type\":\"field\",\"field\":\"counts\"},\"line_color\":{\"type\":\"field\",\"field\":\"color\"},\"line_alpha\":{\"type\":\"value\",\"value\":0.2},\"fill_color\":{\"type\":\"field\",\"field\":\"color\"},\"fill_alpha\":{\"type\":\"value\",\"value\":0.2},\"hatch_color\":{\"type\":\"field\",\"field\":\"color\"},\"hatch_alpha\":{\"type\":\"value\",\"value\":0.2}}}}}],\"toolbar\":{\"type\":\"object\",\"name\":\"Toolbar\",\"id\":\"p1072\",\"attributes\":{\"tools\":[{\"type\":\"object\",\"name\":\"PanTool\",\"id\":\"p1086\"},{\"type\":\"object\",\"name\":\"WheelZoomTool\",\"id\":\"p1087\",\"attributes\":{\"renderers\":\"auto\"}},{\"type\":\"object\",\"name\":\"BoxZoomTool\",\"id\":\"p1088\",\"attributes\":{\"overlay\":{\"type\":\"object\",\"name\":\"BoxAnnotation\",\"id\":\"p1089\",\"attributes\":{\"syncable\":false,\"level\":\"overlay\",\"visible\":false,\"left\":{\"type\":\"number\",\"value\":\"nan\"},\"right\":{\"type\":\"number\",\"value\":\"nan\"},\"top\":{\"type\":\"number\",\"value\":\"nan\"},\"bottom\":{\"type\":\"number\",\"value\":\"nan\"},\"left_units\":\"canvas\",\"right_units\":\"canvas\",\"top_units\":\"canvas\",\"bottom_units\":\"canvas\",\"line_color\":\"black\",\"line_alpha\":1.0,\"line_width\":2,\"line_dash\":[4,4],\"fill_color\":\"lightgrey\",\"fill_alpha\":0.5}}}},{\"type\":\"object\",\"name\":\"SaveTool\",\"id\":\"p1094\"},{\"type\":\"object\",\"name\":\"ResetTool\",\"id\":\"p1095\"},{\"type\":\"object\",\"name\":\"HelpTool\",\"id\":\"p1096\"}]}},\"left\":[{\"type\":\"object\",\"name\":\"CategoricalAxis\",\"id\":\"p1081\",\"attributes\":{\"ticker\":{\"type\":\"object\",\"name\":\"CategoricalTicker\",\"id\":\"p1082\"},\"formatter\":{\"type\":\"object\",\"name\":\"CategoricalTickFormatter\",\"id\":\"p1083\"},\"major_label_policy\":{\"type\":\"object\",\"name\":\"AllLabels\",\"id\":\"p1084\"}}}],\"below\":[{\"type\":\"object\",\"name\":\"LinearAxis\",\"id\":\"p1076\",\"attributes\":{\"ticker\":{\"type\":\"object\",\"name\":\"BasicTicker\",\"id\":\"p1077\",\"attributes\":{\"mantissas\":[1,2,5]}},\"formatter\":{\"type\":\"object\",\"name\":\"BasicTickFormatter\",\"id\":\"p1078\"},\"major_label_policy\":{\"type\":\"object\",\"name\":\"AllLabels\",\"id\":\"p1079\"}}}],\"center\":[{\"type\":\"object\",\"name\":\"Grid\",\"id\":\"p1080\",\"attributes\":{\"axis\":{\"id\":\"p1076\"}}},{\"type\":\"object\",\"name\":\"Grid\",\"id\":\"p1085\",\"attributes\":{\"dimension\":1,\"axis\":{\"id\":\"p1081\"}}},{\"type\":\"object\",\"name\":\"Legend\",\"id\":\"p1106\",\"attributes\":{\"items\":[{\"type\":\"object\",\"name\":\"LegendItem\",\"id\":\"p1107\",\"attributes\":{\"label\":{\"type\":\"field\",\"field\":\"values\"},\"renderers\":[{\"id\":\"p1103\"}]}}]}}]}}]}};\n  const render_items = [{\"docid\":\"cf21ea05-eb01-46cc-983e-a0c00c673d12\",\"roots\":{\"p1063\":\"da2e1511-c14e-44b0-8d90-5d82ebf3d873\"},\"root_ids\":[\"p1063\"]}];\n  root.Bokeh.embed.embed_items_notebook(docs_json, render_items);\n  }\n  if (root.Bokeh !== undefined) {\n    embed_document(root);\n  } else {\n    let attempts = 0;\n    const timer = setInterval(function(root) {\n      if (root.Bokeh !== undefined) {\n        clearInterval(timer);\n        embed_document(root);\n      } else {\n        attempts++;\n        if (attempts > 100) {\n          clearInterval(timer);\n          console.log(\"Bokeh: ERROR: Unable to run BokehJS code because BokehJS library is missing\");\n        }\n      }\n    }, 10, root)\n  }\n})(window);",
      "application/vnd.bokehjs_exec.v0+json": ""
     },
     "metadata": {
      "application/vnd.bokehjs_exec.v0+json": {
       "id": "p1063"
      }
     },
     "output_type": "display_data"
    }
   ],
   "source": [
    "pm_h.hbar(y='values', right='counts', color='color', height=0.8, legend_field='values', source=sourcem)\n",
    "show(pm_h)"
   ]
  },
  {
   "cell_type": "code",
   "execution_count": 23,
   "metadata": {},
   "outputs": [
    {
     "data": {
      "text/plain": [
       "dict_keys([3, 4, 5, 6, 7, 8, 9, 10, 11])"
      ]
     },
     "execution_count": 23,
     "metadata": {},
     "output_type": "execute_result"
    }
   ],
   "source": [
    "# Spectral palette colors\n",
    "Spectral.keys()"
   ]
  },
  {
   "cell_type": "markdown",
   "metadata": {},
   "source": [
    "## Stacked Bars"
   ]
  },
  {
   "cell_type": "markdown",
   "metadata": {},
   "source": [
    "A stacked bar chart is a variation of a bar chart, including an additional variable. Suppose you want to plot together the father and mother's occupation information.\n",
    "\n",
    "As you can see, the variables `fo` (father occupation) and `mo` (mother occupation) have almost the same values. The only exception is that `fo` has 'farmer,' and `mo` has 'housewife' instead. We will change 'housewife' for 'farmer' in `mo` for both variables have exactly the same labels."
   ]
  },
  {
   "cell_type": "code",
   "execution_count": 24,
   "metadata": {},
   "outputs": [
    {
     "data": {
      "text/plain": [
       "Housewife    115\n",
       "Service       12\n",
       "Others         2\n",
       "Business       1\n",
       "Retired        1\n",
       "Name: mo, dtype: int64"
      ]
     },
     "execution_count": 24,
     "metadata": {},
     "output_type": "execute_result"
    }
   ],
   "source": [
    "df.mo.value_counts()"
   ]
  },
  {
   "cell_type": "markdown",
   "metadata": {},
   "source": [
    "Changing `Housewife` by `Farmer` in mo column (mother occupation)"
   ]
  },
  {
   "cell_type": "code",
   "execution_count": 25,
   "metadata": {},
   "outputs": [
    {
     "data": {
      "text/plain": [
       "Farmer      115\n",
       "Service      12\n",
       "Others        2\n",
       "Business      1\n",
       "Retired       1\n",
       "Name: mo, dtype: int64"
      ]
     },
     "execution_count": 25,
     "metadata": {},
     "output_type": "execute_result"
    }
   ],
   "source": [
    "# Changing 'Housewife' by 'Farmer' in mo column (mother occupation)\n",
    "df.loc[df.mo == 'Housewife', 'mo'] = 'Farmer'\n",
    "df.mo.value_counts()"
   ]
  },
  {
   "cell_type": "markdown",
   "metadata": {},
   "source": [
    "Getting the occupations. Notice that we sorted them by alphabetical order."
   ]
  },
  {
   "cell_type": "code",
   "execution_count": 26,
   "metadata": {},
   "outputs": [
    {
     "data": {
      "text/plain": [
       "['Business', 'Farmer', 'Others', 'Retired', 'Service']"
      ]
     },
     "execution_count": 26,
     "metadata": {},
     "output_type": "execute_result"
    }
   ],
   "source": [
    "# Getting the occupations. Notice that we sorted them by alphabetical order. \n",
    "occupations = df.mo.value_counts().sort_index().index.tolist()\n",
    "occupations"
   ]
  },
  {
   "cell_type": "code",
   "execution_count": 27,
   "metadata": {},
   "outputs": [
    {
     "data": {
      "text/plain": [
       "Business    34\n",
       "Farmer      27\n",
       "Others      29\n",
       "Retired      3\n",
       "Service     38\n",
       "Name: fo, dtype: int64"
      ]
     },
     "execution_count": 27,
     "metadata": {},
     "output_type": "execute_result"
    }
   ],
   "source": [
    "# Getting the father occupations sorted by alphabetical order\n",
    "df.fo.value_counts().sort_index()"
   ]
  },
  {
   "cell_type": "markdown",
   "metadata": {},
   "source": [
    "Getting the sorted values of the occupation of the father and mother"
   ]
  },
  {
   "cell_type": "code",
   "execution_count": 28,
   "metadata": {},
   "outputs": [],
   "source": [
    "fo_val = list(df.fo.value_counts().sort_index())\n",
    "mo_val = list(df.mo.value_counts().sort_index())"
   ]
  },
  {
   "cell_type": "markdown",
   "metadata": {},
   "source": [
    "### Vertical Stacked Bars"
   ]
  },
  {
   "cell_type": "markdown",
   "metadata": {},
   "source": [
    "Defining data. Take into account that we have to use the same order of the labels"
   ]
  },
  {
   "cell_type": "code",
   "execution_count": 29,
   "metadata": {},
   "outputs": [],
   "source": [
    "# Defining data. Take into account that we have to use the same order of the labels\n",
    "datap = {'occupations': occupations, \n",
    "        'Father': fo_val,\n",
    "        'Mother': mo_val}"
   ]
  },
  {
   "cell_type": "code",
   "execution_count": 30,
   "metadata": {},
   "outputs": [],
   "source": [
    "#Defining parent\n",
    "parent = ['Father', 'Mother']"
   ]
  },
  {
   "cell_type": "markdown",
   "metadata": {},
   "source": [
    "Defining an empty figure"
   ]
  },
  {
   "cell_type": "code",
   "execution_count": 31,
   "metadata": {},
   "outputs": [],
   "source": [
    "p_v = figure(x_range=occupations, height=350, title=\"Parents' Occupations\",\n",
    "           toolbar_location=None, tools=\"hover\", tooltips=\"($name) @occupations: @$name\")"
   ]
  },
  {
   "cell_type": "code",
   "execution_count": 32,
   "metadata": {},
   "outputs": [
    {
     "data": {
      "text/html": [
       "\n",
       "  <div id=\"d76128d2-9a70-4917-8171-d2ee971c42ec\" data-root-id=\"p1109\" style=\"display: contents;\"></div>\n"
      ]
     },
     "metadata": {},
     "output_type": "display_data"
    },
    {
     "data": {
      "application/javascript": "(function(root) {\n  function embed_document(root) {\n  const docs_json = {\"e36014f2-3c18-4e1c-8aea-41031e951ebb\":{\"version\":\"3.3.4\",\"title\":\"Bokeh Application\",\"roots\":[{\"type\":\"object\",\"name\":\"Figure\",\"id\":\"p1109\",\"attributes\":{\"height\":350,\"x_range\":{\"type\":\"object\",\"name\":\"FactorRange\",\"id\":\"p1119\",\"attributes\":{\"factors\":[\"Business\",\"Farmer\",\"Others\",\"Retired\",\"Service\"],\"range_padding\":0.1}},\"y_range\":{\"type\":\"object\",\"name\":\"DataRange1d\",\"id\":\"p1111\",\"attributes\":{\"start\":0}},\"x_scale\":{\"type\":\"object\",\"name\":\"CategoricalScale\",\"id\":\"p1120\"},\"y_scale\":{\"type\":\"object\",\"name\":\"LinearScale\",\"id\":\"p1121\"},\"title\":{\"type\":\"object\",\"name\":\"Title\",\"id\":\"p1112\",\"attributes\":{\"text\":\"Parents' Occupations\"}},\"renderers\":[{\"type\":\"object\",\"name\":\"GlyphRenderer\",\"id\":\"p1146\",\"attributes\":{\"name\":\"Father\",\"data_source\":{\"type\":\"object\",\"name\":\"ColumnDataSource\",\"id\":\"p1137\",\"attributes\":{\"selected\":{\"type\":\"object\",\"name\":\"Selection\",\"id\":\"p1138\",\"attributes\":{\"indices\":[],\"line_indices\":[]}},\"selection_policy\":{\"type\":\"object\",\"name\":\"UnionRenderers\",\"id\":\"p1139\"},\"data\":{\"type\":\"map\",\"entries\":[[\"occupations\",[\"Business\",\"Farmer\",\"Others\",\"Retired\",\"Service\"]],[\"Father\",[34,27,29,3,38]],[\"Mother\",[1,115,2,1,12]]]}}},\"view\":{\"type\":\"object\",\"name\":\"CDSView\",\"id\":\"p1147\",\"attributes\":{\"filter\":{\"type\":\"object\",\"name\":\"AllIndices\",\"id\":\"p1148\"}}},\"glyph\":{\"type\":\"object\",\"name\":\"VBar\",\"id\":\"p1143\",\"attributes\":{\"x\":{\"type\":\"field\",\"field\":\"occupations\"},\"width\":{\"type\":\"value\",\"value\":0.8},\"bottom\":{\"type\":\"expr\",\"expr\":{\"type\":\"object\",\"name\":\"Stack\",\"id\":\"p1133\",\"attributes\":{\"fields\":[]}}},\"top\":{\"type\":\"expr\",\"expr\":{\"type\":\"object\",\"name\":\"Stack\",\"id\":\"p1134\",\"attributes\":{\"fields\":[\"Father\"]}}},\"line_color\":{\"type\":\"value\",\"value\":\"skyblue\"},\"fill_color\":{\"type\":\"value\",\"value\":\"skyblue\"},\"hatch_color\":{\"type\":\"value\",\"value\":\"skyblue\"}}},\"nonselection_glyph\":{\"type\":\"object\",\"name\":\"VBar\",\"id\":\"p1144\",\"attributes\":{\"x\":{\"type\":\"field\",\"field\":\"occupations\"},\"width\":{\"type\":\"value\",\"value\":0.8},\"bottom\":{\"type\":\"expr\",\"expr\":{\"id\":\"p1133\"}},\"top\":{\"type\":\"expr\",\"expr\":{\"id\":\"p1134\"}},\"line_color\":{\"type\":\"value\",\"value\":\"skyblue\"},\"line_alpha\":{\"type\":\"value\",\"value\":0.1},\"fill_color\":{\"type\":\"value\",\"value\":\"skyblue\"},\"fill_alpha\":{\"type\":\"value\",\"value\":0.1},\"hatch_color\":{\"type\":\"value\",\"value\":\"skyblue\"},\"hatch_alpha\":{\"type\":\"value\",\"value\":0.1}}},\"muted_glyph\":{\"type\":\"object\",\"name\":\"VBar\",\"id\":\"p1145\",\"attributes\":{\"x\":{\"type\":\"field\",\"field\":\"occupations\"},\"width\":{\"type\":\"value\",\"value\":0.8},\"bottom\":{\"type\":\"expr\",\"expr\":{\"id\":\"p1133\"}},\"top\":{\"type\":\"expr\",\"expr\":{\"id\":\"p1134\"}},\"line_color\":{\"type\":\"value\",\"value\":\"skyblue\"},\"line_alpha\":{\"type\":\"value\",\"value\":0.2},\"fill_color\":{\"type\":\"value\",\"value\":\"skyblue\"},\"fill_alpha\":{\"type\":\"value\",\"value\":0.2},\"hatch_color\":{\"type\":\"value\",\"value\":\"skyblue\"},\"hatch_alpha\":{\"type\":\"value\",\"value\":0.2}}}}},{\"type\":\"object\",\"name\":\"GlyphRenderer\",\"id\":\"p1160\",\"attributes\":{\"name\":\"Mother\",\"data_source\":{\"type\":\"object\",\"name\":\"ColumnDataSource\",\"id\":\"p1151\",\"attributes\":{\"selected\":{\"type\":\"object\",\"name\":\"Selection\",\"id\":\"p1152\",\"attributes\":{\"indices\":[],\"line_indices\":[]}},\"selection_policy\":{\"type\":\"object\",\"name\":\"UnionRenderers\",\"id\":\"p1153\"},\"data\":{\"type\":\"map\",\"entries\":[[\"occupations\",[\"Business\",\"Farmer\",\"Others\",\"Retired\",\"Service\"]],[\"Father\",[34,27,29,3,38]],[\"Mother\",[1,115,2,1,12]]]}}},\"view\":{\"type\":\"object\",\"name\":\"CDSView\",\"id\":\"p1161\",\"attributes\":{\"filter\":{\"type\":\"object\",\"name\":\"AllIndices\",\"id\":\"p1162\"}}},\"glyph\":{\"type\":\"object\",\"name\":\"VBar\",\"id\":\"p1157\",\"attributes\":{\"x\":{\"type\":\"field\",\"field\":\"occupations\"},\"width\":{\"type\":\"value\",\"value\":0.8},\"bottom\":{\"type\":\"expr\",\"expr\":{\"type\":\"object\",\"name\":\"Stack\",\"id\":\"p1135\",\"attributes\":{\"fields\":[\"Father\"]}}},\"top\":{\"type\":\"expr\",\"expr\":{\"type\":\"object\",\"name\":\"Stack\",\"id\":\"p1136\",\"attributes\":{\"fields\":[\"Father\",\"Mother\"]}}},\"line_color\":{\"type\":\"value\",\"value\":\"salmon\"},\"fill_color\":{\"type\":\"value\",\"value\":\"salmon\"},\"hatch_color\":{\"type\":\"value\",\"value\":\"salmon\"}}},\"nonselection_glyph\":{\"type\":\"object\",\"name\":\"VBar\",\"id\":\"p1158\",\"attributes\":{\"x\":{\"type\":\"field\",\"field\":\"occupations\"},\"width\":{\"type\":\"value\",\"value\":0.8},\"bottom\":{\"type\":\"expr\",\"expr\":{\"id\":\"p1135\"}},\"top\":{\"type\":\"expr\",\"expr\":{\"id\":\"p1136\"}},\"line_color\":{\"type\":\"value\",\"value\":\"salmon\"},\"line_alpha\":{\"type\":\"value\",\"value\":0.1},\"fill_color\":{\"type\":\"value\",\"value\":\"salmon\"},\"fill_alpha\":{\"type\":\"value\",\"value\":0.1},\"hatch_color\":{\"type\":\"value\",\"value\":\"salmon\"},\"hatch_alpha\":{\"type\":\"value\",\"value\":0.1}}},\"muted_glyph\":{\"type\":\"object\",\"name\":\"VBar\",\"id\":\"p1159\",\"attributes\":{\"x\":{\"type\":\"field\",\"field\":\"occupations\"},\"width\":{\"type\":\"value\",\"value\":0.8},\"bottom\":{\"type\":\"expr\",\"expr\":{\"id\":\"p1135\"}},\"top\":{\"type\":\"expr\",\"expr\":{\"id\":\"p1136\"}},\"line_color\":{\"type\":\"value\",\"value\":\"salmon\"},\"line_alpha\":{\"type\":\"value\",\"value\":0.2},\"fill_color\":{\"type\":\"value\",\"value\":\"salmon\"},\"fill_alpha\":{\"type\":\"value\",\"value\":0.2},\"hatch_color\":{\"type\":\"value\",\"value\":\"salmon\"},\"hatch_alpha\":{\"type\":\"value\",\"value\":0.2}}}}}],\"toolbar\":{\"type\":\"object\",\"name\":\"Toolbar\",\"id\":\"p1118\",\"attributes\":{\"tools\":[{\"type\":\"object\",\"name\":\"HoverTool\",\"id\":\"p1132\",\"attributes\":{\"renderers\":\"auto\",\"tooltips\":\"($name) @occupations: @$name\"}}]}},\"toolbar_location\":null,\"left\":[{\"type\":\"object\",\"name\":\"LinearAxis\",\"id\":\"p1127\",\"attributes\":{\"ticker\":{\"type\":\"object\",\"name\":\"BasicTicker\",\"id\":\"p1128\",\"attributes\":{\"mantissas\":[1,2,5]}},\"formatter\":{\"type\":\"object\",\"name\":\"BasicTickFormatter\",\"id\":\"p1129\"},\"major_label_policy\":{\"type\":\"object\",\"name\":\"AllLabels\",\"id\":\"p1130\"}}}],\"below\":[{\"type\":\"object\",\"name\":\"CategoricalAxis\",\"id\":\"p1122\",\"attributes\":{\"ticker\":{\"type\":\"object\",\"name\":\"CategoricalTicker\",\"id\":\"p1123\"},\"formatter\":{\"type\":\"object\",\"name\":\"CategoricalTickFormatter\",\"id\":\"p1124\"},\"major_label_policy\":{\"type\":\"object\",\"name\":\"AllLabels\",\"id\":\"p1125\"}}}],\"center\":[{\"type\":\"object\",\"name\":\"Grid\",\"id\":\"p1126\",\"attributes\":{\"axis\":{\"id\":\"p1122\"}}},{\"type\":\"object\",\"name\":\"Grid\",\"id\":\"p1131\",\"attributes\":{\"dimension\":1,\"axis\":{\"id\":\"p1127\"}}},{\"type\":\"object\",\"name\":\"Legend\",\"id\":\"p1149\",\"attributes\":{\"items\":[{\"type\":\"object\",\"name\":\"LegendItem\",\"id\":\"p1150\",\"attributes\":{\"label\":{\"type\":\"value\",\"value\":\"Father\"},\"renderers\":[{\"id\":\"p1146\"}]}},{\"type\":\"object\",\"name\":\"LegendItem\",\"id\":\"p1163\",\"attributes\":{\"label\":{\"type\":\"value\",\"value\":\"Mother\"},\"renderers\":[{\"id\":\"p1160\"}]}}]}}]}}]}};\n  const render_items = [{\"docid\":\"e36014f2-3c18-4e1c-8aea-41031e951ebb\",\"roots\":{\"p1109\":\"d76128d2-9a70-4917-8171-d2ee971c42ec\"},\"root_ids\":[\"p1109\"]}];\n  root.Bokeh.embed.embed_items_notebook(docs_json, render_items);\n  }\n  if (root.Bokeh !== undefined) {\n    embed_document(root);\n  } else {\n    let attempts = 0;\n    const timer = setInterval(function(root) {\n      if (root.Bokeh !== undefined) {\n        clearInterval(timer);\n        embed_document(root);\n      } else {\n        attempts++;\n        if (attempts > 100) {\n          clearInterval(timer);\n          console.log(\"Bokeh: ERROR: Unable to run BokehJS code because BokehJS library is missing\");\n        }\n      }\n    }, 10, root)\n  }\n})(window);",
      "application/vnd.bokehjs_exec.v0+json": ""
     },
     "metadata": {
      "application/vnd.bokehjs_exec.v0+json": {
       "id": "p1109"
      }
     },
     "output_type": "display_data"
    }
   ],
   "source": [
    "p_v.vbar_stack(parent, x='occupations', width=0.8, color=['skyblue','salmon'], \n",
    "                source=datap, legend_label=parent)\n",
    "p_v.y_range.start = 0\n",
    "p_v.x_range.range_padding = 0.1\n",
    "p_v.legend.location = \"top_right\"\n",
    "p_v.legend.orientation = \"vertical\"\n",
    "\n",
    "show(p_v)"
   ]
  },
  {
   "cell_type": "code",
   "execution_count": 33,
   "metadata": {},
   "outputs": [
    {
     "data": {
      "text/html": [
       "\n",
       "  <div id=\"f1d08fc6-0685-45da-8626-8fdbd644a742\" data-root-id=\"p1109\" style=\"display: contents;\"></div>\n"
      ]
     },
     "metadata": {},
     "output_type": "display_data"
    },
    {
     "data": {
      "application/javascript": "(function(root) {\n  function embed_document(root) {\n  const docs_json = {\"88e2c298-8c23-4d20-b0b5-58b45a36e405\":{\"version\":\"3.3.4\",\"title\":\"Bokeh Application\",\"roots\":[{\"type\":\"object\",\"name\":\"Figure\",\"id\":\"p1109\",\"attributes\":{\"height\":350,\"x_range\":{\"type\":\"object\",\"name\":\"FactorRange\",\"id\":\"p1119\",\"attributes\":{\"factors\":[\"Business\",\"Farmer\",\"Others\",\"Retired\",\"Service\"],\"range_padding\":0.1}},\"y_range\":{\"type\":\"object\",\"name\":\"DataRange1d\",\"id\":\"p1111\",\"attributes\":{\"start\":0}},\"x_scale\":{\"type\":\"object\",\"name\":\"CategoricalScale\",\"id\":\"p1120\"},\"y_scale\":{\"type\":\"object\",\"name\":\"LinearScale\",\"id\":\"p1121\"},\"title\":{\"type\":\"object\",\"name\":\"Title\",\"id\":\"p1112\",\"attributes\":{\"text\":\"Parents' Occupations\"}},\"renderers\":[{\"type\":\"object\",\"name\":\"GlyphRenderer\",\"id\":\"p1146\",\"attributes\":{\"name\":\"Father\",\"data_source\":{\"type\":\"object\",\"name\":\"ColumnDataSource\",\"id\":\"p1137\",\"attributes\":{\"selected\":{\"type\":\"object\",\"name\":\"Selection\",\"id\":\"p1138\",\"attributes\":{\"indices\":[],\"line_indices\":[]}},\"selection_policy\":{\"type\":\"object\",\"name\":\"UnionRenderers\",\"id\":\"p1139\"},\"data\":{\"type\":\"map\",\"entries\":[[\"occupations\",[\"Business\",\"Farmer\",\"Others\",\"Retired\",\"Service\"]],[\"Father\",[34,27,29,3,38]],[\"Mother\",[1,115,2,1,12]]]}}},\"view\":{\"type\":\"object\",\"name\":\"CDSView\",\"id\":\"p1147\",\"attributes\":{\"filter\":{\"type\":\"object\",\"name\":\"AllIndices\",\"id\":\"p1148\"}}},\"glyph\":{\"type\":\"object\",\"name\":\"VBar\",\"id\":\"p1143\",\"attributes\":{\"x\":{\"type\":\"field\",\"field\":\"occupations\"},\"width\":{\"type\":\"value\",\"value\":0.8},\"bottom\":{\"type\":\"expr\",\"expr\":{\"type\":\"object\",\"name\":\"Stack\",\"id\":\"p1133\",\"attributes\":{\"fields\":[]}}},\"top\":{\"type\":\"expr\",\"expr\":{\"type\":\"object\",\"name\":\"Stack\",\"id\":\"p1134\",\"attributes\":{\"fields\":[\"Father\"]}}},\"line_color\":{\"type\":\"value\",\"value\":\"skyblue\"},\"fill_color\":{\"type\":\"value\",\"value\":\"skyblue\"},\"hatch_color\":{\"type\":\"value\",\"value\":\"skyblue\"}}},\"nonselection_glyph\":{\"type\":\"object\",\"name\":\"VBar\",\"id\":\"p1144\",\"attributes\":{\"x\":{\"type\":\"field\",\"field\":\"occupations\"},\"width\":{\"type\":\"value\",\"value\":0.8},\"bottom\":{\"type\":\"expr\",\"expr\":{\"id\":\"p1133\"}},\"top\":{\"type\":\"expr\",\"expr\":{\"id\":\"p1134\"}},\"line_color\":{\"type\":\"value\",\"value\":\"skyblue\"},\"line_alpha\":{\"type\":\"value\",\"value\":0.1},\"fill_color\":{\"type\":\"value\",\"value\":\"skyblue\"},\"fill_alpha\":{\"type\":\"value\",\"value\":0.1},\"hatch_color\":{\"type\":\"value\",\"value\":\"skyblue\"},\"hatch_alpha\":{\"type\":\"value\",\"value\":0.1}}},\"muted_glyph\":{\"type\":\"object\",\"name\":\"VBar\",\"id\":\"p1145\",\"attributes\":{\"x\":{\"type\":\"field\",\"field\":\"occupations\"},\"width\":{\"type\":\"value\",\"value\":0.8},\"bottom\":{\"type\":\"expr\",\"expr\":{\"id\":\"p1133\"}},\"top\":{\"type\":\"expr\",\"expr\":{\"id\":\"p1134\"}},\"line_color\":{\"type\":\"value\",\"value\":\"skyblue\"},\"line_alpha\":{\"type\":\"value\",\"value\":0.2},\"fill_color\":{\"type\":\"value\",\"value\":\"skyblue\"},\"fill_alpha\":{\"type\":\"value\",\"value\":0.2},\"hatch_color\":{\"type\":\"value\",\"value\":\"skyblue\"},\"hatch_alpha\":{\"type\":\"value\",\"value\":0.2}}}}},{\"type\":\"object\",\"name\":\"GlyphRenderer\",\"id\":\"p1160\",\"attributes\":{\"name\":\"Mother\",\"data_source\":{\"type\":\"object\",\"name\":\"ColumnDataSource\",\"id\":\"p1151\",\"attributes\":{\"selected\":{\"type\":\"object\",\"name\":\"Selection\",\"id\":\"p1152\",\"attributes\":{\"indices\":[],\"line_indices\":[]}},\"selection_policy\":{\"type\":\"object\",\"name\":\"UnionRenderers\",\"id\":\"p1153\"},\"data\":{\"type\":\"map\",\"entries\":[[\"occupations\",[\"Business\",\"Farmer\",\"Others\",\"Retired\",\"Service\"]],[\"Father\",[34,27,29,3,38]],[\"Mother\",[1,115,2,1,12]]]}}},\"view\":{\"type\":\"object\",\"name\":\"CDSView\",\"id\":\"p1161\",\"attributes\":{\"filter\":{\"type\":\"object\",\"name\":\"AllIndices\",\"id\":\"p1162\"}}},\"glyph\":{\"type\":\"object\",\"name\":\"VBar\",\"id\":\"p1157\",\"attributes\":{\"x\":{\"type\":\"field\",\"field\":\"occupations\"},\"width\":{\"type\":\"value\",\"value\":0.8},\"bottom\":{\"type\":\"expr\",\"expr\":{\"type\":\"object\",\"name\":\"Stack\",\"id\":\"p1135\",\"attributes\":{\"fields\":[\"Father\"]}}},\"top\":{\"type\":\"expr\",\"expr\":{\"type\":\"object\",\"name\":\"Stack\",\"id\":\"p1136\",\"attributes\":{\"fields\":[\"Father\",\"Mother\"]}}},\"line_color\":{\"type\":\"value\",\"value\":\"salmon\"},\"fill_color\":{\"type\":\"value\",\"value\":\"salmon\"},\"hatch_color\":{\"type\":\"value\",\"value\":\"salmon\"}}},\"nonselection_glyph\":{\"type\":\"object\",\"name\":\"VBar\",\"id\":\"p1158\",\"attributes\":{\"x\":{\"type\":\"field\",\"field\":\"occupations\"},\"width\":{\"type\":\"value\",\"value\":0.8},\"bottom\":{\"type\":\"expr\",\"expr\":{\"id\":\"p1135\"}},\"top\":{\"type\":\"expr\",\"expr\":{\"id\":\"p1136\"}},\"line_color\":{\"type\":\"value\",\"value\":\"salmon\"},\"line_alpha\":{\"type\":\"value\",\"value\":0.1},\"fill_color\":{\"type\":\"value\",\"value\":\"salmon\"},\"fill_alpha\":{\"type\":\"value\",\"value\":0.1},\"hatch_color\":{\"type\":\"value\",\"value\":\"salmon\"},\"hatch_alpha\":{\"type\":\"value\",\"value\":0.1}}},\"muted_glyph\":{\"type\":\"object\",\"name\":\"VBar\",\"id\":\"p1159\",\"attributes\":{\"x\":{\"type\":\"field\",\"field\":\"occupations\"},\"width\":{\"type\":\"value\",\"value\":0.8},\"bottom\":{\"type\":\"expr\",\"expr\":{\"id\":\"p1135\"}},\"top\":{\"type\":\"expr\",\"expr\":{\"id\":\"p1136\"}},\"line_color\":{\"type\":\"value\",\"value\":\"salmon\"},\"line_alpha\":{\"type\":\"value\",\"value\":0.2},\"fill_color\":{\"type\":\"value\",\"value\":\"salmon\"},\"fill_alpha\":{\"type\":\"value\",\"value\":0.2},\"hatch_color\":{\"type\":\"value\",\"value\":\"salmon\"},\"hatch_alpha\":{\"type\":\"value\",\"value\":0.2}}}}},{\"type\":\"object\",\"name\":\"GlyphRenderer\",\"id\":\"p1177\",\"attributes\":{\"name\":\"Father\",\"data_source\":{\"type\":\"object\",\"name\":\"ColumnDataSource\",\"id\":\"p1168\",\"attributes\":{\"selected\":{\"type\":\"object\",\"name\":\"Selection\",\"id\":\"p1169\",\"attributes\":{\"indices\":[],\"line_indices\":[]}},\"selection_policy\":{\"type\":\"object\",\"name\":\"UnionRenderers\",\"id\":\"p1170\"},\"data\":{\"type\":\"map\",\"entries\":[[\"occupations\",[\"Business\",\"Farmer\",\"Others\",\"Retired\",\"Service\"]],[\"Father\",[34,27,29,3,38]],[\"Mother\",[1,115,2,1,12]]]}}},\"view\":{\"type\":\"object\",\"name\":\"CDSView\",\"id\":\"p1178\",\"attributes\":{\"filter\":{\"type\":\"object\",\"name\":\"AllIndices\",\"id\":\"p1179\"}}},\"glyph\":{\"type\":\"object\",\"name\":\"VBar\",\"id\":\"p1174\",\"attributes\":{\"x\":{\"type\":\"field\",\"field\":\"occupations\"},\"width\":{\"type\":\"value\",\"value\":0.8},\"bottom\":{\"type\":\"expr\",\"expr\":{\"type\":\"object\",\"name\":\"Stack\",\"id\":\"p1164\",\"attributes\":{\"fields\":[]}}},\"top\":{\"type\":\"expr\",\"expr\":{\"type\":\"object\",\"name\":\"Stack\",\"id\":\"p1165\",\"attributes\":{\"fields\":[\"Father\"]}}},\"line_color\":{\"type\":\"value\",\"value\":\"steelblue\"},\"fill_color\":{\"type\":\"value\",\"value\":\"steelblue\"},\"hatch_color\":{\"type\":\"value\",\"value\":\"steelblue\"}}},\"nonselection_glyph\":{\"type\":\"object\",\"name\":\"VBar\",\"id\":\"p1175\",\"attributes\":{\"x\":{\"type\":\"field\",\"field\":\"occupations\"},\"width\":{\"type\":\"value\",\"value\":0.8},\"bottom\":{\"type\":\"expr\",\"expr\":{\"id\":\"p1164\"}},\"top\":{\"type\":\"expr\",\"expr\":{\"id\":\"p1165\"}},\"line_color\":{\"type\":\"value\",\"value\":\"steelblue\"},\"line_alpha\":{\"type\":\"value\",\"value\":0.1},\"fill_color\":{\"type\":\"value\",\"value\":\"steelblue\"},\"fill_alpha\":{\"type\":\"value\",\"value\":0.1},\"hatch_color\":{\"type\":\"value\",\"value\":\"steelblue\"},\"hatch_alpha\":{\"type\":\"value\",\"value\":0.1}}},\"muted_glyph\":{\"type\":\"object\",\"name\":\"VBar\",\"id\":\"p1176\",\"attributes\":{\"x\":{\"type\":\"field\",\"field\":\"occupations\"},\"width\":{\"type\":\"value\",\"value\":0.8},\"bottom\":{\"type\":\"expr\",\"expr\":{\"id\":\"p1164\"}},\"top\":{\"type\":\"expr\",\"expr\":{\"id\":\"p1165\"}},\"line_color\":{\"type\":\"value\",\"value\":\"steelblue\"},\"line_alpha\":{\"type\":\"value\",\"value\":0.2},\"fill_color\":{\"type\":\"value\",\"value\":\"steelblue\"},\"fill_alpha\":{\"type\":\"value\",\"value\":0.2},\"hatch_color\":{\"type\":\"value\",\"value\":\"steelblue\"},\"hatch_alpha\":{\"type\":\"value\",\"value\":0.2}}}}},{\"type\":\"object\",\"name\":\"GlyphRenderer\",\"id\":\"p1189\",\"attributes\":{\"name\":\"Mother\",\"data_source\":{\"type\":\"object\",\"name\":\"ColumnDataSource\",\"id\":\"p1180\",\"attributes\":{\"selected\":{\"type\":\"object\",\"name\":\"Selection\",\"id\":\"p1181\",\"attributes\":{\"indices\":[],\"line_indices\":[]}},\"selection_policy\":{\"type\":\"object\",\"name\":\"UnionRenderers\",\"id\":\"p1182\"},\"data\":{\"type\":\"map\",\"entries\":[[\"occupations\",[\"Business\",\"Farmer\",\"Others\",\"Retired\",\"Service\"]],[\"Father\",[34,27,29,3,38]],[\"Mother\",[1,115,2,1,12]]]}}},\"view\":{\"type\":\"object\",\"name\":\"CDSView\",\"id\":\"p1190\",\"attributes\":{\"filter\":{\"type\":\"object\",\"name\":\"AllIndices\",\"id\":\"p1191\"}}},\"glyph\":{\"type\":\"object\",\"name\":\"VBar\",\"id\":\"p1186\",\"attributes\":{\"x\":{\"type\":\"field\",\"field\":\"occupations\"},\"width\":{\"type\":\"value\",\"value\":0.8},\"bottom\":{\"type\":\"expr\",\"expr\":{\"type\":\"object\",\"name\":\"Stack\",\"id\":\"p1166\",\"attributes\":{\"fields\":[\"Father\"]}}},\"top\":{\"type\":\"expr\",\"expr\":{\"type\":\"object\",\"name\":\"Stack\",\"id\":\"p1167\",\"attributes\":{\"fields\":[\"Father\",\"Mother\"]}}},\"line_color\":{\"type\":\"value\",\"value\":\"coral\"},\"fill_color\":{\"type\":\"value\",\"value\":\"coral\"},\"hatch_color\":{\"type\":\"value\",\"value\":\"coral\"}}},\"nonselection_glyph\":{\"type\":\"object\",\"name\":\"VBar\",\"id\":\"p1187\",\"attributes\":{\"x\":{\"type\":\"field\",\"field\":\"occupations\"},\"width\":{\"type\":\"value\",\"value\":0.8},\"bottom\":{\"type\":\"expr\",\"expr\":{\"id\":\"p1166\"}},\"top\":{\"type\":\"expr\",\"expr\":{\"id\":\"p1167\"}},\"line_color\":{\"type\":\"value\",\"value\":\"coral\"},\"line_alpha\":{\"type\":\"value\",\"value\":0.1},\"fill_color\":{\"type\":\"value\",\"value\":\"coral\"},\"fill_alpha\":{\"type\":\"value\",\"value\":0.1},\"hatch_color\":{\"type\":\"value\",\"value\":\"coral\"},\"hatch_alpha\":{\"type\":\"value\",\"value\":0.1}}},\"muted_glyph\":{\"type\":\"object\",\"name\":\"VBar\",\"id\":\"p1188\",\"attributes\":{\"x\":{\"type\":\"field\",\"field\":\"occupations\"},\"width\":{\"type\":\"value\",\"value\":0.8},\"bottom\":{\"type\":\"expr\",\"expr\":{\"id\":\"p1166\"}},\"top\":{\"type\":\"expr\",\"expr\":{\"id\":\"p1167\"}},\"line_color\":{\"type\":\"value\",\"value\":\"coral\"},\"line_alpha\":{\"type\":\"value\",\"value\":0.2},\"fill_color\":{\"type\":\"value\",\"value\":\"coral\"},\"fill_alpha\":{\"type\":\"value\",\"value\":0.2},\"hatch_color\":{\"type\":\"value\",\"value\":\"coral\"},\"hatch_alpha\":{\"type\":\"value\",\"value\":0.2}}}}}],\"toolbar\":{\"type\":\"object\",\"name\":\"Toolbar\",\"id\":\"p1118\",\"attributes\":{\"tools\":[{\"type\":\"object\",\"name\":\"HoverTool\",\"id\":\"p1132\",\"attributes\":{\"renderers\":\"auto\",\"tooltips\":\"($name) @occupations: @$name\"}}]}},\"toolbar_location\":null,\"left\":[{\"type\":\"object\",\"name\":\"LinearAxis\",\"id\":\"p1127\",\"attributes\":{\"ticker\":{\"type\":\"object\",\"name\":\"BasicTicker\",\"id\":\"p1128\",\"attributes\":{\"mantissas\":[1,2,5]}},\"formatter\":{\"type\":\"object\",\"name\":\"BasicTickFormatter\",\"id\":\"p1129\"},\"major_label_policy\":{\"type\":\"object\",\"name\":\"AllLabels\",\"id\":\"p1130\"}}}],\"below\":[{\"type\":\"object\",\"name\":\"CategoricalAxis\",\"id\":\"p1122\",\"attributes\":{\"ticker\":{\"type\":\"object\",\"name\":\"CategoricalTicker\",\"id\":\"p1123\"},\"formatter\":{\"type\":\"object\",\"name\":\"CategoricalTickFormatter\",\"id\":\"p1124\"},\"major_label_policy\":{\"type\":\"object\",\"name\":\"AllLabels\",\"id\":\"p1125\"}}}],\"center\":[{\"type\":\"object\",\"name\":\"Grid\",\"id\":\"p1126\",\"attributes\":{\"axis\":{\"id\":\"p1122\"}}},{\"type\":\"object\",\"name\":\"Grid\",\"id\":\"p1131\",\"attributes\":{\"dimension\":1,\"axis\":{\"id\":\"p1127\"}}},{\"type\":\"object\",\"name\":\"Legend\",\"id\":\"p1149\",\"attributes\":{\"orientation\":\"horizontal\",\"items\":[{\"type\":\"object\",\"name\":\"LegendItem\",\"id\":\"p1150\",\"attributes\":{\"label\":{\"type\":\"value\",\"value\":\"Father\"},\"renderers\":[{\"id\":\"p1146\"},{\"id\":\"p1177\"}]}},{\"type\":\"object\",\"name\":\"LegendItem\",\"id\":\"p1163\",\"attributes\":{\"label\":{\"type\":\"value\",\"value\":\"Mother\"},\"renderers\":[{\"id\":\"p1160\"},{\"id\":\"p1189\"}]}}]}}]}}]}};\n  const render_items = [{\"docid\":\"88e2c298-8c23-4d20-b0b5-58b45a36e405\",\"roots\":{\"p1109\":\"f1d08fc6-0685-45da-8626-8fdbd644a742\"},\"root_ids\":[\"p1109\"]}];\n  root.Bokeh.embed.embed_items_notebook(docs_json, render_items);\n  }\n  if (root.Bokeh !== undefined) {\n    embed_document(root);\n  } else {\n    let attempts = 0;\n    const timer = setInterval(function(root) {\n      if (root.Bokeh !== undefined) {\n        clearInterval(timer);\n        embed_document(root);\n      } else {\n        attempts++;\n        if (attempts > 100) {\n          clearInterval(timer);\n          console.log(\"Bokeh: ERROR: Unable to run BokehJS code because BokehJS library is missing\");\n        }\n      }\n    }, 10, root)\n  }\n})(window);",
      "application/vnd.bokehjs_exec.v0+json": ""
     },
     "metadata": {
      "application/vnd.bokehjs_exec.v0+json": {
       "id": "p1109"
      }
     },
     "output_type": "display_data"
    }
   ],
   "source": [
    "# The legend orientation can be horizontal\n",
    "p_v.vbar_stack(parent, x='occupations', width=0.8, color=['steelblue','coral'], \n",
    "                source=datap, legend_label=parent)\n",
    "p_v.y_range.start = 0\n",
    "p_v.x_range.range_padding = 0.1\n",
    "p_v.legend.location = \"top_right\"\n",
    "p_v.legend.orientation = \"horizontal\"\n",
    "\n",
    "show(p_v)"
   ]
  },
  {
   "cell_type": "markdown",
   "metadata": {},
   "source": [
    "### Horizontal Stacked Bars"
   ]
  },
  {
   "cell_type": "code",
   "execution_count": 34,
   "metadata": {},
   "outputs": [],
   "source": [
    "p_h = figure(y_range=occupations, width=600, height=400 , title=\"Parents' Occupations\",\n",
    "           toolbar_location=None, tools=\"hover\", tooltips=\"($name) @occupations: @$name\")"
   ]
  },
  {
   "cell_type": "code",
   "execution_count": 35,
   "metadata": {},
   "outputs": [
    {
     "data": {
      "text/html": [
       "\n",
       "  <div id=\"cfb2e2e0-37a3-4bfd-990f-81aa9fba9408\" data-root-id=\"p1192\" style=\"display: contents;\"></div>\n"
      ]
     },
     "metadata": {},
     "output_type": "display_data"
    },
    {
     "data": {
      "application/javascript": "(function(root) {\n  function embed_document(root) {\n  const docs_json = {\"193ec8e4-99d3-4bf9-960a-7949f7125d19\":{\"version\":\"3.3.4\",\"title\":\"Bokeh Application\",\"roots\":[{\"type\":\"object\",\"name\":\"Figure\",\"id\":\"p1192\",\"attributes\":{\"height\":400,\"x_range\":{\"type\":\"object\",\"name\":\"DataRange1d\",\"id\":\"p1194\",\"attributes\":{\"start\":0}},\"y_range\":{\"type\":\"object\",\"name\":\"FactorRange\",\"id\":\"p1202\",\"attributes\":{\"factors\":[\"Business\",\"Farmer\",\"Others\",\"Retired\",\"Service\"],\"range_padding\":0.1}},\"x_scale\":{\"type\":\"object\",\"name\":\"LinearScale\",\"id\":\"p1203\"},\"y_scale\":{\"type\":\"object\",\"name\":\"CategoricalScale\",\"id\":\"p1204\"},\"title\":{\"type\":\"object\",\"name\":\"Title\",\"id\":\"p1195\",\"attributes\":{\"text\":\"Parents' Occupations\"}},\"renderers\":[{\"type\":\"object\",\"name\":\"GlyphRenderer\",\"id\":\"p1229\",\"attributes\":{\"name\":\"Father\",\"data_source\":{\"type\":\"object\",\"name\":\"ColumnDataSource\",\"id\":\"p1220\",\"attributes\":{\"selected\":{\"type\":\"object\",\"name\":\"Selection\",\"id\":\"p1221\",\"attributes\":{\"indices\":[],\"line_indices\":[]}},\"selection_policy\":{\"type\":\"object\",\"name\":\"UnionRenderers\",\"id\":\"p1222\"},\"data\":{\"type\":\"map\",\"entries\":[[\"occupations\",[\"Business\",\"Farmer\",\"Others\",\"Retired\",\"Service\"]],[\"Father\",[34,27,29,3,38]],[\"Mother\",[1,115,2,1,12]]]}}},\"view\":{\"type\":\"object\",\"name\":\"CDSView\",\"id\":\"p1230\",\"attributes\":{\"filter\":{\"type\":\"object\",\"name\":\"AllIndices\",\"id\":\"p1231\"}}},\"glyph\":{\"type\":\"object\",\"name\":\"HBar\",\"id\":\"p1226\",\"attributes\":{\"y\":{\"type\":\"field\",\"field\":\"occupations\"},\"height\":{\"type\":\"value\",\"value\":0.9},\"left\":{\"type\":\"expr\",\"expr\":{\"type\":\"object\",\"name\":\"Stack\",\"id\":\"p1216\",\"attributes\":{\"fields\":[]}}},\"right\":{\"type\":\"expr\",\"expr\":{\"type\":\"object\",\"name\":\"Stack\",\"id\":\"p1217\",\"attributes\":{\"fields\":[\"Father\"]}}},\"line_color\":{\"type\":\"value\",\"value\":\"skyblue\"},\"fill_color\":{\"type\":\"value\",\"value\":\"skyblue\"},\"hatch_color\":{\"type\":\"value\",\"value\":\"skyblue\"}}},\"nonselection_glyph\":{\"type\":\"object\",\"name\":\"HBar\",\"id\":\"p1227\",\"attributes\":{\"y\":{\"type\":\"field\",\"field\":\"occupations\"},\"height\":{\"type\":\"value\",\"value\":0.9},\"left\":{\"type\":\"expr\",\"expr\":{\"id\":\"p1216\"}},\"right\":{\"type\":\"expr\",\"expr\":{\"id\":\"p1217\"}},\"line_color\":{\"type\":\"value\",\"value\":\"skyblue\"},\"line_alpha\":{\"type\":\"value\",\"value\":0.1},\"fill_color\":{\"type\":\"value\",\"value\":\"skyblue\"},\"fill_alpha\":{\"type\":\"value\",\"value\":0.1},\"hatch_color\":{\"type\":\"value\",\"value\":\"skyblue\"},\"hatch_alpha\":{\"type\":\"value\",\"value\":0.1}}},\"muted_glyph\":{\"type\":\"object\",\"name\":\"HBar\",\"id\":\"p1228\",\"attributes\":{\"y\":{\"type\":\"field\",\"field\":\"occupations\"},\"height\":{\"type\":\"value\",\"value\":0.9},\"left\":{\"type\":\"expr\",\"expr\":{\"id\":\"p1216\"}},\"right\":{\"type\":\"expr\",\"expr\":{\"id\":\"p1217\"}},\"line_color\":{\"type\":\"value\",\"value\":\"skyblue\"},\"line_alpha\":{\"type\":\"value\",\"value\":0.2},\"fill_color\":{\"type\":\"value\",\"value\":\"skyblue\"},\"fill_alpha\":{\"type\":\"value\",\"value\":0.2},\"hatch_color\":{\"type\":\"value\",\"value\":\"skyblue\"},\"hatch_alpha\":{\"type\":\"value\",\"value\":0.2}}}}},{\"type\":\"object\",\"name\":\"GlyphRenderer\",\"id\":\"p1243\",\"attributes\":{\"name\":\"Mother\",\"data_source\":{\"type\":\"object\",\"name\":\"ColumnDataSource\",\"id\":\"p1234\",\"attributes\":{\"selected\":{\"type\":\"object\",\"name\":\"Selection\",\"id\":\"p1235\",\"attributes\":{\"indices\":[],\"line_indices\":[]}},\"selection_policy\":{\"type\":\"object\",\"name\":\"UnionRenderers\",\"id\":\"p1236\"},\"data\":{\"type\":\"map\",\"entries\":[[\"occupations\",[\"Business\",\"Farmer\",\"Others\",\"Retired\",\"Service\"]],[\"Father\",[34,27,29,3,38]],[\"Mother\",[1,115,2,1,12]]]}}},\"view\":{\"type\":\"object\",\"name\":\"CDSView\",\"id\":\"p1244\",\"attributes\":{\"filter\":{\"type\":\"object\",\"name\":\"AllIndices\",\"id\":\"p1245\"}}},\"glyph\":{\"type\":\"object\",\"name\":\"HBar\",\"id\":\"p1240\",\"attributes\":{\"y\":{\"type\":\"field\",\"field\":\"occupations\"},\"height\":{\"type\":\"value\",\"value\":0.9},\"left\":{\"type\":\"expr\",\"expr\":{\"type\":\"object\",\"name\":\"Stack\",\"id\":\"p1218\",\"attributes\":{\"fields\":[\"Father\"]}}},\"right\":{\"type\":\"expr\",\"expr\":{\"type\":\"object\",\"name\":\"Stack\",\"id\":\"p1219\",\"attributes\":{\"fields\":[\"Father\",\"Mother\"]}}},\"line_color\":{\"type\":\"value\",\"value\":\"salmon\"},\"fill_color\":{\"type\":\"value\",\"value\":\"salmon\"},\"hatch_color\":{\"type\":\"value\",\"value\":\"salmon\"}}},\"nonselection_glyph\":{\"type\":\"object\",\"name\":\"HBar\",\"id\":\"p1241\",\"attributes\":{\"y\":{\"type\":\"field\",\"field\":\"occupations\"},\"height\":{\"type\":\"value\",\"value\":0.9},\"left\":{\"type\":\"expr\",\"expr\":{\"id\":\"p1218\"}},\"right\":{\"type\":\"expr\",\"expr\":{\"id\":\"p1219\"}},\"line_color\":{\"type\":\"value\",\"value\":\"salmon\"},\"line_alpha\":{\"type\":\"value\",\"value\":0.1},\"fill_color\":{\"type\":\"value\",\"value\":\"salmon\"},\"fill_alpha\":{\"type\":\"value\",\"value\":0.1},\"hatch_color\":{\"type\":\"value\",\"value\":\"salmon\"},\"hatch_alpha\":{\"type\":\"value\",\"value\":0.1}}},\"muted_glyph\":{\"type\":\"object\",\"name\":\"HBar\",\"id\":\"p1242\",\"attributes\":{\"y\":{\"type\":\"field\",\"field\":\"occupations\"},\"height\":{\"type\":\"value\",\"value\":0.9},\"left\":{\"type\":\"expr\",\"expr\":{\"id\":\"p1218\"}},\"right\":{\"type\":\"expr\",\"expr\":{\"id\":\"p1219\"}},\"line_color\":{\"type\":\"value\",\"value\":\"salmon\"},\"line_alpha\":{\"type\":\"value\",\"value\":0.2},\"fill_color\":{\"type\":\"value\",\"value\":\"salmon\"},\"fill_alpha\":{\"type\":\"value\",\"value\":0.2},\"hatch_color\":{\"type\":\"value\",\"value\":\"salmon\"},\"hatch_alpha\":{\"type\":\"value\",\"value\":0.2}}}}}],\"toolbar\":{\"type\":\"object\",\"name\":\"Toolbar\",\"id\":\"p1201\",\"attributes\":{\"tools\":[{\"type\":\"object\",\"name\":\"HoverTool\",\"id\":\"p1215\",\"attributes\":{\"renderers\":\"auto\",\"tooltips\":\"($name) @occupations: @$name\"}}]}},\"toolbar_location\":null,\"left\":[{\"type\":\"object\",\"name\":\"CategoricalAxis\",\"id\":\"p1210\",\"attributes\":{\"ticker\":{\"type\":\"object\",\"name\":\"CategoricalTicker\",\"id\":\"p1211\"},\"formatter\":{\"type\":\"object\",\"name\":\"CategoricalTickFormatter\",\"id\":\"p1212\"},\"major_label_policy\":{\"type\":\"object\",\"name\":\"AllLabels\",\"id\":\"p1213\"}}}],\"below\":[{\"type\":\"object\",\"name\":\"LinearAxis\",\"id\":\"p1205\",\"attributes\":{\"ticker\":{\"type\":\"object\",\"name\":\"BasicTicker\",\"id\":\"p1206\",\"attributes\":{\"mantissas\":[1,2,5]}},\"formatter\":{\"type\":\"object\",\"name\":\"BasicTickFormatter\",\"id\":\"p1207\"},\"major_label_policy\":{\"type\":\"object\",\"name\":\"AllLabels\",\"id\":\"p1208\"}}}],\"center\":[{\"type\":\"object\",\"name\":\"Grid\",\"id\":\"p1209\",\"attributes\":{\"axis\":{\"id\":\"p1205\"}}},{\"type\":\"object\",\"name\":\"Grid\",\"id\":\"p1214\",\"attributes\":{\"dimension\":1,\"axis\":{\"id\":\"p1210\"}}},{\"type\":\"object\",\"name\":\"Legend\",\"id\":\"p1232\",\"attributes\":{\"items\":[{\"type\":\"object\",\"name\":\"LegendItem\",\"id\":\"p1233\",\"attributes\":{\"label\":{\"type\":\"value\",\"value\":\"Father\"},\"renderers\":[{\"id\":\"p1229\"}]}},{\"type\":\"object\",\"name\":\"LegendItem\",\"id\":\"p1246\",\"attributes\":{\"label\":{\"type\":\"value\",\"value\":\"Mother\"},\"renderers\":[{\"id\":\"p1243\"}]}}]}}]}}]}};\n  const render_items = [{\"docid\":\"193ec8e4-99d3-4bf9-960a-7949f7125d19\",\"roots\":{\"p1192\":\"cfb2e2e0-37a3-4bfd-990f-81aa9fba9408\"},\"root_ids\":[\"p1192\"]}];\n  root.Bokeh.embed.embed_items_notebook(docs_json, render_items);\n  }\n  if (root.Bokeh !== undefined) {\n    embed_document(root);\n  } else {\n    let attempts = 0;\n    const timer = setInterval(function(root) {\n      if (root.Bokeh !== undefined) {\n        clearInterval(timer);\n        embed_document(root);\n      } else {\n        attempts++;\n        if (attempts > 100) {\n          clearInterval(timer);\n          console.log(\"Bokeh: ERROR: Unable to run BokehJS code because BokehJS library is missing\");\n        }\n      }\n    }, 10, root)\n  }\n})(window);",
      "application/vnd.bokehjs_exec.v0+json": ""
     },
     "metadata": {
      "application/vnd.bokehjs_exec.v0+json": {
       "id": "p1192"
      }
     },
     "output_type": "display_data"
    }
   ],
   "source": [
    "p_h.hbar_stack(parent, y='occupations', height=0.9, color=['skyblue','salmon' ], \n",
    "        source=datap, legend_label=parent)\n",
    "p_h.x_range.start = 0\n",
    "p_h.y_range.range_padding = 0.1\n",
    "p_h.legend.location = \"top_right\"\n",
    "p_h.legend.orientation = \"vertical\"\n",
    "\n",
    "show(p_h)"
   ]
  },
  {
   "cell_type": "code",
   "execution_count": 36,
   "metadata": {},
   "outputs": [
    {
     "data": {
      "text/html": [
       "\n",
       "  <div id=\"e7ebf3e4-11a8-4f3a-bf3d-d1ad188a2289\" data-root-id=\"p1192\" style=\"display: contents;\"></div>\n"
      ]
     },
     "metadata": {},
     "output_type": "display_data"
    },
    {
     "data": {
      "application/javascript": "(function(root) {\n  function embed_document(root) {\n  const docs_json = {\"0b12f6e5-dc0f-458e-bcdd-ce237ccbe0ac\":{\"version\":\"3.3.4\",\"title\":\"Bokeh Application\",\"roots\":[{\"type\":\"object\",\"name\":\"Figure\",\"id\":\"p1192\",\"attributes\":{\"height\":400,\"x_range\":{\"type\":\"object\",\"name\":\"DataRange1d\",\"id\":\"p1194\",\"attributes\":{\"start\":0}},\"y_range\":{\"type\":\"object\",\"name\":\"FactorRange\",\"id\":\"p1202\",\"attributes\":{\"factors\":[\"Business\",\"Farmer\",\"Others\",\"Retired\",\"Service\"],\"range_padding\":0.1}},\"x_scale\":{\"type\":\"object\",\"name\":\"LinearScale\",\"id\":\"p1203\"},\"y_scale\":{\"type\":\"object\",\"name\":\"CategoricalScale\",\"id\":\"p1204\"},\"title\":{\"type\":\"object\",\"name\":\"Title\",\"id\":\"p1195\",\"attributes\":{\"text\":\"Parents' Occupations\"}},\"renderers\":[{\"type\":\"object\",\"name\":\"GlyphRenderer\",\"id\":\"p1229\",\"attributes\":{\"name\":\"Father\",\"data_source\":{\"type\":\"object\",\"name\":\"ColumnDataSource\",\"id\":\"p1220\",\"attributes\":{\"selected\":{\"type\":\"object\",\"name\":\"Selection\",\"id\":\"p1221\",\"attributes\":{\"indices\":[],\"line_indices\":[]}},\"selection_policy\":{\"type\":\"object\",\"name\":\"UnionRenderers\",\"id\":\"p1222\"},\"data\":{\"type\":\"map\",\"entries\":[[\"occupations\",[\"Business\",\"Farmer\",\"Others\",\"Retired\",\"Service\"]],[\"Father\",[34,27,29,3,38]],[\"Mother\",[1,115,2,1,12]]]}}},\"view\":{\"type\":\"object\",\"name\":\"CDSView\",\"id\":\"p1230\",\"attributes\":{\"filter\":{\"type\":\"object\",\"name\":\"AllIndices\",\"id\":\"p1231\"}}},\"glyph\":{\"type\":\"object\",\"name\":\"HBar\",\"id\":\"p1226\",\"attributes\":{\"y\":{\"type\":\"field\",\"field\":\"occupations\"},\"height\":{\"type\":\"value\",\"value\":0.9},\"left\":{\"type\":\"expr\",\"expr\":{\"type\":\"object\",\"name\":\"Stack\",\"id\":\"p1216\",\"attributes\":{\"fields\":[]}}},\"right\":{\"type\":\"expr\",\"expr\":{\"type\":\"object\",\"name\":\"Stack\",\"id\":\"p1217\",\"attributes\":{\"fields\":[\"Father\"]}}},\"line_color\":{\"type\":\"value\",\"value\":\"skyblue\"},\"fill_color\":{\"type\":\"value\",\"value\":\"skyblue\"},\"hatch_color\":{\"type\":\"value\",\"value\":\"skyblue\"}}},\"nonselection_glyph\":{\"type\":\"object\",\"name\":\"HBar\",\"id\":\"p1227\",\"attributes\":{\"y\":{\"type\":\"field\",\"field\":\"occupations\"},\"height\":{\"type\":\"value\",\"value\":0.9},\"left\":{\"type\":\"expr\",\"expr\":{\"id\":\"p1216\"}},\"right\":{\"type\":\"expr\",\"expr\":{\"id\":\"p1217\"}},\"line_color\":{\"type\":\"value\",\"value\":\"skyblue\"},\"line_alpha\":{\"type\":\"value\",\"value\":0.1},\"fill_color\":{\"type\":\"value\",\"value\":\"skyblue\"},\"fill_alpha\":{\"type\":\"value\",\"value\":0.1},\"hatch_color\":{\"type\":\"value\",\"value\":\"skyblue\"},\"hatch_alpha\":{\"type\":\"value\",\"value\":0.1}}},\"muted_glyph\":{\"type\":\"object\",\"name\":\"HBar\",\"id\":\"p1228\",\"attributes\":{\"y\":{\"type\":\"field\",\"field\":\"occupations\"},\"height\":{\"type\":\"value\",\"value\":0.9},\"left\":{\"type\":\"expr\",\"expr\":{\"id\":\"p1216\"}},\"right\":{\"type\":\"expr\",\"expr\":{\"id\":\"p1217\"}},\"line_color\":{\"type\":\"value\",\"value\":\"skyblue\"},\"line_alpha\":{\"type\":\"value\",\"value\":0.2},\"fill_color\":{\"type\":\"value\",\"value\":\"skyblue\"},\"fill_alpha\":{\"type\":\"value\",\"value\":0.2},\"hatch_color\":{\"type\":\"value\",\"value\":\"skyblue\"},\"hatch_alpha\":{\"type\":\"value\",\"value\":0.2}}}}},{\"type\":\"object\",\"name\":\"GlyphRenderer\",\"id\":\"p1243\",\"attributes\":{\"name\":\"Mother\",\"data_source\":{\"type\":\"object\",\"name\":\"ColumnDataSource\",\"id\":\"p1234\",\"attributes\":{\"selected\":{\"type\":\"object\",\"name\":\"Selection\",\"id\":\"p1235\",\"attributes\":{\"indices\":[],\"line_indices\":[]}},\"selection_policy\":{\"type\":\"object\",\"name\":\"UnionRenderers\",\"id\":\"p1236\"},\"data\":{\"type\":\"map\",\"entries\":[[\"occupations\",[\"Business\",\"Farmer\",\"Others\",\"Retired\",\"Service\"]],[\"Father\",[34,27,29,3,38]],[\"Mother\",[1,115,2,1,12]]]}}},\"view\":{\"type\":\"object\",\"name\":\"CDSView\",\"id\":\"p1244\",\"attributes\":{\"filter\":{\"type\":\"object\",\"name\":\"AllIndices\",\"id\":\"p1245\"}}},\"glyph\":{\"type\":\"object\",\"name\":\"HBar\",\"id\":\"p1240\",\"attributes\":{\"y\":{\"type\":\"field\",\"field\":\"occupations\"},\"height\":{\"type\":\"value\",\"value\":0.9},\"left\":{\"type\":\"expr\",\"expr\":{\"type\":\"object\",\"name\":\"Stack\",\"id\":\"p1218\",\"attributes\":{\"fields\":[\"Father\"]}}},\"right\":{\"type\":\"expr\",\"expr\":{\"type\":\"object\",\"name\":\"Stack\",\"id\":\"p1219\",\"attributes\":{\"fields\":[\"Father\",\"Mother\"]}}},\"line_color\":{\"type\":\"value\",\"value\":\"salmon\"},\"fill_color\":{\"type\":\"value\",\"value\":\"salmon\"},\"hatch_color\":{\"type\":\"value\",\"value\":\"salmon\"}}},\"nonselection_glyph\":{\"type\":\"object\",\"name\":\"HBar\",\"id\":\"p1241\",\"attributes\":{\"y\":{\"type\":\"field\",\"field\":\"occupations\"},\"height\":{\"type\":\"value\",\"value\":0.9},\"left\":{\"type\":\"expr\",\"expr\":{\"id\":\"p1218\"}},\"right\":{\"type\":\"expr\",\"expr\":{\"id\":\"p1219\"}},\"line_color\":{\"type\":\"value\",\"value\":\"salmon\"},\"line_alpha\":{\"type\":\"value\",\"value\":0.1},\"fill_color\":{\"type\":\"value\",\"value\":\"salmon\"},\"fill_alpha\":{\"type\":\"value\",\"value\":0.1},\"hatch_color\":{\"type\":\"value\",\"value\":\"salmon\"},\"hatch_alpha\":{\"type\":\"value\",\"value\":0.1}}},\"muted_glyph\":{\"type\":\"object\",\"name\":\"HBar\",\"id\":\"p1242\",\"attributes\":{\"y\":{\"type\":\"field\",\"field\":\"occupations\"},\"height\":{\"type\":\"value\",\"value\":0.9},\"left\":{\"type\":\"expr\",\"expr\":{\"id\":\"p1218\"}},\"right\":{\"type\":\"expr\",\"expr\":{\"id\":\"p1219\"}},\"line_color\":{\"type\":\"value\",\"value\":\"salmon\"},\"line_alpha\":{\"type\":\"value\",\"value\":0.2},\"fill_color\":{\"type\":\"value\",\"value\":\"salmon\"},\"fill_alpha\":{\"type\":\"value\",\"value\":0.2},\"hatch_color\":{\"type\":\"value\",\"value\":\"salmon\"},\"hatch_alpha\":{\"type\":\"value\",\"value\":0.2}}}}},{\"type\":\"object\",\"name\":\"GlyphRenderer\",\"id\":\"p1260\",\"attributes\":{\"name\":\"Father\",\"data_source\":{\"type\":\"object\",\"name\":\"ColumnDataSource\",\"id\":\"p1251\",\"attributes\":{\"selected\":{\"type\":\"object\",\"name\":\"Selection\",\"id\":\"p1252\",\"attributes\":{\"indices\":[],\"line_indices\":[]}},\"selection_policy\":{\"type\":\"object\",\"name\":\"UnionRenderers\",\"id\":\"p1253\"},\"data\":{\"type\":\"map\",\"entries\":[[\"occupations\",[\"Business\",\"Farmer\",\"Others\",\"Retired\",\"Service\"]],[\"Father\",[34,27,29,3,38]],[\"Mother\",[1,115,2,1,12]]]}}},\"view\":{\"type\":\"object\",\"name\":\"CDSView\",\"id\":\"p1261\",\"attributes\":{\"filter\":{\"type\":\"object\",\"name\":\"AllIndices\",\"id\":\"p1262\"}}},\"glyph\":{\"type\":\"object\",\"name\":\"HBar\",\"id\":\"p1257\",\"attributes\":{\"y\":{\"type\":\"field\",\"field\":\"occupations\"},\"height\":{\"type\":\"value\",\"value\":0.9},\"left\":{\"type\":\"expr\",\"expr\":{\"type\":\"object\",\"name\":\"Stack\",\"id\":\"p1247\",\"attributes\":{\"fields\":[]}}},\"right\":{\"type\":\"expr\",\"expr\":{\"type\":\"object\",\"name\":\"Stack\",\"id\":\"p1248\",\"attributes\":{\"fields\":[\"Father\"]}}},\"line_color\":{\"type\":\"value\",\"value\":\"steelblue\"},\"fill_color\":{\"type\":\"value\",\"value\":\"steelblue\"},\"hatch_color\":{\"type\":\"value\",\"value\":\"steelblue\"}}},\"nonselection_glyph\":{\"type\":\"object\",\"name\":\"HBar\",\"id\":\"p1258\",\"attributes\":{\"y\":{\"type\":\"field\",\"field\":\"occupations\"},\"height\":{\"type\":\"value\",\"value\":0.9},\"left\":{\"type\":\"expr\",\"expr\":{\"id\":\"p1247\"}},\"right\":{\"type\":\"expr\",\"expr\":{\"id\":\"p1248\"}},\"line_color\":{\"type\":\"value\",\"value\":\"steelblue\"},\"line_alpha\":{\"type\":\"value\",\"value\":0.1},\"fill_color\":{\"type\":\"value\",\"value\":\"steelblue\"},\"fill_alpha\":{\"type\":\"value\",\"value\":0.1},\"hatch_color\":{\"type\":\"value\",\"value\":\"steelblue\"},\"hatch_alpha\":{\"type\":\"value\",\"value\":0.1}}},\"muted_glyph\":{\"type\":\"object\",\"name\":\"HBar\",\"id\":\"p1259\",\"attributes\":{\"y\":{\"type\":\"field\",\"field\":\"occupations\"},\"height\":{\"type\":\"value\",\"value\":0.9},\"left\":{\"type\":\"expr\",\"expr\":{\"id\":\"p1247\"}},\"right\":{\"type\":\"expr\",\"expr\":{\"id\":\"p1248\"}},\"line_color\":{\"type\":\"value\",\"value\":\"steelblue\"},\"line_alpha\":{\"type\":\"value\",\"value\":0.2},\"fill_color\":{\"type\":\"value\",\"value\":\"steelblue\"},\"fill_alpha\":{\"type\":\"value\",\"value\":0.2},\"hatch_color\":{\"type\":\"value\",\"value\":\"steelblue\"},\"hatch_alpha\":{\"type\":\"value\",\"value\":0.2}}}}},{\"type\":\"object\",\"name\":\"GlyphRenderer\",\"id\":\"p1272\",\"attributes\":{\"name\":\"Mother\",\"data_source\":{\"type\":\"object\",\"name\":\"ColumnDataSource\",\"id\":\"p1263\",\"attributes\":{\"selected\":{\"type\":\"object\",\"name\":\"Selection\",\"id\":\"p1264\",\"attributes\":{\"indices\":[],\"line_indices\":[]}},\"selection_policy\":{\"type\":\"object\",\"name\":\"UnionRenderers\",\"id\":\"p1265\"},\"data\":{\"type\":\"map\",\"entries\":[[\"occupations\",[\"Business\",\"Farmer\",\"Others\",\"Retired\",\"Service\"]],[\"Father\",[34,27,29,3,38]],[\"Mother\",[1,115,2,1,12]]]}}},\"view\":{\"type\":\"object\",\"name\":\"CDSView\",\"id\":\"p1273\",\"attributes\":{\"filter\":{\"type\":\"object\",\"name\":\"AllIndices\",\"id\":\"p1274\"}}},\"glyph\":{\"type\":\"object\",\"name\":\"HBar\",\"id\":\"p1269\",\"attributes\":{\"y\":{\"type\":\"field\",\"field\":\"occupations\"},\"height\":{\"type\":\"value\",\"value\":0.9},\"left\":{\"type\":\"expr\",\"expr\":{\"type\":\"object\",\"name\":\"Stack\",\"id\":\"p1249\",\"attributes\":{\"fields\":[\"Father\"]}}},\"right\":{\"type\":\"expr\",\"expr\":{\"type\":\"object\",\"name\":\"Stack\",\"id\":\"p1250\",\"attributes\":{\"fields\":[\"Father\",\"Mother\"]}}},\"line_color\":{\"type\":\"value\",\"value\":\"coral\"},\"fill_color\":{\"type\":\"value\",\"value\":\"coral\"},\"hatch_color\":{\"type\":\"value\",\"value\":\"coral\"}}},\"nonselection_glyph\":{\"type\":\"object\",\"name\":\"HBar\",\"id\":\"p1270\",\"attributes\":{\"y\":{\"type\":\"field\",\"field\":\"occupations\"},\"height\":{\"type\":\"value\",\"value\":0.9},\"left\":{\"type\":\"expr\",\"expr\":{\"id\":\"p1249\"}},\"right\":{\"type\":\"expr\",\"expr\":{\"id\":\"p1250\"}},\"line_color\":{\"type\":\"value\",\"value\":\"coral\"},\"line_alpha\":{\"type\":\"value\",\"value\":0.1},\"fill_color\":{\"type\":\"value\",\"value\":\"coral\"},\"fill_alpha\":{\"type\":\"value\",\"value\":0.1},\"hatch_color\":{\"type\":\"value\",\"value\":\"coral\"},\"hatch_alpha\":{\"type\":\"value\",\"value\":0.1}}},\"muted_glyph\":{\"type\":\"object\",\"name\":\"HBar\",\"id\":\"p1271\",\"attributes\":{\"y\":{\"type\":\"field\",\"field\":\"occupations\"},\"height\":{\"type\":\"value\",\"value\":0.9},\"left\":{\"type\":\"expr\",\"expr\":{\"id\":\"p1249\"}},\"right\":{\"type\":\"expr\",\"expr\":{\"id\":\"p1250\"}},\"line_color\":{\"type\":\"value\",\"value\":\"coral\"},\"line_alpha\":{\"type\":\"value\",\"value\":0.2},\"fill_color\":{\"type\":\"value\",\"value\":\"coral\"},\"fill_alpha\":{\"type\":\"value\",\"value\":0.2},\"hatch_color\":{\"type\":\"value\",\"value\":\"coral\"},\"hatch_alpha\":{\"type\":\"value\",\"value\":0.2}}}}}],\"toolbar\":{\"type\":\"object\",\"name\":\"Toolbar\",\"id\":\"p1201\",\"attributes\":{\"tools\":[{\"type\":\"object\",\"name\":\"HoverTool\",\"id\":\"p1215\",\"attributes\":{\"renderers\":\"auto\",\"tooltips\":\"($name) @occupations: @$name\"}}]}},\"toolbar_location\":null,\"left\":[{\"type\":\"object\",\"name\":\"CategoricalAxis\",\"id\":\"p1210\",\"attributes\":{\"ticker\":{\"type\":\"object\",\"name\":\"CategoricalTicker\",\"id\":\"p1211\"},\"formatter\":{\"type\":\"object\",\"name\":\"CategoricalTickFormatter\",\"id\":\"p1212\"},\"major_label_policy\":{\"type\":\"object\",\"name\":\"AllLabels\",\"id\":\"p1213\"}}}],\"below\":[{\"type\":\"object\",\"name\":\"LinearAxis\",\"id\":\"p1205\",\"attributes\":{\"ticker\":{\"type\":\"object\",\"name\":\"BasicTicker\",\"id\":\"p1206\",\"attributes\":{\"mantissas\":[1,2,5]}},\"formatter\":{\"type\":\"object\",\"name\":\"BasicTickFormatter\",\"id\":\"p1207\"},\"major_label_policy\":{\"type\":\"object\",\"name\":\"AllLabels\",\"id\":\"p1208\"}}}],\"center\":[{\"type\":\"object\",\"name\":\"Grid\",\"id\":\"p1209\",\"attributes\":{\"axis\":{\"id\":\"p1205\"}}},{\"type\":\"object\",\"name\":\"Grid\",\"id\":\"p1214\",\"attributes\":{\"dimension\":1,\"axis\":{\"id\":\"p1210\"}}},{\"type\":\"object\",\"name\":\"Legend\",\"id\":\"p1232\",\"attributes\":{\"location\":\"center\",\"orientation\":\"horizontal\",\"items\":[{\"type\":\"object\",\"name\":\"LegendItem\",\"id\":\"p1233\",\"attributes\":{\"label\":{\"type\":\"value\",\"value\":\"Father\"},\"renderers\":[{\"id\":\"p1229\"},{\"id\":\"p1260\"}]}},{\"type\":\"object\",\"name\":\"LegendItem\",\"id\":\"p1246\",\"attributes\":{\"label\":{\"type\":\"value\",\"value\":\"Mother\"},\"renderers\":[{\"id\":\"p1243\"},{\"id\":\"p1272\"}]}}]}}]}}]}};\n  const render_items = [{\"docid\":\"0b12f6e5-dc0f-458e-bcdd-ce237ccbe0ac\",\"roots\":{\"p1192\":\"e7ebf3e4-11a8-4f3a-bf3d-d1ad188a2289\"},\"root_ids\":[\"p1192\"]}];\n  root.Bokeh.embed.embed_items_notebook(docs_json, render_items);\n  }\n  if (root.Bokeh !== undefined) {\n    embed_document(root);\n  } else {\n    let attempts = 0;\n    const timer = setInterval(function(root) {\n      if (root.Bokeh !== undefined) {\n        clearInterval(timer);\n        embed_document(root);\n      } else {\n        attempts++;\n        if (attempts > 100) {\n          clearInterval(timer);\n          console.log(\"Bokeh: ERROR: Unable to run BokehJS code because BokehJS library is missing\");\n        }\n      }\n    }, 10, root)\n  }\n})(window);",
      "application/vnd.bokehjs_exec.v0+json": ""
     },
     "metadata": {
      "application/vnd.bokehjs_exec.v0+json": {
       "id": "p1192"
      }
     },
     "output_type": "display_data"
    }
   ],
   "source": [
    "# The legend orientation can be horizontal. Let's locate it at the center of the graph.\n",
    "p_h.hbar_stack(parent, y='occupations', height=0.9, color=['steelblue','coral' ], \n",
    "        source=datap, legend_label=parent)\n",
    "p_h.x_range.start = 0\n",
    "p_h.y_range.range_padding = 0.1\n",
    "p_h.legend.location = \"center\"\n",
    "p_h.legend.orientation = \"horizontal\"\n",
    "\n",
    "show(p_h)"
   ]
  },
  {
   "cell_type": "markdown",
   "metadata": {},
   "source": [
    "### Grouping"
   ]
  },
  {
   "cell_type": "code",
   "execution_count": 37,
   "metadata": {},
   "outputs": [],
   "source": [
    "from bokeh.models import FactorRange\n",
    "from bokeh.transform import factor_cmap"
   ]
  },
  {
   "cell_type": "code",
   "execution_count": 38,
   "metadata": {},
   "outputs": [
    {
     "data": {
      "text/plain": [
       "[('Business', 'Father'),\n",
       " ('Business', 'Mother'),\n",
       " ('Farmer', 'Father'),\n",
       " ('Farmer', 'Mother'),\n",
       " ('Others', 'Father'),\n",
       " ('Others', 'Mother'),\n",
       " ('Retired', 'Father'),\n",
       " ('Retired', 'Mother'),\n",
       " ('Service', 'Father'),\n",
       " ('Service', 'Mother')]"
      ]
     },
     "execution_count": 38,
     "metadata": {},
     "output_type": "execute_result"
    }
   ],
   "source": [
    "# this creates [ (\"Business\", \"Father\"), (\"Business\", \"Mother\"), (\"Farmer\", \"Father\"), ...]\n",
    "X_val = [ (occ, par) for occ in occupations for par in parent ]\n",
    "X_val"
   ]
  },
  {
   "cell_type": "code",
   "execution_count": 39,
   "metadata": {},
   "outputs": [
    {
     "data": {
      "text/plain": [
       "(34, 1, 27, 115, 29, 2, 3, 1, 38, 12)"
      ]
     },
     "execution_count": 39,
     "metadata": {},
     "output_type": "execute_result"
    }
   ],
   "source": [
    "counts = sum(zip(datap['Father'], datap['Mother']), ()) \n",
    "counts"
   ]
  },
  {
   "cell_type": "code",
   "execution_count": 40,
   "metadata": {},
   "outputs": [],
   "source": [
    "sourceg = ColumnDataSource(data=dict(x=X_val, counts=counts))"
   ]
  },
  {
   "cell_type": "code",
   "execution_count": 41,
   "metadata": {},
   "outputs": [],
   "source": [
    "pg = figure(x_range=FactorRange(*X_val), width=700, height=350, title=\"Parents' Occupations\",\n",
    "            toolbar_location=None, tools=\"hover\", tooltips=\"@counts\")"
   ]
  },
  {
   "cell_type": "code",
   "execution_count": 42,
   "metadata": {},
   "outputs": [
    {
     "data": {
      "text/html": [
       "\n",
       "  <div id=\"afb0cb9a-aa67-470d-807a-9e63b7eabaf3\" data-root-id=\"p1279\" style=\"display: contents;\"></div>\n"
      ]
     },
     "metadata": {},
     "output_type": "display_data"
    },
    {
     "data": {
      "application/javascript": "(function(root) {\n  function embed_document(root) {\n  const docs_json = {\"2dcfb979-ace2-46bb-b4c6-b42a8f80773b\":{\"version\":\"3.3.4\",\"title\":\"Bokeh Application\",\"roots\":[{\"type\":\"object\",\"name\":\"Figure\",\"id\":\"p1279\",\"attributes\":{\"width\":700,\"height\":350,\"x_range\":{\"type\":\"object\",\"name\":\"FactorRange\",\"id\":\"p1278\",\"attributes\":{\"factors\":[[\"Business\",\"Father\"],[\"Business\",\"Mother\"],[\"Farmer\",\"Father\"],[\"Farmer\",\"Mother\"],[\"Others\",\"Father\"],[\"Others\",\"Mother\"],[\"Retired\",\"Father\"],[\"Retired\",\"Mother\"],[\"Service\",\"Father\"],[\"Service\",\"Mother\"]],\"range_padding\":0.1}},\"y_range\":{\"type\":\"object\",\"name\":\"DataRange1d\",\"id\":\"p1281\",\"attributes\":{\"start\":0}},\"x_scale\":{\"type\":\"object\",\"name\":\"CategoricalScale\",\"id\":\"p1289\"},\"y_scale\":{\"type\":\"object\",\"name\":\"LinearScale\",\"id\":\"p1290\"},\"title\":{\"type\":\"object\",\"name\":\"Title\",\"id\":\"p1282\",\"attributes\":{\"text\":\"Parents' Occupations\"}},\"renderers\":[{\"type\":\"object\",\"name\":\"GlyphRenderer\",\"id\":\"p1309\",\"attributes\":{\"data_source\":{\"type\":\"object\",\"name\":\"ColumnDataSource\",\"id\":\"p1275\",\"attributes\":{\"selected\":{\"type\":\"object\",\"name\":\"Selection\",\"id\":\"p1276\",\"attributes\":{\"indices\":[],\"line_indices\":[]}},\"selection_policy\":{\"type\":\"object\",\"name\":\"UnionRenderers\",\"id\":\"p1277\"},\"data\":{\"type\":\"map\",\"entries\":[[\"x\",[[\"Business\",\"Father\"],[\"Business\",\"Mother\"],[\"Farmer\",\"Father\"],[\"Farmer\",\"Mother\"],[\"Others\",\"Father\"],[\"Others\",\"Mother\"],[\"Retired\",\"Father\"],[\"Retired\",\"Mother\"],[\"Service\",\"Father\"],[\"Service\",\"Mother\"]]],[\"counts\",[34,1,27,115,29,2,3,1,38,12]]]}}},\"view\":{\"type\":\"object\",\"name\":\"CDSView\",\"id\":\"p1310\",\"attributes\":{\"filter\":{\"type\":\"object\",\"name\":\"AllIndices\",\"id\":\"p1311\"}}},\"glyph\":{\"type\":\"object\",\"name\":\"VBar\",\"id\":\"p1306\",\"attributes\":{\"x\":{\"type\":\"field\",\"field\":\"x\"},\"width\":{\"type\":\"value\",\"value\":0.9},\"top\":{\"type\":\"field\",\"field\":\"counts\"},\"line_color\":{\"type\":\"value\",\"value\":\"white\"},\"fill_color\":{\"type\":\"field\",\"field\":\"x\",\"transform\":{\"type\":\"object\",\"name\":\"CategoricalColorMapper\",\"id\":\"p1302\",\"attributes\":{\"palette\":[\"silver\",\"pink\"],\"factors\":[\"Father\",\"Mother\"],\"start\":1,\"end\":2}}}}},\"nonselection_glyph\":{\"type\":\"object\",\"name\":\"VBar\",\"id\":\"p1307\",\"attributes\":{\"x\":{\"type\":\"field\",\"field\":\"x\"},\"width\":{\"type\":\"value\",\"value\":0.9},\"top\":{\"type\":\"field\",\"field\":\"counts\"},\"line_color\":{\"type\":\"value\",\"value\":\"white\"},\"line_alpha\":{\"type\":\"value\",\"value\":0.1},\"fill_color\":{\"type\":\"field\",\"field\":\"x\",\"transform\":{\"id\":\"p1302\"}},\"fill_alpha\":{\"type\":\"value\",\"value\":0.1},\"hatch_alpha\":{\"type\":\"value\",\"value\":0.1}}},\"muted_glyph\":{\"type\":\"object\",\"name\":\"VBar\",\"id\":\"p1308\",\"attributes\":{\"x\":{\"type\":\"field\",\"field\":\"x\"},\"width\":{\"type\":\"value\",\"value\":0.9},\"top\":{\"type\":\"field\",\"field\":\"counts\"},\"line_color\":{\"type\":\"value\",\"value\":\"white\"},\"line_alpha\":{\"type\":\"value\",\"value\":0.2},\"fill_color\":{\"type\":\"field\",\"field\":\"x\",\"transform\":{\"id\":\"p1302\"}},\"fill_alpha\":{\"type\":\"value\",\"value\":0.2},\"hatch_alpha\":{\"type\":\"value\",\"value\":0.2}}}}}],\"toolbar\":{\"type\":\"object\",\"name\":\"Toolbar\",\"id\":\"p1288\",\"attributes\":{\"tools\":[{\"type\":\"object\",\"name\":\"HoverTool\",\"id\":\"p1301\",\"attributes\":{\"renderers\":\"auto\",\"tooltips\":\"@counts\"}}]}},\"toolbar_location\":null,\"left\":[{\"type\":\"object\",\"name\":\"LinearAxis\",\"id\":\"p1296\",\"attributes\":{\"ticker\":{\"type\":\"object\",\"name\":\"BasicTicker\",\"id\":\"p1297\",\"attributes\":{\"mantissas\":[1,2,5]}},\"formatter\":{\"type\":\"object\",\"name\":\"BasicTickFormatter\",\"id\":\"p1298\"},\"major_label_policy\":{\"type\":\"object\",\"name\":\"AllLabels\",\"id\":\"p1299\"}}}],\"below\":[{\"type\":\"object\",\"name\":\"CategoricalAxis\",\"id\":\"p1291\",\"attributes\":{\"ticker\":{\"type\":\"object\",\"name\":\"CategoricalTicker\",\"id\":\"p1292\"},\"formatter\":{\"type\":\"object\",\"name\":\"CategoricalTickFormatter\",\"id\":\"p1293\"},\"major_label_orientation\":1,\"major_label_policy\":{\"type\":\"object\",\"name\":\"AllLabels\",\"id\":\"p1294\"}}}],\"center\":[{\"type\":\"object\",\"name\":\"Grid\",\"id\":\"p1295\",\"attributes\":{\"axis\":{\"id\":\"p1291\"},\"grid_line_color\":null}},{\"type\":\"object\",\"name\":\"Grid\",\"id\":\"p1300\",\"attributes\":{\"dimension\":1,\"axis\":{\"id\":\"p1296\"}}}]}}]}};\n  const render_items = [{\"docid\":\"2dcfb979-ace2-46bb-b4c6-b42a8f80773b\",\"roots\":{\"p1279\":\"afb0cb9a-aa67-470d-807a-9e63b7eabaf3\"},\"root_ids\":[\"p1279\"]}];\n  root.Bokeh.embed.embed_items_notebook(docs_json, render_items);\n  }\n  if (root.Bokeh !== undefined) {\n    embed_document(root);\n  } else {\n    let attempts = 0;\n    const timer = setInterval(function(root) {\n      if (root.Bokeh !== undefined) {\n        clearInterval(timer);\n        embed_document(root);\n      } else {\n        attempts++;\n        if (attempts > 100) {\n          clearInterval(timer);\n          console.log(\"Bokeh: ERROR: Unable to run BokehJS code because BokehJS library is missing\");\n        }\n      }\n    }, 10, root)\n  }\n})(window);",
      "application/vnd.bokehjs_exec.v0+json": ""
     },
     "metadata": {
      "application/vnd.bokehjs_exec.v0+json": {
       "id": "p1279"
      }
     },
     "output_type": "display_data"
    }
   ],
   "source": [
    "pg.vbar(x='x', top='counts', width=0.9, source=sourceg, line_color=\"white\",\n",
    "       fill_color=factor_cmap('x', palette=['silver','pink'], \n",
    "       factors=parent, start=1, end=2))\n",
    "pg.y_range.start = 0\n",
    "pg.x_range.range_padding = 0.1\n",
    "pg.xaxis.major_label_orientation = 1\n",
    "pg.xgrid.grid_line_color = None\n",
    "\n",
    "show(pg)"
   ]
  },
  {
   "cell_type": "markdown",
   "metadata": {},
   "source": [
    "## References"
   ]
  },
  {
   "cell_type": "markdown",
   "metadata": {},
   "source": [
    "- Hussain S, Dahan N.A, Ba-Alwi F.M, Ribata N. Educational Data Mining and Analysis of Studentsâ€™ Academic Performance Using WEKA. Indonesian Journal of Electrical Engineering and Computer Science. 2018; Vol. 9, No. 2. February. pp. 447~459\n",
    "- https://docs.bokeh.org/en/latest/"
   ]
  }
 ],
 "metadata": {
  "interpreter": {
   "hash": "f6ce50080babb3e2c9dded3d344b1d82a47cf5d6f13f4c2ab5a2113adb8feaef"
  },
  "kernelspec": {
   "display_name": "Python 3.10.5 64-bit (windows store)",
   "language": "python",
   "name": "python3"
  },
  "language_info": {
   "codemirror_mode": {
    "name": "ipython",
    "version": 3
   },
   "file_extension": ".py",
   "mimetype": "text/x-python",
   "name": "python",
   "nbconvert_exporter": "python",
   "pygments_lexer": "ipython3",
   "version": "3.11.0"
  },
  "orig_nbformat": 4
 },
 "nbformat": 4,
 "nbformat_minor": 2
}
