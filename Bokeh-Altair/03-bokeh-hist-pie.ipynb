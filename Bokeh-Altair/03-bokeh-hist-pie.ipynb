{
 "cells": [
  {
   "cell_type": "markdown",
   "metadata": {},
   "source": [
    "# Histograms with Bokeh"
   ]
  },
  {
   "cell_type": "code",
   "execution_count": 1,
   "metadata": {},
   "outputs": [
    {
     "data": {
      "text/html": [
       "\n",
       "    <div class=\"bk-root\">\n",
       "        <a href=\"https://bokeh.org\" target=\"_blank\" class=\"bk-logo bk-logo-small bk-logo-notebook\"></a>\n",
       "        <span id=\"1002\">Loading BokehJS ...</span>\n",
       "    </div>"
      ]
     },
     "metadata": {},
     "output_type": "display_data"
    },
    {
     "data": {
      "application/javascript": "\n(function(root) {\n  function now() {\n    return new Date();\n  }\n\n  const force = true;\n\n  if (typeof root._bokeh_onload_callbacks === \"undefined\" || force === true) {\n    root._bokeh_onload_callbacks = [];\n    root._bokeh_is_loading = undefined;\n  }\n\n  const JS_MIME_TYPE = 'application/javascript';\n  const HTML_MIME_TYPE = 'text/html';\n  const EXEC_MIME_TYPE = 'application/vnd.bokehjs_exec.v0+json';\n  const CLASS_NAME = 'output_bokeh rendered_html';\n\n  /**\n   * Render data to the DOM node\n   */\n  function render(props, node) {\n    const script = document.createElement(\"script\");\n    node.appendChild(script);\n  }\n\n  /**\n   * Handle when an output is cleared or removed\n   */\n  function handleClearOutput(event, handle) {\n    const cell = handle.cell;\n\n    const id = cell.output_area._bokeh_element_id;\n    const server_id = cell.output_area._bokeh_server_id;\n    // Clean up Bokeh references\n    if (id != null && id in Bokeh.index) {\n      Bokeh.index[id].model.document.clear();\n      delete Bokeh.index[id];\n    }\n\n    if (server_id !== undefined) {\n      // Clean up Bokeh references\n      const cmd_clean = \"from bokeh.io.state import curstate; print(curstate().uuid_to_server['\" + server_id + \"'].get_sessions()[0].document.roots[0]._id)\";\n      cell.notebook.kernel.execute(cmd_clean, {\n        iopub: {\n          output: function(msg) {\n            const id = msg.content.text.trim();\n            if (id in Bokeh.index) {\n              Bokeh.index[id].model.document.clear();\n              delete Bokeh.index[id];\n            }\n          }\n        }\n      });\n      // Destroy server and session\n      const cmd_destroy = \"import bokeh.io.notebook as ion; ion.destroy_server('\" + server_id + \"')\";\n      cell.notebook.kernel.execute(cmd_destroy);\n    }\n  }\n\n  /**\n   * Handle when a new output is added\n   */\n  function handleAddOutput(event, handle) {\n    const output_area = handle.output_area;\n    const output = handle.output;\n\n    // limit handleAddOutput to display_data with EXEC_MIME_TYPE content only\n    if ((output.output_type != \"display_data\") || (!Object.prototype.hasOwnProperty.call(output.data, EXEC_MIME_TYPE))) {\n      return\n    }\n\n    const toinsert = output_area.element.find(\".\" + CLASS_NAME.split(' ')[0]);\n\n    if (output.metadata[EXEC_MIME_TYPE][\"id\"] !== undefined) {\n      toinsert[toinsert.length - 1].firstChild.textContent = output.data[JS_MIME_TYPE];\n      // store reference to embed id on output_area\n      output_area._bokeh_element_id = output.metadata[EXEC_MIME_TYPE][\"id\"];\n    }\n    if (output.metadata[EXEC_MIME_TYPE][\"server_id\"] !== undefined) {\n      const bk_div = document.createElement(\"div\");\n      bk_div.innerHTML = output.data[HTML_MIME_TYPE];\n      const script_attrs = bk_div.children[0].attributes;\n      for (let i = 0; i < script_attrs.length; i++) {\n        toinsert[toinsert.length - 1].firstChild.setAttribute(script_attrs[i].name, script_attrs[i].value);\n        toinsert[toinsert.length - 1].firstChild.textContent = bk_div.children[0].textContent\n      }\n      // store reference to server id on output_area\n      output_area._bokeh_server_id = output.metadata[EXEC_MIME_TYPE][\"server_id\"];\n    }\n  }\n\n  function register_renderer(events, OutputArea) {\n\n    function append_mime(data, metadata, element) {\n      // create a DOM node to render to\n      const toinsert = this.create_output_subarea(\n        metadata,\n        CLASS_NAME,\n        EXEC_MIME_TYPE\n      );\n      this.keyboard_manager.register_events(toinsert);\n      // Render to node\n      const props = {data: data, metadata: metadata[EXEC_MIME_TYPE]};\n      render(props, toinsert[toinsert.length - 1]);\n      element.append(toinsert);\n      return toinsert\n    }\n\n    /* Handle when an output is cleared or removed */\n    events.on('clear_output.CodeCell', handleClearOutput);\n    events.on('delete.Cell', handleClearOutput);\n\n    /* Handle when a new output is added */\n    events.on('output_added.OutputArea', handleAddOutput);\n\n    /**\n     * Register the mime type and append_mime function with output_area\n     */\n    OutputArea.prototype.register_mime_type(EXEC_MIME_TYPE, append_mime, {\n      /* Is output safe? */\n      safe: true,\n      /* Index of renderer in `output_area.display_order` */\n      index: 0\n    });\n  }\n\n  // register the mime type if in Jupyter Notebook environment and previously unregistered\n  if (root.Jupyter !== undefined) {\n    const events = require('base/js/events');\n    const OutputArea = require('notebook/js/outputarea').OutputArea;\n\n    if (OutputArea.prototype.mime_types().indexOf(EXEC_MIME_TYPE) == -1) {\n      register_renderer(events, OutputArea);\n    }\n  }\n\n  \n  if (typeof (root._bokeh_timeout) === \"undefined\" || force === true) {\n    root._bokeh_timeout = Date.now() + 5000;\n    root._bokeh_failed_load = false;\n  }\n\n  const NB_LOAD_WARNING = {'data': {'text/html':\n     \"<div style='background-color: #fdd'>\\n\"+\n     \"<p>\\n\"+\n     \"BokehJS does not appear to have successfully loaded. If loading BokehJS from CDN, this \\n\"+\n     \"may be due to a slow or bad network connection. Possible fixes:\\n\"+\n     \"</p>\\n\"+\n     \"<ul>\\n\"+\n     \"<li>re-rerun `output_notebook()` to attempt to load from CDN again, or</li>\\n\"+\n     \"<li>use INLINE resources instead, as so:</li>\\n\"+\n     \"</ul>\\n\"+\n     \"<code>\\n\"+\n     \"from bokeh.resources import INLINE\\n\"+\n     \"output_notebook(resources=INLINE)\\n\"+\n     \"</code>\\n\"+\n     \"</div>\"}};\n\n  function display_loaded() {\n    const el = document.getElementById(\"1002\");\n    if (el != null) {\n      el.textContent = \"BokehJS is loading...\";\n    }\n    if (root.Bokeh !== undefined) {\n      if (el != null) {\n        el.textContent = \"BokehJS \" + root.Bokeh.version + \" successfully loaded.\";\n      }\n    } else if (Date.now() < root._bokeh_timeout) {\n      setTimeout(display_loaded, 100)\n    }\n  }\n\n\n  function run_callbacks() {\n    try {\n      root._bokeh_onload_callbacks.forEach(function(callback) {\n        if (callback != null)\n          callback();\n      });\n    } finally {\n      delete root._bokeh_onload_callbacks\n    }\n    console.debug(\"Bokeh: all callbacks have finished\");\n  }\n\n  function load_libs(css_urls, js_urls, callback) {\n    if (css_urls == null) css_urls = [];\n    if (js_urls == null) js_urls = [];\n\n    root._bokeh_onload_callbacks.push(callback);\n    if (root._bokeh_is_loading > 0) {\n      console.debug(\"Bokeh: BokehJS is being loaded, scheduling callback at\", now());\n      return null;\n    }\n    if (js_urls == null || js_urls.length === 0) {\n      run_callbacks();\n      return null;\n    }\n    console.debug(\"Bokeh: BokehJS not loaded, scheduling load and callback at\", now());\n    root._bokeh_is_loading = css_urls.length + js_urls.length;\n\n    function on_load() {\n      root._bokeh_is_loading--;\n      if (root._bokeh_is_loading === 0) {\n        console.debug(\"Bokeh: all BokehJS libraries/stylesheets loaded\");\n        run_callbacks()\n      }\n    }\n\n    function on_error(url) {\n      console.error(\"failed to load \" + url);\n    }\n\n    for (let i = 0; i < css_urls.length; i++) {\n      const url = css_urls[i];\n      const element = document.createElement(\"link\");\n      element.onload = on_load;\n      element.onerror = on_error.bind(null, url);\n      element.rel = \"stylesheet\";\n      element.type = \"text/css\";\n      element.href = url;\n      console.debug(\"Bokeh: injecting link tag for BokehJS stylesheet: \", url);\n      document.body.appendChild(element);\n    }\n\n    for (let i = 0; i < js_urls.length; i++) {\n      const url = js_urls[i];\n      const element = document.createElement('script');\n      element.onload = on_load;\n      element.onerror = on_error.bind(null, url);\n      element.async = false;\n      element.src = url;\n      console.debug(\"Bokeh: injecting script tag for BokehJS library: \", url);\n      document.head.appendChild(element);\n    }\n  };\n\n  function inject_raw_css(css) {\n    const element = document.createElement(\"style\");\n    element.appendChild(document.createTextNode(css));\n    document.body.appendChild(element);\n  }\n\n  \n  const js_urls = [\"https://cdn.bokeh.org/bokeh/release/bokeh-2.4.2.min.js\", \"https://cdn.bokeh.org/bokeh/release/bokeh-gl-2.4.2.min.js\", \"https://cdn.bokeh.org/bokeh/release/bokeh-widgets-2.4.2.min.js\", \"https://cdn.bokeh.org/bokeh/release/bokeh-tables-2.4.2.min.js\", \"https://cdn.bokeh.org/bokeh/release/bokeh-mathjax-2.4.2.min.js\"];\n  const css_urls = [];\n  \n\n  const inline_js = [\n    function(Bokeh) {\n      Bokeh.set_log_level(\"info\");\n    },\n    function(Bokeh) {\n    \n    \n    }\n  ];\n\n  function run_inline_js() {\n    \n    if (root.Bokeh !== undefined || force === true) {\n      \n    for (let i = 0; i < inline_js.length; i++) {\n      inline_js[i].call(root, root.Bokeh);\n    }\n    if (force === true) {\n        display_loaded();\n      }} else if (Date.now() < root._bokeh_timeout) {\n      setTimeout(run_inline_js, 100);\n    } else if (!root._bokeh_failed_load) {\n      console.log(\"Bokeh: BokehJS failed to load within specified timeout.\");\n      root._bokeh_failed_load = true;\n    } else if (force !== true) {\n      const cell = $(document.getElementById(\"1002\")).parents('.cell').data().cell;\n      cell.output_area.append_execute_result(NB_LOAD_WARNING)\n    }\n\n  }\n\n  if (root._bokeh_is_loading === 0) {\n    console.debug(\"Bokeh: BokehJS loaded, going straight to plotting\");\n    run_inline_js();\n  } else {\n    load_libs(css_urls, js_urls, function() {\n      console.debug(\"Bokeh: BokehJS plotting callback run at\", now());\n      run_inline_js();\n    });\n  }\n}(window));",
      "application/vnd.bokehjs_load.v0+json": ""
     },
     "metadata": {},
     "output_type": "display_data"
    }
   ],
   "source": [
    "import numpy as np\n",
    "import pandas as pd\n",
    "pd.set_option('display.max_columns', 10)\n",
    "from bokeh.io import show, output_notebook\n",
    "from bokeh.plotting import figure\n",
    "from bokeh.palettes import Bokeh\n",
    "output_notebook()"
   ]
  },
  {
   "cell_type": "markdown",
   "metadata": {},
   "source": [
    "## Automobile Dataset"
   ]
  },
  {
   "cell_type": "markdown",
   "metadata": {},
   "source": [
    "We will use the Automobile Data Set [https://archive.ics.uci.edu/ml/datasets/automobile] from the UCI Machine Learning Repository [https://archive-beta.ics.uci.edu/]. It includes categorical and continuous variables. \n",
    "\n",
    "Defining the headers"
   ]
  },
  {
   "cell_type": "code",
   "execution_count": 2,
   "metadata": {},
   "outputs": [
    {
     "data": {
      "text/html": [
       "<div>\n",
       "<style scoped>\n",
       "    .dataframe tbody tr th:only-of-type {\n",
       "        vertical-align: middle;\n",
       "    }\n",
       "\n",
       "    .dataframe tbody tr th {\n",
       "        vertical-align: top;\n",
       "    }\n",
       "\n",
       "    .dataframe thead th {\n",
       "        text-align: right;\n",
       "    }\n",
       "</style>\n",
       "<table border=\"1\" class=\"dataframe\">\n",
       "  <thead>\n",
       "    <tr style=\"text-align: right;\">\n",
       "      <th></th>\n",
       "      <th>symboling</th>\n",
       "      <th>normalized_losses</th>\n",
       "      <th>make</th>\n",
       "      <th>fuel_type</th>\n",
       "      <th>aspiration</th>\n",
       "      <th>...</th>\n",
       "      <th>horsepower</th>\n",
       "      <th>peak_rpm</th>\n",
       "      <th>city_mpg</th>\n",
       "      <th>highway_mpg</th>\n",
       "      <th>price</th>\n",
       "    </tr>\n",
       "  </thead>\n",
       "  <tbody>\n",
       "    <tr>\n",
       "      <th>0</th>\n",
       "      <td>3</td>\n",
       "      <td>NaN</td>\n",
       "      <td>alfa-romero</td>\n",
       "      <td>gas</td>\n",
       "      <td>std</td>\n",
       "      <td>...</td>\n",
       "      <td>111.0</td>\n",
       "      <td>5000.0</td>\n",
       "      <td>21</td>\n",
       "      <td>27</td>\n",
       "      <td>13495.0</td>\n",
       "    </tr>\n",
       "    <tr>\n",
       "      <th>1</th>\n",
       "      <td>3</td>\n",
       "      <td>NaN</td>\n",
       "      <td>alfa-romero</td>\n",
       "      <td>gas</td>\n",
       "      <td>std</td>\n",
       "      <td>...</td>\n",
       "      <td>111.0</td>\n",
       "      <td>5000.0</td>\n",
       "      <td>21</td>\n",
       "      <td>27</td>\n",
       "      <td>16500.0</td>\n",
       "    </tr>\n",
       "    <tr>\n",
       "      <th>2</th>\n",
       "      <td>1</td>\n",
       "      <td>NaN</td>\n",
       "      <td>alfa-romero</td>\n",
       "      <td>gas</td>\n",
       "      <td>std</td>\n",
       "      <td>...</td>\n",
       "      <td>154.0</td>\n",
       "      <td>5000.0</td>\n",
       "      <td>19</td>\n",
       "      <td>26</td>\n",
       "      <td>16500.0</td>\n",
       "    </tr>\n",
       "    <tr>\n",
       "      <th>3</th>\n",
       "      <td>2</td>\n",
       "      <td>164.0</td>\n",
       "      <td>audi</td>\n",
       "      <td>gas</td>\n",
       "      <td>std</td>\n",
       "      <td>...</td>\n",
       "      <td>102.0</td>\n",
       "      <td>5500.0</td>\n",
       "      <td>24</td>\n",
       "      <td>30</td>\n",
       "      <td>13950.0</td>\n",
       "    </tr>\n",
       "    <tr>\n",
       "      <th>4</th>\n",
       "      <td>2</td>\n",
       "      <td>164.0</td>\n",
       "      <td>audi</td>\n",
       "      <td>gas</td>\n",
       "      <td>std</td>\n",
       "      <td>...</td>\n",
       "      <td>115.0</td>\n",
       "      <td>5500.0</td>\n",
       "      <td>18</td>\n",
       "      <td>22</td>\n",
       "      <td>17450.0</td>\n",
       "    </tr>\n",
       "  </tbody>\n",
       "</table>\n",
       "<p>5 rows × 26 columns</p>\n",
       "</div>"
      ],
      "text/plain": [
       "   symboling  normalized_losses         make fuel_type aspiration  ...  \\\n",
       "0          3                NaN  alfa-romero       gas        std  ...   \n",
       "1          3                NaN  alfa-romero       gas        std  ...   \n",
       "2          1                NaN  alfa-romero       gas        std  ...   \n",
       "3          2              164.0         audi       gas        std  ...   \n",
       "4          2              164.0         audi       gas        std  ...   \n",
       "\n",
       "  horsepower peak_rpm city_mpg highway_mpg    price  \n",
       "0      111.0   5000.0       21          27  13495.0  \n",
       "1      111.0   5000.0       21          27  16500.0  \n",
       "2      154.0   5000.0       19          26  16500.0  \n",
       "3      102.0   5500.0       24          30  13950.0  \n",
       "4      115.0   5500.0       18          22  17450.0  \n",
       "\n",
       "[5 rows x 26 columns]"
      ]
     },
     "execution_count": 2,
     "metadata": {},
     "output_type": "execute_result"
    }
   ],
   "source": [
    "headers = [\"symboling\", \"normalized_losses\", \"make\", \"fuel_type\", \"aspiration\", \"num_doors\", \n",
    "            \"body_style\", \"drive_wheels\", \"engine_location\", \"wheel_base\", \"length\", \"width\", \"height\", \n",
    "            \"curb_weight\", \"engine_type\", \"num_cylinders\", \"engine_size\", \"fuel_system\", \"bore\", \"stroke\", \n",
    "            \"compression_ratio\", \"horsepower\", \"peak_rpm\", \"city_mpg\", \"highway_mpg\", \"price\"]\n",
    "df = pd.read_csv(\"https://archive.ics.uci.edu/ml/machine-learning-databases/autos/imports-85.data\",\n",
    "                  header=None, names=headers, na_values=\"?\" )\n",
    "df.head()"
   ]
  },
  {
   "cell_type": "markdown",
   "metadata": {},
   "source": [
    "## Histograms"
   ]
  },
  {
   "cell_type": "markdown",
   "metadata": {},
   "source": [
    "One of the most common graphs for displaying frequency distributions is a histogram. Bokeh does not have a built-in histogram glyph, but we can make our own using the quad glyph, which allows us to specify each bar's bottom, top, left, and right edges.\n",
    "\n",
    "Let's work with three variables: `length`, `width`, and `height`."
   ]
  },
  {
   "cell_type": "code",
   "execution_count": 3,
   "metadata": {},
   "outputs": [],
   "source": [
    "arr, edges = np.histogram(df.length, bins = 10, \n",
    "                        range = [df.length.min(), df.length.max()])"
   ]
  },
  {
   "cell_type": "code",
   "execution_count": 4,
   "metadata": {},
   "outputs": [
    {
     "name": "stdout",
     "output_type": "stream",
     "text": [
      "Freq:  10\n",
      "Edges: 11\n"
     ]
    }
   ],
   "source": [
    "print('Freq: ',len(arr))\n",
    "print('Edges:',len(edges))"
   ]
  },
  {
   "cell_type": "markdown",
   "metadata": {},
   "source": [
    "Create the blank plot"
   ]
  },
  {
   "cell_type": "code",
   "execution_count": 5,
   "metadata": {},
   "outputs": [],
   "source": [
    "# Create the blank plot\n",
    "h = figure(plot_height = 400, plot_width = 600, \n",
    "        title = 'Histogram of Car length')"
   ]
  },
  {
   "cell_type": "markdown",
   "metadata": {},
   "source": [
    "Adding a quad glyph and showing the plot"
   ]
  },
  {
   "cell_type": "code",
   "execution_count": 6,
   "metadata": {},
   "outputs": [
    {
     "data": {
      "text/html": [
       "\n",
       "\n",
       "\n",
       "\n",
       "\n",
       "\n",
       "  <div class=\"bk-root\" id=\"924a4255-2154-4eea-b5a0-e119c47fc7b5\" data-root-id=\"1003\"></div>\n"
      ]
     },
     "metadata": {},
     "output_type": "display_data"
    },
    {
     "data": {
      "application/javascript": "(function(root) {\n  function embed_document(root) {\n    \n  const docs_json = {\"8a9edbdd-36fd-4e9c-809b-412361134380\":{\"defs\":[],\"roots\":{\"references\":[{\"attributes\":{\"below\":[{\"id\":\"1014\"}],\"center\":[{\"id\":\"1017\"},{\"id\":\"1021\"}],\"height\":400,\"left\":[{\"id\":\"1018\"}],\"renderers\":[{\"id\":\"1040\"}],\"title\":{\"id\":\"1004\"},\"toolbar\":{\"id\":\"1029\"},\"x_range\":{\"id\":\"1006\"},\"x_scale\":{\"id\":\"1010\"},\"y_range\":{\"id\":\"1008\"},\"y_scale\":{\"id\":\"1012\"}},\"id\":\"1003\",\"subtype\":\"Figure\",\"type\":\"Plot\"},{\"attributes\":{},\"id\":\"1006\",\"type\":\"DataRange1d\"},{\"attributes\":{},\"id\":\"1027\",\"type\":\"HelpTool\"},{\"attributes\":{\"axis\":{\"id\":\"1018\"},\"coordinates\":null,\"dimension\":1,\"group\":null,\"ticker\":null},\"id\":\"1021\",\"type\":\"Grid\"},{\"attributes\":{\"coordinates\":null,\"group\":null,\"text\":\"Histogram of Car length\"},\"id\":\"1004\",\"type\":\"Title\"},{\"attributes\":{},\"id\":\"1025\",\"type\":\"SaveTool\"},{\"attributes\":{},\"id\":\"1049\",\"type\":\"UnionRenderers\"},{\"attributes\":{},\"id\":\"1019\",\"type\":\"BasicTicker\"},{\"attributes\":{},\"id\":\"1050\",\"type\":\"Selection\"},{\"attributes\":{},\"id\":\"1023\",\"type\":\"WheelZoomTool\"},{\"attributes\":{\"coordinates\":null,\"formatter\":{\"id\":\"1047\"},\"group\":null,\"major_label_policy\":{\"id\":\"1048\"},\"ticker\":{\"id\":\"1015\"}},\"id\":\"1014\",\"type\":\"LinearAxis\"},{\"attributes\":{\"source\":{\"id\":\"1036\"}},\"id\":\"1041\",\"type\":\"CDSView\"},{\"attributes\":{\"bottom\":{\"value\":0},\"fill_alpha\":{\"value\":0.2},\"fill_color\":{\"value\":\"salmon\"},\"hatch_alpha\":{\"value\":0.2},\"left\":{\"field\":\"left\"},\"line_alpha\":{\"value\":0.2},\"line_color\":{\"value\":\"white\"},\"right\":{\"field\":\"right\"},\"top\":{\"field\":\"top\"}},\"id\":\"1039\",\"type\":\"Quad\"},{\"attributes\":{\"bottom\":{\"value\":0},\"fill_alpha\":{\"value\":0.1},\"fill_color\":{\"value\":\"salmon\"},\"hatch_alpha\":{\"value\":0.1},\"left\":{\"field\":\"left\"},\"line_alpha\":{\"value\":0.1},\"line_color\":{\"value\":\"white\"},\"right\":{\"field\":\"right\"},\"top\":{\"field\":\"top\"}},\"id\":\"1038\",\"type\":\"Quad\"},{\"attributes\":{},\"id\":\"1012\",\"type\":\"LinearScale\"},{\"attributes\":{\"coordinates\":null,\"data_source\":{\"id\":\"1036\"},\"glyph\":{\"id\":\"1037\"},\"group\":null,\"hover_glyph\":null,\"muted_glyph\":{\"id\":\"1039\"},\"nonselection_glyph\":{\"id\":\"1038\"},\"view\":{\"id\":\"1041\"}},\"id\":\"1040\",\"type\":\"GlyphRenderer\"},{\"attributes\":{\"data\":{\"left\":{\"__ndarray__\":\"MzMzMzOjYUCZmZmZmXliQAAAAAAAUGNAZmZmZmYmZEDNzMzMzPxkQDMzMzMz02VAmpmZmZmpZkAAAAAAAIBnQGZmZmZmVmhAzczMzMwsaUA=\",\"dtype\":\"float64\",\"order\":\"little\",\"shape\":[10]},\"right\":{\"__ndarray__\":\"mZmZmZl5YkAAAAAAAFBjQGZmZmZmJmRAzczMzMz8ZEAzMzMzM9NlQJqZmZmZqWZAAAAAAACAZ0BmZmZmZlZoQM3MzMzMLGlAMzMzMzMDakA=\",\"dtype\":\"float64\",\"order\":\"little\",\"shape\":[10]},\"top\":[3,3,29,23,54,39,23,20,8,3]},\"selected\":{\"id\":\"1050\"},\"selection_policy\":{\"id\":\"1049\"}},\"id\":\"1036\",\"type\":\"ColumnDataSource\"},{\"attributes\":{},\"id\":\"1022\",\"type\":\"PanTool\"},{\"attributes\":{\"overlay\":{\"id\":\"1028\"}},\"id\":\"1024\",\"type\":\"BoxZoomTool\"},{\"attributes\":{\"axis\":{\"id\":\"1014\"},\"coordinates\":null,\"group\":null,\"ticker\":null},\"id\":\"1017\",\"type\":\"Grid\"},{\"attributes\":{},\"id\":\"1008\",\"type\":\"DataRange1d\"},{\"attributes\":{},\"id\":\"1044\",\"type\":\"BasicTickFormatter\"},{\"attributes\":{},\"id\":\"1015\",\"type\":\"BasicTicker\"},{\"attributes\":{},\"id\":\"1045\",\"type\":\"AllLabels\"},{\"attributes\":{\"bottom\":{\"value\":0},\"fill_color\":{\"value\":\"salmon\"},\"left\":{\"field\":\"left\"},\"line_color\":{\"value\":\"white\"},\"right\":{\"field\":\"right\"},\"top\":{\"field\":\"top\"}},\"id\":\"1037\",\"type\":\"Quad\"},{\"attributes\":{},\"id\":\"1010\",\"type\":\"LinearScale\"},{\"attributes\":{},\"id\":\"1047\",\"type\":\"BasicTickFormatter\"},{\"attributes\":{\"coordinates\":null,\"formatter\":{\"id\":\"1044\"},\"group\":null,\"major_label_policy\":{\"id\":\"1045\"},\"ticker\":{\"id\":\"1019\"}},\"id\":\"1018\",\"type\":\"LinearAxis\"},{\"attributes\":{},\"id\":\"1026\",\"type\":\"ResetTool\"},{\"attributes\":{},\"id\":\"1048\",\"type\":\"AllLabels\"},{\"attributes\":{\"bottom_units\":\"screen\",\"coordinates\":null,\"fill_alpha\":0.5,\"fill_color\":\"lightgrey\",\"group\":null,\"left_units\":\"screen\",\"level\":\"overlay\",\"line_alpha\":1.0,\"line_color\":\"black\",\"line_dash\":[4,4],\"line_width\":2,\"right_units\":\"screen\",\"syncable\":false,\"top_units\":\"screen\"},\"id\":\"1028\",\"type\":\"BoxAnnotation\"},{\"attributes\":{\"tools\":[{\"id\":\"1022\"},{\"id\":\"1023\"},{\"id\":\"1024\"},{\"id\":\"1025\"},{\"id\":\"1026\"},{\"id\":\"1027\"}]},\"id\":\"1029\",\"type\":\"Toolbar\"}],\"root_ids\":[\"1003\"]},\"title\":\"Bokeh Application\",\"version\":\"2.4.2\"}};\n  const render_items = [{\"docid\":\"8a9edbdd-36fd-4e9c-809b-412361134380\",\"root_ids\":[\"1003\"],\"roots\":{\"1003\":\"924a4255-2154-4eea-b5a0-e119c47fc7b5\"}}];\n  root.Bokeh.embed.embed_items_notebook(docs_json, render_items);\n\n  }\n  if (root.Bokeh !== undefined) {\n    embed_document(root);\n  } else {\n    let attempts = 0;\n    const timer = setInterval(function(root) {\n      if (root.Bokeh !== undefined) {\n        clearInterval(timer);\n        embed_document(root);\n      } else {\n        attempts++;\n        if (attempts > 100) {\n          clearInterval(timer);\n          console.log(\"Bokeh: ERROR: Unable to run BokehJS code because BokehJS library is missing\");\n        }\n      }\n    }, 10, root)\n  }\n})(window);",
      "application/vnd.bokehjs_exec.v0+json": ""
     },
     "metadata": {
      "application/vnd.bokehjs_exec.v0+json": {
       "id": "1003"
      }
     },
     "output_type": "display_data"
    }
   ],
   "source": [
    "h.quad(bottom=0, top=arr, left=edges[:-1], right=edges[1:], \n",
    "       fill_color='salmon', line_color='white')\n",
    "show(h)       "
   ]
  },
  {
   "cell_type": "markdown",
   "metadata": {},
   "source": [
    "Show the plot"
   ]
  },
  {
   "cell_type": "markdown",
   "metadata": {},
   "source": [
    "Let's create a function `create_hist`"
   ]
  },
  {
   "cell_type": "code",
   "execution_count": 7,
   "metadata": {},
   "outputs": [],
   "source": [
    "def create_hist(variabl, bins=10):\n",
    "    '''\n",
    "    Plot an histogram with Bokeh\n",
    "    variabl: variable to plot\n",
    "    bins: number of bins\n",
    "    '''\n",
    "    arr, edges = np.histogram(variabl, bins = bins, \n",
    "                        range = [np.min(variabl), np.max(variabl)])\n",
    "    h = figure(plot_height = 400, plot_width = 600, \n",
    "        title = 'Histogram')                    \n",
    "    h.quad(bottom=0, top=arr, left=edges[:-1], right=edges[1:], \n",
    "       fill_color='salmon', line_color='white')\n",
    "    show(h)   "
   ]
  },
  {
   "cell_type": "markdown",
   "metadata": {},
   "source": [
    "### Car length"
   ]
  },
  {
   "cell_type": "code",
   "execution_count": 8,
   "metadata": {},
   "outputs": [
    {
     "data": {
      "text/html": [
       "\n",
       "\n",
       "\n",
       "\n",
       "\n",
       "\n",
       "  <div class=\"bk-root\" id=\"dd33eb9f-cc09-449c-b2fc-9b7babb237aa\" data-root-id=\"1102\"></div>\n"
      ]
     },
     "metadata": {},
     "output_type": "display_data"
    },
    {
     "data": {
      "application/javascript": "(function(root) {\n  function embed_document(root) {\n    \n  const docs_json = {\"6759b529-dbb5-4650-97ef-ae750184d628\":{\"defs\":[],\"roots\":{\"references\":[{\"attributes\":{\"below\":[{\"id\":\"1113\"}],\"center\":[{\"id\":\"1116\"},{\"id\":\"1120\"}],\"height\":400,\"left\":[{\"id\":\"1117\"}],\"renderers\":[{\"id\":\"1139\"}],\"title\":{\"id\":\"1103\"},\"toolbar\":{\"id\":\"1128\"},\"x_range\":{\"id\":\"1105\"},\"x_scale\":{\"id\":\"1109\"},\"y_range\":{\"id\":\"1107\"},\"y_scale\":{\"id\":\"1111\"}},\"id\":\"1102\",\"subtype\":\"Figure\",\"type\":\"Plot\"},{\"attributes\":{},\"id\":\"1153\",\"type\":\"BasicTickFormatter\"},{\"attributes\":{\"bottom_units\":\"screen\",\"coordinates\":null,\"fill_alpha\":0.5,\"fill_color\":\"lightgrey\",\"group\":null,\"left_units\":\"screen\",\"level\":\"overlay\",\"line_alpha\":1.0,\"line_color\":\"black\",\"line_dash\":[4,4],\"line_width\":2,\"right_units\":\"screen\",\"syncable\":false,\"top_units\":\"screen\"},\"id\":\"1127\",\"type\":\"BoxAnnotation\"},{\"attributes\":{\"tools\":[{\"id\":\"1121\"},{\"id\":\"1122\"},{\"id\":\"1123\"},{\"id\":\"1124\"},{\"id\":\"1125\"},{\"id\":\"1126\"}]},\"id\":\"1128\",\"type\":\"Toolbar\"},{\"attributes\":{\"data\":{\"left\":{\"__ndarray__\":\"MzMzMzOjYUCZmZmZmXliQAAAAAAAUGNAZmZmZmYmZEDNzMzMzPxkQDMzMzMz02VAmpmZmZmpZkAAAAAAAIBnQGZmZmZmVmhAzczMzMwsaUA=\",\"dtype\":\"float64\",\"order\":\"little\",\"shape\":[10]},\"right\":{\"__ndarray__\":\"mZmZmZl5YkAAAAAAAFBjQGZmZmZmJmRAzczMzMz8ZEAzMzMzM9NlQJqZmZmZqWZAAAAAAACAZ0BmZmZmZlZoQM3MzMzMLGlAMzMzMzMDakA=\",\"dtype\":\"float64\",\"order\":\"little\",\"shape\":[10]},\"top\":[3,3,29,23,54,39,23,20,8,3]},\"selected\":{\"id\":\"1159\"},\"selection_policy\":{\"id\":\"1158\"}},\"id\":\"1135\",\"type\":\"ColumnDataSource\"},{\"attributes\":{\"source\":{\"id\":\"1135\"}},\"id\":\"1140\",\"type\":\"CDSView\"},{\"attributes\":{\"bottom\":{\"value\":0},\"fill_alpha\":{\"value\":0.2},\"fill_color\":{\"value\":\"salmon\"},\"hatch_alpha\":{\"value\":0.2},\"left\":{\"field\":\"left\"},\"line_alpha\":{\"value\":0.2},\"line_color\":{\"value\":\"white\"},\"right\":{\"field\":\"right\"},\"top\":{\"field\":\"top\"}},\"id\":\"1138\",\"type\":\"Quad\"},{\"attributes\":{\"coordinates\":null,\"group\":null,\"text\":\"Histogram\"},\"id\":\"1103\",\"type\":\"Title\"},{\"attributes\":{},\"id\":\"1122\",\"type\":\"WheelZoomTool\"},{\"attributes\":{},\"id\":\"1121\",\"type\":\"PanTool\"},{\"attributes\":{},\"id\":\"1124\",\"type\":\"SaveTool\"},{\"attributes\":{\"coordinates\":null,\"formatter\":{\"id\":\"1156\"},\"group\":null,\"major_label_policy\":{\"id\":\"1157\"},\"ticker\":{\"id\":\"1114\"}},\"id\":\"1113\",\"type\":\"LinearAxis\"},{\"attributes\":{},\"id\":\"1156\",\"type\":\"BasicTickFormatter\"},{\"attributes\":{},\"id\":\"1111\",\"type\":\"LinearScale\"},{\"attributes\":{},\"id\":\"1118\",\"type\":\"BasicTicker\"},{\"attributes\":{},\"id\":\"1159\",\"type\":\"Selection\"},{\"attributes\":{\"bottom\":{\"value\":0},\"fill_alpha\":{\"value\":0.1},\"fill_color\":{\"value\":\"salmon\"},\"hatch_alpha\":{\"value\":0.1},\"left\":{\"field\":\"left\"},\"line_alpha\":{\"value\":0.1},\"line_color\":{\"value\":\"white\"},\"right\":{\"field\":\"right\"},\"top\":{\"field\":\"top\"}},\"id\":\"1137\",\"type\":\"Quad\"},{\"attributes\":{},\"id\":\"1105\",\"type\":\"DataRange1d\"},{\"attributes\":{\"axis\":{\"id\":\"1117\"},\"coordinates\":null,\"dimension\":1,\"group\":null,\"ticker\":null},\"id\":\"1120\",\"type\":\"Grid\"},{\"attributes\":{},\"id\":\"1157\",\"type\":\"AllLabels\"},{\"attributes\":{},\"id\":\"1107\",\"type\":\"DataRange1d\"},{\"attributes\":{\"coordinates\":null,\"formatter\":{\"id\":\"1153\"},\"group\":null,\"major_label_policy\":{\"id\":\"1154\"},\"ticker\":{\"id\":\"1118\"}},\"id\":\"1117\",\"type\":\"LinearAxis\"},{\"attributes\":{\"bottom\":{\"value\":0},\"fill_color\":{\"value\":\"salmon\"},\"left\":{\"field\":\"left\"},\"line_color\":{\"value\":\"white\"},\"right\":{\"field\":\"right\"},\"top\":{\"field\":\"top\"}},\"id\":\"1136\",\"type\":\"Quad\"},{\"attributes\":{\"overlay\":{\"id\":\"1127\"}},\"id\":\"1123\",\"type\":\"BoxZoomTool\"},{\"attributes\":{},\"id\":\"1109\",\"type\":\"LinearScale\"},{\"attributes\":{},\"id\":\"1126\",\"type\":\"HelpTool\"},{\"attributes\":{\"axis\":{\"id\":\"1113\"},\"coordinates\":null,\"group\":null,\"ticker\":null},\"id\":\"1116\",\"type\":\"Grid\"},{\"attributes\":{\"coordinates\":null,\"data_source\":{\"id\":\"1135\"},\"glyph\":{\"id\":\"1136\"},\"group\":null,\"hover_glyph\":null,\"muted_glyph\":{\"id\":\"1138\"},\"nonselection_glyph\":{\"id\":\"1137\"},\"view\":{\"id\":\"1140\"}},\"id\":\"1139\",\"type\":\"GlyphRenderer\"},{\"attributes\":{},\"id\":\"1125\",\"type\":\"ResetTool\"},{\"attributes\":{},\"id\":\"1158\",\"type\":\"UnionRenderers\"},{\"attributes\":{},\"id\":\"1154\",\"type\":\"AllLabels\"},{\"attributes\":{},\"id\":\"1114\",\"type\":\"BasicTicker\"}],\"root_ids\":[\"1102\"]},\"title\":\"Bokeh Application\",\"version\":\"2.4.2\"}};\n  const render_items = [{\"docid\":\"6759b529-dbb5-4650-97ef-ae750184d628\",\"root_ids\":[\"1102\"],\"roots\":{\"1102\":\"dd33eb9f-cc09-449c-b2fc-9b7babb237aa\"}}];\n  root.Bokeh.embed.embed_items_notebook(docs_json, render_items);\n\n  }\n  if (root.Bokeh !== undefined) {\n    embed_document(root);\n  } else {\n    let attempts = 0;\n    const timer = setInterval(function(root) {\n      if (root.Bokeh !== undefined) {\n        clearInterval(timer);\n        embed_document(root);\n      } else {\n        attempts++;\n        if (attempts > 100) {\n          clearInterval(timer);\n          console.log(\"Bokeh: ERROR: Unable to run BokehJS code because BokehJS library is missing\");\n        }\n      }\n    }, 10, root)\n  }\n})(window);",
      "application/vnd.bokehjs_exec.v0+json": ""
     },
     "metadata": {
      "application/vnd.bokehjs_exec.v0+json": {
       "id": "1102"
      }
     },
     "output_type": "display_data"
    }
   ],
   "source": [
    "create_hist(df.length,10)"
   ]
  },
  {
   "cell_type": "code",
   "execution_count": 9,
   "metadata": {},
   "outputs": [
    {
     "data": {
      "text/html": [
       "\n",
       "\n",
       "\n",
       "\n",
       "\n",
       "\n",
       "  <div class=\"bk-root\" id=\"2bf01de7-17a2-4e66-91fa-7a71cf3c6638\" data-root-id=\"1211\"></div>\n"
      ]
     },
     "metadata": {},
     "output_type": "display_data"
    },
    {
     "data": {
      "application/javascript": "(function(root) {\n  function embed_document(root) {\n    \n  const docs_json = {\"ca037d5a-250c-4dcf-8f5e-6400097fea7b\":{\"defs\":[],\"roots\":{\"references\":[{\"attributes\":{\"below\":[{\"id\":\"1222\"}],\"center\":[{\"id\":\"1225\"},{\"id\":\"1229\"}],\"height\":400,\"left\":[{\"id\":\"1226\"}],\"renderers\":[{\"id\":\"1248\"}],\"title\":{\"id\":\"1212\"},\"toolbar\":{\"id\":\"1237\"},\"x_range\":{\"id\":\"1214\"},\"x_scale\":{\"id\":\"1218\"},\"y_range\":{\"id\":\"1216\"},\"y_scale\":{\"id\":\"1220\"}},\"id\":\"1211\",\"subtype\":\"Figure\",\"type\":\"Plot\"},{\"attributes\":{\"bottom\":{\"value\":0},\"fill_color\":{\"value\":\"salmon\"},\"left\":{\"field\":\"left\"},\"line_color\":{\"value\":\"white\"},\"right\":{\"field\":\"right\"},\"top\":{\"field\":\"top\"}},\"id\":\"1245\",\"type\":\"Quad\"},{\"attributes\":{},\"id\":\"1227\",\"type\":\"BasicTicker\"},{\"attributes\":{\"axis\":{\"id\":\"1226\"},\"coordinates\":null,\"dimension\":1,\"group\":null,\"ticker\":null},\"id\":\"1229\",\"type\":\"Grid\"},{\"attributes\":{\"bottom\":{\"value\":0},\"fill_alpha\":{\"value\":0.2},\"fill_color\":{\"value\":\"salmon\"},\"hatch_alpha\":{\"value\":0.2},\"left\":{\"field\":\"left\"},\"line_alpha\":{\"value\":0.2},\"line_color\":{\"value\":\"white\"},\"right\":{\"field\":\"right\"},\"top\":{\"field\":\"top\"}},\"id\":\"1247\",\"type\":\"Quad\"},{\"attributes\":{\"axis\":{\"id\":\"1222\"},\"coordinates\":null,\"group\":null,\"ticker\":null},\"id\":\"1225\",\"type\":\"Grid\"},{\"attributes\":{\"data\":{\"left\":{\"__ndarray__\":\"MzMzMzOjYUAAAAAAAFBjQM3MzMzM/GRAmpmZmZmpZkBmZmZmZlZoQA==\",\"dtype\":\"float64\",\"order\":\"little\",\"shape\":[5]},\"right\":{\"__ndarray__\":\"AAAAAABQY0DNzMzMzPxkQJqZmZmZqWZAZmZmZmZWaEAzMzMzMwNqQA==\",\"dtype\":\"float64\",\"order\":\"little\",\"shape\":[5]},\"top\":[6,52,93,43,11]},\"selected\":{\"id\":\"1278\"},\"selection_policy\":{\"id\":\"1277\"}},\"id\":\"1244\",\"type\":\"ColumnDataSource\"},{\"attributes\":{},\"id\":\"1223\",\"type\":\"BasicTicker\"},{\"attributes\":{\"coordinates\":null,\"group\":null,\"text\":\"Histogram\"},\"id\":\"1212\",\"type\":\"Title\"},{\"attributes\":{\"bottom\":{\"value\":0},\"fill_alpha\":{\"value\":0.1},\"fill_color\":{\"value\":\"salmon\"},\"hatch_alpha\":{\"value\":0.1},\"left\":{\"field\":\"left\"},\"line_alpha\":{\"value\":0.1},\"line_color\":{\"value\":\"white\"},\"right\":{\"field\":\"right\"},\"top\":{\"field\":\"top\"}},\"id\":\"1246\",\"type\":\"Quad\"},{\"attributes\":{},\"id\":\"1272\",\"type\":\"BasicTickFormatter\"},{\"attributes\":{},\"id\":\"1214\",\"type\":\"DataRange1d\"},{\"attributes\":{},\"id\":\"1273\",\"type\":\"AllLabels\"},{\"attributes\":{},\"id\":\"1275\",\"type\":\"BasicTickFormatter\"},{\"attributes\":{},\"id\":\"1276\",\"type\":\"AllLabels\"},{\"attributes\":{},\"id\":\"1220\",\"type\":\"LinearScale\"},{\"attributes\":{\"coordinates\":null,\"data_source\":{\"id\":\"1244\"},\"glyph\":{\"id\":\"1245\"},\"group\":null,\"hover_glyph\":null,\"muted_glyph\":{\"id\":\"1247\"},\"nonselection_glyph\":{\"id\":\"1246\"},\"view\":{\"id\":\"1249\"}},\"id\":\"1248\",\"type\":\"GlyphRenderer\"},{\"attributes\":{\"coordinates\":null,\"formatter\":{\"id\":\"1272\"},\"group\":null,\"major_label_policy\":{\"id\":\"1273\"},\"ticker\":{\"id\":\"1227\"}},\"id\":\"1226\",\"type\":\"LinearAxis\"},{\"attributes\":{\"bottom_units\":\"screen\",\"coordinates\":null,\"fill_alpha\":0.5,\"fill_color\":\"lightgrey\",\"group\":null,\"left_units\":\"screen\",\"level\":\"overlay\",\"line_alpha\":1.0,\"line_color\":\"black\",\"line_dash\":[4,4],\"line_width\":2,\"right_units\":\"screen\",\"syncable\":false,\"top_units\":\"screen\"},\"id\":\"1236\",\"type\":\"BoxAnnotation\"},{\"attributes\":{\"source\":{\"id\":\"1244\"}},\"id\":\"1249\",\"type\":\"CDSView\"},{\"attributes\":{},\"id\":\"1277\",\"type\":\"UnionRenderers\"},{\"attributes\":{},\"id\":\"1278\",\"type\":\"Selection\"},{\"attributes\":{\"coordinates\":null,\"formatter\":{\"id\":\"1275\"},\"group\":null,\"major_label_policy\":{\"id\":\"1276\"},\"ticker\":{\"id\":\"1223\"}},\"id\":\"1222\",\"type\":\"LinearAxis\"},{\"attributes\":{},\"id\":\"1234\",\"type\":\"ResetTool\"},{\"attributes\":{},\"id\":\"1233\",\"type\":\"SaveTool\"},{\"attributes\":{\"overlay\":{\"id\":\"1236\"}},\"id\":\"1232\",\"type\":\"BoxZoomTool\"},{\"attributes\":{},\"id\":\"1218\",\"type\":\"LinearScale\"},{\"attributes\":{},\"id\":\"1230\",\"type\":\"PanTool\"},{\"attributes\":{},\"id\":\"1231\",\"type\":\"WheelZoomTool\"},{\"attributes\":{},\"id\":\"1235\",\"type\":\"HelpTool\"},{\"attributes\":{\"tools\":[{\"id\":\"1230\"},{\"id\":\"1231\"},{\"id\":\"1232\"},{\"id\":\"1233\"},{\"id\":\"1234\"},{\"id\":\"1235\"}]},\"id\":\"1237\",\"type\":\"Toolbar\"},{\"attributes\":{},\"id\":\"1216\",\"type\":\"DataRange1d\"}],\"root_ids\":[\"1211\"]},\"title\":\"Bokeh Application\",\"version\":\"2.4.2\"}};\n  const render_items = [{\"docid\":\"ca037d5a-250c-4dcf-8f5e-6400097fea7b\",\"root_ids\":[\"1211\"],\"roots\":{\"1211\":\"2bf01de7-17a2-4e66-91fa-7a71cf3c6638\"}}];\n  root.Bokeh.embed.embed_items_notebook(docs_json, render_items);\n\n  }\n  if (root.Bokeh !== undefined) {\n    embed_document(root);\n  } else {\n    let attempts = 0;\n    const timer = setInterval(function(root) {\n      if (root.Bokeh !== undefined) {\n        clearInterval(timer);\n        embed_document(root);\n      } else {\n        attempts++;\n        if (attempts > 100) {\n          clearInterval(timer);\n          console.log(\"Bokeh: ERROR: Unable to run BokehJS code because BokehJS library is missing\");\n        }\n      }\n    }, 10, root)\n  }\n})(window);",
      "application/vnd.bokehjs_exec.v0+json": ""
     },
     "metadata": {
      "application/vnd.bokehjs_exec.v0+json": {
       "id": "1211"
      }
     },
     "output_type": "display_data"
    }
   ],
   "source": [
    "create_hist(df.length,5)"
   ]
  },
  {
   "cell_type": "markdown",
   "metadata": {},
   "source": [
    "### Car width"
   ]
  },
  {
   "cell_type": "code",
   "execution_count": 10,
   "metadata": {},
   "outputs": [
    {
     "data": {
      "text/html": [
       "\n",
       "\n",
       "\n",
       "\n",
       "\n",
       "\n",
       "  <div class=\"bk-root\" id=\"94048e2d-11b1-47bb-bf6a-ac1aabd1b586\" data-root-id=\"1330\"></div>\n"
      ]
     },
     "metadata": {},
     "output_type": "display_data"
    },
    {
     "data": {
      "application/javascript": "(function(root) {\n  function embed_document(root) {\n    \n  const docs_json = {\"764e4a0c-d44d-4cae-97f7-c4753173a839\":{\"defs\":[],\"roots\":{\"references\":[{\"attributes\":{\"below\":[{\"id\":\"1341\"}],\"center\":[{\"id\":\"1344\"},{\"id\":\"1348\"}],\"height\":400,\"left\":[{\"id\":\"1345\"}],\"renderers\":[{\"id\":\"1367\"}],\"title\":{\"id\":\"1331\"},\"toolbar\":{\"id\":\"1356\"},\"x_range\":{\"id\":\"1333\"},\"x_scale\":{\"id\":\"1337\"},\"y_range\":{\"id\":\"1335\"},\"y_scale\":{\"id\":\"1339\"}},\"id\":\"1330\",\"subtype\":\"Figure\",\"type\":\"Plot\"},{\"attributes\":{\"source\":{\"id\":\"1363\"}},\"id\":\"1368\",\"type\":\"CDSView\"},{\"attributes\":{},\"id\":\"1401\",\"type\":\"BasicTickFormatter\"},{\"attributes\":{},\"id\":\"1333\",\"type\":\"DataRange1d\"},{\"attributes\":{\"bottom\":{\"value\":0},\"fill_color\":{\"value\":\"salmon\"},\"left\":{\"field\":\"left\"},\"line_color\":{\"value\":\"white\"},\"right\":{\"field\":\"right\"},\"top\":{\"field\":\"top\"}},\"id\":\"1364\",\"type\":\"Quad\"},{\"attributes\":{},\"id\":\"1402\",\"type\":\"AllLabels\"},{\"attributes\":{\"coordinates\":null,\"formatter\":{\"id\":\"1401\"},\"group\":null,\"major_label_policy\":{\"id\":\"1402\"},\"ticker\":{\"id\":\"1346\"}},\"id\":\"1345\",\"type\":\"LinearAxis\"},{\"attributes\":{},\"id\":\"1335\",\"type\":\"DataRange1d\"},{\"attributes\":{\"axis\":{\"id\":\"1341\"},\"coordinates\":null,\"group\":null,\"ticker\":null},\"id\":\"1344\",\"type\":\"Grid\"},{\"attributes\":{},\"id\":\"1342\",\"type\":\"BasicTicker\"},{\"attributes\":{\"coordinates\":null,\"group\":null,\"text\":\"Histogram\"},\"id\":\"1331\",\"type\":\"Title\"},{\"attributes\":{},\"id\":\"1339\",\"type\":\"LinearScale\"},{\"attributes\":{\"coordinates\":null,\"formatter\":{\"id\":\"1404\"},\"group\":null,\"major_label_policy\":{\"id\":\"1405\"},\"ticker\":{\"id\":\"1342\"}},\"id\":\"1341\",\"type\":\"LinearAxis\"},{\"attributes\":{},\"id\":\"1337\",\"type\":\"LinearScale\"},{\"attributes\":{\"bottom\":{\"value\":0},\"fill_alpha\":{\"value\":0.1},\"fill_color\":{\"value\":\"salmon\"},\"hatch_alpha\":{\"value\":0.1},\"left\":{\"field\":\"left\"},\"line_alpha\":{\"value\":0.1},\"line_color\":{\"value\":\"white\"},\"right\":{\"field\":\"right\"},\"top\":{\"field\":\"top\"}},\"id\":\"1365\",\"type\":\"Quad\"},{\"attributes\":{},\"id\":\"1354\",\"type\":\"HelpTool\"},{\"attributes\":{},\"id\":\"1406\",\"type\":\"UnionRenderers\"},{\"attributes\":{\"axis\":{\"id\":\"1345\"},\"coordinates\":null,\"dimension\":1,\"group\":null,\"ticker\":null},\"id\":\"1348\",\"type\":\"Grid\"},{\"attributes\":{},\"id\":\"1346\",\"type\":\"BasicTicker\"},{\"attributes\":{},\"id\":\"1350\",\"type\":\"WheelZoomTool\"},{\"attributes\":{},\"id\":\"1349\",\"type\":\"PanTool\"},{\"attributes\":{\"overlay\":{\"id\":\"1355\"}},\"id\":\"1351\",\"type\":\"BoxZoomTool\"},{\"attributes\":{},\"id\":\"1352\",\"type\":\"SaveTool\"},{\"attributes\":{},\"id\":\"1353\",\"type\":\"ResetTool\"},{\"attributes\":{},\"id\":\"1405\",\"type\":\"AllLabels\"},{\"attributes\":{\"bottom_units\":\"screen\",\"coordinates\":null,\"fill_alpha\":0.5,\"fill_color\":\"lightgrey\",\"group\":null,\"left_units\":\"screen\",\"level\":\"overlay\",\"line_alpha\":1.0,\"line_color\":\"black\",\"line_dash\":[4,4],\"line_width\":2,\"right_units\":\"screen\",\"syncable\":false,\"top_units\":\"screen\"},\"id\":\"1355\",\"type\":\"BoxAnnotation\"},{\"attributes\":{\"bottom\":{\"value\":0},\"fill_alpha\":{\"value\":0.2},\"fill_color\":{\"value\":\"salmon\"},\"hatch_alpha\":{\"value\":0.2},\"left\":{\"field\":\"left\"},\"line_alpha\":{\"value\":0.2},\"line_color\":{\"value\":\"white\"},\"right\":{\"field\":\"right\"},\"top\":{\"field\":\"top\"}},\"id\":\"1366\",\"type\":\"Quad\"},{\"attributes\":{\"coordinates\":null,\"data_source\":{\"id\":\"1363\"},\"glyph\":{\"id\":\"1364\"},\"group\":null,\"hover_glyph\":null,\"muted_glyph\":{\"id\":\"1366\"},\"nonselection_glyph\":{\"id\":\"1365\"},\"view\":{\"id\":\"1368\"}},\"id\":\"1367\",\"type\":\"GlyphRenderer\"},{\"attributes\":{\"tools\":[{\"id\":\"1349\"},{\"id\":\"1350\"},{\"id\":\"1351\"},{\"id\":\"1352\"},{\"id\":\"1353\"},{\"id\":\"1354\"}]},\"id\":\"1356\",\"type\":\"Toolbar\"},{\"attributes\":{},\"id\":\"1404\",\"type\":\"BasicTickFormatter\"},{\"attributes\":{\"data\":{\"left\":{\"__ndarray__\":\"ZmZmZmYmTkAAAAAAAMBOQJmZmZmZWU9AMzMzMzPzT0BmZmZmZkZQQDMzMzMzk1BAAAAAAADgUEDNzMzMzCxRQJmZmZmZeVFAZmZmZmbGUUA=\",\"dtype\":\"float64\",\"order\":\"little\",\"shape\":[10]},\"right\":{\"__ndarray__\":\"AAAAAADATkCZmZmZmVlPQDMzMzMz809AZmZmZmZGUEAzMzMzM5NQQAAAAAAA4FBAzczMzMwsUUCZmZmZmXlRQGZmZmZmxlFAMzMzMzMTUkA=\",\"dtype\":\"float64\",\"order\":\"little\",\"shape\":[10]},\"top\":[1,2,36,39,44,42,20,7,6,8]},\"selected\":{\"id\":\"1407\"},\"selection_policy\":{\"id\":\"1406\"}},\"id\":\"1363\",\"type\":\"ColumnDataSource\"},{\"attributes\":{},\"id\":\"1407\",\"type\":\"Selection\"}],\"root_ids\":[\"1330\"]},\"title\":\"Bokeh Application\",\"version\":\"2.4.2\"}};\n  const render_items = [{\"docid\":\"764e4a0c-d44d-4cae-97f7-c4753173a839\",\"root_ids\":[\"1330\"],\"roots\":{\"1330\":\"94048e2d-11b1-47bb-bf6a-ac1aabd1b586\"}}];\n  root.Bokeh.embed.embed_items_notebook(docs_json, render_items);\n\n  }\n  if (root.Bokeh !== undefined) {\n    embed_document(root);\n  } else {\n    let attempts = 0;\n    const timer = setInterval(function(root) {\n      if (root.Bokeh !== undefined) {\n        clearInterval(timer);\n        embed_document(root);\n      } else {\n        attempts++;\n        if (attempts > 100) {\n          clearInterval(timer);\n          console.log(\"Bokeh: ERROR: Unable to run BokehJS code because BokehJS library is missing\");\n        }\n      }\n    }, 10, root)\n  }\n})(window);",
      "application/vnd.bokehjs_exec.v0+json": ""
     },
     "metadata": {
      "application/vnd.bokehjs_exec.v0+json": {
       "id": "1330"
      }
     },
     "output_type": "display_data"
    }
   ],
   "source": [
    "create_hist(df.width,10)"
   ]
  },
  {
   "cell_type": "code",
   "execution_count": 11,
   "metadata": {},
   "outputs": [
    {
     "data": {
      "text/html": [
       "\n",
       "\n",
       "\n",
       "\n",
       "\n",
       "\n",
       "  <div class=\"bk-root\" id=\"d1aa39d6-f076-400e-88f0-b0287df8284b\" data-root-id=\"1459\"></div>\n"
      ]
     },
     "metadata": {},
     "output_type": "display_data"
    },
    {
     "data": {
      "application/javascript": "(function(root) {\n  function embed_document(root) {\n    \n  const docs_json = {\"e86269d5-ead8-41fc-a7db-fec37091920c\":{\"defs\":[],\"roots\":{\"references\":[{\"attributes\":{\"below\":[{\"id\":\"1470\"}],\"center\":[{\"id\":\"1473\"},{\"id\":\"1477\"}],\"height\":400,\"left\":[{\"id\":\"1474\"}],\"renderers\":[{\"id\":\"1496\"}],\"title\":{\"id\":\"1460\"},\"toolbar\":{\"id\":\"1485\"},\"x_range\":{\"id\":\"1462\"},\"x_scale\":{\"id\":\"1466\"},\"y_range\":{\"id\":\"1464\"},\"y_scale\":{\"id\":\"1468\"}},\"id\":\"1459\",\"subtype\":\"Figure\",\"type\":\"Plot\"},{\"attributes\":{},\"id\":\"1483\",\"type\":\"HelpTool\"},{\"attributes\":{\"coordinates\":null,\"formatter\":{\"id\":\"1540\"},\"group\":null,\"major_label_policy\":{\"id\":\"1541\"},\"ticker\":{\"id\":\"1475\"}},\"id\":\"1474\",\"type\":\"LinearAxis\"},{\"attributes\":{\"coordinates\":null,\"formatter\":{\"id\":\"1543\"},\"group\":null,\"major_label_policy\":{\"id\":\"1544\"},\"ticker\":{\"id\":\"1471\"}},\"id\":\"1470\",\"type\":\"LinearAxis\"},{\"attributes\":{},\"id\":\"1540\",\"type\":\"BasicTickFormatter\"},{\"attributes\":{\"axis\":{\"id\":\"1470\"},\"coordinates\":null,\"group\":null,\"ticker\":null},\"id\":\"1473\",\"type\":\"Grid\"},{\"attributes\":{},\"id\":\"1541\",\"type\":\"AllLabels\"},{\"attributes\":{\"axis\":{\"id\":\"1474\"},\"coordinates\":null,\"dimension\":1,\"group\":null,\"ticker\":null},\"id\":\"1477\",\"type\":\"Grid\"},{\"attributes\":{\"source\":{\"id\":\"1492\"}},\"id\":\"1497\",\"type\":\"CDSView\"},{\"attributes\":{},\"id\":\"1543\",\"type\":\"BasicTickFormatter\"},{\"attributes\":{},\"id\":\"1475\",\"type\":\"BasicTicker\"},{\"attributes\":{},\"id\":\"1544\",\"type\":\"AllLabels\"},{\"attributes\":{},\"id\":\"1479\",\"type\":\"WheelZoomTool\"},{\"attributes\":{},\"id\":\"1478\",\"type\":\"PanTool\"},{\"attributes\":{\"overlay\":{\"id\":\"1484\"}},\"id\":\"1480\",\"type\":\"BoxZoomTool\"},{\"attributes\":{},\"id\":\"1481\",\"type\":\"SaveTool\"},{\"attributes\":{},\"id\":\"1482\",\"type\":\"ResetTool\"},{\"attributes\":{\"bottom_units\":\"screen\",\"coordinates\":null,\"fill_alpha\":0.5,\"fill_color\":\"lightgrey\",\"group\":null,\"left_units\":\"screen\",\"level\":\"overlay\",\"line_alpha\":1.0,\"line_color\":\"black\",\"line_dash\":[4,4],\"line_width\":2,\"right_units\":\"screen\",\"syncable\":false,\"top_units\":\"screen\"},\"id\":\"1484\",\"type\":\"BoxAnnotation\"},{\"attributes\":{},\"id\":\"1545\",\"type\":\"UnionRenderers\"},{\"attributes\":{\"coordinates\":null,\"data_source\":{\"id\":\"1492\"},\"glyph\":{\"id\":\"1493\"},\"group\":null,\"hover_glyph\":null,\"muted_glyph\":{\"id\":\"1495\"},\"nonselection_glyph\":{\"id\":\"1494\"},\"view\":{\"id\":\"1497\"}},\"id\":\"1496\",\"type\":\"GlyphRenderer\"},{\"attributes\":{\"bottom\":{\"value\":0},\"fill_alpha\":{\"value\":0.1},\"fill_color\":{\"value\":\"salmon\"},\"hatch_alpha\":{\"value\":0.1},\"left\":{\"field\":\"left\"},\"line_alpha\":{\"value\":0.1},\"line_color\":{\"value\":\"white\"},\"right\":{\"field\":\"right\"},\"top\":{\"field\":\"top\"}},\"id\":\"1494\",\"type\":\"Quad\"},{\"attributes\":{\"bottom\":{\"value\":0},\"fill_color\":{\"value\":\"salmon\"},\"left\":{\"field\":\"left\"},\"line_color\":{\"value\":\"white\"},\"right\":{\"field\":\"right\"},\"top\":{\"field\":\"top\"}},\"id\":\"1493\",\"type\":\"Quad\"},{\"attributes\":{},\"id\":\"1546\",\"type\":\"Selection\"},{\"attributes\":{\"data\":{\"left\":{\"__ndarray__\":\"ZmZmZmYmTkCZmZmZmVlPQGZmZmZmRlBAAAAAAADgUECZmZmZmXlRQA==\",\"dtype\":\"float64\",\"order\":\"little\",\"shape\":[5]},\"right\":{\"__ndarray__\":\"mZmZmZlZT0BmZmZmZkZQQAAAAAAA4FBAmZmZmZl5UUAzMzMzMxNSQA==\",\"dtype\":\"float64\",\"order\":\"little\",\"shape\":[5]},\"top\":[3,75,86,27,14]},\"selected\":{\"id\":\"1546\"},\"selection_policy\":{\"id\":\"1545\"}},\"id\":\"1492\",\"type\":\"ColumnDataSource\"},{\"attributes\":{\"tools\":[{\"id\":\"1478\"},{\"id\":\"1479\"},{\"id\":\"1480\"},{\"id\":\"1481\"},{\"id\":\"1482\"},{\"id\":\"1483\"}]},\"id\":\"1485\",\"type\":\"Toolbar\"},{\"attributes\":{},\"id\":\"1468\",\"type\":\"LinearScale\"},{\"attributes\":{},\"id\":\"1464\",\"type\":\"DataRange1d\"},{\"attributes\":{},\"id\":\"1471\",\"type\":\"BasicTicker\"},{\"attributes\":{},\"id\":\"1462\",\"type\":\"DataRange1d\"},{\"attributes\":{\"bottom\":{\"value\":0},\"fill_alpha\":{\"value\":0.2},\"fill_color\":{\"value\":\"salmon\"},\"hatch_alpha\":{\"value\":0.2},\"left\":{\"field\":\"left\"},\"line_alpha\":{\"value\":0.2},\"line_color\":{\"value\":\"white\"},\"right\":{\"field\":\"right\"},\"top\":{\"field\":\"top\"}},\"id\":\"1495\",\"type\":\"Quad\"},{\"attributes\":{\"coordinates\":null,\"group\":null,\"text\":\"Histogram\"},\"id\":\"1460\",\"type\":\"Title\"},{\"attributes\":{},\"id\":\"1466\",\"type\":\"LinearScale\"}],\"root_ids\":[\"1459\"]},\"title\":\"Bokeh Application\",\"version\":\"2.4.2\"}};\n  const render_items = [{\"docid\":\"e86269d5-ead8-41fc-a7db-fec37091920c\",\"root_ids\":[\"1459\"],\"roots\":{\"1459\":\"d1aa39d6-f076-400e-88f0-b0287df8284b\"}}];\n  root.Bokeh.embed.embed_items_notebook(docs_json, render_items);\n\n  }\n  if (root.Bokeh !== undefined) {\n    embed_document(root);\n  } else {\n    let attempts = 0;\n    const timer = setInterval(function(root) {\n      if (root.Bokeh !== undefined) {\n        clearInterval(timer);\n        embed_document(root);\n      } else {\n        attempts++;\n        if (attempts > 100) {\n          clearInterval(timer);\n          console.log(\"Bokeh: ERROR: Unable to run BokehJS code because BokehJS library is missing\");\n        }\n      }\n    }, 10, root)\n  }\n})(window);",
      "application/vnd.bokehjs_exec.v0+json": ""
     },
     "metadata": {
      "application/vnd.bokehjs_exec.v0+json": {
       "id": "1459"
      }
     },
     "output_type": "display_data"
    }
   ],
   "source": [
    "create_hist(df.width,5)"
   ]
  },
  {
   "cell_type": "markdown",
   "metadata": {},
   "source": [
    "### Car height"
   ]
  },
  {
   "cell_type": "code",
   "execution_count": 12,
   "metadata": {},
   "outputs": [
    {
     "data": {
      "text/html": [
       "\n",
       "\n",
       "\n",
       "\n",
       "\n",
       "\n",
       "  <div class=\"bk-root\" id=\"2632eb79-7a51-43f0-a549-9d4b76fdb5ea\" data-root-id=\"1598\"></div>\n"
      ]
     },
     "metadata": {},
     "output_type": "display_data"
    },
    {
     "data": {
      "application/javascript": "(function(root) {\n  function embed_document(root) {\n    \n  const docs_json = {\"0089d724-2d21-411f-8e1c-e36440b15215\":{\"defs\":[],\"roots\":{\"references\":[{\"attributes\":{\"below\":[{\"id\":\"1609\"}],\"center\":[{\"id\":\"1612\"},{\"id\":\"1616\"}],\"height\":400,\"left\":[{\"id\":\"1613\"}],\"renderers\":[{\"id\":\"1635\"}],\"title\":{\"id\":\"1599\"},\"toolbar\":{\"id\":\"1624\"},\"x_range\":{\"id\":\"1601\"},\"x_scale\":{\"id\":\"1605\"},\"y_range\":{\"id\":\"1603\"},\"y_scale\":{\"id\":\"1607\"}},\"id\":\"1598\",\"subtype\":\"Figure\",\"type\":\"Plot\"},{\"attributes\":{\"bottom\":{\"value\":0},\"fill_color\":{\"value\":\"salmon\"},\"left\":{\"field\":\"left\"},\"line_color\":{\"value\":\"white\"},\"right\":{\"field\":\"right\"},\"top\":{\"field\":\"top\"}},\"id\":\"1632\",\"type\":\"Quad\"},{\"attributes\":{},\"id\":\"1618\",\"type\":\"WheelZoomTool\"},{\"attributes\":{},\"id\":\"1694\",\"type\":\"UnionRenderers\"},{\"attributes\":{},\"id\":\"1617\",\"type\":\"PanTool\"},{\"attributes\":{\"overlay\":{\"id\":\"1623\"}},\"id\":\"1619\",\"type\":\"BoxZoomTool\"},{\"attributes\":{},\"id\":\"1620\",\"type\":\"SaveTool\"},{\"attributes\":{},\"id\":\"1621\",\"type\":\"ResetTool\"},{\"attributes\":{\"bottom_units\":\"screen\",\"coordinates\":null,\"fill_alpha\":0.5,\"fill_color\":\"lightgrey\",\"group\":null,\"left_units\":\"screen\",\"level\":\"overlay\",\"line_alpha\":1.0,\"line_color\":\"black\",\"line_dash\":[4,4],\"line_width\":2,\"right_units\":\"screen\",\"syncable\":false,\"top_units\":\"screen\"},\"id\":\"1623\",\"type\":\"BoxAnnotation\"},{\"attributes\":{\"coordinates\":null,\"data_source\":{\"id\":\"1631\"},\"glyph\":{\"id\":\"1632\"},\"group\":null,\"hover_glyph\":null,\"muted_glyph\":{\"id\":\"1634\"},\"nonselection_glyph\":{\"id\":\"1633\"},\"view\":{\"id\":\"1636\"}},\"id\":\"1635\",\"type\":\"GlyphRenderer\"},{\"attributes\":{\"tools\":[{\"id\":\"1617\"},{\"id\":\"1618\"},{\"id\":\"1619\"},{\"id\":\"1620\"},{\"id\":\"1621\"},{\"id\":\"1622\"}]},\"id\":\"1624\",\"type\":\"Toolbar\"},{\"attributes\":{},\"id\":\"1693\",\"type\":\"AllLabels\"},{\"attributes\":{\"bottom\":{\"value\":0},\"fill_alpha\":{\"value\":0.2},\"fill_color\":{\"value\":\"salmon\"},\"hatch_alpha\":{\"value\":0.2},\"left\":{\"field\":\"left\"},\"line_alpha\":{\"value\":0.2},\"line_color\":{\"value\":\"white\"},\"right\":{\"field\":\"right\"},\"top\":{\"field\":\"top\"}},\"id\":\"1634\",\"type\":\"Quad\"},{\"attributes\":{\"bottom\":{\"value\":0},\"fill_alpha\":{\"value\":0.1},\"fill_color\":{\"value\":\"salmon\"},\"hatch_alpha\":{\"value\":0.1},\"left\":{\"field\":\"left\"},\"line_alpha\":{\"value\":0.1},\"line_color\":{\"value\":\"white\"},\"right\":{\"field\":\"right\"},\"top\":{\"field\":\"top\"}},\"id\":\"1633\",\"type\":\"Quad\"},{\"attributes\":{\"coordinates\":null,\"formatter\":{\"id\":\"1689\"},\"group\":null,\"major_label_policy\":{\"id\":\"1690\"},\"ticker\":{\"id\":\"1614\"}},\"id\":\"1613\",\"type\":\"LinearAxis\"},{\"attributes\":{},\"id\":\"1607\",\"type\":\"LinearScale\"},{\"attributes\":{},\"id\":\"1690\",\"type\":\"AllLabels\"},{\"attributes\":{},\"id\":\"1622\",\"type\":\"HelpTool\"},{\"attributes\":{\"axis\":{\"id\":\"1609\"},\"coordinates\":null,\"group\":null,\"ticker\":null},\"id\":\"1612\",\"type\":\"Grid\"},{\"attributes\":{\"coordinates\":null,\"formatter\":{\"id\":\"1692\"},\"group\":null,\"major_label_policy\":{\"id\":\"1693\"},\"ticker\":{\"id\":\"1610\"}},\"id\":\"1609\",\"type\":\"LinearAxis\"},{\"attributes\":{},\"id\":\"1603\",\"type\":\"DataRange1d\"},{\"attributes\":{\"source\":{\"id\":\"1631\"}},\"id\":\"1636\",\"type\":\"CDSView\"},{\"attributes\":{\"coordinates\":null,\"group\":null,\"text\":\"Histogram\"},\"id\":\"1599\",\"type\":\"Title\"},{\"attributes\":{},\"id\":\"1610\",\"type\":\"BasicTicker\"},{\"attributes\":{},\"id\":\"1605\",\"type\":\"LinearScale\"},{\"attributes\":{},\"id\":\"1601\",\"type\":\"DataRange1d\"},{\"attributes\":{},\"id\":\"1692\",\"type\":\"BasicTickFormatter\"},{\"attributes\":{\"data\":{\"left\":{\"__ndarray__\":\"ZmZmZmbmR0AAAAAAAIBIQJmZmZmZGUlAMzMzMzOzSUDMzMzMzExKQGZmZmZm5kpAAAAAAACAS0CZmZmZmRlMQDMzMzMzs0xAzMzMzMxMTUA=\",\"dtype\":\"float64\",\"order\":\"little\",\"shape\":[10]},\"right\":{\"__ndarray__\":\"AAAAAACASECZmZmZmRlJQDMzMzMzs0lAzMzMzMxMSkBmZmZmZuZKQAAAAAAAgEtAmZmZmZkZTEAzMzMzM7NMQMzMzMzMTE1AZmZmZmbmTUA=\",\"dtype\":\"float64\",\"order\":\"little\",\"shape\":[10]},\"top\":[3,9,28,25,33,41,38,15,4,9]},\"selected\":{\"id\":\"1695\"},\"selection_policy\":{\"id\":\"1694\"}},\"id\":\"1631\",\"type\":\"ColumnDataSource\"},{\"attributes\":{},\"id\":\"1695\",\"type\":\"Selection\"},{\"attributes\":{\"axis\":{\"id\":\"1613\"},\"coordinates\":null,\"dimension\":1,\"group\":null,\"ticker\":null},\"id\":\"1616\",\"type\":\"Grid\"},{\"attributes\":{},\"id\":\"1689\",\"type\":\"BasicTickFormatter\"},{\"attributes\":{},\"id\":\"1614\",\"type\":\"BasicTicker\"}],\"root_ids\":[\"1598\"]},\"title\":\"Bokeh Application\",\"version\":\"2.4.2\"}};\n  const render_items = [{\"docid\":\"0089d724-2d21-411f-8e1c-e36440b15215\",\"root_ids\":[\"1598\"],\"roots\":{\"1598\":\"2632eb79-7a51-43f0-a549-9d4b76fdb5ea\"}}];\n  root.Bokeh.embed.embed_items_notebook(docs_json, render_items);\n\n  }\n  if (root.Bokeh !== undefined) {\n    embed_document(root);\n  } else {\n    let attempts = 0;\n    const timer = setInterval(function(root) {\n      if (root.Bokeh !== undefined) {\n        clearInterval(timer);\n        embed_document(root);\n      } else {\n        attempts++;\n        if (attempts > 100) {\n          clearInterval(timer);\n          console.log(\"Bokeh: ERROR: Unable to run BokehJS code because BokehJS library is missing\");\n        }\n      }\n    }, 10, root)\n  }\n})(window);",
      "application/vnd.bokehjs_exec.v0+json": ""
     },
     "metadata": {
      "application/vnd.bokehjs_exec.v0+json": {
       "id": "1598"
      }
     },
     "output_type": "display_data"
    }
   ],
   "source": [
    "create_hist(df.height,10)"
   ]
  },
  {
   "cell_type": "code",
   "execution_count": 13,
   "metadata": {},
   "outputs": [
    {
     "data": {
      "text/html": [
       "\n",
       "\n",
       "\n",
       "\n",
       "\n",
       "\n",
       "  <div class=\"bk-root\" id=\"3f698966-ae08-4301-aebc-c94a978eb37d\" data-root-id=\"1747\"></div>\n"
      ]
     },
     "metadata": {},
     "output_type": "display_data"
    },
    {
     "data": {
      "application/javascript": "(function(root) {\n  function embed_document(root) {\n    \n  const docs_json = {\"c073af0b-eddd-4a1f-9c34-b799bf868afe\":{\"defs\":[],\"roots\":{\"references\":[{\"attributes\":{\"below\":[{\"id\":\"1758\"}],\"center\":[{\"id\":\"1761\"},{\"id\":\"1765\"}],\"height\":400,\"left\":[{\"id\":\"1762\"}],\"renderers\":[{\"id\":\"1784\"}],\"title\":{\"id\":\"1748\"},\"toolbar\":{\"id\":\"1773\"},\"x_range\":{\"id\":\"1750\"},\"x_scale\":{\"id\":\"1754\"},\"y_range\":{\"id\":\"1752\"},\"y_scale\":{\"id\":\"1756\"}},\"id\":\"1747\",\"subtype\":\"Figure\",\"type\":\"Plot\"},{\"attributes\":{\"bottom\":{\"value\":0},\"fill_alpha\":{\"value\":0.1},\"fill_color\":{\"value\":\"salmon\"},\"hatch_alpha\":{\"value\":0.1},\"left\":{\"field\":\"left\"},\"line_alpha\":{\"value\":0.1},\"line_color\":{\"value\":\"white\"},\"right\":{\"field\":\"right\"},\"top\":{\"field\":\"top\"}},\"id\":\"1782\",\"type\":\"Quad\"},{\"attributes\":{},\"id\":\"1849\",\"type\":\"AllLabels\"},{\"attributes\":{},\"id\":\"1853\",\"type\":\"UnionRenderers\"},{\"attributes\":{\"tools\":[{\"id\":\"1766\"},{\"id\":\"1767\"},{\"id\":\"1768\"},{\"id\":\"1769\"},{\"id\":\"1770\"},{\"id\":\"1771\"}]},\"id\":\"1773\",\"type\":\"Toolbar\"},{\"attributes\":{},\"id\":\"1854\",\"type\":\"Selection\"},{\"attributes\":{\"source\":{\"id\":\"1780\"}},\"id\":\"1785\",\"type\":\"CDSView\"},{\"attributes\":{},\"id\":\"1756\",\"type\":\"LinearScale\"},{\"attributes\":{\"coordinates\":null,\"group\":null,\"text\":\"Histogram\"},\"id\":\"1748\",\"type\":\"Title\"},{\"attributes\":{\"bottom\":{\"value\":0},\"fill_alpha\":{\"value\":0.2},\"fill_color\":{\"value\":\"salmon\"},\"hatch_alpha\":{\"value\":0.2},\"left\":{\"field\":\"left\"},\"line_alpha\":{\"value\":0.2},\"line_color\":{\"value\":\"white\"},\"right\":{\"field\":\"right\"},\"top\":{\"field\":\"top\"}},\"id\":\"1783\",\"type\":\"Quad\"},{\"attributes\":{},\"id\":\"1752\",\"type\":\"DataRange1d\"},{\"attributes\":{\"bottom\":{\"value\":0},\"fill_color\":{\"value\":\"salmon\"},\"left\":{\"field\":\"left\"},\"line_color\":{\"value\":\"white\"},\"right\":{\"field\":\"right\"},\"top\":{\"field\":\"top\"}},\"id\":\"1781\",\"type\":\"Quad\"},{\"attributes\":{},\"id\":\"1750\",\"type\":\"DataRange1d\"},{\"attributes\":{},\"id\":\"1771\",\"type\":\"HelpTool\"},{\"attributes\":{\"coordinates\":null,\"formatter\":{\"id\":\"1851\"},\"group\":null,\"major_label_policy\":{\"id\":\"1852\"},\"ticker\":{\"id\":\"1759\"}},\"id\":\"1758\",\"type\":\"LinearAxis\"},{\"attributes\":{},\"id\":\"1754\",\"type\":\"LinearScale\"},{\"attributes\":{\"axis\":{\"id\":\"1762\"},\"coordinates\":null,\"dimension\":1,\"group\":null,\"ticker\":null},\"id\":\"1765\",\"type\":\"Grid\"},{\"attributes\":{},\"id\":\"1759\",\"type\":\"BasicTicker\"},{\"attributes\":{\"axis\":{\"id\":\"1758\"},\"coordinates\":null,\"group\":null,\"ticker\":null},\"id\":\"1761\",\"type\":\"Grid\"},{\"attributes\":{\"data\":{\"left\":{\"__ndarray__\":\"ZmZmZmbmR0CZmZmZmRlJQMzMzMzMTEpAAAAAAACAS0AzMzMzM7NMQA==\",\"dtype\":\"float64\",\"order\":\"little\",\"shape\":[5]},\"right\":{\"__ndarray__\":\"mZmZmZkZSUDMzMzMzExKQAAAAAAAgEtAMzMzMzOzTEBmZmZmZuZNQA==\",\"dtype\":\"float64\",\"order\":\"little\",\"shape\":[5]},\"top\":[12,53,74,53,13]},\"selected\":{\"id\":\"1854\"},\"selection_policy\":{\"id\":\"1853\"}},\"id\":\"1780\",\"type\":\"ColumnDataSource\"},{\"attributes\":{},\"id\":\"1763\",\"type\":\"BasicTicker\"},{\"attributes\":{},\"id\":\"1767\",\"type\":\"WheelZoomTool\"},{\"attributes\":{},\"id\":\"1766\",\"type\":\"PanTool\"},{\"attributes\":{\"overlay\":{\"id\":\"1772\"}},\"id\":\"1768\",\"type\":\"BoxZoomTool\"},{\"attributes\":{},\"id\":\"1769\",\"type\":\"SaveTool\"},{\"attributes\":{},\"id\":\"1852\",\"type\":\"AllLabels\"},{\"attributes\":{},\"id\":\"1770\",\"type\":\"ResetTool\"},{\"attributes\":{\"coordinates\":null,\"formatter\":{\"id\":\"1848\"},\"group\":null,\"major_label_policy\":{\"id\":\"1849\"},\"ticker\":{\"id\":\"1763\"}},\"id\":\"1762\",\"type\":\"LinearAxis\"},{\"attributes\":{},\"id\":\"1851\",\"type\":\"BasicTickFormatter\"},{\"attributes\":{\"bottom_units\":\"screen\",\"coordinates\":null,\"fill_alpha\":0.5,\"fill_color\":\"lightgrey\",\"group\":null,\"left_units\":\"screen\",\"level\":\"overlay\",\"line_alpha\":1.0,\"line_color\":\"black\",\"line_dash\":[4,4],\"line_width\":2,\"right_units\":\"screen\",\"syncable\":false,\"top_units\":\"screen\"},\"id\":\"1772\",\"type\":\"BoxAnnotation\"},{\"attributes\":{\"coordinates\":null,\"data_source\":{\"id\":\"1780\"},\"glyph\":{\"id\":\"1781\"},\"group\":null,\"hover_glyph\":null,\"muted_glyph\":{\"id\":\"1783\"},\"nonselection_glyph\":{\"id\":\"1782\"},\"view\":{\"id\":\"1785\"}},\"id\":\"1784\",\"type\":\"GlyphRenderer\"},{\"attributes\":{},\"id\":\"1848\",\"type\":\"BasicTickFormatter\"}],\"root_ids\":[\"1747\"]},\"title\":\"Bokeh Application\",\"version\":\"2.4.2\"}};\n  const render_items = [{\"docid\":\"c073af0b-eddd-4a1f-9c34-b799bf868afe\",\"root_ids\":[\"1747\"],\"roots\":{\"1747\":\"3f698966-ae08-4301-aebc-c94a978eb37d\"}}];\n  root.Bokeh.embed.embed_items_notebook(docs_json, render_items);\n\n  }\n  if (root.Bokeh !== undefined) {\n    embed_document(root);\n  } else {\n    let attempts = 0;\n    const timer = setInterval(function(root) {\n      if (root.Bokeh !== undefined) {\n        clearInterval(timer);\n        embed_document(root);\n      } else {\n        attempts++;\n        if (attempts > 100) {\n          clearInterval(timer);\n          console.log(\"Bokeh: ERROR: Unable to run BokehJS code because BokehJS library is missing\");\n        }\n      }\n    }, 10, root)\n  }\n})(window);",
      "application/vnd.bokehjs_exec.v0+json": ""
     },
     "metadata": {
      "application/vnd.bokehjs_exec.v0+json": {
       "id": "1747"
      }
     },
     "output_type": "display_data"
    }
   ],
   "source": [
    "create_hist(df.height,5)"
   ]
  },
  {
   "cell_type": "markdown",
   "metadata": {},
   "source": [
    "## Overlapping histograms"
   ]
  },
  {
   "cell_type": "markdown",
   "metadata": {},
   "source": [
    "The function `create_hist()` we create only works with one variable. We cannot use it for plotting overlapping histograms.\n",
    "\n",
    "Let's create three histograms for car length, width, and height."
   ]
  },
  {
   "cell_type": "code",
   "execution_count": 14,
   "metadata": {},
   "outputs": [],
   "source": [
    "bins = 10"
   ]
  },
  {
   "cell_type": "code",
   "execution_count": 15,
   "metadata": {},
   "outputs": [],
   "source": [
    "arr_l, edges_l = np.histogram(df.length, bins = bins, \n",
    "                    range = [df.length.min(), df.length.max()])"
   ]
  },
  {
   "cell_type": "code",
   "execution_count": 16,
   "metadata": {},
   "outputs": [],
   "source": [
    "arr_w, edges_w = np.histogram(df.width, bins = bins, \n",
    "                    range = [df.width.min(), df.width.max()])"
   ]
  },
  {
   "cell_type": "code",
   "execution_count": 17,
   "metadata": {},
   "outputs": [],
   "source": [
    "arr_h, edges_h = np.histogram(df.height, bins = bins, \n",
    "                    range = [df.height.min(), df.height.max()])"
   ]
  },
  {
   "cell_type": "code",
   "execution_count": 18,
   "metadata": {},
   "outputs": [],
   "source": [
    "# Create the blank plot\n",
    "overlapp = figure(plot_height = 400, plot_width = 600, \n",
    "            toolbar_location='above', title = 'Histograms')"
   ]
  },
  {
   "cell_type": "code",
   "execution_count": 19,
   "metadata": {},
   "outputs": [],
   "source": [
    "overlapp.quad(bottom=0, top=arr_l, left=edges_l[:-1], right=edges_l[1:], legend_label=\"length\",\n",
    "        fill_color='indianred', fill_alpha=0.8, line_color='salmon',line_alpha=0.8);"
   ]
  },
  {
   "cell_type": "code",
   "execution_count": 20,
   "metadata": {},
   "outputs": [],
   "source": [
    "overlapp.quad(bottom=0, top=arr_w, left=edges_w[:-1], right=edges_w[1:], legend_label=\"width\",\n",
    "        fill_color='darkorange', fill_alpha=0.8, line_color='darkorange',line_alpha=0.8);"
   ]
  },
  {
   "cell_type": "code",
   "execution_count": 21,
   "metadata": {},
   "outputs": [],
   "source": [
    "overlapp.quad(bottom=0, top=arr_h, left=edges_h[:-1], right=edges_h[1:], legend_label=\"height\",\n",
    "        fill_color='dodgerblue', fill_alpha=0.8, line_color='lightblue', line_alpha=0.8);"
   ]
  },
  {
   "cell_type": "code",
   "execution_count": 22,
   "metadata": {},
   "outputs": [
    {
     "data": {
      "text/html": [
       "\n",
       "\n",
       "\n",
       "\n",
       "\n",
       "\n",
       "  <div class=\"bk-root\" id=\"cd8fa579-1637-4fe4-99c2-f04cfc9328b1\" data-root-id=\"1906\"></div>\n"
      ]
     },
     "metadata": {},
     "output_type": "display_data"
    },
    {
     "data": {
      "application/javascript": "(function(root) {\n  function embed_document(root) {\n    \n  const docs_json = {\"bfde444d-8e91-4ebc-9962-7fa9ddff135d\":{\"defs\":[],\"roots\":{\"references\":[{\"attributes\":{\"below\":[{\"id\":\"1917\"}],\"center\":[{\"id\":\"1920\"},{\"id\":\"1924\"},{\"id\":\"1955\"}],\"height\":400,\"left\":[{\"id\":\"1921\"}],\"renderers\":[{\"id\":\"1943\"},{\"id\":\"1961\"},{\"id\":\"1980\"}],\"title\":{\"id\":\"1907\"},\"toolbar\":{\"id\":\"1932\"},\"toolbar_location\":\"above\",\"x_range\":{\"id\":\"1909\"},\"x_scale\":{\"id\":\"1913\"},\"y_range\":{\"id\":\"1911\"},\"y_scale\":{\"id\":\"1915\"}},\"id\":\"1906\",\"subtype\":\"Figure\",\"type\":\"Plot\"},{\"attributes\":{\"tools\":[{\"id\":\"1925\"},{\"id\":\"1926\"},{\"id\":\"1927\"},{\"id\":\"1928\"},{\"id\":\"1929\"},{\"id\":\"1930\"}]},\"id\":\"1932\",\"type\":\"Toolbar\"},{\"attributes\":{\"source\":{\"id\":\"1939\"}},\"id\":\"1944\",\"type\":\"CDSView\"},{\"attributes\":{\"coordinates\":null,\"data_source\":{\"id\":\"1939\"},\"glyph\":{\"id\":\"1940\"},\"group\":null,\"hover_glyph\":null,\"muted_glyph\":{\"id\":\"1942\"},\"nonselection_glyph\":{\"id\":\"1941\"},\"view\":{\"id\":\"1944\"}},\"id\":\"1943\",\"type\":\"GlyphRenderer\"},{\"attributes\":{},\"id\":\"1922\",\"type\":\"BasicTicker\"},{\"attributes\":{\"coordinates\":null,\"formatter\":{\"id\":\"1947\"},\"group\":null,\"major_label_policy\":{\"id\":\"1948\"},\"ticker\":{\"id\":\"1922\"}},\"id\":\"1921\",\"type\":\"LinearAxis\"},{\"attributes\":{},\"id\":\"1918\",\"type\":\"BasicTicker\"},{\"attributes\":{\"coordinates\":null,\"group\":null,\"items\":[{\"id\":\"1956\"},{\"id\":\"1975\"},{\"id\":\"1996\"}]},\"id\":\"1955\",\"type\":\"Legend\"},{\"attributes\":{\"bottom\":{\"value\":0},\"fill_alpha\":{\"value\":0.2},\"fill_color\":{\"value\":\"darkorange\"},\"hatch_alpha\":{\"value\":0.2},\"left\":{\"field\":\"left\"},\"line_alpha\":{\"value\":0.2},\"line_color\":{\"value\":\"darkorange\"},\"right\":{\"field\":\"right\"},\"top\":{\"field\":\"top\"}},\"id\":\"1960\",\"type\":\"Quad\"},{\"attributes\":{},\"id\":\"1951\",\"type\":\"AllLabels\"},{\"attributes\":{},\"id\":\"1915\",\"type\":\"LinearScale\"},{\"attributes\":{\"bottom_units\":\"screen\",\"coordinates\":null,\"fill_alpha\":0.5,\"fill_color\":\"lightgrey\",\"group\":null,\"left_units\":\"screen\",\"level\":\"overlay\",\"line_alpha\":1.0,\"line_color\":\"black\",\"line_dash\":[4,4],\"line_width\":2,\"right_units\":\"screen\",\"syncable\":false,\"top_units\":\"screen\"},\"id\":\"1931\",\"type\":\"BoxAnnotation\"},{\"attributes\":{\"label\":{\"value\":\"width\"},\"renderers\":[{\"id\":\"1961\"}]},\"id\":\"1975\",\"type\":\"LegendItem\"},{\"attributes\":{\"bottom\":{\"value\":0},\"fill_alpha\":{\"value\":0.2},\"fill_color\":{\"value\":\"dodgerblue\"},\"hatch_alpha\":{\"value\":0.2},\"left\":{\"field\":\"left\"},\"line_alpha\":{\"value\":0.2},\"line_color\":{\"value\":\"lightblue\"},\"right\":{\"field\":\"right\"},\"top\":{\"field\":\"top\"}},\"id\":\"1979\",\"type\":\"Quad\"},{\"attributes\":{\"bottom\":{\"value\":0},\"fill_alpha\":{\"value\":0.1},\"fill_color\":{\"value\":\"dodgerblue\"},\"hatch_alpha\":{\"value\":0.1},\"left\":{\"field\":\"left\"},\"line_alpha\":{\"value\":0.1},\"line_color\":{\"value\":\"lightblue\"},\"right\":{\"field\":\"right\"},\"top\":{\"field\":\"top\"}},\"id\":\"1978\",\"type\":\"Quad\"},{\"attributes\":{},\"id\":\"1926\",\"type\":\"WheelZoomTool\"},{\"attributes\":{\"label\":{\"value\":\"length\"},\"renderers\":[{\"id\":\"1943\"}]},\"id\":\"1956\",\"type\":\"LegendItem\"},{\"attributes\":{},\"id\":\"1973\",\"type\":\"Selection\"},{\"attributes\":{},\"id\":\"1947\",\"type\":\"BasicTickFormatter\"},{\"attributes\":{\"label\":{\"value\":\"height\"},\"renderers\":[{\"id\":\"1980\"}]},\"id\":\"1996\",\"type\":\"LegendItem\"},{\"attributes\":{\"bottom\":{\"value\":0},\"fill_alpha\":{\"value\":0.1},\"fill_color\":{\"value\":\"darkorange\"},\"hatch_alpha\":{\"value\":0.1},\"left\":{\"field\":\"left\"},\"line_alpha\":{\"value\":0.1},\"line_color\":{\"value\":\"darkorange\"},\"right\":{\"field\":\"right\"},\"top\":{\"field\":\"top\"}},\"id\":\"1959\",\"type\":\"Quad\"},{\"attributes\":{\"coordinates\":null,\"formatter\":{\"id\":\"1950\"},\"group\":null,\"major_label_policy\":{\"id\":\"1951\"},\"ticker\":{\"id\":\"1918\"}},\"id\":\"1917\",\"type\":\"LinearAxis\"},{\"attributes\":{\"axis\":{\"id\":\"1921\"},\"coordinates\":null,\"dimension\":1,\"group\":null,\"ticker\":null},\"id\":\"1924\",\"type\":\"Grid\"},{\"attributes\":{},\"id\":\"1911\",\"type\":\"DataRange1d\"},{\"attributes\":{},\"id\":\"1993\",\"type\":\"UnionRenderers\"},{\"attributes\":{},\"id\":\"1913\",\"type\":\"LinearScale\"},{\"attributes\":{},\"id\":\"1994\",\"type\":\"Selection\"},{\"attributes\":{},\"id\":\"1972\",\"type\":\"UnionRenderers\"},{\"attributes\":{},\"id\":\"1909\",\"type\":\"DataRange1d\"},{\"attributes\":{\"source\":{\"id\":\"1957\"}},\"id\":\"1962\",\"type\":\"CDSView\"},{\"attributes\":{},\"id\":\"1953\",\"type\":\"Selection\"},{\"attributes\":{\"coordinates\":null,\"data_source\":{\"id\":\"1957\"},\"glyph\":{\"id\":\"1958\"},\"group\":null,\"hover_glyph\":null,\"muted_glyph\":{\"id\":\"1960\"},\"nonselection_glyph\":{\"id\":\"1959\"},\"view\":{\"id\":\"1962\"}},\"id\":\"1961\",\"type\":\"GlyphRenderer\"},{\"attributes\":{\"source\":{\"id\":\"1976\"}},\"id\":\"1981\",\"type\":\"CDSView\"},{\"attributes\":{\"data\":{\"left\":{\"__ndarray__\":\"MzMzMzOjYUCZmZmZmXliQAAAAAAAUGNAZmZmZmYmZEDNzMzMzPxkQDMzMzMz02VAmpmZmZmpZkAAAAAAAIBnQGZmZmZmVmhAzczMzMwsaUA=\",\"dtype\":\"float64\",\"order\":\"little\",\"shape\":[10]},\"right\":{\"__ndarray__\":\"mZmZmZl5YkAAAAAAAFBjQGZmZmZmJmRAzczMzMz8ZEAzMzMzM9NlQJqZmZmZqWZAAAAAAACAZ0BmZmZmZlZoQM3MzMzMLGlAMzMzMzMDakA=\",\"dtype\":\"float64\",\"order\":\"little\",\"shape\":[10]},\"top\":[3,3,29,23,54,39,23,20,8,3]},\"selected\":{\"id\":\"1953\"},\"selection_policy\":{\"id\":\"1952\"}},\"id\":\"1939\",\"type\":\"ColumnDataSource\"},{\"attributes\":{\"bottom\":{\"value\":0},\"fill_alpha\":{\"value\":0.2},\"fill_color\":{\"value\":\"indianred\"},\"hatch_alpha\":{\"value\":0.2},\"left\":{\"field\":\"left\"},\"line_alpha\":{\"value\":0.2},\"line_color\":{\"value\":\"salmon\"},\"right\":{\"field\":\"right\"},\"top\":{\"field\":\"top\"}},\"id\":\"1942\",\"type\":\"Quad\"},{\"attributes\":{\"bottom\":{\"value\":0},\"fill_alpha\":{\"value\":0.8},\"fill_color\":{\"value\":\"indianred\"},\"left\":{\"field\":\"left\"},\"line_alpha\":{\"value\":0.8},\"line_color\":{\"value\":\"salmon\"},\"right\":{\"field\":\"right\"},\"top\":{\"field\":\"top\"}},\"id\":\"1940\",\"type\":\"Quad\"},{\"attributes\":{\"bottom\":{\"value\":0},\"fill_alpha\":{\"value\":0.1},\"fill_color\":{\"value\":\"indianred\"},\"hatch_alpha\":{\"value\":0.1},\"left\":{\"field\":\"left\"},\"line_alpha\":{\"value\":0.1},\"line_color\":{\"value\":\"salmon\"},\"right\":{\"field\":\"right\"},\"top\":{\"field\":\"top\"}},\"id\":\"1941\",\"type\":\"Quad\"},{\"attributes\":{\"overlay\":{\"id\":\"1931\"}},\"id\":\"1927\",\"type\":\"BoxZoomTool\"},{\"attributes\":{},\"id\":\"1928\",\"type\":\"SaveTool\"},{\"attributes\":{},\"id\":\"1948\",\"type\":\"AllLabels\"},{\"attributes\":{},\"id\":\"1925\",\"type\":\"PanTool\"},{\"attributes\":{},\"id\":\"1950\",\"type\":\"BasicTickFormatter\"},{\"attributes\":{},\"id\":\"1929\",\"type\":\"ResetTool\"},{\"attributes\":{\"data\":{\"left\":{\"__ndarray__\":\"ZmZmZmYmTkAAAAAAAMBOQJmZmZmZWU9AMzMzMzPzT0BmZmZmZkZQQDMzMzMzk1BAAAAAAADgUEDNzMzMzCxRQJmZmZmZeVFAZmZmZmbGUUA=\",\"dtype\":\"float64\",\"order\":\"little\",\"shape\":[10]},\"right\":{\"__ndarray__\":\"AAAAAADATkCZmZmZmVlPQDMzMzMz809AZmZmZmZGUEAzMzMzM5NQQAAAAAAA4FBAzczMzMwsUUCZmZmZmXlRQGZmZmZmxlFAMzMzMzMTUkA=\",\"dtype\":\"float64\",\"order\":\"little\",\"shape\":[10]},\"top\":[1,2,36,39,44,42,20,7,6,8]},\"selected\":{\"id\":\"1973\"},\"selection_policy\":{\"id\":\"1972\"}},\"id\":\"1957\",\"type\":\"ColumnDataSource\"},{\"attributes\":{\"coordinates\":null,\"data_source\":{\"id\":\"1976\"},\"glyph\":{\"id\":\"1977\"},\"group\":null,\"hover_glyph\":null,\"muted_glyph\":{\"id\":\"1979\"},\"nonselection_glyph\":{\"id\":\"1978\"},\"view\":{\"id\":\"1981\"}},\"id\":\"1980\",\"type\":\"GlyphRenderer\"},{\"attributes\":{},\"id\":\"1930\",\"type\":\"HelpTool\"},{\"attributes\":{\"bottom\":{\"value\":0},\"fill_alpha\":{\"value\":0.8},\"fill_color\":{\"value\":\"darkorange\"},\"left\":{\"field\":\"left\"},\"line_alpha\":{\"value\":0.8},\"line_color\":{\"value\":\"darkorange\"},\"right\":{\"field\":\"right\"},\"top\":{\"field\":\"top\"}},\"id\":\"1958\",\"type\":\"Quad\"},{\"attributes\":{\"data\":{\"left\":{\"__ndarray__\":\"ZmZmZmbmR0AAAAAAAIBIQJmZmZmZGUlAMzMzMzOzSUDMzMzMzExKQGZmZmZm5kpAAAAAAACAS0CZmZmZmRlMQDMzMzMzs0xAzMzMzMxMTUA=\",\"dtype\":\"float64\",\"order\":\"little\",\"shape\":[10]},\"right\":{\"__ndarray__\":\"AAAAAACASECZmZmZmRlJQDMzMzMzs0lAzMzMzMxMSkBmZmZmZuZKQAAAAAAAgEtAmZmZmZkZTEAzMzMzM7NMQMzMzMzMTE1AZmZmZmbmTUA=\",\"dtype\":\"float64\",\"order\":\"little\",\"shape\":[10]},\"top\":[3,9,28,25,33,41,38,15,4,9]},\"selected\":{\"id\":\"1994\"},\"selection_policy\":{\"id\":\"1993\"}},\"id\":\"1976\",\"type\":\"ColumnDataSource\"},{\"attributes\":{\"axis\":{\"id\":\"1917\"},\"coordinates\":null,\"group\":null,\"ticker\":null},\"id\":\"1920\",\"type\":\"Grid\"},{\"attributes\":{},\"id\":\"1952\",\"type\":\"UnionRenderers\"},{\"attributes\":{\"coordinates\":null,\"group\":null,\"text\":\"Histograms\"},\"id\":\"1907\",\"type\":\"Title\"},{\"attributes\":{\"bottom\":{\"value\":0},\"fill_alpha\":{\"value\":0.8},\"fill_color\":{\"value\":\"dodgerblue\"},\"left\":{\"field\":\"left\"},\"line_alpha\":{\"value\":0.8},\"line_color\":{\"value\":\"lightblue\"},\"right\":{\"field\":\"right\"},\"top\":{\"field\":\"top\"}},\"id\":\"1977\",\"type\":\"Quad\"}],\"root_ids\":[\"1906\"]},\"title\":\"Bokeh Application\",\"version\":\"2.4.2\"}};\n  const render_items = [{\"docid\":\"bfde444d-8e91-4ebc-9962-7fa9ddff135d\",\"root_ids\":[\"1906\"],\"roots\":{\"1906\":\"cd8fa579-1637-4fe4-99c2-f04cfc9328b1\"}}];\n  root.Bokeh.embed.embed_items_notebook(docs_json, render_items);\n\n  }\n  if (root.Bokeh !== undefined) {\n    embed_document(root);\n  } else {\n    let attempts = 0;\n    const timer = setInterval(function(root) {\n      if (root.Bokeh !== undefined) {\n        clearInterval(timer);\n        embed_document(root);\n      } else {\n        attempts++;\n        if (attempts > 100) {\n          clearInterval(timer);\n          console.log(\"Bokeh: ERROR: Unable to run BokehJS code because BokehJS library is missing\");\n        }\n      }\n    }, 10, root)\n  }\n})(window);",
      "application/vnd.bokehjs_exec.v0+json": ""
     },
     "metadata": {
      "application/vnd.bokehjs_exec.v0+json": {
       "id": "1906"
      }
     },
     "output_type": "display_data"
    }
   ],
   "source": [
    "show(overlapp)"
   ]
  },
  {
   "cell_type": "markdown",
   "metadata": {},
   "source": [
    "### Adding lines"
   ]
  },
  {
   "cell_type": "markdown",
   "metadata": {},
   "source": [
    "Let's connect the means using a line."
   ]
  },
  {
   "cell_type": "markdown",
   "metadata": {},
   "source": [
    "Computing the means (x-values)"
   ]
  },
  {
   "cell_type": "code",
   "execution_count": 23,
   "metadata": {},
   "outputs": [
    {
     "data": {
      "text/plain": [
       "height     53.724878\n",
       "width      65.907805\n",
       "length    174.049268\n",
       "dtype: float64"
      ]
     },
     "execution_count": 23,
     "metadata": {},
     "output_type": "execute_result"
    }
   ],
   "source": [
    "means = df[['height', 'width', 'length']].mean()\n",
    "means"
   ]
  },
  {
   "cell_type": "markdown",
   "metadata": {},
   "source": [
    "Computing the max (y-values)"
   ]
  },
  {
   "cell_type": "code",
   "execution_count": 24,
   "metadata": {},
   "outputs": [
    {
     "data": {
      "text/plain": [
       "[41, 44, 54]"
      ]
     },
     "execution_count": 24,
     "metadata": {},
     "output_type": "execute_result"
    }
   ],
   "source": [
    "top = [arr_h.max(), arr_w.max(), arr_l.max()]\n",
    "top"
   ]
  },
  {
   "cell_type": "code",
   "execution_count": 25,
   "metadata": {},
   "outputs": [
    {
     "data": {
      "text/html": [
       "\n",
       "\n",
       "\n",
       "\n",
       "\n",
       "\n",
       "  <div class=\"bk-root\" id=\"7effb7f6-b78a-419b-9369-1c00424eb96b\" data-root-id=\"1906\"></div>\n"
      ]
     },
     "metadata": {},
     "output_type": "display_data"
    },
    {
     "data": {
      "application/javascript": "(function(root) {\n  function embed_document(root) {\n    \n  const docs_json = {\"3bd2ce17-804a-4bb9-886e-b8b2a62fb3de\":{\"defs\":[],\"roots\":{\"references\":[{\"attributes\":{\"below\":[{\"id\":\"1917\"}],\"center\":[{\"id\":\"1920\"},{\"id\":\"1924\"},{\"id\":\"1955\"}],\"height\":400,\"left\":[{\"id\":\"1921\"}],\"renderers\":[{\"id\":\"1943\"},{\"id\":\"1961\"},{\"id\":\"1980\"},{\"id\":\"2155\"},{\"id\":\"2247\"}],\"title\":{\"id\":\"1907\"},\"toolbar\":{\"id\":\"1932\"},\"toolbar_location\":\"above\",\"x_range\":{\"id\":\"1909\"},\"x_scale\":{\"id\":\"1913\"},\"y_range\":{\"id\":\"1911\"},\"y_scale\":{\"id\":\"1915\"}},\"id\":\"1906\",\"subtype\":\"Figure\",\"type\":\"Plot\"},{\"attributes\":{\"source\":{\"id\":\"2151\"}},\"id\":\"2156\",\"type\":\"CDSView\"},{\"attributes\":{\"tools\":[{\"id\":\"1925\"},{\"id\":\"1926\"},{\"id\":\"1927\"},{\"id\":\"1928\"},{\"id\":\"1929\"},{\"id\":\"1930\"}]},\"id\":\"1932\",\"type\":\"Toolbar\"},{\"attributes\":{\"source\":{\"id\":\"1939\"}},\"id\":\"1944\",\"type\":\"CDSView\"},{\"attributes\":{\"coordinates\":null,\"data_source\":{\"id\":\"1939\"},\"glyph\":{\"id\":\"1940\"},\"group\":null,\"hover_glyph\":null,\"muted_glyph\":{\"id\":\"1942\"},\"nonselection_glyph\":{\"id\":\"1941\"},\"view\":{\"id\":\"1944\"}},\"id\":\"1943\",\"type\":\"GlyphRenderer\"},{\"attributes\":{},\"id\":\"2241\",\"type\":\"Selection\"},{\"attributes\":{},\"id\":\"1922\",\"type\":\"BasicTicker\"},{\"attributes\":{\"coordinates\":null,\"formatter\":{\"id\":\"1947\"},\"group\":null,\"major_label_policy\":{\"id\":\"1948\"},\"ticker\":{\"id\":\"1922\"}},\"id\":\"1921\",\"type\":\"LinearAxis\"},{\"attributes\":{\"data\":{\"x\":{\"__ndarray__\":\"3YzMzcjcSkCal6F5GXpQQLA5GZuTwWVA\",\"dtype\":\"float64\",\"order\":\"little\",\"shape\":[3]},\"y\":[41,44,54]},\"selected\":{\"id\":\"2241\"},\"selection_policy\":{\"id\":\"2240\"}},\"id\":\"2151\",\"type\":\"ColumnDataSource\"},{\"attributes\":{},\"id\":\"1918\",\"type\":\"BasicTicker\"},{\"attributes\":{},\"id\":\"2240\",\"type\":\"UnionRenderers\"},{\"attributes\":{\"coordinates\":null,\"group\":null,\"items\":[{\"id\":\"1956\"},{\"id\":\"1975\"},{\"id\":\"1996\"}]},\"id\":\"1955\",\"type\":\"Legend\"},{\"attributes\":{\"bottom\":{\"value\":0},\"fill_alpha\":{\"value\":0.2},\"fill_color\":{\"value\":\"darkorange\"},\"hatch_alpha\":{\"value\":0.2},\"left\":{\"field\":\"left\"},\"line_alpha\":{\"value\":0.2},\"line_color\":{\"value\":\"darkorange\"},\"right\":{\"field\":\"right\"},\"top\":{\"field\":\"top\"}},\"id\":\"1960\",\"type\":\"Quad\"},{\"attributes\":{},\"id\":\"1951\",\"type\":\"AllLabels\"},{\"attributes\":{},\"id\":\"1915\",\"type\":\"LinearScale\"},{\"attributes\":{\"bottom_units\":\"screen\",\"coordinates\":null,\"fill_alpha\":0.5,\"fill_color\":\"lightgrey\",\"group\":null,\"left_units\":\"screen\",\"level\":\"overlay\",\"line_alpha\":1.0,\"line_color\":\"black\",\"line_dash\":[4,4],\"line_width\":2,\"right_units\":\"screen\",\"syncable\":false,\"top_units\":\"screen\"},\"id\":\"1931\",\"type\":\"BoxAnnotation\"},{\"attributes\":{\"label\":{\"value\":\"width\"},\"renderers\":[{\"id\":\"1961\"}]},\"id\":\"1975\",\"type\":\"LegendItem\"},{\"attributes\":{\"bottom\":{\"value\":0},\"fill_alpha\":{\"value\":0.2},\"fill_color\":{\"value\":\"dodgerblue\"},\"hatch_alpha\":{\"value\":0.2},\"left\":{\"field\":\"left\"},\"line_alpha\":{\"value\":0.2},\"line_color\":{\"value\":\"lightblue\"},\"right\":{\"field\":\"right\"},\"top\":{\"field\":\"top\"}},\"id\":\"1979\",\"type\":\"Quad\"},{\"attributes\":{\"bottom\":{\"value\":0},\"fill_alpha\":{\"value\":0.1},\"fill_color\":{\"value\":\"dodgerblue\"},\"hatch_alpha\":{\"value\":0.1},\"left\":{\"field\":\"left\"},\"line_alpha\":{\"value\":0.1},\"line_color\":{\"value\":\"lightblue\"},\"right\":{\"field\":\"right\"},\"top\":{\"field\":\"top\"}},\"id\":\"1978\",\"type\":\"Quad\"},{\"attributes\":{},\"id\":\"1926\",\"type\":\"WheelZoomTool\"},{\"attributes\":{\"label\":{\"value\":\"length\"},\"renderers\":[{\"id\":\"1943\"}]},\"id\":\"1956\",\"type\":\"LegendItem\"},{\"attributes\":{},\"id\":\"1973\",\"type\":\"Selection\"},{\"attributes\":{},\"id\":\"1947\",\"type\":\"BasicTickFormatter\"},{\"attributes\":{\"label\":{\"value\":\"height\"},\"renderers\":[{\"id\":\"1980\"}]},\"id\":\"1996\",\"type\":\"LegendItem\"},{\"attributes\":{\"bottom\":{\"value\":0},\"fill_alpha\":{\"value\":0.1},\"fill_color\":{\"value\":\"darkorange\"},\"hatch_alpha\":{\"value\":0.1},\"left\":{\"field\":\"left\"},\"line_alpha\":{\"value\":0.1},\"line_color\":{\"value\":\"darkorange\"},\"right\":{\"field\":\"right\"},\"top\":{\"field\":\"top\"}},\"id\":\"1959\",\"type\":\"Quad\"},{\"attributes\":{\"coordinates\":null,\"formatter\":{\"id\":\"1950\"},\"group\":null,\"major_label_policy\":{\"id\":\"1951\"},\"ticker\":{\"id\":\"1918\"}},\"id\":\"1917\",\"type\":\"LinearAxis\"},{\"attributes\":{\"axis\":{\"id\":\"1921\"},\"coordinates\":null,\"dimension\":1,\"group\":null,\"ticker\":null},\"id\":\"1924\",\"type\":\"Grid\"},{\"attributes\":{},\"id\":\"1911\",\"type\":\"DataRange1d\"},{\"attributes\":{},\"id\":\"1993\",\"type\":\"UnionRenderers\"},{\"attributes\":{},\"id\":\"1913\",\"type\":\"LinearScale\"},{\"attributes\":{\"fill_alpha\":{\"value\":0.1},\"fill_color\":{\"value\":\"grey\"},\"hatch_alpha\":{\"value\":0.1},\"line_alpha\":{\"value\":0.1},\"line_color\":{\"value\":\"#1f77b4\"},\"size\":{\"value\":10},\"x\":{\"field\":\"x\"},\"y\":{\"field\":\"y\"}},\"id\":\"2245\",\"type\":\"Circle\"},{\"attributes\":{},\"id\":\"1994\",\"type\":\"Selection\"},{\"attributes\":{},\"id\":\"1972\",\"type\":\"UnionRenderers\"},{\"attributes\":{},\"id\":\"1909\",\"type\":\"DataRange1d\"},{\"attributes\":{\"source\":{\"id\":\"1957\"}},\"id\":\"1962\",\"type\":\"CDSView\"},{\"attributes\":{},\"id\":\"1953\",\"type\":\"Selection\"},{\"attributes\":{\"coordinates\":null,\"data_source\":{\"id\":\"1957\"},\"glyph\":{\"id\":\"1958\"},\"group\":null,\"hover_glyph\":null,\"muted_glyph\":{\"id\":\"1960\"},\"nonselection_glyph\":{\"id\":\"1959\"},\"view\":{\"id\":\"1962\"}},\"id\":\"1961\",\"type\":\"GlyphRenderer\"},{\"attributes\":{\"source\":{\"id\":\"1976\"}},\"id\":\"1981\",\"type\":\"CDSView\"},{\"attributes\":{\"data\":{\"left\":{\"__ndarray__\":\"MzMzMzOjYUCZmZmZmXliQAAAAAAAUGNAZmZmZmYmZEDNzMzMzPxkQDMzMzMz02VAmpmZmZmpZkAAAAAAAIBnQGZmZmZmVmhAzczMzMwsaUA=\",\"dtype\":\"float64\",\"order\":\"little\",\"shape\":[10]},\"right\":{\"__ndarray__\":\"mZmZmZl5YkAAAAAAAFBjQGZmZmZmJmRAzczMzMz8ZEAzMzMzM9NlQJqZmZmZqWZAAAAAAACAZ0BmZmZmZlZoQM3MzMzMLGlAMzMzMzMDakA=\",\"dtype\":\"float64\",\"order\":\"little\",\"shape\":[10]},\"top\":[3,3,29,23,54,39,23,20,8,3]},\"selected\":{\"id\":\"1953\"},\"selection_policy\":{\"id\":\"1952\"}},\"id\":\"1939\",\"type\":\"ColumnDataSource\"},{\"attributes\":{\"bottom\":{\"value\":0},\"fill_alpha\":{\"value\":0.2},\"fill_color\":{\"value\":\"indianred\"},\"hatch_alpha\":{\"value\":0.2},\"left\":{\"field\":\"left\"},\"line_alpha\":{\"value\":0.2},\"line_color\":{\"value\":\"salmon\"},\"right\":{\"field\":\"right\"},\"top\":{\"field\":\"top\"}},\"id\":\"1942\",\"type\":\"Quad\"},{\"attributes\":{\"line_color\":\"grey\",\"line_width\":2,\"x\":{\"field\":\"x\"},\"y\":{\"field\":\"y\"}},\"id\":\"2152\",\"type\":\"Line\"},{\"attributes\":{\"bottom\":{\"value\":0},\"fill_alpha\":{\"value\":0.8},\"fill_color\":{\"value\":\"indianred\"},\"left\":{\"field\":\"left\"},\"line_alpha\":{\"value\":0.8},\"line_color\":{\"value\":\"salmon\"},\"right\":{\"field\":\"right\"},\"top\":{\"field\":\"top\"}},\"id\":\"1940\",\"type\":\"Quad\"},{\"attributes\":{\"bottom\":{\"value\":0},\"fill_alpha\":{\"value\":0.1},\"fill_color\":{\"value\":\"indianred\"},\"hatch_alpha\":{\"value\":0.1},\"left\":{\"field\":\"left\"},\"line_alpha\":{\"value\":0.1},\"line_color\":{\"value\":\"salmon\"},\"right\":{\"field\":\"right\"},\"top\":{\"field\":\"top\"}},\"id\":\"1941\",\"type\":\"Quad\"},{\"attributes\":{\"source\":{\"id\":\"2243\"}},\"id\":\"2248\",\"type\":\"CDSView\"},{\"attributes\":{\"overlay\":{\"id\":\"1931\"}},\"id\":\"1927\",\"type\":\"BoxZoomTool\"},{\"attributes\":{\"line_alpha\":0.1,\"line_color\":\"grey\",\"line_width\":2,\"x\":{\"field\":\"x\"},\"y\":{\"field\":\"y\"}},\"id\":\"2153\",\"type\":\"Line\"},{\"attributes\":{},\"id\":\"1928\",\"type\":\"SaveTool\"},{\"attributes\":{},\"id\":\"1948\",\"type\":\"AllLabels\"},{\"attributes\":{\"coordinates\":null,\"data_source\":{\"id\":\"2243\"},\"glyph\":{\"id\":\"2244\"},\"group\":null,\"hover_glyph\":null,\"muted_glyph\":{\"id\":\"2246\"},\"nonselection_glyph\":{\"id\":\"2245\"},\"view\":{\"id\":\"2248\"}},\"id\":\"2247\",\"type\":\"GlyphRenderer\"},{\"attributes\":{},\"id\":\"1925\",\"type\":\"PanTool\"},{\"attributes\":{\"fill_alpha\":{\"value\":0.2},\"fill_color\":{\"value\":\"grey\"},\"hatch_alpha\":{\"value\":0.2},\"line_alpha\":{\"value\":0.2},\"line_color\":{\"value\":\"#1f77b4\"},\"size\":{\"value\":10},\"x\":{\"field\":\"x\"},\"y\":{\"field\":\"y\"}},\"id\":\"2246\",\"type\":\"Circle\"},{\"attributes\":{},\"id\":\"1929\",\"type\":\"ResetTool\"},{\"attributes\":{\"data\":{\"left\":{\"__ndarray__\":\"ZmZmZmYmTkAAAAAAAMBOQJmZmZmZWU9AMzMzMzPzT0BmZmZmZkZQQDMzMzMzk1BAAAAAAADgUEDNzMzMzCxRQJmZmZmZeVFAZmZmZmbGUUA=\",\"dtype\":\"float64\",\"order\":\"little\",\"shape\":[10]},\"right\":{\"__ndarray__\":\"AAAAAADATkCZmZmZmVlPQDMzMzMz809AZmZmZmZGUEAzMzMzM5NQQAAAAAAA4FBAzczMzMwsUUCZmZmZmXlRQGZmZmZmxlFAMzMzMzMTUkA=\",\"dtype\":\"float64\",\"order\":\"little\",\"shape\":[10]},\"top\":[1,2,36,39,44,42,20,7,6,8]},\"selected\":{\"id\":\"1973\"},\"selection_policy\":{\"id\":\"1972\"}},\"id\":\"1957\",\"type\":\"ColumnDataSource\"},{\"attributes\":{},\"id\":\"1950\",\"type\":\"BasicTickFormatter\"},{\"attributes\":{\"coordinates\":null,\"data_source\":{\"id\":\"1976\"},\"glyph\":{\"id\":\"1977\"},\"group\":null,\"hover_glyph\":null,\"muted_glyph\":{\"id\":\"1979\"},\"nonselection_glyph\":{\"id\":\"1978\"},\"view\":{\"id\":\"1981\"}},\"id\":\"1980\",\"type\":\"GlyphRenderer\"},{\"attributes\":{\"line_alpha\":0.2,\"line_color\":\"grey\",\"line_width\":2,\"x\":{\"field\":\"x\"},\"y\":{\"field\":\"y\"}},\"id\":\"2154\",\"type\":\"Line\"},{\"attributes\":{\"fill_color\":{\"value\":\"grey\"},\"line_color\":{\"value\":\"#1f77b4\"},\"size\":{\"value\":10},\"x\":{\"field\":\"x\"},\"y\":{\"field\":\"y\"}},\"id\":\"2244\",\"type\":\"Circle\"},{\"attributes\":{\"bottom\":{\"value\":0},\"fill_alpha\":{\"value\":0.8},\"fill_color\":{\"value\":\"darkorange\"},\"left\":{\"field\":\"left\"},\"line_alpha\":{\"value\":0.8},\"line_color\":{\"value\":\"darkorange\"},\"right\":{\"field\":\"right\"},\"top\":{\"field\":\"top\"}},\"id\":\"1958\",\"type\":\"Quad\"},{\"attributes\":{\"data\":{\"left\":{\"__ndarray__\":\"ZmZmZmbmR0AAAAAAAIBIQJmZmZmZGUlAMzMzMzOzSUDMzMzMzExKQGZmZmZm5kpAAAAAAACAS0CZmZmZmRlMQDMzMzMzs0xAzMzMzMxMTUA=\",\"dtype\":\"float64\",\"order\":\"little\",\"shape\":[10]},\"right\":{\"__ndarray__\":\"AAAAAACASECZmZmZmRlJQDMzMzMzs0lAzMzMzMxMSkBmZmZmZuZKQAAAAAAAgEtAmZmZmZkZTEAzMzMzM7NMQMzMzMzMTE1AZmZmZmbmTUA=\",\"dtype\":\"float64\",\"order\":\"little\",\"shape\":[10]},\"top\":[3,9,28,25,33,41,38,15,4,9]},\"selected\":{\"id\":\"1994\"},\"selection_policy\":{\"id\":\"1993\"}},\"id\":\"1976\",\"type\":\"ColumnDataSource\"},{\"attributes\":{\"axis\":{\"id\":\"1917\"},\"coordinates\":null,\"group\":null,\"ticker\":null},\"id\":\"1920\",\"type\":\"Grid\"},{\"attributes\":{\"data\":{\"x\":{\"__ndarray__\":\"3YzMzcjcSkCal6F5GXpQQLA5GZuTwWVA\",\"dtype\":\"float64\",\"order\":\"little\",\"shape\":[3]},\"y\":[41,44,54]},\"selected\":{\"id\":\"2335\"},\"selection_policy\":{\"id\":\"2334\"}},\"id\":\"2243\",\"type\":\"ColumnDataSource\"},{\"attributes\":{},\"id\":\"1930\",\"type\":\"HelpTool\"},{\"attributes\":{\"coordinates\":null,\"group\":null,\"text\":\"Histograms\"},\"id\":\"1907\",\"type\":\"Title\"},{\"attributes\":{},\"id\":\"1952\",\"type\":\"UnionRenderers\"},{\"attributes\":{\"bottom\":{\"value\":0},\"fill_alpha\":{\"value\":0.8},\"fill_color\":{\"value\":\"dodgerblue\"},\"left\":{\"field\":\"left\"},\"line_alpha\":{\"value\":0.8},\"line_color\":{\"value\":\"lightblue\"},\"right\":{\"field\":\"right\"},\"top\":{\"field\":\"top\"}},\"id\":\"1977\",\"type\":\"Quad\"},{\"attributes\":{},\"id\":\"2335\",\"type\":\"Selection\"},{\"attributes\":{\"coordinates\":null,\"data_source\":{\"id\":\"2151\"},\"glyph\":{\"id\":\"2152\"},\"group\":null,\"hover_glyph\":null,\"muted_glyph\":{\"id\":\"2154\"},\"nonselection_glyph\":{\"id\":\"2153\"},\"view\":{\"id\":\"2156\"}},\"id\":\"2155\",\"type\":\"GlyphRenderer\"},{\"attributes\":{},\"id\":\"2334\",\"type\":\"UnionRenderers\"}],\"root_ids\":[\"1906\"]},\"title\":\"Bokeh Application\",\"version\":\"2.4.2\"}};\n  const render_items = [{\"docid\":\"3bd2ce17-804a-4bb9-886e-b8b2a62fb3de\",\"root_ids\":[\"1906\"],\"roots\":{\"1906\":\"7effb7f6-b78a-419b-9369-1c00424eb96b\"}}];\n  root.Bokeh.embed.embed_items_notebook(docs_json, render_items);\n\n  }\n  if (root.Bokeh !== undefined) {\n    embed_document(root);\n  } else {\n    let attempts = 0;\n    const timer = setInterval(function(root) {\n      if (root.Bokeh !== undefined) {\n        clearInterval(timer);\n        embed_document(root);\n      } else {\n        attempts++;\n        if (attempts > 100) {\n          clearInterval(timer);\n          console.log(\"Bokeh: ERROR: Unable to run BokehJS code because BokehJS library is missing\");\n        }\n      }\n    }, 10, root)\n  }\n})(window);",
      "application/vnd.bokehjs_exec.v0+json": ""
     },
     "metadata": {
      "application/vnd.bokehjs_exec.v0+json": {
       "id": "1906"
      }
     },
     "output_type": "display_data"
    }
   ],
   "source": [
    "overlapp.line(x=means, y=top, color=\"grey\", line_width=2)\n",
    "overlapp.circle(x=means, y=top,  fill_color = \"grey\", size=10)\n",
    "show(overlapp)"
   ]
  },
  {
   "cell_type": "markdown",
   "metadata": {},
   "source": [
    "### Adding annotations"
   ]
  },
  {
   "cell_type": "markdown",
   "metadata": {},
   "source": [
    "Annotations are visual features that we add to our graph to make it easier to read. "
   ]
  },
  {
   "cell_type": "code",
   "execution_count": 26,
   "metadata": {},
   "outputs": [],
   "source": [
    "from bokeh.models import BoxAnnotation"
   ]
  },
  {
   "cell_type": "code",
   "execution_count": 27,
   "metadata": {},
   "outputs": [],
   "source": [
    "low_box = BoxAnnotation(top=20,             fill_alpha=0.2, fill_color=\"powderblue\")\n",
    "mid_box = BoxAnnotation(bottom=20, top=40,  fill_alpha=0.2, fill_color=\"beige\")\n",
    "high_box = BoxAnnotation(bottom=40,         fill_alpha=0.2, fill_color=\"powderblue\")"
   ]
  },
  {
   "cell_type": "code",
   "execution_count": 28,
   "metadata": {},
   "outputs": [
    {
     "data": {
      "text/html": [
       "\n",
       "\n",
       "\n",
       "\n",
       "\n",
       "\n",
       "  <div class=\"bk-root\" id=\"c95cd90d-a68a-41c6-b990-54be92e52c67\" data-root-id=\"1906\"></div>\n"
      ]
     },
     "metadata": {},
     "output_type": "display_data"
    },
    {
     "data": {
      "application/javascript": "(function(root) {\n  function embed_document(root) {\n    \n  const docs_json = {\"09f3dd12-dc5c-487f-885c-d9a1912bb21a\":{\"defs\":[],\"roots\":{\"references\":[{\"attributes\":{\"below\":[{\"id\":\"1917\"}],\"center\":[{\"id\":\"1920\"},{\"id\":\"1924\"},{\"id\":\"1955\"},{\"id\":\"2427\"},{\"id\":\"2428\"},{\"id\":\"2429\"}],\"height\":400,\"left\":[{\"id\":\"1921\"}],\"renderers\":[{\"id\":\"1943\"},{\"id\":\"1961\"},{\"id\":\"1980\"},{\"id\":\"2155\"},{\"id\":\"2247\"}],\"title\":{\"id\":\"1907\"},\"toolbar\":{\"id\":\"1932\"},\"toolbar_location\":\"above\",\"x_range\":{\"id\":\"1909\"},\"x_scale\":{\"id\":\"1913\"},\"y_range\":{\"id\":\"1911\"},\"y_scale\":{\"id\":\"1915\"}},\"id\":\"1906\",\"subtype\":\"Figure\",\"type\":\"Plot\"},{\"attributes\":{\"source\":{\"id\":\"2151\"}},\"id\":\"2156\",\"type\":\"CDSView\"},{\"attributes\":{\"tools\":[{\"id\":\"1925\"},{\"id\":\"1926\"},{\"id\":\"1927\"},{\"id\":\"1928\"},{\"id\":\"1929\"},{\"id\":\"1930\"}]},\"id\":\"1932\",\"type\":\"Toolbar\"},{\"attributes\":{\"source\":{\"id\":\"1939\"}},\"id\":\"1944\",\"type\":\"CDSView\"},{\"attributes\":{\"coordinates\":null,\"data_source\":{\"id\":\"1939\"},\"glyph\":{\"id\":\"1940\"},\"group\":null,\"hover_glyph\":null,\"muted_glyph\":{\"id\":\"1942\"},\"nonselection_glyph\":{\"id\":\"1941\"},\"view\":{\"id\":\"1944\"}},\"id\":\"1943\",\"type\":\"GlyphRenderer\"},{\"attributes\":{},\"id\":\"2241\",\"type\":\"Selection\"},{\"attributes\":{},\"id\":\"1922\",\"type\":\"BasicTicker\"},{\"attributes\":{\"coordinates\":null,\"formatter\":{\"id\":\"1947\"},\"group\":null,\"major_label_policy\":{\"id\":\"1948\"},\"ticker\":{\"id\":\"1922\"}},\"id\":\"1921\",\"type\":\"LinearAxis\"},{\"attributes\":{\"data\":{\"x\":{\"__ndarray__\":\"3YzMzcjcSkCal6F5GXpQQLA5GZuTwWVA\",\"dtype\":\"float64\",\"order\":\"little\",\"shape\":[3]},\"y\":[41,44,54]},\"selected\":{\"id\":\"2241\"},\"selection_policy\":{\"id\":\"2240\"}},\"id\":\"2151\",\"type\":\"ColumnDataSource\"},{\"attributes\":{},\"id\":\"1918\",\"type\":\"BasicTicker\"},{\"attributes\":{},\"id\":\"2240\",\"type\":\"UnionRenderers\"},{\"attributes\":{\"coordinates\":null,\"group\":null,\"items\":[{\"id\":\"1956\"},{\"id\":\"1975\"},{\"id\":\"1996\"}]},\"id\":\"1955\",\"type\":\"Legend\"},{\"attributes\":{\"bottom\":{\"value\":0},\"fill_alpha\":{\"value\":0.2},\"fill_color\":{\"value\":\"darkorange\"},\"hatch_alpha\":{\"value\":0.2},\"left\":{\"field\":\"left\"},\"line_alpha\":{\"value\":0.2},\"line_color\":{\"value\":\"darkorange\"},\"right\":{\"field\":\"right\"},\"top\":{\"field\":\"top\"}},\"id\":\"1960\",\"type\":\"Quad\"},{\"attributes\":{},\"id\":\"1951\",\"type\":\"AllLabels\"},{\"attributes\":{},\"id\":\"1915\",\"type\":\"LinearScale\"},{\"attributes\":{\"bottom_units\":\"screen\",\"coordinates\":null,\"fill_alpha\":0.5,\"fill_color\":\"lightgrey\",\"group\":null,\"left_units\":\"screen\",\"level\":\"overlay\",\"line_alpha\":1.0,\"line_color\":\"black\",\"line_dash\":[4,4],\"line_width\":2,\"right_units\":\"screen\",\"syncable\":false,\"top_units\":\"screen\"},\"id\":\"1931\",\"type\":\"BoxAnnotation\"},{\"attributes\":{\"label\":{\"value\":\"width\"},\"renderers\":[{\"id\":\"1961\"}]},\"id\":\"1975\",\"type\":\"LegendItem\"},{\"attributes\":{\"bottom\":{\"value\":0},\"fill_alpha\":{\"value\":0.2},\"fill_color\":{\"value\":\"dodgerblue\"},\"hatch_alpha\":{\"value\":0.2},\"left\":{\"field\":\"left\"},\"line_alpha\":{\"value\":0.2},\"line_color\":{\"value\":\"lightblue\"},\"right\":{\"field\":\"right\"},\"top\":{\"field\":\"top\"}},\"id\":\"1979\",\"type\":\"Quad\"},{\"attributes\":{\"bottom\":{\"value\":0},\"fill_alpha\":{\"value\":0.1},\"fill_color\":{\"value\":\"dodgerblue\"},\"hatch_alpha\":{\"value\":0.1},\"left\":{\"field\":\"left\"},\"line_alpha\":{\"value\":0.1},\"line_color\":{\"value\":\"lightblue\"},\"right\":{\"field\":\"right\"},\"top\":{\"field\":\"top\"}},\"id\":\"1978\",\"type\":\"Quad\"},{\"attributes\":{},\"id\":\"1926\",\"type\":\"WheelZoomTool\"},{\"attributes\":{\"label\":{\"value\":\"length\"},\"renderers\":[{\"id\":\"1943\"}]},\"id\":\"1956\",\"type\":\"LegendItem\"},{\"attributes\":{},\"id\":\"1973\",\"type\":\"Selection\"},{\"attributes\":{},\"id\":\"1947\",\"type\":\"BasicTickFormatter\"},{\"attributes\":{\"label\":{\"value\":\"height\"},\"renderers\":[{\"id\":\"1980\"}]},\"id\":\"1996\",\"type\":\"LegendItem\"},{\"attributes\":{\"bottom\":{\"value\":0},\"fill_alpha\":{\"value\":0.1},\"fill_color\":{\"value\":\"darkorange\"},\"hatch_alpha\":{\"value\":0.1},\"left\":{\"field\":\"left\"},\"line_alpha\":{\"value\":0.1},\"line_color\":{\"value\":\"darkorange\"},\"right\":{\"field\":\"right\"},\"top\":{\"field\":\"top\"}},\"id\":\"1959\",\"type\":\"Quad\"},{\"attributes\":{\"coordinates\":null,\"formatter\":{\"id\":\"1950\"},\"group\":null,\"major_label_policy\":{\"id\":\"1951\"},\"ticker\":{\"id\":\"1918\"}},\"id\":\"1917\",\"type\":\"LinearAxis\"},{\"attributes\":{\"axis\":{\"id\":\"1921\"},\"coordinates\":null,\"dimension\":1,\"group\":null,\"ticker\":null},\"id\":\"1924\",\"type\":\"Grid\"},{\"attributes\":{},\"id\":\"1911\",\"type\":\"DataRange1d\"},{\"attributes\":{},\"id\":\"1993\",\"type\":\"UnionRenderers\"},{\"attributes\":{},\"id\":\"1913\",\"type\":\"LinearScale\"},{\"attributes\":{\"fill_alpha\":{\"value\":0.1},\"fill_color\":{\"value\":\"grey\"},\"hatch_alpha\":{\"value\":0.1},\"line_alpha\":{\"value\":0.1},\"line_color\":{\"value\":\"#1f77b4\"},\"size\":{\"value\":10},\"x\":{\"field\":\"x\"},\"y\":{\"field\":\"y\"}},\"id\":\"2245\",\"type\":\"Circle\"},{\"attributes\":{},\"id\":\"1994\",\"type\":\"Selection\"},{\"attributes\":{},\"id\":\"1972\",\"type\":\"UnionRenderers\"},{\"attributes\":{},\"id\":\"1909\",\"type\":\"DataRange1d\"},{\"attributes\":{\"coordinates\":null,\"fill_alpha\":0.2,\"fill_color\":\"powderblue\",\"group\":null,\"top\":20},\"id\":\"2427\",\"type\":\"BoxAnnotation\"},{\"attributes\":{\"source\":{\"id\":\"1957\"}},\"id\":\"1962\",\"type\":\"CDSView\"},{\"attributes\":{},\"id\":\"1953\",\"type\":\"Selection\"},{\"attributes\":{\"coordinates\":null,\"data_source\":{\"id\":\"1957\"},\"glyph\":{\"id\":\"1958\"},\"group\":null,\"hover_glyph\":null,\"muted_glyph\":{\"id\":\"1960\"},\"nonselection_glyph\":{\"id\":\"1959\"},\"view\":{\"id\":\"1962\"}},\"id\":\"1961\",\"type\":\"GlyphRenderer\"},{\"attributes\":{\"bottom\":40,\"coordinates\":null,\"fill_alpha\":0.2,\"fill_color\":\"powderblue\",\"group\":null},\"id\":\"2429\",\"type\":\"BoxAnnotation\"},{\"attributes\":{\"bottom\":20,\"coordinates\":null,\"fill_alpha\":0.2,\"fill_color\":\"beige\",\"group\":null,\"top\":40},\"id\":\"2428\",\"type\":\"BoxAnnotation\"},{\"attributes\":{\"data\":{\"left\":{\"__ndarray__\":\"MzMzMzOjYUCZmZmZmXliQAAAAAAAUGNAZmZmZmYmZEDNzMzMzPxkQDMzMzMz02VAmpmZmZmpZkAAAAAAAIBnQGZmZmZmVmhAzczMzMwsaUA=\",\"dtype\":\"float64\",\"order\":\"little\",\"shape\":[10]},\"right\":{\"__ndarray__\":\"mZmZmZl5YkAAAAAAAFBjQGZmZmZmJmRAzczMzMz8ZEAzMzMzM9NlQJqZmZmZqWZAAAAAAACAZ0BmZmZmZlZoQM3MzMzMLGlAMzMzMzMDakA=\",\"dtype\":\"float64\",\"order\":\"little\",\"shape\":[10]},\"top\":[3,3,29,23,54,39,23,20,8,3]},\"selected\":{\"id\":\"1953\"},\"selection_policy\":{\"id\":\"1952\"}},\"id\":\"1939\",\"type\":\"ColumnDataSource\"},{\"attributes\":{\"source\":{\"id\":\"1976\"}},\"id\":\"1981\",\"type\":\"CDSView\"},{\"attributes\":{\"bottom\":{\"value\":0},\"fill_alpha\":{\"value\":0.2},\"fill_color\":{\"value\":\"indianred\"},\"hatch_alpha\":{\"value\":0.2},\"left\":{\"field\":\"left\"},\"line_alpha\":{\"value\":0.2},\"line_color\":{\"value\":\"salmon\"},\"right\":{\"field\":\"right\"},\"top\":{\"field\":\"top\"}},\"id\":\"1942\",\"type\":\"Quad\"},{\"attributes\":{\"line_color\":\"grey\",\"line_width\":2,\"x\":{\"field\":\"x\"},\"y\":{\"field\":\"y\"}},\"id\":\"2152\",\"type\":\"Line\"},{\"attributes\":{\"bottom\":{\"value\":0},\"fill_alpha\":{\"value\":0.8},\"fill_color\":{\"value\":\"indianred\"},\"left\":{\"field\":\"left\"},\"line_alpha\":{\"value\":0.8},\"line_color\":{\"value\":\"salmon\"},\"right\":{\"field\":\"right\"},\"top\":{\"field\":\"top\"}},\"id\":\"1940\",\"type\":\"Quad\"},{\"attributes\":{\"bottom\":{\"value\":0},\"fill_alpha\":{\"value\":0.1},\"fill_color\":{\"value\":\"indianred\"},\"hatch_alpha\":{\"value\":0.1},\"left\":{\"field\":\"left\"},\"line_alpha\":{\"value\":0.1},\"line_color\":{\"value\":\"salmon\"},\"right\":{\"field\":\"right\"},\"top\":{\"field\":\"top\"}},\"id\":\"1941\",\"type\":\"Quad\"},{\"attributes\":{\"source\":{\"id\":\"2243\"}},\"id\":\"2248\",\"type\":\"CDSView\"},{\"attributes\":{\"overlay\":{\"id\":\"1931\"}},\"id\":\"1927\",\"type\":\"BoxZoomTool\"},{\"attributes\":{\"line_alpha\":0.1,\"line_color\":\"grey\",\"line_width\":2,\"x\":{\"field\":\"x\"},\"y\":{\"field\":\"y\"}},\"id\":\"2153\",\"type\":\"Line\"},{\"attributes\":{},\"id\":\"1928\",\"type\":\"SaveTool\"},{\"attributes\":{},\"id\":\"1948\",\"type\":\"AllLabels\"},{\"attributes\":{\"coordinates\":null,\"data_source\":{\"id\":\"2243\"},\"glyph\":{\"id\":\"2244\"},\"group\":null,\"hover_glyph\":null,\"muted_glyph\":{\"id\":\"2246\"},\"nonselection_glyph\":{\"id\":\"2245\"},\"view\":{\"id\":\"2248\"}},\"id\":\"2247\",\"type\":\"GlyphRenderer\"},{\"attributes\":{},\"id\":\"1925\",\"type\":\"PanTool\"},{\"attributes\":{\"fill_alpha\":{\"value\":0.2},\"fill_color\":{\"value\":\"grey\"},\"hatch_alpha\":{\"value\":0.2},\"line_alpha\":{\"value\":0.2},\"line_color\":{\"value\":\"#1f77b4\"},\"size\":{\"value\":10},\"x\":{\"field\":\"x\"},\"y\":{\"field\":\"y\"}},\"id\":\"2246\",\"type\":\"Circle\"},{\"attributes\":{},\"id\":\"1929\",\"type\":\"ResetTool\"},{\"attributes\":{\"data\":{\"left\":{\"__ndarray__\":\"ZmZmZmYmTkAAAAAAAMBOQJmZmZmZWU9AMzMzMzPzT0BmZmZmZkZQQDMzMzMzk1BAAAAAAADgUEDNzMzMzCxRQJmZmZmZeVFAZmZmZmbGUUA=\",\"dtype\":\"float64\",\"order\":\"little\",\"shape\":[10]},\"right\":{\"__ndarray__\":\"AAAAAADATkCZmZmZmVlPQDMzMzMz809AZmZmZmZGUEAzMzMzM5NQQAAAAAAA4FBAzczMzMwsUUCZmZmZmXlRQGZmZmZmxlFAMzMzMzMTUkA=\",\"dtype\":\"float64\",\"order\":\"little\",\"shape\":[10]},\"top\":[1,2,36,39,44,42,20,7,6,8]},\"selected\":{\"id\":\"1973\"},\"selection_policy\":{\"id\":\"1972\"}},\"id\":\"1957\",\"type\":\"ColumnDataSource\"},{\"attributes\":{},\"id\":\"1950\",\"type\":\"BasicTickFormatter\"},{\"attributes\":{\"coordinates\":null,\"data_source\":{\"id\":\"1976\"},\"glyph\":{\"id\":\"1977\"},\"group\":null,\"hover_glyph\":null,\"muted_glyph\":{\"id\":\"1979\"},\"nonselection_glyph\":{\"id\":\"1978\"},\"view\":{\"id\":\"1981\"}},\"id\":\"1980\",\"type\":\"GlyphRenderer\"},{\"attributes\":{\"line_alpha\":0.2,\"line_color\":\"grey\",\"line_width\":2,\"x\":{\"field\":\"x\"},\"y\":{\"field\":\"y\"}},\"id\":\"2154\",\"type\":\"Line\"},{\"attributes\":{\"fill_color\":{\"value\":\"grey\"},\"line_color\":{\"value\":\"#1f77b4\"},\"size\":{\"value\":10},\"x\":{\"field\":\"x\"},\"y\":{\"field\":\"y\"}},\"id\":\"2244\",\"type\":\"Circle\"},{\"attributes\":{\"bottom\":{\"value\":0},\"fill_alpha\":{\"value\":0.8},\"fill_color\":{\"value\":\"darkorange\"},\"left\":{\"field\":\"left\"},\"line_alpha\":{\"value\":0.8},\"line_color\":{\"value\":\"darkorange\"},\"right\":{\"field\":\"right\"},\"top\":{\"field\":\"top\"}},\"id\":\"1958\",\"type\":\"Quad\"},{\"attributes\":{\"data\":{\"left\":{\"__ndarray__\":\"ZmZmZmbmR0AAAAAAAIBIQJmZmZmZGUlAMzMzMzOzSUDMzMzMzExKQGZmZmZm5kpAAAAAAACAS0CZmZmZmRlMQDMzMzMzs0xAzMzMzMxMTUA=\",\"dtype\":\"float64\",\"order\":\"little\",\"shape\":[10]},\"right\":{\"__ndarray__\":\"AAAAAACASECZmZmZmRlJQDMzMzMzs0lAzMzMzMxMSkBmZmZmZuZKQAAAAAAAgEtAmZmZmZkZTEAzMzMzM7NMQMzMzMzMTE1AZmZmZmbmTUA=\",\"dtype\":\"float64\",\"order\":\"little\",\"shape\":[10]},\"top\":[3,9,28,25,33,41,38,15,4,9]},\"selected\":{\"id\":\"1994\"},\"selection_policy\":{\"id\":\"1993\"}},\"id\":\"1976\",\"type\":\"ColumnDataSource\"},{\"attributes\":{\"axis\":{\"id\":\"1917\"},\"coordinates\":null,\"group\":null,\"ticker\":null},\"id\":\"1920\",\"type\":\"Grid\"},{\"attributes\":{\"data\":{\"x\":{\"__ndarray__\":\"3YzMzcjcSkCal6F5GXpQQLA5GZuTwWVA\",\"dtype\":\"float64\",\"order\":\"little\",\"shape\":[3]},\"y\":[41,44,54]},\"selected\":{\"id\":\"2335\"},\"selection_policy\":{\"id\":\"2334\"}},\"id\":\"2243\",\"type\":\"ColumnDataSource\"},{\"attributes\":{},\"id\":\"1930\",\"type\":\"HelpTool\"},{\"attributes\":{\"coordinates\":null,\"group\":null,\"text\":\"Histograms\"},\"id\":\"1907\",\"type\":\"Title\"},{\"attributes\":{},\"id\":\"1952\",\"type\":\"UnionRenderers\"},{\"attributes\":{\"bottom\":{\"value\":0},\"fill_alpha\":{\"value\":0.8},\"fill_color\":{\"value\":\"dodgerblue\"},\"left\":{\"field\":\"left\"},\"line_alpha\":{\"value\":0.8},\"line_color\":{\"value\":\"lightblue\"},\"right\":{\"field\":\"right\"},\"top\":{\"field\":\"top\"}},\"id\":\"1977\",\"type\":\"Quad\"},{\"attributes\":{},\"id\":\"2335\",\"type\":\"Selection\"},{\"attributes\":{\"coordinates\":null,\"data_source\":{\"id\":\"2151\"},\"glyph\":{\"id\":\"2152\"},\"group\":null,\"hover_glyph\":null,\"muted_glyph\":{\"id\":\"2154\"},\"nonselection_glyph\":{\"id\":\"2153\"},\"view\":{\"id\":\"2156\"}},\"id\":\"2155\",\"type\":\"GlyphRenderer\"},{\"attributes\":{},\"id\":\"2334\",\"type\":\"UnionRenderers\"}],\"root_ids\":[\"1906\"]},\"title\":\"Bokeh Application\",\"version\":\"2.4.2\"}};\n  const render_items = [{\"docid\":\"09f3dd12-dc5c-487f-885c-d9a1912bb21a\",\"root_ids\":[\"1906\"],\"roots\":{\"1906\":\"c95cd90d-a68a-41c6-b990-54be92e52c67\"}}];\n  root.Bokeh.embed.embed_items_notebook(docs_json, render_items);\n\n  }\n  if (root.Bokeh !== undefined) {\n    embed_document(root);\n  } else {\n    let attempts = 0;\n    const timer = setInterval(function(root) {\n      if (root.Bokeh !== undefined) {\n        clearInterval(timer);\n        embed_document(root);\n      } else {\n        attempts++;\n        if (attempts > 100) {\n          clearInterval(timer);\n          console.log(\"Bokeh: ERROR: Unable to run BokehJS code because BokehJS library is missing\");\n        }\n      }\n    }, 10, root)\n  }\n})(window);",
      "application/vnd.bokehjs_exec.v0+json": ""
     },
     "metadata": {
      "application/vnd.bokehjs_exec.v0+json": {
       "id": "1906"
      }
     },
     "output_type": "display_data"
    }
   ],
   "source": [
    "# Adding the BoxAnnotation objects to our figure\n",
    "overlapp.add_layout(low_box)\n",
    "overlapp.add_layout(mid_box)\n",
    "overlapp.add_layout(high_box)\n",
    "show(overlapp)"
   ]
  },
  {
   "cell_type": "markdown",
   "metadata": {},
   "source": [
    "## Pie Charts"
   ]
  },
  {
   "cell_type": "markdown",
   "metadata": {},
   "source": [
    "A pie chart is another way to show numerical proportions. In Bokeh, you can use the `wedge()` method for displaying a pie chart."
   ]
  },
  {
   "cell_type": "code",
   "execution_count": 29,
   "metadata": {},
   "outputs": [
    {
     "data": {
      "text/plain": [
       "sedan          96\n",
       "hatchback      70\n",
       "wagon          25\n",
       "hardtop         8\n",
       "convertible     6\n",
       "Name: body_style, dtype: int64"
      ]
     },
     "execution_count": 29,
     "metadata": {},
     "output_type": "execute_result"
    }
   ],
   "source": [
    "df.body_style.value_counts()"
   ]
  },
  {
   "cell_type": "code",
   "execution_count": 30,
   "metadata": {},
   "outputs": [
    {
     "data": {
      "text/html": [
       "<div>\n",
       "<style scoped>\n",
       "    .dataframe tbody tr th:only-of-type {\n",
       "        vertical-align: middle;\n",
       "    }\n",
       "\n",
       "    .dataframe tbody tr th {\n",
       "        vertical-align: top;\n",
       "    }\n",
       "\n",
       "    .dataframe thead th {\n",
       "        text-align: right;\n",
       "    }\n",
       "</style>\n",
       "<table border=\"1\" class=\"dataframe\">\n",
       "  <thead>\n",
       "    <tr style=\"text-align: right;\">\n",
       "      <th></th>\n",
       "      <th>body_style</th>\n",
       "      <th>number_cars</th>\n",
       "    </tr>\n",
       "  </thead>\n",
       "  <tbody>\n",
       "    <tr>\n",
       "      <th>0</th>\n",
       "      <td>sedan</td>\n",
       "      <td>96</td>\n",
       "    </tr>\n",
       "    <tr>\n",
       "      <th>1</th>\n",
       "      <td>hatchback</td>\n",
       "      <td>70</td>\n",
       "    </tr>\n",
       "    <tr>\n",
       "      <th>2</th>\n",
       "      <td>wagon</td>\n",
       "      <td>25</td>\n",
       "    </tr>\n",
       "    <tr>\n",
       "      <th>3</th>\n",
       "      <td>hardtop</td>\n",
       "      <td>8</td>\n",
       "    </tr>\n",
       "    <tr>\n",
       "      <th>4</th>\n",
       "      <td>convertible</td>\n",
       "      <td>6</td>\n",
       "    </tr>\n",
       "  </tbody>\n",
       "</table>\n",
       "</div>"
      ],
      "text/plain": [
       "    body_style  number_cars\n",
       "0        sedan           96\n",
       "1    hatchback           70\n",
       "2        wagon           25\n",
       "3      hardtop            8\n",
       "4  convertible            6"
      ]
     },
     "execution_count": 30,
     "metadata": {},
     "output_type": "execute_result"
    }
   ],
   "source": [
    "bs = pd.DataFrame()\n",
    "bs['body_style']  = df.body_style.value_counts().index\n",
    "bs['number_cars'] = df.body_style.value_counts().values\n",
    "bs"
   ]
  },
  {
   "cell_type": "markdown",
   "metadata": {},
   "source": [
    "You need to compute the angle of each slide."
   ]
  },
  {
   "cell_type": "code",
   "execution_count": 31,
   "metadata": {},
   "outputs": [],
   "source": [
    "from math import pi"
   ]
  },
  {
   "cell_type": "code",
   "execution_count": 32,
   "metadata": {},
   "outputs": [
    {
     "data": {
      "text/html": [
       "<div>\n",
       "<style scoped>\n",
       "    .dataframe tbody tr th:only-of-type {\n",
       "        vertical-align: middle;\n",
       "    }\n",
       "\n",
       "    .dataframe tbody tr th {\n",
       "        vertical-align: top;\n",
       "    }\n",
       "\n",
       "    .dataframe thead th {\n",
       "        text-align: right;\n",
       "    }\n",
       "</style>\n",
       "<table border=\"1\" class=\"dataframe\">\n",
       "  <thead>\n",
       "    <tr style=\"text-align: right;\">\n",
       "      <th></th>\n",
       "      <th>body_style</th>\n",
       "      <th>number_cars</th>\n",
       "      <th>angles</th>\n",
       "    </tr>\n",
       "  </thead>\n",
       "  <tbody>\n",
       "    <tr>\n",
       "      <th>0</th>\n",
       "      <td>sedan</td>\n",
       "      <td>96</td>\n",
       "      <td>2.942370</td>\n",
       "    </tr>\n",
       "    <tr>\n",
       "      <th>1</th>\n",
       "      <td>hatchback</td>\n",
       "      <td>70</td>\n",
       "      <td>2.145478</td>\n",
       "    </tr>\n",
       "    <tr>\n",
       "      <th>2</th>\n",
       "      <td>wagon</td>\n",
       "      <td>25</td>\n",
       "      <td>0.766242</td>\n",
       "    </tr>\n",
       "    <tr>\n",
       "      <th>3</th>\n",
       "      <td>hardtop</td>\n",
       "      <td>8</td>\n",
       "      <td>0.245197</td>\n",
       "    </tr>\n",
       "    <tr>\n",
       "      <th>4</th>\n",
       "      <td>convertible</td>\n",
       "      <td>6</td>\n",
       "      <td>0.183898</td>\n",
       "    </tr>\n",
       "  </tbody>\n",
       "</table>\n",
       "</div>"
      ],
      "text/plain": [
       "    body_style  number_cars    angles\n",
       "0        sedan           96  2.942370\n",
       "1    hatchback           70  2.145478\n",
       "2        wagon           25  0.766242\n",
       "3      hardtop            8  0.245197\n",
       "4  convertible            6  0.183898"
      ]
     },
     "execution_count": 32,
     "metadata": {},
     "output_type": "execute_result"
    }
   ],
   "source": [
    "bs['angles'] = bs.number_cars / bs.number_cars.sum() * 2*pi\n",
    "bs"
   ]
  },
  {
   "cell_type": "markdown",
   "metadata": {},
   "source": [
    "And we can add colors"
   ]
  },
  {
   "cell_type": "code",
   "execution_count": 33,
   "metadata": {},
   "outputs": [],
   "source": [
    "from bokeh.palettes import Bokeh"
   ]
  },
  {
   "cell_type": "code",
   "execution_count": 34,
   "metadata": {},
   "outputs": [
    {
     "data": {
      "text/html": [
       "<div>\n",
       "<style scoped>\n",
       "    .dataframe tbody tr th:only-of-type {\n",
       "        vertical-align: middle;\n",
       "    }\n",
       "\n",
       "    .dataframe tbody tr th {\n",
       "        vertical-align: top;\n",
       "    }\n",
       "\n",
       "    .dataframe thead th {\n",
       "        text-align: right;\n",
       "    }\n",
       "</style>\n",
       "<table border=\"1\" class=\"dataframe\">\n",
       "  <thead>\n",
       "    <tr style=\"text-align: right;\">\n",
       "      <th></th>\n",
       "      <th>body_style</th>\n",
       "      <th>number_cars</th>\n",
       "      <th>angles</th>\n",
       "      <th>colors</th>\n",
       "    </tr>\n",
       "  </thead>\n",
       "  <tbody>\n",
       "    <tr>\n",
       "      <th>0</th>\n",
       "      <td>sedan</td>\n",
       "      <td>96</td>\n",
       "      <td>2.942370</td>\n",
       "      <td>#EC1557</td>\n",
       "    </tr>\n",
       "    <tr>\n",
       "      <th>1</th>\n",
       "      <td>hatchback</td>\n",
       "      <td>70</td>\n",
       "      <td>2.145478</td>\n",
       "      <td>#F05223</td>\n",
       "    </tr>\n",
       "    <tr>\n",
       "      <th>2</th>\n",
       "      <td>wagon</td>\n",
       "      <td>25</td>\n",
       "      <td>0.766242</td>\n",
       "      <td>#F6A91B</td>\n",
       "    </tr>\n",
       "    <tr>\n",
       "      <th>3</th>\n",
       "      <td>hardtop</td>\n",
       "      <td>8</td>\n",
       "      <td>0.245197</td>\n",
       "      <td>#A5CD39</td>\n",
       "    </tr>\n",
       "    <tr>\n",
       "      <th>4</th>\n",
       "      <td>convertible</td>\n",
       "      <td>6</td>\n",
       "      <td>0.183898</td>\n",
       "      <td>#20B254</td>\n",
       "    </tr>\n",
       "  </tbody>\n",
       "</table>\n",
       "</div>"
      ],
      "text/plain": [
       "    body_style  number_cars    angles   colors\n",
       "0        sedan           96  2.942370  #EC1557\n",
       "1    hatchback           70  2.145478  #F05223\n",
       "2        wagon           25  0.766242  #F6A91B\n",
       "3      hardtop            8  0.245197  #A5CD39\n",
       "4  convertible            6  0.183898  #20B254"
      ]
     },
     "execution_count": 34,
     "metadata": {},
     "output_type": "execute_result"
    }
   ],
   "source": [
    "bs['colors'] = Bokeh[bs.shape[0]]\n",
    "bs"
   ]
  },
  {
   "cell_type": "markdown",
   "metadata": {},
   "source": [
    "Defining the `ColumnDataSource`"
   ]
  },
  {
   "cell_type": "code",
   "execution_count": 35,
   "metadata": {},
   "outputs": [],
   "source": [
    "from bokeh.models import ColumnDataSource\n",
    "from bokeh.transform import cumsum"
   ]
  },
  {
   "cell_type": "code",
   "execution_count": 36,
   "metadata": {},
   "outputs": [],
   "source": [
    "source_pie = ColumnDataSource(data=bs)"
   ]
  },
  {
   "cell_type": "code",
   "execution_count": 37,
   "metadata": {},
   "outputs": [],
   "source": [
    "p = figure(width=600, height=600, x_range=source_pie.data['body_style'])\n",
    "p.axis.visible = False\n",
    "p.grid.grid_line_color = None"
   ]
  },
  {
   "cell_type": "code",
   "execution_count": 38,
   "metadata": {},
   "outputs": [
    {
     "data": {
      "text/html": [
       "\n",
       "\n",
       "\n",
       "\n",
       "\n",
       "\n",
       "  <div class=\"bk-root\" id=\"ea79bdbb-b791-4be9-9045-15e2ad57b22e\" data-root-id=\"2785\"></div>\n"
      ]
     },
     "metadata": {},
     "output_type": "display_data"
    },
    {
     "data": {
      "application/javascript": "(function(root) {\n  function embed_document(root) {\n    \n  const docs_json = {\"b182b9b6-33fc-4696-ae46-b777a31b576e\":{\"defs\":[],\"roots\":{\"references\":[{\"attributes\":{\"below\":[{\"id\":\"2794\"}],\"center\":[{\"id\":\"2796\"},{\"id\":\"2800\"},{\"id\":\"2834\"}],\"left\":[{\"id\":\"2797\"}],\"renderers\":[{\"id\":\"2821\"}],\"title\":{\"id\":\"2823\"},\"toolbar\":{\"id\":\"2808\"},\"x_range\":{\"id\":\"2786\"},\"x_scale\":{\"id\":\"2790\"},\"y_range\":{\"id\":\"2788\"},\"y_scale\":{\"id\":\"2792\"}},\"id\":\"2785\",\"subtype\":\"Figure\",\"type\":\"Plot\"},{\"attributes\":{\"tools\":[{\"id\":\"2801\"},{\"id\":\"2802\"},{\"id\":\"2803\"},{\"id\":\"2804\"},{\"id\":\"2805\"},{\"id\":\"2806\"}]},\"id\":\"2808\",\"type\":\"Toolbar\"},{\"attributes\":{},\"id\":\"2806\",\"type\":\"HelpTool\"},{\"attributes\":{\"label\":{\"field\":\"body_style\"},\"renderers\":[{\"id\":\"2821\"}]},\"id\":\"2835\",\"type\":\"LegendItem\"},{\"attributes\":{},\"id\":\"2801\",\"type\":\"PanTool\"},{\"attributes\":{},\"id\":\"2790\",\"type\":\"CategoricalScale\"},{\"attributes\":{\"end_angle\":{\"expr\":{\"id\":\"2816\"}},\"fill_alpha\":{\"value\":0.2},\"fill_color\":{\"field\":\"colors\"},\"hatch_alpha\":{\"value\":0.2},\"line_alpha\":{\"value\":0.2},\"line_color\":{\"value\":\"white\"},\"radius\":{\"value\":2},\"start_angle\":{\"expr\":{\"id\":\"2815\"}},\"x\":{\"value\":2.5},\"y\":{\"value\":0}},\"id\":\"2820\",\"type\":\"Wedge\"},{\"attributes\":{\"bottom_units\":\"screen\",\"coordinates\":null,\"fill_alpha\":0.5,\"fill_color\":\"lightgrey\",\"group\":null,\"left_units\":\"screen\",\"level\":\"overlay\",\"line_alpha\":1.0,\"line_color\":\"black\",\"line_dash\":[4,4],\"line_width\":2,\"right_units\":\"screen\",\"syncable\":false,\"top_units\":\"screen\"},\"id\":\"2807\",\"type\":\"BoxAnnotation\"},{\"attributes\":{},\"id\":\"2788\",\"type\":\"DataRange1d\"},{\"attributes\":{\"coordinates\":null,\"group\":null,\"items\":[{\"id\":\"2835\"}]},\"id\":\"2834\",\"type\":\"Legend\"},{\"attributes\":{\"overlay\":{\"id\":\"2807\"}},\"id\":\"2803\",\"type\":\"BoxZoomTool\"},{\"attributes\":{\"source\":{\"id\":\"2784\"}},\"id\":\"2822\",\"type\":\"CDSView\"},{\"attributes\":{\"end_angle\":{\"expr\":{\"id\":\"2816\"}},\"fill_alpha\":{\"value\":0.1},\"fill_color\":{\"field\":\"colors\"},\"hatch_alpha\":{\"value\":0.1},\"line_alpha\":{\"value\":0.1},\"line_color\":{\"value\":\"white\"},\"radius\":{\"value\":2},\"start_angle\":{\"expr\":{\"id\":\"2815\"}},\"x\":{\"value\":2.5},\"y\":{\"value\":0}},\"id\":\"2819\",\"type\":\"Wedge\"},{\"attributes\":{\"factors\":[\"sedan\",\"hatchback\",\"wagon\",\"hardtop\",\"convertible\"]},\"id\":\"2786\",\"type\":\"FactorRange\"},{\"attributes\":{},\"id\":\"2795\",\"type\":\"CategoricalTicker\"},{\"attributes\":{\"coordinates\":null,\"data_source\":{\"id\":\"2784\"},\"glyph\":{\"id\":\"2818\"},\"group\":null,\"hover_glyph\":null,\"muted_glyph\":{\"id\":\"2820\"},\"nonselection_glyph\":{\"id\":\"2819\"},\"view\":{\"id\":\"2822\"}},\"id\":\"2821\",\"type\":\"GlyphRenderer\"},{\"attributes\":{\"coordinates\":null,\"formatter\":{\"id\":\"2829\"},\"group\":null,\"major_label_policy\":{\"id\":\"2830\"},\"ticker\":{\"id\":\"2795\"},\"visible\":false},\"id\":\"2794\",\"type\":\"CategoricalAxis\"},{\"attributes\":{},\"id\":\"2802\",\"type\":\"WheelZoomTool\"},{\"attributes\":{\"coordinates\":null,\"group\":null},\"id\":\"2823\",\"type\":\"Title\"},{\"attributes\":{},\"id\":\"2829\",\"type\":\"CategoricalTickFormatter\"},{\"attributes\":{\"end_angle\":{\"expr\":{\"id\":\"2816\"}},\"fill_color\":{\"field\":\"colors\"},\"line_color\":{\"value\":\"white\"},\"radius\":{\"value\":2},\"start_angle\":{\"expr\":{\"id\":\"2815\"}},\"x\":{\"value\":2.5},\"y\":{\"value\":0}},\"id\":\"2818\",\"type\":\"Wedge\"},{\"attributes\":{},\"id\":\"2830\",\"type\":\"AllLabels\"},{\"attributes\":{},\"id\":\"2826\",\"type\":\"BasicTickFormatter\"},{\"attributes\":{\"data\":{\"angles\":{\"__ndarray__\":\"WLy3IPmJB0BV+YVS8CkBQDBkvywOheg/H/v0gKFizz9YvLcg+YnHPw==\",\"dtype\":\"float64\",\"order\":\"little\",\"shape\":[5]},\"body_style\":[\"sedan\",\"hatchback\",\"wagon\",\"hardtop\",\"convertible\"],\"colors\":[\"#EC1557\",\"#F05223\",\"#F6A91B\",\"#A5CD39\",\"#20B254\"],\"index\":[0,1,2,3,4],\"number_cars\":[96,70,25,8,6]},\"selected\":{\"id\":\"2832\"},\"selection_policy\":{\"id\":\"2831\"}},\"id\":\"2784\",\"type\":\"ColumnDataSource\"},{\"attributes\":{\"field\":\"angles\"},\"id\":\"2816\",\"type\":\"CumSum\"},{\"attributes\":{\"field\":\"angles\",\"include_zero\":true},\"id\":\"2815\",\"type\":\"CumSum\"},{\"attributes\":{},\"id\":\"2827\",\"type\":\"AllLabels\"},{\"attributes\":{},\"id\":\"2831\",\"type\":\"UnionRenderers\"},{\"attributes\":{\"coordinates\":null,\"formatter\":{\"id\":\"2826\"},\"group\":null,\"major_label_policy\":{\"id\":\"2827\"},\"ticker\":{\"id\":\"2798\"},\"visible\":false},\"id\":\"2797\",\"type\":\"LinearAxis\"},{\"attributes\":{},\"id\":\"2832\",\"type\":\"Selection\"},{\"attributes\":{\"axis\":{\"id\":\"2794\"},\"coordinates\":null,\"grid_line_color\":null,\"group\":null,\"ticker\":null},\"id\":\"2796\",\"type\":\"Grid\"},{\"attributes\":{},\"id\":\"2798\",\"type\":\"BasicTicker\"},{\"attributes\":{},\"id\":\"2805\",\"type\":\"ResetTool\"},{\"attributes\":{\"axis\":{\"id\":\"2797\"},\"coordinates\":null,\"dimension\":1,\"grid_line_color\":null,\"group\":null,\"ticker\":null},\"id\":\"2800\",\"type\":\"Grid\"},{\"attributes\":{},\"id\":\"2804\",\"type\":\"SaveTool\"},{\"attributes\":{},\"id\":\"2792\",\"type\":\"LinearScale\"}],\"root_ids\":[\"2785\"]},\"title\":\"Bokeh Application\",\"version\":\"2.4.2\"}};\n  const render_items = [{\"docid\":\"b182b9b6-33fc-4696-ae46-b777a31b576e\",\"root_ids\":[\"2785\"],\"roots\":{\"2785\":\"ea79bdbb-b791-4be9-9045-15e2ad57b22e\"}}];\n  root.Bokeh.embed.embed_items_notebook(docs_json, render_items);\n\n  }\n  if (root.Bokeh !== undefined) {\n    embed_document(root);\n  } else {\n    let attempts = 0;\n    const timer = setInterval(function(root) {\n      if (root.Bokeh !== undefined) {\n        clearInterval(timer);\n        embed_document(root);\n      } else {\n        attempts++;\n        if (attempts > 100) {\n          clearInterval(timer);\n          console.log(\"Bokeh: ERROR: Unable to run BokehJS code because BokehJS library is missing\");\n        }\n      }\n    }, 10, root)\n  }\n})(window);",
      "application/vnd.bokehjs_exec.v0+json": ""
     },
     "metadata": {
      "application/vnd.bokehjs_exec.v0+json": {
       "id": "2785"
      }
     },
     "output_type": "display_data"
    }
   ],
   "source": [
    "p.wedge(x=bs.shape[0]/2,\n",
    "        y=0, radius=2,\n",
    "        start_angle=cumsum('angles', include_zero=True),\n",
    "        end_angle=cumsum('angles'),\n",
    "        line_color=\"white\",\n",
    "        fill_color='colors',\n",
    "        legend_field='body_style',\n",
    "        source=source_pie)\n",
    "show(p)        "
   ]
  },
  {
   "cell_type": "markdown",
   "metadata": {},
   "source": [
    "Modifying the legend location and orientation"
   ]
  },
  {
   "cell_type": "code",
   "execution_count": 39,
   "metadata": {},
   "outputs": [
    {
     "data": {
      "text/html": [
       "\n",
       "\n",
       "\n",
       "\n",
       "\n",
       "\n",
       "  <div class=\"bk-root\" id=\"8bb22cf4-e6b1-412b-b85f-71a954149753\" data-root-id=\"2785\"></div>\n"
      ]
     },
     "metadata": {},
     "output_type": "display_data"
    },
    {
     "data": {
      "application/javascript": "(function(root) {\n  function embed_document(root) {\n    \n  const docs_json = {\"cf5bc478-3ff1-4847-9494-f3dddd7e4d30\":{\"defs\":[],\"roots\":{\"references\":[{\"attributes\":{\"below\":[{\"id\":\"2794\"}],\"center\":[{\"id\":\"2796\"},{\"id\":\"2800\"},{\"id\":\"2834\"}],\"left\":[{\"id\":\"2797\"}],\"renderers\":[{\"id\":\"2821\"}],\"title\":{\"id\":\"2823\"},\"toolbar\":{\"id\":\"2808\"},\"x_range\":{\"id\":\"2786\"},\"x_scale\":{\"id\":\"2790\"},\"y_range\":{\"id\":\"2788\"},\"y_scale\":{\"id\":\"2792\"}},\"id\":\"2785\",\"subtype\":\"Figure\",\"type\":\"Plot\"},{\"attributes\":{\"tools\":[{\"id\":\"2801\"},{\"id\":\"2802\"},{\"id\":\"2803\"},{\"id\":\"2804\"},{\"id\":\"2805\"},{\"id\":\"2806\"}]},\"id\":\"2808\",\"type\":\"Toolbar\"},{\"attributes\":{},\"id\":\"2806\",\"type\":\"HelpTool\"},{\"attributes\":{\"label\":{\"field\":\"body_style\"},\"renderers\":[{\"id\":\"2821\"}]},\"id\":\"2835\",\"type\":\"LegendItem\"},{\"attributes\":{},\"id\":\"2801\",\"type\":\"PanTool\"},{\"attributes\":{},\"id\":\"2790\",\"type\":\"CategoricalScale\"},{\"attributes\":{\"end_angle\":{\"expr\":{\"id\":\"2816\"}},\"fill_alpha\":{\"value\":0.2},\"fill_color\":{\"field\":\"colors\"},\"hatch_alpha\":{\"value\":0.2},\"line_alpha\":{\"value\":0.2},\"line_color\":{\"value\":\"white\"},\"radius\":{\"value\":2},\"start_angle\":{\"expr\":{\"id\":\"2815\"}},\"x\":{\"value\":2.5},\"y\":{\"value\":0}},\"id\":\"2820\",\"type\":\"Wedge\"},{\"attributes\":{\"bottom_units\":\"screen\",\"coordinates\":null,\"fill_alpha\":0.5,\"fill_color\":\"lightgrey\",\"group\":null,\"left_units\":\"screen\",\"level\":\"overlay\",\"line_alpha\":1.0,\"line_color\":\"black\",\"line_dash\":[4,4],\"line_width\":2,\"right_units\":\"screen\",\"syncable\":false,\"top_units\":\"screen\"},\"id\":\"2807\",\"type\":\"BoxAnnotation\"},{\"attributes\":{},\"id\":\"2788\",\"type\":\"DataRange1d\"},{\"attributes\":{\"coordinates\":null,\"group\":null,\"items\":[{\"id\":\"2835\"}],\"location\":\"top\",\"orientation\":\"horizontal\"},\"id\":\"2834\",\"type\":\"Legend\"},{\"attributes\":{\"overlay\":{\"id\":\"2807\"}},\"id\":\"2803\",\"type\":\"BoxZoomTool\"},{\"attributes\":{\"source\":{\"id\":\"2784\"}},\"id\":\"2822\",\"type\":\"CDSView\"},{\"attributes\":{\"end_angle\":{\"expr\":{\"id\":\"2816\"}},\"fill_alpha\":{\"value\":0.1},\"fill_color\":{\"field\":\"colors\"},\"hatch_alpha\":{\"value\":0.1},\"line_alpha\":{\"value\":0.1},\"line_color\":{\"value\":\"white\"},\"radius\":{\"value\":2},\"start_angle\":{\"expr\":{\"id\":\"2815\"}},\"x\":{\"value\":2.5},\"y\":{\"value\":0}},\"id\":\"2819\",\"type\":\"Wedge\"},{\"attributes\":{\"factors\":[\"sedan\",\"hatchback\",\"wagon\",\"hardtop\",\"convertible\"]},\"id\":\"2786\",\"type\":\"FactorRange\"},{\"attributes\":{},\"id\":\"2795\",\"type\":\"CategoricalTicker\"},{\"attributes\":{\"coordinates\":null,\"data_source\":{\"id\":\"2784\"},\"glyph\":{\"id\":\"2818\"},\"group\":null,\"hover_glyph\":null,\"muted_glyph\":{\"id\":\"2820\"},\"nonselection_glyph\":{\"id\":\"2819\"},\"view\":{\"id\":\"2822\"}},\"id\":\"2821\",\"type\":\"GlyphRenderer\"},{\"attributes\":{\"coordinates\":null,\"formatter\":{\"id\":\"2829\"},\"group\":null,\"major_label_policy\":{\"id\":\"2830\"},\"ticker\":{\"id\":\"2795\"},\"visible\":false},\"id\":\"2794\",\"type\":\"CategoricalAxis\"},{\"attributes\":{},\"id\":\"2802\",\"type\":\"WheelZoomTool\"},{\"attributes\":{\"coordinates\":null,\"group\":null},\"id\":\"2823\",\"type\":\"Title\"},{\"attributes\":{},\"id\":\"2829\",\"type\":\"CategoricalTickFormatter\"},{\"attributes\":{\"end_angle\":{\"expr\":{\"id\":\"2816\"}},\"fill_color\":{\"field\":\"colors\"},\"line_color\":{\"value\":\"white\"},\"radius\":{\"value\":2},\"start_angle\":{\"expr\":{\"id\":\"2815\"}},\"x\":{\"value\":2.5},\"y\":{\"value\":0}},\"id\":\"2818\",\"type\":\"Wedge\"},{\"attributes\":{},\"id\":\"2830\",\"type\":\"AllLabels\"},{\"attributes\":{},\"id\":\"2826\",\"type\":\"BasicTickFormatter\"},{\"attributes\":{\"data\":{\"angles\":{\"__ndarray__\":\"WLy3IPmJB0BV+YVS8CkBQDBkvywOheg/H/v0gKFizz9YvLcg+YnHPw==\",\"dtype\":\"float64\",\"order\":\"little\",\"shape\":[5]},\"body_style\":[\"sedan\",\"hatchback\",\"wagon\",\"hardtop\",\"convertible\"],\"colors\":[\"#EC1557\",\"#F05223\",\"#F6A91B\",\"#A5CD39\",\"#20B254\"],\"index\":[0,1,2,3,4],\"number_cars\":[96,70,25,8,6]},\"selected\":{\"id\":\"2832\"},\"selection_policy\":{\"id\":\"2831\"}},\"id\":\"2784\",\"type\":\"ColumnDataSource\"},{\"attributes\":{\"field\":\"angles\"},\"id\":\"2816\",\"type\":\"CumSum\"},{\"attributes\":{\"field\":\"angles\",\"include_zero\":true},\"id\":\"2815\",\"type\":\"CumSum\"},{\"attributes\":{},\"id\":\"2827\",\"type\":\"AllLabels\"},{\"attributes\":{},\"id\":\"2831\",\"type\":\"UnionRenderers\"},{\"attributes\":{\"coordinates\":null,\"formatter\":{\"id\":\"2826\"},\"group\":null,\"major_label_policy\":{\"id\":\"2827\"},\"ticker\":{\"id\":\"2798\"},\"visible\":false},\"id\":\"2797\",\"type\":\"LinearAxis\"},{\"attributes\":{},\"id\":\"2832\",\"type\":\"Selection\"},{\"attributes\":{\"axis\":{\"id\":\"2794\"},\"coordinates\":null,\"grid_line_color\":null,\"group\":null,\"ticker\":null},\"id\":\"2796\",\"type\":\"Grid\"},{\"attributes\":{},\"id\":\"2798\",\"type\":\"BasicTicker\"},{\"attributes\":{},\"id\":\"2805\",\"type\":\"ResetTool\"},{\"attributes\":{\"axis\":{\"id\":\"2797\"},\"coordinates\":null,\"dimension\":1,\"grid_line_color\":null,\"group\":null,\"ticker\":null},\"id\":\"2800\",\"type\":\"Grid\"},{\"attributes\":{},\"id\":\"2804\",\"type\":\"SaveTool\"},{\"attributes\":{},\"id\":\"2792\",\"type\":\"LinearScale\"}],\"root_ids\":[\"2785\"]},\"title\":\"Bokeh Application\",\"version\":\"2.4.2\"}};\n  const render_items = [{\"docid\":\"cf5bc478-3ff1-4847-9494-f3dddd7e4d30\",\"root_ids\":[\"2785\"],\"roots\":{\"2785\":\"8bb22cf4-e6b1-412b-b85f-71a954149753\"}}];\n  root.Bokeh.embed.embed_items_notebook(docs_json, render_items);\n\n  }\n  if (root.Bokeh !== undefined) {\n    embed_document(root);\n  } else {\n    let attempts = 0;\n    const timer = setInterval(function(root) {\n      if (root.Bokeh !== undefined) {\n        clearInterval(timer);\n        embed_document(root);\n      } else {\n        attempts++;\n        if (attempts > 100) {\n          clearInterval(timer);\n          console.log(\"Bokeh: ERROR: Unable to run BokehJS code because BokehJS library is missing\");\n        }\n      }\n    }, 10, root)\n  }\n})(window);",
      "application/vnd.bokehjs_exec.v0+json": ""
     },
     "metadata": {
      "application/vnd.bokehjs_exec.v0+json": {
       "id": "2785"
      }
     },
     "output_type": "display_data"
    }
   ],
   "source": [
    "# Modifying the legend location and orientation\n",
    "p.legend.orientation = \"horizontal\"\n",
    "p.legend.location = \"top\"\n",
    "show(p)"
   ]
  },
  {
   "cell_type": "markdown",
   "metadata": {},
   "source": [
    "## References"
   ]
  },
  {
   "cell_type": "markdown",
   "metadata": {},
   "source": [
    "- Hussain S, Dahan N.A, Ba-Alwi F.M, Ribata N. Educational Data Mining and Analysis of Studentsâ€™ Academic Performance Using WEKA. Indonesian Journal of Electrical Engineering and Computer Science. 2018; Vol. 9, No. 2. February. pp. 447~459\n",
    "- https://docs.bokeh.org/en/latest/"
   ]
  }
 ],
 "metadata": {
  "interpreter": {
   "hash": "f6ce50080babb3e2c9dded3d344b1d82a47cf5d6f13f4c2ab5a2113adb8feaef"
  },
  "kernelspec": {
   "display_name": "Python 3.10.5 64-bit (windows store)",
   "language": "python",
   "name": "python3"
  },
  "language_info": {
   "codemirror_mode": {
    "name": "ipython",
    "version": 3
   },
   "file_extension": ".py",
   "mimetype": "text/x-python",
   "name": "python",
   "nbconvert_exporter": "python",
   "pygments_lexer": "ipython3",
   "version": "3.10.8"
  },
  "orig_nbformat": 4
 },
 "nbformat": 4,
 "nbformat_minor": 2
}
