{
 "cells": [
  {
   "cell_type": "markdown",
   "metadata": {},
   "source": [
    "# Introducing Slider Component"
   ]
  },
  {
   "cell_type": "code",
   "execution_count": 1,
   "metadata": {},
   "outputs": [],
   "source": [
    "import numpy as np\n",
    "import pandas as pd\n",
    "from PIL import Image\n",
    "\n",
    "import matplotlib.pyplot as plt\n",
    "\n",
    "from dash import Dash, html, dcc, Input, Output\n",
    "\n",
    "import plotly.express as px\n",
    "import plotly.io as pio\n",
    "pio.renderers.default = \"plotly_mimetype+notebook_connected\""
   ]
  },
  {
   "cell_type": "markdown",
   "metadata": {},
   "source": [
    "## 1. Getting and exploring the data"
   ]
  },
  {
   "cell_type": "code",
   "execution_count": 2,
   "metadata": {},
   "outputs": [],
   "source": [
    "# Load the dataset\n",
    "df = pd.read_csv('https://archive.ics.uci.edu/ml/machine-learning-databases/00616/Tetuan%20City%20power%20consumption.csv')"
   ]
  },
  {
   "cell_type": "code",
   "execution_count": 3,
   "metadata": {},
   "outputs": [],
   "source": [
    "# Changing DateTime column to datetime\n",
    "df.DateTime = pd.to_datetime(df.DateTime)"
   ]
  },
  {
   "cell_type": "code",
   "execution_count": 4,
   "metadata": {},
   "outputs": [],
   "source": [
    "# Renaming some columns\n",
    "df.rename(columns={'Zone 1 Power Consumption': 'Zone1', \n",
    "                   'Zone 2  Power Consumption': 'Zone2', \n",
    "                   'Zone 3  Power Consumption': 'Zone3'}, inplace=True)"
   ]
  },
  {
   "cell_type": "code",
   "execution_count": 5,
   "metadata": {},
   "outputs": [],
   "source": [
    "# Getting one value per day\n",
    "dfd = df.groupby(pd.Grouper(key='DateTime', freq='1D')).mean().reset_index()"
   ]
  },
  {
   "cell_type": "code",
   "execution_count": 6,
   "metadata": {},
   "outputs": [
    {
     "data": {
      "text/html": [
       "<div>\n",
       "<style scoped>\n",
       "    .dataframe tbody tr th:only-of-type {\n",
       "        vertical-align: middle;\n",
       "    }\n",
       "\n",
       "    .dataframe tbody tr th {\n",
       "        vertical-align: top;\n",
       "    }\n",
       "\n",
       "    .dataframe thead th {\n",
       "        text-align: right;\n",
       "    }\n",
       "</style>\n",
       "<table border=\"1\" class=\"dataframe\">\n",
       "  <thead>\n",
       "    <tr style=\"text-align: right;\">\n",
       "      <th></th>\n",
       "      <th>DateTime</th>\n",
       "      <th>Temperature</th>\n",
       "      <th>Humidity</th>\n",
       "      <th>Wind Speed</th>\n",
       "      <th>general diffuse flows</th>\n",
       "      <th>diffuse flows</th>\n",
       "      <th>Zone1</th>\n",
       "      <th>Zone2</th>\n",
       "      <th>Zone3</th>\n",
       "      <th>month</th>\n",
       "    </tr>\n",
       "  </thead>\n",
       "  <tbody>\n",
       "    <tr>\n",
       "      <th>0</th>\n",
       "      <td>2017-01-01</td>\n",
       "      <td>9.675299</td>\n",
       "      <td>68.519306</td>\n",
       "      <td>0.315146</td>\n",
       "      <td>121.390771</td>\n",
       "      <td>25.993924</td>\n",
       "      <td>28465.232067</td>\n",
       "      <td>17737.791287</td>\n",
       "      <td>17868.795181</td>\n",
       "      <td>1</td>\n",
       "    </tr>\n",
       "    <tr>\n",
       "      <th>1</th>\n",
       "      <td>2017-01-02</td>\n",
       "      <td>12.476875</td>\n",
       "      <td>71.456319</td>\n",
       "      <td>0.076563</td>\n",
       "      <td>120.404486</td>\n",
       "      <td>27.227410</td>\n",
       "      <td>28869.493671</td>\n",
       "      <td>19557.725431</td>\n",
       "      <td>17820.763053</td>\n",
       "      <td>1</td>\n",
       "    </tr>\n",
       "    <tr>\n",
       "      <th>2</th>\n",
       "      <td>2017-01-03</td>\n",
       "      <td>12.100000</td>\n",
       "      <td>74.981667</td>\n",
       "      <td>0.076715</td>\n",
       "      <td>120.686014</td>\n",
       "      <td>28.574660</td>\n",
       "      <td>30562.447257</td>\n",
       "      <td>20057.269504</td>\n",
       "      <td>17620.803213</td>\n",
       "      <td>1</td>\n",
       "    </tr>\n",
       "    <tr>\n",
       "      <th>3</th>\n",
       "      <td>2017-01-04</td>\n",
       "      <td>10.509479</td>\n",
       "      <td>75.459792</td>\n",
       "      <td>0.082417</td>\n",
       "      <td>122.959319</td>\n",
       "      <td>28.827222</td>\n",
       "      <td>30689.831224</td>\n",
       "      <td>20102.077001</td>\n",
       "      <td>17673.694779</td>\n",
       "      <td>1</td>\n",
       "    </tr>\n",
       "    <tr>\n",
       "      <th>4</th>\n",
       "      <td>2017-01-05</td>\n",
       "      <td>10.866444</td>\n",
       "      <td>71.040486</td>\n",
       "      <td>0.083896</td>\n",
       "      <td>118.749861</td>\n",
       "      <td>29.741437</td>\n",
       "      <td>30802.911393</td>\n",
       "      <td>20033.941237</td>\n",
       "      <td>17664.176707</td>\n",
       "      <td>1</td>\n",
       "    </tr>\n",
       "  </tbody>\n",
       "</table>\n",
       "</div>"
      ],
      "text/plain": [
       "    DateTime  Temperature   Humidity  Wind Speed  general diffuse flows  \\\n",
       "0 2017-01-01     9.675299  68.519306    0.315146             121.390771   \n",
       "1 2017-01-02    12.476875  71.456319    0.076563             120.404486   \n",
       "2 2017-01-03    12.100000  74.981667    0.076715             120.686014   \n",
       "3 2017-01-04    10.509479  75.459792    0.082417             122.959319   \n",
       "4 2017-01-05    10.866444  71.040486    0.083896             118.749861   \n",
       "\n",
       "   diffuse flows         Zone1         Zone2         Zone3  month  \n",
       "0      25.993924  28465.232067  17737.791287  17868.795181      1  \n",
       "1      27.227410  28869.493671  19557.725431  17820.763053      1  \n",
       "2      28.574660  30562.447257  20057.269504  17620.803213      1  \n",
       "3      28.827222  30689.831224  20102.077001  17673.694779      1  \n",
       "4      29.741437  30802.911393  20033.941237  17664.176707      1  "
      ]
     },
     "execution_count": 6,
     "metadata": {},
     "output_type": "execute_result"
    }
   ],
   "source": [
    "# Getting the month\n",
    "dfd['month'] = [d.strftime('%m') for d in dfd.DateTime]\n",
    "dfd.month = dfd.month.astype(int)\n",
    "dfd.head()"
   ]
  },
  {
   "cell_type": "code",
   "execution_count": 7,
   "metadata": {},
   "outputs": [],
   "source": [
    "# Selecting January (dfd.month = 1)\n",
    "filtered_data = dfd[dfd['month'] == 1]"
   ]
  },
  {
   "cell_type": "code",
   "execution_count": 8,
   "metadata": {},
   "outputs": [
    {
     "data": {
      "text/html": [
       "        <script type=\"text/javascript\">\n",
       "        window.PlotlyConfig = {MathJaxConfig: 'local'};\n",
       "        if (window.MathJax && window.MathJax.Hub && window.MathJax.Hub.Config) {window.MathJax.Hub.Config({SVG: {font: \"STIX-Web\"}});}\n",
       "        if (typeof require !== 'undefined') {\n",
       "        require.undef(\"plotly\");\n",
       "        requirejs.config({\n",
       "            paths: {\n",
       "                'plotly': ['https://cdn.plot.ly/plotly-2.18.2.min']\n",
       "            }\n",
       "        });\n",
       "        require(['plotly'], function(Plotly) {\n",
       "            window._Plotly = Plotly;\n",
       "        });\n",
       "        }\n",
       "        </script>\n",
       "        "
      ]
     },
     "metadata": {},
     "output_type": "display_data"
    },
    {
     "data": {
      "application/vnd.plotly.v1+json": {
       "config": {
        "plotlyServerURL": "https://plot.ly"
       },
       "data": [
        {
         "customdata": [
          [
           "Zone1"
          ],
          [
           "Zone1"
          ],
          [
           "Zone1"
          ],
          [
           "Zone1"
          ],
          [
           "Zone1"
          ],
          [
           "Zone1"
          ],
          [
           "Zone1"
          ],
          [
           "Zone1"
          ],
          [
           "Zone1"
          ],
          [
           "Zone1"
          ],
          [
           "Zone1"
          ],
          [
           "Zone1"
          ],
          [
           "Zone1"
          ],
          [
           "Zone1"
          ],
          [
           "Zone1"
          ],
          [
           "Zone1"
          ],
          [
           "Zone1"
          ],
          [
           "Zone1"
          ],
          [
           "Zone1"
          ],
          [
           "Zone1"
          ],
          [
           "Zone1"
          ],
          [
           "Zone1"
          ],
          [
           "Zone1"
          ],
          [
           "Zone1"
          ],
          [
           "Zone1"
          ],
          [
           "Zone1"
          ],
          [
           "Zone1"
          ],
          [
           "Zone1"
          ],
          [
           "Zone1"
          ],
          [
           "Zone1"
          ],
          [
           "Zone1"
          ]
         ],
         "hovertemplate": "<b>%{hovertext}</b><br><br>Temperature=%{x:.2f}<br>Power Consumption=%{y:.2f}<extra></extra>",
         "hovertext": [
          "Zone1",
          "Zone1",
          "Zone1",
          "Zone1",
          "Zone1",
          "Zone1",
          "Zone1",
          "Zone1",
          "Zone1",
          "Zone1",
          "Zone1",
          "Zone1",
          "Zone1",
          "Zone1",
          "Zone1",
          "Zone1",
          "Zone1",
          "Zone1",
          "Zone1",
          "Zone1",
          "Zone1",
          "Zone1",
          "Zone1",
          "Zone1",
          "Zone1",
          "Zone1",
          "Zone1",
          "Zone1",
          "Zone1",
          "Zone1",
          "Zone1"
         ],
         "legendgroup": "Zone1",
         "marker": {
          "color": "orangered",
          "symbol": "circle"
         },
         "mode": "markers",
         "name": "Zone1",
         "orientation": "v",
         "showlegend": true,
         "type": "scatter",
         "x": [
          9.67529861111111,
          12.476875,
          12.100000000000001,
          10.509479166666667,
          10.866444444444445,
          11.685208333333334,
          12.018819444444444,
          14.724652777777777,
          15.490138888888888,
          14.019583333333333,
          13.28173611111111,
          13.895555555555555,
          14.630625,
          14.98798611111111,
          14.23263888888889,
          13.365972222222222,
          11.371736111111112,
          13.681388888888888,
          11.641875,
          11.16986111111111,
          11.184236111111112,
          12.839097222222222,
          11.418055555555556,
          10.841402777777779,
          9.884284722222223,
          11.22036111111111,
          11.854840277777777,
          13.521388888888888,
          14.560069444444444,
          16.618680555555557,
          15.267569444444446
         ],
         "xaxis": "x",
         "y": [
          28465.232067083332,
          28869.493670625,
          30562.447257291667,
          30689.831223611112,
          30802.911392847225,
          30712.236287083335,
          30612.70042166667,
          29559.915611944445,
          30540.253164583333,
          31863.291138333334,
          31057.763713194447,
          32075.94936736111,
          31476.075949375,
          30834.683544375002,
          26771.5189875,
          30587.257384166664,
          31831.64557,
          32860.50632868055,
          32140.210970208333,
          31783.164557291668,
          31928.016877708335,
          30921.687763402777,
          32505.400843333337,
          31583.24894527778,
          32303.670886249998,
          32694.641350416667,
          32296.751054166667,
          31298.227847986112,
          29260.590717638886,
          31524.008438819445,
          31593.966244652776
         ],
         "yaxis": "y"
        },
        {
         "customdata": [
          [
           "Zone2"
          ],
          [
           "Zone2"
          ],
          [
           "Zone2"
          ],
          [
           "Zone2"
          ],
          [
           "Zone2"
          ],
          [
           "Zone2"
          ],
          [
           "Zone2"
          ],
          [
           "Zone2"
          ],
          [
           "Zone2"
          ],
          [
           "Zone2"
          ],
          [
           "Zone2"
          ],
          [
           "Zone2"
          ],
          [
           "Zone2"
          ],
          [
           "Zone2"
          ],
          [
           "Zone2"
          ],
          [
           "Zone2"
          ],
          [
           "Zone2"
          ],
          [
           "Zone2"
          ],
          [
           "Zone2"
          ],
          [
           "Zone2"
          ],
          [
           "Zone2"
          ],
          [
           "Zone2"
          ],
          [
           "Zone2"
          ],
          [
           "Zone2"
          ],
          [
           "Zone2"
          ],
          [
           "Zone2"
          ],
          [
           "Zone2"
          ],
          [
           "Zone2"
          ],
          [
           "Zone2"
          ],
          [
           "Zone2"
          ],
          [
           "Zone2"
          ]
         ],
         "hovertemplate": "<b>%{hovertext}</b><br><br>Temperature=%{x:.2f}<br>Power Consumption=%{y:.2f}<extra></extra>",
         "hovertext": [
          "Zone2",
          "Zone2",
          "Zone2",
          "Zone2",
          "Zone2",
          "Zone2",
          "Zone2",
          "Zone2",
          "Zone2",
          "Zone2",
          "Zone2",
          "Zone2",
          "Zone2",
          "Zone2",
          "Zone2",
          "Zone2",
          "Zone2",
          "Zone2",
          "Zone2",
          "Zone2",
          "Zone2",
          "Zone2",
          "Zone2",
          "Zone2",
          "Zone2",
          "Zone2",
          "Zone2",
          "Zone2",
          "Zone2",
          "Zone2",
          "Zone2"
         ],
         "legendgroup": "Zone2",
         "marker": {
          "color": "darkorange",
          "symbol": "circle"
         },
         "mode": "markers",
         "name": "Zone2",
         "orientation": "v",
         "showlegend": true,
         "type": "scatter",
         "x": [
          9.67529861111111,
          12.476875,
          12.100000000000001,
          10.509479166666667,
          10.866444444444445,
          11.685208333333334,
          12.018819444444444,
          14.724652777777777,
          15.490138888888888,
          14.019583333333333,
          13.28173611111111,
          13.895555555555555,
          14.630625,
          14.98798611111111,
          14.23263888888889,
          13.365972222222222,
          11.371736111111112,
          13.681388888888888,
          11.641875,
          11.16986111111111,
          11.184236111111112,
          12.839097222222222,
          11.418055555555556,
          10.841402777777779,
          9.884284722222223,
          11.22036111111111,
          11.854840277777777,
          13.521388888888888,
          14.560069444444444,
          16.618680555555557,
          15.267569444444446
         ],
         "xaxis": "x",
         "y": [
          17737.791286736112,
          19557.725430694445,
          20057.269503680556,
          20102.077001041667,
          20033.941236666666,
          20139.76697027778,
          19252.431610555555,
          17221.124619930557,
          19102.634245138892,
          19405.268490000002,
          18717.426544583333,
          19837.234041944444,
          19515.62816576389,
          18788.627153194444,
          19632.624113333335,
          19720.8713275,
          19180.547112430555,
          21175.607902916665,
          20905.952381249997,
          20637.38601847222,
          20048.86018236111,
          16761.271529840276,
          19702.203647777776,
          19651.671732500003,
          20058.308003680555,
          20066.464032569445,
          20191.69199576389,
          19075.101317152777,
          16838.221884444443,
          18932.953394444445,
          19179.103343541665
         ],
         "yaxis": "y"
        },
        {
         "customdata": [
          [
           "Zone3"
          ],
          [
           "Zone3"
          ],
          [
           "Zone3"
          ],
          [
           "Zone3"
          ],
          [
           "Zone3"
          ],
          [
           "Zone3"
          ],
          [
           "Zone3"
          ],
          [
           "Zone3"
          ],
          [
           "Zone3"
          ],
          [
           "Zone3"
          ],
          [
           "Zone3"
          ],
          [
           "Zone3"
          ],
          [
           "Zone3"
          ],
          [
           "Zone3"
          ],
          [
           "Zone3"
          ],
          [
           "Zone3"
          ],
          [
           "Zone3"
          ],
          [
           "Zone3"
          ],
          [
           "Zone3"
          ],
          [
           "Zone3"
          ],
          [
           "Zone3"
          ],
          [
           "Zone3"
          ],
          [
           "Zone3"
          ],
          [
           "Zone3"
          ],
          [
           "Zone3"
          ],
          [
           "Zone3"
          ],
          [
           "Zone3"
          ],
          [
           "Zone3"
          ],
          [
           "Zone3"
          ],
          [
           "Zone3"
          ],
          [
           "Zone3"
          ]
         ],
         "hovertemplate": "<b>%{hovertext}</b><br><br>Temperature=%{x:.2f}<br>Power Consumption=%{y:.2f}<extra></extra>",
         "hovertext": [
          "Zone3",
          "Zone3",
          "Zone3",
          "Zone3",
          "Zone3",
          "Zone3",
          "Zone3",
          "Zone3",
          "Zone3",
          "Zone3",
          "Zone3",
          "Zone3",
          "Zone3",
          "Zone3",
          "Zone3",
          "Zone3",
          "Zone3",
          "Zone3",
          "Zone3",
          "Zone3",
          "Zone3",
          "Zone3",
          "Zone3",
          "Zone3",
          "Zone3",
          "Zone3",
          "Zone3",
          "Zone3",
          "Zone3",
          "Zone3",
          "Zone3"
         ],
         "legendgroup": "Zone3",
         "marker": {
          "color": "seagreen",
          "symbol": "circle"
         },
         "mode": "markers",
         "name": "Zone3",
         "orientation": "v",
         "showlegend": true,
         "type": "scatter",
         "x": [
          9.67529861111111,
          12.476875,
          12.100000000000001,
          10.509479166666667,
          10.866444444444445,
          11.685208333333334,
          12.018819444444444,
          14.724652777777777,
          15.490138888888888,
          14.019583333333333,
          13.28173611111111,
          13.895555555555555,
          14.630625,
          14.98798611111111,
          14.23263888888889,
          13.365972222222222,
          11.371736111111112,
          13.681388888888888,
          11.641875,
          11.16986111111111,
          11.184236111111112,
          12.839097222222222,
          11.418055555555556,
          10.841402777777779,
          9.884284722222223,
          11.22036111111111,
          11.854840277777777,
          13.521388888888888,
          14.560069444444444,
          16.618680555555557,
          15.267569444444446
         ],
         "xaxis": "x",
         "y": [
          17868.795180625002,
          17820.763052708335,
          17620.803212916668,
          17673.694778680554,
          17664.17670701389,
          17481.084337430555,
          17985.943774791667,
          17810.60240951389,
          17417.79116465278,
          17425.341365555556,
          17307.590361249997,
          17507.389558402778,
          17051.686747083335,
          17716.144578194442,
          17620.04016076389,
          17505.943775069445,
          17854.979919583333,
          18573.493975972222,
          18239.919678749997,
          17631.566265347225,
          18346.10441777778,
          17849.23694763889,
          18078.87550222222,
          17995.220883888887,
          17658.955823194447,
          18061.20481923611,
          17724.016064444444,
          17792.891566319442,
          17504.698794930555,
          17577.991967569444,
          17762.00803215278
         ],
         "yaxis": "y"
        }
       ],
       "layout": {
        "legend": {
         "title": {
          "text": "Zone"
         },
         "tracegroupgap": 0
        },
        "margin": {
         "t": 60
        },
        "template": {
         "data": {
          "bar": [
           {
            "error_x": {
             "color": "#2a3f5f"
            },
            "error_y": {
             "color": "#2a3f5f"
            },
            "marker": {
             "line": {
              "color": "#E5ECF6",
              "width": 0.5
             },
             "pattern": {
              "fillmode": "overlay",
              "size": 10,
              "solidity": 0.2
             }
            },
            "type": "bar"
           }
          ],
          "barpolar": [
           {
            "marker": {
             "line": {
              "color": "#E5ECF6",
              "width": 0.5
             },
             "pattern": {
              "fillmode": "overlay",
              "size": 10,
              "solidity": 0.2
             }
            },
            "type": "barpolar"
           }
          ],
          "carpet": [
           {
            "aaxis": {
             "endlinecolor": "#2a3f5f",
             "gridcolor": "white",
             "linecolor": "white",
             "minorgridcolor": "white",
             "startlinecolor": "#2a3f5f"
            },
            "baxis": {
             "endlinecolor": "#2a3f5f",
             "gridcolor": "white",
             "linecolor": "white",
             "minorgridcolor": "white",
             "startlinecolor": "#2a3f5f"
            },
            "type": "carpet"
           }
          ],
          "choropleth": [
           {
            "colorbar": {
             "outlinewidth": 0,
             "ticks": ""
            },
            "type": "choropleth"
           }
          ],
          "contour": [
           {
            "colorbar": {
             "outlinewidth": 0,
             "ticks": ""
            },
            "colorscale": [
             [
              0,
              "#0d0887"
             ],
             [
              0.1111111111111111,
              "#46039f"
             ],
             [
              0.2222222222222222,
              "#7201a8"
             ],
             [
              0.3333333333333333,
              "#9c179e"
             ],
             [
              0.4444444444444444,
              "#bd3786"
             ],
             [
              0.5555555555555556,
              "#d8576b"
             ],
             [
              0.6666666666666666,
              "#ed7953"
             ],
             [
              0.7777777777777778,
              "#fb9f3a"
             ],
             [
              0.8888888888888888,
              "#fdca26"
             ],
             [
              1,
              "#f0f921"
             ]
            ],
            "type": "contour"
           }
          ],
          "contourcarpet": [
           {
            "colorbar": {
             "outlinewidth": 0,
             "ticks": ""
            },
            "type": "contourcarpet"
           }
          ],
          "heatmap": [
           {
            "colorbar": {
             "outlinewidth": 0,
             "ticks": ""
            },
            "colorscale": [
             [
              0,
              "#0d0887"
             ],
             [
              0.1111111111111111,
              "#46039f"
             ],
             [
              0.2222222222222222,
              "#7201a8"
             ],
             [
              0.3333333333333333,
              "#9c179e"
             ],
             [
              0.4444444444444444,
              "#bd3786"
             ],
             [
              0.5555555555555556,
              "#d8576b"
             ],
             [
              0.6666666666666666,
              "#ed7953"
             ],
             [
              0.7777777777777778,
              "#fb9f3a"
             ],
             [
              0.8888888888888888,
              "#fdca26"
             ],
             [
              1,
              "#f0f921"
             ]
            ],
            "type": "heatmap"
           }
          ],
          "heatmapgl": [
           {
            "colorbar": {
             "outlinewidth": 0,
             "ticks": ""
            },
            "colorscale": [
             [
              0,
              "#0d0887"
             ],
             [
              0.1111111111111111,
              "#46039f"
             ],
             [
              0.2222222222222222,
              "#7201a8"
             ],
             [
              0.3333333333333333,
              "#9c179e"
             ],
             [
              0.4444444444444444,
              "#bd3786"
             ],
             [
              0.5555555555555556,
              "#d8576b"
             ],
             [
              0.6666666666666666,
              "#ed7953"
             ],
             [
              0.7777777777777778,
              "#fb9f3a"
             ],
             [
              0.8888888888888888,
              "#fdca26"
             ],
             [
              1,
              "#f0f921"
             ]
            ],
            "type": "heatmapgl"
           }
          ],
          "histogram": [
           {
            "marker": {
             "pattern": {
              "fillmode": "overlay",
              "size": 10,
              "solidity": 0.2
             }
            },
            "type": "histogram"
           }
          ],
          "histogram2d": [
           {
            "colorbar": {
             "outlinewidth": 0,
             "ticks": ""
            },
            "colorscale": [
             [
              0,
              "#0d0887"
             ],
             [
              0.1111111111111111,
              "#46039f"
             ],
             [
              0.2222222222222222,
              "#7201a8"
             ],
             [
              0.3333333333333333,
              "#9c179e"
             ],
             [
              0.4444444444444444,
              "#bd3786"
             ],
             [
              0.5555555555555556,
              "#d8576b"
             ],
             [
              0.6666666666666666,
              "#ed7953"
             ],
             [
              0.7777777777777778,
              "#fb9f3a"
             ],
             [
              0.8888888888888888,
              "#fdca26"
             ],
             [
              1,
              "#f0f921"
             ]
            ],
            "type": "histogram2d"
           }
          ],
          "histogram2dcontour": [
           {
            "colorbar": {
             "outlinewidth": 0,
             "ticks": ""
            },
            "colorscale": [
             [
              0,
              "#0d0887"
             ],
             [
              0.1111111111111111,
              "#46039f"
             ],
             [
              0.2222222222222222,
              "#7201a8"
             ],
             [
              0.3333333333333333,
              "#9c179e"
             ],
             [
              0.4444444444444444,
              "#bd3786"
             ],
             [
              0.5555555555555556,
              "#d8576b"
             ],
             [
              0.6666666666666666,
              "#ed7953"
             ],
             [
              0.7777777777777778,
              "#fb9f3a"
             ],
             [
              0.8888888888888888,
              "#fdca26"
             ],
             [
              1,
              "#f0f921"
             ]
            ],
            "type": "histogram2dcontour"
           }
          ],
          "mesh3d": [
           {
            "colorbar": {
             "outlinewidth": 0,
             "ticks": ""
            },
            "type": "mesh3d"
           }
          ],
          "parcoords": [
           {
            "line": {
             "colorbar": {
              "outlinewidth": 0,
              "ticks": ""
             }
            },
            "type": "parcoords"
           }
          ],
          "pie": [
           {
            "automargin": true,
            "type": "pie"
           }
          ],
          "scatter": [
           {
            "fillpattern": {
             "fillmode": "overlay",
             "size": 10,
             "solidity": 0.2
            },
            "type": "scatter"
           }
          ],
          "scatter3d": [
           {
            "line": {
             "colorbar": {
              "outlinewidth": 0,
              "ticks": ""
             }
            },
            "marker": {
             "colorbar": {
              "outlinewidth": 0,
              "ticks": ""
             }
            },
            "type": "scatter3d"
           }
          ],
          "scattercarpet": [
           {
            "marker": {
             "colorbar": {
              "outlinewidth": 0,
              "ticks": ""
             }
            },
            "type": "scattercarpet"
           }
          ],
          "scattergeo": [
           {
            "marker": {
             "colorbar": {
              "outlinewidth": 0,
              "ticks": ""
             }
            },
            "type": "scattergeo"
           }
          ],
          "scattergl": [
           {
            "marker": {
             "colorbar": {
              "outlinewidth": 0,
              "ticks": ""
             }
            },
            "type": "scattergl"
           }
          ],
          "scattermapbox": [
           {
            "marker": {
             "colorbar": {
              "outlinewidth": 0,
              "ticks": ""
             }
            },
            "type": "scattermapbox"
           }
          ],
          "scatterpolar": [
           {
            "marker": {
             "colorbar": {
              "outlinewidth": 0,
              "ticks": ""
             }
            },
            "type": "scatterpolar"
           }
          ],
          "scatterpolargl": [
           {
            "marker": {
             "colorbar": {
              "outlinewidth": 0,
              "ticks": ""
             }
            },
            "type": "scatterpolargl"
           }
          ],
          "scatterternary": [
           {
            "marker": {
             "colorbar": {
              "outlinewidth": 0,
              "ticks": ""
             }
            },
            "type": "scatterternary"
           }
          ],
          "surface": [
           {
            "colorbar": {
             "outlinewidth": 0,
             "ticks": ""
            },
            "colorscale": [
             [
              0,
              "#0d0887"
             ],
             [
              0.1111111111111111,
              "#46039f"
             ],
             [
              0.2222222222222222,
              "#7201a8"
             ],
             [
              0.3333333333333333,
              "#9c179e"
             ],
             [
              0.4444444444444444,
              "#bd3786"
             ],
             [
              0.5555555555555556,
              "#d8576b"
             ],
             [
              0.6666666666666666,
              "#ed7953"
             ],
             [
              0.7777777777777778,
              "#fb9f3a"
             ],
             [
              0.8888888888888888,
              "#fdca26"
             ],
             [
              1,
              "#f0f921"
             ]
            ],
            "type": "surface"
           }
          ],
          "table": [
           {
            "cells": {
             "fill": {
              "color": "#EBF0F8"
             },
             "line": {
              "color": "white"
             }
            },
            "header": {
             "fill": {
              "color": "#C8D4E3"
             },
             "line": {
              "color": "white"
             }
            },
            "type": "table"
           }
          ]
         },
         "layout": {
          "annotationdefaults": {
           "arrowcolor": "#2a3f5f",
           "arrowhead": 0,
           "arrowwidth": 1
          },
          "autotypenumbers": "strict",
          "coloraxis": {
           "colorbar": {
            "outlinewidth": 0,
            "ticks": ""
           }
          },
          "colorscale": {
           "diverging": [
            [
             0,
             "#8e0152"
            ],
            [
             0.1,
             "#c51b7d"
            ],
            [
             0.2,
             "#de77ae"
            ],
            [
             0.3,
             "#f1b6da"
            ],
            [
             0.4,
             "#fde0ef"
            ],
            [
             0.5,
             "#f7f7f7"
            ],
            [
             0.6,
             "#e6f5d0"
            ],
            [
             0.7,
             "#b8e186"
            ],
            [
             0.8,
             "#7fbc41"
            ],
            [
             0.9,
             "#4d9221"
            ],
            [
             1,
             "#276419"
            ]
           ],
           "sequential": [
            [
             0,
             "#0d0887"
            ],
            [
             0.1111111111111111,
             "#46039f"
            ],
            [
             0.2222222222222222,
             "#7201a8"
            ],
            [
             0.3333333333333333,
             "#9c179e"
            ],
            [
             0.4444444444444444,
             "#bd3786"
            ],
            [
             0.5555555555555556,
             "#d8576b"
            ],
            [
             0.6666666666666666,
             "#ed7953"
            ],
            [
             0.7777777777777778,
             "#fb9f3a"
            ],
            [
             0.8888888888888888,
             "#fdca26"
            ],
            [
             1,
             "#f0f921"
            ]
           ],
           "sequentialminus": [
            [
             0,
             "#0d0887"
            ],
            [
             0.1111111111111111,
             "#46039f"
            ],
            [
             0.2222222222222222,
             "#7201a8"
            ],
            [
             0.3333333333333333,
             "#9c179e"
            ],
            [
             0.4444444444444444,
             "#bd3786"
            ],
            [
             0.5555555555555556,
             "#d8576b"
            ],
            [
             0.6666666666666666,
             "#ed7953"
            ],
            [
             0.7777777777777778,
             "#fb9f3a"
            ],
            [
             0.8888888888888888,
             "#fdca26"
            ],
            [
             1,
             "#f0f921"
            ]
           ]
          },
          "colorway": [
           "#636efa",
           "#EF553B",
           "#00cc96",
           "#ab63fa",
           "#FFA15A",
           "#19d3f3",
           "#FF6692",
           "#B6E880",
           "#FF97FF",
           "#FECB52"
          ],
          "font": {
           "color": "#2a3f5f"
          },
          "geo": {
           "bgcolor": "white",
           "lakecolor": "white",
           "landcolor": "#E5ECF6",
           "showlakes": true,
           "showland": true,
           "subunitcolor": "white"
          },
          "hoverlabel": {
           "align": "left"
          },
          "hovermode": "closest",
          "mapbox": {
           "style": "light"
          },
          "paper_bgcolor": "white",
          "plot_bgcolor": "#E5ECF6",
          "polar": {
           "angularaxis": {
            "gridcolor": "white",
            "linecolor": "white",
            "ticks": ""
           },
           "bgcolor": "#E5ECF6",
           "radialaxis": {
            "gridcolor": "white",
            "linecolor": "white",
            "ticks": ""
           }
          },
          "scene": {
           "xaxis": {
            "backgroundcolor": "#E5ECF6",
            "gridcolor": "white",
            "gridwidth": 2,
            "linecolor": "white",
            "showbackground": true,
            "ticks": "",
            "zerolinecolor": "white"
           },
           "yaxis": {
            "backgroundcolor": "#E5ECF6",
            "gridcolor": "white",
            "gridwidth": 2,
            "linecolor": "white",
            "showbackground": true,
            "ticks": "",
            "zerolinecolor": "white"
           },
           "zaxis": {
            "backgroundcolor": "#E5ECF6",
            "gridcolor": "white",
            "gridwidth": 2,
            "linecolor": "white",
            "showbackground": true,
            "ticks": "",
            "zerolinecolor": "white"
           }
          },
          "shapedefaults": {
           "line": {
            "color": "#2a3f5f"
           }
          },
          "ternary": {
           "aaxis": {
            "gridcolor": "white",
            "linecolor": "white",
            "ticks": ""
           },
           "baxis": {
            "gridcolor": "white",
            "linecolor": "white",
            "ticks": ""
           },
           "bgcolor": "#E5ECF6",
           "caxis": {
            "gridcolor": "white",
            "linecolor": "white",
            "ticks": ""
           }
          },
          "title": {
           "x": 0.05
          },
          "xaxis": {
           "automargin": true,
           "gridcolor": "white",
           "linecolor": "white",
           "ticks": "",
           "title": {
            "standoff": 15
           },
           "zerolinecolor": "white",
           "zerolinewidth": 2
          },
          "yaxis": {
           "automargin": true,
           "gridcolor": "white",
           "linecolor": "white",
           "ticks": "",
           "title": {
            "standoff": 15
           },
           "zerolinecolor": "white",
           "zerolinewidth": 2
          }
         }
        },
        "xaxis": {
         "anchor": "y",
         "domain": [
          0,
          1
         ],
         "range": [
          0,
          37.428958333333334
         ],
         "title": {
          "text": "Temperature"
         }
        },
        "yaxis": {
         "anchor": "x",
         "domain": [
          0,
          1
         ],
         "range": [
          0,
          43733.49611555555
         ],
         "title": {
          "text": "Power Consumption"
         }
        }
       }
      },
      "text/html": [
       "<div>                            <div id=\"9b51ea04-630a-4eca-bb83-00225bcd454f\" class=\"plotly-graph-div\" style=\"height:525px; width:100%;\"></div>            <script type=\"text/javascript\">                require([\"plotly\"], function(Plotly) {                    window.PLOTLYENV=window.PLOTLYENV || {};                                    if (document.getElementById(\"9b51ea04-630a-4eca-bb83-00225bcd454f\")) {                    Plotly.newPlot(                        \"9b51ea04-630a-4eca-bb83-00225bcd454f\",                        [{\"customdata\":[[\"Zone1\"],[\"Zone1\"],[\"Zone1\"],[\"Zone1\"],[\"Zone1\"],[\"Zone1\"],[\"Zone1\"],[\"Zone1\"],[\"Zone1\"],[\"Zone1\"],[\"Zone1\"],[\"Zone1\"],[\"Zone1\"],[\"Zone1\"],[\"Zone1\"],[\"Zone1\"],[\"Zone1\"],[\"Zone1\"],[\"Zone1\"],[\"Zone1\"],[\"Zone1\"],[\"Zone1\"],[\"Zone1\"],[\"Zone1\"],[\"Zone1\"],[\"Zone1\"],[\"Zone1\"],[\"Zone1\"],[\"Zone1\"],[\"Zone1\"],[\"Zone1\"]],\"hovertemplate\":\"<b>%{hovertext}</b><br><br>Temperature=%{x:.2f}<br>Power Consumption=%{y:.2f}<extra></extra>\",\"hovertext\":[\"Zone1\",\"Zone1\",\"Zone1\",\"Zone1\",\"Zone1\",\"Zone1\",\"Zone1\",\"Zone1\",\"Zone1\",\"Zone1\",\"Zone1\",\"Zone1\",\"Zone1\",\"Zone1\",\"Zone1\",\"Zone1\",\"Zone1\",\"Zone1\",\"Zone1\",\"Zone1\",\"Zone1\",\"Zone1\",\"Zone1\",\"Zone1\",\"Zone1\",\"Zone1\",\"Zone1\",\"Zone1\",\"Zone1\",\"Zone1\",\"Zone1\"],\"legendgroup\":\"Zone1\",\"marker\":{\"color\":\"orangered\",\"symbol\":\"circle\"},\"mode\":\"markers\",\"name\":\"Zone1\",\"orientation\":\"v\",\"showlegend\":true,\"x\":[9.67529861111111,12.476875,12.100000000000001,10.509479166666667,10.866444444444445,11.685208333333334,12.018819444444444,14.724652777777777,15.490138888888888,14.019583333333333,13.28173611111111,13.895555555555555,14.630625,14.98798611111111,14.23263888888889,13.365972222222222,11.371736111111112,13.681388888888888,11.641875,11.16986111111111,11.184236111111112,12.839097222222222,11.418055555555556,10.841402777777779,9.884284722222223,11.22036111111111,11.854840277777777,13.521388888888888,14.560069444444444,16.618680555555557,15.267569444444446],\"xaxis\":\"x\",\"y\":[28465.232067083332,28869.493670625,30562.447257291667,30689.831223611112,30802.911392847225,30712.236287083335,30612.70042166667,29559.915611944445,30540.253164583333,31863.291138333334,31057.763713194447,32075.94936736111,31476.075949375,30834.683544375002,26771.5189875,30587.257384166664,31831.64557,32860.50632868055,32140.210970208333,31783.164557291668,31928.016877708335,30921.687763402777,32505.400843333337,31583.24894527778,32303.670886249998,32694.641350416667,32296.751054166667,31298.227847986112,29260.590717638886,31524.008438819445,31593.966244652776],\"yaxis\":\"y\",\"type\":\"scatter\"},{\"customdata\":[[\"Zone2\"],[\"Zone2\"],[\"Zone2\"],[\"Zone2\"],[\"Zone2\"],[\"Zone2\"],[\"Zone2\"],[\"Zone2\"],[\"Zone2\"],[\"Zone2\"],[\"Zone2\"],[\"Zone2\"],[\"Zone2\"],[\"Zone2\"],[\"Zone2\"],[\"Zone2\"],[\"Zone2\"],[\"Zone2\"],[\"Zone2\"],[\"Zone2\"],[\"Zone2\"],[\"Zone2\"],[\"Zone2\"],[\"Zone2\"],[\"Zone2\"],[\"Zone2\"],[\"Zone2\"],[\"Zone2\"],[\"Zone2\"],[\"Zone2\"],[\"Zone2\"]],\"hovertemplate\":\"<b>%{hovertext}</b><br><br>Temperature=%{x:.2f}<br>Power Consumption=%{y:.2f}<extra></extra>\",\"hovertext\":[\"Zone2\",\"Zone2\",\"Zone2\",\"Zone2\",\"Zone2\",\"Zone2\",\"Zone2\",\"Zone2\",\"Zone2\",\"Zone2\",\"Zone2\",\"Zone2\",\"Zone2\",\"Zone2\",\"Zone2\",\"Zone2\",\"Zone2\",\"Zone2\",\"Zone2\",\"Zone2\",\"Zone2\",\"Zone2\",\"Zone2\",\"Zone2\",\"Zone2\",\"Zone2\",\"Zone2\",\"Zone2\",\"Zone2\",\"Zone2\",\"Zone2\"],\"legendgroup\":\"Zone2\",\"marker\":{\"color\":\"darkorange\",\"symbol\":\"circle\"},\"mode\":\"markers\",\"name\":\"Zone2\",\"orientation\":\"v\",\"showlegend\":true,\"x\":[9.67529861111111,12.476875,12.100000000000001,10.509479166666667,10.866444444444445,11.685208333333334,12.018819444444444,14.724652777777777,15.490138888888888,14.019583333333333,13.28173611111111,13.895555555555555,14.630625,14.98798611111111,14.23263888888889,13.365972222222222,11.371736111111112,13.681388888888888,11.641875,11.16986111111111,11.184236111111112,12.839097222222222,11.418055555555556,10.841402777777779,9.884284722222223,11.22036111111111,11.854840277777777,13.521388888888888,14.560069444444444,16.618680555555557,15.267569444444446],\"xaxis\":\"x\",\"y\":[17737.791286736112,19557.725430694445,20057.269503680556,20102.077001041667,20033.941236666666,20139.76697027778,19252.431610555555,17221.124619930557,19102.634245138892,19405.268490000002,18717.426544583333,19837.234041944444,19515.62816576389,18788.627153194444,19632.624113333335,19720.8713275,19180.547112430555,21175.607902916665,20905.952381249997,20637.38601847222,20048.86018236111,16761.271529840276,19702.203647777776,19651.671732500003,20058.308003680555,20066.464032569445,20191.69199576389,19075.101317152777,16838.221884444443,18932.953394444445,19179.103343541665],\"yaxis\":\"y\",\"type\":\"scatter\"},{\"customdata\":[[\"Zone3\"],[\"Zone3\"],[\"Zone3\"],[\"Zone3\"],[\"Zone3\"],[\"Zone3\"],[\"Zone3\"],[\"Zone3\"],[\"Zone3\"],[\"Zone3\"],[\"Zone3\"],[\"Zone3\"],[\"Zone3\"],[\"Zone3\"],[\"Zone3\"],[\"Zone3\"],[\"Zone3\"],[\"Zone3\"],[\"Zone3\"],[\"Zone3\"],[\"Zone3\"],[\"Zone3\"],[\"Zone3\"],[\"Zone3\"],[\"Zone3\"],[\"Zone3\"],[\"Zone3\"],[\"Zone3\"],[\"Zone3\"],[\"Zone3\"],[\"Zone3\"]],\"hovertemplate\":\"<b>%{hovertext}</b><br><br>Temperature=%{x:.2f}<br>Power Consumption=%{y:.2f}<extra></extra>\",\"hovertext\":[\"Zone3\",\"Zone3\",\"Zone3\",\"Zone3\",\"Zone3\",\"Zone3\",\"Zone3\",\"Zone3\",\"Zone3\",\"Zone3\",\"Zone3\",\"Zone3\",\"Zone3\",\"Zone3\",\"Zone3\",\"Zone3\",\"Zone3\",\"Zone3\",\"Zone3\",\"Zone3\",\"Zone3\",\"Zone3\",\"Zone3\",\"Zone3\",\"Zone3\",\"Zone3\",\"Zone3\",\"Zone3\",\"Zone3\",\"Zone3\",\"Zone3\"],\"legendgroup\":\"Zone3\",\"marker\":{\"color\":\"seagreen\",\"symbol\":\"circle\"},\"mode\":\"markers\",\"name\":\"Zone3\",\"orientation\":\"v\",\"showlegend\":true,\"x\":[9.67529861111111,12.476875,12.100000000000001,10.509479166666667,10.866444444444445,11.685208333333334,12.018819444444444,14.724652777777777,15.490138888888888,14.019583333333333,13.28173611111111,13.895555555555555,14.630625,14.98798611111111,14.23263888888889,13.365972222222222,11.371736111111112,13.681388888888888,11.641875,11.16986111111111,11.184236111111112,12.839097222222222,11.418055555555556,10.841402777777779,9.884284722222223,11.22036111111111,11.854840277777777,13.521388888888888,14.560069444444444,16.618680555555557,15.267569444444446],\"xaxis\":\"x\",\"y\":[17868.795180625002,17820.763052708335,17620.803212916668,17673.694778680554,17664.17670701389,17481.084337430555,17985.943774791667,17810.60240951389,17417.79116465278,17425.341365555556,17307.590361249997,17507.389558402778,17051.686747083335,17716.144578194442,17620.04016076389,17505.943775069445,17854.979919583333,18573.493975972222,18239.919678749997,17631.566265347225,18346.10441777778,17849.23694763889,18078.87550222222,17995.220883888887,17658.955823194447,18061.20481923611,17724.016064444444,17792.891566319442,17504.698794930555,17577.991967569444,17762.00803215278],\"yaxis\":\"y\",\"type\":\"scatter\"}],                        {\"template\":{\"data\":{\"histogram2dcontour\":[{\"type\":\"histogram2dcontour\",\"colorbar\":{\"outlinewidth\":0,\"ticks\":\"\"},\"colorscale\":[[0.0,\"#0d0887\"],[0.1111111111111111,\"#46039f\"],[0.2222222222222222,\"#7201a8\"],[0.3333333333333333,\"#9c179e\"],[0.4444444444444444,\"#bd3786\"],[0.5555555555555556,\"#d8576b\"],[0.6666666666666666,\"#ed7953\"],[0.7777777777777778,\"#fb9f3a\"],[0.8888888888888888,\"#fdca26\"],[1.0,\"#f0f921\"]]}],\"choropleth\":[{\"type\":\"choropleth\",\"colorbar\":{\"outlinewidth\":0,\"ticks\":\"\"}}],\"histogram2d\":[{\"type\":\"histogram2d\",\"colorbar\":{\"outlinewidth\":0,\"ticks\":\"\"},\"colorscale\":[[0.0,\"#0d0887\"],[0.1111111111111111,\"#46039f\"],[0.2222222222222222,\"#7201a8\"],[0.3333333333333333,\"#9c179e\"],[0.4444444444444444,\"#bd3786\"],[0.5555555555555556,\"#d8576b\"],[0.6666666666666666,\"#ed7953\"],[0.7777777777777778,\"#fb9f3a\"],[0.8888888888888888,\"#fdca26\"],[1.0,\"#f0f921\"]]}],\"heatmap\":[{\"type\":\"heatmap\",\"colorbar\":{\"outlinewidth\":0,\"ticks\":\"\"},\"colorscale\":[[0.0,\"#0d0887\"],[0.1111111111111111,\"#46039f\"],[0.2222222222222222,\"#7201a8\"],[0.3333333333333333,\"#9c179e\"],[0.4444444444444444,\"#bd3786\"],[0.5555555555555556,\"#d8576b\"],[0.6666666666666666,\"#ed7953\"],[0.7777777777777778,\"#fb9f3a\"],[0.8888888888888888,\"#fdca26\"],[1.0,\"#f0f921\"]]}],\"heatmapgl\":[{\"type\":\"heatmapgl\",\"colorbar\":{\"outlinewidth\":0,\"ticks\":\"\"},\"colorscale\":[[0.0,\"#0d0887\"],[0.1111111111111111,\"#46039f\"],[0.2222222222222222,\"#7201a8\"],[0.3333333333333333,\"#9c179e\"],[0.4444444444444444,\"#bd3786\"],[0.5555555555555556,\"#d8576b\"],[0.6666666666666666,\"#ed7953\"],[0.7777777777777778,\"#fb9f3a\"],[0.8888888888888888,\"#fdca26\"],[1.0,\"#f0f921\"]]}],\"contourcarpet\":[{\"type\":\"contourcarpet\",\"colorbar\":{\"outlinewidth\":0,\"ticks\":\"\"}}],\"contour\":[{\"type\":\"contour\",\"colorbar\":{\"outlinewidth\":0,\"ticks\":\"\"},\"colorscale\":[[0.0,\"#0d0887\"],[0.1111111111111111,\"#46039f\"],[0.2222222222222222,\"#7201a8\"],[0.3333333333333333,\"#9c179e\"],[0.4444444444444444,\"#bd3786\"],[0.5555555555555556,\"#d8576b\"],[0.6666666666666666,\"#ed7953\"],[0.7777777777777778,\"#fb9f3a\"],[0.8888888888888888,\"#fdca26\"],[1.0,\"#f0f921\"]]}],\"surface\":[{\"type\":\"surface\",\"colorbar\":{\"outlinewidth\":0,\"ticks\":\"\"},\"colorscale\":[[0.0,\"#0d0887\"],[0.1111111111111111,\"#46039f\"],[0.2222222222222222,\"#7201a8\"],[0.3333333333333333,\"#9c179e\"],[0.4444444444444444,\"#bd3786\"],[0.5555555555555556,\"#d8576b\"],[0.6666666666666666,\"#ed7953\"],[0.7777777777777778,\"#fb9f3a\"],[0.8888888888888888,\"#fdca26\"],[1.0,\"#f0f921\"]]}],\"mesh3d\":[{\"type\":\"mesh3d\",\"colorbar\":{\"outlinewidth\":0,\"ticks\":\"\"}}],\"scatter\":[{\"fillpattern\":{\"fillmode\":\"overlay\",\"size\":10,\"solidity\":0.2},\"type\":\"scatter\"}],\"parcoords\":[{\"type\":\"parcoords\",\"line\":{\"colorbar\":{\"outlinewidth\":0,\"ticks\":\"\"}}}],\"scatterpolargl\":[{\"type\":\"scatterpolargl\",\"marker\":{\"colorbar\":{\"outlinewidth\":0,\"ticks\":\"\"}}}],\"bar\":[{\"error_x\":{\"color\":\"#2a3f5f\"},\"error_y\":{\"color\":\"#2a3f5f\"},\"marker\":{\"line\":{\"color\":\"#E5ECF6\",\"width\":0.5},\"pattern\":{\"fillmode\":\"overlay\",\"size\":10,\"solidity\":0.2}},\"type\":\"bar\"}],\"scattergeo\":[{\"type\":\"scattergeo\",\"marker\":{\"colorbar\":{\"outlinewidth\":0,\"ticks\":\"\"}}}],\"scatterpolar\":[{\"type\":\"scatterpolar\",\"marker\":{\"colorbar\":{\"outlinewidth\":0,\"ticks\":\"\"}}}],\"histogram\":[{\"marker\":{\"pattern\":{\"fillmode\":\"overlay\",\"size\":10,\"solidity\":0.2}},\"type\":\"histogram\"}],\"scattergl\":[{\"type\":\"scattergl\",\"marker\":{\"colorbar\":{\"outlinewidth\":0,\"ticks\":\"\"}}}],\"scatter3d\":[{\"type\":\"scatter3d\",\"line\":{\"colorbar\":{\"outlinewidth\":0,\"ticks\":\"\"}},\"marker\":{\"colorbar\":{\"outlinewidth\":0,\"ticks\":\"\"}}}],\"scattermapbox\":[{\"type\":\"scattermapbox\",\"marker\":{\"colorbar\":{\"outlinewidth\":0,\"ticks\":\"\"}}}],\"scatterternary\":[{\"type\":\"scatterternary\",\"marker\":{\"colorbar\":{\"outlinewidth\":0,\"ticks\":\"\"}}}],\"scattercarpet\":[{\"type\":\"scattercarpet\",\"marker\":{\"colorbar\":{\"outlinewidth\":0,\"ticks\":\"\"}}}],\"carpet\":[{\"aaxis\":{\"endlinecolor\":\"#2a3f5f\",\"gridcolor\":\"white\",\"linecolor\":\"white\",\"minorgridcolor\":\"white\",\"startlinecolor\":\"#2a3f5f\"},\"baxis\":{\"endlinecolor\":\"#2a3f5f\",\"gridcolor\":\"white\",\"linecolor\":\"white\",\"minorgridcolor\":\"white\",\"startlinecolor\":\"#2a3f5f\"},\"type\":\"carpet\"}],\"table\":[{\"cells\":{\"fill\":{\"color\":\"#EBF0F8\"},\"line\":{\"color\":\"white\"}},\"header\":{\"fill\":{\"color\":\"#C8D4E3\"},\"line\":{\"color\":\"white\"}},\"type\":\"table\"}],\"barpolar\":[{\"marker\":{\"line\":{\"color\":\"#E5ECF6\",\"width\":0.5},\"pattern\":{\"fillmode\":\"overlay\",\"size\":10,\"solidity\":0.2}},\"type\":\"barpolar\"}],\"pie\":[{\"automargin\":true,\"type\":\"pie\"}]},\"layout\":{\"autotypenumbers\":\"strict\",\"colorway\":[\"#636efa\",\"#EF553B\",\"#00cc96\",\"#ab63fa\",\"#FFA15A\",\"#19d3f3\",\"#FF6692\",\"#B6E880\",\"#FF97FF\",\"#FECB52\"],\"font\":{\"color\":\"#2a3f5f\"},\"hovermode\":\"closest\",\"hoverlabel\":{\"align\":\"left\"},\"paper_bgcolor\":\"white\",\"plot_bgcolor\":\"#E5ECF6\",\"polar\":{\"bgcolor\":\"#E5ECF6\",\"angularaxis\":{\"gridcolor\":\"white\",\"linecolor\":\"white\",\"ticks\":\"\"},\"radialaxis\":{\"gridcolor\":\"white\",\"linecolor\":\"white\",\"ticks\":\"\"}},\"ternary\":{\"bgcolor\":\"#E5ECF6\",\"aaxis\":{\"gridcolor\":\"white\",\"linecolor\":\"white\",\"ticks\":\"\"},\"baxis\":{\"gridcolor\":\"white\",\"linecolor\":\"white\",\"ticks\":\"\"},\"caxis\":{\"gridcolor\":\"white\",\"linecolor\":\"white\",\"ticks\":\"\"}},\"coloraxis\":{\"colorbar\":{\"outlinewidth\":0,\"ticks\":\"\"}},\"colorscale\":{\"sequential\":[[0.0,\"#0d0887\"],[0.1111111111111111,\"#46039f\"],[0.2222222222222222,\"#7201a8\"],[0.3333333333333333,\"#9c179e\"],[0.4444444444444444,\"#bd3786\"],[0.5555555555555556,\"#d8576b\"],[0.6666666666666666,\"#ed7953\"],[0.7777777777777778,\"#fb9f3a\"],[0.8888888888888888,\"#fdca26\"],[1.0,\"#f0f921\"]],\"sequentialminus\":[[0.0,\"#0d0887\"],[0.1111111111111111,\"#46039f\"],[0.2222222222222222,\"#7201a8\"],[0.3333333333333333,\"#9c179e\"],[0.4444444444444444,\"#bd3786\"],[0.5555555555555556,\"#d8576b\"],[0.6666666666666666,\"#ed7953\"],[0.7777777777777778,\"#fb9f3a\"],[0.8888888888888888,\"#fdca26\"],[1.0,\"#f0f921\"]],\"diverging\":[[0,\"#8e0152\"],[0.1,\"#c51b7d\"],[0.2,\"#de77ae\"],[0.3,\"#f1b6da\"],[0.4,\"#fde0ef\"],[0.5,\"#f7f7f7\"],[0.6,\"#e6f5d0\"],[0.7,\"#b8e186\"],[0.8,\"#7fbc41\"],[0.9,\"#4d9221\"],[1,\"#276419\"]]},\"xaxis\":{\"gridcolor\":\"white\",\"linecolor\":\"white\",\"ticks\":\"\",\"title\":{\"standoff\":15},\"zerolinecolor\":\"white\",\"automargin\":true,\"zerolinewidth\":2},\"yaxis\":{\"gridcolor\":\"white\",\"linecolor\":\"white\",\"ticks\":\"\",\"title\":{\"standoff\":15},\"zerolinecolor\":\"white\",\"automargin\":true,\"zerolinewidth\":2},\"scene\":{\"xaxis\":{\"backgroundcolor\":\"#E5ECF6\",\"gridcolor\":\"white\",\"linecolor\":\"white\",\"showbackground\":true,\"ticks\":\"\",\"zerolinecolor\":\"white\",\"gridwidth\":2},\"yaxis\":{\"backgroundcolor\":\"#E5ECF6\",\"gridcolor\":\"white\",\"linecolor\":\"white\",\"showbackground\":true,\"ticks\":\"\",\"zerolinecolor\":\"white\",\"gridwidth\":2},\"zaxis\":{\"backgroundcolor\":\"#E5ECF6\",\"gridcolor\":\"white\",\"linecolor\":\"white\",\"showbackground\":true,\"ticks\":\"\",\"zerolinecolor\":\"white\",\"gridwidth\":2}},\"shapedefaults\":{\"line\":{\"color\":\"#2a3f5f\"}},\"annotationdefaults\":{\"arrowcolor\":\"#2a3f5f\",\"arrowhead\":0,\"arrowwidth\":1},\"geo\":{\"bgcolor\":\"white\",\"landcolor\":\"#E5ECF6\",\"subunitcolor\":\"white\",\"showland\":true,\"showlakes\":true,\"lakecolor\":\"white\"},\"title\":{\"x\":0.05},\"mapbox\":{\"style\":\"light\"}}},\"xaxis\":{\"anchor\":\"y\",\"domain\":[0.0,1.0],\"title\":{\"text\":\"Temperature\"},\"range\":[0,37.428958333333334]},\"yaxis\":{\"anchor\":\"x\",\"domain\":[0.0,1.0],\"title\":{\"text\":\"Power Consumption\"},\"range\":[0,43733.49611555555]},\"legend\":{\"title\":{\"text\":\"Zone\"},\"tracegroupgap\":0},\"margin\":{\"t\":60}},                        {\"responsive\": true}                    ).then(function(){\n",
       "                            \n",
       "var gd = document.getElementById('9b51ea04-630a-4eca-bb83-00225bcd454f');\n",
       "var x = new MutationObserver(function (mutations, observer) {{\n",
       "        var display = window.getComputedStyle(gd).display;\n",
       "        if (!display || display === 'none') {{\n",
       "            console.log([gd, 'removed!']);\n",
       "            Plotly.purge(gd);\n",
       "            observer.disconnect();\n",
       "        }}\n",
       "}});\n",
       "\n",
       "// Listen for the removal of the full notebook cells\n",
       "var notebookContainer = gd.closest('#notebook-container');\n",
       "if (notebookContainer) {{\n",
       "    x.observe(notebookContainer, {childList: true});\n",
       "}}\n",
       "\n",
       "// Listen for the clearing of the current output cell\n",
       "var outputEl = gd.closest('.output');\n",
       "if (outputEl) {{\n",
       "    x.observe(outputEl, {childList: true});\n",
       "}}\n",
       "\n",
       "                        })                };                });            </script>        </div>"
      ]
     },
     "metadata": {},
     "output_type": "display_data"
    }
   ],
   "source": [
    "# Plotting the scatter plot of the filtered_data\n",
    "scatter_fig = px.scatter(filtered_data, x='Temperature', y=['Zone1','Zone2','Zone3'], \n",
    "        color_discrete_sequence=['orangered','darkorange','seagreen'],\n",
    "        hover_name='variable', \n",
    "        hover_data={'variable':None, 'value':':.2f', 'Temperature':':.2f'}, \n",
    "        labels={\n",
    "            'variable': 'Zone',\n",
    "            'value': 'Power Consumption',\n",
    "        } \n",
    "    )\n",
    "scatter_fig.update_xaxes(range=[0, dfd.Temperature.max()+5])\n",
    "scatter_fig.update_yaxes(range=[0, dfd.Zone1.max()+5000])"
   ]
  },
  {
   "cell_type": "markdown",
   "metadata": {},
   "source": [
    "## 2. Building the layout "
   ]
  },
  {
   "cell_type": "code",
   "execution_count": 9,
   "metadata": {},
   "outputs": [],
   "source": [
    "# Creating the Dash app\n",
    "app = Dash()"
   ]
  },
  {
   "cell_type": "code",
   "execution_count": 10,
   "metadata": {},
   "outputs": [],
   "source": [
    "app.layout = html.Div(children=[\n",
    "    # Defining the title\n",
    "    html.H1(id='H1', children='Power Consumption in Tetouan, 2017', \n",
    "            style={'textAlign':'center', 'color':'green'}),\n",
    "    # Defining a subtitle           \n",
    "    html.H3(id='H3', children='(Introducing Slider)', \n",
    "            style={'textAlign':'center'}),                \n",
    "    # Defining a vertical slider        \n",
    "    html.Div(\n",
    "        dcc.Slider(\n",
    "            # defining min and max values\n",
    "            min=int(dfd.month.min()),\n",
    "            max=int(dfd.month.max()),\n",
    "            # defining the step\n",
    "            step=1,\n",
    "            # defining the initial value, March for instance\n",
    "            value=3,\n",
    "            marks={\n",
    "                1: 'Jan',\n",
    "                2: 'Feb', \n",
    "                3: 'Mar', \n",
    "                4: 'Apr', \n",
    "                5: 'May', \n",
    "                6: 'Jun', \n",
    "                7: 'Jul', \n",
    "                8: 'Aug', \n",
    "                9: 'Sep', \n",
    "                10: 'Oct', \n",
    "                11: 'Nov', \n",
    "                12: 'Dec'\n",
    "            },\n",
    "            included = False,\n",
    "            # Vertical Slider\n",
    "            vertical = True,    \n",
    "            id='month-slider'        \n",
    "        ), # end of Slider\n",
    "        style={'width': '8%', 'display': 'inline-block', 'margin-left': '30px'} ),\n",
    "    # Defining the graph.  \n",
    "    html.Div(\n",
    "        dcc.Graph(id='power-scatter'), \n",
    "        style={'width': '80%', 'display': 'inline-block'})\n",
    "], style={'backgroundColor': 'white'})\n"
   ]
  },
  {
   "cell_type": "markdown",
   "metadata": {},
   "source": [
    "## 3. Adding interactivity with callback functions"
   ]
  },
  {
   "cell_type": "markdown",
   "metadata": {},
   "source": [
    "This dashboard will have one `Input`, the `RadioItems` value, and one `Output`, a graph."
   ]
  },
  {
   "cell_type": "code",
   "execution_count": 11,
   "metadata": {},
   "outputs": [],
   "source": [
    "# Set up the callback function\n",
    "@app.callback(\n",
    "    Output(component_id='power-scatter', component_property='figure'),\n",
    "    Input (component_id='month-slider',  component_property='value')\n",
    ")\n",
    "def update_graph(selected_data):\n",
    "    filtered_data = dfd[dfd['month'] == selected_data]\n",
    "\n",
    "    scatter_fig = px.scatter(filtered_data, x='Temperature', y=['Zone1','Zone2','Zone3'], \n",
    "        color_discrete_sequence=['orangered','darkorange','seagreen'],\n",
    "        hover_name='variable', \n",
    "        hover_data={'variable':None, 'value':':.2f', 'Temperature':':.2f'}, \n",
    "        labels={\n",
    "            'variable': 'Zone',\n",
    "            'value': 'Power Consumption',\n",
    "        })\n",
    "    scatter_fig.update_xaxes(range=[0, dfd.Temperature.max()+5])\n",
    "    scatter_fig.update_yaxes(range=[0, dfd.Zone1.max()+5000])    \n",
    "    return scatter_fig"
   ]
  },
  {
   "cell_type": "markdown",
   "metadata": {},
   "source": [
    "## 4. Running the dashboard"
   ]
  },
  {
   "cell_type": "code",
   "execution_count": 12,
   "metadata": {},
   "outputs": [
    {
     "data": {
      "text/html": [
       "\n",
       "        <iframe\n",
       "            width=\"100%\"\n",
       "            height=\"650\"\n",
       "            src=\"http://127.0.0.1:8088/\"\n",
       "            frameborder=\"0\"\n",
       "            allowfullscreen\n",
       "            \n",
       "        ></iframe>\n",
       "        "
      ],
      "text/plain": [
       "<IPython.lib.display.IFrame at 0x18d62d94c90>"
      ]
     },
     "metadata": {},
     "output_type": "display_data"
    }
   ],
   "source": [
    "# Run app \n",
    "if __name__ == '__main__':\n",
    "    app.run_server(debug=True, port=8088)"
   ]
  },
  {
   "cell_type": "code",
   "execution_count": 13,
   "metadata": {},
   "outputs": [
    {
     "data": {
      "image/png": "[encoded data removed]",
      "text/plain": [
       "<Figure size 640x480 with 1 Axes>"
      ]
     },
     "metadata": {},
     "output_type": "display_data"
    }
   ],
   "source": [
    "# Showing an image of the dashboard\n",
    "image_s = Image.open('sliderDash.jpg')\n",
    "image_s = np.array(image_s)\n",
    "plt.imshow(image_s)\n",
    "plt.axis('off');"
   ]
  },
  {
   "cell_type": "markdown",
   "metadata": {},
   "source": [
    "![Optional Alt Text](sliderDash.jpg)"
   ]
  },
  {
   "cell_type": "markdown",
   "metadata": {},
   "source": [
    "## References"
   ]
  },
  {
   "cell_type": "markdown",
   "metadata": {},
   "source": [
    "- https://dash.plotly.com/dash-core-components/slider\n",
    "- Salam, A., & El Hibaoui, A. (2018) \"Comparison of Machine Learning Algorithms for the Power Consumption Prediction: -Case Study of Tetouan city\". In 2018 6th International Renewable and Sustainable Energy Conference (IRSEC) (pp. 1-5)"
   ]
  }
 ],
 "metadata": {
  "kernelspec": {
   "display_name": "Python 3.10.6 64-bit (windows store)",
   "language": "python",
   "name": "python3"
  },
  "language_info": {
   "codemirror_mode": {
    "name": "ipython",
    "version": 3
   },
   "file_extension": ".py",
   "mimetype": "text/x-python",
   "name": "python",
   "nbconvert_exporter": "python",
   "pygments_lexer": "ipython3",
   "version": "3.11.0"
  },
  "orig_nbformat": 4,
  "vscode": {
   "interpreter": {
    "hash": "f6ce50080babb3e2c9dded3d344b1d82a47cf5d6f13f4c2ab5a2113adb8feaef"
   }
  }
 },
 "nbformat": 4,
 "nbformat_minor": 2
}
