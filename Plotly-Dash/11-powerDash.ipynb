{
 "cells": [
  {
   "cell_type": "markdown",
   "metadata": {},
   "source": [
    "# Power Consumption Dashboard"
   ]
  },
  {
   "cell_type": "markdown",
   "metadata": {},
   "source": [
    "In this notebook, we will explain how to build a little more complicated dashboard."
   ]
  },
  {
   "cell_type": "code",
   "execution_count": 1,
   "metadata": {},
   "outputs": [],
   "source": [
    "import pandas as pd\n",
    "pd.set_option('display.max_columns', 10)\n",
    "import plotly.express as px\n",
    "from jupyter_dash import JupyterDash\n",
    "from dash import html, dcc, Input, Output"
   ]
  },
  {
   "cell_type": "markdown",
   "metadata": {},
   "source": [
    "## 1. Getting and exploring the data"
   ]
  },
  {
   "cell_type": "code",
   "execution_count": 2,
   "metadata": {},
   "outputs": [
    {
     "name": "stdout",
     "output_type": "stream",
     "text": [
      "(52416, 9)\n"
     ]
    },
    {
     "data": {
      "text/html": [
       "<div>\n",
       "<style scoped>\n",
       "    .dataframe tbody tr th:only-of-type {\n",
       "        vertical-align: middle;\n",
       "    }\n",
       "\n",
       "    .dataframe tbody tr th {\n",
       "        vertical-align: top;\n",
       "    }\n",
       "\n",
       "    .dataframe thead th {\n",
       "        text-align: right;\n",
       "    }\n",
       "</style>\n",
       "<table border=\"1\" class=\"dataframe\">\n",
       "  <thead>\n",
       "    <tr style=\"text-align: right;\">\n",
       "      <th></th>\n",
       "      <th>DateTime</th>\n",
       "      <th>Temperature</th>\n",
       "      <th>Humidity</th>\n",
       "      <th>Wind Speed</th>\n",
       "      <th>general diffuse flows</th>\n",
       "      <th>diffuse flows</th>\n",
       "      <th>Zone 1 Power Consumption</th>\n",
       "      <th>Zone 2  Power Consumption</th>\n",
       "      <th>Zone 3  Power Consumption</th>\n",
       "    </tr>\n",
       "  </thead>\n",
       "  <tbody>\n",
       "    <tr>\n",
       "      <th>0</th>\n",
       "      <td>1/1/2017 0:00</td>\n",
       "      <td>6.559</td>\n",
       "      <td>73.8</td>\n",
       "      <td>0.083</td>\n",
       "      <td>0.051</td>\n",
       "      <td>0.119</td>\n",
       "      <td>34055.69620</td>\n",
       "      <td>16128.87538</td>\n",
       "      <td>20240.96386</td>\n",
       "    </tr>\n",
       "    <tr>\n",
       "      <th>1</th>\n",
       "      <td>1/1/2017 0:10</td>\n",
       "      <td>6.414</td>\n",
       "      <td>74.5</td>\n",
       "      <td>0.083</td>\n",
       "      <td>0.070</td>\n",
       "      <td>0.085</td>\n",
       "      <td>29814.68354</td>\n",
       "      <td>19375.07599</td>\n",
       "      <td>20131.08434</td>\n",
       "    </tr>\n",
       "    <tr>\n",
       "      <th>2</th>\n",
       "      <td>1/1/2017 0:20</td>\n",
       "      <td>6.313</td>\n",
       "      <td>74.5</td>\n",
       "      <td>0.080</td>\n",
       "      <td>0.062</td>\n",
       "      <td>0.100</td>\n",
       "      <td>29128.10127</td>\n",
       "      <td>19006.68693</td>\n",
       "      <td>19668.43373</td>\n",
       "    </tr>\n",
       "    <tr>\n",
       "      <th>3</th>\n",
       "      <td>1/1/2017 0:30</td>\n",
       "      <td>6.121</td>\n",
       "      <td>75.0</td>\n",
       "      <td>0.083</td>\n",
       "      <td>0.091</td>\n",
       "      <td>0.096</td>\n",
       "      <td>28228.86076</td>\n",
       "      <td>18361.09422</td>\n",
       "      <td>18899.27711</td>\n",
       "    </tr>\n",
       "    <tr>\n",
       "      <th>4</th>\n",
       "      <td>1/1/2017 0:40</td>\n",
       "      <td>5.921</td>\n",
       "      <td>75.7</td>\n",
       "      <td>0.081</td>\n",
       "      <td>0.048</td>\n",
       "      <td>0.085</td>\n",
       "      <td>27335.69620</td>\n",
       "      <td>17872.34043</td>\n",
       "      <td>18442.40964</td>\n",
       "    </tr>\n",
       "  </tbody>\n",
       "</table>\n",
       "</div>"
      ],
      "text/plain": [
       "        DateTime  Temperature  Humidity  Wind Speed  general diffuse flows  \\\n",
       "0  1/1/2017 0:00        6.559      73.8       0.083                  0.051   \n",
       "1  1/1/2017 0:10        6.414      74.5       0.083                  0.070   \n",
       "2  1/1/2017 0:20        6.313      74.5       0.080                  0.062   \n",
       "3  1/1/2017 0:30        6.121      75.0       0.083                  0.091   \n",
       "4  1/1/2017 0:40        5.921      75.7       0.081                  0.048   \n",
       "\n",
       "   diffuse flows  Zone 1 Power Consumption  Zone 2  Power Consumption  \\\n",
       "0          0.119               34055.69620                16128.87538   \n",
       "1          0.085               29814.68354                19375.07599   \n",
       "2          0.100               29128.10127                19006.68693   \n",
       "3          0.096               28228.86076                18361.09422   \n",
       "4          0.085               27335.69620                17872.34043   \n",
       "\n",
       "   Zone 3  Power Consumption  \n",
       "0                20240.96386  \n",
       "1                20131.08434  \n",
       "2                19668.43373  \n",
       "3                18899.27711  \n",
       "4                18442.40964  "
      ]
     },
     "execution_count": 2,
     "metadata": {},
     "output_type": "execute_result"
    }
   ],
   "source": [
    "# Power Consumption of Tetouan City Data Set\n",
    "df = pd.read_csv('https://archive.ics.uci.edu/ml/machine-learning-databases/00616/Tetuan%20City%20power%20consumption.csv')\n",
    "print(df.shape)\n",
    "df.head()"
   ]
  },
  {
   "cell_type": "code",
   "execution_count": 3,
   "metadata": {},
   "outputs": [
    {
     "data": {
      "text/html": [
       "<div>\n",
       "<style scoped>\n",
       "    .dataframe tbody tr th:only-of-type {\n",
       "        vertical-align: middle;\n",
       "    }\n",
       "\n",
       "    .dataframe tbody tr th {\n",
       "        vertical-align: top;\n",
       "    }\n",
       "\n",
       "    .dataframe thead th {\n",
       "        text-align: right;\n",
       "    }\n",
       "</style>\n",
       "<table border=\"1\" class=\"dataframe\">\n",
       "  <thead>\n",
       "    <tr style=\"text-align: right;\">\n",
       "      <th></th>\n",
       "      <th>DateTime</th>\n",
       "      <th>Temperature</th>\n",
       "      <th>Humidity</th>\n",
       "      <th>Wind Speed</th>\n",
       "      <th>general diffuse flows</th>\n",
       "      <th>diffuse flows</th>\n",
       "      <th>Zone1</th>\n",
       "      <th>Zone2</th>\n",
       "      <th>Zone3</th>\n",
       "    </tr>\n",
       "  </thead>\n",
       "  <tbody>\n",
       "    <tr>\n",
       "      <th>0</th>\n",
       "      <td>1/1/2017 0:00</td>\n",
       "      <td>6.559</td>\n",
       "      <td>73.8</td>\n",
       "      <td>0.083</td>\n",
       "      <td>0.051</td>\n",
       "      <td>0.119</td>\n",
       "      <td>34055.69620</td>\n",
       "      <td>16128.87538</td>\n",
       "      <td>20240.96386</td>\n",
       "    </tr>\n",
       "    <tr>\n",
       "      <th>1</th>\n",
       "      <td>1/1/2017 0:10</td>\n",
       "      <td>6.414</td>\n",
       "      <td>74.5</td>\n",
       "      <td>0.083</td>\n",
       "      <td>0.070</td>\n",
       "      <td>0.085</td>\n",
       "      <td>29814.68354</td>\n",
       "      <td>19375.07599</td>\n",
       "      <td>20131.08434</td>\n",
       "    </tr>\n",
       "    <tr>\n",
       "      <th>2</th>\n",
       "      <td>1/1/2017 0:20</td>\n",
       "      <td>6.313</td>\n",
       "      <td>74.5</td>\n",
       "      <td>0.080</td>\n",
       "      <td>0.062</td>\n",
       "      <td>0.100</td>\n",
       "      <td>29128.10127</td>\n",
       "      <td>19006.68693</td>\n",
       "      <td>19668.43373</td>\n",
       "    </tr>\n",
       "    <tr>\n",
       "      <th>3</th>\n",
       "      <td>1/1/2017 0:30</td>\n",
       "      <td>6.121</td>\n",
       "      <td>75.0</td>\n",
       "      <td>0.083</td>\n",
       "      <td>0.091</td>\n",
       "      <td>0.096</td>\n",
       "      <td>28228.86076</td>\n",
       "      <td>18361.09422</td>\n",
       "      <td>18899.27711</td>\n",
       "    </tr>\n",
       "    <tr>\n",
       "      <th>4</th>\n",
       "      <td>1/1/2017 0:40</td>\n",
       "      <td>5.921</td>\n",
       "      <td>75.7</td>\n",
       "      <td>0.081</td>\n",
       "      <td>0.048</td>\n",
       "      <td>0.085</td>\n",
       "      <td>27335.69620</td>\n",
       "      <td>17872.34043</td>\n",
       "      <td>18442.40964</td>\n",
       "    </tr>\n",
       "  </tbody>\n",
       "</table>\n",
       "</div>"
      ],
      "text/plain": [
       "        DateTime  Temperature  Humidity  Wind Speed  general diffuse flows  \\\n",
       "0  1/1/2017 0:00        6.559      73.8       0.083                  0.051   \n",
       "1  1/1/2017 0:10        6.414      74.5       0.083                  0.070   \n",
       "2  1/1/2017 0:20        6.313      74.5       0.080                  0.062   \n",
       "3  1/1/2017 0:30        6.121      75.0       0.083                  0.091   \n",
       "4  1/1/2017 0:40        5.921      75.7       0.081                  0.048   \n",
       "\n",
       "   diffuse flows        Zone1        Zone2        Zone3  \n",
       "0          0.119  34055.69620  16128.87538  20240.96386  \n",
       "1          0.085  29814.68354  19375.07599  20131.08434  \n",
       "2          0.100  29128.10127  19006.68693  19668.43373  \n",
       "3          0.096  28228.86076  18361.09422  18899.27711  \n",
       "4          0.085  27335.69620  17872.34043  18442.40964  "
      ]
     },
     "execution_count": 3,
     "metadata": {},
     "output_type": "execute_result"
    }
   ],
   "source": [
    "# Renaming some columns\n",
    "df.rename(columns={'Zone 1 Power Consumption': 'Zone1', 'Zone 2  Power Consumption': 'Zone2', 'Zone 3  Power Consumption': 'Zone3'}, inplace=True)\n",
    "df.head()"
   ]
  },
  {
   "cell_type": "code",
   "execution_count": 4,
   "metadata": {},
   "outputs": [
    {
     "data": {
      "text/plain": [
       "DateTime                 datetime64[ns]\n",
       "Temperature                     float64\n",
       "Humidity                        float64\n",
       "Wind Speed                      float64\n",
       "general diffuse flows           float64\n",
       "diffuse flows                   float64\n",
       "Zone1                           float64\n",
       "Zone2                           float64\n",
       "Zone3                           float64\n",
       "dtype: object"
      ]
     },
     "execution_count": 4,
     "metadata": {},
     "output_type": "execute_result"
    }
   ],
   "source": [
    "df.DateTime = pd.to_datetime(df.DateTime)\n",
    "df.dtypes"
   ]
  },
  {
   "cell_type": "code",
   "execution_count": 5,
   "metadata": {},
   "outputs": [
    {
     "data": {
      "text/html": [
       "<div>\n",
       "<style scoped>\n",
       "    .dataframe tbody tr th:only-of-type {\n",
       "        vertical-align: middle;\n",
       "    }\n",
       "\n",
       "    .dataframe tbody tr th {\n",
       "        vertical-align: top;\n",
       "    }\n",
       "\n",
       "    .dataframe thead th {\n",
       "        text-align: right;\n",
       "    }\n",
       "</style>\n",
       "<table border=\"1\" class=\"dataframe\">\n",
       "  <thead>\n",
       "    <tr style=\"text-align: right;\">\n",
       "      <th></th>\n",
       "      <th>DateTime</th>\n",
       "      <th>Temperature</th>\n",
       "      <th>Humidity</th>\n",
       "      <th>Wind Speed</th>\n",
       "      <th>general diffuse flows</th>\n",
       "      <th>diffuse flows</th>\n",
       "      <th>Zone1</th>\n",
       "      <th>Zone2</th>\n",
       "      <th>Zone3</th>\n",
       "    </tr>\n",
       "  </thead>\n",
       "  <tbody>\n",
       "    <tr>\n",
       "      <th>0</th>\n",
       "      <td>2017-01-01 00:00:00</td>\n",
       "      <td>6.559</td>\n",
       "      <td>73.8</td>\n",
       "      <td>0.083</td>\n",
       "      <td>0.051</td>\n",
       "      <td>0.119</td>\n",
       "      <td>34055.69620</td>\n",
       "      <td>16128.87538</td>\n",
       "      <td>20240.96386</td>\n",
       "    </tr>\n",
       "    <tr>\n",
       "      <th>1</th>\n",
       "      <td>2017-01-01 00:10:00</td>\n",
       "      <td>6.414</td>\n",
       "      <td>74.5</td>\n",
       "      <td>0.083</td>\n",
       "      <td>0.070</td>\n",
       "      <td>0.085</td>\n",
       "      <td>29814.68354</td>\n",
       "      <td>19375.07599</td>\n",
       "      <td>20131.08434</td>\n",
       "    </tr>\n",
       "    <tr>\n",
       "      <th>2</th>\n",
       "      <td>2017-01-01 00:20:00</td>\n",
       "      <td>6.313</td>\n",
       "      <td>74.5</td>\n",
       "      <td>0.080</td>\n",
       "      <td>0.062</td>\n",
       "      <td>0.100</td>\n",
       "      <td>29128.10127</td>\n",
       "      <td>19006.68693</td>\n",
       "      <td>19668.43373</td>\n",
       "    </tr>\n",
       "    <tr>\n",
       "      <th>3</th>\n",
       "      <td>2017-01-01 00:30:00</td>\n",
       "      <td>6.121</td>\n",
       "      <td>75.0</td>\n",
       "      <td>0.083</td>\n",
       "      <td>0.091</td>\n",
       "      <td>0.096</td>\n",
       "      <td>28228.86076</td>\n",
       "      <td>18361.09422</td>\n",
       "      <td>18899.27711</td>\n",
       "    </tr>\n",
       "    <tr>\n",
       "      <th>4</th>\n",
       "      <td>2017-01-01 00:40:00</td>\n",
       "      <td>5.921</td>\n",
       "      <td>75.7</td>\n",
       "      <td>0.081</td>\n",
       "      <td>0.048</td>\n",
       "      <td>0.085</td>\n",
       "      <td>27335.69620</td>\n",
       "      <td>17872.34043</td>\n",
       "      <td>18442.40964</td>\n",
       "    </tr>\n",
       "  </tbody>\n",
       "</table>\n",
       "</div>"
      ],
      "text/plain": [
       "             DateTime  Temperature  Humidity  Wind Speed  \\\n",
       "0 2017-01-01 00:00:00        6.559      73.8       0.083   \n",
       "1 2017-01-01 00:10:00        6.414      74.5       0.083   \n",
       "2 2017-01-01 00:20:00        6.313      74.5       0.080   \n",
       "3 2017-01-01 00:30:00        6.121      75.0       0.083   \n",
       "4 2017-01-01 00:40:00        5.921      75.7       0.081   \n",
       "\n",
       "   general diffuse flows  diffuse flows        Zone1        Zone2        Zone3  \n",
       "0                  0.051          0.119  34055.69620  16128.87538  20240.96386  \n",
       "1                  0.070          0.085  29814.68354  19375.07599  20131.08434  \n",
       "2                  0.062          0.100  29128.10127  19006.68693  19668.43373  \n",
       "3                  0.091          0.096  28228.86076  18361.09422  18899.27711  \n",
       "4                  0.048          0.085  27335.69620  17872.34043  18442.40964  "
      ]
     },
     "execution_count": 5,
     "metadata": {},
     "output_type": "execute_result"
    }
   ],
   "source": [
    "df.head()"
   ]
  },
  {
   "cell_type": "code",
   "execution_count": 6,
   "metadata": {},
   "outputs": [
    {
     "name": "stdout",
     "output_type": "stream",
     "text": [
      "(364, 9)\n"
     ]
    },
    {
     "data": {
      "text/html": [
       "<div>\n",
       "<style scoped>\n",
       "    .dataframe tbody tr th:only-of-type {\n",
       "        vertical-align: middle;\n",
       "    }\n",
       "\n",
       "    .dataframe tbody tr th {\n",
       "        vertical-align: top;\n",
       "    }\n",
       "\n",
       "    .dataframe thead th {\n",
       "        text-align: right;\n",
       "    }\n",
       "</style>\n",
       "<table border=\"1\" class=\"dataframe\">\n",
       "  <thead>\n",
       "    <tr style=\"text-align: right;\">\n",
       "      <th></th>\n",
       "      <th>DateTime</th>\n",
       "      <th>Temperature</th>\n",
       "      <th>Humidity</th>\n",
       "      <th>Wind Speed</th>\n",
       "      <th>general diffuse flows</th>\n",
       "      <th>diffuse flows</th>\n",
       "      <th>Zone1</th>\n",
       "      <th>Zone2</th>\n",
       "      <th>Zone3</th>\n",
       "    </tr>\n",
       "  </thead>\n",
       "  <tbody>\n",
       "    <tr>\n",
       "      <th>0</th>\n",
       "      <td>2017-01-01</td>\n",
       "      <td>9.675299</td>\n",
       "      <td>68.519306</td>\n",
       "      <td>0.315146</td>\n",
       "      <td>121.390771</td>\n",
       "      <td>25.993924</td>\n",
       "      <td>28465.232067</td>\n",
       "      <td>17737.791287</td>\n",
       "      <td>17868.795181</td>\n",
       "    </tr>\n",
       "    <tr>\n",
       "      <th>1</th>\n",
       "      <td>2017-01-02</td>\n",
       "      <td>12.476875</td>\n",
       "      <td>71.456319</td>\n",
       "      <td>0.076563</td>\n",
       "      <td>120.404486</td>\n",
       "      <td>27.227410</td>\n",
       "      <td>28869.493671</td>\n",
       "      <td>19557.725431</td>\n",
       "      <td>17820.763053</td>\n",
       "    </tr>\n",
       "    <tr>\n",
       "      <th>2</th>\n",
       "      <td>2017-01-03</td>\n",
       "      <td>12.100000</td>\n",
       "      <td>74.981667</td>\n",
       "      <td>0.076715</td>\n",
       "      <td>120.686014</td>\n",
       "      <td>28.574660</td>\n",
       "      <td>30562.447257</td>\n",
       "      <td>20057.269504</td>\n",
       "      <td>17620.803213</td>\n",
       "    </tr>\n",
       "    <tr>\n",
       "      <th>3</th>\n",
       "      <td>2017-01-04</td>\n",
       "      <td>10.509479</td>\n",
       "      <td>75.459792</td>\n",
       "      <td>0.082417</td>\n",
       "      <td>122.959319</td>\n",
       "      <td>28.827222</td>\n",
       "      <td>30689.831224</td>\n",
       "      <td>20102.077001</td>\n",
       "      <td>17673.694779</td>\n",
       "    </tr>\n",
       "    <tr>\n",
       "      <th>4</th>\n",
       "      <td>2017-01-05</td>\n",
       "      <td>10.866444</td>\n",
       "      <td>71.040486</td>\n",
       "      <td>0.083896</td>\n",
       "      <td>118.749861</td>\n",
       "      <td>29.741437</td>\n",
       "      <td>30802.911393</td>\n",
       "      <td>20033.941237</td>\n",
       "      <td>17664.176707</td>\n",
       "    </tr>\n",
       "  </tbody>\n",
       "</table>\n",
       "</div>"
      ],
      "text/plain": [
       "    DateTime  Temperature   Humidity  Wind Speed  general diffuse flows  \\\n",
       "0 2017-01-01     9.675299  68.519306    0.315146             121.390771   \n",
       "1 2017-01-02    12.476875  71.456319    0.076563             120.404486   \n",
       "2 2017-01-03    12.100000  74.981667    0.076715             120.686014   \n",
       "3 2017-01-04    10.509479  75.459792    0.082417             122.959319   \n",
       "4 2017-01-05    10.866444  71.040486    0.083896             118.749861   \n",
       "\n",
       "   diffuse flows         Zone1         Zone2         Zone3  \n",
       "0      25.993924  28465.232067  17737.791287  17868.795181  \n",
       "1      27.227410  28869.493671  19557.725431  17820.763053  \n",
       "2      28.574660  30562.447257  20057.269504  17620.803213  \n",
       "3      28.827222  30689.831224  20102.077001  17673.694779  \n",
       "4      29.741437  30802.911393  20033.941237  17664.176707  "
      ]
     },
     "execution_count": 6,
     "metadata": {},
     "output_type": "execute_result"
    }
   ],
   "source": [
    "# Getting one value per day\n",
    "dfd = df.groupby(pd.Grouper(key='DateTime', freq='1D')).mean().reset_index()\n",
    "print(dfd.shape)\n",
    "dfd.head()"
   ]
  },
  {
   "cell_type": "code",
   "execution_count": 7,
   "metadata": {},
   "outputs": [
    {
     "data": {
      "text/html": [
       "<div>\n",
       "<style scoped>\n",
       "    .dataframe tbody tr th:only-of-type {\n",
       "        vertical-align: middle;\n",
       "    }\n",
       "\n",
       "    .dataframe tbody tr th {\n",
       "        vertical-align: top;\n",
       "    }\n",
       "\n",
       "    .dataframe thead th {\n",
       "        text-align: right;\n",
       "    }\n",
       "</style>\n",
       "<table border=\"1\" class=\"dataframe\">\n",
       "  <thead>\n",
       "    <tr style=\"text-align: right;\">\n",
       "      <th></th>\n",
       "      <th>DateTime</th>\n",
       "      <th>Temperature</th>\n",
       "      <th>Humidity</th>\n",
       "      <th>Wind Speed</th>\n",
       "      <th>general diffuse flows</th>\n",
       "      <th>diffuse flows</th>\n",
       "      <th>Zone1</th>\n",
       "      <th>Zone2</th>\n",
       "      <th>Zone3</th>\n",
       "      <th>Month</th>\n",
       "    </tr>\n",
       "  </thead>\n",
       "  <tbody>\n",
       "    <tr>\n",
       "      <th>0</th>\n",
       "      <td>2017-01-01</td>\n",
       "      <td>9.675299</td>\n",
       "      <td>68.519306</td>\n",
       "      <td>0.315146</td>\n",
       "      <td>121.390771</td>\n",
       "      <td>25.993924</td>\n",
       "      <td>28465.232067</td>\n",
       "      <td>17737.791287</td>\n",
       "      <td>17868.795181</td>\n",
       "      <td>1</td>\n",
       "    </tr>\n",
       "    <tr>\n",
       "      <th>1</th>\n",
       "      <td>2017-01-02</td>\n",
       "      <td>12.476875</td>\n",
       "      <td>71.456319</td>\n",
       "      <td>0.076563</td>\n",
       "      <td>120.404486</td>\n",
       "      <td>27.227410</td>\n",
       "      <td>28869.493671</td>\n",
       "      <td>19557.725431</td>\n",
       "      <td>17820.763053</td>\n",
       "      <td>1</td>\n",
       "    </tr>\n",
       "    <tr>\n",
       "      <th>2</th>\n",
       "      <td>2017-01-03</td>\n",
       "      <td>12.100000</td>\n",
       "      <td>74.981667</td>\n",
       "      <td>0.076715</td>\n",
       "      <td>120.686014</td>\n",
       "      <td>28.574660</td>\n",
       "      <td>30562.447257</td>\n",
       "      <td>20057.269504</td>\n",
       "      <td>17620.803213</td>\n",
       "      <td>1</td>\n",
       "    </tr>\n",
       "    <tr>\n",
       "      <th>3</th>\n",
       "      <td>2017-01-04</td>\n",
       "      <td>10.509479</td>\n",
       "      <td>75.459792</td>\n",
       "      <td>0.082417</td>\n",
       "      <td>122.959319</td>\n",
       "      <td>28.827222</td>\n",
       "      <td>30689.831224</td>\n",
       "      <td>20102.077001</td>\n",
       "      <td>17673.694779</td>\n",
       "      <td>1</td>\n",
       "    </tr>\n",
       "    <tr>\n",
       "      <th>4</th>\n",
       "      <td>2017-01-05</td>\n",
       "      <td>10.866444</td>\n",
       "      <td>71.040486</td>\n",
       "      <td>0.083896</td>\n",
       "      <td>118.749861</td>\n",
       "      <td>29.741437</td>\n",
       "      <td>30802.911393</td>\n",
       "      <td>20033.941237</td>\n",
       "      <td>17664.176707</td>\n",
       "      <td>1</td>\n",
       "    </tr>\n",
       "  </tbody>\n",
       "</table>\n",
       "</div>"
      ],
      "text/plain": [
       "    DateTime  Temperature   Humidity  Wind Speed  general diffuse flows  \\\n",
       "0 2017-01-01     9.675299  68.519306    0.315146             121.390771   \n",
       "1 2017-01-02    12.476875  71.456319    0.076563             120.404486   \n",
       "2 2017-01-03    12.100000  74.981667    0.076715             120.686014   \n",
       "3 2017-01-04    10.509479  75.459792    0.082417             122.959319   \n",
       "4 2017-01-05    10.866444  71.040486    0.083896             118.749861   \n",
       "\n",
       "   diffuse flows         Zone1         Zone2         Zone3  Month  \n",
       "0      25.993924  28465.232067  17737.791287  17868.795181      1  \n",
       "1      27.227410  28869.493671  19557.725431  17820.763053      1  \n",
       "2      28.574660  30562.447257  20057.269504  17620.803213      1  \n",
       "3      28.827222  30689.831224  20102.077001  17673.694779      1  \n",
       "4      29.741437  30802.911393  20033.941237  17664.176707      1  "
      ]
     },
     "execution_count": 7,
     "metadata": {},
     "output_type": "execute_result"
    }
   ],
   "source": [
    "# Creating the Month variable\n",
    "dfd['Month'] = dfd.DateTime.dt.month\n",
    "dfd.head()"
   ]
  },
  {
   "cell_type": "code",
   "execution_count": 8,
   "metadata": {},
   "outputs": [
    {
     "data": {
      "text/html": [
       "<div>\n",
       "<style scoped>\n",
       "    .dataframe tbody tr th:only-of-type {\n",
       "        vertical-align: middle;\n",
       "    }\n",
       "\n",
       "    .dataframe tbody tr th {\n",
       "        vertical-align: top;\n",
       "    }\n",
       "\n",
       "    .dataframe thead th {\n",
       "        text-align: right;\n",
       "    }\n",
       "</style>\n",
       "<table border=\"1\" class=\"dataframe\">\n",
       "  <thead>\n",
       "    <tr style=\"text-align: right;\">\n",
       "      <th></th>\n",
       "      <th>DateTime</th>\n",
       "      <th>Temperature</th>\n",
       "      <th>Humidity</th>\n",
       "      <th>Wind Speed</th>\n",
       "      <th>general diffuse flows</th>\n",
       "      <th>diffuse flows</th>\n",
       "      <th>Zone1</th>\n",
       "      <th>Zone2</th>\n",
       "      <th>Zone3</th>\n",
       "      <th>Month</th>\n",
       "    </tr>\n",
       "  </thead>\n",
       "  <tbody>\n",
       "    <tr>\n",
       "      <th>359</th>\n",
       "      <td>2017-12-26</td>\n",
       "      <td>11.621840</td>\n",
       "      <td>69.070903</td>\n",
       "      <td>0.083062</td>\n",
       "      <td>106.836687</td>\n",
       "      <td>50.760389</td>\n",
       "      <td>30013.476975</td>\n",
       "      <td>24757.006239</td>\n",
       "      <td>11395.678272</td>\n",
       "      <td>12</td>\n",
       "    </tr>\n",
       "    <tr>\n",
       "      <th>360</th>\n",
       "      <td>2017-12-27</td>\n",
       "      <td>15.232917</td>\n",
       "      <td>59.445903</td>\n",
       "      <td>0.082028</td>\n",
       "      <td>95.890674</td>\n",
       "      <td>41.705062</td>\n",
       "      <td>29966.962399</td>\n",
       "      <td>25057.481845</td>\n",
       "      <td>11498.279312</td>\n",
       "      <td>12</td>\n",
       "    </tr>\n",
       "    <tr>\n",
       "      <th>361</th>\n",
       "      <td>2017-12-28</td>\n",
       "      <td>13.662361</td>\n",
       "      <td>62.839375</td>\n",
       "      <td>0.081354</td>\n",
       "      <td>112.620160</td>\n",
       "      <td>30.209361</td>\n",
       "      <td>30267.004647</td>\n",
       "      <td>24585.251099</td>\n",
       "      <td>11167.026811</td>\n",
       "      <td>12</td>\n",
       "    </tr>\n",
       "    <tr>\n",
       "      <th>362</th>\n",
       "      <td>2017-12-29</td>\n",
       "      <td>12.990486</td>\n",
       "      <td>49.078750</td>\n",
       "      <td>0.078181</td>\n",
       "      <td>122.220021</td>\n",
       "      <td>23.971021</td>\n",
       "      <td>29209.632446</td>\n",
       "      <td>24610.821315</td>\n",
       "      <td>11171.268507</td>\n",
       "      <td>12</td>\n",
       "    </tr>\n",
       "    <tr>\n",
       "      <th>363</th>\n",
       "      <td>2017-12-30</td>\n",
       "      <td>11.688993</td>\n",
       "      <td>51.361667</td>\n",
       "      <td>0.078174</td>\n",
       "      <td>123.814125</td>\n",
       "      <td>24.039944</td>\n",
       "      <td>28145.669624</td>\n",
       "      <td>24211.286693</td>\n",
       "      <td>11560.824329</td>\n",
       "      <td>12</td>\n",
       "    </tr>\n",
       "  </tbody>\n",
       "</table>\n",
       "</div>"
      ],
      "text/plain": [
       "      DateTime  Temperature   Humidity  Wind Speed  general diffuse flows  \\\n",
       "359 2017-12-26    11.621840  69.070903    0.083062             106.836687   \n",
       "360 2017-12-27    15.232917  59.445903    0.082028              95.890674   \n",
       "361 2017-12-28    13.662361  62.839375    0.081354             112.620160   \n",
       "362 2017-12-29    12.990486  49.078750    0.078181             122.220021   \n",
       "363 2017-12-30    11.688993  51.361667    0.078174             123.814125   \n",
       "\n",
       "     diffuse flows         Zone1         Zone2         Zone3  Month  \n",
       "359      50.760389  30013.476975  24757.006239  11395.678272     12  \n",
       "360      41.705062  29966.962399  25057.481845  11498.279312     12  \n",
       "361      30.209361  30267.004647  24585.251099  11167.026811     12  \n",
       "362      23.971021  29209.632446  24610.821315  11171.268507     12  \n",
       "363      24.039944  28145.669624  24211.286693  11560.824329     12  "
      ]
     },
     "execution_count": 8,
     "metadata": {},
     "output_type": "execute_result"
    }
   ],
   "source": [
    "dfd.tail()"
   ]
  },
  {
   "cell_type": "code",
   "execution_count": 9,
   "metadata": {},
   "outputs": [
    {
     "data": {
      "text/plain": [
       "(31, 10)"
      ]
     },
     "execution_count": 9,
     "metadata": {},
     "output_type": "execute_result"
    }
   ],
   "source": [
    "# Selecting January\n",
    "dfd_sel = dfd[dfd['Month'] == 1]\n",
    "dfd_sel.shape"
   ]
  },
  {
   "cell_type": "code",
   "execution_count": 10,
   "metadata": {},
   "outputs": [
    {
     "data": {
      "text/plain": [
       "['Zone1', 'Zone3']"
      ]
     },
     "execution_count": 10,
     "metadata": {},
     "output_type": "execute_result"
    }
   ],
   "source": [
    "# Selecting two zones\n",
    "zones = ['Zone1','Zone3']\n",
    "zones"
   ]
  },
  {
   "cell_type": "code",
   "execution_count": 11,
   "metadata": {},
   "outputs": [
    {
     "data": {
      "application/vnd.plotly.v1+json": {
       "config": {
        "plotlyServerURL": "https://plot.ly"
       },
       "data": [
        {
         "hovertemplate": "variable=Zone1<br>Temperature=%{x:.2f}<br>value=%{y:.2f}<extra></extra>",
         "legendgroup": "Zone1",
         "marker": {
          "color": "#636efa",
          "symbol": "circle"
         },
         "mode": "markers",
         "name": "Zone1",
         "orientation": "v",
         "showlegend": true,
         "type": "scatter",
         "x": [
          9.67529861111111,
          12.476875,
          12.100000000000001,
          10.509479166666667,
          10.866444444444445,
          11.685208333333334,
          12.018819444444444,
          14.724652777777777,
          15.490138888888888,
          14.019583333333333,
          13.28173611111111,
          13.895555555555555,
          14.630625,
          14.98798611111111,
          14.23263888888889,
          13.365972222222222,
          11.371736111111112,
          13.681388888888888,
          11.641875,
          11.16986111111111,
          11.184236111111112,
          12.839097222222222,
          11.418055555555556,
          10.841402777777779,
          9.884284722222223,
          11.22036111111111,
          11.854840277777777,
          13.521388888888888,
          14.560069444444444,
          16.618680555555557,
          15.267569444444446
         ],
         "xaxis": "x",
         "y": [
          28465.232067083332,
          28869.493670625,
          30562.447257291667,
          30689.831223611112,
          30802.911392847225,
          30712.236287083335,
          30612.70042166667,
          29559.915611944445,
          30540.253164583333,
          31863.291138333334,
          31057.763713194447,
          32075.94936736111,
          31476.075949375,
          30834.683544375002,
          26771.5189875,
          30587.257384166664,
          31831.64557,
          32860.50632868055,
          32140.210970208333,
          31783.164557291668,
          31928.016877708335,
          30921.687763402777,
          32505.400843333337,
          31583.24894527778,
          32303.670886249998,
          32694.641350416667,
          32296.751054166667,
          31298.227847986112,
          29260.590717638886,
          31524.008438819445,
          31593.966244652776
         ],
         "yaxis": "y"
        },
        {
         "hovertemplate": "variable=Zone3<br>Temperature=%{x:.2f}<br>value=%{y:.2f}<extra></extra>",
         "legendgroup": "Zone3",
         "marker": {
          "color": "#EF553B",
          "symbol": "circle"
         },
         "mode": "markers",
         "name": "Zone3",
         "orientation": "v",
         "showlegend": true,
         "type": "scatter",
         "x": [
          9.67529861111111,
          12.476875,
          12.100000000000001,
          10.509479166666667,
          10.866444444444445,
          11.685208333333334,
          12.018819444444444,
          14.724652777777777,
          15.490138888888888,
          14.019583333333333,
          13.28173611111111,
          13.895555555555555,
          14.630625,
          14.98798611111111,
          14.23263888888889,
          13.365972222222222,
          11.371736111111112,
          13.681388888888888,
          11.641875,
          11.16986111111111,
          11.184236111111112,
          12.839097222222222,
          11.418055555555556,
          10.841402777777779,
          9.884284722222223,
          11.22036111111111,
          11.854840277777777,
          13.521388888888888,
          14.560069444444444,
          16.618680555555557,
          15.267569444444446
         ],
         "xaxis": "x",
         "y": [
          17868.795180625002,
          17820.763052708335,
          17620.803212916668,
          17673.694778680554,
          17664.17670701389,
          17481.084337430555,
          17985.943774791667,
          17810.60240951389,
          17417.79116465278,
          17425.341365555556,
          17307.590361249997,
          17507.389558402778,
          17051.686747083335,
          17716.144578194442,
          17620.04016076389,
          17505.943775069445,
          17854.979919583333,
          18573.493975972222,
          18239.919678749997,
          17631.566265347225,
          18346.10441777778,
          17849.23694763889,
          18078.87550222222,
          17995.220883888887,
          17658.955823194447,
          18061.20481923611,
          17724.016064444444,
          17792.891566319442,
          17504.698794930555,
          17577.991967569444,
          17762.00803215278
         ],
         "yaxis": "y"
        }
       ],
       "layout": {
        "legend": {
         "title": {
          "text": "variable"
         },
         "tracegroupgap": 0
        },
        "template": {
         "data": {
          "bar": [
           {
            "error_x": {
             "color": "#2a3f5f"
            },
            "error_y": {
             "color": "#2a3f5f"
            },
            "marker": {
             "line": {
              "color": "#E5ECF6",
              "width": 0.5
             },
             "pattern": {
              "fillmode": "overlay",
              "size": 10,
              "solidity": 0.2
             }
            },
            "type": "bar"
           }
          ],
          "barpolar": [
           {
            "marker": {
             "line": {
              "color": "#E5ECF6",
              "width": 0.5
             },
             "pattern": {
              "fillmode": "overlay",
              "size": 10,
              "solidity": 0.2
             }
            },
            "type": "barpolar"
           }
          ],
          "carpet": [
           {
            "aaxis": {
             "endlinecolor": "#2a3f5f",
             "gridcolor": "white",
             "linecolor": "white",
             "minorgridcolor": "white",
             "startlinecolor": "#2a3f5f"
            },
            "baxis": {
             "endlinecolor": "#2a3f5f",
             "gridcolor": "white",
             "linecolor": "white",
             "minorgridcolor": "white",
             "startlinecolor": "#2a3f5f"
            },
            "type": "carpet"
           }
          ],
          "choropleth": [
           {
            "colorbar": {
             "outlinewidth": 0,
             "ticks": ""
            },
            "type": "choropleth"
           }
          ],
          "contour": [
           {
            "colorbar": {
             "outlinewidth": 0,
             "ticks": ""
            },
            "colorscale": [
             [
              0,
              "#0d0887"
             ],
             [
              0.1111111111111111,
              "#46039f"
             ],
             [
              0.2222222222222222,
              "#7201a8"
             ],
             [
              0.3333333333333333,
              "#9c179e"
             ],
             [
              0.4444444444444444,
              "#bd3786"
             ],
             [
              0.5555555555555556,
              "#d8576b"
             ],
             [
              0.6666666666666666,
              "#ed7953"
             ],
             [
              0.7777777777777778,
              "#fb9f3a"
             ],
             [
              0.8888888888888888,
              "#fdca26"
             ],
             [
              1,
              "#f0f921"
             ]
            ],
            "type": "contour"
           }
          ],
          "contourcarpet": [
           {
            "colorbar": {
             "outlinewidth": 0,
             "ticks": ""
            },
            "type": "contourcarpet"
           }
          ],
          "heatmap": [
           {
            "colorbar": {
             "outlinewidth": 0,
             "ticks": ""
            },
            "colorscale": [
             [
              0,
              "#0d0887"
             ],
             [
              0.1111111111111111,
              "#46039f"
             ],
             [
              0.2222222222222222,
              "#7201a8"
             ],
             [
              0.3333333333333333,
              "#9c179e"
             ],
             [
              0.4444444444444444,
              "#bd3786"
             ],
             [
              0.5555555555555556,
              "#d8576b"
             ],
             [
              0.6666666666666666,
              "#ed7953"
             ],
             [
              0.7777777777777778,
              "#fb9f3a"
             ],
             [
              0.8888888888888888,
              "#fdca26"
             ],
             [
              1,
              "#f0f921"
             ]
            ],
            "type": "heatmap"
           }
          ],
          "heatmapgl": [
           {
            "colorbar": {
             "outlinewidth": 0,
             "ticks": ""
            },
            "colorscale": [
             [
              0,
              "#0d0887"
             ],
             [
              0.1111111111111111,
              "#46039f"
             ],
             [
              0.2222222222222222,
              "#7201a8"
             ],
             [
              0.3333333333333333,
              "#9c179e"
             ],
             [
              0.4444444444444444,
              "#bd3786"
             ],
             [
              0.5555555555555556,
              "#d8576b"
             ],
             [
              0.6666666666666666,
              "#ed7953"
             ],
             [
              0.7777777777777778,
              "#fb9f3a"
             ],
             [
              0.8888888888888888,
              "#fdca26"
             ],
             [
              1,
              "#f0f921"
             ]
            ],
            "type": "heatmapgl"
           }
          ],
          "histogram": [
           {
            "marker": {
             "pattern": {
              "fillmode": "overlay",
              "size": 10,
              "solidity": 0.2
             }
            },
            "type": "histogram"
           }
          ],
          "histogram2d": [
           {
            "colorbar": {
             "outlinewidth": 0,
             "ticks": ""
            },
            "colorscale": [
             [
              0,
              "#0d0887"
             ],
             [
              0.1111111111111111,
              "#46039f"
             ],
             [
              0.2222222222222222,
              "#7201a8"
             ],
             [
              0.3333333333333333,
              "#9c179e"
             ],
             [
              0.4444444444444444,
              "#bd3786"
             ],
             [
              0.5555555555555556,
              "#d8576b"
             ],
             [
              0.6666666666666666,
              "#ed7953"
             ],
             [
              0.7777777777777778,
              "#fb9f3a"
             ],
             [
              0.8888888888888888,
              "#fdca26"
             ],
             [
              1,
              "#f0f921"
             ]
            ],
            "type": "histogram2d"
           }
          ],
          "histogram2dcontour": [
           {
            "colorbar": {
             "outlinewidth": 0,
             "ticks": ""
            },
            "colorscale": [
             [
              0,
              "#0d0887"
             ],
             [
              0.1111111111111111,
              "#46039f"
             ],
             [
              0.2222222222222222,
              "#7201a8"
             ],
             [
              0.3333333333333333,
              "#9c179e"
             ],
             [
              0.4444444444444444,
              "#bd3786"
             ],
             [
              0.5555555555555556,
              "#d8576b"
             ],
             [
              0.6666666666666666,
              "#ed7953"
             ],
             [
              0.7777777777777778,
              "#fb9f3a"
             ],
             [
              0.8888888888888888,
              "#fdca26"
             ],
             [
              1,
              "#f0f921"
             ]
            ],
            "type": "histogram2dcontour"
           }
          ],
          "mesh3d": [
           {
            "colorbar": {
             "outlinewidth": 0,
             "ticks": ""
            },
            "type": "mesh3d"
           }
          ],
          "parcoords": [
           {
            "line": {
             "colorbar": {
              "outlinewidth": 0,
              "ticks": ""
             }
            },
            "type": "parcoords"
           }
          ],
          "pie": [
           {
            "automargin": true,
            "type": "pie"
           }
          ],
          "scatter": [
           {
            "fillpattern": {
             "fillmode": "overlay",
             "size": 10,
             "solidity": 0.2
            },
            "type": "scatter"
           }
          ],
          "scatter3d": [
           {
            "line": {
             "colorbar": {
              "outlinewidth": 0,
              "ticks": ""
             }
            },
            "marker": {
             "colorbar": {
              "outlinewidth": 0,
              "ticks": ""
             }
            },
            "type": "scatter3d"
           }
          ],
          "scattercarpet": [
           {
            "marker": {
             "colorbar": {
              "outlinewidth": 0,
              "ticks": ""
             }
            },
            "type": "scattercarpet"
           }
          ],
          "scattergeo": [
           {
            "marker": {
             "colorbar": {
              "outlinewidth": 0,
              "ticks": ""
             }
            },
            "type": "scattergeo"
           }
          ],
          "scattergl": [
           {
            "marker": {
             "colorbar": {
              "outlinewidth": 0,
              "ticks": ""
             }
            },
            "type": "scattergl"
           }
          ],
          "scattermapbox": [
           {
            "marker": {
             "colorbar": {
              "outlinewidth": 0,
              "ticks": ""
             }
            },
            "type": "scattermapbox"
           }
          ],
          "scatterpolar": [
           {
            "marker": {
             "colorbar": {
              "outlinewidth": 0,
              "ticks": ""
             }
            },
            "type": "scatterpolar"
           }
          ],
          "scatterpolargl": [
           {
            "marker": {
             "colorbar": {
              "outlinewidth": 0,
              "ticks": ""
             }
            },
            "type": "scatterpolargl"
           }
          ],
          "scatterternary": [
           {
            "marker": {
             "colorbar": {
              "outlinewidth": 0,
              "ticks": ""
             }
            },
            "type": "scatterternary"
           }
          ],
          "surface": [
           {
            "colorbar": {
             "outlinewidth": 0,
             "ticks": ""
            },
            "colorscale": [
             [
              0,
              "#0d0887"
             ],
             [
              0.1111111111111111,
              "#46039f"
             ],
             [
              0.2222222222222222,
              "#7201a8"
             ],
             [
              0.3333333333333333,
              "#9c179e"
             ],
             [
              0.4444444444444444,
              "#bd3786"
             ],
             [
              0.5555555555555556,
              "#d8576b"
             ],
             [
              0.6666666666666666,
              "#ed7953"
             ],
             [
              0.7777777777777778,
              "#fb9f3a"
             ],
             [
              0.8888888888888888,
              "#fdca26"
             ],
             [
              1,
              "#f0f921"
             ]
            ],
            "type": "surface"
           }
          ],
          "table": [
           {
            "cells": {
             "fill": {
              "color": "#EBF0F8"
             },
             "line": {
              "color": "white"
             }
            },
            "header": {
             "fill": {
              "color": "#C8D4E3"
             },
             "line": {
              "color": "white"
             }
            },
            "type": "table"
           }
          ]
         },
         "layout": {
          "annotationdefaults": {
           "arrowcolor": "#2a3f5f",
           "arrowhead": 0,
           "arrowwidth": 1
          },
          "autotypenumbers": "strict",
          "coloraxis": {
           "colorbar": {
            "outlinewidth": 0,
            "ticks": ""
           }
          },
          "colorscale": {
           "diverging": [
            [
             0,
             "#8e0152"
            ],
            [
             0.1,
             "#c51b7d"
            ],
            [
             0.2,
             "#de77ae"
            ],
            [
             0.3,
             "#f1b6da"
            ],
            [
             0.4,
             "#fde0ef"
            ],
            [
             0.5,
             "#f7f7f7"
            ],
            [
             0.6,
             "#e6f5d0"
            ],
            [
             0.7,
             "#b8e186"
            ],
            [
             0.8,
             "#7fbc41"
            ],
            [
             0.9,
             "#4d9221"
            ],
            [
             1,
             "#276419"
            ]
           ],
           "sequential": [
            [
             0,
             "#0d0887"
            ],
            [
             0.1111111111111111,
             "#46039f"
            ],
            [
             0.2222222222222222,
             "#7201a8"
            ],
            [
             0.3333333333333333,
             "#9c179e"
            ],
            [
             0.4444444444444444,
             "#bd3786"
            ],
            [
             0.5555555555555556,
             "#d8576b"
            ],
            [
             0.6666666666666666,
             "#ed7953"
            ],
            [
             0.7777777777777778,
             "#fb9f3a"
            ],
            [
             0.8888888888888888,
             "#fdca26"
            ],
            [
             1,
             "#f0f921"
            ]
           ],
           "sequentialminus": [
            [
             0,
             "#0d0887"
            ],
            [
             0.1111111111111111,
             "#46039f"
            ],
            [
             0.2222222222222222,
             "#7201a8"
            ],
            [
             0.3333333333333333,
             "#9c179e"
            ],
            [
             0.4444444444444444,
             "#bd3786"
            ],
            [
             0.5555555555555556,
             "#d8576b"
            ],
            [
             0.6666666666666666,
             "#ed7953"
            ],
            [
             0.7777777777777778,
             "#fb9f3a"
            ],
            [
             0.8888888888888888,
             "#fdca26"
            ],
            [
             1,
             "#f0f921"
            ]
           ]
          },
          "colorway": [
           "#636efa",
           "#EF553B",
           "#00cc96",
           "#ab63fa",
           "#FFA15A",
           "#19d3f3",
           "#FF6692",
           "#B6E880",
           "#FF97FF",
           "#FECB52"
          ],
          "font": {
           "color": "#2a3f5f"
          },
          "geo": {
           "bgcolor": "white",
           "lakecolor": "white",
           "landcolor": "#E5ECF6",
           "showlakes": true,
           "showland": true,
           "subunitcolor": "white"
          },
          "hoverlabel": {
           "align": "left"
          },
          "hovermode": "closest",
          "mapbox": {
           "style": "light"
          },
          "paper_bgcolor": "white",
          "plot_bgcolor": "#E5ECF6",
          "polar": {
           "angularaxis": {
            "gridcolor": "white",
            "linecolor": "white",
            "ticks": ""
           },
           "bgcolor": "#E5ECF6",
           "radialaxis": {
            "gridcolor": "white",
            "linecolor": "white",
            "ticks": ""
           }
          },
          "scene": {
           "xaxis": {
            "backgroundcolor": "#E5ECF6",
            "gridcolor": "white",
            "gridwidth": 2,
            "linecolor": "white",
            "showbackground": true,
            "ticks": "",
            "zerolinecolor": "white"
           },
           "yaxis": {
            "backgroundcolor": "#E5ECF6",
            "gridcolor": "white",
            "gridwidth": 2,
            "linecolor": "white",
            "showbackground": true,
            "ticks": "",
            "zerolinecolor": "white"
           },
           "zaxis": {
            "backgroundcolor": "#E5ECF6",
            "gridcolor": "white",
            "gridwidth": 2,
            "linecolor": "white",
            "showbackground": true,
            "ticks": "",
            "zerolinecolor": "white"
           }
          },
          "shapedefaults": {
           "line": {
            "color": "#2a3f5f"
           }
          },
          "ternary": {
           "aaxis": {
            "gridcolor": "white",
            "linecolor": "white",
            "ticks": ""
           },
           "baxis": {
            "gridcolor": "white",
            "linecolor": "white",
            "ticks": ""
           },
           "bgcolor": "#E5ECF6",
           "caxis": {
            "gridcolor": "white",
            "linecolor": "white",
            "ticks": ""
           }
          },
          "title": {
           "x": 0.05
          },
          "xaxis": {
           "automargin": true,
           "gridcolor": "white",
           "linecolor": "white",
           "ticks": "",
           "title": {
            "standoff": 15
           },
           "zerolinecolor": "white",
           "zerolinewidth": 2
          },
          "yaxis": {
           "automargin": true,
           "gridcolor": "white",
           "linecolor": "white",
           "ticks": "",
           "title": {
            "standoff": 15
           },
           "zerolinecolor": "white",
           "zerolinewidth": 2
          }
         }
        },
        "title": {
         "text": "Temperature vs Power Consumption"
        },
        "width": 800,
        "xaxis": {
         "anchor": "y",
         "domain": [
          0,
          1
         ],
         "title": {
          "text": "Temperature"
         }
        },
        "yaxis": {
         "anchor": "x",
         "domain": [
          0,
          1
         ],
         "title": {
          "text": "value"
         }
        }
       }
      }
     },
     "metadata": {},
     "output_type": "display_data"
    }
   ],
   "source": [
    "# Scatterplot of Power consumption vs Temperature\n",
    "px.scatter(dfd_sel, x='Temperature', y=zones, \n",
    "            hover_data={'Temperature':':.2f', 'value':':.2f'},\n",
    "            width=800, title='Temperature vs Power Consumption')"
   ]
  },
  {
   "cell_type": "code",
   "execution_count": 12,
   "metadata": {},
   "outputs": [
    {
     "data": {
      "application/vnd.plotly.v1+json": {
       "config": {
        "plotlyServerURL": "https://plot.ly"
       },
       "data": [
        {
         "hovertemplate": "variable=Zone1<br>Humidity=%{x:.2f}<br>value=%{y:.2f}<extra></extra>",
         "legendgroup": "Zone1",
         "marker": {
          "color": "#636efa",
          "symbol": "circle"
         },
         "mode": "markers",
         "name": "Zone1",
         "orientation": "v",
         "showlegend": true,
         "type": "scatter",
         "x": [
          68.51930555555556,
          71.45631944444443,
          74.98166666666667,
          75.45979166666666,
          71.04048611111111,
          77.25777777777779,
          76.21708333333333,
          69.1092361111111,
          68.33236111111111,
          75.67840277777778,
          66.88777777777779,
          75.76416666666667,
          81.34305555555555,
          68.53708333333333,
          70.70347222222222,
          61.189097222222216,
          63.79208333333333,
          52.67979166666667,
          67.79041666666666,
          60.58222222222222,
          62.97277777777778,
          63.60173611111111,
          71.93284722222222,
          60.18784722222222,
          61.5176388888889,
          68.71520833333334,
          71.71111111111111,
          59.90111111111111,
          60.06652777777778,
          68.65555555555555,
          70.53381944444445
         ],
         "xaxis": "x",
         "y": [
          28465.232067083332,
          28869.493670625,
          30562.447257291667,
          30689.831223611112,
          30802.911392847225,
          30712.236287083335,
          30612.70042166667,
          29559.915611944445,
          30540.253164583333,
          31863.291138333334,
          31057.763713194447,
          32075.94936736111,
          31476.075949375,
          30834.683544375002,
          26771.5189875,
          30587.257384166664,
          31831.64557,
          32860.50632868055,
          32140.210970208333,
          31783.164557291668,
          31928.016877708335,
          30921.687763402777,
          32505.400843333337,
          31583.24894527778,
          32303.670886249998,
          32694.641350416667,
          32296.751054166667,
          31298.227847986112,
          29260.590717638886,
          31524.008438819445,
          31593.966244652776
         ],
         "yaxis": "y"
        },
        {
         "hovertemplate": "variable=Zone3<br>Humidity=%{x:.2f}<br>value=%{y:.2f}<extra></extra>",
         "legendgroup": "Zone3",
         "marker": {
          "color": "#EF553B",
          "symbol": "circle"
         },
         "mode": "markers",
         "name": "Zone3",
         "orientation": "v",
         "showlegend": true,
         "type": "scatter",
         "x": [
          68.51930555555556,
          71.45631944444443,
          74.98166666666667,
          75.45979166666666,
          71.04048611111111,
          77.25777777777779,
          76.21708333333333,
          69.1092361111111,
          68.33236111111111,
          75.67840277777778,
          66.88777777777779,
          75.76416666666667,
          81.34305555555555,
          68.53708333333333,
          70.70347222222222,
          61.189097222222216,
          63.79208333333333,
          52.67979166666667,
          67.79041666666666,
          60.58222222222222,
          62.97277777777778,
          63.60173611111111,
          71.93284722222222,
          60.18784722222222,
          61.5176388888889,
          68.71520833333334,
          71.71111111111111,
          59.90111111111111,
          60.06652777777778,
          68.65555555555555,
          70.53381944444445
         ],
         "xaxis": "x",
         "y": [
          17868.795180625002,
          17820.763052708335,
          17620.803212916668,
          17673.694778680554,
          17664.17670701389,
          17481.084337430555,
          17985.943774791667,
          17810.60240951389,
          17417.79116465278,
          17425.341365555556,
          17307.590361249997,
          17507.389558402778,
          17051.686747083335,
          17716.144578194442,
          17620.04016076389,
          17505.943775069445,
          17854.979919583333,
          18573.493975972222,
          18239.919678749997,
          17631.566265347225,
          18346.10441777778,
          17849.23694763889,
          18078.87550222222,
          17995.220883888887,
          17658.955823194447,
          18061.20481923611,
          17724.016064444444,
          17792.891566319442,
          17504.698794930555,
          17577.991967569444,
          17762.00803215278
         ],
         "yaxis": "y"
        }
       ],
       "layout": {
        "legend": {
         "title": {
          "text": "variable"
         },
         "tracegroupgap": 0
        },
        "template": {
         "data": {
          "bar": [
           {
            "error_x": {
             "color": "#2a3f5f"
            },
            "error_y": {
             "color": "#2a3f5f"
            },
            "marker": {
             "line": {
              "color": "#E5ECF6",
              "width": 0.5
             },
             "pattern": {
              "fillmode": "overlay",
              "size": 10,
              "solidity": 0.2
             }
            },
            "type": "bar"
           }
          ],
          "barpolar": [
           {
            "marker": {
             "line": {
              "color": "#E5ECF6",
              "width": 0.5
             },
             "pattern": {
              "fillmode": "overlay",
              "size": 10,
              "solidity": 0.2
             }
            },
            "type": "barpolar"
           }
          ],
          "carpet": [
           {
            "aaxis": {
             "endlinecolor": "#2a3f5f",
             "gridcolor": "white",
             "linecolor": "white",
             "minorgridcolor": "white",
             "startlinecolor": "#2a3f5f"
            },
            "baxis": {
             "endlinecolor": "#2a3f5f",
             "gridcolor": "white",
             "linecolor": "white",
             "minorgridcolor": "white",
             "startlinecolor": "#2a3f5f"
            },
            "type": "carpet"
           }
          ],
          "choropleth": [
           {
            "colorbar": {
             "outlinewidth": 0,
             "ticks": ""
            },
            "type": "choropleth"
           }
          ],
          "contour": [
           {
            "colorbar": {
             "outlinewidth": 0,
             "ticks": ""
            },
            "colorscale": [
             [
              0,
              "#0d0887"
             ],
             [
              0.1111111111111111,
              "#46039f"
             ],
             [
              0.2222222222222222,
              "#7201a8"
             ],
             [
              0.3333333333333333,
              "#9c179e"
             ],
             [
              0.4444444444444444,
              "#bd3786"
             ],
             [
              0.5555555555555556,
              "#d8576b"
             ],
             [
              0.6666666666666666,
              "#ed7953"
             ],
             [
              0.7777777777777778,
              "#fb9f3a"
             ],
             [
              0.8888888888888888,
              "#fdca26"
             ],
             [
              1,
              "#f0f921"
             ]
            ],
            "type": "contour"
           }
          ],
          "contourcarpet": [
           {
            "colorbar": {
             "outlinewidth": 0,
             "ticks": ""
            },
            "type": "contourcarpet"
           }
          ],
          "heatmap": [
           {
            "colorbar": {
             "outlinewidth": 0,
             "ticks": ""
            },
            "colorscale": [
             [
              0,
              "#0d0887"
             ],
             [
              0.1111111111111111,
              "#46039f"
             ],
             [
              0.2222222222222222,
              "#7201a8"
             ],
             [
              0.3333333333333333,
              "#9c179e"
             ],
             [
              0.4444444444444444,
              "#bd3786"
             ],
             [
              0.5555555555555556,
              "#d8576b"
             ],
             [
              0.6666666666666666,
              "#ed7953"
             ],
             [
              0.7777777777777778,
              "#fb9f3a"
             ],
             [
              0.8888888888888888,
              "#fdca26"
             ],
             [
              1,
              "#f0f921"
             ]
            ],
            "type": "heatmap"
           }
          ],
          "heatmapgl": [
           {
            "colorbar": {
             "outlinewidth": 0,
             "ticks": ""
            },
            "colorscale": [
             [
              0,
              "#0d0887"
             ],
             [
              0.1111111111111111,
              "#46039f"
             ],
             [
              0.2222222222222222,
              "#7201a8"
             ],
             [
              0.3333333333333333,
              "#9c179e"
             ],
             [
              0.4444444444444444,
              "#bd3786"
             ],
             [
              0.5555555555555556,
              "#d8576b"
             ],
             [
              0.6666666666666666,
              "#ed7953"
             ],
             [
              0.7777777777777778,
              "#fb9f3a"
             ],
             [
              0.8888888888888888,
              "#fdca26"
             ],
             [
              1,
              "#f0f921"
             ]
            ],
            "type": "heatmapgl"
           }
          ],
          "histogram": [
           {
            "marker": {
             "pattern": {
              "fillmode": "overlay",
              "size": 10,
              "solidity": 0.2
             }
            },
            "type": "histogram"
           }
          ],
          "histogram2d": [
           {
            "colorbar": {
             "outlinewidth": 0,
             "ticks": ""
            },
            "colorscale": [
             [
              0,
              "#0d0887"
             ],
             [
              0.1111111111111111,
              "#46039f"
             ],
             [
              0.2222222222222222,
              "#7201a8"
             ],
             [
              0.3333333333333333,
              "#9c179e"
             ],
             [
              0.4444444444444444,
              "#bd3786"
             ],
             [
              0.5555555555555556,
              "#d8576b"
             ],
             [
              0.6666666666666666,
              "#ed7953"
             ],
             [
              0.7777777777777778,
              "#fb9f3a"
             ],
             [
              0.8888888888888888,
              "#fdca26"
             ],
             [
              1,
              "#f0f921"
             ]
            ],
            "type": "histogram2d"
           }
          ],
          "histogram2dcontour": [
           {
            "colorbar": {
             "outlinewidth": 0,
             "ticks": ""
            },
            "colorscale": [
             [
              0,
              "#0d0887"
             ],
             [
              0.1111111111111111,
              "#46039f"
             ],
             [
              0.2222222222222222,
              "#7201a8"
             ],
             [
              0.3333333333333333,
              "#9c179e"
             ],
             [
              0.4444444444444444,
              "#bd3786"
             ],
             [
              0.5555555555555556,
              "#d8576b"
             ],
             [
              0.6666666666666666,
              "#ed7953"
             ],
             [
              0.7777777777777778,
              "#fb9f3a"
             ],
             [
              0.8888888888888888,
              "#fdca26"
             ],
             [
              1,
              "#f0f921"
             ]
            ],
            "type": "histogram2dcontour"
           }
          ],
          "mesh3d": [
           {
            "colorbar": {
             "outlinewidth": 0,
             "ticks": ""
            },
            "type": "mesh3d"
           }
          ],
          "parcoords": [
           {
            "line": {
             "colorbar": {
              "outlinewidth": 0,
              "ticks": ""
             }
            },
            "type": "parcoords"
           }
          ],
          "pie": [
           {
            "automargin": true,
            "type": "pie"
           }
          ],
          "scatter": [
           {
            "fillpattern": {
             "fillmode": "overlay",
             "size": 10,
             "solidity": 0.2
            },
            "type": "scatter"
           }
          ],
          "scatter3d": [
           {
            "line": {
             "colorbar": {
              "outlinewidth": 0,
              "ticks": ""
             }
            },
            "marker": {
             "colorbar": {
              "outlinewidth": 0,
              "ticks": ""
             }
            },
            "type": "scatter3d"
           }
          ],
          "scattercarpet": [
           {
            "marker": {
             "colorbar": {
              "outlinewidth": 0,
              "ticks": ""
             }
            },
            "type": "scattercarpet"
           }
          ],
          "scattergeo": [
           {
            "marker": {
             "colorbar": {
              "outlinewidth": 0,
              "ticks": ""
             }
            },
            "type": "scattergeo"
           }
          ],
          "scattergl": [
           {
            "marker": {
             "colorbar": {
              "outlinewidth": 0,
              "ticks": ""
             }
            },
            "type": "scattergl"
           }
          ],
          "scattermapbox": [
           {
            "marker": {
             "colorbar": {
              "outlinewidth": 0,
              "ticks": ""
             }
            },
            "type": "scattermapbox"
           }
          ],
          "scatterpolar": [
           {
            "marker": {
             "colorbar": {
              "outlinewidth": 0,
              "ticks": ""
             }
            },
            "type": "scatterpolar"
           }
          ],
          "scatterpolargl": [
           {
            "marker": {
             "colorbar": {
              "outlinewidth": 0,
              "ticks": ""
             }
            },
            "type": "scatterpolargl"
           }
          ],
          "scatterternary": [
           {
            "marker": {
             "colorbar": {
              "outlinewidth": 0,
              "ticks": ""
             }
            },
            "type": "scatterternary"
           }
          ],
          "surface": [
           {
            "colorbar": {
             "outlinewidth": 0,
             "ticks": ""
            },
            "colorscale": [
             [
              0,
              "#0d0887"
             ],
             [
              0.1111111111111111,
              "#46039f"
             ],
             [
              0.2222222222222222,
              "#7201a8"
             ],
             [
              0.3333333333333333,
              "#9c179e"
             ],
             [
              0.4444444444444444,
              "#bd3786"
             ],
             [
              0.5555555555555556,
              "#d8576b"
             ],
             [
              0.6666666666666666,
              "#ed7953"
             ],
             [
              0.7777777777777778,
              "#fb9f3a"
             ],
             [
              0.8888888888888888,
              "#fdca26"
             ],
             [
              1,
              "#f0f921"
             ]
            ],
            "type": "surface"
           }
          ],
          "table": [
           {
            "cells": {
             "fill": {
              "color": "#EBF0F8"
             },
             "line": {
              "color": "white"
             }
            },
            "header": {
             "fill": {
              "color": "#C8D4E3"
             },
             "line": {
              "color": "white"
             }
            },
            "type": "table"
           }
          ]
         },
         "layout": {
          "annotationdefaults": {
           "arrowcolor": "#2a3f5f",
           "arrowhead": 0,
           "arrowwidth": 1
          },
          "autotypenumbers": "strict",
          "coloraxis": {
           "colorbar": {
            "outlinewidth": 0,
            "ticks": ""
           }
          },
          "colorscale": {
           "diverging": [
            [
             0,
             "#8e0152"
            ],
            [
             0.1,
             "#c51b7d"
            ],
            [
             0.2,
             "#de77ae"
            ],
            [
             0.3,
             "#f1b6da"
            ],
            [
             0.4,
             "#fde0ef"
            ],
            [
             0.5,
             "#f7f7f7"
            ],
            [
             0.6,
             "#e6f5d0"
            ],
            [
             0.7,
             "#b8e186"
            ],
            [
             0.8,
             "#7fbc41"
            ],
            [
             0.9,
             "#4d9221"
            ],
            [
             1,
             "#276419"
            ]
           ],
           "sequential": [
            [
             0,
             "#0d0887"
            ],
            [
             0.1111111111111111,
             "#46039f"
            ],
            [
             0.2222222222222222,
             "#7201a8"
            ],
            [
             0.3333333333333333,
             "#9c179e"
            ],
            [
             0.4444444444444444,
             "#bd3786"
            ],
            [
             0.5555555555555556,
             "#d8576b"
            ],
            [
             0.6666666666666666,
             "#ed7953"
            ],
            [
             0.7777777777777778,
             "#fb9f3a"
            ],
            [
             0.8888888888888888,
             "#fdca26"
            ],
            [
             1,
             "#f0f921"
            ]
           ],
           "sequentialminus": [
            [
             0,
             "#0d0887"
            ],
            [
             0.1111111111111111,
             "#46039f"
            ],
            [
             0.2222222222222222,
             "#7201a8"
            ],
            [
             0.3333333333333333,
             "#9c179e"
            ],
            [
             0.4444444444444444,
             "#bd3786"
            ],
            [
             0.5555555555555556,
             "#d8576b"
            ],
            [
             0.6666666666666666,
             "#ed7953"
            ],
            [
             0.7777777777777778,
             "#fb9f3a"
            ],
            [
             0.8888888888888888,
             "#fdca26"
            ],
            [
             1,
             "#f0f921"
            ]
           ]
          },
          "colorway": [
           "#636efa",
           "#EF553B",
           "#00cc96",
           "#ab63fa",
           "#FFA15A",
           "#19d3f3",
           "#FF6692",
           "#B6E880",
           "#FF97FF",
           "#FECB52"
          ],
          "font": {
           "color": "#2a3f5f"
          },
          "geo": {
           "bgcolor": "white",
           "lakecolor": "white",
           "landcolor": "#E5ECF6",
           "showlakes": true,
           "showland": true,
           "subunitcolor": "white"
          },
          "hoverlabel": {
           "align": "left"
          },
          "hovermode": "closest",
          "mapbox": {
           "style": "light"
          },
          "paper_bgcolor": "white",
          "plot_bgcolor": "#E5ECF6",
          "polar": {
           "angularaxis": {
            "gridcolor": "white",
            "linecolor": "white",
            "ticks": ""
           },
           "bgcolor": "#E5ECF6",
           "radialaxis": {
            "gridcolor": "white",
            "linecolor": "white",
            "ticks": ""
           }
          },
          "scene": {
           "xaxis": {
            "backgroundcolor": "#E5ECF6",
            "gridcolor": "white",
            "gridwidth": 2,
            "linecolor": "white",
            "showbackground": true,
            "ticks": "",
            "zerolinecolor": "white"
           },
           "yaxis": {
            "backgroundcolor": "#E5ECF6",
            "gridcolor": "white",
            "gridwidth": 2,
            "linecolor": "white",
            "showbackground": true,
            "ticks": "",
            "zerolinecolor": "white"
           },
           "zaxis": {
            "backgroundcolor": "#E5ECF6",
            "gridcolor": "white",
            "gridwidth": 2,
            "linecolor": "white",
            "showbackground": true,
            "ticks": "",
            "zerolinecolor": "white"
           }
          },
          "shapedefaults": {
           "line": {
            "color": "#2a3f5f"
           }
          },
          "ternary": {
           "aaxis": {
            "gridcolor": "white",
            "linecolor": "white",
            "ticks": ""
           },
           "baxis": {
            "gridcolor": "white",
            "linecolor": "white",
            "ticks": ""
           },
           "bgcolor": "#E5ECF6",
           "caxis": {
            "gridcolor": "white",
            "linecolor": "white",
            "ticks": ""
           }
          },
          "title": {
           "x": 0.05
          },
          "xaxis": {
           "automargin": true,
           "gridcolor": "white",
           "linecolor": "white",
           "ticks": "",
           "title": {
            "standoff": 15
           },
           "zerolinecolor": "white",
           "zerolinewidth": 2
          },
          "yaxis": {
           "automargin": true,
           "gridcolor": "white",
           "linecolor": "white",
           "ticks": "",
           "title": {
            "standoff": 15
           },
           "zerolinecolor": "white",
           "zerolinewidth": 2
          }
         }
        },
        "title": {
         "text": "Humidity vs Power Consumption"
        },
        "width": 800,
        "xaxis": {
         "anchor": "y",
         "domain": [
          0,
          1
         ],
         "title": {
          "text": "Humidity"
         }
        },
        "yaxis": {
         "anchor": "x",
         "domain": [
          0,
          1
         ],
         "title": {
          "text": "value"
         }
        }
       }
      }
     },
     "metadata": {},
     "output_type": "display_data"
    }
   ],
   "source": [
    "# Scatterplot of Power consumption vs Humidity\n",
    "px.scatter(dfd_sel, x='Humidity', y=zones, \n",
    "            hover_data={'Humidity':':.2f', 'value':':.2f'},\n",
    "            width=800, title='Humidity vs Power Consumption')"
   ]
  },
  {
   "cell_type": "code",
   "execution_count": 13,
   "metadata": {},
   "outputs": [
    {
     "data": {
      "application/vnd.plotly.v1+json": {
       "config": {
        "plotlyServerURL": "https://plot.ly"
       },
       "data": [
        {
         "hovertemplate": "variable=Zone1<br>Wind Speed=%{x:.2f}<br>value=%{y:.2f}<extra></extra>",
         "legendgroup": "Zone1",
         "marker": {
          "color": "#636efa",
          "symbol": "circle"
         },
         "mode": "markers",
         "name": "Zone1",
         "orientation": "v",
         "showlegend": true,
         "type": "scatter",
         "x": [
          0.31514583333333335,
          0.0765625,
          0.07671527777777779,
          0.08241666666666667,
          0.08389583333333334,
          0.1459513888888889,
          0.08293055555555556,
          0.08130555555555556,
          0.0741736111111111,
          0.07829166666666666,
          0.08498611111111111,
          0.07680555555555556,
          0.07468055555555556,
          0.08289583333333334,
          0.08275694444444444,
          0.08178472222222223,
          0.08415972222222222,
          0.08309027777777778,
          0.0843125,
          0.8279861111111111,
          0.33011111111111113,
          0.08417361111111112,
          0.08452083333333332,
          0.08524999999999999,
          0.9647916666666667,
          0.08495833333333333,
          0.08701388888888889,
          2.8145416666666665,
          4.917513888888888,
          4.915354166666667,
          4.916673611111111
         ],
         "xaxis": "x",
         "y": [
          28465.232067083332,
          28869.493670625,
          30562.447257291667,
          30689.831223611112,
          30802.911392847225,
          30712.236287083335,
          30612.70042166667,
          29559.915611944445,
          30540.253164583333,
          31863.291138333334,
          31057.763713194447,
          32075.94936736111,
          31476.075949375,
          30834.683544375002,
          26771.5189875,
          30587.257384166664,
          31831.64557,
          32860.50632868055,
          32140.210970208333,
          31783.164557291668,
          31928.016877708335,
          30921.687763402777,
          32505.400843333337,
          31583.24894527778,
          32303.670886249998,
          32694.641350416667,
          32296.751054166667,
          31298.227847986112,
          29260.590717638886,
          31524.008438819445,
          31593.966244652776
         ],
         "yaxis": "y"
        },
        {
         "hovertemplate": "variable=Zone3<br>Wind Speed=%{x:.2f}<br>value=%{y:.2f}<extra></extra>",
         "legendgroup": "Zone3",
         "marker": {
          "color": "#EF553B",
          "symbol": "circle"
         },
         "mode": "markers",
         "name": "Zone3",
         "orientation": "v",
         "showlegend": true,
         "type": "scatter",
         "x": [
          0.31514583333333335,
          0.0765625,
          0.07671527777777779,
          0.08241666666666667,
          0.08389583333333334,
          0.1459513888888889,
          0.08293055555555556,
          0.08130555555555556,
          0.0741736111111111,
          0.07829166666666666,
          0.08498611111111111,
          0.07680555555555556,
          0.07468055555555556,
          0.08289583333333334,
          0.08275694444444444,
          0.08178472222222223,
          0.08415972222222222,
          0.08309027777777778,
          0.0843125,
          0.8279861111111111,
          0.33011111111111113,
          0.08417361111111112,
          0.08452083333333332,
          0.08524999999999999,
          0.9647916666666667,
          0.08495833333333333,
          0.08701388888888889,
          2.8145416666666665,
          4.917513888888888,
          4.915354166666667,
          4.916673611111111
         ],
         "xaxis": "x",
         "y": [
          17868.795180625002,
          17820.763052708335,
          17620.803212916668,
          17673.694778680554,
          17664.17670701389,
          17481.084337430555,
          17985.943774791667,
          17810.60240951389,
          17417.79116465278,
          17425.341365555556,
          17307.590361249997,
          17507.389558402778,
          17051.686747083335,
          17716.144578194442,
          17620.04016076389,
          17505.943775069445,
          17854.979919583333,
          18573.493975972222,
          18239.919678749997,
          17631.566265347225,
          18346.10441777778,
          17849.23694763889,
          18078.87550222222,
          17995.220883888887,
          17658.955823194447,
          18061.20481923611,
          17724.016064444444,
          17792.891566319442,
          17504.698794930555,
          17577.991967569444,
          17762.00803215278
         ],
         "yaxis": "y"
        }
       ],
       "layout": {
        "legend": {
         "title": {
          "text": "variable"
         },
         "tracegroupgap": 0
        },
        "template": {
         "data": {
          "bar": [
           {
            "error_x": {
             "color": "#2a3f5f"
            },
            "error_y": {
             "color": "#2a3f5f"
            },
            "marker": {
             "line": {
              "color": "#E5ECF6",
              "width": 0.5
             },
             "pattern": {
              "fillmode": "overlay",
              "size": 10,
              "solidity": 0.2
             }
            },
            "type": "bar"
           }
          ],
          "barpolar": [
           {
            "marker": {
             "line": {
              "color": "#E5ECF6",
              "width": 0.5
             },
             "pattern": {
              "fillmode": "overlay",
              "size": 10,
              "solidity": 0.2
             }
            },
            "type": "barpolar"
           }
          ],
          "carpet": [
           {
            "aaxis": {
             "endlinecolor": "#2a3f5f",
             "gridcolor": "white",
             "linecolor": "white",
             "minorgridcolor": "white",
             "startlinecolor": "#2a3f5f"
            },
            "baxis": {
             "endlinecolor": "#2a3f5f",
             "gridcolor": "white",
             "linecolor": "white",
             "minorgridcolor": "white",
             "startlinecolor": "#2a3f5f"
            },
            "type": "carpet"
           }
          ],
          "choropleth": [
           {
            "colorbar": {
             "outlinewidth": 0,
             "ticks": ""
            },
            "type": "choropleth"
           }
          ],
          "contour": [
           {
            "colorbar": {
             "outlinewidth": 0,
             "ticks": ""
            },
            "colorscale": [
             [
              0,
              "#0d0887"
             ],
             [
              0.1111111111111111,
              "#46039f"
             ],
             [
              0.2222222222222222,
              "#7201a8"
             ],
             [
              0.3333333333333333,
              "#9c179e"
             ],
             [
              0.4444444444444444,
              "#bd3786"
             ],
             [
              0.5555555555555556,
              "#d8576b"
             ],
             [
              0.6666666666666666,
              "#ed7953"
             ],
             [
              0.7777777777777778,
              "#fb9f3a"
             ],
             [
              0.8888888888888888,
              "#fdca26"
             ],
             [
              1,
              "#f0f921"
             ]
            ],
            "type": "contour"
           }
          ],
          "contourcarpet": [
           {
            "colorbar": {
             "outlinewidth": 0,
             "ticks": ""
            },
            "type": "contourcarpet"
           }
          ],
          "heatmap": [
           {
            "colorbar": {
             "outlinewidth": 0,
             "ticks": ""
            },
            "colorscale": [
             [
              0,
              "#0d0887"
             ],
             [
              0.1111111111111111,
              "#46039f"
             ],
             [
              0.2222222222222222,
              "#7201a8"
             ],
             [
              0.3333333333333333,
              "#9c179e"
             ],
             [
              0.4444444444444444,
              "#bd3786"
             ],
             [
              0.5555555555555556,
              "#d8576b"
             ],
             [
              0.6666666666666666,
              "#ed7953"
             ],
             [
              0.7777777777777778,
              "#fb9f3a"
             ],
             [
              0.8888888888888888,
              "#fdca26"
             ],
             [
              1,
              "#f0f921"
             ]
            ],
            "type": "heatmap"
           }
          ],
          "heatmapgl": [
           {
            "colorbar": {
             "outlinewidth": 0,
             "ticks": ""
            },
            "colorscale": [
             [
              0,
              "#0d0887"
             ],
             [
              0.1111111111111111,
              "#46039f"
             ],
             [
              0.2222222222222222,
              "#7201a8"
             ],
             [
              0.3333333333333333,
              "#9c179e"
             ],
             [
              0.4444444444444444,
              "#bd3786"
             ],
             [
              0.5555555555555556,
              "#d8576b"
             ],
             [
              0.6666666666666666,
              "#ed7953"
             ],
             [
              0.7777777777777778,
              "#fb9f3a"
             ],
             [
              0.8888888888888888,
              "#fdca26"
             ],
             [
              1,
              "#f0f921"
             ]
            ],
            "type": "heatmapgl"
           }
          ],
          "histogram": [
           {
            "marker": {
             "pattern": {
              "fillmode": "overlay",
              "size": 10,
              "solidity": 0.2
             }
            },
            "type": "histogram"
           }
          ],
          "histogram2d": [
           {
            "colorbar": {
             "outlinewidth": 0,
             "ticks": ""
            },
            "colorscale": [
             [
              0,
              "#0d0887"
             ],
             [
              0.1111111111111111,
              "#46039f"
             ],
             [
              0.2222222222222222,
              "#7201a8"
             ],
             [
              0.3333333333333333,
              "#9c179e"
             ],
             [
              0.4444444444444444,
              "#bd3786"
             ],
             [
              0.5555555555555556,
              "#d8576b"
             ],
             [
              0.6666666666666666,
              "#ed7953"
             ],
             [
              0.7777777777777778,
              "#fb9f3a"
             ],
             [
              0.8888888888888888,
              "#fdca26"
             ],
             [
              1,
              "#f0f921"
             ]
            ],
            "type": "histogram2d"
           }
          ],
          "histogram2dcontour": [
           {
            "colorbar": {
             "outlinewidth": 0,
             "ticks": ""
            },
            "colorscale": [
             [
              0,
              "#0d0887"
             ],
             [
              0.1111111111111111,
              "#46039f"
             ],
             [
              0.2222222222222222,
              "#7201a8"
             ],
             [
              0.3333333333333333,
              "#9c179e"
             ],
             [
              0.4444444444444444,
              "#bd3786"
             ],
             [
              0.5555555555555556,
              "#d8576b"
             ],
             [
              0.6666666666666666,
              "#ed7953"
             ],
             [
              0.7777777777777778,
              "#fb9f3a"
             ],
             [
              0.8888888888888888,
              "#fdca26"
             ],
             [
              1,
              "#f0f921"
             ]
            ],
            "type": "histogram2dcontour"
           }
          ],
          "mesh3d": [
           {
            "colorbar": {
             "outlinewidth": 0,
             "ticks": ""
            },
            "type": "mesh3d"
           }
          ],
          "parcoords": [
           {
            "line": {
             "colorbar": {
              "outlinewidth": 0,
              "ticks": ""
             }
            },
            "type": "parcoords"
           }
          ],
          "pie": [
           {
            "automargin": true,
            "type": "pie"
           }
          ],
          "scatter": [
           {
            "fillpattern": {
             "fillmode": "overlay",
             "size": 10,
             "solidity": 0.2
            },
            "type": "scatter"
           }
          ],
          "scatter3d": [
           {
            "line": {
             "colorbar": {
              "outlinewidth": 0,
              "ticks": ""
             }
            },
            "marker": {
             "colorbar": {
              "outlinewidth": 0,
              "ticks": ""
             }
            },
            "type": "scatter3d"
           }
          ],
          "scattercarpet": [
           {
            "marker": {
             "colorbar": {
              "outlinewidth": 0,
              "ticks": ""
             }
            },
            "type": "scattercarpet"
           }
          ],
          "scattergeo": [
           {
            "marker": {
             "colorbar": {
              "outlinewidth": 0,
              "ticks": ""
             }
            },
            "type": "scattergeo"
           }
          ],
          "scattergl": [
           {
            "marker": {
             "colorbar": {
              "outlinewidth": 0,
              "ticks": ""
             }
            },
            "type": "scattergl"
           }
          ],
          "scattermapbox": [
           {
            "marker": {
             "colorbar": {
              "outlinewidth": 0,
              "ticks": ""
             }
            },
            "type": "scattermapbox"
           }
          ],
          "scatterpolar": [
           {
            "marker": {
             "colorbar": {
              "outlinewidth": 0,
              "ticks": ""
             }
            },
            "type": "scatterpolar"
           }
          ],
          "scatterpolargl": [
           {
            "marker": {
             "colorbar": {
              "outlinewidth": 0,
              "ticks": ""
             }
            },
            "type": "scatterpolargl"
           }
          ],
          "scatterternary": [
           {
            "marker": {
             "colorbar": {
              "outlinewidth": 0,
              "ticks": ""
             }
            },
            "type": "scatterternary"
           }
          ],
          "surface": [
           {
            "colorbar": {
             "outlinewidth": 0,
             "ticks": ""
            },
            "colorscale": [
             [
              0,
              "#0d0887"
             ],
             [
              0.1111111111111111,
              "#46039f"
             ],
             [
              0.2222222222222222,
              "#7201a8"
             ],
             [
              0.3333333333333333,
              "#9c179e"
             ],
             [
              0.4444444444444444,
              "#bd3786"
             ],
             [
              0.5555555555555556,
              "#d8576b"
             ],
             [
              0.6666666666666666,
              "#ed7953"
             ],
             [
              0.7777777777777778,
              "#fb9f3a"
             ],
             [
              0.8888888888888888,
              "#fdca26"
             ],
             [
              1,
              "#f0f921"
             ]
            ],
            "type": "surface"
           }
          ],
          "table": [
           {
            "cells": {
             "fill": {
              "color": "#EBF0F8"
             },
             "line": {
              "color": "white"
             }
            },
            "header": {
             "fill": {
              "color": "#C8D4E3"
             },
             "line": {
              "color": "white"
             }
            },
            "type": "table"
           }
          ]
         },
         "layout": {
          "annotationdefaults": {
           "arrowcolor": "#2a3f5f",
           "arrowhead": 0,
           "arrowwidth": 1
          },
          "autotypenumbers": "strict",
          "coloraxis": {
           "colorbar": {
            "outlinewidth": 0,
            "ticks": ""
           }
          },
          "colorscale": {
           "diverging": [
            [
             0,
             "#8e0152"
            ],
            [
             0.1,
             "#c51b7d"
            ],
            [
             0.2,
             "#de77ae"
            ],
            [
             0.3,
             "#f1b6da"
            ],
            [
             0.4,
             "#fde0ef"
            ],
            [
             0.5,
             "#f7f7f7"
            ],
            [
             0.6,
             "#e6f5d0"
            ],
            [
             0.7,
             "#b8e186"
            ],
            [
             0.8,
             "#7fbc41"
            ],
            [
             0.9,
             "#4d9221"
            ],
            [
             1,
             "#276419"
            ]
           ],
           "sequential": [
            [
             0,
             "#0d0887"
            ],
            [
             0.1111111111111111,
             "#46039f"
            ],
            [
             0.2222222222222222,
             "#7201a8"
            ],
            [
             0.3333333333333333,
             "#9c179e"
            ],
            [
             0.4444444444444444,
             "#bd3786"
            ],
            [
             0.5555555555555556,
             "#d8576b"
            ],
            [
             0.6666666666666666,
             "#ed7953"
            ],
            [
             0.7777777777777778,
             "#fb9f3a"
            ],
            [
             0.8888888888888888,
             "#fdca26"
            ],
            [
             1,
             "#f0f921"
            ]
           ],
           "sequentialminus": [
            [
             0,
             "#0d0887"
            ],
            [
             0.1111111111111111,
             "#46039f"
            ],
            [
             0.2222222222222222,
             "#7201a8"
            ],
            [
             0.3333333333333333,
             "#9c179e"
            ],
            [
             0.4444444444444444,
             "#bd3786"
            ],
            [
             0.5555555555555556,
             "#d8576b"
            ],
            [
             0.6666666666666666,
             "#ed7953"
            ],
            [
             0.7777777777777778,
             "#fb9f3a"
            ],
            [
             0.8888888888888888,
             "#fdca26"
            ],
            [
             1,
             "#f0f921"
            ]
           ]
          },
          "colorway": [
           "#636efa",
           "#EF553B",
           "#00cc96",
           "#ab63fa",
           "#FFA15A",
           "#19d3f3",
           "#FF6692",
           "#B6E880",
           "#FF97FF",
           "#FECB52"
          ],
          "font": {
           "color": "#2a3f5f"
          },
          "geo": {
           "bgcolor": "white",
           "lakecolor": "white",
           "landcolor": "#E5ECF6",
           "showlakes": true,
           "showland": true,
           "subunitcolor": "white"
          },
          "hoverlabel": {
           "align": "left"
          },
          "hovermode": "closest",
          "mapbox": {
           "style": "light"
          },
          "paper_bgcolor": "white",
          "plot_bgcolor": "#E5ECF6",
          "polar": {
           "angularaxis": {
            "gridcolor": "white",
            "linecolor": "white",
            "ticks": ""
           },
           "bgcolor": "#E5ECF6",
           "radialaxis": {
            "gridcolor": "white",
            "linecolor": "white",
            "ticks": ""
           }
          },
          "scene": {
           "xaxis": {
            "backgroundcolor": "#E5ECF6",
            "gridcolor": "white",
            "gridwidth": 2,
            "linecolor": "white",
            "showbackground": true,
            "ticks": "",
            "zerolinecolor": "white"
           },
           "yaxis": {
            "backgroundcolor": "#E5ECF6",
            "gridcolor": "white",
            "gridwidth": 2,
            "linecolor": "white",
            "showbackground": true,
            "ticks": "",
            "zerolinecolor": "white"
           },
           "zaxis": {
            "backgroundcolor": "#E5ECF6",
            "gridcolor": "white",
            "gridwidth": 2,
            "linecolor": "white",
            "showbackground": true,
            "ticks": "",
            "zerolinecolor": "white"
           }
          },
          "shapedefaults": {
           "line": {
            "color": "#2a3f5f"
           }
          },
          "ternary": {
           "aaxis": {
            "gridcolor": "white",
            "linecolor": "white",
            "ticks": ""
           },
           "baxis": {
            "gridcolor": "white",
            "linecolor": "white",
            "ticks": ""
           },
           "bgcolor": "#E5ECF6",
           "caxis": {
            "gridcolor": "white",
            "linecolor": "white",
            "ticks": ""
           }
          },
          "title": {
           "x": 0.05
          },
          "xaxis": {
           "automargin": true,
           "gridcolor": "white",
           "linecolor": "white",
           "ticks": "",
           "title": {
            "standoff": 15
           },
           "zerolinecolor": "white",
           "zerolinewidth": 2
          },
          "yaxis": {
           "automargin": true,
           "gridcolor": "white",
           "linecolor": "white",
           "ticks": "",
           "title": {
            "standoff": 15
           },
           "zerolinecolor": "white",
           "zerolinewidth": 2
          }
         }
        },
        "title": {
         "text": "Wind Speed vs Power Consumption"
        },
        "width": 800,
        "xaxis": {
         "anchor": "y",
         "domain": [
          0,
          1
         ],
         "title": {
          "text": "Wind Speed"
         }
        },
        "yaxis": {
         "anchor": "x",
         "domain": [
          0,
          1
         ],
         "title": {
          "text": "value"
         }
        }
       }
      }
     },
     "metadata": {},
     "output_type": "display_data"
    }
   ],
   "source": [
    "# Scatterplot of Power consumption vs Wind Speed\n",
    "px.scatter(dfd_sel, x='Wind Speed', y=zones, \n",
    "            hover_data={'Wind Speed':':.2f', 'value':':.2f'},\n",
    "            width=800, title='Wind Speed vs Power Consumption')"
   ]
  },
  {
   "cell_type": "markdown",
   "metadata": {},
   "source": [
    "## 2. Building the layout"
   ]
  },
  {
   "cell_type": "code",
   "execution_count": 14,
   "metadata": {},
   "outputs": [],
   "source": [
    "# Creating the JupyterDash app\n",
    "app = JupyterDash()"
   ]
  },
  {
   "cell_type": "code",
   "execution_count": 15,
   "metadata": {},
   "outputs": [
    {
     "data": {
      "text/plain": [
       "H1('Power consumption in Tetouan, 2017')"
      ]
     },
     "execution_count": 15,
     "metadata": {},
     "output_type": "execute_result"
    }
   ],
   "source": [
    "# Defining the title\n",
    "html.H1('Power consumption in Tetouan, 2017')"
   ]
  },
  {
   "cell_type": "code",
   "execution_count": 16,
   "metadata": {},
   "outputs": [
    {
     "data": {
      "text/plain": [
       "Div(children=H1('Power consumption in Tetouan, 2017'), style={'text-align': 'center', 'color': 'grey'})"
      ]
     },
     "execution_count": 16,
     "metadata": {},
     "output_type": "execute_result"
    }
   ],
   "source": [
    "# Adding some style to the title\n",
    "html.Div(html.H1('Power consumption in Tetouan, 2017'), \n",
    "            style={'text-align': 'center', 'color':'grey'})"
   ]
  },
  {
   "cell_type": "code",
   "execution_count": 17,
   "metadata": {},
   "outputs": [
    {
     "data": {
      "text/plain": [
       "(Checklist(options={'Zone1': ' Zone 1 ', 'Zone2': ' Zone 2 ', 'Zone3': ' Zone 3 '}, value=['Zone1', 'Zone2', 'Zone3'], id='zone-check'),)"
      ]
     },
     "execution_count": 17,
     "metadata": {},
     "output_type": "execute_result"
    }
   ],
   "source": [
    "# Defining a checklist to select the zones\n",
    "dcc.Checklist(id='zone-check',\n",
    "            options={\n",
    "                'Zone1': ' Zone 1 ',\n",
    "                'Zone2': ' Zone 2 ',\n",
    "                'Zone3': ' Zone 3 ',                \n",
    "            }, \n",
    "            value=['Zone1', 'Zone2', 'Zone3'],\n",
    "        ), # end of checklist"
   ]
  },
  {
   "cell_type": "code",
   "execution_count": 18,
   "metadata": {},
   "outputs": [
    {
     "data": {
      "text/plain": [
       "(Slider(min=1, max=12, step=1, marks={1: 'Jan', 2: 'Feb', 3: 'Mar', 4: 'Apr', 5: 'May', 6: 'Jun', 7: 'Jul', 8: 'Aug', 9: 'Sep', 10: 'Oct', 11: 'Nov', 12: 'Dec'}, value=1, included=False, tooltip={'placement': 'top', 'always_visible': True}, id='month-slider'),)"
      ]
     },
     "execution_count": 18,
     "metadata": {},
     "output_type": "execute_result"
    }
   ],
   "source": [
    "# Defining a slider to select a month\n",
    "dcc.Slider(1, 12, 1, value=1,\n",
    "            id='month-slider',\n",
    "            marks={\n",
    "                1: 'Jan', \n",
    "                2: 'Feb', \n",
    "                3: 'Mar', \n",
    "                4: 'Apr', \n",
    "                5: 'May', \n",
    "                6: 'Jun', \n",
    "                7: 'Jul', \n",
    "                8: 'Aug', \n",
    "                9: 'Sep', \n",
    "                10: 'Oct', \n",
    "                11: 'Nov', \n",
    "                12: 'Dec'\n",
    "            },\n",
    "            included=False,\n",
    "            tooltip={\"placement\": \"top\", \"always_visible\": True}\n",
    "        ), # end of slider"
   ]
  },
  {
   "cell_type": "markdown",
   "metadata": {},
   "source": [
    "We want to place the `checklist` and the `slider` horizontally side by side. To do it, we add the `stile` option with `'width': '20%'` for the checklist, and `'width': '77%'` for the slider. For both we have to include `'display':'inline-block'`."
   ]
  },
  {
   "cell_type": "code",
   "execution_count": 19,
   "metadata": {},
   "outputs": [
    {
     "data": {
      "text/plain": [
       "(Checklist(options={'Zone1': ' Zone 1    ', 'Zone2': ' Zone 2    ', 'Zone3': ' Zone 3    '}, value=['Zone1', 'Zone2', 'Zone3'], style={'width': '20%', 'display': 'inline-block', 'horizontal-align': 'right'}, id='zone-check'),)"
      ]
     },
     "execution_count": 19,
     "metadata": {},
     "output_type": "execute_result"
    }
   ],
   "source": [
    "# Adding some style to the checklist\n",
    "dcc.Checklist(id='zone-check',\n",
    "    options={\n",
    "        'Zone1': ' Zone 1    ',\n",
    "        'Zone2': ' Zone 2    ',\n",
    "        'Zone3': ' Zone 3    ',                \n",
    "    }, \n",
    "    value=['Zone1', 'Zone2', 'Zone3'],\n",
    "    style={'width':'20%', 'display':'inline-block', 'horizontal-align':'right'}    \n",
    "), # end of checklist"
   ]
  },
  {
   "cell_type": "code",
   "execution_count": 20,
   "metadata": {},
   "outputs": [
    {
     "data": {
      "text/plain": [
       "(Div(children=[Slider(min=1, max=12, step=1, marks={1: 'Jan', 2: 'Feb', 3: 'Mar', 4: 'Apr', 5: 'May', 6: 'Jun', 7: 'Jul', 8: 'Aug', 9: 'Sep', 10: 'Oct', 11: 'Nov', 12: 'Dec'}, value=1, included=False, tooltip={'placement': 'top', 'always_visible': True}, id='month-slider')], style={'width': '77%', 'display': 'inline-block'}),)"
      ]
     },
     "execution_count": 20,
     "metadata": {},
     "output_type": "execute_result"
    }
   ],
   "source": [
    "# Adding some style to the slider\n",
    "html.Div([\n",
    "        dcc.Slider(1, 12, 1, value=1,\n",
    "            id='month-slider',\n",
    "            marks={\n",
    "                1: 'Jan', \n",
    "                2: 'Feb', \n",
    "                3: 'Mar', \n",
    "                4: 'Apr', \n",
    "                5: 'May', \n",
    "                6: 'Jun', \n",
    "                7: 'Jul', \n",
    "                8: 'Aug', \n",
    "                9: 'Sep', \n",
    "                10: 'Oct', \n",
    "                11: 'Nov', \n",
    "                12: 'Dec'\n",
    "            },\n",
    "            included=False,\n",
    "            tooltip={\"placement\": \"top\", \"always_visible\": True}\n",
    "        ), # end of slider\n",
    "    ], style={'width': '77%', 'display': 'inline-block'}), "
   ]
  },
  {
   "cell_type": "code",
   "execution_count": 21,
   "metadata": {},
   "outputs": [
    {
     "data": {
      "text/plain": [
       "(Hr(None),)"
      ]
     },
     "execution_count": 21,
     "metadata": {},
     "output_type": "execute_result"
    }
   ],
   "source": [
    "# defining an horizontal line\n",
    "html.Hr(),"
   ]
  },
  {
   "cell_type": "code",
   "execution_count": 22,
   "metadata": {},
   "outputs": [
    {
     "data": {
      "text/plain": [
       "Graph(id='fig-s1')"
      ]
     },
     "execution_count": 22,
     "metadata": {},
     "output_type": "execute_result"
    }
   ],
   "source": [
    "# Defining the scatterplot of Power consumption vs Temperature\n",
    "dcc.Graph(id='fig-s1')"
   ]
  },
  {
   "cell_type": "code",
   "execution_count": 23,
   "metadata": {},
   "outputs": [
    {
     "data": {
      "text/plain": [
       "Graph(id='fig-s2')"
      ]
     },
     "execution_count": 23,
     "metadata": {},
     "output_type": "execute_result"
    }
   ],
   "source": [
    "# Defining the scatterplot of Power consumption vs Humidity\n",
    "dcc.Graph(id='fig-s2')"
   ]
  },
  {
   "cell_type": "code",
   "execution_count": 24,
   "metadata": {},
   "outputs": [
    {
     "data": {
      "text/plain": [
       "Graph(id='fig-s3')"
      ]
     },
     "execution_count": 24,
     "metadata": {},
     "output_type": "execute_result"
    }
   ],
   "source": [
    "# scatterplot of Power consumption vs Wind Speed\n",
    "dcc.Graph(id='fig-s3')  "
   ]
  },
  {
   "cell_type": "code",
   "execution_count": 25,
   "metadata": {},
   "outputs": [
    {
     "data": {
      "text/plain": [
       "Graph(id='fig-s1', style={'width': '32%', 'display': 'inline-block'})"
      ]
     },
     "execution_count": 25,
     "metadata": {},
     "output_type": "execute_result"
    }
   ],
   "source": [
    "# Adding some style to the scatterplot\n",
    "dcc.Graph(id='fig-s1', style={'width': '32%', 'display': 'inline-block'})"
   ]
  },
  {
   "cell_type": "code",
   "execution_count": 26,
   "metadata": {},
   "outputs": [
    {
     "data": {
      "text/plain": [
       "Graph(id='fig-s2', style={'width': '32%', 'display': 'inline-block'})"
      ]
     },
     "execution_count": 26,
     "metadata": {},
     "output_type": "execute_result"
    }
   ],
   "source": [
    "# Defining the scatterplot of Power consumption vs Humidity\n",
    "dcc.Graph(id='fig-s2', style={'width': '32%', 'display': 'inline-block'})"
   ]
  },
  {
   "cell_type": "code",
   "execution_count": 27,
   "metadata": {},
   "outputs": [
    {
     "data": {
      "text/plain": [
       "Graph(id='fig-s3', style={'width': '32%', 'display': 'inline-block'})"
      ]
     },
     "execution_count": 27,
     "metadata": {},
     "output_type": "execute_result"
    }
   ],
   "source": [
    "# Defining the scatterplot of Power consumption vs Wind Speed\n",
    "dcc.Graph(id='fig-s3', style={'width': '32%', 'display': 'inline-block'})"
   ]
  },
  {
   "cell_type": "code",
   "execution_count": 28,
   "metadata": {},
   "outputs": [],
   "source": [
    "# Creating the layout\n",
    "app.layout = html.Div([\n",
    "    # title\n",
    "    html.Div(html.H1('Power consumption in Tetouan, 2017'), \n",
    "            style={'text-align': 'center', 'color':'grey'}),\n",
    "    # checklist        \n",
    "    dcc.Checklist(id='zone-check',\n",
    "        options={\n",
    "            'Zone1': ' Zone 1    ',\n",
    "            'Zone2': ' Zone 2    ',\n",
    "            'Zone3': ' Zone 3    ',                \n",
    "        }, \n",
    "        value=['Zone1', 'Zone2', 'Zone3'],\n",
    "        style={'width':'20%', 'display':'inline-block', 'horizontal-align':'right'}    \n",
    "    ), # end of checklist\n",
    "    # slider\n",
    "    html.Div([\n",
    "        dcc.Slider(1, 12, 1, value=1,\n",
    "            id='month-slider',\n",
    "            marks={\n",
    "                1: 'Jan', \n",
    "                2: 'Feb', \n",
    "                3: 'Mar', \n",
    "                4: 'Apr', \n",
    "                5: 'May', \n",
    "                6: 'Jun', \n",
    "                7: 'Jul', \n",
    "                8: 'Aug', \n",
    "                9: 'Sep', \n",
    "                10: 'Oct', \n",
    "                11: 'Nov', \n",
    "                12: 'Dec'\n",
    "            },\n",
    "            included=False,\n",
    "            tooltip={\"placement\": \"top\", \"always_visible\": True},\n",
    "        ), # end of slider\n",
    "    ], style={'width': '67%', 'display': 'inline-block'}),    \n",
    "    # horizontal line\n",
    "    html.Hr(),\n",
    "    # graphs\n",
    "    dcc.Graph(id='fig-s1', style={'width': '28%', 'display': 'inline-block'}),\n",
    "    dcc.Graph(id='fig-s2', style={'width': '28%', 'display': 'inline-block'}),\n",
    "    dcc.Graph(id='fig-s3', style={'width': '28%', 'display': 'inline-block'}),    \n",
    "])"
   ]
  },
  {
   "cell_type": "markdown",
   "metadata": {},
   "source": [
    "Notice we placed the scatterplots side by side: `style={'width': '32%', 'display': 'inline-block'}`"
   ]
  },
  {
   "cell_type": "markdown",
   "metadata": {},
   "source": [
    "## 3. Adding interactivity with callback functions"
   ]
  },
  {
   "cell_type": "code",
   "execution_count": 29,
   "metadata": {},
   "outputs": [],
   "source": [
    "# Set up the callback function\n",
    "@app.callback(\n",
    "    Output('fig-s1',  'figure'),\n",
    "    Output('fig-s2',  'figure'),\n",
    "    Output('fig-s3',  'figure'),\n",
    "    Input ('month-slider', 'value'),\n",
    "    Input ('zone-check',   'value'),\n",
    ")\n",
    "def update_graphs(sel_month, sel_zones):\n",
    "    # filtering the dataframe\n",
    "    dfd_sel = dfd[dfd['Month'] == sel_month]\n",
    "\n",
    "    # getting the zones to plot    \n",
    "    zones = [z for z in ['Zone1','Zone2','Zone3'] if z in sel_zones]\n",
    "    \n",
    "    # Temperature vs Power Consumption\n",
    "    fig_s1 = px.scatter(dfd_sel, x='Temperature', y=zones,\n",
    "                hover_data={'Temperature':':.2f', 'value':':.2f'},\n",
    "                title='<b> Temperature vs Power Consumption </b>')\n",
    "    \n",
    "    # Humidity vs Power Consumption\n",
    "    fig_s2 = px.scatter(dfd_sel, x='Humidity', y=zones,\n",
    "                hover_data={'Humidity':':.2f', 'value':':.2f'},\n",
    "                title='<b> Humidity vs Power Consumption </b>')\n",
    "    \n",
    "    # Wind Speed vs Power Consumption\n",
    "    fig_s3 = px.scatter(dfd_sel, x='Wind Speed', y=zones,\n",
    "                hover_data={'Wind Speed':':.2f', 'value':':.2f'},\n",
    "                title='<b> Wind Speed vs Power Consumption </b>')    \n",
    "        \n",
    "    return fig_s1, fig_s2, fig_s3"
   ]
  },
  {
   "cell_type": "markdown",
   "metadata": {},
   "source": [
    "Notice we have two inputs: \n",
    "- the checklist for the zones: `Input (component_id='zone-check',   component_property='value')` and \n",
    "- the slider for a month: `Input (component_id='month-slider', component_property='value')`\n",
    "\n",
    "and three outputs corresponding to the three scatterplots."
   ]
  },
  {
   "cell_type": "code",
   "execution_count": 30,
   "metadata": {},
   "outputs": [
    {
     "data": {
      "text/html": [
       "<div>\n",
       "<style scoped>\n",
       "    .dataframe tbody tr th:only-of-type {\n",
       "        vertical-align: middle;\n",
       "    }\n",
       "\n",
       "    .dataframe tbody tr th {\n",
       "        vertical-align: top;\n",
       "    }\n",
       "\n",
       "    .dataframe thead th {\n",
       "        text-align: right;\n",
       "    }\n",
       "</style>\n",
       "<table border=\"1\" class=\"dataframe\">\n",
       "  <thead>\n",
       "    <tr style=\"text-align: right;\">\n",
       "      <th></th>\n",
       "      <th>DateTime</th>\n",
       "      <th>Temperature</th>\n",
       "      <th>Humidity</th>\n",
       "      <th>Wind Speed</th>\n",
       "      <th>general diffuse flows</th>\n",
       "      <th>diffuse flows</th>\n",
       "      <th>Zone1</th>\n",
       "      <th>Zone2</th>\n",
       "      <th>Zone3</th>\n",
       "      <th>Month</th>\n",
       "    </tr>\n",
       "  </thead>\n",
       "  <tbody>\n",
       "    <tr>\n",
       "      <th>0</th>\n",
       "      <td>2017-01-01</td>\n",
       "      <td>9.675299</td>\n",
       "      <td>68.519306</td>\n",
       "      <td>0.315146</td>\n",
       "      <td>121.390771</td>\n",
       "      <td>25.993924</td>\n",
       "      <td>28465.232067</td>\n",
       "      <td>17737.791287</td>\n",
       "      <td>17868.795181</td>\n",
       "      <td>1</td>\n",
       "    </tr>\n",
       "    <tr>\n",
       "      <th>1</th>\n",
       "      <td>2017-01-02</td>\n",
       "      <td>12.476875</td>\n",
       "      <td>71.456319</td>\n",
       "      <td>0.076563</td>\n",
       "      <td>120.404486</td>\n",
       "      <td>27.227410</td>\n",
       "      <td>28869.493671</td>\n",
       "      <td>19557.725431</td>\n",
       "      <td>17820.763053</td>\n",
       "      <td>1</td>\n",
       "    </tr>\n",
       "    <tr>\n",
       "      <th>2</th>\n",
       "      <td>2017-01-03</td>\n",
       "      <td>12.100000</td>\n",
       "      <td>74.981667</td>\n",
       "      <td>0.076715</td>\n",
       "      <td>120.686014</td>\n",
       "      <td>28.574660</td>\n",
       "      <td>30562.447257</td>\n",
       "      <td>20057.269504</td>\n",
       "      <td>17620.803213</td>\n",
       "      <td>1</td>\n",
       "    </tr>\n",
       "    <tr>\n",
       "      <th>3</th>\n",
       "      <td>2017-01-04</td>\n",
       "      <td>10.509479</td>\n",
       "      <td>75.459792</td>\n",
       "      <td>0.082417</td>\n",
       "      <td>122.959319</td>\n",
       "      <td>28.827222</td>\n",
       "      <td>30689.831224</td>\n",
       "      <td>20102.077001</td>\n",
       "      <td>17673.694779</td>\n",
       "      <td>1</td>\n",
       "    </tr>\n",
       "    <tr>\n",
       "      <th>4</th>\n",
       "      <td>2017-01-05</td>\n",
       "      <td>10.866444</td>\n",
       "      <td>71.040486</td>\n",
       "      <td>0.083896</td>\n",
       "      <td>118.749861</td>\n",
       "      <td>29.741437</td>\n",
       "      <td>30802.911393</td>\n",
       "      <td>20033.941237</td>\n",
       "      <td>17664.176707</td>\n",
       "      <td>1</td>\n",
       "    </tr>\n",
       "  </tbody>\n",
       "</table>\n",
       "</div>"
      ],
      "text/plain": [
       "    DateTime  Temperature   Humidity  Wind Speed  general diffuse flows  \\\n",
       "0 2017-01-01     9.675299  68.519306    0.315146             121.390771   \n",
       "1 2017-01-02    12.476875  71.456319    0.076563             120.404486   \n",
       "2 2017-01-03    12.100000  74.981667    0.076715             120.686014   \n",
       "3 2017-01-04    10.509479  75.459792    0.082417             122.959319   \n",
       "4 2017-01-05    10.866444  71.040486    0.083896             118.749861   \n",
       "\n",
       "   diffuse flows         Zone1         Zone2         Zone3  Month  \n",
       "0      25.993924  28465.232067  17737.791287  17868.795181      1  \n",
       "1      27.227410  28869.493671  19557.725431  17820.763053      1  \n",
       "2      28.574660  30562.447257  20057.269504  17620.803213      1  \n",
       "3      28.827222  30689.831224  20102.077001  17673.694779      1  \n",
       "4      29.741437  30802.911393  20033.941237  17664.176707      1  "
      ]
     },
     "execution_count": 30,
     "metadata": {},
     "output_type": "execute_result"
    }
   ],
   "source": [
    "# filtering the dataframe for choosing a month\n",
    "sel_month = 1   # January\n",
    "dfd_sel = dfd[dfd['Month'] == sel_month]\n",
    "dfd_sel.head()"
   ]
  },
  {
   "cell_type": "code",
   "execution_count": 31,
   "metadata": {},
   "outputs": [
    {
     "data": {
      "text/plain": [
       "['Zone1', 'Zone3']"
      ]
     },
     "execution_count": 31,
     "metadata": {},
     "output_type": "execute_result"
    }
   ],
   "source": [
    "# getting the zones to plot    \n",
    "sel_zones = \"['Zone1','Zone3']\"\n",
    "zones = [z for z in ['Zone1','Zone2','Zone3'] if z in sel_zones]\n",
    "zones"
   ]
  },
  {
   "cell_type": "markdown",
   "metadata": {},
   "source": [
    "## 4. Running the dashboard"
   ]
  },
  {
   "cell_type": "code",
   "execution_count": 35,
   "metadata": {},
   "outputs": [
    {
     "data": {
      "text/html": [
       "\n",
       "        <iframe\n",
       "            width=\"100%\"\n",
       "            height=\"650\"\n",
       "            src=\"http://127.0.0.1:8051/\"\n",
       "            frameborder=\"0\"\n",
       "            allowfullscreen\n",
       "            \n",
       "        ></iframe>\n",
       "        "
      ],
      "text/plain": [
       "<IPython.lib.display.IFrame at 0x2a61ab2c190>"
      ]
     },
     "metadata": {},
     "output_type": "display_data"
    }
   ],
   "source": [
    "# Run app and display result inline in the notebook\n",
    "app.run_server(mode='inline', port=8051)"
   ]
  },
  {
   "cell_type": "markdown",
   "metadata": {},
   "source": [
    "The dashboard looks like this."
   ]
  },
  {
   "cell_type": "markdown",
   "metadata": {},
   "source": [
    "<img src=\"power-dash.gif\" align=\"center\">"
   ]
  },
  {
   "cell_type": "markdown",
   "metadata": {},
   "source": [
    "You can run the dashboard using the python file `power_dash.py`. \n",
    "\n",
    "You need to made some changes:\n",
    "- Use: `from dash import Dash` instead of `from jupyter_dash import JupyterDash`\n",
    "\n",
    "- Use `app = Dash()` instead of `app = JupyterDash()` \n",
    "\n",
    "- For running the dashboard use the code:"
   ]
  },
  {
   "cell_type": "code",
   "execution_count": null,
   "metadata": {},
   "outputs": [],
   "source": [
    "if __name__ == '__main__':\n",
    "    app.run_server(debug=True)"
   ]
  },
  {
   "cell_type": "markdown",
   "metadata": {},
   "source": [
    "instead of:"
   ]
  },
  {
   "cell_type": "code",
   "execution_count": null,
   "metadata": {},
   "outputs": [],
   "source": [
    "app.run_server(mode='inline', port=8051)"
   ]
  },
  {
   "cell_type": "markdown",
   "metadata": {},
   "source": [
    "For running the dashboard, you need to combine all the code snippets into one single Python script. You have this code in the file: `power_dash.py`. You need to run it locally using the command: `python power_dash.py`\n",
    "\n",
    "Remember Dash creates web applications. The `URL http://127.0.0.1:8050/` is the default address to access the app. You can go to it and see your first Python interactive dashboard opening in your browser!\n",
    "\n",
    "Good Luck!!"
   ]
  },
  {
   "cell_type": "markdown",
   "metadata": {},
   "source": [
    "## References"
   ]
  },
  {
   "cell_type": "markdown",
   "metadata": {},
   "source": [
    "- https://dash.plotly.com/dash-core-components/checklist\n",
    "- https://dash.plotly.com/dash-core-components/slider\n",
    "- https://dash.plotly.com/layout\n",
    "- https://dash.plotly.com/basic-callbacks\n",
    "- Salam, A., & El Hibaoui, A. (2018) \"Comparison of Machine Learning Algorithms for the Power Consumption Prediction: -Case Study of Tetouan city\". In 2018 6th International Renewable and Sustainable Energy Conference (IRSEC) (pp. 1-5)"
   ]
  }
 ],
 "metadata": {
  "kernelspec": {
   "display_name": "Python 3.10.5 64-bit (windows store)",
   "language": "python",
   "name": "python3"
  },
  "language_info": {
   "codemirror_mode": {
    "name": "ipython",
    "version": 3
   },
   "file_extension": ".py",
   "mimetype": "text/x-python",
   "name": "python",
   "nbconvert_exporter": "python",
   "pygments_lexer": "ipython3",
   "version": "3.10.6"
  },
  "orig_nbformat": 4,
  "vscode": {
   "interpreter": {
    "hash": "f6ce50080babb3e2c9dded3d344b1d82a47cf5d6f13f4c2ab5a2113adb8feaef"
   }
  }
 },
 "nbformat": 4,
 "nbformat_minor": 2
}
